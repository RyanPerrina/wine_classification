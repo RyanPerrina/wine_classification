{
  "nbformat": 4,
  "nbformat_minor": 0,
  "metadata": {
    "colab": {
      "name": "Untitled1.ipynb",
      "provenance": [],
      "collapsed_sections": [],
      "include_colab_link": true
    },
    "kernelspec": {
      "name": "python3",
      "display_name": "Python 3"
    },
    "language_info": {
      "name": "python"
    },
    "widgets": {
      "application/vnd.jupyter.widget-state+json": {
        "b21b875efb8b47ec80c0f69e84232841": {
          "model_module": "@jupyter-widgets/controls",
          "model_name": "VBoxModel",
          "model_module_version": "1.5.0",
          "state": {
            "_dom_classes": [
              "widget-interact"
            ],
            "_model_module": "@jupyter-widgets/controls",
            "_model_module_version": "1.5.0",
            "_model_name": "VBoxModel",
            "_view_count": null,
            "_view_module": "@jupyter-widgets/controls",
            "_view_module_version": "1.5.0",
            "_view_name": "VBoxView",
            "box_style": "",
            "children": [
              "IPY_MODEL_81e57f6a0964454b8d2d88982999016a",
              "IPY_MODEL_8eed0f1978e7436c9b2a823fcdeba78b"
            ],
            "layout": "IPY_MODEL_433bcab0862148119c36c9266347553c"
          }
        },
        "81e57f6a0964454b8d2d88982999016a": {
          "model_module": "@jupyter-widgets/controls",
          "model_name": "DropdownModel",
          "model_module_version": "1.5.0",
          "state": {
            "_dom_classes": [],
            "_model_module": "@jupyter-widgets/controls",
            "_model_module_version": "1.5.0",
            "_model_name": "DropdownModel",
            "_options_labels": [
              "fixed acidity",
              "volatile acidity",
              "citric acid",
              "residual sugar",
              "chlorides",
              "free sulfur dioxide",
              "total sulfur dioxide",
              "density",
              "pH",
              "sulphates",
              "alcohol"
            ],
            "_view_count": null,
            "_view_module": "@jupyter-widgets/controls",
            "_view_module_version": "1.5.0",
            "_view_name": "DropdownView",
            "description": "features",
            "description_tooltip": null,
            "disabled": false,
            "index": 0,
            "layout": "IPY_MODEL_e7db34fa002f4f46961f4f16efca84e4",
            "style": "IPY_MODEL_32ea176c8ef34f4384622d15dae86ac4"
          }
        },
        "8eed0f1978e7436c9b2a823fcdeba78b": {
          "model_module": "@jupyter-widgets/output",
          "model_name": "OutputModel",
          "model_module_version": "1.0.0",
          "state": {
            "_dom_classes": [],
            "_model_module": "@jupyter-widgets/output",
            "_model_module_version": "1.0.0",
            "_model_name": "OutputModel",
            "_view_count": null,
            "_view_module": "@jupyter-widgets/output",
            "_view_module_version": "1.0.0",
            "_view_name": "OutputView",
            "layout": "IPY_MODEL_6a6309384b4a4c55b7279af0a68cdc01",
            "msg_id": "",
            "outputs": [
              {
                "output_type": "display_data",
                "data": {
                  "text/plain": "<Figure size 1440x1440 with 0 Axes>"
                },
                "metadata": {}
              },
              {
                "output_type": "display_data",
                "data": {
                  "text/plain": "<Figure size 432x288 with 1 Axes>",
                  "image/png": "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\n"
                },
                "metadata": {
                  "needs_background": "light"
                }
              }
            ]
          }
        },
        "433bcab0862148119c36c9266347553c": {
          "model_module": "@jupyter-widgets/base",
          "model_name": "LayoutModel",
          "model_module_version": "1.2.0",
          "state": {
            "_model_module": "@jupyter-widgets/base",
            "_model_module_version": "1.2.0",
            "_model_name": "LayoutModel",
            "_view_count": null,
            "_view_module": "@jupyter-widgets/base",
            "_view_module_version": "1.2.0",
            "_view_name": "LayoutView",
            "align_content": null,
            "align_items": null,
            "align_self": null,
            "border": null,
            "bottom": null,
            "display": null,
            "flex": null,
            "flex_flow": null,
            "grid_area": null,
            "grid_auto_columns": null,
            "grid_auto_flow": null,
            "grid_auto_rows": null,
            "grid_column": null,
            "grid_gap": null,
            "grid_row": null,
            "grid_template_areas": null,
            "grid_template_columns": null,
            "grid_template_rows": null,
            "height": null,
            "justify_content": null,
            "justify_items": null,
            "left": null,
            "margin": null,
            "max_height": null,
            "max_width": null,
            "min_height": null,
            "min_width": null,
            "object_fit": null,
            "object_position": null,
            "order": null,
            "overflow": null,
            "overflow_x": null,
            "overflow_y": null,
            "padding": null,
            "right": null,
            "top": null,
            "visibility": null,
            "width": null
          }
        },
        "e7db34fa002f4f46961f4f16efca84e4": {
          "model_module": "@jupyter-widgets/base",
          "model_name": "LayoutModel",
          "model_module_version": "1.2.0",
          "state": {
            "_model_module": "@jupyter-widgets/base",
            "_model_module_version": "1.2.0",
            "_model_name": "LayoutModel",
            "_view_count": null,
            "_view_module": "@jupyter-widgets/base",
            "_view_module_version": "1.2.0",
            "_view_name": "LayoutView",
            "align_content": null,
            "align_items": null,
            "align_self": null,
            "border": null,
            "bottom": null,
            "display": null,
            "flex": null,
            "flex_flow": null,
            "grid_area": null,
            "grid_auto_columns": null,
            "grid_auto_flow": null,
            "grid_auto_rows": null,
            "grid_column": null,
            "grid_gap": null,
            "grid_row": null,
            "grid_template_areas": null,
            "grid_template_columns": null,
            "grid_template_rows": null,
            "height": null,
            "justify_content": null,
            "justify_items": null,
            "left": null,
            "margin": null,
            "max_height": null,
            "max_width": null,
            "min_height": null,
            "min_width": null,
            "object_fit": null,
            "object_position": null,
            "order": null,
            "overflow": null,
            "overflow_x": null,
            "overflow_y": null,
            "padding": null,
            "right": null,
            "top": null,
            "visibility": null,
            "width": null
          }
        },
        "32ea176c8ef34f4384622d15dae86ac4": {
          "model_module": "@jupyter-widgets/controls",
          "model_name": "DescriptionStyleModel",
          "model_module_version": "1.5.0",
          "state": {
            "_model_module": "@jupyter-widgets/controls",
            "_model_module_version": "1.5.0",
            "_model_name": "DescriptionStyleModel",
            "_view_count": null,
            "_view_module": "@jupyter-widgets/base",
            "_view_module_version": "1.2.0",
            "_view_name": "StyleView",
            "description_width": ""
          }
        },
        "6a6309384b4a4c55b7279af0a68cdc01": {
          "model_module": "@jupyter-widgets/base",
          "model_name": "LayoutModel",
          "model_module_version": "1.2.0",
          "state": {
            "_model_module": "@jupyter-widgets/base",
            "_model_module_version": "1.2.0",
            "_model_name": "LayoutModel",
            "_view_count": null,
            "_view_module": "@jupyter-widgets/base",
            "_view_module_version": "1.2.0",
            "_view_name": "LayoutView",
            "align_content": null,
            "align_items": null,
            "align_self": null,
            "border": null,
            "bottom": null,
            "display": null,
            "flex": null,
            "flex_flow": null,
            "grid_area": null,
            "grid_auto_columns": null,
            "grid_auto_flow": null,
            "grid_auto_rows": null,
            "grid_column": null,
            "grid_gap": null,
            "grid_row": null,
            "grid_template_areas": null,
            "grid_template_columns": null,
            "grid_template_rows": null,
            "height": null,
            "justify_content": null,
            "justify_items": null,
            "left": null,
            "margin": null,
            "max_height": null,
            "max_width": null,
            "min_height": null,
            "min_width": null,
            "object_fit": null,
            "object_position": null,
            "order": null,
            "overflow": null,
            "overflow_x": null,
            "overflow_y": null,
            "padding": null,
            "right": null,
            "top": null,
            "visibility": null,
            "width": null
          }
        },
        "b902c081b4eb4078b99b1cc57cb0f882": {
          "model_module": "@jupyter-widgets/controls",
          "model_name": "VBoxModel",
          "model_module_version": "1.5.0",
          "state": {
            "_dom_classes": [
              "widget-interact"
            ],
            "_model_module": "@jupyter-widgets/controls",
            "_model_module_version": "1.5.0",
            "_model_name": "VBoxModel",
            "_view_count": null,
            "_view_module": "@jupyter-widgets/controls",
            "_view_module_version": "1.5.0",
            "_view_name": "VBoxView",
            "box_style": "",
            "children": [
              "IPY_MODEL_87d3a860beb84519b1bd9c3e2ba2d6d5",
              "IPY_MODEL_fcfc3b6d06d349099099c72d9f6c4b13",
              "IPY_MODEL_de0676a301834591ad4a8ea52140a5f2"
            ],
            "layout": "IPY_MODEL_06ba40546feb40f3ab53cd03ceb6ea4c"
          }
        },
        "87d3a860beb84519b1bd9c3e2ba2d6d5": {
          "model_module": "@jupyter-widgets/controls",
          "model_name": "DropdownModel",
          "model_module_version": "1.5.0",
          "state": {
            "_dom_classes": [],
            "_model_module": "@jupyter-widgets/controls",
            "_model_module_version": "1.5.0",
            "_model_name": "DropdownModel",
            "_options_labels": [
              "fixed acidity",
              "volatile acidity",
              "citric acid",
              "residual sugar",
              "chlorides",
              "free sulfur dioxide",
              "total sulfur dioxide",
              "density",
              "pH",
              "sulphates",
              "alcohol"
            ],
            "_view_count": null,
            "_view_module": "@jupyter-widgets/controls",
            "_view_module_version": "1.5.0",
            "_view_name": "DropdownView",
            "description": "features",
            "description_tooltip": null,
            "disabled": false,
            "index": 0,
            "layout": "IPY_MODEL_3017e428bb4340f3bb092a64e9dfc350",
            "style": "IPY_MODEL_395dcb3a09804316bbffcb1b8991c488"
          }
        },
        "fcfc3b6d06d349099099c72d9f6c4b13": {
          "model_module": "@jupyter-widgets/controls",
          "model_name": "IntSliderModel",
          "model_module_version": "1.5.0",
          "state": {
            "_dom_classes": [],
            "_model_module": "@jupyter-widgets/controls",
            "_model_module_version": "1.5.0",
            "_model_name": "IntSliderModel",
            "_view_count": null,
            "_view_module": "@jupyter-widgets/controls",
            "_view_module_version": "1.5.0",
            "_view_name": "IntSliderView",
            "continuous_update": true,
            "description": "quality",
            "description_tooltip": null,
            "disabled": false,
            "layout": "IPY_MODEL_01a6972cb28f442a9d3b7e93ef1c4cd2",
            "max": 8,
            "min": 3,
            "orientation": "horizontal",
            "readout": true,
            "readout_format": "d",
            "step": 1,
            "style": "IPY_MODEL_b84ae124816f4afab97f660a3f6a16be",
            "value": 5
          }
        },
        "de0676a301834591ad4a8ea52140a5f2": {
          "model_module": "@jupyter-widgets/output",
          "model_name": "OutputModel",
          "model_module_version": "1.0.0",
          "state": {
            "_dom_classes": [],
            "_model_module": "@jupyter-widgets/output",
            "_model_module_version": "1.0.0",
            "_model_name": "OutputModel",
            "_view_count": null,
            "_view_module": "@jupyter-widgets/output",
            "_view_module_version": "1.0.0",
            "_view_name": "OutputView",
            "layout": "IPY_MODEL_2f2b7b9885c64c809cb1bc908c273137",
            "msg_id": "",
            "outputs": [
              {
                "output_type": "display_data",
                "data": {
                  "text/plain": "<Figure size 360x288 with 1 Axes>",
                  "image/png": "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\n"
                },
                "metadata": {
                  "needs_background": "light"
                }
              }
            ]
          }
        },
        "06ba40546feb40f3ab53cd03ceb6ea4c": {
          "model_module": "@jupyter-widgets/base",
          "model_name": "LayoutModel",
          "model_module_version": "1.2.0",
          "state": {
            "_model_module": "@jupyter-widgets/base",
            "_model_module_version": "1.2.0",
            "_model_name": "LayoutModel",
            "_view_count": null,
            "_view_module": "@jupyter-widgets/base",
            "_view_module_version": "1.2.0",
            "_view_name": "LayoutView",
            "align_content": null,
            "align_items": null,
            "align_self": null,
            "border": null,
            "bottom": null,
            "display": null,
            "flex": null,
            "flex_flow": null,
            "grid_area": null,
            "grid_auto_columns": null,
            "grid_auto_flow": null,
            "grid_auto_rows": null,
            "grid_column": null,
            "grid_gap": null,
            "grid_row": null,
            "grid_template_areas": null,
            "grid_template_columns": null,
            "grid_template_rows": null,
            "height": null,
            "justify_content": null,
            "justify_items": null,
            "left": null,
            "margin": null,
            "max_height": null,
            "max_width": null,
            "min_height": null,
            "min_width": null,
            "object_fit": null,
            "object_position": null,
            "order": null,
            "overflow": null,
            "overflow_x": null,
            "overflow_y": null,
            "padding": null,
            "right": null,
            "top": null,
            "visibility": null,
            "width": null
          }
        },
        "3017e428bb4340f3bb092a64e9dfc350": {
          "model_module": "@jupyter-widgets/base",
          "model_name": "LayoutModel",
          "model_module_version": "1.2.0",
          "state": {
            "_model_module": "@jupyter-widgets/base",
            "_model_module_version": "1.2.0",
            "_model_name": "LayoutModel",
            "_view_count": null,
            "_view_module": "@jupyter-widgets/base",
            "_view_module_version": "1.2.0",
            "_view_name": "LayoutView",
            "align_content": null,
            "align_items": null,
            "align_self": null,
            "border": null,
            "bottom": null,
            "display": null,
            "flex": null,
            "flex_flow": null,
            "grid_area": null,
            "grid_auto_columns": null,
            "grid_auto_flow": null,
            "grid_auto_rows": null,
            "grid_column": null,
            "grid_gap": null,
            "grid_row": null,
            "grid_template_areas": null,
            "grid_template_columns": null,
            "grid_template_rows": null,
            "height": null,
            "justify_content": null,
            "justify_items": null,
            "left": null,
            "margin": null,
            "max_height": null,
            "max_width": null,
            "min_height": null,
            "min_width": null,
            "object_fit": null,
            "object_position": null,
            "order": null,
            "overflow": null,
            "overflow_x": null,
            "overflow_y": null,
            "padding": null,
            "right": null,
            "top": null,
            "visibility": null,
            "width": null
          }
        },
        "395dcb3a09804316bbffcb1b8991c488": {
          "model_module": "@jupyter-widgets/controls",
          "model_name": "DescriptionStyleModel",
          "model_module_version": "1.5.0",
          "state": {
            "_model_module": "@jupyter-widgets/controls",
            "_model_module_version": "1.5.0",
            "_model_name": "DescriptionStyleModel",
            "_view_count": null,
            "_view_module": "@jupyter-widgets/base",
            "_view_module_version": "1.2.0",
            "_view_name": "StyleView",
            "description_width": ""
          }
        },
        "01a6972cb28f442a9d3b7e93ef1c4cd2": {
          "model_module": "@jupyter-widgets/base",
          "model_name": "LayoutModel",
          "model_module_version": "1.2.0",
          "state": {
            "_model_module": "@jupyter-widgets/base",
            "_model_module_version": "1.2.0",
            "_model_name": "LayoutModel",
            "_view_count": null,
            "_view_module": "@jupyter-widgets/base",
            "_view_module_version": "1.2.0",
            "_view_name": "LayoutView",
            "align_content": null,
            "align_items": null,
            "align_self": null,
            "border": null,
            "bottom": null,
            "display": null,
            "flex": null,
            "flex_flow": null,
            "grid_area": null,
            "grid_auto_columns": null,
            "grid_auto_flow": null,
            "grid_auto_rows": null,
            "grid_column": null,
            "grid_gap": null,
            "grid_row": null,
            "grid_template_areas": null,
            "grid_template_columns": null,
            "grid_template_rows": null,
            "height": null,
            "justify_content": null,
            "justify_items": null,
            "left": null,
            "margin": null,
            "max_height": null,
            "max_width": null,
            "min_height": null,
            "min_width": null,
            "object_fit": null,
            "object_position": null,
            "order": null,
            "overflow": null,
            "overflow_x": null,
            "overflow_y": null,
            "padding": null,
            "right": null,
            "top": null,
            "visibility": null,
            "width": null
          }
        },
        "b84ae124816f4afab97f660a3f6a16be": {
          "model_module": "@jupyter-widgets/controls",
          "model_name": "SliderStyleModel",
          "model_module_version": "1.5.0",
          "state": {
            "_model_module": "@jupyter-widgets/controls",
            "_model_module_version": "1.5.0",
            "_model_name": "SliderStyleModel",
            "_view_count": null,
            "_view_module": "@jupyter-widgets/base",
            "_view_module_version": "1.2.0",
            "_view_name": "StyleView",
            "description_width": "",
            "handle_color": null
          }
        },
        "2f2b7b9885c64c809cb1bc908c273137": {
          "model_module": "@jupyter-widgets/base",
          "model_name": "LayoutModel",
          "model_module_version": "1.2.0",
          "state": {
            "_model_module": "@jupyter-widgets/base",
            "_model_module_version": "1.2.0",
            "_model_name": "LayoutModel",
            "_view_count": null,
            "_view_module": "@jupyter-widgets/base",
            "_view_module_version": "1.2.0",
            "_view_name": "LayoutView",
            "align_content": null,
            "align_items": null,
            "align_self": null,
            "border": null,
            "bottom": null,
            "display": null,
            "flex": null,
            "flex_flow": null,
            "grid_area": null,
            "grid_auto_columns": null,
            "grid_auto_flow": null,
            "grid_auto_rows": null,
            "grid_column": null,
            "grid_gap": null,
            "grid_row": null,
            "grid_template_areas": null,
            "grid_template_columns": null,
            "grid_template_rows": null,
            "height": null,
            "justify_content": null,
            "justify_items": null,
            "left": null,
            "margin": null,
            "max_height": null,
            "max_width": null,
            "min_height": null,
            "min_width": null,
            "object_fit": null,
            "object_position": null,
            "order": null,
            "overflow": null,
            "overflow_x": null,
            "overflow_y": null,
            "padding": null,
            "right": null,
            "top": null,
            "visibility": null,
            "width": null
          }
        },
        "7ac172d32d594371bebdb46d0f749865": {
          "model_module": "@jupyter-widgets/controls",
          "model_name": "VBoxModel",
          "model_module_version": "1.5.0",
          "state": {
            "_dom_classes": [
              "widget-interact"
            ],
            "_model_module": "@jupyter-widgets/controls",
            "_model_module_version": "1.5.0",
            "_model_name": "VBoxModel",
            "_view_count": null,
            "_view_module": "@jupyter-widgets/controls",
            "_view_module_version": "1.5.0",
            "_view_name": "VBoxView",
            "box_style": "",
            "children": [
              "IPY_MODEL_6d99abca9d764896b4df93f5119f1478",
              "IPY_MODEL_1d59bec4bb7e42fe994bb1fa40c4e73d",
              "IPY_MODEL_74ebf8becbb54accbb190e3eb22684a6"
            ],
            "layout": "IPY_MODEL_a760b2e93c7946ee866be862c1cec58e"
          }
        },
        "6d99abca9d764896b4df93f5119f1478": {
          "model_module": "@jupyter-widgets/controls",
          "model_name": "DropdownModel",
          "model_module_version": "1.5.0",
          "state": {
            "_dom_classes": [],
            "_model_module": "@jupyter-widgets/controls",
            "_model_module_version": "1.5.0",
            "_model_name": "DropdownModel",
            "_options_labels": [
              "fixed acidity",
              "volatile acidity",
              "citric acid",
              "residual sugar",
              "chlorides",
              "free sulfur dioxide",
              "total sulfur dioxide",
              "density",
              "pH",
              "sulphates",
              "alcohol"
            ],
            "_view_count": null,
            "_view_module": "@jupyter-widgets/controls",
            "_view_module_version": "1.5.0",
            "_view_name": "DropdownView",
            "description": "features1",
            "description_tooltip": null,
            "disabled": false,
            "index": 0,
            "layout": "IPY_MODEL_a86f579d6a6f4e52b9366086c7aaacef",
            "style": "IPY_MODEL_61ebde3c21f946bfa33a8499d6a535f3"
          }
        },
        "1d59bec4bb7e42fe994bb1fa40c4e73d": {
          "model_module": "@jupyter-widgets/controls",
          "model_name": "DropdownModel",
          "model_module_version": "1.5.0",
          "state": {
            "_dom_classes": [],
            "_model_module": "@jupyter-widgets/controls",
            "_model_module_version": "1.5.0",
            "_model_name": "DropdownModel",
            "_options_labels": [
              "fixed acidity",
              "volatile acidity",
              "citric acid",
              "residual sugar",
              "chlorides",
              "free sulfur dioxide",
              "total sulfur dioxide",
              "density",
              "pH",
              "sulphates",
              "alcohol"
            ],
            "_view_count": null,
            "_view_module": "@jupyter-widgets/controls",
            "_view_module_version": "1.5.0",
            "_view_name": "DropdownView",
            "description": "features2",
            "description_tooltip": null,
            "disabled": false,
            "index": 0,
            "layout": "IPY_MODEL_76d8452ba0524fb6a57ab36ae0085c45",
            "style": "IPY_MODEL_14c91eec318b4bd0ac5792cee2ccc0ca"
          }
        },
        "74ebf8becbb54accbb190e3eb22684a6": {
          "model_module": "@jupyter-widgets/output",
          "model_name": "OutputModel",
          "model_module_version": "1.0.0",
          "state": {
            "_dom_classes": [],
            "_model_module": "@jupyter-widgets/output",
            "_model_module_version": "1.0.0",
            "_model_name": "OutputModel",
            "_view_count": null,
            "_view_module": "@jupyter-widgets/output",
            "_view_module_version": "1.0.0",
            "_view_name": "OutputView",
            "layout": "IPY_MODEL_8e46aebb6e7c40478e47be5b2ce6ce4a",
            "msg_id": "",
            "outputs": [
              {
                "output_type": "display_data",
                "data": {
                  "text/plain": "<Figure size 720x576 with 2 Axes>",
                  "image/png": "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\n"
                },
                "metadata": {
                  "needs_background": "light"
                }
              }
            ]
          }
        },
        "a760b2e93c7946ee866be862c1cec58e": {
          "model_module": "@jupyter-widgets/base",
          "model_name": "LayoutModel",
          "model_module_version": "1.2.0",
          "state": {
            "_model_module": "@jupyter-widgets/base",
            "_model_module_version": "1.2.0",
            "_model_name": "LayoutModel",
            "_view_count": null,
            "_view_module": "@jupyter-widgets/base",
            "_view_module_version": "1.2.0",
            "_view_name": "LayoutView",
            "align_content": null,
            "align_items": null,
            "align_self": null,
            "border": null,
            "bottom": null,
            "display": null,
            "flex": null,
            "flex_flow": null,
            "grid_area": null,
            "grid_auto_columns": null,
            "grid_auto_flow": null,
            "grid_auto_rows": null,
            "grid_column": null,
            "grid_gap": null,
            "grid_row": null,
            "grid_template_areas": null,
            "grid_template_columns": null,
            "grid_template_rows": null,
            "height": null,
            "justify_content": null,
            "justify_items": null,
            "left": null,
            "margin": null,
            "max_height": null,
            "max_width": null,
            "min_height": null,
            "min_width": null,
            "object_fit": null,
            "object_position": null,
            "order": null,
            "overflow": null,
            "overflow_x": null,
            "overflow_y": null,
            "padding": null,
            "right": null,
            "top": null,
            "visibility": null,
            "width": null
          }
        },
        "a86f579d6a6f4e52b9366086c7aaacef": {
          "model_module": "@jupyter-widgets/base",
          "model_name": "LayoutModel",
          "model_module_version": "1.2.0",
          "state": {
            "_model_module": "@jupyter-widgets/base",
            "_model_module_version": "1.2.0",
            "_model_name": "LayoutModel",
            "_view_count": null,
            "_view_module": "@jupyter-widgets/base",
            "_view_module_version": "1.2.0",
            "_view_name": "LayoutView",
            "align_content": null,
            "align_items": null,
            "align_self": null,
            "border": null,
            "bottom": null,
            "display": null,
            "flex": null,
            "flex_flow": null,
            "grid_area": null,
            "grid_auto_columns": null,
            "grid_auto_flow": null,
            "grid_auto_rows": null,
            "grid_column": null,
            "grid_gap": null,
            "grid_row": null,
            "grid_template_areas": null,
            "grid_template_columns": null,
            "grid_template_rows": null,
            "height": null,
            "justify_content": null,
            "justify_items": null,
            "left": null,
            "margin": null,
            "max_height": null,
            "max_width": null,
            "min_height": null,
            "min_width": null,
            "object_fit": null,
            "object_position": null,
            "order": null,
            "overflow": null,
            "overflow_x": null,
            "overflow_y": null,
            "padding": null,
            "right": null,
            "top": null,
            "visibility": null,
            "width": null
          }
        },
        "61ebde3c21f946bfa33a8499d6a535f3": {
          "model_module": "@jupyter-widgets/controls",
          "model_name": "DescriptionStyleModel",
          "model_module_version": "1.5.0",
          "state": {
            "_model_module": "@jupyter-widgets/controls",
            "_model_module_version": "1.5.0",
            "_model_name": "DescriptionStyleModel",
            "_view_count": null,
            "_view_module": "@jupyter-widgets/base",
            "_view_module_version": "1.2.0",
            "_view_name": "StyleView",
            "description_width": ""
          }
        },
        "76d8452ba0524fb6a57ab36ae0085c45": {
          "model_module": "@jupyter-widgets/base",
          "model_name": "LayoutModel",
          "model_module_version": "1.2.0",
          "state": {
            "_model_module": "@jupyter-widgets/base",
            "_model_module_version": "1.2.0",
            "_model_name": "LayoutModel",
            "_view_count": null,
            "_view_module": "@jupyter-widgets/base",
            "_view_module_version": "1.2.0",
            "_view_name": "LayoutView",
            "align_content": null,
            "align_items": null,
            "align_self": null,
            "border": null,
            "bottom": null,
            "display": null,
            "flex": null,
            "flex_flow": null,
            "grid_area": null,
            "grid_auto_columns": null,
            "grid_auto_flow": null,
            "grid_auto_rows": null,
            "grid_column": null,
            "grid_gap": null,
            "grid_row": null,
            "grid_template_areas": null,
            "grid_template_columns": null,
            "grid_template_rows": null,
            "height": null,
            "justify_content": null,
            "justify_items": null,
            "left": null,
            "margin": null,
            "max_height": null,
            "max_width": null,
            "min_height": null,
            "min_width": null,
            "object_fit": null,
            "object_position": null,
            "order": null,
            "overflow": null,
            "overflow_x": null,
            "overflow_y": null,
            "padding": null,
            "right": null,
            "top": null,
            "visibility": null,
            "width": null
          }
        },
        "14c91eec318b4bd0ac5792cee2ccc0ca": {
          "model_module": "@jupyter-widgets/controls",
          "model_name": "DescriptionStyleModel",
          "model_module_version": "1.5.0",
          "state": {
            "_model_module": "@jupyter-widgets/controls",
            "_model_module_version": "1.5.0",
            "_model_name": "DescriptionStyleModel",
            "_view_count": null,
            "_view_module": "@jupyter-widgets/base",
            "_view_module_version": "1.2.0",
            "_view_name": "StyleView",
            "description_width": ""
          }
        },
        "8e46aebb6e7c40478e47be5b2ce6ce4a": {
          "model_module": "@jupyter-widgets/base",
          "model_name": "LayoutModel",
          "model_module_version": "1.2.0",
          "state": {
            "_model_module": "@jupyter-widgets/base",
            "_model_module_version": "1.2.0",
            "_model_name": "LayoutModel",
            "_view_count": null,
            "_view_module": "@jupyter-widgets/base",
            "_view_module_version": "1.2.0",
            "_view_name": "LayoutView",
            "align_content": null,
            "align_items": null,
            "align_self": null,
            "border": null,
            "bottom": null,
            "display": null,
            "flex": null,
            "flex_flow": null,
            "grid_area": null,
            "grid_auto_columns": null,
            "grid_auto_flow": null,
            "grid_auto_rows": null,
            "grid_column": null,
            "grid_gap": null,
            "grid_row": null,
            "grid_template_areas": null,
            "grid_template_columns": null,
            "grid_template_rows": null,
            "height": null,
            "justify_content": null,
            "justify_items": null,
            "left": null,
            "margin": null,
            "max_height": null,
            "max_width": null,
            "min_height": null,
            "min_width": null,
            "object_fit": null,
            "object_position": null,
            "order": null,
            "overflow": null,
            "overflow_x": null,
            "overflow_y": null,
            "padding": null,
            "right": null,
            "top": null,
            "visibility": null,
            "width": null
          }
        }
      }
    },
    "accelerator": "GPU",
    "gpuClass": "standard"
  },
  "cells": [
    {
      "cell_type": "markdown",
      "metadata": {
        "id": "view-in-github",
        "colab_type": "text"
      },
      "source": [
        "<a href=\"https://colab.research.google.com/github/RyanPerrina/wine_classification/blob/main/wine_classification.ipynb\" target=\"_parent\"><img src=\"https://colab.research.google.com/assets/colab-badge.svg\" alt=\"Open In Colab\"/></a>"
      ]
    },
    {
      "cell_type": "markdown",
      "source": [
        "# Progetto Programmazione di Applicazioni Data Intensive\n",
        "# Ryan Perrina e Manuel Luzietti"
      ],
      "metadata": {
        "id": "MKkp6qrGhqVY"
      }
    },
    {
      "cell_type": "code",
      "execution_count": 1,
      "metadata": {
        "id": "_qSuq7Pau5Hx"
      },
      "outputs": [],
      "source": [
        "import numpy as np \n",
        "import pandas as pd\n",
        "import matplotlib.pyplot as plt\n",
        "from sklearn.metrics import precision_score, recall_score, f1_score"
      ]
    },
    {
      "cell_type": "markdown",
      "source": [
        "# Descrizione del problema\n",
        "Il dataset in questione riguarda le varianti di vino rosso portoghese \"Vinho Verde\". Il dataset descrive la qualità del vino in relazione ai componenti chimici presenti. L'obiettivo del progetto è predire la qualità del vino dai \n",
        "suoi componenti ovvero predire una variabile discreta non binaria."
      ],
      "metadata": {
        "id": "b_KGNXqaxbjw"
      }
    },
    {
      "cell_type": "code",
      "source": [
        "data = pd.read_csv(\"WineQT.csv\")"
      ],
      "metadata": {
        "id": "0QQD-wzJyblh"
      },
      "execution_count": 2,
      "outputs": []
    },
    {
      "cell_type": "markdown",
      "source": [
        "# Comprensione dati"
      ],
      "metadata": {
        "id": "dmtKuH5C2j4f"
      }
    },
    {
      "cell_type": "code",
      "source": [
        "data.head()"
      ],
      "metadata": {
        "colab": {
          "base_uri": "https://localhost:8080/",
          "height": 0
        },
        "id": "YY_1zhYO2qYy",
        "outputId": "6c67313e-6d10-49bd-868f-de4cf7ed2041"
      },
      "execution_count": 3,
      "outputs": [
        {
          "output_type": "execute_result",
          "data": {
            "text/plain": [
              "   fixed acidity  volatile acidity  citric acid  residual sugar  chlorides  \\\n",
              "0            7.4              0.70         0.00             1.9      0.076   \n",
              "1            7.8              0.88         0.00             2.6      0.098   \n",
              "2            7.8              0.76         0.04             2.3      0.092   \n",
              "3           11.2              0.28         0.56             1.9      0.075   \n",
              "4            7.4              0.70         0.00             1.9      0.076   \n",
              "\n",
              "   free sulfur dioxide  total sulfur dioxide  density    pH  sulphates  \\\n",
              "0                 11.0                  34.0   0.9978  3.51       0.56   \n",
              "1                 25.0                  67.0   0.9968  3.20       0.68   \n",
              "2                 15.0                  54.0   0.9970  3.26       0.65   \n",
              "3                 17.0                  60.0   0.9980  3.16       0.58   \n",
              "4                 11.0                  34.0   0.9978  3.51       0.56   \n",
              "\n",
              "   alcohol  quality  Id  \n",
              "0      9.4        5   0  \n",
              "1      9.8        5   1  \n",
              "2      9.8        5   2  \n",
              "3      9.8        6   3  \n",
              "4      9.4        5   4  "
            ],
            "text/html": [
              "\n",
              "  <div id=\"df-5771f552-1d32-4d13-939c-8fcbf078adbb\">\n",
              "    <div class=\"colab-df-container\">\n",
              "      <div>\n",
              "<style scoped>\n",
              "    .dataframe tbody tr th:only-of-type {\n",
              "        vertical-align: middle;\n",
              "    }\n",
              "\n",
              "    .dataframe tbody tr th {\n",
              "        vertical-align: top;\n",
              "    }\n",
              "\n",
              "    .dataframe thead th {\n",
              "        text-align: right;\n",
              "    }\n",
              "</style>\n",
              "<table border=\"1\" class=\"dataframe\">\n",
              "  <thead>\n",
              "    <tr style=\"text-align: right;\">\n",
              "      <th></th>\n",
              "      <th>fixed acidity</th>\n",
              "      <th>volatile acidity</th>\n",
              "      <th>citric acid</th>\n",
              "      <th>residual sugar</th>\n",
              "      <th>chlorides</th>\n",
              "      <th>free sulfur dioxide</th>\n",
              "      <th>total sulfur dioxide</th>\n",
              "      <th>density</th>\n",
              "      <th>pH</th>\n",
              "      <th>sulphates</th>\n",
              "      <th>alcohol</th>\n",
              "      <th>quality</th>\n",
              "      <th>Id</th>\n",
              "    </tr>\n",
              "  </thead>\n",
              "  <tbody>\n",
              "    <tr>\n",
              "      <th>0</th>\n",
              "      <td>7.4</td>\n",
              "      <td>0.70</td>\n",
              "      <td>0.00</td>\n",
              "      <td>1.9</td>\n",
              "      <td>0.076</td>\n",
              "      <td>11.0</td>\n",
              "      <td>34.0</td>\n",
              "      <td>0.9978</td>\n",
              "      <td>3.51</td>\n",
              "      <td>0.56</td>\n",
              "      <td>9.4</td>\n",
              "      <td>5</td>\n",
              "      <td>0</td>\n",
              "    </tr>\n",
              "    <tr>\n",
              "      <th>1</th>\n",
              "      <td>7.8</td>\n",
              "      <td>0.88</td>\n",
              "      <td>0.00</td>\n",
              "      <td>2.6</td>\n",
              "      <td>0.098</td>\n",
              "      <td>25.0</td>\n",
              "      <td>67.0</td>\n",
              "      <td>0.9968</td>\n",
              "      <td>3.20</td>\n",
              "      <td>0.68</td>\n",
              "      <td>9.8</td>\n",
              "      <td>5</td>\n",
              "      <td>1</td>\n",
              "    </tr>\n",
              "    <tr>\n",
              "      <th>2</th>\n",
              "      <td>7.8</td>\n",
              "      <td>0.76</td>\n",
              "      <td>0.04</td>\n",
              "      <td>2.3</td>\n",
              "      <td>0.092</td>\n",
              "      <td>15.0</td>\n",
              "      <td>54.0</td>\n",
              "      <td>0.9970</td>\n",
              "      <td>3.26</td>\n",
              "      <td>0.65</td>\n",
              "      <td>9.8</td>\n",
              "      <td>5</td>\n",
              "      <td>2</td>\n",
              "    </tr>\n",
              "    <tr>\n",
              "      <th>3</th>\n",
              "      <td>11.2</td>\n",
              "      <td>0.28</td>\n",
              "      <td>0.56</td>\n",
              "      <td>1.9</td>\n",
              "      <td>0.075</td>\n",
              "      <td>17.0</td>\n",
              "      <td>60.0</td>\n",
              "      <td>0.9980</td>\n",
              "      <td>3.16</td>\n",
              "      <td>0.58</td>\n",
              "      <td>9.8</td>\n",
              "      <td>6</td>\n",
              "      <td>3</td>\n",
              "    </tr>\n",
              "    <tr>\n",
              "      <th>4</th>\n",
              "      <td>7.4</td>\n",
              "      <td>0.70</td>\n",
              "      <td>0.00</td>\n",
              "      <td>1.9</td>\n",
              "      <td>0.076</td>\n",
              "      <td>11.0</td>\n",
              "      <td>34.0</td>\n",
              "      <td>0.9978</td>\n",
              "      <td>3.51</td>\n",
              "      <td>0.56</td>\n",
              "      <td>9.4</td>\n",
              "      <td>5</td>\n",
              "      <td>4</td>\n",
              "    </tr>\n",
              "  </tbody>\n",
              "</table>\n",
              "</div>\n",
              "      <button class=\"colab-df-convert\" onclick=\"convertToInteractive('df-5771f552-1d32-4d13-939c-8fcbf078adbb')\"\n",
              "              title=\"Convert this dataframe to an interactive table.\"\n",
              "              style=\"display:none;\">\n",
              "        \n",
              "  <svg xmlns=\"http://www.w3.org/2000/svg\" height=\"24px\"viewBox=\"0 0 24 24\"\n",
              "       width=\"24px\">\n",
              "    <path d=\"M0 0h24v24H0V0z\" fill=\"none\"/>\n",
              "    <path d=\"M18.56 5.44l.94 2.06.94-2.06 2.06-.94-2.06-.94-.94-2.06-.94 2.06-2.06.94zm-11 1L8.5 8.5l.94-2.06 2.06-.94-2.06-.94L8.5 2.5l-.94 2.06-2.06.94zm10 10l.94 2.06.94-2.06 2.06-.94-2.06-.94-.94-2.06-.94 2.06-2.06.94z\"/><path d=\"M17.41 7.96l-1.37-1.37c-.4-.4-.92-.59-1.43-.59-.52 0-1.04.2-1.43.59L10.3 9.45l-7.72 7.72c-.78.78-.78 2.05 0 2.83L4 21.41c.39.39.9.59 1.41.59.51 0 1.02-.2 1.41-.59l7.78-7.78 2.81-2.81c.8-.78.8-2.07 0-2.86zM5.41 20L4 18.59l7.72-7.72 1.47 1.35L5.41 20z\"/>\n",
              "  </svg>\n",
              "      </button>\n",
              "      \n",
              "  <style>\n",
              "    .colab-df-container {\n",
              "      display:flex;\n",
              "      flex-wrap:wrap;\n",
              "      gap: 12px;\n",
              "    }\n",
              "\n",
              "    .colab-df-convert {\n",
              "      background-color: #E8F0FE;\n",
              "      border: none;\n",
              "      border-radius: 50%;\n",
              "      cursor: pointer;\n",
              "      display: none;\n",
              "      fill: #1967D2;\n",
              "      height: 32px;\n",
              "      padding: 0 0 0 0;\n",
              "      width: 32px;\n",
              "    }\n",
              "\n",
              "    .colab-df-convert:hover {\n",
              "      background-color: #E2EBFA;\n",
              "      box-shadow: 0px 1px 2px rgba(60, 64, 67, 0.3), 0px 1px 3px 1px rgba(60, 64, 67, 0.15);\n",
              "      fill: #174EA6;\n",
              "    }\n",
              "\n",
              "    [theme=dark] .colab-df-convert {\n",
              "      background-color: #3B4455;\n",
              "      fill: #D2E3FC;\n",
              "    }\n",
              "\n",
              "    [theme=dark] .colab-df-convert:hover {\n",
              "      background-color: #434B5C;\n",
              "      box-shadow: 0px 1px 3px 1px rgba(0, 0, 0, 0.15);\n",
              "      filter: drop-shadow(0px 1px 2px rgba(0, 0, 0, 0.3));\n",
              "      fill: #FFFFFF;\n",
              "    }\n",
              "  </style>\n",
              "\n",
              "      <script>\n",
              "        const buttonEl =\n",
              "          document.querySelector('#df-5771f552-1d32-4d13-939c-8fcbf078adbb button.colab-df-convert');\n",
              "        buttonEl.style.display =\n",
              "          google.colab.kernel.accessAllowed ? 'block' : 'none';\n",
              "\n",
              "        async function convertToInteractive(key) {\n",
              "          const element = document.querySelector('#df-5771f552-1d32-4d13-939c-8fcbf078adbb');\n",
              "          const dataTable =\n",
              "            await google.colab.kernel.invokeFunction('convertToInteractive',\n",
              "                                                     [key], {});\n",
              "          if (!dataTable) return;\n",
              "\n",
              "          const docLinkHtml = 'Like what you see? Visit the ' +\n",
              "            '<a target=\"_blank\" href=https://colab.research.google.com/notebooks/data_table.ipynb>data table notebook</a>'\n",
              "            + ' to learn more about interactive tables.';\n",
              "          element.innerHTML = '';\n",
              "          dataTable['output_type'] = 'display_data';\n",
              "          await google.colab.output.renderOutput(dataTable, element);\n",
              "          const docLink = document.createElement('div');\n",
              "          docLink.innerHTML = docLinkHtml;\n",
              "          element.appendChild(docLink);\n",
              "        }\n",
              "      </script>\n",
              "    </div>\n",
              "  </div>\n",
              "  "
            ]
          },
          "metadata": {},
          "execution_count": 3
        }
      ]
    },
    {
      "cell_type": "markdown",
      "source": [
        "Le features rappresentate:\n",
        "\n",
        "\n",
        "*   fixed acidity | float \n",
        "*   volatile acidity | float \n",
        "*   citric acid\t| float\n",
        "*   residual sugar | float\n",
        "*   chlorides | float\n",
        "*   free sulfur dioxide\t| float\n",
        "*   total sulfur dioxide\t| float\n",
        "*   density | float\n",
        "*   pH | float\n",
        "*   sulphates | float\n",
        "*   alcohol | float\n",
        "*   quality | int\n",
        "*   id | int\n"
      ],
      "metadata": {
        "id": "MJSXnXsA3UQJ"
      }
    },
    {
      "cell_type": "markdown",
      "source": [
        "La variabile target è quality che assume valori da 0 a 10 con 0 qualità pessima e 10 eccellente. Id è l'identificatore dei record e verrà usato come indice del dataframe."
      ],
      "metadata": {
        "id": "V2g4mnO26r8R"
      }
    },
    {
      "cell_type": "code",
      "source": [
        "data.set_index(\"Id\",inplace=True)"
      ],
      "metadata": {
        "id": "cBApJW5n2sUU"
      },
      "execution_count": 4,
      "outputs": []
    },
    {
      "cell_type": "code",
      "source": [
        "data.describe()\n"
      ],
      "metadata": {
        "id": "aGdXgcgM6RgI",
        "outputId": "5359445e-0ffb-4297-9564-53e3ea61f96d",
        "colab": {
          "base_uri": "https://localhost:8080/",
          "height": 0
        }
      },
      "execution_count": 5,
      "outputs": [
        {
          "output_type": "execute_result",
          "data": {
            "text/plain": [
              "       fixed acidity  volatile acidity  citric acid  residual sugar  \\\n",
              "count    1143.000000       1143.000000  1143.000000     1143.000000   \n",
              "mean        8.311111          0.531339     0.268364        2.532152   \n",
              "std         1.747595          0.179633     0.196686        1.355917   \n",
              "min         4.600000          0.120000     0.000000        0.900000   \n",
              "25%         7.100000          0.392500     0.090000        1.900000   \n",
              "50%         7.900000          0.520000     0.250000        2.200000   \n",
              "75%         9.100000          0.640000     0.420000        2.600000   \n",
              "max        15.900000          1.580000     1.000000       15.500000   \n",
              "\n",
              "         chlorides  free sulfur dioxide  total sulfur dioxide      density  \\\n",
              "count  1143.000000          1143.000000           1143.000000  1143.000000   \n",
              "mean      0.086933            15.615486             45.914698     0.996730   \n",
              "std       0.047267            10.250486             32.782130     0.001925   \n",
              "min       0.012000             1.000000              6.000000     0.990070   \n",
              "25%       0.070000             7.000000             21.000000     0.995570   \n",
              "50%       0.079000            13.000000             37.000000     0.996680   \n",
              "75%       0.090000            21.000000             61.000000     0.997845   \n",
              "max       0.611000            68.000000            289.000000     1.003690   \n",
              "\n",
              "                pH    sulphates      alcohol      quality  \n",
              "count  1143.000000  1143.000000  1143.000000  1143.000000  \n",
              "mean      3.311015     0.657708    10.442111     5.657043  \n",
              "std       0.156664     0.170399     1.082196     0.805824  \n",
              "min       2.740000     0.330000     8.400000     3.000000  \n",
              "25%       3.205000     0.550000     9.500000     5.000000  \n",
              "50%       3.310000     0.620000    10.200000     6.000000  \n",
              "75%       3.400000     0.730000    11.100000     6.000000  \n",
              "max       4.010000     2.000000    14.900000     8.000000  "
            ],
            "text/html": [
              "\n",
              "  <div id=\"df-4c03c9b1-d4b5-490c-be33-ce150eff1a25\">\n",
              "    <div class=\"colab-df-container\">\n",
              "      <div>\n",
              "<style scoped>\n",
              "    .dataframe tbody tr th:only-of-type {\n",
              "        vertical-align: middle;\n",
              "    }\n",
              "\n",
              "    .dataframe tbody tr th {\n",
              "        vertical-align: top;\n",
              "    }\n",
              "\n",
              "    .dataframe thead th {\n",
              "        text-align: right;\n",
              "    }\n",
              "</style>\n",
              "<table border=\"1\" class=\"dataframe\">\n",
              "  <thead>\n",
              "    <tr style=\"text-align: right;\">\n",
              "      <th></th>\n",
              "      <th>fixed acidity</th>\n",
              "      <th>volatile acidity</th>\n",
              "      <th>citric acid</th>\n",
              "      <th>residual sugar</th>\n",
              "      <th>chlorides</th>\n",
              "      <th>free sulfur dioxide</th>\n",
              "      <th>total sulfur dioxide</th>\n",
              "      <th>density</th>\n",
              "      <th>pH</th>\n",
              "      <th>sulphates</th>\n",
              "      <th>alcohol</th>\n",
              "      <th>quality</th>\n",
              "    </tr>\n",
              "  </thead>\n",
              "  <tbody>\n",
              "    <tr>\n",
              "      <th>count</th>\n",
              "      <td>1143.000000</td>\n",
              "      <td>1143.000000</td>\n",
              "      <td>1143.000000</td>\n",
              "      <td>1143.000000</td>\n",
              "      <td>1143.000000</td>\n",
              "      <td>1143.000000</td>\n",
              "      <td>1143.000000</td>\n",
              "      <td>1143.000000</td>\n",
              "      <td>1143.000000</td>\n",
              "      <td>1143.000000</td>\n",
              "      <td>1143.000000</td>\n",
              "      <td>1143.000000</td>\n",
              "    </tr>\n",
              "    <tr>\n",
              "      <th>mean</th>\n",
              "      <td>8.311111</td>\n",
              "      <td>0.531339</td>\n",
              "      <td>0.268364</td>\n",
              "      <td>2.532152</td>\n",
              "      <td>0.086933</td>\n",
              "      <td>15.615486</td>\n",
              "      <td>45.914698</td>\n",
              "      <td>0.996730</td>\n",
              "      <td>3.311015</td>\n",
              "      <td>0.657708</td>\n",
              "      <td>10.442111</td>\n",
              "      <td>5.657043</td>\n",
              "    </tr>\n",
              "    <tr>\n",
              "      <th>std</th>\n",
              "      <td>1.747595</td>\n",
              "      <td>0.179633</td>\n",
              "      <td>0.196686</td>\n",
              "      <td>1.355917</td>\n",
              "      <td>0.047267</td>\n",
              "      <td>10.250486</td>\n",
              "      <td>32.782130</td>\n",
              "      <td>0.001925</td>\n",
              "      <td>0.156664</td>\n",
              "      <td>0.170399</td>\n",
              "      <td>1.082196</td>\n",
              "      <td>0.805824</td>\n",
              "    </tr>\n",
              "    <tr>\n",
              "      <th>min</th>\n",
              "      <td>4.600000</td>\n",
              "      <td>0.120000</td>\n",
              "      <td>0.000000</td>\n",
              "      <td>0.900000</td>\n",
              "      <td>0.012000</td>\n",
              "      <td>1.000000</td>\n",
              "      <td>6.000000</td>\n",
              "      <td>0.990070</td>\n",
              "      <td>2.740000</td>\n",
              "      <td>0.330000</td>\n",
              "      <td>8.400000</td>\n",
              "      <td>3.000000</td>\n",
              "    </tr>\n",
              "    <tr>\n",
              "      <th>25%</th>\n",
              "      <td>7.100000</td>\n",
              "      <td>0.392500</td>\n",
              "      <td>0.090000</td>\n",
              "      <td>1.900000</td>\n",
              "      <td>0.070000</td>\n",
              "      <td>7.000000</td>\n",
              "      <td>21.000000</td>\n",
              "      <td>0.995570</td>\n",
              "      <td>3.205000</td>\n",
              "      <td>0.550000</td>\n",
              "      <td>9.500000</td>\n",
              "      <td>5.000000</td>\n",
              "    </tr>\n",
              "    <tr>\n",
              "      <th>50%</th>\n",
              "      <td>7.900000</td>\n",
              "      <td>0.520000</td>\n",
              "      <td>0.250000</td>\n",
              "      <td>2.200000</td>\n",
              "      <td>0.079000</td>\n",
              "      <td>13.000000</td>\n",
              "      <td>37.000000</td>\n",
              "      <td>0.996680</td>\n",
              "      <td>3.310000</td>\n",
              "      <td>0.620000</td>\n",
              "      <td>10.200000</td>\n",
              "      <td>6.000000</td>\n",
              "    </tr>\n",
              "    <tr>\n",
              "      <th>75%</th>\n",
              "      <td>9.100000</td>\n",
              "      <td>0.640000</td>\n",
              "      <td>0.420000</td>\n",
              "      <td>2.600000</td>\n",
              "      <td>0.090000</td>\n",
              "      <td>21.000000</td>\n",
              "      <td>61.000000</td>\n",
              "      <td>0.997845</td>\n",
              "      <td>3.400000</td>\n",
              "      <td>0.730000</td>\n",
              "      <td>11.100000</td>\n",
              "      <td>6.000000</td>\n",
              "    </tr>\n",
              "    <tr>\n",
              "      <th>max</th>\n",
              "      <td>15.900000</td>\n",
              "      <td>1.580000</td>\n",
              "      <td>1.000000</td>\n",
              "      <td>15.500000</td>\n",
              "      <td>0.611000</td>\n",
              "      <td>68.000000</td>\n",
              "      <td>289.000000</td>\n",
              "      <td>1.003690</td>\n",
              "      <td>4.010000</td>\n",
              "      <td>2.000000</td>\n",
              "      <td>14.900000</td>\n",
              "      <td>8.000000</td>\n",
              "    </tr>\n",
              "  </tbody>\n",
              "</table>\n",
              "</div>\n",
              "      <button class=\"colab-df-convert\" onclick=\"convertToInteractive('df-4c03c9b1-d4b5-490c-be33-ce150eff1a25')\"\n",
              "              title=\"Convert this dataframe to an interactive table.\"\n",
              "              style=\"display:none;\">\n",
              "        \n",
              "  <svg xmlns=\"http://www.w3.org/2000/svg\" height=\"24px\"viewBox=\"0 0 24 24\"\n",
              "       width=\"24px\">\n",
              "    <path d=\"M0 0h24v24H0V0z\" fill=\"none\"/>\n",
              "    <path d=\"M18.56 5.44l.94 2.06.94-2.06 2.06-.94-2.06-.94-.94-2.06-.94 2.06-2.06.94zm-11 1L8.5 8.5l.94-2.06 2.06-.94-2.06-.94L8.5 2.5l-.94 2.06-2.06.94zm10 10l.94 2.06.94-2.06 2.06-.94-2.06-.94-.94-2.06-.94 2.06-2.06.94z\"/><path d=\"M17.41 7.96l-1.37-1.37c-.4-.4-.92-.59-1.43-.59-.52 0-1.04.2-1.43.59L10.3 9.45l-7.72 7.72c-.78.78-.78 2.05 0 2.83L4 21.41c.39.39.9.59 1.41.59.51 0 1.02-.2 1.41-.59l7.78-7.78 2.81-2.81c.8-.78.8-2.07 0-2.86zM5.41 20L4 18.59l7.72-7.72 1.47 1.35L5.41 20z\"/>\n",
              "  </svg>\n",
              "      </button>\n",
              "      \n",
              "  <style>\n",
              "    .colab-df-container {\n",
              "      display:flex;\n",
              "      flex-wrap:wrap;\n",
              "      gap: 12px;\n",
              "    }\n",
              "\n",
              "    .colab-df-convert {\n",
              "      background-color: #E8F0FE;\n",
              "      border: none;\n",
              "      border-radius: 50%;\n",
              "      cursor: pointer;\n",
              "      display: none;\n",
              "      fill: #1967D2;\n",
              "      height: 32px;\n",
              "      padding: 0 0 0 0;\n",
              "      width: 32px;\n",
              "    }\n",
              "\n",
              "    .colab-df-convert:hover {\n",
              "      background-color: #E2EBFA;\n",
              "      box-shadow: 0px 1px 2px rgba(60, 64, 67, 0.3), 0px 1px 3px 1px rgba(60, 64, 67, 0.15);\n",
              "      fill: #174EA6;\n",
              "    }\n",
              "\n",
              "    [theme=dark] .colab-df-convert {\n",
              "      background-color: #3B4455;\n",
              "      fill: #D2E3FC;\n",
              "    }\n",
              "\n",
              "    [theme=dark] .colab-df-convert:hover {\n",
              "      background-color: #434B5C;\n",
              "      box-shadow: 0px 1px 3px 1px rgba(0, 0, 0, 0.15);\n",
              "      filter: drop-shadow(0px 1px 2px rgba(0, 0, 0, 0.3));\n",
              "      fill: #FFFFFF;\n",
              "    }\n",
              "  </style>\n",
              "\n",
              "      <script>\n",
              "        const buttonEl =\n",
              "          document.querySelector('#df-4c03c9b1-d4b5-490c-be33-ce150eff1a25 button.colab-df-convert');\n",
              "        buttonEl.style.display =\n",
              "          google.colab.kernel.accessAllowed ? 'block' : 'none';\n",
              "\n",
              "        async function convertToInteractive(key) {\n",
              "          const element = document.querySelector('#df-4c03c9b1-d4b5-490c-be33-ce150eff1a25');\n",
              "          const dataTable =\n",
              "            await google.colab.kernel.invokeFunction('convertToInteractive',\n",
              "                                                     [key], {});\n",
              "          if (!dataTable) return;\n",
              "\n",
              "          const docLinkHtml = 'Like what you see? Visit the ' +\n",
              "            '<a target=\"_blank\" href=https://colab.research.google.com/notebooks/data_table.ipynb>data table notebook</a>'\n",
              "            + ' to learn more about interactive tables.';\n",
              "          element.innerHTML = '';\n",
              "          dataTable['output_type'] = 'display_data';\n",
              "          await google.colab.output.renderOutput(dataTable, element);\n",
              "          const docLink = document.createElement('div');\n",
              "          docLink.innerHTML = docLinkHtml;\n",
              "          element.appendChild(docLink);\n",
              "        }\n",
              "      </script>\n",
              "    </div>\n",
              "  </div>\n",
              "  "
            ]
          },
          "metadata": {},
          "execution_count": 5
        }
      ]
    },
    {
      "cell_type": "markdown",
      "source": [
        "Dal dataset possiamo notare che su alcune colonne abbiamo una variazione significativa tra media e 50 percentile, con alte std come ad esempio \"total sulfur dioxide\"\toppure \"free sulfur dioxide\" questo significa che ci sono valori particolarmente distanti dalla media agli estremi.\n",
        "Si può notare anche che non sono stati rilevati vini con quality minore di 3 o maggiore di 8."
      ],
      "metadata": {
        "id": "_PLuxqSR9C5h"
      }
    },
    {
      "cell_type": "code",
      "source": [
        "data[\"quality\"].value_counts().plot.pie(autopct=\"%1.1f%%\",figsize=(10,8))"
      ],
      "metadata": {
        "id": "ZNfM-WMd9Ck9",
        "outputId": "497f8c47-aa88-4922-b532-3139b9e9f78e",
        "colab": {
          "base_uri": "https://localhost:8080/",
          "height": 0
        }
      },
      "execution_count": 6,
      "outputs": [
        {
          "output_type": "execute_result",
          "data": {
            "text/plain": [
              "<matplotlib.axes._subplots.AxesSubplot at 0x7fb42f908890>"
            ]
          },
          "metadata": {},
          "execution_count": 6
        },
        {
          "output_type": "display_data",
          "data": {
            "text/plain": [
              "<Figure size 720x576 with 1 Axes>"
            ],
            "image/png": "[encoded data removed]"
          },
          "metadata": {}
        }
      ]
    },
    {
      "cell_type": "markdown",
      "source": [
        "Dal grafico possiamo vedere che le classi sono sbilancite e potrebbero essere necessarie tecniche di bilanciamento. "
      ],
      "metadata": {
        "id": "8m-UCZYfCz0G"
      }
    },
    {
      "cell_type": "code",
      "source": [
        "data.isna().sum()"
      ],
      "metadata": {
        "id": "VDURnVYLCzkm",
        "outputId": "bc8dcfb8-6c9f-4da1-d99c-06131a1f447b",
        "colab": {
          "base_uri": "https://localhost:8080/"
        }
      },
      "execution_count": 7,
      "outputs": [
        {
          "output_type": "execute_result",
          "data": {
            "text/plain": [
              "fixed acidity           0\n",
              "volatile acidity        0\n",
              "citric acid             0\n",
              "residual sugar          0\n",
              "chlorides               0\n",
              "free sulfur dioxide     0\n",
              "total sulfur dioxide    0\n",
              "density                 0\n",
              "pH                      0\n",
              "sulphates               0\n",
              "alcohol                 0\n",
              "quality                 0\n",
              "dtype: int64"
            ]
          },
          "metadata": {},
          "execution_count": 7
        }
      ]
    },
    {
      "cell_type": "markdown",
      "source": [
        "Come possiamo vedere non sono presenti valori nulli su nessuna colonna. Il numero di dati presenti nel data set è:"
      ],
      "metadata": {
        "id": "mZpCRWc8DbcT"
      }
    },
    {
      "cell_type": "code",
      "source": [
        "data.shape"
      ],
      "metadata": {
        "id": "l5vjoJw6DbE0",
        "outputId": "aa2d5621-7fbd-4630-dc4d-21caf0134b2e",
        "colab": {
          "base_uri": "https://localhost:8080/"
        }
      },
      "execution_count": 8,
      "outputs": [
        {
          "output_type": "execute_result",
          "data": {
            "text/plain": [
              "(1143, 12)"
            ]
          },
          "metadata": {},
          "execution_count": 8
        }
      ]
    },
    {
      "cell_type": "markdown",
      "source": [
        "abbiamo 1143 record e 12 features."
      ],
      "metadata": {
        "id": "wesbGe50D8qv"
      }
    },
    {
      "cell_type": "markdown",
      "source": [
        "# Data exploration\n"
      ],
      "metadata": {
        "id": "FVtOBhh6Dp2Z"
      }
    },
    {
      "cell_type": "code",
      "source": [
        "data.columns"
      ],
      "metadata": {
        "id": "0Wl_h4CyIa0g",
        "outputId": "90ed5ccf-be69-475e-948e-3acfade2a906",
        "colab": {
          "base_uri": "https://localhost:8080/"
        }
      },
      "execution_count": 9,
      "outputs": [
        {
          "output_type": "execute_result",
          "data": {
            "text/plain": [
              "Index(['fixed acidity', 'volatile acidity', 'citric acid', 'residual sugar',\n",
              "       'chlorides', 'free sulfur dioxide', 'total sulfur dioxide', 'density',\n",
              "       'pH', 'sulphates', 'alcohol', 'quality'],\n",
              "      dtype='object')"
            ]
          },
          "metadata": {},
          "execution_count": 9
        }
      ]
    },
    {
      "cell_type": "code",
      "source": [
        "from ipywidgets import interact\n",
        "@interact(features=data.columns.drop(\"quality\"))\n",
        "def prepare_plot(features):\n",
        "    plt.figure(figsize=(20,20))\n",
        "    data.plot.scatter(x=\"quality\",y=features,title=features)    "
      ],
      "metadata": {
        "collapsed": true,
        "colab": {
          "base_uri": "https://localhost:8080/",
          "height": 0,
          "referenced_widgets": [
            "b21b875efb8b47ec80c0f69e84232841",
            "81e57f6a0964454b8d2d88982999016a",
            "8eed0f1978e7436c9b2a823fcdeba78b",
            "433bcab0862148119c36c9266347553c",
            "e7db34fa002f4f46961f4f16efca84e4",
            "32ea176c8ef34f4384622d15dae86ac4",
            "6a6309384b4a4c55b7279af0a68cdc01"
          ]
        },
        "id": "SE7KYXHK26uX",
        "outputId": "3da33c67-ef04-49fb-d9e6-6ea797e5b102"
      },
      "execution_count": 10,
      "outputs": [
        {
          "output_type": "display_data",
          "data": {
            "text/plain": [
              "interactive(children=(Dropdown(description='features', options=('fixed acidity', 'volatile acidity', 'citric a…"
            ],
            "application/vnd.jupyter.widget-view+json": {
              "version_major": 2,
              "version_minor": 0,
              "model_id": "b21b875efb8b47ec80c0f69e84232841"
            }
          },
          "metadata": {}
        }
      ]
    },
    {
      "cell_type": "code",
      "source": [
        "@interact(features=data.columns.drop(\"quality\"), quality=(data[\"quality\"].min(),data[\"quality\"].max(),1))\n",
        "def prepare_plot(features,quality):\n",
        "    plt.figure(figsize=(5,4))\n",
        "    data[features].where(data[\"quality\"]==quality).plot.hist(title=features)"
      ],
      "metadata": {
        "outputId": "7a656012-0cb0-4c39-d890-7b0afa2e2b83",
        "colab": {
          "base_uri": "https://localhost:8080/",
          "height": 0,
          "referenced_widgets": [
            "b902c081b4eb4078b99b1cc57cb0f882",
            "87d3a860beb84519b1bd9c3e2ba2d6d5",
            "fcfc3b6d06d349099099c72d9f6c4b13",
            "de0676a301834591ad4a8ea52140a5f2",
            "06ba40546feb40f3ab53cd03ceb6ea4c",
            "3017e428bb4340f3bb092a64e9dfc350",
            "395dcb3a09804316bbffcb1b8991c488",
            "01a6972cb28f442a9d3b7e93ef1c4cd2",
            "b84ae124816f4afab97f660a3f6a16be",
            "2f2b7b9885c64c809cb1bc908c273137"
          ]
        },
        "id": "yGh_urrHC1B5"
      },
      "execution_count": 11,
      "outputs": [
        {
          "output_type": "display_data",
          "data": {
            "text/plain": [
              "interactive(children=(Dropdown(description='features', options=('fixed acidity', 'volatile acidity', 'citric a…"
            ],
            "application/vnd.jupyter.widget-view+json": {
              "version_major": 2,
              "version_minor": 0,
              "model_id": "b902c081b4eb4078b99b1cc57cb0f882"
            }
          },
          "metadata": {}
        }
      ]
    },
    {
      "cell_type": "markdown",
      "source": [
        "Costruiamo ora la matrice degli indici di correlazione tra le varie features."
      ],
      "metadata": {
        "id": "k6QubUKypLGB"
      }
    },
    {
      "cell_type": "code",
      "source": [
        "corr = data.corr()\n",
        "corr.style.background_gradient(cmap='coolwarm')"
      ],
      "metadata": {
        "id": "ip9MV8cELQJK",
        "outputId": "23c06c7a-3dbc-445f-e572-e1e26f185c29",
        "colab": {
          "base_uri": "https://localhost:8080/",
          "height": 0
        }
      },
      "execution_count": 12,
      "outputs": [
        {
          "output_type": "execute_result",
          "data": {
            "text/plain": [
              "<pandas.io.formats.style.Styler at 0x7fb42f3b2c50>"
            ],
            "text/html": [
              "<style type=\"text/css\">\n",
              "#T_9cf60_row0_col0, #T_9cf60_row1_col1, #T_9cf60_row2_col2, #T_9cf60_row3_col3, #T_9cf60_row4_col4, #T_9cf60_row5_col5, #T_9cf60_row6_col6, #T_9cf60_row7_col7, #T_9cf60_row8_col8, #T_9cf60_row9_col9, #T_9cf60_row10_col10, #T_9cf60_row11_col11 {\n",
              "  background-color: #b40426;\n",
              "  color: #f1f1f1;\n",
              "}\n",
              "#T_9cf60_row0_col1, #T_9cf60_row2_col6 {\n",
              "  background-color: #779af7;\n",
              "  color: #f1f1f1;\n",
              "}\n",
              "#T_9cf60_row0_col2, #T_9cf60_row0_col7 {\n",
              "  background-color: #f08a6c;\n",
              "  color: #f1f1f1;\n",
              "}\n",
              "#T_9cf60_row0_col3, #T_9cf60_row1_col4 {\n",
              "  background-color: #90b2fe;\n",
              "  color: #000000;\n",
              "}\n",
              "#T_9cf60_row0_col4 {\n",
              "  background-color: #9fbfff;\n",
              "  color: #000000;\n",
              "}\n",
              "#T_9cf60_row0_col5, #T_9cf60_row0_col8, #T_9cf60_row1_col2, #T_9cf60_row1_col9, #T_9cf60_row1_col11, #T_9cf60_row2_col1, #T_9cf60_row7_col10, #T_9cf60_row8_col0, #T_9cf60_row8_col2, #T_9cf60_row8_col3, #T_9cf60_row8_col4, #T_9cf60_row10_col6, #T_9cf60_row10_col7 {\n",
              "  background-color: #3b4cc0;\n",
              "  color: #f1f1f1;\n",
              "}\n",
              "#T_9cf60_row0_col6 {\n",
              "  background-color: #4e68d8;\n",
              "  color: #f1f1f1;\n",
              "}\n",
              "#T_9cf60_row0_col9 {\n",
              "  background-color: #b1cbfc;\n",
              "  color: #000000;\n",
              "}\n",
              "#T_9cf60_row0_col10 {\n",
              "  background-color: #97b8ff;\n",
              "  color: #000000;\n",
              "}\n",
              "#T_9cf60_row0_col11, #T_9cf60_row6_col2, #T_9cf60_row11_col8 {\n",
              "  background-color: #b9d0f9;\n",
              "  color: #000000;\n",
              "}\n",
              "#T_9cf60_row1_col0, #T_9cf60_row6_col4 {\n",
              "  background-color: #8fb1fe;\n",
              "  color: #000000;\n",
              "}\n",
              "#T_9cf60_row1_col3, #T_9cf60_row10_col5 {\n",
              "  background-color: #5977e3;\n",
              "  color: #f1f1f1;\n",
              "}\n",
              "#T_9cf60_row1_col5 {\n",
              "  background-color: #6687ed;\n",
              "  color: #f1f1f1;\n",
              "}\n",
              "#T_9cf60_row1_col6 {\n",
              "  background-color: #84a7fc;\n",
              "  color: #f1f1f1;\n",
              "}\n",
              "#T_9cf60_row1_col7, #T_9cf60_row6_col0 {\n",
              "  background-color: #adc9fd;\n",
              "  color: #000000;\n",
              "}\n",
              "#T_9cf60_row1_col8 {\n",
              "  background-color: #e6d7cf;\n",
              "  color: #000000;\n",
              "}\n",
              "#T_9cf60_row1_col10 {\n",
              "  background-color: #799cf8;\n",
              "  color: #f1f1f1;\n",
              "}\n",
              "#T_9cf60_row2_col0 {\n",
              "  background-color: #ec8165;\n",
              "  color: #f1f1f1;\n",
              "}\n",
              "#T_9cf60_row2_col3 {\n",
              "  background-color: #92b4fe;\n",
              "  color: #000000;\n",
              "}\n",
              "#T_9cf60_row2_col4 {\n",
              "  background-color: #c3d5f4;\n",
              "  color: #000000;\n",
              "}\n",
              "#T_9cf60_row2_col5 {\n",
              "  background-color: #5673e0;\n",
              "  color: #f1f1f1;\n",
              "}\n",
              "#T_9cf60_row2_col7 {\n",
              "  background-color: #efcfbf;\n",
              "  color: #000000;\n",
              "}\n",
              "#T_9cf60_row2_col8 {\n",
              "  background-color: #5470de;\n",
              "  color: #f1f1f1;\n",
              "}\n",
              "#T_9cf60_row2_col9 {\n",
              "  background-color: #d6dce4;\n",
              "  color: #000000;\n",
              "}\n",
              "#T_9cf60_row2_col10 {\n",
              "  background-color: #c0d4f5;\n",
              "  color: #000000;\n",
              "}\n",
              "#T_9cf60_row2_col11 {\n",
              "  background-color: #d2dbe8;\n",
              "  color: #000000;\n",
              "}\n",
              "#T_9cf60_row3_col0, #T_9cf60_row4_col9, #T_9cf60_row9_col0, #T_9cf60_row9_col4, #T_9cf60_row11_col2 {\n",
              "  background-color: #dfdbd9;\n",
              "  color: #000000;\n",
              "}\n",
              "#T_9cf60_row3_col1, #T_9cf60_row5_col1 {\n",
              "  background-color: #afcafc;\n",
              "  color: #000000;\n",
              "}\n",
              "#T_9cf60_row3_col2 {\n",
              "  background-color: #d4dbe6;\n",
              "  color: #000000;\n",
              "}\n",
              "#T_9cf60_row3_col4 {\n",
              "  background-color: #94b6ff;\n",
              "  color: #000000;\n",
              "}\n",
              "#T_9cf60_row3_col5 {\n",
              "  background-color: #98b9ff;\n",
              "  color: #000000;\n",
              "}\n",
              "#T_9cf60_row3_col6 {\n",
              "  background-color: #a5c3fe;\n",
              "  color: #000000;\n",
              "}\n",
              "#T_9cf60_row3_col7 {\n",
              "  background-color: #efcebd;\n",
              "  color: #000000;\n",
              "}\n",
              "#T_9cf60_row3_col8 {\n",
              "  background-color: #abc8fd;\n",
              "  color: #000000;\n",
              "}\n",
              "#T_9cf60_row3_col9, #T_9cf60_row5_col4 {\n",
              "  background-color: #85a8fc;\n",
              "  color: #f1f1f1;\n",
              "}\n",
              "#T_9cf60_row3_col10 {\n",
              "  background-color: #b6cefa;\n",
              "  color: #000000;\n",
              "}\n",
              "#T_9cf60_row3_col11 {\n",
              "  background-color: #a1c0ff;\n",
              "  color: #000000;\n",
              "}\n",
              "#T_9cf60_row4_col0, #T_9cf60_row4_col7, #T_9cf60_row9_col11 {\n",
              "  background-color: #d5dbe5;\n",
              "  color: #000000;\n",
              "}\n",
              "#T_9cf60_row4_col1 {\n",
              "  background-color: #bcd2f7;\n",
              "  color: #000000;\n",
              "}\n",
              "#T_9cf60_row4_col2 {\n",
              "  background-color: #e0dbd8;\n",
              "  color: #000000;\n",
              "}\n",
              "#T_9cf60_row4_col3, #T_9cf60_row9_col5 {\n",
              "  background-color: #7093f3;\n",
              "  color: #f1f1f1;\n",
              "}\n",
              "#T_9cf60_row4_col5 {\n",
              "  background-color: #6b8df0;\n",
              "  color: #f1f1f1;\n",
              "}\n",
              "#T_9cf60_row4_col6, #T_9cf60_row7_col8 {\n",
              "  background-color: #7a9df8;\n",
              "  color: #f1f1f1;\n",
              "}\n",
              "#T_9cf60_row4_col8 {\n",
              "  background-color: #89acfd;\n",
              "  color: #000000;\n",
              "}\n",
              "#T_9cf60_row4_col10 {\n",
              "  background-color: #7396f5;\n",
              "  color: #f1f1f1;\n",
              "}\n",
              "#T_9cf60_row4_col11, #T_9cf60_row7_col6 {\n",
              "  background-color: #7b9ff9;\n",
              "  color: #f1f1f1;\n",
              "}\n",
              "#T_9cf60_row5_col0 {\n",
              "  background-color: #a2c1ff;\n",
              "  color: #000000;\n",
              "}\n",
              "#T_9cf60_row5_col2 {\n",
              "  background-color: #a3c2fe;\n",
              "  color: #000000;\n",
              "}\n",
              "#T_9cf60_row5_col3, #T_9cf60_row8_col11 {\n",
              "  background-color: #8db0fe;\n",
              "  color: #000000;\n",
              "}\n",
              "#T_9cf60_row5_col6 {\n",
              "  background-color: #f7a889;\n",
              "  color: #000000;\n",
              "}\n",
              "#T_9cf60_row5_col7, #T_9cf60_row9_col8 {\n",
              "  background-color: #9dbdff;\n",
              "  color: #000000;\n",
              "}\n",
              "#T_9cf60_row5_col8 {\n",
              "  background-color: #cfdaea;\n",
              "  color: #000000;\n",
              "}\n",
              "#T_9cf60_row5_col9, #T_9cf60_row5_col11 {\n",
              "  background-color: #8badfd;\n",
              "  color: #000000;\n",
              "}\n",
              "#T_9cf60_row5_col10 {\n",
              "  background-color: #9ebeff;\n",
              "  color: #000000;\n",
              "}\n",
              "#T_9cf60_row6_col1 {\n",
              "  background-color: #c1d4f4;\n",
              "  color: #000000;\n",
              "}\n",
              "#T_9cf60_row6_col3 {\n",
              "  background-color: #96b7ff;\n",
              "  color: #000000;\n",
              "}\n",
              "#T_9cf60_row6_col5 {\n",
              "  background-color: #f7a98b;\n",
              "  color: #000000;\n",
              "}\n",
              "#T_9cf60_row6_col7 {\n",
              "  background-color: #b5cdfa;\n",
              "  color: #000000;\n",
              "}\n",
              "#T_9cf60_row6_col8 {\n",
              "  background-color: #b7cff9;\n",
              "  color: #000000;\n",
              "}\n",
              "#T_9cf60_row6_col9 {\n",
              "  background-color: #88abfd;\n",
              "  color: #000000;\n",
              "}\n",
              "#T_9cf60_row6_col10, #T_9cf60_row8_col5 {\n",
              "  background-color: #7da0f9;\n",
              "  color: #f1f1f1;\n",
              "}\n",
              "#T_9cf60_row6_col11, #T_9cf60_row10_col3 {\n",
              "  background-color: #6c8ff1;\n",
              "  color: #f1f1f1;\n",
              "}\n",
              "#T_9cf60_row7_col0 {\n",
              "  background-color: #ec7f63;\n",
              "  color: #f1f1f1;\n",
              "}\n",
              "#T_9cf60_row7_col1, #T_9cf60_row10_col0 {\n",
              "  background-color: #b3cdfb;\n",
              "  color: #000000;\n",
              "}\n",
              "#T_9cf60_row7_col2 {\n",
              "  background-color: #f1ccb8;\n",
              "  color: #000000;\n",
              "}\n",
              "#T_9cf60_row7_col3 {\n",
              "  background-color: #cdd9ec;\n",
              "  color: #000000;\n",
              "}\n",
              "#T_9cf60_row7_col4 {\n",
              "  background-color: #bad0f8;\n",
              "  color: #000000;\n",
              "}\n",
              "#T_9cf60_row7_col5, #T_9cf60_row8_col7 {\n",
              "  background-color: #5875e1;\n",
              "  color: #f1f1f1;\n",
              "}\n",
              "#T_9cf60_row7_col9 {\n",
              "  background-color: #a9c6fd;\n",
              "  color: #000000;\n",
              "}\n",
              "#T_9cf60_row7_col11 {\n",
              "  background-color: #6f92f3;\n",
              "  color: #f1f1f1;\n",
              "}\n",
              "#T_9cf60_row8_col1 {\n",
              "  background-color: #dbdcde;\n",
              "  color: #000000;\n",
              "}\n",
              "#T_9cf60_row8_col6 {\n",
              "  background-color: #5b7ae5;\n",
              "  color: #f1f1f1;\n",
              "}\n",
              "#T_9cf60_row8_col9 {\n",
              "  background-color: #506bda;\n",
              "  color: #f1f1f1;\n",
              "}\n",
              "#T_9cf60_row8_col10 {\n",
              "  background-color: #d8dce2;\n",
              "  color: #000000;\n",
              "}\n",
              "#T_9cf60_row9_col1 {\n",
              "  background-color: #7295f4;\n",
              "  color: #f1f1f1;\n",
              "}\n",
              "#T_9cf60_row9_col2 {\n",
              "  background-color: #edd2c3;\n",
              "  color: #000000;\n",
              "}\n",
              "#T_9cf60_row9_col3, #T_9cf60_row11_col4 {\n",
              "  background-color: #5f7fe8;\n",
              "  color: #f1f1f1;\n",
              "}\n",
              "#T_9cf60_row9_col6 {\n",
              "  background-color: #7597f6;\n",
              "  color: #f1f1f1;\n",
              "}\n",
              "#T_9cf60_row9_col7 {\n",
              "  background-color: #c9d7f0;\n",
              "  color: #000000;\n",
              "}\n",
              "#T_9cf60_row9_col10 {\n",
              "  background-color: #bed2f6;\n",
              "  color: #000000;\n",
              "}\n",
              "#T_9cf60_row10_col1 {\n",
              "  background-color: #82a6fb;\n",
              "  color: #f1f1f1;\n",
              "}\n",
              "#T_9cf60_row10_col2 {\n",
              "  background-color: #c7d7f0;\n",
              "  color: #000000;\n",
              "}\n",
              "#T_9cf60_row10_col4 {\n",
              "  background-color: #455cce;\n",
              "  color: #f1f1f1;\n",
              "}\n",
              "#T_9cf60_row10_col8 {\n",
              "  background-color: #e7d7ce;\n",
              "  color: #000000;\n",
              "}\n",
              "#T_9cf60_row10_col9 {\n",
              "  background-color: #9bbcff;\n",
              "  color: #000000;\n",
              "}\n",
              "#T_9cf60_row10_col11 {\n",
              "  background-color: #f5c1a9;\n",
              "  color: #000000;\n",
              "}\n",
              "#T_9cf60_row11_col0 {\n",
              "  background-color: #d7dce3;\n",
              "  color: #000000;\n",
              "}\n",
              "#T_9cf60_row11_col1, #T_9cf60_row11_col5 {\n",
              "  background-color: #5572df;\n",
              "  color: #f1f1f1;\n",
              "}\n",
              "#T_9cf60_row11_col3 {\n",
              "  background-color: #6180e9;\n",
              "  color: #f1f1f1;\n",
              "}\n",
              "#T_9cf60_row11_col6 {\n",
              "  background-color: #3c4ec2;\n",
              "  color: #f1f1f1;\n",
              "}\n",
              "#T_9cf60_row11_col7 {\n",
              "  background-color: #80a3fa;\n",
              "  color: #f1f1f1;\n",
              "}\n",
              "#T_9cf60_row11_col9 {\n",
              "  background-color: #c6d6f1;\n",
              "  color: #000000;\n",
              "}\n",
              "#T_9cf60_row11_col10 {\n",
              "  background-color: #f7bca1;\n",
              "  color: #000000;\n",
              "}\n",
              "</style>\n",
              "<table id=\"T_9cf60_\" class=\"dataframe\">\n",
              "  <thead>\n",
              "    <tr>\n",
              "      <th class=\"blank level0\" >&nbsp;</th>\n",
              "      <th class=\"col_heading level0 col0\" >fixed acidity</th>\n",
              "      <th class=\"col_heading level0 col1\" >volatile acidity</th>\n",
              "      <th class=\"col_heading level0 col2\" >citric acid</th>\n",
              "      <th class=\"col_heading level0 col3\" >residual sugar</th>\n",
              "      <th class=\"col_heading level0 col4\" >chlorides</th>\n",
              "      <th class=\"col_heading level0 col5\" >free sulfur dioxide</th>\n",
              "      <th class=\"col_heading level0 col6\" >total sulfur dioxide</th>\n",
              "      <th class=\"col_heading level0 col7\" >density</th>\n",
              "      <th class=\"col_heading level0 col8\" >pH</th>\n",
              "      <th class=\"col_heading level0 col9\" >sulphates</th>\n",
              "      <th class=\"col_heading level0 col10\" >alcohol</th>\n",
              "      <th class=\"col_heading level0 col11\" >quality</th>\n",
              "    </tr>\n",
              "  </thead>\n",
              "  <tbody>\n",
              "    <tr>\n",
              "      <th id=\"T_9cf60_level0_row0\" class=\"row_heading level0 row0\" >fixed acidity</th>\n",
              "      <td id=\"T_9cf60_row0_col0\" class=\"data row0 col0\" >1.000000</td>\n",
              "      <td id=\"T_9cf60_row0_col1\" class=\"data row0 col1\" >-0.250728</td>\n",
              "      <td id=\"T_9cf60_row0_col2\" class=\"data row0 col2\" >0.673157</td>\n",
              "      <td id=\"T_9cf60_row0_col3\" class=\"data row0 col3\" >0.171831</td>\n",
              "      <td id=\"T_9cf60_row0_col4\" class=\"data row0 col4\" >0.107889</td>\n",
              "      <td id=\"T_9cf60_row0_col5\" class=\"data row0 col5\" >-0.164831</td>\n",
              "      <td id=\"T_9cf60_row0_col6\" class=\"data row0 col6\" >-0.110628</td>\n",
              "      <td id=\"T_9cf60_row0_col7\" class=\"data row0 col7\" >0.681501</td>\n",
              "      <td id=\"T_9cf60_row0_col8\" class=\"data row0 col8\" >-0.685163</td>\n",
              "      <td id=\"T_9cf60_row0_col9\" class=\"data row0 col9\" >0.174592</td>\n",
              "      <td id=\"T_9cf60_row0_col10\" class=\"data row0 col10\" >-0.075055</td>\n",
              "      <td id=\"T_9cf60_row0_col11\" class=\"data row0 col11\" >0.121970</td>\n",
              "    </tr>\n",
              "    <tr>\n",
              "      <th id=\"T_9cf60_level0_row1\" class=\"row_heading level0 row1\" >volatile acidity</th>\n",
              "      <td id=\"T_9cf60_row1_col0\" class=\"data row1 col0\" >-0.250728</td>\n",
              "      <td id=\"T_9cf60_row1_col1\" class=\"data row1 col1\" >1.000000</td>\n",
              "      <td id=\"T_9cf60_row1_col2\" class=\"data row1 col2\" >-0.544187</td>\n",
              "      <td id=\"T_9cf60_row1_col3\" class=\"data row1 col3\" >-0.005751</td>\n",
              "      <td id=\"T_9cf60_row1_col4\" class=\"data row1 col4\" >0.056336</td>\n",
              "      <td id=\"T_9cf60_row1_col5\" class=\"data row1 col5\" >-0.001962</td>\n",
              "      <td id=\"T_9cf60_row1_col6\" class=\"data row1 col6\" >0.077748</td>\n",
              "      <td id=\"T_9cf60_row1_col7\" class=\"data row1 col7\" >0.016512</td>\n",
              "      <td id=\"T_9cf60_row1_col8\" class=\"data row1 col8\" >0.221492</td>\n",
              "      <td id=\"T_9cf60_row1_col9\" class=\"data row1 col9\" >-0.276079</td>\n",
              "      <td id=\"T_9cf60_row1_col10\" class=\"data row1 col10\" >-0.203909</td>\n",
              "      <td id=\"T_9cf60_row1_col11\" class=\"data row1 col11\" >-0.407394</td>\n",
              "    </tr>\n",
              "    <tr>\n",
              "      <th id=\"T_9cf60_level0_row2\" class=\"row_heading level0 row2\" >citric acid</th>\n",
              "      <td id=\"T_9cf60_row2_col0\" class=\"data row2 col0\" >0.673157</td>\n",
              "      <td id=\"T_9cf60_row2_col1\" class=\"data row2 col1\" >-0.544187</td>\n",
              "      <td id=\"T_9cf60_row2_col2\" class=\"data row2 col2\" >1.000000</td>\n",
              "      <td id=\"T_9cf60_row2_col3\" class=\"data row2 col3\" >0.175815</td>\n",
              "      <td id=\"T_9cf60_row2_col4\" class=\"data row2 col4\" >0.245312</td>\n",
              "      <td id=\"T_9cf60_row2_col5\" class=\"data row2 col5\" >-0.057589</td>\n",
              "      <td id=\"T_9cf60_row2_col6\" class=\"data row2 col6\" >0.036871</td>\n",
              "      <td id=\"T_9cf60_row2_col7\" class=\"data row2 col7\" >0.375243</td>\n",
              "      <td id=\"T_9cf60_row2_col8\" class=\"data row2 col8\" >-0.546339</td>\n",
              "      <td id=\"T_9cf60_row2_col9\" class=\"data row2 col9\" >0.331232</td>\n",
              "      <td id=\"T_9cf60_row2_col10\" class=\"data row2 col10\" >0.106250</td>\n",
              "      <td id=\"T_9cf60_row2_col11\" class=\"data row2 col11\" >0.240821</td>\n",
              "    </tr>\n",
              "    <tr>\n",
              "      <th id=\"T_9cf60_level0_row3\" class=\"row_heading level0 row3\" >residual sugar</th>\n",
              "      <td id=\"T_9cf60_row3_col0\" class=\"data row3 col0\" >0.171831</td>\n",
              "      <td id=\"T_9cf60_row3_col1\" class=\"data row3 col1\" >-0.005751</td>\n",
              "      <td id=\"T_9cf60_row3_col2\" class=\"data row3 col2\" >0.175815</td>\n",
              "      <td id=\"T_9cf60_row3_col3\" class=\"data row3 col3\" >1.000000</td>\n",
              "      <td id=\"T_9cf60_row3_col4\" class=\"data row3 col4\" >0.070863</td>\n",
              "      <td id=\"T_9cf60_row3_col5\" class=\"data row3 col5\" >0.165339</td>\n",
              "      <td id=\"T_9cf60_row3_col6\" class=\"data row3 col6\" >0.190790</td>\n",
              "      <td id=\"T_9cf60_row3_col7\" class=\"data row3 col7\" >0.380147</td>\n",
              "      <td id=\"T_9cf60_row3_col8\" class=\"data row3 col8\" >-0.116959</td>\n",
              "      <td id=\"T_9cf60_row3_col9\" class=\"data row3 col9\" >0.017475</td>\n",
              "      <td id=\"T_9cf60_row3_col10\" class=\"data row3 col10\" >0.058421</td>\n",
              "      <td id=\"T_9cf60_row3_col11\" class=\"data row3 col11\" >0.022002</td>\n",
              "    </tr>\n",
              "    <tr>\n",
              "      <th id=\"T_9cf60_level0_row4\" class=\"row_heading level0 row4\" >chlorides</th>\n",
              "      <td id=\"T_9cf60_row4_col0\" class=\"data row4 col0\" >0.107889</td>\n",
              "      <td id=\"T_9cf60_row4_col1\" class=\"data row4 col1\" >0.056336</td>\n",
              "      <td id=\"T_9cf60_row4_col2\" class=\"data row4 col2\" >0.245312</td>\n",
              "      <td id=\"T_9cf60_row4_col3\" class=\"data row4 col3\" >0.070863</td>\n",
              "      <td id=\"T_9cf60_row4_col4\" class=\"data row4 col4\" >1.000000</td>\n",
              "      <td id=\"T_9cf60_row4_col5\" class=\"data row4 col5\" >0.015280</td>\n",
              "      <td id=\"T_9cf60_row4_col6\" class=\"data row4 col6\" >0.048163</td>\n",
              "      <td id=\"T_9cf60_row4_col7\" class=\"data row4 col7\" >0.208901</td>\n",
              "      <td id=\"T_9cf60_row4_col8\" class=\"data row4 col8\" >-0.277759</td>\n",
              "      <td id=\"T_9cf60_row4_col9\" class=\"data row4 col9\" >0.374784</td>\n",
              "      <td id=\"T_9cf60_row4_col10\" class=\"data row4 col10\" >-0.229917</td>\n",
              "      <td id=\"T_9cf60_row4_col11\" class=\"data row4 col11\" >-0.124085</td>\n",
              "    </tr>\n",
              "    <tr>\n",
              "      <th id=\"T_9cf60_level0_row5\" class=\"row_heading level0 row5\" >free sulfur dioxide</th>\n",
              "      <td id=\"T_9cf60_row5_col0\" class=\"data row5 col0\" >-0.164831</td>\n",
              "      <td id=\"T_9cf60_row5_col1\" class=\"data row5 col1\" >-0.001962</td>\n",
              "      <td id=\"T_9cf60_row5_col2\" class=\"data row5 col2\" >-0.057589</td>\n",
              "      <td id=\"T_9cf60_row5_col3\" class=\"data row5 col3\" >0.165339</td>\n",
              "      <td id=\"T_9cf60_row5_col4\" class=\"data row5 col4\" >0.015280</td>\n",
              "      <td id=\"T_9cf60_row5_col5\" class=\"data row5 col5\" >1.000000</td>\n",
              "      <td id=\"T_9cf60_row5_col6\" class=\"data row5 col6\" >0.661093</td>\n",
              "      <td id=\"T_9cf60_row5_col7\" class=\"data row5 col7\" >-0.054150</td>\n",
              "      <td id=\"T_9cf60_row5_col8\" class=\"data row5 col8\" >0.072804</td>\n",
              "      <td id=\"T_9cf60_row5_col9\" class=\"data row5 col9\" >0.034445</td>\n",
              "      <td id=\"T_9cf60_row5_col10\" class=\"data row5 col10\" >-0.047095</td>\n",
              "      <td id=\"T_9cf60_row5_col11\" class=\"data row5 col11\" >-0.063260</td>\n",
              "    </tr>\n",
              "    <tr>\n",
              "      <th id=\"T_9cf60_level0_row6\" class=\"row_heading level0 row6\" >total sulfur dioxide</th>\n",
              "      <td id=\"T_9cf60_row6_col0\" class=\"data row6 col0\" >-0.110628</td>\n",
              "      <td id=\"T_9cf60_row6_col1\" class=\"data row6 col1\" >0.077748</td>\n",
              "      <td id=\"T_9cf60_row6_col2\" class=\"data row6 col2\" >0.036871</td>\n",
              "      <td id=\"T_9cf60_row6_col3\" class=\"data row6 col3\" >0.190790</td>\n",
              "      <td id=\"T_9cf60_row6_col4\" class=\"data row6 col4\" >0.048163</td>\n",
              "      <td id=\"T_9cf60_row6_col5\" class=\"data row6 col5\" >0.661093</td>\n",
              "      <td id=\"T_9cf60_row6_col6\" class=\"data row6 col6\" >1.000000</td>\n",
              "      <td id=\"T_9cf60_row6_col7\" class=\"data row6 col7\" >0.050175</td>\n",
              "      <td id=\"T_9cf60_row6_col8\" class=\"data row6 col8\" >-0.059126</td>\n",
              "      <td id=\"T_9cf60_row6_col9\" class=\"data row6 col9\" >0.026894</td>\n",
              "      <td id=\"T_9cf60_row6_col10\" class=\"data row6 col10\" >-0.188165</td>\n",
              "      <td id=\"T_9cf60_row6_col11\" class=\"data row6 col11\" >-0.183339</td>\n",
              "    </tr>\n",
              "    <tr>\n",
              "      <th id=\"T_9cf60_level0_row7\" class=\"row_heading level0 row7\" >density</th>\n",
              "      <td id=\"T_9cf60_row7_col0\" class=\"data row7 col0\" >0.681501</td>\n",
              "      <td id=\"T_9cf60_row7_col1\" class=\"data row7 col1\" >0.016512</td>\n",
              "      <td id=\"T_9cf60_row7_col2\" class=\"data row7 col2\" >0.375243</td>\n",
              "      <td id=\"T_9cf60_row7_col3\" class=\"data row7 col3\" >0.380147</td>\n",
              "      <td id=\"T_9cf60_row7_col4\" class=\"data row7 col4\" >0.208901</td>\n",
              "      <td id=\"T_9cf60_row7_col5\" class=\"data row7 col5\" >-0.054150</td>\n",
              "      <td id=\"T_9cf60_row7_col6\" class=\"data row7 col6\" >0.050175</td>\n",
              "      <td id=\"T_9cf60_row7_col7\" class=\"data row7 col7\" >1.000000</td>\n",
              "      <td id=\"T_9cf60_row7_col8\" class=\"data row7 col8\" >-0.352775</td>\n",
              "      <td id=\"T_9cf60_row7_col9\" class=\"data row7 col9\" >0.143139</td>\n",
              "      <td id=\"T_9cf60_row7_col10\" class=\"data row7 col10\" >-0.494727</td>\n",
              "      <td id=\"T_9cf60_row7_col11\" class=\"data row7 col11\" >-0.175208</td>\n",
              "    </tr>\n",
              "    <tr>\n",
              "      <th id=\"T_9cf60_level0_row8\" class=\"row_heading level0 row8\" >pH</th>\n",
              "      <td id=\"T_9cf60_row8_col0\" class=\"data row8 col0\" >-0.685163</td>\n",
              "      <td id=\"T_9cf60_row8_col1\" class=\"data row8 col1\" >0.221492</td>\n",
              "      <td id=\"T_9cf60_row8_col2\" class=\"data row8 col2\" >-0.546339</td>\n",
              "      <td id=\"T_9cf60_row8_col3\" class=\"data row8 col3\" >-0.116959</td>\n",
              "      <td id=\"T_9cf60_row8_col4\" class=\"data row8 col4\" >-0.277759</td>\n",
              "      <td id=\"T_9cf60_row8_col5\" class=\"data row8 col5\" >0.072804</td>\n",
              "      <td id=\"T_9cf60_row8_col6\" class=\"data row8 col6\" >-0.059126</td>\n",
              "      <td id=\"T_9cf60_row8_col7\" class=\"data row8 col7\" >-0.352775</td>\n",
              "      <td id=\"T_9cf60_row8_col8\" class=\"data row8 col8\" >1.000000</td>\n",
              "      <td id=\"T_9cf60_row8_col9\" class=\"data row8 col9\" >-0.185499</td>\n",
              "      <td id=\"T_9cf60_row8_col10\" class=\"data row8 col10\" >0.225322</td>\n",
              "      <td id=\"T_9cf60_row8_col11\" class=\"data row8 col11\" >-0.052453</td>\n",
              "    </tr>\n",
              "    <tr>\n",
              "      <th id=\"T_9cf60_level0_row9\" class=\"row_heading level0 row9\" >sulphates</th>\n",
              "      <td id=\"T_9cf60_row9_col0\" class=\"data row9 col0\" >0.174592</td>\n",
              "      <td id=\"T_9cf60_row9_col1\" class=\"data row9 col1\" >-0.276079</td>\n",
              "      <td id=\"T_9cf60_row9_col2\" class=\"data row9 col2\" >0.331232</td>\n",
              "      <td id=\"T_9cf60_row9_col3\" class=\"data row9 col3\" >0.017475</td>\n",
              "      <td id=\"T_9cf60_row9_col4\" class=\"data row9 col4\" >0.374784</td>\n",
              "      <td id=\"T_9cf60_row9_col5\" class=\"data row9 col5\" >0.034445</td>\n",
              "      <td id=\"T_9cf60_row9_col6\" class=\"data row9 col6\" >0.026894</td>\n",
              "      <td id=\"T_9cf60_row9_col7\" class=\"data row9 col7\" >0.143139</td>\n",
              "      <td id=\"T_9cf60_row9_col8\" class=\"data row9 col8\" >-0.185499</td>\n",
              "      <td id=\"T_9cf60_row9_col9\" class=\"data row9 col9\" >1.000000</td>\n",
              "      <td id=\"T_9cf60_row9_col10\" class=\"data row9 col10\" >0.094421</td>\n",
              "      <td id=\"T_9cf60_row9_col11\" class=\"data row9 col11\" >0.257710</td>\n",
              "    </tr>\n",
              "    <tr>\n",
              "      <th id=\"T_9cf60_level0_row10\" class=\"row_heading level0 row10\" >alcohol</th>\n",
              "      <td id=\"T_9cf60_row10_col0\" class=\"data row10 col0\" >-0.075055</td>\n",
              "      <td id=\"T_9cf60_row10_col1\" class=\"data row10 col1\" >-0.203909</td>\n",
              "      <td id=\"T_9cf60_row10_col2\" class=\"data row10 col2\" >0.106250</td>\n",
              "      <td id=\"T_9cf60_row10_col3\" class=\"data row10 col3\" >0.058421</td>\n",
              "      <td id=\"T_9cf60_row10_col4\" class=\"data row10 col4\" >-0.229917</td>\n",
              "      <td id=\"T_9cf60_row10_col5\" class=\"data row10 col5\" >-0.047095</td>\n",
              "      <td id=\"T_9cf60_row10_col6\" class=\"data row10 col6\" >-0.188165</td>\n",
              "      <td id=\"T_9cf60_row10_col7\" class=\"data row10 col7\" >-0.494727</td>\n",
              "      <td id=\"T_9cf60_row10_col8\" class=\"data row10 col8\" >0.225322</td>\n",
              "      <td id=\"T_9cf60_row10_col9\" class=\"data row10 col9\" >0.094421</td>\n",
              "      <td id=\"T_9cf60_row10_col10\" class=\"data row10 col10\" >1.000000</td>\n",
              "      <td id=\"T_9cf60_row10_col11\" class=\"data row10 col11\" >0.484866</td>\n",
              "    </tr>\n",
              "    <tr>\n",
              "      <th id=\"T_9cf60_level0_row11\" class=\"row_heading level0 row11\" >quality</th>\n",
              "      <td id=\"T_9cf60_row11_col0\" class=\"data row11 col0\" >0.121970</td>\n",
              "      <td id=\"T_9cf60_row11_col1\" class=\"data row11 col1\" >-0.407394</td>\n",
              "      <td id=\"T_9cf60_row11_col2\" class=\"data row11 col2\" >0.240821</td>\n",
              "      <td id=\"T_9cf60_row11_col3\" class=\"data row11 col3\" >0.022002</td>\n",
              "      <td id=\"T_9cf60_row11_col4\" class=\"data row11 col4\" >-0.124085</td>\n",
              "      <td id=\"T_9cf60_row11_col5\" class=\"data row11 col5\" >-0.063260</td>\n",
              "      <td id=\"T_9cf60_row11_col6\" class=\"data row11 col6\" >-0.183339</td>\n",
              "      <td id=\"T_9cf60_row11_col7\" class=\"data row11 col7\" >-0.175208</td>\n",
              "      <td id=\"T_9cf60_row11_col8\" class=\"data row11 col8\" >-0.052453</td>\n",
              "      <td id=\"T_9cf60_row11_col9\" class=\"data row11 col9\" >0.257710</td>\n",
              "      <td id=\"T_9cf60_row11_col10\" class=\"data row11 col10\" >0.484866</td>\n",
              "      <td id=\"T_9cf60_row11_col11\" class=\"data row11 col11\" >1.000000</td>\n",
              "    </tr>\n",
              "  </tbody>\n",
              "</table>\n"
            ]
          },
          "metadata": {},
          "execution_count": 12
        }
      ]
    },
    {
      "cell_type": "markdown",
      "source": [
        "Dalla tabella si possono notare alcune dipendenze tra le variabili di input, che verranno gestite in seguito attraverso regolarizzazione.\n"
      ],
      "metadata": {
        "id": "7uj9Myd2shoH"
      }
    },
    {
      "cell_type": "markdown",
      "source": [
        "Possiamo notare che con l'aggiunta di features polinomiali che in generale ad alte concentrazioni di alcohol e densità corrisponde un valore maggiore di qualità."
      ],
      "metadata": {
        "id": "Uu6Fl6SyWJvd"
      }
    },
    {
      "cell_type": "code",
      "source": [
        "from pandas.core.frame import DataFrame\n",
        "from sklearn.preprocessing import PolynomialFeatures\n",
        "p = PolynomialFeatures(degree=2,include_bias=False)\n",
        "d2data = p.fit_transform(data)\n",
        "d2frame = DataFrame(d2data,index=data.index,columns=p.get_feature_names_out(data.columns))\n",
        "d2frame.corr()[\"quality\"].sort_values(ascending=False)[7:15]\n"
      ],
      "metadata": {
        "colab": {
          "base_uri": "https://localhost:8080/"
        },
        "id": "5r7oGcx8otZN",
        "outputId": "3b45d763-181e-44d8-b1a8-9172f619dfc1"
      },
      "execution_count": 13,
      "outputs": [
        {
          "output_type": "execute_result",
          "data": {
            "text/plain": [
              "density alcohol          0.486064\n",
              "alcohol                  0.484866\n",
              "alcohol^2                0.479769\n",
              "citric acid quality      0.422371\n",
              "sulphates alcohol        0.421844\n",
              "pH alcohol               0.382603\n",
              "fixed acidity alcohol    0.320437\n",
              "citric acid alcohol      0.309092\n",
              "Name: quality, dtype: float64"
            ]
          },
          "metadata": {},
          "execution_count": 13
        }
      ]
    },
    {
      "cell_type": "markdown",
      "source": [
        "Vediamo con un grafico scatter possibili correlazioni tra più features e quality:"
      ],
      "metadata": {
        "id": "m8Znj-E4Yy96"
      }
    },
    {
      "cell_type": "code",
      "source": [
        "@interact(features1=data.columns.drop(\"quality\"), features2=data.columns.drop(\"quality\"))\n",
        "def prepare_plot(features1,features2):\n",
        "    plt.figure(figsize=(10,8))\n",
        "    a=plt.scatter(data[features1],data[features2],c=data[\"quality\"])\n",
        "    plt.colorbar(a)"
      ],
      "metadata": {
        "id": "zysghAbtWhse",
        "outputId": "75c00828-9ed4-46d7-bc44-6a9aad1333e6",
        "colab": {
          "base_uri": "https://localhost:8080/",
          "height": 0,
          "referenced_widgets": [
            "7ac172d32d594371bebdb46d0f749865",
            "6d99abca9d764896b4df93f5119f1478",
            "1d59bec4bb7e42fe994bb1fa40c4e73d",
            "74ebf8becbb54accbb190e3eb22684a6",
            "a760b2e93c7946ee866be862c1cec58e",
            "a86f579d6a6f4e52b9366086c7aaacef",
            "61ebde3c21f946bfa33a8499d6a535f3",
            "76d8452ba0524fb6a57ab36ae0085c45",
            "14c91eec318b4bd0ac5792cee2ccc0ca",
            "8e46aebb6e7c40478e47be5b2ce6ce4a"
          ]
        }
      },
      "execution_count": 14,
      "outputs": [
        {
          "output_type": "display_data",
          "data": {
            "text/plain": [
              "interactive(children=(Dropdown(description='features1', options=('fixed acidity', 'volatile acidity', 'citric …"
            ],
            "application/vnd.jupyter.widget-view+json": {
              "version_major": 2,
              "version_minor": 0,
              "model_id": "7ac172d32d594371bebdb46d0f749865"
            }
          },
          "metadata": {}
        }
      ]
    },
    {
      "cell_type": "markdown",
      "source": [
        "Puliamo la tabella dai valori non interessanti e ordianiamo i valori linearmente correlati con la features quality:"
      ],
      "metadata": {
        "id": "E_QhcZtnpcpD"
      }
    },
    {
      "cell_type": "code",
      "source": [
        "data.corr()[\"quality\"].drop(labels=\"quality\").abs().sort_values(ascending=False)"
      ],
      "metadata": {
        "id": "ntnTPeE_oi3M",
        "outputId": "a93a5dfd-cdfd-4a67-b566-2d370fb0bb15",
        "colab": {
          "base_uri": "https://localhost:8080/"
        }
      },
      "execution_count": 15,
      "outputs": [
        {
          "output_type": "execute_result",
          "data": {
            "text/plain": [
              "alcohol                 0.484866\n",
              "volatile acidity        0.407394\n",
              "sulphates               0.257710\n",
              "citric acid             0.240821\n",
              "total sulfur dioxide    0.183339\n",
              "density                 0.175208\n",
              "chlorides               0.124085\n",
              "fixed acidity           0.121970\n",
              "free sulfur dioxide     0.063260\n",
              "pH                      0.052453\n",
              "residual sugar          0.022002\n",
              "Name: quality, dtype: float64"
            ]
          },
          "metadata": {},
          "execution_count": 15
        }
      ]
    },
    {
      "cell_type": "markdown",
      "source": [
        "Possiamo notare che le prime quattro features che compaiono sono alcohol, volatile acidity, sulphates, citric acid. Questo significa che queste features sono quelle con un riscontro più rilavanti sulla qualità del vino (con contributo positivo o negativo).                     "
      ],
      "metadata": {
        "id": "4wO5WAaCqQ4F"
      }
    },
    {
      "cell_type": "code",
      "source": [
        "figure, axes = plt.subplots(1, 2,figsize=(10,7))\n",
        "axes[0].plot(data.groupby(\"quality\")[\"alcohol\"].mean().index,data.groupby(\"quality\")[\"alcohol\"].mean())\n",
        "data.boxplot(column=\"alcohol\", by =\"quality\",showmeans=True,ax=axes[1])"
      ],
      "metadata": {
        "id": "CZnYjWeQxEgh",
        "outputId": "3d1ee064-c2e2-4528-d3cf-18e70a817523",
        "colab": {
          "base_uri": "https://localhost:8080/",
          "height": 0
        }
      },
      "execution_count": 16,
      "outputs": [
        {
          "output_type": "stream",
          "name": "stderr",
          "text": [
            "/usr/local/lib/python3.7/dist-packages/matplotlib/cbook/__init__.py:1376: VisibleDeprecationWarning: Creating an ndarray from ragged nested sequences (which is a list-or-tuple of lists-or-tuples-or ndarrays with different lengths or shapes) is deprecated. If you meant to do this, you must specify 'dtype=object' when creating the ndarray.\n",
            "  X = np.atleast_1d(X.T if isinstance(X, np.ndarray) else np.asarray(X))\n"
          ]
        },
        {
          "output_type": "execute_result",
          "data": {
            "text/plain": [
              "<matplotlib.axes._subplots.AxesSubplot at 0x7fb42ee94450>"
            ]
          },
          "metadata": {},
          "execution_count": 16
        },
        {
          "output_type": "display_data",
          "data": {
            "text/plain": [
              "<Figure size 720x504 with 2 Axes>"
            ],
            "image/png": "[encoded data removed]"
          },
          "metadata": {
            "needs_background": "light"
          }
        }
      ]
    },
    {
      "cell_type": "markdown",
      "source": [
        "La correlazine tra alcohol e qualità è direttamnete proporzionale.L'indice di correllazione infatti è:\n"
      ],
      "metadata": {
        "id": "3cR-f20Y3fJz"
      }
    },
    {
      "cell_type": "code",
      "source": [
        "data.corr().loc[\"quality\",\"alcohol\"]"
      ],
      "metadata": {
        "colab": {
          "base_uri": "https://localhost:8080/"
        },
        "id": "STx9o6W-3t1y",
        "outputId": "06599322-2ba4-49c5-d827-45f434e72983"
      },
      "execution_count": 17,
      "outputs": [
        {
          "output_type": "execute_result",
          "data": {
            "text/plain": [
              "0.48486621180851264"
            ]
          },
          "metadata": {},
          "execution_count": 17
        }
      ]
    },
    {
      "cell_type": "code",
      "source": [
        "figure, axes = plt.subplots(1, 2,figsize=(10,7))\n",
        "axes[0].plot(data.groupby(\"quality\")[\"volatile acidity\"].mean().index,data.groupby(\"quality\")[\"volatile acidity\"].mean())\n",
        "data.boxplot(column=\"volatile acidity\", by =\"quality\",showmeans=True,ax=axes[1])"
      ],
      "metadata": {
        "id": "aeKJkiaYvdJE",
        "outputId": "995e165c-279f-41e3-d7e3-ebacf678309d",
        "colab": {
          "base_uri": "https://localhost:8080/",
          "height": 0
        }
      },
      "execution_count": 18,
      "outputs": [
        {
          "output_type": "stream",
          "name": "stderr",
          "text": [
            "/usr/local/lib/python3.7/dist-packages/matplotlib/cbook/__init__.py:1376: VisibleDeprecationWarning: Creating an ndarray from ragged nested sequences (which is a list-or-tuple of lists-or-tuples-or ndarrays with different lengths or shapes) is deprecated. If you meant to do this, you must specify 'dtype=object' when creating the ndarray.\n",
            "  X = np.atleast_1d(X.T if isinstance(X, np.ndarray) else np.asarray(X))\n"
          ]
        },
        {
          "output_type": "execute_result",
          "data": {
            "text/plain": [
              "<matplotlib.axes._subplots.AxesSubplot at 0x7fb42ecdc310>"
            ]
          },
          "metadata": {},
          "execution_count": 18
        },
        {
          "output_type": "display_data",
          "data": {
            "text/plain": [
              "<Figure size 720x504 with 2 Axes>"
            ],
            "image/png": "[encoded data removed]"
          },
          "metadata": {
            "needs_background": "light"
          }
        }
      ]
    },
    {
      "cell_type": "markdown",
      "source": [
        "La correlazine tra volatile acidity e qualità è inversamente proporzionale.L'indice di correllazione infatti è:"
      ],
      "metadata": {
        "id": "5pEo4U9L4WAS"
      }
    },
    {
      "cell_type": "code",
      "source": [
        "data.corr().loc[\"quality\",\"volatile acidity\"]"
      ],
      "metadata": {
        "id": "gsAP-B9E4gP_",
        "colab": {
          "base_uri": "https://localhost:8080/"
        },
        "outputId": "cee02a54-59d6-405a-f356-63f1825e2820"
      },
      "execution_count": 19,
      "outputs": [
        {
          "output_type": "execute_result",
          "data": {
            "text/plain": [
              "-0.40739351292438425"
            ]
          },
          "metadata": {},
          "execution_count": 19
        }
      ]
    },
    {
      "cell_type": "code",
      "source": [
        "figure, axes = plt.subplots(1, 2,figsize=(10,7))\n",
        "axes[0].plot(data.groupby(\"quality\")[\"sulphates\"].mean().index,data.groupby(\"quality\")[\"sulphates\"].mean())\n",
        "data.boxplot(column=\"sulphates\", by =\"quality\",showmeans=True,ax=axes[1])"
      ],
      "metadata": {
        "id": "A2_Zx91VwHql",
        "outputId": "6ce0a456-a191-4550-fb99-14237cf41e5d",
        "colab": {
          "base_uri": "https://localhost:8080/",
          "height": 0
        }
      },
      "execution_count": 20,
      "outputs": [
        {
          "output_type": "stream",
          "name": "stderr",
          "text": [
            "/usr/local/lib/python3.7/dist-packages/matplotlib/cbook/__init__.py:1376: VisibleDeprecationWarning: Creating an ndarray from ragged nested sequences (which is a list-or-tuple of lists-or-tuples-or ndarrays with different lengths or shapes) is deprecated. If you meant to do this, you must specify 'dtype=object' when creating the ndarray.\n",
            "  X = np.atleast_1d(X.T if isinstance(X, np.ndarray) else np.asarray(X))\n"
          ]
        },
        {
          "output_type": "execute_result",
          "data": {
            "text/plain": [
              "<matplotlib.axes._subplots.AxesSubplot at 0x7fb42eb558d0>"
            ]
          },
          "metadata": {},
          "execution_count": 20
        },
        {
          "output_type": "display_data",
          "data": {
            "text/plain": [
              "<Figure size 720x504 with 2 Axes>"
            ],
            "image/png": "[encoded data removed]"
          },
          "metadata": {
            "needs_background": "light"
          }
        }
      ]
    },
    {
      "cell_type": "markdown",
      "source": [
        "La correlazine tra sulphates e qualità è direttamente proporzionale.L'indice di correllazione infatti è:\n",
        "\n"
      ],
      "metadata": {
        "id": "Jz0jCV5O4lKp"
      }
    },
    {
      "cell_type": "code",
      "source": [
        "data.corr().loc[\"quality\",\"sulphates\"]"
      ],
      "metadata": {
        "id": "gZZK1iv34woc",
        "outputId": "a62e7e80-97d5-45a0-b1aa-4502920d9ee9",
        "colab": {
          "base_uri": "https://localhost:8080/"
        }
      },
      "execution_count": 21,
      "outputs": [
        {
          "output_type": "execute_result",
          "data": {
            "text/plain": [
              "0.2577102599306222"
            ]
          },
          "metadata": {},
          "execution_count": 21
        }
      ]
    },
    {
      "cell_type": "code",
      "source": [
        "figure, axes = plt.subplots(1, 2,figsize=(10,7))\n",
        "axes[0].plot(data.groupby(\"quality\")[\"citric acid\"].mean().index,data.groupby(\"quality\")[\"citric acid\"].mean())\n",
        "data.boxplot(column=\"citric acid\", by =\"quality\",showmeans=True,ax=axes[1])"
      ],
      "metadata": {
        "id": "jEaMwaPOowp0",
        "outputId": "81978e0a-ce30-4bc1-fda6-0e96e2f7bc5d",
        "colab": {
          "base_uri": "https://localhost:8080/",
          "height": 0
        }
      },
      "execution_count": 22,
      "outputs": [
        {
          "output_type": "stream",
          "name": "stderr",
          "text": [
            "/usr/local/lib/python3.7/dist-packages/matplotlib/cbook/__init__.py:1376: VisibleDeprecationWarning: Creating an ndarray from ragged nested sequences (which is a list-or-tuple of lists-or-tuples-or ndarrays with different lengths or shapes) is deprecated. If you meant to do this, you must specify 'dtype=object' when creating the ndarray.\n",
            "  X = np.atleast_1d(X.T if isinstance(X, np.ndarray) else np.asarray(X))\n"
          ]
        },
        {
          "output_type": "execute_result",
          "data": {
            "text/plain": [
              "<matplotlib.axes._subplots.AxesSubplot at 0x7fb42ea5d090>"
            ]
          },
          "metadata": {},
          "execution_count": 22
        },
        {
          "output_type": "display_data",
          "data": {
            "text/plain": [
              "<Figure size 720x504 with 2 Axes>"
            ],
            "image/png": "[encoded data removed]"
          },
          "metadata": {
            "needs_background": "light"
          }
        }
      ]
    },
    {
      "cell_type": "markdown",
      "source": [
        "La correlazine tra citric acid e qualità è direttamente proporzionale.L'indice di correllazione infatti è:"
      ],
      "metadata": {
        "id": "N6ErJF4d4-PH"
      }
    },
    {
      "cell_type": "code",
      "source": [
        "data.corr().loc[\"quality\",\"citric acid\"]"
      ],
      "metadata": {
        "id": "ZYoYWsL-uEXI",
        "outputId": "5fa768b7-580c-4ae6-c07b-aec7d71ec2ab",
        "colab": {
          "base_uri": "https://localhost:8080/"
        }
      },
      "execution_count": 23,
      "outputs": [
        {
          "output_type": "execute_result",
          "data": {
            "text/plain": [
              "0.24082083714719305"
            ]
          },
          "metadata": {},
          "execution_count": 23
        }
      ]
    },
    {
      "cell_type": "markdown",
      "source": [
        "# Normalizzazione\n",
        "Come possiamo vedere le features hanno scale diverse, quindi si prosegue con normalizzazione dei dati."
      ],
      "metadata": {
        "id": "jET52u14xmOc"
      }
    },
    {
      "cell_type": "code",
      "source": [
        "data.drop(columns=\"quality\").aggregate([\"min\",\"max\"]).T"
      ],
      "metadata": {
        "colab": {
          "base_uri": "https://localhost:8080/",
          "height": 0
        },
        "id": "WDlamdzMyoiv",
        "outputId": "097fb3eb-4305-4d1a-ff1b-5c602fd39ae6"
      },
      "execution_count": 24,
      "outputs": [
        {
          "output_type": "execute_result",
          "data": {
            "text/plain": [
              "                          min        max\n",
              "fixed acidity         4.60000   15.90000\n",
              "volatile acidity      0.12000    1.58000\n",
              "citric acid           0.00000    1.00000\n",
              "residual sugar        0.90000   15.50000\n",
              "chlorides             0.01200    0.61100\n",
              "free sulfur dioxide   1.00000   68.00000\n",
              "total sulfur dioxide  6.00000  289.00000\n",
              "density               0.99007    1.00369\n",
              "pH                    2.74000    4.01000\n",
              "sulphates             0.33000    2.00000\n",
              "alcohol               8.40000   14.90000"
            ],
            "text/html": [
              "\n",
              "  <div id=\"df-74884bf4-d0ab-4e11-a424-ad68b512cc06\">\n",
              "    <div class=\"colab-df-container\">\n",
              "      <div>\n",
              "<style scoped>\n",
              "    .dataframe tbody tr th:only-of-type {\n",
              "        vertical-align: middle;\n",
              "    }\n",
              "\n",
              "    .dataframe tbody tr th {\n",
              "        vertical-align: top;\n",
              "    }\n",
              "\n",
              "    .dataframe thead th {\n",
              "        text-align: right;\n",
              "    }\n",
              "</style>\n",
              "<table border=\"1\" class=\"dataframe\">\n",
              "  <thead>\n",
              "    <tr style=\"text-align: right;\">\n",
              "      <th></th>\n",
              "      <th>min</th>\n",
              "      <th>max</th>\n",
              "    </tr>\n",
              "  </thead>\n",
              "  <tbody>\n",
              "    <tr>\n",
              "      <th>fixed acidity</th>\n",
              "      <td>4.60000</td>\n",
              "      <td>15.90000</td>\n",
              "    </tr>\n",
              "    <tr>\n",
              "      <th>volatile acidity</th>\n",
              "      <td>0.12000</td>\n",
              "      <td>1.58000</td>\n",
              "    </tr>\n",
              "    <tr>\n",
              "      <th>citric acid</th>\n",
              "      <td>0.00000</td>\n",
              "      <td>1.00000</td>\n",
              "    </tr>\n",
              "    <tr>\n",
              "      <th>residual sugar</th>\n",
              "      <td>0.90000</td>\n",
              "      <td>15.50000</td>\n",
              "    </tr>\n",
              "    <tr>\n",
              "      <th>chlorides</th>\n",
              "      <td>0.01200</td>\n",
              "      <td>0.61100</td>\n",
              "    </tr>\n",
              "    <tr>\n",
              "      <th>free sulfur dioxide</th>\n",
              "      <td>1.00000</td>\n",
              "      <td>68.00000</td>\n",
              "    </tr>\n",
              "    <tr>\n",
              "      <th>total sulfur dioxide</th>\n",
              "      <td>6.00000</td>\n",
              "      <td>289.00000</td>\n",
              "    </tr>\n",
              "    <tr>\n",
              "      <th>density</th>\n",
              "      <td>0.99007</td>\n",
              "      <td>1.00369</td>\n",
              "    </tr>\n",
              "    <tr>\n",
              "      <th>pH</th>\n",
              "      <td>2.74000</td>\n",
              "      <td>4.01000</td>\n",
              "    </tr>\n",
              "    <tr>\n",
              "      <th>sulphates</th>\n",
              "      <td>0.33000</td>\n",
              "      <td>2.00000</td>\n",
              "    </tr>\n",
              "    <tr>\n",
              "      <th>alcohol</th>\n",
              "      <td>8.40000</td>\n",
              "      <td>14.90000</td>\n",
              "    </tr>\n",
              "  </tbody>\n",
              "</table>\n",
              "</div>\n",
              "      <button class=\"colab-df-convert\" onclick=\"convertToInteractive('df-74884bf4-d0ab-4e11-a424-ad68b512cc06')\"\n",
              "              title=\"Convert this dataframe to an interactive table.\"\n",
              "              style=\"display:none;\">\n",
              "        \n",
              "  <svg xmlns=\"http://www.w3.org/2000/svg\" height=\"24px\"viewBox=\"0 0 24 24\"\n",
              "       width=\"24px\">\n",
              "    <path d=\"M0 0h24v24H0V0z\" fill=\"none\"/>\n",
              "    <path d=\"M18.56 5.44l.94 2.06.94-2.06 2.06-.94-2.06-.94-.94-2.06-.94 2.06-2.06.94zm-11 1L8.5 8.5l.94-2.06 2.06-.94-2.06-.94L8.5 2.5l-.94 2.06-2.06.94zm10 10l.94 2.06.94-2.06 2.06-.94-2.06-.94-.94-2.06-.94 2.06-2.06.94z\"/><path d=\"M17.41 7.96l-1.37-1.37c-.4-.4-.92-.59-1.43-.59-.52 0-1.04.2-1.43.59L10.3 9.45l-7.72 7.72c-.78.78-.78 2.05 0 2.83L4 21.41c.39.39.9.59 1.41.59.51 0 1.02-.2 1.41-.59l7.78-7.78 2.81-2.81c.8-.78.8-2.07 0-2.86zM5.41 20L4 18.59l7.72-7.72 1.47 1.35L5.41 20z\"/>\n",
              "  </svg>\n",
              "      </button>\n",
              "      \n",
              "  <style>\n",
              "    .colab-df-container {\n",
              "      display:flex;\n",
              "      flex-wrap:wrap;\n",
              "      gap: 12px;\n",
              "    }\n",
              "\n",
              "    .colab-df-convert {\n",
              "      background-color: #E8F0FE;\n",
              "      border: none;\n",
              "      border-radius: 50%;\n",
              "      cursor: pointer;\n",
              "      display: none;\n",
              "      fill: #1967D2;\n",
              "      height: 32px;\n",
              "      padding: 0 0 0 0;\n",
              "      width: 32px;\n",
              "    }\n",
              "\n",
              "    .colab-df-convert:hover {\n",
              "      background-color: #E2EBFA;\n",
              "      box-shadow: 0px 1px 2px rgba(60, 64, 67, 0.3), 0px 1px 3px 1px rgba(60, 64, 67, 0.15);\n",
              "      fill: #174EA6;\n",
              "    }\n",
              "\n",
              "    [theme=dark] .colab-df-convert {\n",
              "      background-color: #3B4455;\n",
              "      fill: #D2E3FC;\n",
              "    }\n",
              "\n",
              "    [theme=dark] .colab-df-convert:hover {\n",
              "      background-color: #434B5C;\n",
              "      box-shadow: 0px 1px 3px 1px rgba(0, 0, 0, 0.15);\n",
              "      filter: drop-shadow(0px 1px 2px rgba(0, 0, 0, 0.3));\n",
              "      fill: #FFFFFF;\n",
              "    }\n",
              "  </style>\n",
              "\n",
              "      <script>\n",
              "        const buttonEl =\n",
              "          document.querySelector('#df-74884bf4-d0ab-4e11-a424-ad68b512cc06 button.colab-df-convert');\n",
              "        buttonEl.style.display =\n",
              "          google.colab.kernel.accessAllowed ? 'block' : 'none';\n",
              "\n",
              "        async function convertToInteractive(key) {\n",
              "          const element = document.querySelector('#df-74884bf4-d0ab-4e11-a424-ad68b512cc06');\n",
              "          const dataTable =\n",
              "            await google.colab.kernel.invokeFunction('convertToInteractive',\n",
              "                                                     [key], {});\n",
              "          if (!dataTable) return;\n",
              "\n",
              "          const docLinkHtml = 'Like what you see? Visit the ' +\n",
              "            '<a target=\"_blank\" href=https://colab.research.google.com/notebooks/data_table.ipynb>data table notebook</a>'\n",
              "            + ' to learn more about interactive tables.';\n",
              "          element.innerHTML = '';\n",
              "          dataTable['output_type'] = 'display_data';\n",
              "          await google.colab.output.renderOutput(dataTable, element);\n",
              "          const docLink = document.createElement('div');\n",
              "          docLink.innerHTML = docLinkHtml;\n",
              "          element.appendChild(docLink);\n",
              "        }\n",
              "      </script>\n",
              "    </div>\n",
              "  </div>\n",
              "  "
            ]
          },
          "metadata": {},
          "execution_count": 24
        }
      ]
    },
    {
      "cell_type": "code",
      "source": [
        "from sklearn.preprocessing import MinMaxScaler \n",
        "X = MinMaxScaler().fit_transform(data.drop(columns=\"quality\"))\n",
        "X = DataFrame(X,columns=data.drop(columns=\"quality\").columns,index=data.index)\n",
        "X.head()"
      ],
      "metadata": {
        "colab": {
          "base_uri": "https://localhost:8080/",
          "height": 0
        },
        "id": "3gi_yZKtyqWi",
        "outputId": "d6aeabba-43f8-44ab-b367-180308df89a2"
      },
      "execution_count": 25,
      "outputs": [
        {
          "output_type": "execute_result",
          "data": {
            "text/plain": [
              "    fixed acidity  volatile acidity  citric acid  residual sugar  chlorides  \\\n",
              "Id                                                                            \n",
              "0        0.247788          0.397260         0.00        0.068493   0.106845   \n",
              "1        0.283186          0.520548         0.00        0.116438   0.143573   \n",
              "2        0.283186          0.438356         0.04        0.095890   0.133556   \n",
              "3        0.584071          0.109589         0.56        0.068493   0.105175   \n",
              "4        0.247788          0.397260         0.00        0.068493   0.106845   \n",
              "\n",
              "    free sulfur dioxide  total sulfur dioxide   density        pH  sulphates  \\\n",
              "Id                                                                             \n",
              "0              0.149254              0.098940  0.567548  0.606299   0.137725   \n",
              "1              0.358209              0.215548  0.494126  0.362205   0.209581   \n",
              "2              0.208955              0.169611  0.508811  0.409449   0.191617   \n",
              "3              0.238806              0.190813  0.582232  0.330709   0.149701   \n",
              "4              0.149254              0.098940  0.567548  0.606299   0.137725   \n",
              "\n",
              "     alcohol  \n",
              "Id            \n",
              "0   0.153846  \n",
              "1   0.215385  \n",
              "2   0.215385  \n",
              "3   0.215385  \n",
              "4   0.153846  "
            ],
            "text/html": [
              "\n",
              "  <div id=\"df-e9886cb4-a2f7-4505-b239-e28b33e5fbd7\">\n",
              "    <div class=\"colab-df-container\">\n",
              "      <div>\n",
              "<style scoped>\n",
              "    .dataframe tbody tr th:only-of-type {\n",
              "        vertical-align: middle;\n",
              "    }\n",
              "\n",
              "    .dataframe tbody tr th {\n",
              "        vertical-align: top;\n",
              "    }\n",
              "\n",
              "    .dataframe thead th {\n",
              "        text-align: right;\n",
              "    }\n",
              "</style>\n",
              "<table border=\"1\" class=\"dataframe\">\n",
              "  <thead>\n",
              "    <tr style=\"text-align: right;\">\n",
              "      <th></th>\n",
              "      <th>fixed acidity</th>\n",
              "      <th>volatile acidity</th>\n",
              "      <th>citric acid</th>\n",
              "      <th>residual sugar</th>\n",
              "      <th>chlorides</th>\n",
              "      <th>free sulfur dioxide</th>\n",
              "      <th>total sulfur dioxide</th>\n",
              "      <th>density</th>\n",
              "      <th>pH</th>\n",
              "      <th>sulphates</th>\n",
              "      <th>alcohol</th>\n",
              "    </tr>\n",
              "    <tr>\n",
              "      <th>Id</th>\n",
              "      <th></th>\n",
              "      <th></th>\n",
              "      <th></th>\n",
              "      <th></th>\n",
              "      <th></th>\n",
              "      <th></th>\n",
              "      <th></th>\n",
              "      <th></th>\n",
              "      <th></th>\n",
              "      <th></th>\n",
              "      <th></th>\n",
              "    </tr>\n",
              "  </thead>\n",
              "  <tbody>\n",
              "    <tr>\n",
              "      <th>0</th>\n",
              "      <td>0.247788</td>\n",
              "      <td>0.397260</td>\n",
              "      <td>0.00</td>\n",
              "      <td>0.068493</td>\n",
              "      <td>0.106845</td>\n",
              "      <td>0.149254</td>\n",
              "      <td>0.098940</td>\n",
              "      <td>0.567548</td>\n",
              "      <td>0.606299</td>\n",
              "      <td>0.137725</td>\n",
              "      <td>0.153846</td>\n",
              "    </tr>\n",
              "    <tr>\n",
              "      <th>1</th>\n",
              "      <td>0.283186</td>\n",
              "      <td>0.520548</td>\n",
              "      <td>0.00</td>\n",
              "      <td>0.116438</td>\n",
              "      <td>0.143573</td>\n",
              "      <td>0.358209</td>\n",
              "      <td>0.215548</td>\n",
              "      <td>0.494126</td>\n",
              "      <td>0.362205</td>\n",
              "      <td>0.209581</td>\n",
              "      <td>0.215385</td>\n",
              "    </tr>\n",
              "    <tr>\n",
              "      <th>2</th>\n",
              "      <td>0.283186</td>\n",
              "      <td>0.438356</td>\n",
              "      <td>0.04</td>\n",
              "      <td>0.095890</td>\n",
              "      <td>0.133556</td>\n",
              "      <td>0.208955</td>\n",
              "      <td>0.169611</td>\n",
              "      <td>0.508811</td>\n",
              "      <td>0.409449</td>\n",
              "      <td>0.191617</td>\n",
              "      <td>0.215385</td>\n",
              "    </tr>\n",
              "    <tr>\n",
              "      <th>3</th>\n",
              "      <td>0.584071</td>\n",
              "      <td>0.109589</td>\n",
              "      <td>0.56</td>\n",
              "      <td>0.068493</td>\n",
              "      <td>0.105175</td>\n",
              "      <td>0.238806</td>\n",
              "      <td>0.190813</td>\n",
              "      <td>0.582232</td>\n",
              "      <td>0.330709</td>\n",
              "      <td>0.149701</td>\n",
              "      <td>0.215385</td>\n",
              "    </tr>\n",
              "    <tr>\n",
              "      <th>4</th>\n",
              "      <td>0.247788</td>\n",
              "      <td>0.397260</td>\n",
              "      <td>0.00</td>\n",
              "      <td>0.068493</td>\n",
              "      <td>0.106845</td>\n",
              "      <td>0.149254</td>\n",
              "      <td>0.098940</td>\n",
              "      <td>0.567548</td>\n",
              "      <td>0.606299</td>\n",
              "      <td>0.137725</td>\n",
              "      <td>0.153846</td>\n",
              "    </tr>\n",
              "  </tbody>\n",
              "</table>\n",
              "</div>\n",
              "      <button class=\"colab-df-convert\" onclick=\"convertToInteractive('df-e9886cb4-a2f7-4505-b239-e28b33e5fbd7')\"\n",
              "              title=\"Convert this dataframe to an interactive table.\"\n",
              "              style=\"display:none;\">\n",
              "        \n",
              "  <svg xmlns=\"http://www.w3.org/2000/svg\" height=\"24px\"viewBox=\"0 0 24 24\"\n",
              "       width=\"24px\">\n",
              "    <path d=\"M0 0h24v24H0V0z\" fill=\"none\"/>\n",
              "    <path d=\"M18.56 5.44l.94 2.06.94-2.06 2.06-.94-2.06-.94-.94-2.06-.94 2.06-2.06.94zm-11 1L8.5 8.5l.94-2.06 2.06-.94-2.06-.94L8.5 2.5l-.94 2.06-2.06.94zm10 10l.94 2.06.94-2.06 2.06-.94-2.06-.94-.94-2.06-.94 2.06-2.06.94z\"/><path d=\"M17.41 7.96l-1.37-1.37c-.4-.4-.92-.59-1.43-.59-.52 0-1.04.2-1.43.59L10.3 9.45l-7.72 7.72c-.78.78-.78 2.05 0 2.83L4 21.41c.39.39.9.59 1.41.59.51 0 1.02-.2 1.41-.59l7.78-7.78 2.81-2.81c.8-.78.8-2.07 0-2.86zM5.41 20L4 18.59l7.72-7.72 1.47 1.35L5.41 20z\"/>\n",
              "  </svg>\n",
              "      </button>\n",
              "      \n",
              "  <style>\n",
              "    .colab-df-container {\n",
              "      display:flex;\n",
              "      flex-wrap:wrap;\n",
              "      gap: 12px;\n",
              "    }\n",
              "\n",
              "    .colab-df-convert {\n",
              "      background-color: #E8F0FE;\n",
              "      border: none;\n",
              "      border-radius: 50%;\n",
              "      cursor: pointer;\n",
              "      display: none;\n",
              "      fill: #1967D2;\n",
              "      height: 32px;\n",
              "      padding: 0 0 0 0;\n",
              "      width: 32px;\n",
              "    }\n",
              "\n",
              "    .colab-df-convert:hover {\n",
              "      background-color: #E2EBFA;\n",
              "      box-shadow: 0px 1px 2px rgba(60, 64, 67, 0.3), 0px 1px 3px 1px rgba(60, 64, 67, 0.15);\n",
              "      fill: #174EA6;\n",
              "    }\n",
              "\n",
              "    [theme=dark] .colab-df-convert {\n",
              "      background-color: #3B4455;\n",
              "      fill: #D2E3FC;\n",
              "    }\n",
              "\n",
              "    [theme=dark] .colab-df-convert:hover {\n",
              "      background-color: #434B5C;\n",
              "      box-shadow: 0px 1px 3px 1px rgba(0, 0, 0, 0.15);\n",
              "      filter: drop-shadow(0px 1px 2px rgba(0, 0, 0, 0.3));\n",
              "      fill: #FFFFFF;\n",
              "    }\n",
              "  </style>\n",
              "\n",
              "      <script>\n",
              "        const buttonEl =\n",
              "          document.querySelector('#df-e9886cb4-a2f7-4505-b239-e28b33e5fbd7 button.colab-df-convert');\n",
              "        buttonEl.style.display =\n",
              "          google.colab.kernel.accessAllowed ? 'block' : 'none';\n",
              "\n",
              "        async function convertToInteractive(key) {\n",
              "          const element = document.querySelector('#df-e9886cb4-a2f7-4505-b239-e28b33e5fbd7');\n",
              "          const dataTable =\n",
              "            await google.colab.kernel.invokeFunction('convertToInteractive',\n",
              "                                                     [key], {});\n",
              "          if (!dataTable) return;\n",
              "\n",
              "          const docLinkHtml = 'Like what you see? Visit the ' +\n",
              "            '<a target=\"_blank\" href=https://colab.research.google.com/notebooks/data_table.ipynb>data table notebook</a>'\n",
              "            + ' to learn more about interactive tables.';\n",
              "          element.innerHTML = '';\n",
              "          dataTable['output_type'] = 'display_data';\n",
              "          await google.colab.output.renderOutput(dataTable, element);\n",
              "          const docLink = document.createElement('div');\n",
              "          docLink.innerHTML = docLinkHtml;\n",
              "          element.appendChild(docLink);\n",
              "        }\n",
              "      </script>\n",
              "    </div>\n",
              "  </div>\n",
              "  "
            ]
          },
          "metadata": {},
          "execution_count": 25
        }
      ]
    },
    {
      "cell_type": "code",
      "source": [
        "Y = data[\"quality\"]"
      ],
      "metadata": {
        "id": "sYRFeBwJALzF"
      },
      "execution_count": 26,
      "outputs": []
    },
    {
      "cell_type": "markdown",
      "source": [
        "# Rilevanza features"
      ],
      "metadata": {
        "id": "VTWkqszL8T17"
      }
    },
    {
      "cell_type": "markdown",
      "source": [
        "Dividiamo i dati in train e validation set. Creiamo un primo modello di classificazione con regolarizzazione Lasso per andare ad identificare le features più o meno rilevanti. Incorporiamo il modello in una pipeline in modo da valutare anche inserimenti di features non lineari, pesi di regolazzione e bilanciamento automatico delle classi attraverso una Grid Search.\n"
      ],
      "metadata": {
        "id": "QFfUuWiwfxdo"
      }
    },
    {
      "cell_type": "code",
      "source": [
        "from sklearn.model_selection import train_test_split\n",
        "from sklearn.model_selection import StratifiedKFold\n",
        "from sklearn.linear_model import LogisticRegression\n",
        "from sklearn.pipeline import Pipeline\n",
        "\n",
        "X_train, X_val, y_train, y_val = train_test_split(X,Y,test_size=1/3,random_state=42)\n",
        "model = Pipeline([\n",
        "                  (\"poly\",PolynomialFeatures()),\n",
        "                  (\"classifier\",LogisticRegression(solver=\"saga\", random_state=42, penalty=\"l1\", C=10,multi_class=\"ovr\"))\n",
        "])\n"
      ],
      "metadata": {
        "id": "tpK2ayCM8Yhs"
      },
      "execution_count": 39,
      "outputs": []
    },
    {
      "cell_type": "code",
      "source": [
        "def calculate_precision_recall_f1(model,x,y):\n",
        "    y_v_predictions = model.predict(x)\n",
        "    p = precision_score(y, y_v_predictions, pos_label=1, average=\"weighted\")\n",
        "    r = recall_score(y, y_v_predictions, average=\"weighted\")\n",
        "    f1 = f1_score(y, y_v_predictions, average=\"weighted\")\n",
        "    return {\"precision\" : p, \"recall\": r, \"f1-score\": f1}"
      ],
      "metadata": {
        "id": "Vf5q5BPVEc8z"
      },
      "execution_count": 40,
      "outputs": []
    },
    {
      "cell_type": "code",
      "source": [
        "from sklearn.model_selection import GridSearchCV\n",
        "from sklearn.model_selection import RandomizedSearchCV\n",
        "from scipy.stats import uniform\n",
        "\n",
        "grid = {\n",
        "        \"poly__degree\": [1,3,5],\n",
        "    \"classifier__C\": [0.01,0.1,1,10],#peso regolarizzazione\n",
        "    \"classifier__class_weight\" : [\"balanced\",None]\n",
        "}\n",
        "skf = StratifiedKFold(3,shuffle=True, random_state=42)\n",
        "gs = GridSearchCV(model,cv=skf,param_grid=grid,return_train_score=True)\n",
        "\n",
        "dist =  {\n",
        "    \"poly__degree\": [1,3,5],\n",
        "    \"classifier__C\": uniform(loc=0,scale=3),\n",
        "    \"classifier__class_weight\" : [\"balanced\",None]\n",
        "}\n",
        "gsr = RandomizedSearchCV(model,param_distributions=dist,random_state=42,return_train_score=True,cv=skf)\n"
      ],
      "metadata": {
        "id": "KYfhWeE-As8m"
      },
      "execution_count": 41,
      "outputs": []
    },
    {
      "cell_type": "code",
      "source": [
        "gs.fit(X_train,y_train)\n",
        "gsr.fit(X_train,y_train)\n"
      ],
      "metadata": {
        "id": "t4J-98h4lMjL"
      },
      "execution_count": null,
      "outputs": []
    },
    {
      "cell_type": "markdown",
      "source": [
        "Prendiamo i risultati della grid search e li ordiniamo per score."
      ],
      "metadata": {
        "id": "pZsyO6nHhwUw"
      }
    },
    {
      "cell_type": "code",
      "source": [
        "DataFrame(gs.cv_results_).sort_values(\"rank_test_score\").head(10)"
      ],
      "metadata": {
        "id": "AAAVWQkaIeNR",
        "colab": {
          "base_uri": "https://localhost:8080/",
          "height": 600
        },
        "outputId": "b28bb8f4-dd58-42f6-f697-986701706d2a"
      },
      "execution_count": 43,
      "outputs": [
        {
          "output_type": "execute_result",
          "data": {
            "text/plain": [
              "    mean_fit_time  std_fit_time  mean_score_time  std_score_time  \\\n",
              "23      23.254588      0.918414         0.020309        0.012119   \n",
              "22       1.745265      0.003744         0.003295        0.000179   \n",
              "21       0.099917      0.024253         0.001617        0.000087   \n",
              "17      17.915441      0.063688         0.008262        0.000236   \n",
              "16       1.541571      0.052720         0.003092        0.000103   \n",
              "15       0.064281      0.010774         0.001940        0.000500   \n",
              "10       0.329453      0.130902         0.002917        0.000111   \n",
              "11       5.136882      1.555325         0.008190        0.000079   \n",
              "9        0.019549      0.001831         0.002085        0.000118   \n",
              "20      24.466791      5.056372         0.008272        0.000162   \n",
              "\n",
              "   param_classifier__C param_classifier__class_weight param_poly__degree  \\\n",
              "23                  10                           None                  5   \n",
              "22                  10                           None                  3   \n",
              "21                  10                           None                  1   \n",
              "17                   1                           None                  5   \n",
              "16                   1                           None                  3   \n",
              "15                   1                           None                  1   \n",
              "10                 0.1                           None                  3   \n",
              "11                 0.1                           None                  5   \n",
              "9                  0.1                           None                  1   \n",
              "20                  10                       balanced                  5   \n",
              "\n",
              "                                               params  split0_test_score  \\\n",
              "23  {'classifier__C': 10, 'classifier__class_weigh...           0.555118   \n",
              "22  {'classifier__C': 10, 'classifier__class_weigh...           0.539370   \n",
              "21  {'classifier__C': 10, 'classifier__class_weigh...           0.519685   \n",
              "17  {'classifier__C': 1, 'classifier__class_weight...           0.539370   \n",
              "16  {'classifier__C': 1, 'classifier__class_weight...           0.535433   \n",
              "15  {'classifier__C': 1, 'classifier__class_weight...           0.531496   \n",
              "10  {'classifier__C': 0.1, 'classifier__class_weig...           0.531496   \n",
              "11  {'classifier__C': 0.1, 'classifier__class_weig...           0.531496   \n",
              "9   {'classifier__C': 0.1, 'classifier__class_weig...           0.531496   \n",
              "20  {'classifier__C': 10, 'classifier__class_weigh...           0.444882   \n",
              "\n",
              "    split1_test_score  split2_test_score  mean_test_score  std_test_score  \\\n",
              "23           0.618110           0.590551         0.587927        0.025783   \n",
              "22           0.618110           0.602362         0.586614        0.034020   \n",
              "21           0.625984           0.602362         0.582677        0.045574   \n",
              "17           0.594488           0.578740         0.570866        0.023180   \n",
              "16           0.586614           0.582677         0.568241        0.023255   \n",
              "15           0.586614           0.582677         0.566929        0.025106   \n",
              "10           0.539370           0.562992         0.544619        0.013383   \n",
              "11           0.539370           0.562992         0.544619        0.013383   \n",
              "9            0.535433           0.562992         0.543307        0.014012   \n",
              "20           0.460630           0.566929         0.490814        0.054204   \n",
              "\n",
              "    rank_test_score  split0_train_score  split1_train_score  \\\n",
              "23                1            0.647638            0.594488   \n",
              "22                2            0.649606            0.612205   \n",
              "21                3            0.616142            0.590551   \n",
              "17                4            0.598425            0.570866   \n",
              "16                5            0.608268            0.574803   \n",
              "15                6            0.608268            0.576772   \n",
              "10                7            0.564961            0.541339   \n",
              "11                7            0.564961            0.541339   \n",
              "9                 9            0.564961            0.521654   \n",
              "20               10            0.570866            0.537402   \n",
              "\n",
              "    split2_train_score  mean_train_score  std_train_score  \n",
              "23            0.620079          0.620735         0.021703  \n",
              "22            0.629921          0.630577         0.015276  \n",
              "21            0.616142          0.607612         0.012064  \n",
              "17            0.574803          0.581365         0.012170  \n",
              "16            0.576772          0.586614         0.015332  \n",
              "15            0.568898          0.584646         0.017010  \n",
              "10            0.529528          0.545276         0.014731  \n",
              "11            0.529528          0.545276         0.014731  \n",
              "9             0.529528          0.538714         0.018836  \n",
              "20            0.586614          0.564961         0.020520  "
            ],
            "text/html": [
              "\n",
              "  <div id=\"df-de13093f-873c-4b69-b1f1-b5fa036386e9\">\n",
              "    <div class=\"colab-df-container\">\n",
              "      <div>\n",
              "<style scoped>\n",
              "    .dataframe tbody tr th:only-of-type {\n",
              "        vertical-align: middle;\n",
              "    }\n",
              "\n",
              "    .dataframe tbody tr th {\n",
              "        vertical-align: top;\n",
              "    }\n",
              "\n",
              "    .dataframe thead th {\n",
              "        text-align: right;\n",
              "    }\n",
              "</style>\n",
              "<table border=\"1\" class=\"dataframe\">\n",
              "  <thead>\n",
              "    <tr style=\"text-align: right;\">\n",
              "      <th></th>\n",
              "      <th>mean_fit_time</th>\n",
              "      <th>std_fit_time</th>\n",
              "      <th>mean_score_time</th>\n",
              "      <th>std_score_time</th>\n",
              "      <th>param_classifier__C</th>\n",
              "      <th>param_classifier__class_weight</th>\n",
              "      <th>param_poly__degree</th>\n",
              "      <th>params</th>\n",
              "      <th>split0_test_score</th>\n",
              "      <th>split1_test_score</th>\n",
              "      <th>split2_test_score</th>\n",
              "      <th>mean_test_score</th>\n",
              "      <th>std_test_score</th>\n",
              "      <th>rank_test_score</th>\n",
              "      <th>split0_train_score</th>\n",
              "      <th>split1_train_score</th>\n",
              "      <th>split2_train_score</th>\n",
              "      <th>mean_train_score</th>\n",
              "      <th>std_train_score</th>\n",
              "    </tr>\n",
              "  </thead>\n",
              "  <tbody>\n",
              "    <tr>\n",
              "      <th>23</th>\n",
              "      <td>23.254588</td>\n",
              "      <td>0.918414</td>\n",
              "      <td>0.020309</td>\n",
              "      <td>0.012119</td>\n",
              "      <td>10</td>\n",
              "      <td>None</td>\n",
              "      <td>5</td>\n",
              "      <td>{'classifier__C': 10, 'classifier__class_weigh...</td>\n",
              "      <td>0.555118</td>\n",
              "      <td>0.618110</td>\n",
              "      <td>0.590551</td>\n",
              "      <td>0.587927</td>\n",
              "      <td>0.025783</td>\n",
              "      <td>1</td>\n",
              "      <td>0.647638</td>\n",
              "      <td>0.594488</td>\n",
              "      <td>0.620079</td>\n",
              "      <td>0.620735</td>\n",
              "      <td>0.021703</td>\n",
              "    </tr>\n",
              "    <tr>\n",
              "      <th>22</th>\n",
              "      <td>1.745265</td>\n",
              "      <td>0.003744</td>\n",
              "      <td>0.003295</td>\n",
              "      <td>0.000179</td>\n",
              "      <td>10</td>\n",
              "      <td>None</td>\n",
              "      <td>3</td>\n",
              "      <td>{'classifier__C': 10, 'classifier__class_weigh...</td>\n",
              "      <td>0.539370</td>\n",
              "      <td>0.618110</td>\n",
              "      <td>0.602362</td>\n",
              "      <td>0.586614</td>\n",
              "      <td>0.034020</td>\n",
              "      <td>2</td>\n",
              "      <td>0.649606</td>\n",
              "      <td>0.612205</td>\n",
              "      <td>0.629921</td>\n",
              "      <td>0.630577</td>\n",
              "      <td>0.015276</td>\n",
              "    </tr>\n",
              "    <tr>\n",
              "      <th>21</th>\n",
              "      <td>0.099917</td>\n",
              "      <td>0.024253</td>\n",
              "      <td>0.001617</td>\n",
              "      <td>0.000087</td>\n",
              "      <td>10</td>\n",
              "      <td>None</td>\n",
              "      <td>1</td>\n",
              "      <td>{'classifier__C': 10, 'classifier__class_weigh...</td>\n",
              "      <td>0.519685</td>\n",
              "      <td>0.625984</td>\n",
              "      <td>0.602362</td>\n",
              "      <td>0.582677</td>\n",
              "      <td>0.045574</td>\n",
              "      <td>3</td>\n",
              "      <td>0.616142</td>\n",
              "      <td>0.590551</td>\n",
              "      <td>0.616142</td>\n",
              "      <td>0.607612</td>\n",
              "      <td>0.012064</td>\n",
              "    </tr>\n",
              "    <tr>\n",
              "      <th>17</th>\n",
              "      <td>17.915441</td>\n",
              "      <td>0.063688</td>\n",
              "      <td>0.008262</td>\n",
              "      <td>0.000236</td>\n",
              "      <td>1</td>\n",
              "      <td>None</td>\n",
              "      <td>5</td>\n",
              "      <td>{'classifier__C': 1, 'classifier__class_weight...</td>\n",
              "      <td>0.539370</td>\n",
              "      <td>0.594488</td>\n",
              "      <td>0.578740</td>\n",
              "      <td>0.570866</td>\n",
              "      <td>0.023180</td>\n",
              "      <td>4</td>\n",
              "      <td>0.598425</td>\n",
              "      <td>0.570866</td>\n",
              "      <td>0.574803</td>\n",
              "      <td>0.581365</td>\n",
              "      <td>0.012170</td>\n",
              "    </tr>\n",
              "    <tr>\n",
              "      <th>16</th>\n",
              "      <td>1.541571</td>\n",
              "      <td>0.052720</td>\n",
              "      <td>0.003092</td>\n",
              "      <td>0.000103</td>\n",
              "      <td>1</td>\n",
              "      <td>None</td>\n",
              "      <td>3</td>\n",
              "      <td>{'classifier__C': 1, 'classifier__class_weight...</td>\n",
              "      <td>0.535433</td>\n",
              "      <td>0.586614</td>\n",
              "      <td>0.582677</td>\n",
              "      <td>0.568241</td>\n",
              "      <td>0.023255</td>\n",
              "      <td>5</td>\n",
              "      <td>0.608268</td>\n",
              "      <td>0.574803</td>\n",
              "      <td>0.576772</td>\n",
              "      <td>0.586614</td>\n",
              "      <td>0.015332</td>\n",
              "    </tr>\n",
              "    <tr>\n",
              "      <th>15</th>\n",
              "      <td>0.064281</td>\n",
              "      <td>0.010774</td>\n",
              "      <td>0.001940</td>\n",
              "      <td>0.000500</td>\n",
              "      <td>1</td>\n",
              "      <td>None</td>\n",
              "      <td>1</td>\n",
              "      <td>{'classifier__C': 1, 'classifier__class_weight...</td>\n",
              "      <td>0.531496</td>\n",
              "      <td>0.586614</td>\n",
              "      <td>0.582677</td>\n",
              "      <td>0.566929</td>\n",
              "      <td>0.025106</td>\n",
              "      <td>6</td>\n",
              "      <td>0.608268</td>\n",
              "      <td>0.576772</td>\n",
              "      <td>0.568898</td>\n",
              "      <td>0.584646</td>\n",
              "      <td>0.017010</td>\n",
              "    </tr>\n",
              "    <tr>\n",
              "      <th>10</th>\n",
              "      <td>0.329453</td>\n",
              "      <td>0.130902</td>\n",
              "      <td>0.002917</td>\n",
              "      <td>0.000111</td>\n",
              "      <td>0.1</td>\n",
              "      <td>None</td>\n",
              "      <td>3</td>\n",
              "      <td>{'classifier__C': 0.1, 'classifier__class_weig...</td>\n",
              "      <td>0.531496</td>\n",
              "      <td>0.539370</td>\n",
              "      <td>0.562992</td>\n",
              "      <td>0.544619</td>\n",
              "      <td>0.013383</td>\n",
              "      <td>7</td>\n",
              "      <td>0.564961</td>\n",
              "      <td>0.541339</td>\n",
              "      <td>0.529528</td>\n",
              "      <td>0.545276</td>\n",
              "      <td>0.014731</td>\n",
              "    </tr>\n",
              "    <tr>\n",
              "      <th>11</th>\n",
              "      <td>5.136882</td>\n",
              "      <td>1.555325</td>\n",
              "      <td>0.008190</td>\n",
              "      <td>0.000079</td>\n",
              "      <td>0.1</td>\n",
              "      <td>None</td>\n",
              "      <td>5</td>\n",
              "      <td>{'classifier__C': 0.1, 'classifier__class_weig...</td>\n",
              "      <td>0.531496</td>\n",
              "      <td>0.539370</td>\n",
              "      <td>0.562992</td>\n",
              "      <td>0.544619</td>\n",
              "      <td>0.013383</td>\n",
              "      <td>7</td>\n",
              "      <td>0.564961</td>\n",
              "      <td>0.541339</td>\n",
              "      <td>0.529528</td>\n",
              "      <td>0.545276</td>\n",
              "      <td>0.014731</td>\n",
              "    </tr>\n",
              "    <tr>\n",
              "      <th>9</th>\n",
              "      <td>0.019549</td>\n",
              "      <td>0.001831</td>\n",
              "      <td>0.002085</td>\n",
              "      <td>0.000118</td>\n",
              "      <td>0.1</td>\n",
              "      <td>None</td>\n",
              "      <td>1</td>\n",
              "      <td>{'classifier__C': 0.1, 'classifier__class_weig...</td>\n",
              "      <td>0.531496</td>\n",
              "      <td>0.535433</td>\n",
              "      <td>0.562992</td>\n",
              "      <td>0.543307</td>\n",
              "      <td>0.014012</td>\n",
              "      <td>9</td>\n",
              "      <td>0.564961</td>\n",
              "      <td>0.521654</td>\n",
              "      <td>0.529528</td>\n",
              "      <td>0.538714</td>\n",
              "      <td>0.018836</td>\n",
              "    </tr>\n",
              "    <tr>\n",
              "      <th>20</th>\n",
              "      <td>24.466791</td>\n",
              "      <td>5.056372</td>\n",
              "      <td>0.008272</td>\n",
              "      <td>0.000162</td>\n",
              "      <td>10</td>\n",
              "      <td>balanced</td>\n",
              "      <td>5</td>\n",
              "      <td>{'classifier__C': 10, 'classifier__class_weigh...</td>\n",
              "      <td>0.444882</td>\n",
              "      <td>0.460630</td>\n",
              "      <td>0.566929</td>\n",
              "      <td>0.490814</td>\n",
              "      <td>0.054204</td>\n",
              "      <td>10</td>\n",
              "      <td>0.570866</td>\n",
              "      <td>0.537402</td>\n",
              "      <td>0.586614</td>\n",
              "      <td>0.564961</td>\n",
              "      <td>0.020520</td>\n",
              "    </tr>\n",
              "  </tbody>\n",
              "</table>\n",
              "</div>\n",
              "      <button class=\"colab-df-convert\" onclick=\"convertToInteractive('df-de13093f-873c-4b69-b1f1-b5fa036386e9')\"\n",
              "              title=\"Convert this dataframe to an interactive table.\"\n",
              "              style=\"display:none;\">\n",
              "        \n",
              "  <svg xmlns=\"http://www.w3.org/2000/svg\" height=\"24px\"viewBox=\"0 0 24 24\"\n",
              "       width=\"24px\">\n",
              "    <path d=\"M0 0h24v24H0V0z\" fill=\"none\"/>\n",
              "    <path d=\"M18.56 5.44l.94 2.06.94-2.06 2.06-.94-2.06-.94-.94-2.06-.94 2.06-2.06.94zm-11 1L8.5 8.5l.94-2.06 2.06-.94-2.06-.94L8.5 2.5l-.94 2.06-2.06.94zm10 10l.94 2.06.94-2.06 2.06-.94-2.06-.94-.94-2.06-.94 2.06-2.06.94z\"/><path d=\"M17.41 7.96l-1.37-1.37c-.4-.4-.92-.59-1.43-.59-.52 0-1.04.2-1.43.59L10.3 9.45l-7.72 7.72c-.78.78-.78 2.05 0 2.83L4 21.41c.39.39.9.59 1.41.59.51 0 1.02-.2 1.41-.59l7.78-7.78 2.81-2.81c.8-.78.8-2.07 0-2.86zM5.41 20L4 18.59l7.72-7.72 1.47 1.35L5.41 20z\"/>\n",
              "  </svg>\n",
              "      </button>\n",
              "      \n",
              "  <style>\n",
              "    .colab-df-container {\n",
              "      display:flex;\n",
              "      flex-wrap:wrap;\n",
              "      gap: 12px;\n",
              "    }\n",
              "\n",
              "    .colab-df-convert {\n",
              "      background-color: #E8F0FE;\n",
              "      border: none;\n",
              "      border-radius: 50%;\n",
              "      cursor: pointer;\n",
              "      display: none;\n",
              "      fill: #1967D2;\n",
              "      height: 32px;\n",
              "      padding: 0 0 0 0;\n",
              "      width: 32px;\n",
              "    }\n",
              "\n",
              "    .colab-df-convert:hover {\n",
              "      background-color: #E2EBFA;\n",
              "      box-shadow: 0px 1px 2px rgba(60, 64, 67, 0.3), 0px 1px 3px 1px rgba(60, 64, 67, 0.15);\n",
              "      fill: #174EA6;\n",
              "    }\n",
              "\n",
              "    [theme=dark] .colab-df-convert {\n",
              "      background-color: #3B4455;\n",
              "      fill: #D2E3FC;\n",
              "    }\n",
              "\n",
              "    [theme=dark] .colab-df-convert:hover {\n",
              "      background-color: #434B5C;\n",
              "      box-shadow: 0px 1px 3px 1px rgba(0, 0, 0, 0.15);\n",
              "      filter: drop-shadow(0px 1px 2px rgba(0, 0, 0, 0.3));\n",
              "      fill: #FFFFFF;\n",
              "    }\n",
              "  </style>\n",
              "\n",
              "      <script>\n",
              "        const buttonEl =\n",
              "          document.querySelector('#df-de13093f-873c-4b69-b1f1-b5fa036386e9 button.colab-df-convert');\n",
              "        buttonEl.style.display =\n",
              "          google.colab.kernel.accessAllowed ? 'block' : 'none';\n",
              "\n",
              "        async function convertToInteractive(key) {\n",
              "          const element = document.querySelector('#df-de13093f-873c-4b69-b1f1-b5fa036386e9');\n",
              "          const dataTable =\n",
              "            await google.colab.kernel.invokeFunction('convertToInteractive',\n",
              "                                                     [key], {});\n",
              "          if (!dataTable) return;\n",
              "\n",
              "          const docLinkHtml = 'Like what you see? Visit the ' +\n",
              "            '<a target=\"_blank\" href=https://colab.research.google.com/notebooks/data_table.ipynb>data table notebook</a>'\n",
              "            + ' to learn more about interactive tables.';\n",
              "          element.innerHTML = '';\n",
              "          dataTable['output_type'] = 'display_data';\n",
              "          await google.colab.output.renderOutput(dataTable, element);\n",
              "          const docLink = document.createElement('div');\n",
              "          docLink.innerHTML = docLinkHtml;\n",
              "          element.appendChild(docLink);\n",
              "        }\n",
              "      </script>\n",
              "    </div>\n",
              "  </div>\n",
              "  "
            ]
          },
          "metadata": {},
          "execution_count": 43
        }
      ]
    },
    {
      "cell_type": "code",
      "source": [
        "DataFrame(gsr.cv_results_).sort_values(\"rank_test_score\").head(10)"
      ],
      "metadata": {
        "id": "mfu28I2QFj_9",
        "outputId": "073a0673-bc4b-41a4-fb90-f5d041630647",
        "colab": {
          "base_uri": "https://localhost:8080/",
          "height": 774
        }
      },
      "execution_count": 44,
      "outputs": [
        {
          "output_type": "execute_result",
          "data": {
            "text/plain": [
              "   mean_fit_time  std_fit_time  mean_score_time  std_score_time  \\\n",
              "7       1.639412      0.005962         0.003205        0.000243   \n",
              "6       0.057964      0.015805         0.002155        0.000500   \n",
              "4      17.964801      0.032125         0.008417        0.000412   \n",
              "3       0.023734      0.000897         0.002288        0.000069   \n",
              "5       0.238476      0.035485         0.002777        0.000085   \n",
              "0      18.305332      0.152385         0.008535        0.000096   \n",
              "2      18.518024      0.507863         0.008446        0.000309   \n",
              "9       1.732762      0.011549         0.003132        0.000145   \n",
              "1       0.092771      0.010580         0.002229        0.000554   \n",
              "8       0.036655      0.010788         0.002147        0.000038   \n",
              "\n",
              "  param_classifier__C param_classifier__class_weight param_poly__degree  \\\n",
              "7            1.852445                           None                  3   \n",
              "6            0.637017                           None                  1   \n",
              "4            1.803345                           None                  5   \n",
              "3            0.174251                           None                  1   \n",
              "5            0.061753                           None                  3   \n",
              "0             1.12362                       balanced                  5   \n",
              "2            0.468056                       balanced                  5   \n",
              "9            1.574324                       balanced                  3   \n",
              "1            2.195982                       balanced                  1   \n",
              "8            0.021199                       balanced                  1   \n",
              "\n",
              "                                              params  split0_test_score  \\\n",
              "7  {'classifier__C': 1.8524445288831495, 'classif...           0.527559   \n",
              "6  {'classifier__C': 0.6370173320348285, 'classif...           0.547244   \n",
              "4  {'classifier__C': 1.8033450352296265, 'classif...           0.531496   \n",
              "3  {'classifier__C': 0.17425083650459838, 'classi...           0.531496   \n",
              "5  {'classifier__C': 0.06175348288740734, 'classi...           0.480315   \n",
              "0  {'classifier__C': 1.1236203565420875, 'classif...           0.342520   \n",
              "2  {'classifier__C': 0.46805592132730955, 'classi...           0.303150   \n",
              "9  {'classifier__C': 1.5743239807751674, 'classif...           0.338583   \n",
              "1  {'classifier__C': 2.1959818254342154, 'classif...           0.244094   \n",
              "8  {'classifier__C': 0.021198915659152218, 'class...           0.397638   \n",
              "\n",
              "   split1_test_score  split2_test_score  mean_test_score  std_test_score  \\\n",
              "7           0.602362           0.594488         0.574803        0.033561   \n",
              "6           0.594488           0.574803         0.572178        0.019376   \n",
              "4           0.594488           0.582677         0.569554        0.027339   \n",
              "3           0.559055           0.566929         0.552493        0.015191   \n",
              "5           0.425197           0.448819         0.451444        0.022578   \n",
              "0           0.468504           0.527559         0.446194        0.077172   \n",
              "2           0.476378           0.511811         0.430446        0.091167   \n",
              "9           0.433071           0.519685         0.430446        0.073958   \n",
              "1           0.307087           0.405512         0.318898        0.066425   \n",
              "8           0.397638           0.007874         0.267717        0.183736   \n",
              "\n",
              "   rank_test_score  split0_train_score  split1_train_score  \\\n",
              "7                1            0.614173            0.590551   \n",
              "6                2            0.588583            0.574803   \n",
              "4                3            0.618110            0.578740   \n",
              "3                4            0.576772            0.561024   \n",
              "5                5            0.515748            0.425197   \n",
              "0                6            0.393701            0.509843   \n",
              "2                7            0.368110            0.501969   \n",
              "9                7            0.456693            0.498031   \n",
              "1                9            0.312992            0.336614   \n",
              "8               10            0.397638            0.397638   \n",
              "\n",
              "   split2_train_score  mean_train_score  std_train_score  \n",
              "7            0.604331          0.603018         0.009688  \n",
              "6            0.572835          0.578740         0.007006  \n",
              "4            0.602362          0.599738         0.016180  \n",
              "3            0.557087          0.564961         0.008505  \n",
              "5            0.440945          0.460630         0.039501  \n",
              "0            0.527559          0.477034         0.059368  \n",
              "2            0.486220          0.452100         0.059737  \n",
              "9            0.509843          0.488189         0.022787  \n",
              "1            0.387795          0.345801         0.031221  \n",
              "8            0.005906          0.267060         0.184664  "
            ],
            "text/html": [
              "\n",
              "  <div id=\"df-819910ba-e2ee-44ec-9eb2-257e59efef52\">\n",
              "    <div class=\"colab-df-container\">\n",
              "      <div>\n",
              "<style scoped>\n",
              "    .dataframe tbody tr th:only-of-type {\n",
              "        vertical-align: middle;\n",
              "    }\n",
              "\n",
              "    .dataframe tbody tr th {\n",
              "        vertical-align: top;\n",
              "    }\n",
              "\n",
              "    .dataframe thead th {\n",
              "        text-align: right;\n",
              "    }\n",
              "</style>\n",
              "<table border=\"1\" class=\"dataframe\">\n",
              "  <thead>\n",
              "    <tr style=\"text-align: right;\">\n",
              "      <th></th>\n",
              "      <th>mean_fit_time</th>\n",
              "      <th>std_fit_time</th>\n",
              "      <th>mean_score_time</th>\n",
              "      <th>std_score_time</th>\n",
              "      <th>param_classifier__C</th>\n",
              "      <th>param_classifier__class_weight</th>\n",
              "      <th>param_poly__degree</th>\n",
              "      <th>params</th>\n",
              "      <th>split0_test_score</th>\n",
              "      <th>split1_test_score</th>\n",
              "      <th>split2_test_score</th>\n",
              "      <th>mean_test_score</th>\n",
              "      <th>std_test_score</th>\n",
              "      <th>rank_test_score</th>\n",
              "      <th>split0_train_score</th>\n",
              "      <th>split1_train_score</th>\n",
              "      <th>split2_train_score</th>\n",
              "      <th>mean_train_score</th>\n",
              "      <th>std_train_score</th>\n",
              "    </tr>\n",
              "  </thead>\n",
              "  <tbody>\n",
              "    <tr>\n",
              "      <th>7</th>\n",
              "      <td>1.639412</td>\n",
              "      <td>0.005962</td>\n",
              "      <td>0.003205</td>\n",
              "      <td>0.000243</td>\n",
              "      <td>1.852445</td>\n",
              "      <td>None</td>\n",
              "      <td>3</td>\n",
              "      <td>{'classifier__C': 1.8524445288831495, 'classif...</td>\n",
              "      <td>0.527559</td>\n",
              "      <td>0.602362</td>\n",
              "      <td>0.594488</td>\n",
              "      <td>0.574803</td>\n",
              "      <td>0.033561</td>\n",
              "      <td>1</td>\n",
              "      <td>0.614173</td>\n",
              "      <td>0.590551</td>\n",
              "      <td>0.604331</td>\n",
              "      <td>0.603018</td>\n",
              "      <td>0.009688</td>\n",
              "    </tr>\n",
              "    <tr>\n",
              "      <th>6</th>\n",
              "      <td>0.057964</td>\n",
              "      <td>0.015805</td>\n",
              "      <td>0.002155</td>\n",
              "      <td>0.000500</td>\n",
              "      <td>0.637017</td>\n",
              "      <td>None</td>\n",
              "      <td>1</td>\n",
              "      <td>{'classifier__C': 0.6370173320348285, 'classif...</td>\n",
              "      <td>0.547244</td>\n",
              "      <td>0.594488</td>\n",
              "      <td>0.574803</td>\n",
              "      <td>0.572178</td>\n",
              "      <td>0.019376</td>\n",
              "      <td>2</td>\n",
              "      <td>0.588583</td>\n",
              "      <td>0.574803</td>\n",
              "      <td>0.572835</td>\n",
              "      <td>0.578740</td>\n",
              "      <td>0.007006</td>\n",
              "    </tr>\n",
              "    <tr>\n",
              "      <th>4</th>\n",
              "      <td>17.964801</td>\n",
              "      <td>0.032125</td>\n",
              "      <td>0.008417</td>\n",
              "      <td>0.000412</td>\n",
              "      <td>1.803345</td>\n",
              "      <td>None</td>\n",
              "      <td>5</td>\n",
              "      <td>{'classifier__C': 1.8033450352296265, 'classif...</td>\n",
              "      <td>0.531496</td>\n",
              "      <td>0.594488</td>\n",
              "      <td>0.582677</td>\n",
              "      <td>0.569554</td>\n",
              "      <td>0.027339</td>\n",
              "      <td>3</td>\n",
              "      <td>0.618110</td>\n",
              "      <td>0.578740</td>\n",
              "      <td>0.602362</td>\n",
              "      <td>0.599738</td>\n",
              "      <td>0.016180</td>\n",
              "    </tr>\n",
              "    <tr>\n",
              "      <th>3</th>\n",
              "      <td>0.023734</td>\n",
              "      <td>0.000897</td>\n",
              "      <td>0.002288</td>\n",
              "      <td>0.000069</td>\n",
              "      <td>0.174251</td>\n",
              "      <td>None</td>\n",
              "      <td>1</td>\n",
              "      <td>{'classifier__C': 0.17425083650459838, 'classi...</td>\n",
              "      <td>0.531496</td>\n",
              "      <td>0.559055</td>\n",
              "      <td>0.566929</td>\n",
              "      <td>0.552493</td>\n",
              "      <td>0.015191</td>\n",
              "      <td>4</td>\n",
              "      <td>0.576772</td>\n",
              "      <td>0.561024</td>\n",
              "      <td>0.557087</td>\n",
              "      <td>0.564961</td>\n",
              "      <td>0.008505</td>\n",
              "    </tr>\n",
              "    <tr>\n",
              "      <th>5</th>\n",
              "      <td>0.238476</td>\n",
              "      <td>0.035485</td>\n",
              "      <td>0.002777</td>\n",
              "      <td>0.000085</td>\n",
              "      <td>0.061753</td>\n",
              "      <td>None</td>\n",
              "      <td>3</td>\n",
              "      <td>{'classifier__C': 0.06175348288740734, 'classi...</td>\n",
              "      <td>0.480315</td>\n",
              "      <td>0.425197</td>\n",
              "      <td>0.448819</td>\n",
              "      <td>0.451444</td>\n",
              "      <td>0.022578</td>\n",
              "      <td>5</td>\n",
              "      <td>0.515748</td>\n",
              "      <td>0.425197</td>\n",
              "      <td>0.440945</td>\n",
              "      <td>0.460630</td>\n",
              "      <td>0.039501</td>\n",
              "    </tr>\n",
              "    <tr>\n",
              "      <th>0</th>\n",
              "      <td>18.305332</td>\n",
              "      <td>0.152385</td>\n",
              "      <td>0.008535</td>\n",
              "      <td>0.000096</td>\n",
              "      <td>1.12362</td>\n",
              "      <td>balanced</td>\n",
              "      <td>5</td>\n",
              "      <td>{'classifier__C': 1.1236203565420875, 'classif...</td>\n",
              "      <td>0.342520</td>\n",
              "      <td>0.468504</td>\n",
              "      <td>0.527559</td>\n",
              "      <td>0.446194</td>\n",
              "      <td>0.077172</td>\n",
              "      <td>6</td>\n",
              "      <td>0.393701</td>\n",
              "      <td>0.509843</td>\n",
              "      <td>0.527559</td>\n",
              "      <td>0.477034</td>\n",
              "      <td>0.059368</td>\n",
              "    </tr>\n",
              "    <tr>\n",
              "      <th>2</th>\n",
              "      <td>18.518024</td>\n",
              "      <td>0.507863</td>\n",
              "      <td>0.008446</td>\n",
              "      <td>0.000309</td>\n",
              "      <td>0.468056</td>\n",
              "      <td>balanced</td>\n",
              "      <td>5</td>\n",
              "      <td>{'classifier__C': 0.46805592132730955, 'classi...</td>\n",
              "      <td>0.303150</td>\n",
              "      <td>0.476378</td>\n",
              "      <td>0.511811</td>\n",
              "      <td>0.430446</td>\n",
              "      <td>0.091167</td>\n",
              "      <td>7</td>\n",
              "      <td>0.368110</td>\n",
              "      <td>0.501969</td>\n",
              "      <td>0.486220</td>\n",
              "      <td>0.452100</td>\n",
              "      <td>0.059737</td>\n",
              "    </tr>\n",
              "    <tr>\n",
              "      <th>9</th>\n",
              "      <td>1.732762</td>\n",
              "      <td>0.011549</td>\n",
              "      <td>0.003132</td>\n",
              "      <td>0.000145</td>\n",
              "      <td>1.574324</td>\n",
              "      <td>balanced</td>\n",
              "      <td>3</td>\n",
              "      <td>{'classifier__C': 1.5743239807751674, 'classif...</td>\n",
              "      <td>0.338583</td>\n",
              "      <td>0.433071</td>\n",
              "      <td>0.519685</td>\n",
              "      <td>0.430446</td>\n",
              "      <td>0.073958</td>\n",
              "      <td>7</td>\n",
              "      <td>0.456693</td>\n",
              "      <td>0.498031</td>\n",
              "      <td>0.509843</td>\n",
              "      <td>0.488189</td>\n",
              "      <td>0.022787</td>\n",
              "    </tr>\n",
              "    <tr>\n",
              "      <th>1</th>\n",
              "      <td>0.092771</td>\n",
              "      <td>0.010580</td>\n",
              "      <td>0.002229</td>\n",
              "      <td>0.000554</td>\n",
              "      <td>2.195982</td>\n",
              "      <td>balanced</td>\n",
              "      <td>1</td>\n",
              "      <td>{'classifier__C': 2.1959818254342154, 'classif...</td>\n",
              "      <td>0.244094</td>\n",
              "      <td>0.307087</td>\n",
              "      <td>0.405512</td>\n",
              "      <td>0.318898</td>\n",
              "      <td>0.066425</td>\n",
              "      <td>9</td>\n",
              "      <td>0.312992</td>\n",
              "      <td>0.336614</td>\n",
              "      <td>0.387795</td>\n",
              "      <td>0.345801</td>\n",
              "      <td>0.031221</td>\n",
              "    </tr>\n",
              "    <tr>\n",
              "      <th>8</th>\n",
              "      <td>0.036655</td>\n",
              "      <td>0.010788</td>\n",
              "      <td>0.002147</td>\n",
              "      <td>0.000038</td>\n",
              "      <td>0.021199</td>\n",
              "      <td>balanced</td>\n",
              "      <td>1</td>\n",
              "      <td>{'classifier__C': 0.021198915659152218, 'class...</td>\n",
              "      <td>0.397638</td>\n",
              "      <td>0.397638</td>\n",
              "      <td>0.007874</td>\n",
              "      <td>0.267717</td>\n",
              "      <td>0.183736</td>\n",
              "      <td>10</td>\n",
              "      <td>0.397638</td>\n",
              "      <td>0.397638</td>\n",
              "      <td>0.005906</td>\n",
              "      <td>0.267060</td>\n",
              "      <td>0.184664</td>\n",
              "    </tr>\n",
              "  </tbody>\n",
              "</table>\n",
              "</div>\n",
              "      <button class=\"colab-df-convert\" onclick=\"convertToInteractive('df-819910ba-e2ee-44ec-9eb2-257e59efef52')\"\n",
              "              title=\"Convert this dataframe to an interactive table.\"\n",
              "              style=\"display:none;\">\n",
              "        \n",
              "  <svg xmlns=\"http://www.w3.org/2000/svg\" height=\"24px\"viewBox=\"0 0 24 24\"\n",
              "       width=\"24px\">\n",
              "    <path d=\"M0 0h24v24H0V0z\" fill=\"none\"/>\n",
              "    <path d=\"M18.56 5.44l.94 2.06.94-2.06 2.06-.94-2.06-.94-.94-2.06-.94 2.06-2.06.94zm-11 1L8.5 8.5l.94-2.06 2.06-.94-2.06-.94L8.5 2.5l-.94 2.06-2.06.94zm10 10l.94 2.06.94-2.06 2.06-.94-2.06-.94-.94-2.06-.94 2.06-2.06.94z\"/><path d=\"M17.41 7.96l-1.37-1.37c-.4-.4-.92-.59-1.43-.59-.52 0-1.04.2-1.43.59L10.3 9.45l-7.72 7.72c-.78.78-.78 2.05 0 2.83L4 21.41c.39.39.9.59 1.41.59.51 0 1.02-.2 1.41-.59l7.78-7.78 2.81-2.81c.8-.78.8-2.07 0-2.86zM5.41 20L4 18.59l7.72-7.72 1.47 1.35L5.41 20z\"/>\n",
              "  </svg>\n",
              "      </button>\n",
              "      \n",
              "  <style>\n",
              "    .colab-df-container {\n",
              "      display:flex;\n",
              "      flex-wrap:wrap;\n",
              "      gap: 12px;\n",
              "    }\n",
              "\n",
              "    .colab-df-convert {\n",
              "      background-color: #E8F0FE;\n",
              "      border: none;\n",
              "      border-radius: 50%;\n",
              "      cursor: pointer;\n",
              "      display: none;\n",
              "      fill: #1967D2;\n",
              "      height: 32px;\n",
              "      padding: 0 0 0 0;\n",
              "      width: 32px;\n",
              "    }\n",
              "\n",
              "    .colab-df-convert:hover {\n",
              "      background-color: #E2EBFA;\n",
              "      box-shadow: 0px 1px 2px rgba(60, 64, 67, 0.3), 0px 1px 3px 1px rgba(60, 64, 67, 0.15);\n",
              "      fill: #174EA6;\n",
              "    }\n",
              "\n",
              "    [theme=dark] .colab-df-convert {\n",
              "      background-color: #3B4455;\n",
              "      fill: #D2E3FC;\n",
              "    }\n",
              "\n",
              "    [theme=dark] .colab-df-convert:hover {\n",
              "      background-color: #434B5C;\n",
              "      box-shadow: 0px 1px 3px 1px rgba(0, 0, 0, 0.15);\n",
              "      filter: drop-shadow(0px 1px 2px rgba(0, 0, 0, 0.3));\n",
              "      fill: #FFFFFF;\n",
              "    }\n",
              "  </style>\n",
              "\n",
              "      <script>\n",
              "        const buttonEl =\n",
              "          document.querySelector('#df-819910ba-e2ee-44ec-9eb2-257e59efef52 button.colab-df-convert');\n",
              "        buttonEl.style.display =\n",
              "          google.colab.kernel.accessAllowed ? 'block' : 'none';\n",
              "\n",
              "        async function convertToInteractive(key) {\n",
              "          const element = document.querySelector('#df-819910ba-e2ee-44ec-9eb2-257e59efef52');\n",
              "          const dataTable =\n",
              "            await google.colab.kernel.invokeFunction('convertToInteractive',\n",
              "                                                     [key], {});\n",
              "          if (!dataTable) return;\n",
              "\n",
              "          const docLinkHtml = 'Like what you see? Visit the ' +\n",
              "            '<a target=\"_blank\" href=https://colab.research.google.com/notebooks/data_table.ipynb>data table notebook</a>'\n",
              "            + ' to learn more about interactive tables.';\n",
              "          element.innerHTML = '';\n",
              "          dataTable['output_type'] = 'display_data';\n",
              "          await google.colab.output.renderOutput(dataTable, element);\n",
              "          const docLink = document.createElement('div');\n",
              "          docLink.innerHTML = docLinkHtml;\n",
              "          element.appendChild(docLink);\n",
              "        }\n",
              "      </script>\n",
              "    </div>\n",
              "  </div>\n",
              "  "
            ]
          },
          "metadata": {},
          "execution_count": 44
        }
      ]
    },
    {
      "cell_type": "markdown",
      "source": [
        "Il miglior modello trovato è qullo con peso di regolazzazione 10 e grado 5 e nessun bilanciamento sui pesi delle classi. Possiamo osservare uno score di:"
      ],
      "metadata": {
        "id": "lEO7zl5rh-je"
      }
    },
    {
      "cell_type": "code",
      "source": [
        "gs.score(X_val,y_val)"
      ],
      "metadata": {
        "id": "s5MHdFYRLE0H",
        "colab": {
          "base_uri": "https://localhost:8080/"
        },
        "outputId": "2c6fe708-ca59-47c7-a02d-7fe0726036aa"
      },
      "execution_count": 45,
      "outputs": [
        {
          "output_type": "execute_result",
          "data": {
            "text/plain": [
              "0.5905511811023622"
            ]
          },
          "metadata": {},
          "execution_count": 45
        }
      ]
    },
    {
      "cell_type": "code",
      "source": [
        "gs.score(X_val,y_val)"
      ],
      "metadata": {
        "id": "oYxyc4VHLyLq",
        "outputId": "2b098e8e-7825-4ad3-ca46-3e8a92353c99",
        "colab": {
          "base_uri": "https://localhost:8080/"
        }
      },
      "execution_count": 46,
      "outputs": [
        {
          "output_type": "execute_result",
          "data": {
            "text/plain": [
              "0.5905511811023622"
            ]
          },
          "metadata": {},
          "execution_count": 46
        }
      ]
    },
    {
      "cell_type": "code",
      "source": [
        "gsr.score(X_val,y_val)"
      ],
      "metadata": {
        "id": "Nc7dQPbLFpW-",
        "outputId": "3c9bc2f3-a5d6-42bd-b8b0-57527aff36db",
        "colab": {
          "base_uri": "https://localhost:8080/"
        }
      },
      "execution_count": 47,
      "outputs": [
        {
          "output_type": "execute_result",
          "data": {
            "text/plain": [
              "0.5800524934383202"
            ]
          },
          "metadata": {},
          "execution_count": 47
        }
      ]
    },
    {
      "cell_type": "markdown",
      "source": [
        "Essendo in un contesto multiclasse in cui abbiamo adottato il metodo \"one vs all\" per la classificazione, sono stati individuati sei iperpiani con rispettivi coefficenti:"
      ],
      "metadata": {
        "id": "qbEsH_Ujn9mF"
      }
    },
    {
      "cell_type": "code",
      "source": [
        "gs.best_estimator_.named_steps[\"classifier\"].coef_"
      ],
      "metadata": {
        "id": "ZUni9frioFds",
        "colab": {
          "base_uri": "https://localhost:8080/"
        },
        "outputId": "6f2eb4bb-68ae-47f1-d636-bc55eac20597"
      },
      "execution_count": 48,
      "outputs": [
        {
          "output_type": "execute_result",
          "data": {
            "text/plain": [
              "array([[-1.97534133e+00, -2.91396220e-01,  5.51678210e-01, ...,\n",
              "         0.00000000e+00,  0.00000000e+00,  0.00000000e+00],\n",
              "       [-1.87595318e+00, -2.14168071e-01,  1.28903536e+00, ...,\n",
              "         0.00000000e+00,  0.00000000e+00,  0.00000000e+00],\n",
              "       [ 3.28410024e-01, -1.19075223e+00,  1.81283170e+00, ...,\n",
              "         0.00000000e+00,  0.00000000e+00,  0.00000000e+00],\n",
              "       [-4.02299501e-01,  4.79178051e-01, -9.58800017e-01, ...,\n",
              "        -1.24301529e-01, -3.71600263e-01, -5.66693163e-01],\n",
              "       [-8.64652430e-01, -6.19605152e-06, -2.41971273e+00, ...,\n",
              "         0.00000000e+00,  0.00000000e+00, -6.47783981e-01],\n",
              "       [-1.75584437e+00,  1.20159232e-02, -1.03132545e+00, ...,\n",
              "         0.00000000e+00,  5.14625107e-02,  3.24016653e-01]])"
            ]
          },
          "metadata": {},
          "execution_count": 48
        }
      ]
    },
    {
      "cell_type": "markdown",
      "source": [
        "Effettuando la media di questi coefficenti possiamo verdere che ci sono 2478 features azzerate in seguito alla regolazzazione."
      ],
      "metadata": {
        "id": "Esi_whrRoP3a"
      }
    },
    {
      "cell_type": "code",
      "source": [
        "(DataFrame(gs.best_estimator_.named_steps[\"classifier\"].coef_,columns=gs.best_estimator_.named_steps[\"poly\"].get_feature_names_out()).mean() == 0 ).value_counts()"
      ],
      "metadata": {
        "id": "8z3rX4EgE8io",
        "colab": {
          "base_uri": "https://localhost:8080/"
        },
        "outputId": "102a2dd7-b8f3-48fb-a506-673c0b9700b8"
      },
      "execution_count": 49,
      "outputs": [
        {
          "output_type": "execute_result",
          "data": {
            "text/plain": [
              "True     3579\n",
              "False     789\n",
              "dtype: int64"
            ]
          },
          "metadata": {},
          "execution_count": 49
        }
      ]
    },
    {
      "cell_type": "markdown",
      "source": [
        "Osservando le prime 10 features ordinate per importanza dopo la regolarizzazione possiamo vedere che i primi valori sono di features non lineari."
      ],
      "metadata": {
        "id": "hYRDTCBfqFhT"
      }
    },
    {
      "cell_type": "code",
      "source": [
        "DataFrame(gs.best_estimator_.named_steps[\"classifier\"].coef_,columns=gs.best_estimator_.named_steps[\"poly\"].get_feature_names_out()).mean().sort_values(ascending=False).head(10)"
      ],
      "metadata": {
        "id": "xgUxgzAUorUh",
        "colab": {
          "base_uri": "https://localhost:8080/"
        },
        "outputId": "bc5bb3a1-a6d0-4b25-bc72-6e1b608aed18"
      },
      "execution_count": 50,
      "outputs": [
        {
          "output_type": "execute_result",
          "data": {
            "text/plain": [
              "volatile acidity alcohol            0.203543\n",
              "density alcohol                     0.112052\n",
              "citric acid density^2               0.096360\n",
              "fixed acidity^3                     0.088855\n",
              "chlorides alcohol                   0.087150\n",
              "volatile acidity alcohol^2          0.086223\n",
              "volatile acidity density alcohol    0.082835\n",
              "volatile acidity pH alcohol         0.082689\n",
              "density^2 alcohol                   0.082174\n",
              "volatile acidity citric acid        0.080712\n",
              "dtype: float64"
            ]
          },
          "metadata": {},
          "execution_count": 50
        }
      ]
    },
    {
      "cell_type": "code",
      "source": [
        "from sklearn.metrics import confusion_matrix\n",
        "y_pred = gs.predict(X_val)\n",
        "cm = confusion_matrix(y_val,y_pred)\n",
        "DataFrame(cm,index=gs.classes_,columns=gs.classes_)"
      ],
      "metadata": {
        "id": "-YUHMSXlVbU1",
        "colab": {
          "base_uri": "https://localhost:8080/",
          "height": 237
        },
        "outputId": "67013ea0-843f-4dae-a0d2-a45a6e8ee210"
      },
      "execution_count": 51,
      "outputs": [
        {
          "output_type": "execute_result",
          "data": {
            "text/plain": [
              "   3  4    5   6  7  8\n",
              "3  0  1    0   0  0  0\n",
              "4  0  0    6   4  0  0\n",
              "5  0  1  121  35  2  0\n",
              "6  0  1   57  96  5  0\n",
              "7  0  0    6  33  8  0\n",
              "8  0  0    0   5  0  0"
            ],
            "text/html": [
              "\n",
              "  <div id=\"df-cd6128e0-ff06-44f6-a98e-d584aad7a4f8\">\n",
              "    <div class=\"colab-df-container\">\n",
              "      <div>\n",
              "<style scoped>\n",
              "    .dataframe tbody tr th:only-of-type {\n",
              "        vertical-align: middle;\n",
              "    }\n",
              "\n",
              "    .dataframe tbody tr th {\n",
              "        vertical-align: top;\n",
              "    }\n",
              "\n",
              "    .dataframe thead th {\n",
              "        text-align: right;\n",
              "    }\n",
              "</style>\n",
              "<table border=\"1\" class=\"dataframe\">\n",
              "  <thead>\n",
              "    <tr style=\"text-align: right;\">\n",
              "      <th></th>\n",
              "      <th>3</th>\n",
              "      <th>4</th>\n",
              "      <th>5</th>\n",
              "      <th>6</th>\n",
              "      <th>7</th>\n",
              "      <th>8</th>\n",
              "    </tr>\n",
              "  </thead>\n",
              "  <tbody>\n",
              "    <tr>\n",
              "      <th>3</th>\n",
              "      <td>0</td>\n",
              "      <td>1</td>\n",
              "      <td>0</td>\n",
              "      <td>0</td>\n",
              "      <td>0</td>\n",
              "      <td>0</td>\n",
              "    </tr>\n",
              "    <tr>\n",
              "      <th>4</th>\n",
              "      <td>0</td>\n",
              "      <td>0</td>\n",
              "      <td>6</td>\n",
              "      <td>4</td>\n",
              "      <td>0</td>\n",
              "      <td>0</td>\n",
              "    </tr>\n",
              "    <tr>\n",
              "      <th>5</th>\n",
              "      <td>0</td>\n",
              "      <td>1</td>\n",
              "      <td>121</td>\n",
              "      <td>35</td>\n",
              "      <td>2</td>\n",
              "      <td>0</td>\n",
              "    </tr>\n",
              "    <tr>\n",
              "      <th>6</th>\n",
              "      <td>0</td>\n",
              "      <td>1</td>\n",
              "      <td>57</td>\n",
              "      <td>96</td>\n",
              "      <td>5</td>\n",
              "      <td>0</td>\n",
              "    </tr>\n",
              "    <tr>\n",
              "      <th>7</th>\n",
              "      <td>0</td>\n",
              "      <td>0</td>\n",
              "      <td>6</td>\n",
              "      <td>33</td>\n",
              "      <td>8</td>\n",
              "      <td>0</td>\n",
              "    </tr>\n",
              "    <tr>\n",
              "      <th>8</th>\n",
              "      <td>0</td>\n",
              "      <td>0</td>\n",
              "      <td>0</td>\n",
              "      <td>5</td>\n",
              "      <td>0</td>\n",
              "      <td>0</td>\n",
              "    </tr>\n",
              "  </tbody>\n",
              "</table>\n",
              "</div>\n",
              "      <button class=\"colab-df-convert\" onclick=\"convertToInteractive('df-cd6128e0-ff06-44f6-a98e-d584aad7a4f8')\"\n",
              "              title=\"Convert this dataframe to an interactive table.\"\n",
              "              style=\"display:none;\">\n",
              "        \n",
              "  <svg xmlns=\"http://www.w3.org/2000/svg\" height=\"24px\"viewBox=\"0 0 24 24\"\n",
              "       width=\"24px\">\n",
              "    <path d=\"M0 0h24v24H0V0z\" fill=\"none\"/>\n",
              "    <path d=\"M18.56 5.44l.94 2.06.94-2.06 2.06-.94-2.06-.94-.94-2.06-.94 2.06-2.06.94zm-11 1L8.5 8.5l.94-2.06 2.06-.94-2.06-.94L8.5 2.5l-.94 2.06-2.06.94zm10 10l.94 2.06.94-2.06 2.06-.94-2.06-.94-.94-2.06-.94 2.06-2.06.94z\"/><path d=\"M17.41 7.96l-1.37-1.37c-.4-.4-.92-.59-1.43-.59-.52 0-1.04.2-1.43.59L10.3 9.45l-7.72 7.72c-.78.78-.78 2.05 0 2.83L4 21.41c.39.39.9.59 1.41.59.51 0 1.02-.2 1.41-.59l7.78-7.78 2.81-2.81c.8-.78.8-2.07 0-2.86zM5.41 20L4 18.59l7.72-7.72 1.47 1.35L5.41 20z\"/>\n",
              "  </svg>\n",
              "      </button>\n",
              "      \n",
              "  <style>\n",
              "    .colab-df-container {\n",
              "      display:flex;\n",
              "      flex-wrap:wrap;\n",
              "      gap: 12px;\n",
              "    }\n",
              "\n",
              "    .colab-df-convert {\n",
              "      background-color: #E8F0FE;\n",
              "      border: none;\n",
              "      border-radius: 50%;\n",
              "      cursor: pointer;\n",
              "      display: none;\n",
              "      fill: #1967D2;\n",
              "      height: 32px;\n",
              "      padding: 0 0 0 0;\n",
              "      width: 32px;\n",
              "    }\n",
              "\n",
              "    .colab-df-convert:hover {\n",
              "      background-color: #E2EBFA;\n",
              "      box-shadow: 0px 1px 2px rgba(60, 64, 67, 0.3), 0px 1px 3px 1px rgba(60, 64, 67, 0.15);\n",
              "      fill: #174EA6;\n",
              "    }\n",
              "\n",
              "    [theme=dark] .colab-df-convert {\n",
              "      background-color: #3B4455;\n",
              "      fill: #D2E3FC;\n",
              "    }\n",
              "\n",
              "    [theme=dark] .colab-df-convert:hover {\n",
              "      background-color: #434B5C;\n",
              "      box-shadow: 0px 1px 3px 1px rgba(0, 0, 0, 0.15);\n",
              "      filter: drop-shadow(0px 1px 2px rgba(0, 0, 0, 0.3));\n",
              "      fill: #FFFFFF;\n",
              "    }\n",
              "  </style>\n",
              "\n",
              "      <script>\n",
              "        const buttonEl =\n",
              "          document.querySelector('#df-cd6128e0-ff06-44f6-a98e-d584aad7a4f8 button.colab-df-convert');\n",
              "        buttonEl.style.display =\n",
              "          google.colab.kernel.accessAllowed ? 'block' : 'none';\n",
              "\n",
              "        async function convertToInteractive(key) {\n",
              "          const element = document.querySelector('#df-cd6128e0-ff06-44f6-a98e-d584aad7a4f8');\n",
              "          const dataTable =\n",
              "            await google.colab.kernel.invokeFunction('convertToInteractive',\n",
              "                                                     [key], {});\n",
              "          if (!dataTable) return;\n",
              "\n",
              "          const docLinkHtml = 'Like what you see? Visit the ' +\n",
              "            '<a target=\"_blank\" href=https://colab.research.google.com/notebooks/data_table.ipynb>data table notebook</a>'\n",
              "            + ' to learn more about interactive tables.';\n",
              "          element.innerHTML = '';\n",
              "          dataTable['output_type'] = 'display_data';\n",
              "          await google.colab.output.renderOutput(dataTable, element);\n",
              "          const docLink = document.createElement('div');\n",
              "          docLink.innerHTML = docLinkHtml;\n",
              "          element.appendChild(docLink);\n",
              "        }\n",
              "      </script>\n",
              "    </div>\n",
              "  </div>\n",
              "  "
            ]
          },
          "metadata": {},
          "execution_count": 51
        }
      ]
    },
    {
      "cell_type": "code",
      "source": [
        "calculate_precision_recall_f1(gs,X_val,y_val)"
      ],
      "metadata": {
        "id": "kzRgkcCbGASS",
        "outputId": "20a8ed9a-23de-42c7-99b0-08f1ce69a8f9",
        "colab": {
          "base_uri": "https://localhost:8080/"
        }
      },
      "execution_count": 52,
      "outputs": [
        {
          "output_type": "stream",
          "name": "stderr",
          "text": [
            "/usr/local/lib/python3.7/dist-packages/sklearn/metrics/_classification.py:1318: UndefinedMetricWarning: Precision is ill-defined and being set to 0.0 in labels with no predicted samples. Use `zero_division` parameter to control this behavior.\n",
            "  _warn_prf(average, modifier, msg_start, len(result))\n"
          ]
        },
        {
          "output_type": "execute_result",
          "data": {
            "text/plain": [
              "{'f1-score': 0.5625537755488579,\n",
              " 'precision': 0.5631385177856723,\n",
              " 'recall': 0.5905511811023622}"
            ]
          },
          "metadata": {},
          "execution_count": 52
        }
      ]
    },
    {
      "cell_type": "markdown",
      "source": [
        "# Oversampling"
      ],
      "metadata": {
        "id": "amlmLnDENL-C"
      }
    },
    {
      "cell_type": "markdown",
      "source": [
        "Come possiamo vedere le classi sono molto sbilanciate."
      ],
      "metadata": {
        "id": "Ax7gdgytwkFP"
      }
    },
    {
      "cell_type": "code",
      "source": [
        "Y.value_counts()"
      ],
      "metadata": {
        "id": "Hqo9Eu-2wcoD",
        "colab": {
          "base_uri": "https://localhost:8080/"
        },
        "outputId": "f94ee1d5-04c4-4737-a466-9a0560c1dcf9"
      },
      "execution_count": 53,
      "outputs": [
        {
          "output_type": "execute_result",
          "data": {
            "text/plain": [
              "5    483\n",
              "6    462\n",
              "7    143\n",
              "4     33\n",
              "8     16\n",
              "3      6\n",
              "Name: quality, dtype: int64"
            ]
          },
          "metadata": {},
          "execution_count": 53
        }
      ]
    },
    {
      "cell_type": "markdown",
      "source": [
        "procediamo con oversampling dei dati"
      ],
      "metadata": {
        "id": "lmzhF3xYwu5l"
      }
    },
    {
      "cell_type": "code",
      "source": [
        "from imblearn.over_sampling import SMOTE\n",
        "\n",
        "sm = SMOTE(random_state=42,sampling_strategy=\"not majority\")\n",
        "Xsm,Ysm = sm.fit_resample(X,Y)"
      ],
      "metadata": {
        "id": "2plhqvnANOZE"
      },
      "execution_count": 54,
      "outputs": []
    },
    {
      "cell_type": "code",
      "source": [
        "Ysm.value_counts()"
      ],
      "metadata": {
        "id": "cxBgT2S5PO8Z",
        "colab": {
          "base_uri": "https://localhost:8080/"
        },
        "outputId": "4371cabf-c9f7-4bab-fbbf-f6d2faaca8ac"
      },
      "execution_count": 55,
      "outputs": [
        {
          "output_type": "execute_result",
          "data": {
            "text/plain": [
              "5    483\n",
              "6    483\n",
              "7    483\n",
              "4    483\n",
              "8    483\n",
              "3    483\n",
              "Name: quality, dtype: int64"
            ]
          },
          "metadata": {},
          "execution_count": 55
        }
      ]
    },
    {
      "cell_type": "code",
      "source": [
        "Xsm_train, Xsm_val, ysm_train, ysm_val = train_test_split(Xsm,Ysm,test_size=1/3,random_state=42)\n"
      ],
      "metadata": {
        "id": "i0r1Um0CeTGd"
      },
      "execution_count": 56,
      "outputs": []
    },
    {
      "cell_type": "code",
      "source": [
        "bestModel = gs.best_estimator_\n",
        "bestModel.fit(Xsm_train,ysm_train)"
      ],
      "metadata": {
        "id": "Z_6LZhDtTxIH",
        "colab": {
          "base_uri": "https://localhost:8080/"
        },
        "outputId": "8cb44576-d828-46aa-b096-b787cbeb01b3"
      },
      "execution_count": 57,
      "outputs": [
        {
          "output_type": "stream",
          "name": "stderr",
          "text": [
            "/usr/local/lib/python3.7/dist-packages/sklearn/linear_model/_sag.py:354: ConvergenceWarning: The max_iter was reached which means the coef_ did not converge\n",
            "  ConvergenceWarning,\n",
            "/usr/local/lib/python3.7/dist-packages/sklearn/linear_model/_sag.py:354: ConvergenceWarning: The max_iter was reached which means the coef_ did not converge\n",
            "  ConvergenceWarning,\n",
            "/usr/local/lib/python3.7/dist-packages/sklearn/linear_model/_sag.py:354: ConvergenceWarning: The max_iter was reached which means the coef_ did not converge\n",
            "  ConvergenceWarning,\n",
            "/usr/local/lib/python3.7/dist-packages/sklearn/linear_model/_sag.py:354: ConvergenceWarning: The max_iter was reached which means the coef_ did not converge\n",
            "  ConvergenceWarning,\n",
            "/usr/local/lib/python3.7/dist-packages/sklearn/linear_model/_sag.py:354: ConvergenceWarning: The max_iter was reached which means the coef_ did not converge\n",
            "  ConvergenceWarning,\n",
            "/usr/local/lib/python3.7/dist-packages/sklearn/linear_model/_sag.py:354: ConvergenceWarning: The max_iter was reached which means the coef_ did not converge\n",
            "  ConvergenceWarning,\n"
          ]
        },
        {
          "output_type": "execute_result",
          "data": {
            "text/plain": [
              "Pipeline(steps=[('poly', PolynomialFeatures(degree=5)),\n",
              "                ('classifier',\n",
              "                 LogisticRegression(C=10, multi_class='ovr', penalty='l1',\n",
              "                                    random_state=42, solver='saga'))])"
            ]
          },
          "metadata": {},
          "execution_count": 57
        }
      ]
    },
    {
      "cell_type": "code",
      "source": [
        "bestModel.score(Xsm_val,ysm_val)"
      ],
      "metadata": {
        "id": "_yCaizlje0K3",
        "colab": {
          "base_uri": "https://localhost:8080/"
        },
        "outputId": "3cadb3c1-a368-4e9e-c0e7-e6ad580caf59"
      },
      "execution_count": 58,
      "outputs": [
        {
          "output_type": "execute_result",
          "data": {
            "text/plain": [
              "0.6273291925465838"
            ]
          },
          "metadata": {},
          "execution_count": 58
        }
      ]
    },
    {
      "cell_type": "code",
      "source": [
        "calculate_precision_recall_f1(bestModel,Xsm_val,ysm_val)"
      ],
      "metadata": {
        "id": "uE94Fd80ffYr",
        "colab": {
          "base_uri": "https://localhost:8080/"
        },
        "outputId": "178b75f7-eae6-4701-88fc-960ec5d61ce4"
      },
      "execution_count": 59,
      "outputs": [
        {
          "output_type": "execute_result",
          "data": {
            "text/plain": [
              "{'f1-score': 0.609184413978409,\n",
              " 'precision': 0.6101048236657218,\n",
              " 'recall': 0.6273291925465838}"
            ]
          },
          "metadata": {},
          "execution_count": 59
        }
      ]
    },
    {
      "cell_type": "markdown",
      "source": [
        "Possiamo vedere che il modello è leggermente migliorato."
      ],
      "metadata": {
        "id": "1ZeB_9ATxAHq"
      }
    },
    {
      "cell_type": "markdown",
      "source": [
        "# Albero decisionali"
      ],
      "metadata": {
        "id": "C5ymWAG1gJQm"
      }
    },
    {
      "cell_type": "code",
      "source": [
        "from sklearn.tree import DecisionTreeClassifier\n",
        "tree = DecisionTreeClassifier(max_depth=6)\n",
        "gridtree = {\n",
        "    \"max_depth\" : [2,4,6,8,10]\n",
        "}\n",
        "gstree = GridSearchCV(tree,param_grid=gridtree,cv=skf,return_train_score=True)\n",
        "gstree.fit(Xsm_train,ysm_train)\n",
        "calculate_precision_recall_f1(gstree,Xsm_val,ysm_val)"
      ],
      "metadata": {
        "id": "xxemVbXgjHqd",
        "colab": {
          "base_uri": "https://localhost:8080/"
        },
        "outputId": "61d9dc34-e9d1-448f-9b0c-1b164f648977"
      },
      "execution_count": 60,
      "outputs": [
        {
          "output_type": "execute_result",
          "data": {
            "text/plain": [
              "{'f1-score': 0.749606239484295,\n",
              " 'precision': 0.7468176593257454,\n",
              " 'recall': 0.7536231884057971}"
            ]
          },
          "metadata": {},
          "execution_count": 60
        }
      ]
    },
    {
      "cell_type": "markdown",
      "source": [
        "Addestrando un modello con profondità massima inferiore a 6 si ottiene un modello poco preciso."
      ],
      "metadata": {
        "id": "dayY41RzVwGQ"
      }
    },
    {
      "cell_type": "markdown",
      "source": [
        "Disegnamo ora l'albero ottenuto:"
      ],
      "metadata": {
        "id": "spUo2y4jUhqS"
      }
    },
    {
      "cell_type": "code",
      "source": [
        "from sklearn.tree import export_text\n",
        "print(export_text(gstree.best_estimator_, feature_names=Xsm_train.columns.to_list()))"
      ],
      "metadata": {
        "colab": {
          "base_uri": "https://localhost:8080/"
        },
        "id": "IRsiEkAWT-dK",
        "outputId": "083f18fd-0679-4ccd-f3ef-c6da08cd93a9"
      },
      "execution_count": 61,
      "outputs": [
        {
          "output_type": "stream",
          "name": "stdout",
          "text": [
            "|--- sulphates <= 0.18\n",
            "|   |--- volatile acidity <= 0.32\n",
            "|   |   |--- alcohol <= 0.32\n",
            "|   |   |   |--- total sulfur dioxide <= 0.17\n",
            "|   |   |   |   |--- total sulfur dioxide <= 0.15\n",
            "|   |   |   |   |   |--- sulphates <= 0.12\n",
            "|   |   |   |   |   |   |--- pH <= 0.41\n",
            "|   |   |   |   |   |   |   |--- class: 5\n",
            "|   |   |   |   |   |   |--- pH >  0.41\n",
            "|   |   |   |   |   |   |   |--- fixed acidity <= 0.23\n",
            "|   |   |   |   |   |   |   |   |--- fixed acidity <= 0.18\n",
            "|   |   |   |   |   |   |   |   |   |--- class: 5\n",
            "|   |   |   |   |   |   |   |   |--- fixed acidity >  0.18\n",
            "|   |   |   |   |   |   |   |   |   |--- class: 6\n",
            "|   |   |   |   |   |   |   |--- fixed acidity >  0.23\n",
            "|   |   |   |   |   |   |   |   |--- class: 4\n",
            "|   |   |   |   |   |--- sulphates >  0.12\n",
            "|   |   |   |   |   |   |--- residual sugar <= 0.07\n",
            "|   |   |   |   |   |   |   |--- volatile acidity <= 0.28\n",
            "|   |   |   |   |   |   |   |   |--- chlorides <= 0.13\n",
            "|   |   |   |   |   |   |   |   |   |--- class: 5\n",
            "|   |   |   |   |   |   |   |   |--- chlorides >  0.13\n",
            "|   |   |   |   |   |   |   |   |   |--- class: 6\n",
            "|   |   |   |   |   |   |   |--- volatile acidity >  0.28\n",
            "|   |   |   |   |   |   |   |   |--- free sulfur dioxide <= 0.30\n",
            "|   |   |   |   |   |   |   |   |   |--- class: 6\n",
            "|   |   |   |   |   |   |   |   |--- free sulfur dioxide >  0.30\n",
            "|   |   |   |   |   |   |   |   |   |--- class: 5\n",
            "|   |   |   |   |   |   |--- residual sugar >  0.07\n",
            "|   |   |   |   |   |   |   |--- free sulfur dioxide <= 0.31\n",
            "|   |   |   |   |   |   |   |   |--- citric acid <= 0.34\n",
            "|   |   |   |   |   |   |   |   |   |--- volatile acidity <= 0.29\n",
            "|   |   |   |   |   |   |   |   |   |   |--- class: 6\n",
            "|   |   |   |   |   |   |   |   |   |--- volatile acidity >  0.29\n",
            "|   |   |   |   |   |   |   |   |   |   |--- class: 5\n",
            "|   |   |   |   |   |   |   |   |--- citric acid >  0.34\n",
            "|   |   |   |   |   |   |   |   |   |--- residual sugar <= 0.09\n",
            "|   |   |   |   |   |   |   |   |   |   |--- class: 6\n",
            "|   |   |   |   |   |   |   |   |   |--- residual sugar >  0.09\n",
            "|   |   |   |   |   |   |   |   |   |   |--- class: 5\n",
            "|   |   |   |   |   |   |   |--- free sulfur dioxide >  0.31\n",
            "|   |   |   |   |   |   |   |   |--- class: 4\n",
            "|   |   |   |   |--- total sulfur dioxide >  0.15\n",
            "|   |   |   |   |   |--- fixed acidity <= 0.22\n",
            "|   |   |   |   |   |   |--- density <= 0.45\n",
            "|   |   |   |   |   |   |   |--- class: 5\n",
            "|   |   |   |   |   |   |--- density >  0.45\n",
            "|   |   |   |   |   |   |   |--- class: 6\n",
            "|   |   |   |   |   |--- fixed acidity >  0.22\n",
            "|   |   |   |   |   |   |--- density <= 0.67\n",
            "|   |   |   |   |   |   |   |--- chlorides <= 0.09\n",
            "|   |   |   |   |   |   |   |   |--- class: 5\n",
            "|   |   |   |   |   |   |   |--- chlorides >  0.09\n",
            "|   |   |   |   |   |   |   |   |--- class: 4\n",
            "|   |   |   |   |   |   |--- density >  0.67\n",
            "|   |   |   |   |   |   |   |--- class: 5\n",
            "|   |   |   |--- total sulfur dioxide >  0.17\n",
            "|   |   |   |   |--- sulphates <= 0.18\n",
            "|   |   |   |   |   |--- volatile acidity <= 0.12\n",
            "|   |   |   |   |   |   |--- class: 6\n",
            "|   |   |   |   |   |--- volatile acidity >  0.12\n",
            "|   |   |   |   |   |   |--- chlorides <= 0.10\n",
            "|   |   |   |   |   |   |   |--- residual sugar <= 0.09\n",
            "|   |   |   |   |   |   |   |   |--- class: 6\n",
            "|   |   |   |   |   |   |   |--- residual sugar >  0.09\n",
            "|   |   |   |   |   |   |   |   |--- class: 5\n",
            "|   |   |   |   |   |   |--- chlorides >  0.10\n",
            "|   |   |   |   |   |   |   |--- sulphates <= 0.17\n",
            "|   |   |   |   |   |   |   |   |--- residual sugar <= 0.08\n",
            "|   |   |   |   |   |   |   |   |   |--- pH <= 0.34\n",
            "|   |   |   |   |   |   |   |   |   |   |--- class: 6\n",
            "|   |   |   |   |   |   |   |   |   |--- pH >  0.34\n",
            "|   |   |   |   |   |   |   |   |   |   |--- class: 5\n",
            "|   |   |   |   |   |   |   |   |--- residual sugar >  0.08\n",
            "|   |   |   |   |   |   |   |   |   |--- class: 5\n",
            "|   |   |   |   |   |   |   |--- sulphates >  0.17\n",
            "|   |   |   |   |   |   |   |   |--- total sulfur dioxide <= 0.30\n",
            "|   |   |   |   |   |   |   |   |   |--- class: 6\n",
            "|   |   |   |   |   |   |   |   |--- total sulfur dioxide >  0.30\n",
            "|   |   |   |   |   |   |   |   |   |--- class: 5\n",
            "|   |   |   |   |--- sulphates >  0.18\n",
            "|   |   |   |   |   |--- class: 6\n",
            "|   |   |--- alcohol >  0.32\n",
            "|   |   |   |--- volatile acidity <= 0.15\n",
            "|   |   |   |   |--- residual sugar <= 0.05\n",
            "|   |   |   |   |   |--- alcohol <= 0.48\n",
            "|   |   |   |   |   |   |--- class: 5\n",
            "|   |   |   |   |   |--- alcohol >  0.48\n",
            "|   |   |   |   |   |   |--- class: 6\n",
            "|   |   |   |   |--- residual sugar >  0.05\n",
            "|   |   |   |   |   |--- fixed acidity <= 0.47\n",
            "|   |   |   |   |   |   |--- alcohol <= 0.64\n",
            "|   |   |   |   |   |   |   |--- class: 7\n",
            "|   |   |   |   |   |   |--- alcohol >  0.64\n",
            "|   |   |   |   |   |   |   |--- class: 6\n",
            "|   |   |   |   |   |--- fixed acidity >  0.47\n",
            "|   |   |   |   |   |   |--- density <= 0.36\n",
            "|   |   |   |   |   |   |   |--- class: 8\n",
            "|   |   |   |   |   |   |--- density >  0.36\n",
            "|   |   |   |   |   |   |   |--- class: 6\n",
            "|   |   |   |--- volatile acidity >  0.15\n",
            "|   |   |   |   |--- free sulfur dioxide <= 0.18\n",
            "|   |   |   |   |   |--- pH <= 0.54\n",
            "|   |   |   |   |   |   |--- residual sugar <= 0.21\n",
            "|   |   |   |   |   |   |   |--- alcohol <= 0.47\n",
            "|   |   |   |   |   |   |   |   |--- free sulfur dioxide <= 0.15\n",
            "|   |   |   |   |   |   |   |   |   |--- chlorides <= 0.11\n",
            "|   |   |   |   |   |   |   |   |   |   |--- class: 5\n",
            "|   |   |   |   |   |   |   |   |   |--- chlorides >  0.11\n",
            "|   |   |   |   |   |   |   |   |   |   |--- class: 6\n",
            "|   |   |   |   |   |   |   |   |--- free sulfur dioxide >  0.15\n",
            "|   |   |   |   |   |   |   |   |   |--- chlorides <= 0.12\n",
            "|   |   |   |   |   |   |   |   |   |   |--- class: 6\n",
            "|   |   |   |   |   |   |   |   |   |--- chlorides >  0.12\n",
            "|   |   |   |   |   |   |   |   |   |   |--- class: 7\n",
            "|   |   |   |   |   |   |   |--- alcohol >  0.47\n",
            "|   |   |   |   |   |   |   |   |--- density <= 0.21\n",
            "|   |   |   |   |   |   |   |   |   |--- class: 7\n",
            "|   |   |   |   |   |   |   |   |--- density >  0.21\n",
            "|   |   |   |   |   |   |   |   |   |--- class: 6\n",
            "|   |   |   |   |   |   |--- residual sugar >  0.21\n",
            "|   |   |   |   |   |   |   |--- pH <= 0.41\n",
            "|   |   |   |   |   |   |   |   |--- volatile acidity <= 0.26\n",
            "|   |   |   |   |   |   |   |   |   |--- class: 7\n",
            "|   |   |   |   |   |   |   |   |--- volatile acidity >  0.26\n",
            "|   |   |   |   |   |   |   |   |   |--- class: 6\n",
            "|   |   |   |   |   |   |   |--- pH >  0.41\n",
            "|   |   |   |   |   |   |   |   |--- class: 4\n",
            "|   |   |   |   |   |--- pH >  0.54\n",
            "|   |   |   |   |   |   |--- density <= 0.35\n",
            "|   |   |   |   |   |   |   |--- residual sugar <= 0.06\n",
            "|   |   |   |   |   |   |   |   |--- class: 5\n",
            "|   |   |   |   |   |   |   |--- residual sugar >  0.06\n",
            "|   |   |   |   |   |   |   |   |--- class: 4\n",
            "|   |   |   |   |   |   |--- density >  0.35\n",
            "|   |   |   |   |   |   |   |--- class: 6\n",
            "|   |   |   |   |--- free sulfur dioxide >  0.18\n",
            "|   |   |   |   |   |--- sulphates <= 0.12\n",
            "|   |   |   |   |   |   |--- alcohol <= 0.44\n",
            "|   |   |   |   |   |   |   |--- class: 5\n",
            "|   |   |   |   |   |   |--- alcohol >  0.44\n",
            "|   |   |   |   |   |   |   |--- free sulfur dioxide <= 0.36\n",
            "|   |   |   |   |   |   |   |   |--- class: 6\n",
            "|   |   |   |   |   |   |   |--- free sulfur dioxide >  0.36\n",
            "|   |   |   |   |   |   |   |   |--- class: 7\n",
            "|   |   |   |   |   |--- sulphates >  0.12\n",
            "|   |   |   |   |   |   |--- fixed acidity <= 0.18\n",
            "|   |   |   |   |   |   |   |--- volatile acidity <= 0.24\n",
            "|   |   |   |   |   |   |   |   |--- class: 6\n",
            "|   |   |   |   |   |   |   |--- volatile acidity >  0.24\n",
            "|   |   |   |   |   |   |   |   |--- chlorides <= 0.06\n",
            "|   |   |   |   |   |   |   |   |   |--- class: 5\n",
            "|   |   |   |   |   |   |   |   |--- chlorides >  0.06\n",
            "|   |   |   |   |   |   |   |   |   |--- sulphates <= 0.16\n",
            "|   |   |   |   |   |   |   |   |   |   |--- class: 6\n",
            "|   |   |   |   |   |   |   |   |   |--- sulphates >  0.16\n",
            "|   |   |   |   |   |   |   |   |   |   |--- class: 7\n",
            "|   |   |   |   |   |   |--- fixed acidity >  0.18\n",
            "|   |   |   |   |   |   |   |--- volatile acidity <= 0.18\n",
            "|   |   |   |   |   |   |   |   |--- class: 5\n",
            "|   |   |   |   |   |   |   |--- volatile acidity >  0.18\n",
            "|   |   |   |   |   |   |   |   |--- class: 6\n",
            "|   |--- volatile acidity >  0.32\n",
            "|   |   |--- density <= 0.58\n",
            "|   |   |   |--- volatile acidity <= 0.43\n",
            "|   |   |   |   |--- free sulfur dioxide <= 0.21\n",
            "|   |   |   |   |   |--- residual sugar <= 0.08\n",
            "|   |   |   |   |   |   |--- sulphates <= 0.16\n",
            "|   |   |   |   |   |   |   |--- alcohol <= 0.13\n",
            "|   |   |   |   |   |   |   |   |--- density <= 0.56\n",
            "|   |   |   |   |   |   |   |   |   |--- class: 4\n",
            "|   |   |   |   |   |   |   |   |--- density >  0.56\n",
            "|   |   |   |   |   |   |   |   |   |--- class: 5\n",
            "|   |   |   |   |   |   |   |--- alcohol >  0.13\n",
            "|   |   |   |   |   |   |   |   |--- chlorides <= 0.10\n",
            "|   |   |   |   |   |   |   |   |   |--- citric acid <= 0.00\n",
            "|   |   |   |   |   |   |   |   |   |   |--- class: 6\n",
            "|   |   |   |   |   |   |   |   |   |--- citric acid >  0.00\n",
            "|   |   |   |   |   |   |   |   |   |   |--- class: 5\n",
            "|   |   |   |   |   |   |   |   |--- chlorides >  0.10\n",
            "|   |   |   |   |   |   |   |   |   |--- free sulfur dioxide <= 0.06\n",
            "|   |   |   |   |   |   |   |   |   |   |--- class: 4\n",
            "|   |   |   |   |   |   |   |   |   |--- free sulfur dioxide >  0.06\n",
            "|   |   |   |   |   |   |   |   |   |   |--- class: 5\n",
            "|   |   |   |   |   |   |--- sulphates >  0.16\n",
            "|   |   |   |   |   |   |   |--- residual sugar <= 0.06\n",
            "|   |   |   |   |   |   |   |   |--- fixed acidity <= 0.20\n",
            "|   |   |   |   |   |   |   |   |   |--- class: 4\n",
            "|   |   |   |   |   |   |   |   |--- fixed acidity >  0.20\n",
            "|   |   |   |   |   |   |   |   |   |--- class: 5\n",
            "|   |   |   |   |   |   |   |--- residual sugar >  0.06\n",
            "|   |   |   |   |   |   |   |   |--- class: 3\n",
            "|   |   |   |   |   |--- residual sugar >  0.08\n",
            "|   |   |   |   |   |   |--- pH <= 0.36\n",
            "|   |   |   |   |   |   |   |--- class: 5\n",
            "|   |   |   |   |   |   |--- pH >  0.36\n",
            "|   |   |   |   |   |   |   |--- chlorides <= 0.07\n",
            "|   |   |   |   |   |   |   |   |--- residual sugar <= 0.11\n",
            "|   |   |   |   |   |   |   |   |   |--- class: 6\n",
            "|   |   |   |   |   |   |   |   |--- residual sugar >  0.11\n",
            "|   |   |   |   |   |   |   |   |   |--- class: 5\n",
            "|   |   |   |   |   |   |   |--- chlorides >  0.07\n",
            "|   |   |   |   |   |   |   |   |--- residual sugar <= 0.25\n",
            "|   |   |   |   |   |   |   |   |   |--- density <= 0.29\n",
            "|   |   |   |   |   |   |   |   |   |   |--- class: 5\n",
            "|   |   |   |   |   |   |   |   |   |--- density >  0.29\n",
            "|   |   |   |   |   |   |   |   |   |   |--- class: 4\n",
            "|   |   |   |   |   |   |   |   |--- residual sugar >  0.25\n",
            "|   |   |   |   |   |   |   |   |   |--- chlorides <= 0.15\n",
            "|   |   |   |   |   |   |   |   |   |   |--- class: 5\n",
            "|   |   |   |   |   |   |   |   |   |--- chlorides >  0.15\n",
            "|   |   |   |   |   |   |   |   |   |   |--- class: 6\n",
            "|   |   |   |   |--- free sulfur dioxide >  0.21\n",
            "|   |   |   |   |   |--- total sulfur dioxide <= 0.32\n",
            "|   |   |   |   |   |   |--- alcohol <= 0.14\n",
            "|   |   |   |   |   |   |   |--- alcohol <= 0.13\n",
            "|   |   |   |   |   |   |   |   |--- pH <= 0.45\n",
            "|   |   |   |   |   |   |   |   |   |--- class: 5\n",
            "|   |   |   |   |   |   |   |   |--- pH >  0.45\n",
            "|   |   |   |   |   |   |   |   |   |--- class: 4\n",
            "|   |   |   |   |   |   |   |--- alcohol >  0.13\n",
            "|   |   |   |   |   |   |   |   |--- class: 4\n",
            "|   |   |   |   |   |   |--- alcohol >  0.14\n",
            "|   |   |   |   |   |   |   |--- pH <= 0.67\n",
            "|   |   |   |   |   |   |   |   |--- total sulfur dioxide <= 0.28\n",
            "|   |   |   |   |   |   |   |   |   |--- alcohol <= 0.24\n",
            "|   |   |   |   |   |   |   |   |   |   |--- class: 5\n",
            "|   |   |   |   |   |   |   |   |   |--- alcohol >  0.24\n",
            "|   |   |   |   |   |   |   |   |   |   |--- class: 6\n",
            "|   |   |   |   |   |   |   |   |--- total sulfur dioxide >  0.28\n",
            "|   |   |   |   |   |   |   |   |   |--- chlorides <= 0.12\n",
            "|   |   |   |   |   |   |   |   |   |   |--- class: 6\n",
            "|   |   |   |   |   |   |   |   |   |--- chlorides >  0.12\n",
            "|   |   |   |   |   |   |   |   |   |   |--- class: 5\n",
            "|   |   |   |   |   |   |   |--- pH >  0.67\n",
            "|   |   |   |   |   |   |   |   |--- class: 6\n",
            "|   |   |   |   |   |--- total sulfur dioxide >  0.32\n",
            "|   |   |   |   |   |   |--- class: 5\n",
            "|   |   |   |--- volatile acidity >  0.43\n",
            "|   |   |   |   |--- alcohol <= 0.39\n",
            "|   |   |   |   |   |--- alcohol <= 0.20\n",
            "|   |   |   |   |   |   |--- citric acid <= 0.05\n",
            "|   |   |   |   |   |   |   |--- citric acid <= 0.01\n",
            "|   |   |   |   |   |   |   |   |--- class: 5\n",
            "|   |   |   |   |   |   |   |--- citric acid >  0.01\n",
            "|   |   |   |   |   |   |   |   |--- class: 4\n",
            "|   |   |   |   |   |   |--- citric acid >  0.05\n",
            "|   |   |   |   |   |   |   |--- pH <= 0.40\n",
            "|   |   |   |   |   |   |   |   |--- citric acid <= 0.20\n",
            "|   |   |   |   |   |   |   |   |   |--- free sulfur dioxide <= 0.18\n",
            "|   |   |   |   |   |   |   |   |   |   |--- class: 4\n",
            "|   |   |   |   |   |   |   |   |   |--- free sulfur dioxide >  0.18\n",
            "|   |   |   |   |   |   |   |   |   |   |--- class: 6\n",
            "|   |   |   |   |   |   |   |   |--- citric acid >  0.20\n",
            "|   |   |   |   |   |   |   |   |   |--- class: 5\n",
            "|   |   |   |   |   |   |   |--- pH >  0.40\n",
            "|   |   |   |   |   |   |   |   |--- residual sugar <= 0.08\n",
            "|   |   |   |   |   |   |   |   |   |--- total sulfur dioxide <= 0.26\n",
            "|   |   |   |   |   |   |   |   |   |   |--- class: 4\n",
            "|   |   |   |   |   |   |   |   |   |--- total sulfur dioxide >  0.26\n",
            "|   |   |   |   |   |   |   |   |   |   |--- class: 5\n",
            "|   |   |   |   |   |   |   |   |--- residual sugar >  0.08\n",
            "|   |   |   |   |   |   |   |   |   |--- density <= 0.51\n",
            "|   |   |   |   |   |   |   |   |   |   |--- class: 5\n",
            "|   |   |   |   |   |   |   |   |   |--- density >  0.51\n",
            "|   |   |   |   |   |   |   |   |   |   |--- class: 3\n",
            "|   |   |   |   |   |--- alcohol >  0.20\n",
            "|   |   |   |   |   |   |--- fixed acidity <= 0.18\n",
            "|   |   |   |   |   |   |   |--- sulphates <= 0.17\n",
            "|   |   |   |   |   |   |   |   |--- class: 4\n",
            "|   |   |   |   |   |   |   |--- sulphates >  0.17\n",
            "|   |   |   |   |   |   |   |   |--- class: 6\n",
            "|   |   |   |   |   |   |--- fixed acidity >  0.18\n",
            "|   |   |   |   |   |   |   |--- pH <= 0.45\n",
            "|   |   |   |   |   |   |   |   |--- total sulfur dioxide <= 0.06\n",
            "|   |   |   |   |   |   |   |   |   |--- class: 4\n",
            "|   |   |   |   |   |   |   |   |--- total sulfur dioxide >  0.06\n",
            "|   |   |   |   |   |   |   |   |   |--- total sulfur dioxide <= 0.11\n",
            "|   |   |   |   |   |   |   |   |   |   |--- class: 5\n",
            "|   |   |   |   |   |   |   |   |   |--- total sulfur dioxide >  0.11\n",
            "|   |   |   |   |   |   |   |   |   |   |--- class: 6\n",
            "|   |   |   |   |   |   |   |--- pH >  0.45\n",
            "|   |   |   |   |   |   |   |   |--- total sulfur dioxide <= 0.15\n",
            "|   |   |   |   |   |   |   |   |   |--- citric acid <= 0.00\n",
            "|   |   |   |   |   |   |   |   |   |   |--- class: 5\n",
            "|   |   |   |   |   |   |   |   |   |--- citric acid >  0.00\n",
            "|   |   |   |   |   |   |   |   |   |   |--- class: 3\n",
            "|   |   |   |   |   |   |   |   |--- total sulfur dioxide >  0.15\n",
            "|   |   |   |   |   |   |   |   |   |--- residual sugar <= 0.19\n",
            "|   |   |   |   |   |   |   |   |   |   |--- class: 5\n",
            "|   |   |   |   |   |   |   |   |   |--- residual sugar >  0.19\n",
            "|   |   |   |   |   |   |   |   |   |   |--- class: 4\n",
            "|   |   |   |   |--- alcohol >  0.39\n",
            "|   |   |   |   |   |--- alcohol <= 0.52\n",
            "|   |   |   |   |   |   |--- citric acid <= 0.15\n",
            "|   |   |   |   |   |   |   |--- density <= 0.29\n",
            "|   |   |   |   |   |   |   |   |--- alcohol <= 0.48\n",
            "|   |   |   |   |   |   |   |   |   |--- class: 6\n",
            "|   |   |   |   |   |   |   |   |--- alcohol >  0.48\n",
            "|   |   |   |   |   |   |   |   |   |--- class: 5\n",
            "|   |   |   |   |   |   |   |--- density >  0.29\n",
            "|   |   |   |   |   |   |   |   |--- chlorides <= 0.08\n",
            "|   |   |   |   |   |   |   |   |   |--- pH <= 0.68\n",
            "|   |   |   |   |   |   |   |   |   |   |--- class: 6\n",
            "|   |   |   |   |   |   |   |   |   |--- pH >  0.68\n",
            "|   |   |   |   |   |   |   |   |   |   |--- class: 4\n",
            "|   |   |   |   |   |   |   |   |--- chlorides >  0.08\n",
            "|   |   |   |   |   |   |   |   |   |--- class: 4\n",
            "|   |   |   |   |   |   |--- citric acid >  0.15\n",
            "|   |   |   |   |   |   |   |--- class: 5\n",
            "|   |   |   |   |   |--- alcohol >  0.52\n",
            "|   |   |   |   |   |   |--- free sulfur dioxide <= 0.43\n",
            "|   |   |   |   |   |   |   |--- fixed acidity <= 0.12\n",
            "|   |   |   |   |   |   |   |   |--- class: 4\n",
            "|   |   |   |   |   |   |   |--- fixed acidity >  0.12\n",
            "|   |   |   |   |   |   |   |   |--- class: 6\n",
            "|   |   |   |   |   |   |--- free sulfur dioxide >  0.43\n",
            "|   |   |   |   |   |   |   |--- class: 7\n",
            "|   |   |--- density >  0.58\n",
            "|   |   |   |--- total sulfur dioxide <= 0.16\n",
            "|   |   |   |   |--- alcohol <= 0.28\n",
            "|   |   |   |   |   |--- citric acid <= 0.03\n",
            "|   |   |   |   |   |   |--- alcohol <= 0.18\n",
            "|   |   |   |   |   |   |   |--- class: 6\n",
            "|   |   |   |   |   |   |--- alcohol >  0.18\n",
            "|   |   |   |   |   |   |   |--- class: 5\n",
            "|   |   |   |   |   |--- citric acid >  0.03\n",
            "|   |   |   |   |   |   |--- sulphates <= 0.10\n",
            "|   |   |   |   |   |   |   |--- class: 5\n",
            "|   |   |   |   |   |   |--- sulphates >  0.10\n",
            "|   |   |   |   |   |   |   |--- citric acid <= 0.25\n",
            "|   |   |   |   |   |   |   |   |--- volatile acidity <= 0.41\n",
            "|   |   |   |   |   |   |   |   |   |--- total sulfur dioxide <= 0.06\n",
            "|   |   |   |   |   |   |   |   |   |   |--- class: 5\n",
            "|   |   |   |   |   |   |   |   |   |--- total sulfur dioxide >  0.06\n",
            "|   |   |   |   |   |   |   |   |   |   |--- class: 6\n",
            "|   |   |   |   |   |   |   |   |--- volatile acidity >  0.41\n",
            "|   |   |   |   |   |   |   |   |   |--- class: 3\n",
            "|   |   |   |   |   |   |   |--- citric acid >  0.25\n",
            "|   |   |   |   |   |   |   |   |--- class: 3\n",
            "|   |   |   |   |--- alcohol >  0.28\n",
            "|   |   |   |   |   |--- free sulfur dioxide <= 0.11\n",
            "|   |   |   |   |   |   |--- citric acid <= 0.17\n",
            "|   |   |   |   |   |   |   |--- alcohol <= 0.28\n",
            "|   |   |   |   |   |   |   |   |--- class: 4\n",
            "|   |   |   |   |   |   |   |--- alcohol >  0.28\n",
            "|   |   |   |   |   |   |   |   |--- class: 3\n",
            "|   |   |   |   |   |   |--- citric acid >  0.17\n",
            "|   |   |   |   |   |   |   |--- class: 5\n",
            "|   |   |   |   |   |--- free sulfur dioxide >  0.11\n",
            "|   |   |   |   |   |   |--- class: 6\n",
            "|   |   |   |--- total sulfur dioxide >  0.16\n",
            "|   |   |   |   |--- sulphates <= 0.15\n",
            "|   |   |   |   |   |--- class: 5\n",
            "|   |   |   |   |--- sulphates >  0.15\n",
            "|   |   |   |   |   |--- total sulfur dioxide <= 0.20\n",
            "|   |   |   |   |   |   |--- class: 4\n",
            "|   |   |   |   |   |--- total sulfur dioxide >  0.20\n",
            "|   |   |   |   |   |   |--- class: 6\n",
            "|--- sulphates >  0.18\n",
            "|   |--- alcohol <= 0.43\n",
            "|   |   |--- alcohol <= 0.23\n",
            "|   |   |   |--- free sulfur dioxide <= 0.27\n",
            "|   |   |   |   |--- density <= 0.53\n",
            "|   |   |   |   |   |--- density <= 0.45\n",
            "|   |   |   |   |   |   |--- pH <= 0.46\n",
            "|   |   |   |   |   |   |   |--- class: 4\n",
            "|   |   |   |   |   |   |--- pH >  0.46\n",
            "|   |   |   |   |   |   |   |--- class: 6\n",
            "|   |   |   |   |   |--- density >  0.45\n",
            "|   |   |   |   |   |   |--- residual sugar <= 0.03\n",
            "|   |   |   |   |   |   |   |--- class: 4\n",
            "|   |   |   |   |   |   |--- residual sugar >  0.03\n",
            "|   |   |   |   |   |   |   |--- density <= 0.52\n",
            "|   |   |   |   |   |   |   |   |--- alcohol <= 0.12\n",
            "|   |   |   |   |   |   |   |   |   |--- class: 6\n",
            "|   |   |   |   |   |   |   |   |--- alcohol >  0.12\n",
            "|   |   |   |   |   |   |   |   |   |--- density <= 0.49\n",
            "|   |   |   |   |   |   |   |   |   |   |--- class: 5\n",
            "|   |   |   |   |   |   |   |   |   |--- density >  0.49\n",
            "|   |   |   |   |   |   |   |   |   |   |--- class: 5\n",
            "|   |   |   |   |   |   |   |--- density >  0.52\n",
            "|   |   |   |   |   |   |   |   |--- class: 4\n",
            "|   |   |   |   |--- density >  0.53\n",
            "|   |   |   |   |   |--- volatile acidity <= 0.09\n",
            "|   |   |   |   |   |   |--- class: 7\n",
            "|   |   |   |   |   |--- volatile acidity >  0.09\n",
            "|   |   |   |   |   |   |--- sulphates <= 0.39\n",
            "|   |   |   |   |   |   |   |--- pH <= 0.14\n",
            "|   |   |   |   |   |   |   |   |--- citric acid <= 0.73\n",
            "|   |   |   |   |   |   |   |   |   |--- class: 8\n",
            "|   |   |   |   |   |   |   |   |--- citric acid >  0.73\n",
            "|   |   |   |   |   |   |   |   |   |--- class: 6\n",
            "|   |   |   |   |   |   |   |--- pH >  0.14\n",
            "|   |   |   |   |   |   |   |   |--- sulphates <= 0.28\n",
            "|   |   |   |   |   |   |   |   |   |--- pH <= 0.65\n",
            "|   |   |   |   |   |   |   |   |   |   |--- class: 6\n",
            "|   |   |   |   |   |   |   |   |   |--- pH >  0.65\n",
            "|   |   |   |   |   |   |   |   |   |   |--- class: 5\n",
            "|   |   |   |   |   |   |   |   |--- sulphates >  0.28\n",
            "|   |   |   |   |   |   |   |   |   |--- class: 6\n",
            "|   |   |   |   |   |   |--- sulphates >  0.39\n",
            "|   |   |   |   |   |   |   |--- class: 5\n",
            "|   |   |   |--- free sulfur dioxide >  0.27\n",
            "|   |   |   |   |--- citric acid <= 0.57\n",
            "|   |   |   |   |   |--- pH <= 0.45\n",
            "|   |   |   |   |   |   |--- residual sugar <= 0.06\n",
            "|   |   |   |   |   |   |   |--- class: 4\n",
            "|   |   |   |   |   |   |--- residual sugar >  0.06\n",
            "|   |   |   |   |   |   |   |--- chlorides <= 0.33\n",
            "|   |   |   |   |   |   |   |   |--- free sulfur dioxide <= 0.32\n",
            "|   |   |   |   |   |   |   |   |   |--- sulphates <= 0.24\n",
            "|   |   |   |   |   |   |   |   |   |   |--- class: 5\n",
            "|   |   |   |   |   |   |   |   |   |--- sulphates >  0.24\n",
            "|   |   |   |   |   |   |   |   |   |   |--- class: 4\n",
            "|   |   |   |   |   |   |   |   |--- free sulfur dioxide >  0.32\n",
            "|   |   |   |   |   |   |   |   |   |--- alcohol <= 0.22\n",
            "|   |   |   |   |   |   |   |   |   |   |--- class: 5\n",
            "|   |   |   |   |   |   |   |   |   |--- alcohol >  0.22\n",
            "|   |   |   |   |   |   |   |   |   |   |--- class: 4\n",
            "|   |   |   |   |   |   |   |--- chlorides >  0.33\n",
            "|   |   |   |   |   |   |   |   |--- total sulfur dioxide <= 0.33\n",
            "|   |   |   |   |   |   |   |   |   |--- class: 6\n",
            "|   |   |   |   |   |   |   |   |--- total sulfur dioxide >  0.33\n",
            "|   |   |   |   |   |   |   |   |   |--- sulphates <= 0.52\n",
            "|   |   |   |   |   |   |   |   |   |   |--- class: 5\n",
            "|   |   |   |   |   |   |   |   |   |--- sulphates >  0.52\n",
            "|   |   |   |   |   |   |   |   |   |   |--- class: 4\n",
            "|   |   |   |   |   |--- pH >  0.45\n",
            "|   |   |   |   |   |   |--- citric acid <= 0.34\n",
            "|   |   |   |   |   |   |   |--- density <= 0.57\n",
            "|   |   |   |   |   |   |   |   |--- free sulfur dioxide <= 0.49\n",
            "|   |   |   |   |   |   |   |   |   |--- class: 6\n",
            "|   |   |   |   |   |   |   |   |--- free sulfur dioxide >  0.49\n",
            "|   |   |   |   |   |   |   |   |   |--- class: 5\n",
            "|   |   |   |   |   |   |   |--- density >  0.57\n",
            "|   |   |   |   |   |   |   |   |--- chlorides <= 0.13\n",
            "|   |   |   |   |   |   |   |   |   |--- class: 5\n",
            "|   |   |   |   |   |   |   |   |--- chlorides >  0.13\n",
            "|   |   |   |   |   |   |   |   |   |--- class: 4\n",
            "|   |   |   |   |   |   |--- citric acid >  0.34\n",
            "|   |   |   |   |   |   |   |--- density <= 0.62\n",
            "|   |   |   |   |   |   |   |   |--- class: 4\n",
            "|   |   |   |   |   |   |   |--- density >  0.62\n",
            "|   |   |   |   |   |   |   |   |--- class: 6\n",
            "|   |   |   |   |--- citric acid >  0.57\n",
            "|   |   |   |   |   |--- class: 4\n",
            "|   |   |--- alcohol >  0.23\n",
            "|   |   |   |--- free sulfur dioxide <= 0.07\n",
            "|   |   |   |   |--- volatile acidity <= 0.13\n",
            "|   |   |   |   |   |--- citric acid <= 0.29\n",
            "|   |   |   |   |   |   |--- class: 6\n",
            "|   |   |   |   |   |--- citric acid >  0.29\n",
            "|   |   |   |   |   |   |--- class: 7\n",
            "|   |   |   |   |--- volatile acidity >  0.13\n",
            "|   |   |   |   |   |--- volatile acidity <= 0.16\n",
            "|   |   |   |   |   |   |--- density <= 0.67\n",
            "|   |   |   |   |   |   |   |--- class: 8\n",
            "|   |   |   |   |   |   |--- density >  0.67\n",
            "|   |   |   |   |   |   |   |--- class: 7\n",
            "|   |   |   |   |   |--- volatile acidity >  0.16\n",
            "|   |   |   |   |   |   |--- chlorides <= 0.09\n",
            "|   |   |   |   |   |   |   |--- class: 6\n",
            "|   |   |   |   |   |   |--- chlorides >  0.09\n",
            "|   |   |   |   |   |   |   |--- total sulfur dioxide <= 0.03\n",
            "|   |   |   |   |   |   |   |   |--- class: 8\n",
            "|   |   |   |   |   |   |   |--- total sulfur dioxide >  0.03\n",
            "|   |   |   |   |   |   |   |   |--- class: 7\n",
            "|   |   |   |--- free sulfur dioxide >  0.07\n",
            "|   |   |   |   |--- chlorides <= 0.16\n",
            "|   |   |   |   |   |--- total sulfur dioxide <= 0.17\n",
            "|   |   |   |   |   |   |--- volatile acidity <= 0.22\n",
            "|   |   |   |   |   |   |   |--- volatile acidity <= 0.05\n",
            "|   |   |   |   |   |   |   |   |--- class: 6\n",
            "|   |   |   |   |   |   |   |--- volatile acidity >  0.05\n",
            "|   |   |   |   |   |   |   |   |--- total sulfur dioxide <= 0.06\n",
            "|   |   |   |   |   |   |   |   |   |--- citric acid <= 0.33\n",
            "|   |   |   |   |   |   |   |   |   |   |--- class: 8\n",
            "|   |   |   |   |   |   |   |   |   |--- citric acid >  0.33\n",
            "|   |   |   |   |   |   |   |   |   |   |--- class: 7\n",
            "|   |   |   |   |   |   |   |   |--- total sulfur dioxide >  0.06\n",
            "|   |   |   |   |   |   |   |   |   |--- pH <= 0.20\n",
            "|   |   |   |   |   |   |   |   |   |   |--- class: 8\n",
            "|   |   |   |   |   |   |   |   |   |--- pH >  0.20\n",
            "|   |   |   |   |   |   |   |   |   |   |--- class: 7\n",
            "|   |   |   |   |   |   |--- volatile acidity >  0.22\n",
            "|   |   |   |   |   |   |   |--- residual sugar <= 0.10\n",
            "|   |   |   |   |   |   |   |   |--- chlorides <= 0.12\n",
            "|   |   |   |   |   |   |   |   |   |--- chlorides <= 0.11\n",
            "|   |   |   |   |   |   |   |   |   |   |--- class: 6\n",
            "|   |   |   |   |   |   |   |   |   |--- chlorides >  0.11\n",
            "|   |   |   |   |   |   |   |   |   |   |--- class: 5\n",
            "|   |   |   |   |   |   |   |   |--- chlorides >  0.12\n",
            "|   |   |   |   |   |   |   |   |   |--- class: 6\n",
            "|   |   |   |   |   |   |   |--- residual sugar >  0.10\n",
            "|   |   |   |   |   |   |   |   |--- density <= 0.56\n",
            "|   |   |   |   |   |   |   |   |   |--- fixed acidity <= 0.19\n",
            "|   |   |   |   |   |   |   |   |   |   |--- class: 6\n",
            "|   |   |   |   |   |   |   |   |   |--- fixed acidity >  0.19\n",
            "|   |   |   |   |   |   |   |   |   |   |--- class: 7\n",
            "|   |   |   |   |   |   |   |   |--- density >  0.56\n",
            "|   |   |   |   |   |   |   |   |   |--- density <= 0.78\n",
            "|   |   |   |   |   |   |   |   |   |   |--- class: 6\n",
            "|   |   |   |   |   |   |   |   |   |--- density >  0.78\n",
            "|   |   |   |   |   |   |   |   |   |   |--- class: 7\n",
            "|   |   |   |   |   |--- total sulfur dioxide >  0.17\n",
            "|   |   |   |   |   |   |--- volatile acidity <= 0.48\n",
            "|   |   |   |   |   |   |   |--- total sulfur dioxide <= 0.25\n",
            "|   |   |   |   |   |   |   |   |--- alcohol <= 0.25\n",
            "|   |   |   |   |   |   |   |   |   |--- pH <= 0.38\n",
            "|   |   |   |   |   |   |   |   |   |   |--- class: 6\n",
            "|   |   |   |   |   |   |   |   |   |--- pH >  0.38\n",
            "|   |   |   |   |   |   |   |   |   |   |--- class: 7\n",
            "|   |   |   |   |   |   |   |   |--- alcohol >  0.25\n",
            "|   |   |   |   |   |   |   |   |   |--- sulphates <= 0.37\n",
            "|   |   |   |   |   |   |   |   |   |   |--- class: 6\n",
            "|   |   |   |   |   |   |   |   |   |--- sulphates >  0.37\n",
            "|   |   |   |   |   |   |   |   |   |   |--- class: 5\n",
            "|   |   |   |   |   |   |   |--- total sulfur dioxide >  0.25\n",
            "|   |   |   |   |   |   |   |   |--- residual sugar <= 0.10\n",
            "|   |   |   |   |   |   |   |   |   |--- free sulfur dioxide <= 0.46\n",
            "|   |   |   |   |   |   |   |   |   |   |--- class: 6\n",
            "|   |   |   |   |   |   |   |   |   |--- free sulfur dioxide >  0.46\n",
            "|   |   |   |   |   |   |   |   |   |   |--- class: 7\n",
            "|   |   |   |   |   |   |   |   |--- residual sugar >  0.10\n",
            "|   |   |   |   |   |   |   |   |   |--- class: 5\n",
            "|   |   |   |   |   |   |--- volatile acidity >  0.48\n",
            "|   |   |   |   |   |   |   |--- class: 4\n",
            "|   |   |   |   |--- chlorides >  0.16\n",
            "|   |   |   |   |   |--- total sulfur dioxide <= 0.16\n",
            "|   |   |   |   |   |   |--- pH <= 0.45\n",
            "|   |   |   |   |   |   |   |--- sulphates <= 0.26\n",
            "|   |   |   |   |   |   |   |   |--- class: 6\n",
            "|   |   |   |   |   |   |   |--- sulphates >  0.26\n",
            "|   |   |   |   |   |   |   |   |--- class: 7\n",
            "|   |   |   |   |   |   |--- pH >  0.45\n",
            "|   |   |   |   |   |   |   |--- class: 4\n",
            "|   |   |   |   |   |--- total sulfur dioxide >  0.16\n",
            "|   |   |   |   |   |   |--- class: 5\n",
            "|   |--- alcohol >  0.43\n",
            "|   |   |--- pH <= 0.41\n",
            "|   |   |   |--- chlorides <= 0.12\n",
            "|   |   |   |   |--- density <= 0.63\n",
            "|   |   |   |   |   |--- sulphates <= 0.40\n",
            "|   |   |   |   |   |   |--- total sulfur dioxide <= 0.02\n",
            "|   |   |   |   |   |   |   |--- free sulfur dioxide <= 0.04\n",
            "|   |   |   |   |   |   |   |   |--- class: 6\n",
            "|   |   |   |   |   |   |   |--- free sulfur dioxide >  0.04\n",
            "|   |   |   |   |   |   |   |   |--- class: 7\n",
            "|   |   |   |   |   |   |--- total sulfur dioxide >  0.02\n",
            "|   |   |   |   |   |   |   |--- free sulfur dioxide <= 0.12\n",
            "|   |   |   |   |   |   |   |   |--- class: 8\n",
            "|   |   |   |   |   |   |   |--- free sulfur dioxide >  0.12\n",
            "|   |   |   |   |   |   |   |   |--- fixed acidity <= 0.49\n",
            "|   |   |   |   |   |   |   |   |   |--- volatile acidity <= 0.16\n",
            "|   |   |   |   |   |   |   |   |   |   |--- class: 8\n",
            "|   |   |   |   |   |   |   |   |   |--- volatile acidity >  0.16\n",
            "|   |   |   |   |   |   |   |   |   |   |--- class: 8\n",
            "|   |   |   |   |   |   |   |   |--- fixed acidity >  0.49\n",
            "|   |   |   |   |   |   |   |   |   |--- citric acid <= 0.55\n",
            "|   |   |   |   |   |   |   |   |   |   |--- class: 6\n",
            "|   |   |   |   |   |   |   |   |   |--- citric acid >  0.55\n",
            "|   |   |   |   |   |   |   |   |   |   |--- class: 7\n",
            "|   |   |   |   |   |--- sulphates >  0.40\n",
            "|   |   |   |   |   |   |--- class: 7\n",
            "|   |   |   |   |--- density >  0.63\n",
            "|   |   |   |   |   |--- class: 7\n",
            "|   |   |   |--- chlorides >  0.12\n",
            "|   |   |   |   |--- density <= 0.62\n",
            "|   |   |   |   |   |--- chlorides <= 0.21\n",
            "|   |   |   |   |   |   |--- class: 7\n",
            "|   |   |   |   |   |--- chlorides >  0.21\n",
            "|   |   |   |   |   |   |--- class: 6\n",
            "|   |   |   |   |--- density >  0.62\n",
            "|   |   |   |   |   |--- pH <= 0.37\n",
            "|   |   |   |   |   |   |--- free sulfur dioxide <= 0.30\n",
            "|   |   |   |   |   |   |   |--- class: 6\n",
            "|   |   |   |   |   |   |--- free sulfur dioxide >  0.30\n",
            "|   |   |   |   |   |   |   |--- total sulfur dioxide <= 0.19\n",
            "|   |   |   |   |   |   |   |   |--- class: 7\n",
            "|   |   |   |   |   |   |   |--- total sulfur dioxide >  0.19\n",
            "|   |   |   |   |   |   |   |   |--- class: 5\n",
            "|   |   |   |   |   |--- pH >  0.37\n",
            "|   |   |   |   |   |   |--- class: 8\n",
            "|   |   |--- pH >  0.41\n",
            "|   |   |   |--- volatile acidity <= 0.14\n",
            "|   |   |   |   |--- density <= 0.45\n",
            "|   |   |   |   |   |--- total sulfur dioxide <= 0.01\n",
            "|   |   |   |   |   |   |--- class: 6\n",
            "|   |   |   |   |   |--- total sulfur dioxide >  0.01\n",
            "|   |   |   |   |   |   |--- total sulfur dioxide <= 0.18\n",
            "|   |   |   |   |   |   |   |--- pH <= 0.52\n",
            "|   |   |   |   |   |   |   |   |--- class: 7\n",
            "|   |   |   |   |   |   |   |--- pH >  0.52\n",
            "|   |   |   |   |   |   |   |   |--- chlorides <= 0.08\n",
            "|   |   |   |   |   |   |   |   |   |--- class: 5\n",
            "|   |   |   |   |   |   |   |   |--- chlorides >  0.08\n",
            "|   |   |   |   |   |   |   |   |   |--- class: 7\n",
            "|   |   |   |   |   |   |--- total sulfur dioxide >  0.18\n",
            "|   |   |   |   |   |   |   |--- fixed acidity <= 0.31\n",
            "|   |   |   |   |   |   |   |   |--- class: 6\n",
            "|   |   |   |   |   |   |   |--- fixed acidity >  0.31\n",
            "|   |   |   |   |   |   |   |   |--- class: 7\n",
            "|   |   |   |   |--- density >  0.45\n",
            "|   |   |   |   |   |--- volatile acidity <= 0.14\n",
            "|   |   |   |   |   |   |--- class: 6\n",
            "|   |   |   |   |   |--- volatile acidity >  0.14\n",
            "|   |   |   |   |   |   |--- density <= 0.51\n",
            "|   |   |   |   |   |   |   |--- class: 8\n",
            "|   |   |   |   |   |   |--- density >  0.51\n",
            "|   |   |   |   |   |   |   |--- class: 7\n",
            "|   |   |   |--- volatile acidity >  0.14\n",
            "|   |   |   |   |--- citric acid <= 0.13\n",
            "|   |   |   |   |   |--- residual sugar <= 0.05\n",
            "|   |   |   |   |   |   |--- class: 8\n",
            "|   |   |   |   |   |--- residual sugar >  0.05\n",
            "|   |   |   |   |   |   |--- volatile acidity <= 0.20\n",
            "|   |   |   |   |   |   |   |--- class: 6\n",
            "|   |   |   |   |   |   |--- volatile acidity >  0.20\n",
            "|   |   |   |   |   |   |   |--- fixed acidity <= 0.17\n",
            "|   |   |   |   |   |   |   |   |--- chlorides <= 0.05\n",
            "|   |   |   |   |   |   |   |   |   |--- class: 5\n",
            "|   |   |   |   |   |   |   |   |--- chlorides >  0.05\n",
            "|   |   |   |   |   |   |   |   |   |--- class: 7\n",
            "|   |   |   |   |   |   |   |--- fixed acidity >  0.17\n",
            "|   |   |   |   |   |   |   |   |--- density <= 0.44\n",
            "|   |   |   |   |   |   |   |   |   |--- alcohol <= 0.58\n",
            "|   |   |   |   |   |   |   |   |   |   |--- class: 6\n",
            "|   |   |   |   |   |   |   |   |   |--- alcohol >  0.58\n",
            "|   |   |   |   |   |   |   |   |   |   |--- class: 6\n",
            "|   |   |   |   |   |   |   |   |--- density >  0.44\n",
            "|   |   |   |   |   |   |   |   |   |--- class: 7\n",
            "|   |   |   |   |--- citric acid >  0.13\n",
            "|   |   |   |   |   |--- sulphates <= 0.22\n",
            "|   |   |   |   |   |   |--- free sulfur dioxide <= 0.16\n",
            "|   |   |   |   |   |   |   |--- chlorides <= 0.12\n",
            "|   |   |   |   |   |   |   |   |--- fixed acidity <= 0.41\n",
            "|   |   |   |   |   |   |   |   |   |--- class: 7\n",
            "|   |   |   |   |   |   |   |   |--- fixed acidity >  0.41\n",
            "|   |   |   |   |   |   |   |   |   |--- class: 8\n",
            "|   |   |   |   |   |   |   |--- chlorides >  0.12\n",
            "|   |   |   |   |   |   |   |   |--- alcohol <= 0.47\n",
            "|   |   |   |   |   |   |   |   |   |--- class: 4\n",
            "|   |   |   |   |   |   |   |   |--- alcohol >  0.47\n",
            "|   |   |   |   |   |   |   |   |   |--- class: 6\n",
            "|   |   |   |   |   |   |--- free sulfur dioxide >  0.16\n",
            "|   |   |   |   |   |   |   |--- class: 6\n",
            "|   |   |   |   |   |--- sulphates >  0.22\n",
            "|   |   |   |   |   |   |--- free sulfur dioxide <= 0.28\n",
            "|   |   |   |   |   |   |   |--- fixed acidity <= 0.38\n",
            "|   |   |   |   |   |   |   |   |--- alcohol <= 0.49\n",
            "|   |   |   |   |   |   |   |   |   |--- residual sugar <= 0.08\n",
            "|   |   |   |   |   |   |   |   |   |   |--- class: 8\n",
            "|   |   |   |   |   |   |   |   |   |--- residual sugar >  0.08\n",
            "|   |   |   |   |   |   |   |   |   |   |--- class: 7\n",
            "|   |   |   |   |   |   |   |   |--- alcohol >  0.49\n",
            "|   |   |   |   |   |   |   |   |   |--- sulphates <= 0.35\n",
            "|   |   |   |   |   |   |   |   |   |   |--- class: 8\n",
            "|   |   |   |   |   |   |   |   |   |--- sulphates >  0.35\n",
            "|   |   |   |   |   |   |   |   |   |   |--- class: 6\n",
            "|   |   |   |   |   |   |   |--- fixed acidity >  0.38\n",
            "|   |   |   |   |   |   |   |   |--- volatile acidity <= 0.17\n",
            "|   |   |   |   |   |   |   |   |   |--- class: 8\n",
            "|   |   |   |   |   |   |   |   |--- volatile acidity >  0.17\n",
            "|   |   |   |   |   |   |   |   |   |--- free sulfur dioxide <= 0.07\n",
            "|   |   |   |   |   |   |   |   |   |   |--- class: 6\n",
            "|   |   |   |   |   |   |   |   |   |--- free sulfur dioxide >  0.07\n",
            "|   |   |   |   |   |   |   |   |   |   |--- class: 7\n",
            "|   |   |   |   |   |   |--- free sulfur dioxide >  0.28\n",
            "|   |   |   |   |   |   |   |--- free sulfur dioxide <= 0.36\n",
            "|   |   |   |   |   |   |   |   |--- class: 7\n",
            "|   |   |   |   |   |   |   |--- free sulfur dioxide >  0.36\n",
            "|   |   |   |   |   |   |   |   |--- class: 6\n",
            "\n"
          ]
        }
      ]
    },
    {
      "cell_type": "markdown",
      "source": [
        "# Support Vector Machine"
      ],
      "metadata": {
        "id": "Wd6tDk0QxPQH"
      }
    },
    {
      "cell_type": "markdown",
      "source": [
        "Questo metodo è utile per individuare iperpiani di separazione ottimi poichè non usa tutte le istanze ma solo quelle vicino al decision boundary cercando di massimizzare la distanza tra questi punti e l'iperpiano."
      ],
      "metadata": {
        "id": "5De_JuOWfRMh"
      }
    },
    {
      "cell_type": "code",
      "source": [
        "from sklearn.svm import SVC\n",
        "StratifiedKFold(3,shuffle=True, random_state=42)\n",
        "svc = SVC()\n",
        "grid2 = {\n",
        "    'gamma' : [1, 5],\n",
        "     \"C\": [ 0.01,0.1,1,5],\n",
        "     'kernel' : ['rbf', 'poly']\n",
        "}\n",
        "gs_svm = GridSearchCV(svc,grid2,cv=skf,return_train_score=True)"
      ],
      "metadata": {
        "id": "6QpXf3N0kLVF"
      },
      "execution_count": 62,
      "outputs": []
    },
    {
      "cell_type": "code",
      "source": [
        "gs_svm.fit(Xsm_train,ysm_train)"
      ],
      "metadata": {
        "id": "k11A_Kkgl7sO",
        "colab": {
          "base_uri": "https://localhost:8080/"
        },
        "outputId": "65bd4382-c847-4b55-b802-d3dd38e12073"
      },
      "execution_count": 63,
      "outputs": [
        {
          "output_type": "execute_result",
          "data": {
            "text/plain": [
              "GridSearchCV(cv=StratifiedKFold(n_splits=3, random_state=42, shuffle=True),\n",
              "             estimator=SVC(),\n",
              "             param_grid={'C': [0.01, 0.1, 1, 5], 'gamma': [1, 5],\n",
              "                         'kernel': ['rbf', 'poly']},\n",
              "             return_train_score=True)"
            ]
          },
          "metadata": {},
          "execution_count": 63
        }
      ]
    },
    {
      "cell_type": "code",
      "source": [
        "DataFrame(gs_svm.cv_results_).sort_values(\"rank_test_score\").head(3)"
      ],
      "metadata": {
        "id": "zvyGv189mAGa",
        "colab": {
          "base_uri": "https://localhost:8080/",
          "height": 416
        },
        "outputId": "d120a8ab-bda8-471a-fc76-93e0ba35a600"
      },
      "execution_count": 64,
      "outputs": [
        {
          "output_type": "execute_result",
          "data": {
            "text/plain": [
              "    mean_fit_time  std_fit_time  mean_score_time  std_score_time param_C  \\\n",
              "15       0.459188      0.044547         0.015616        0.000514       5   \n",
              "14       0.059043      0.000777         0.036837        0.000716       5   \n",
              "11       0.151740      0.009934         0.016951        0.000426       1   \n",
              "\n",
              "   param_gamma param_kernel                                  params  \\\n",
              "15           5         poly  {'C': 5, 'gamma': 5, 'kernel': 'poly'}   \n",
              "14           5          rbf   {'C': 5, 'gamma': 5, 'kernel': 'rbf'}   \n",
              "11           5         poly  {'C': 1, 'gamma': 5, 'kernel': 'poly'}   \n",
              "\n",
              "    split0_test_score  split1_test_score  split2_test_score  mean_test_score  \\\n",
              "15           0.787267           0.782609           0.827640         0.799172   \n",
              "14           0.784161           0.757764           0.824534         0.788820   \n",
              "11           0.765528           0.759317           0.793478         0.772774   \n",
              "\n",
              "    std_test_score  rank_test_score  split0_train_score  split1_train_score  \\\n",
              "15        0.020219                1            0.902950            0.914596   \n",
              "14        0.027457                2            0.875000            0.878882   \n",
              "11        0.014858                3            0.843168            0.867236   \n",
              "\n",
              "    split2_train_score  mean_train_score  std_train_score  \n",
              "15            0.899845          0.905797         0.006350  \n",
              "14            0.876553          0.876812         0.001595  \n",
              "11            0.847050          0.852484         0.010551  "
            ],
            "text/html": [
              "\n",
              "  <div id=\"df-50033100-de5c-4f58-a65e-f601174792a9\">\n",
              "    <div class=\"colab-df-container\">\n",
              "      <div>\n",
              "<style scoped>\n",
              "    .dataframe tbody tr th:only-of-type {\n",
              "        vertical-align: middle;\n",
              "    }\n",
              "\n",
              "    .dataframe tbody tr th {\n",
              "        vertical-align: top;\n",
              "    }\n",
              "\n",
              "    .dataframe thead th {\n",
              "        text-align: right;\n",
              "    }\n",
              "</style>\n",
              "<table border=\"1\" class=\"dataframe\">\n",
              "  <thead>\n",
              "    <tr style=\"text-align: right;\">\n",
              "      <th></th>\n",
              "      <th>mean_fit_time</th>\n",
              "      <th>std_fit_time</th>\n",
              "      <th>mean_score_time</th>\n",
              "      <th>std_score_time</th>\n",
              "      <th>param_C</th>\n",
              "      <th>param_gamma</th>\n",
              "      <th>param_kernel</th>\n",
              "      <th>params</th>\n",
              "      <th>split0_test_score</th>\n",
              "      <th>split1_test_score</th>\n",
              "      <th>split2_test_score</th>\n",
              "      <th>mean_test_score</th>\n",
              "      <th>std_test_score</th>\n",
              "      <th>rank_test_score</th>\n",
              "      <th>split0_train_score</th>\n",
              "      <th>split1_train_score</th>\n",
              "      <th>split2_train_score</th>\n",
              "      <th>mean_train_score</th>\n",
              "      <th>std_train_score</th>\n",
              "    </tr>\n",
              "  </thead>\n",
              "  <tbody>\n",
              "    <tr>\n",
              "      <th>15</th>\n",
              "      <td>0.459188</td>\n",
              "      <td>0.044547</td>\n",
              "      <td>0.015616</td>\n",
              "      <td>0.000514</td>\n",
              "      <td>5</td>\n",
              "      <td>5</td>\n",
              "      <td>poly</td>\n",
              "      <td>{'C': 5, 'gamma': 5, 'kernel': 'poly'}</td>\n",
              "      <td>0.787267</td>\n",
              "      <td>0.782609</td>\n",
              "      <td>0.827640</td>\n",
              "      <td>0.799172</td>\n",
              "      <td>0.020219</td>\n",
              "      <td>1</td>\n",
              "      <td>0.902950</td>\n",
              "      <td>0.914596</td>\n",
              "      <td>0.899845</td>\n",
              "      <td>0.905797</td>\n",
              "      <td>0.006350</td>\n",
              "    </tr>\n",
              "    <tr>\n",
              "      <th>14</th>\n",
              "      <td>0.059043</td>\n",
              "      <td>0.000777</td>\n",
              "      <td>0.036837</td>\n",
              "      <td>0.000716</td>\n",
              "      <td>5</td>\n",
              "      <td>5</td>\n",
              "      <td>rbf</td>\n",
              "      <td>{'C': 5, 'gamma': 5, 'kernel': 'rbf'}</td>\n",
              "      <td>0.784161</td>\n",
              "      <td>0.757764</td>\n",
              "      <td>0.824534</td>\n",
              "      <td>0.788820</td>\n",
              "      <td>0.027457</td>\n",
              "      <td>2</td>\n",
              "      <td>0.875000</td>\n",
              "      <td>0.878882</td>\n",
              "      <td>0.876553</td>\n",
              "      <td>0.876812</td>\n",
              "      <td>0.001595</td>\n",
              "    </tr>\n",
              "    <tr>\n",
              "      <th>11</th>\n",
              "      <td>0.151740</td>\n",
              "      <td>0.009934</td>\n",
              "      <td>0.016951</td>\n",
              "      <td>0.000426</td>\n",
              "      <td>1</td>\n",
              "      <td>5</td>\n",
              "      <td>poly</td>\n",
              "      <td>{'C': 1, 'gamma': 5, 'kernel': 'poly'}</td>\n",
              "      <td>0.765528</td>\n",
              "      <td>0.759317</td>\n",
              "      <td>0.793478</td>\n",
              "      <td>0.772774</td>\n",
              "      <td>0.014858</td>\n",
              "      <td>3</td>\n",
              "      <td>0.843168</td>\n",
              "      <td>0.867236</td>\n",
              "      <td>0.847050</td>\n",
              "      <td>0.852484</td>\n",
              "      <td>0.010551</td>\n",
              "    </tr>\n",
              "  </tbody>\n",
              "</table>\n",
              "</div>\n",
              "      <button class=\"colab-df-convert\" onclick=\"convertToInteractive('df-50033100-de5c-4f58-a65e-f601174792a9')\"\n",
              "              title=\"Convert this dataframe to an interactive table.\"\n",
              "              style=\"display:none;\">\n",
              "        \n",
              "  <svg xmlns=\"http://www.w3.org/2000/svg\" height=\"24px\"viewBox=\"0 0 24 24\"\n",
              "       width=\"24px\">\n",
              "    <path d=\"M0 0h24v24H0V0z\" fill=\"none\"/>\n",
              "    <path d=\"M18.56 5.44l.94 2.06.94-2.06 2.06-.94-2.06-.94-.94-2.06-.94 2.06-2.06.94zm-11 1L8.5 8.5l.94-2.06 2.06-.94-2.06-.94L8.5 2.5l-.94 2.06-2.06.94zm10 10l.94 2.06.94-2.06 2.06-.94-2.06-.94-.94-2.06-.94 2.06-2.06.94z\"/><path d=\"M17.41 7.96l-1.37-1.37c-.4-.4-.92-.59-1.43-.59-.52 0-1.04.2-1.43.59L10.3 9.45l-7.72 7.72c-.78.78-.78 2.05 0 2.83L4 21.41c.39.39.9.59 1.41.59.51 0 1.02-.2 1.41-.59l7.78-7.78 2.81-2.81c.8-.78.8-2.07 0-2.86zM5.41 20L4 18.59l7.72-7.72 1.47 1.35L5.41 20z\"/>\n",
              "  </svg>\n",
              "      </button>\n",
              "      \n",
              "  <style>\n",
              "    .colab-df-container {\n",
              "      display:flex;\n",
              "      flex-wrap:wrap;\n",
              "      gap: 12px;\n",
              "    }\n",
              "\n",
              "    .colab-df-convert {\n",
              "      background-color: #E8F0FE;\n",
              "      border: none;\n",
              "      border-radius: 50%;\n",
              "      cursor: pointer;\n",
              "      display: none;\n",
              "      fill: #1967D2;\n",
              "      height: 32px;\n",
              "      padding: 0 0 0 0;\n",
              "      width: 32px;\n",
              "    }\n",
              "\n",
              "    .colab-df-convert:hover {\n",
              "      background-color: #E2EBFA;\n",
              "      box-shadow: 0px 1px 2px rgba(60, 64, 67, 0.3), 0px 1px 3px 1px rgba(60, 64, 67, 0.15);\n",
              "      fill: #174EA6;\n",
              "    }\n",
              "\n",
              "    [theme=dark] .colab-df-convert {\n",
              "      background-color: #3B4455;\n",
              "      fill: #D2E3FC;\n",
              "    }\n",
              "\n",
              "    [theme=dark] .colab-df-convert:hover {\n",
              "      background-color: #434B5C;\n",
              "      box-shadow: 0px 1px 3px 1px rgba(0, 0, 0, 0.15);\n",
              "      filter: drop-shadow(0px 1px 2px rgba(0, 0, 0, 0.3));\n",
              "      fill: #FFFFFF;\n",
              "    }\n",
              "  </style>\n",
              "\n",
              "      <script>\n",
              "        const buttonEl =\n",
              "          document.querySelector('#df-50033100-de5c-4f58-a65e-f601174792a9 button.colab-df-convert');\n",
              "        buttonEl.style.display =\n",
              "          google.colab.kernel.accessAllowed ? 'block' : 'none';\n",
              "\n",
              "        async function convertToInteractive(key) {\n",
              "          const element = document.querySelector('#df-50033100-de5c-4f58-a65e-f601174792a9');\n",
              "          const dataTable =\n",
              "            await google.colab.kernel.invokeFunction('convertToInteractive',\n",
              "                                                     [key], {});\n",
              "          if (!dataTable) return;\n",
              "\n",
              "          const docLinkHtml = 'Like what you see? Visit the ' +\n",
              "            '<a target=\"_blank\" href=https://colab.research.google.com/notebooks/data_table.ipynb>data table notebook</a>'\n",
              "            + ' to learn more about interactive tables.';\n",
              "          element.innerHTML = '';\n",
              "          dataTable['output_type'] = 'display_data';\n",
              "          await google.colab.output.renderOutput(dataTable, element);\n",
              "          const docLink = document.createElement('div');\n",
              "          docLink.innerHTML = docLinkHtml;\n",
              "          element.appendChild(docLink);\n",
              "        }\n",
              "      </script>\n",
              "    </div>\n",
              "  </div>\n",
              "  "
            ]
          },
          "metadata": {},
          "execution_count": 64
        }
      ]
    },
    {
      "cell_type": "markdown",
      "source": [
        "L'accuratezza del modello è alta:"
      ],
      "metadata": {
        "id": "HK7HulRukdP6"
      }
    },
    {
      "cell_type": "code",
      "source": [
        "calculate_precision_recall_f1(gs_svm,Xsm_val,ysm_val)"
      ],
      "metadata": {
        "id": "epoqbRMNO1Dl",
        "outputId": "a8c52747-9d23-495f-dc99-994c88827da7",
        "colab": {
          "base_uri": "https://localhost:8080/"
        }
      },
      "execution_count": 65,
      "outputs": [
        {
          "output_type": "execute_result",
          "data": {
            "text/plain": [
              "{'f1-score': 0.8063840839574976,\n",
              " 'precision': 0.8039947648920395,\n",
              " 'recall': 0.8136645962732919}"
            ]
          },
          "metadata": {},
          "execution_count": 65
        }
      ]
    },
    {
      "cell_type": "markdown",
      "source": [
        "# KNN"
      ],
      "metadata": {
        "id": "bzBn7_UznM9w"
      }
    },
    {
      "cell_type": "code",
      "source": [
        "from sklearn.neighbors import KNeighborsClassifier\n",
        "knn = KNeighborsClassifier(n_neighbors = 5)\n",
        "knngrid = {\n",
        "    \"n_neighbors\" : np.arange(3,30)\n",
        "}\n",
        "gsknn = GridSearchCV(knn,param_grid=knngrid,cv=skf,return_train_score=True)\n",
        "gsknn.fit(Xsm_train,ysm_train)"
      ],
      "metadata": {
        "id": "gacbZKHwnQm2",
        "colab": {
          "base_uri": "https://localhost:8080/"
        },
        "outputId": "6abc1d3a-dbe7-43c6-9eb4-b944dc94e5f8"
      },
      "execution_count": 66,
      "outputs": [
        {
          "output_type": "execute_result",
          "data": {
            "text/plain": [
              "GridSearchCV(cv=StratifiedKFold(n_splits=3, random_state=42, shuffle=True),\n",
              "             estimator=KNeighborsClassifier(),\n",
              "             param_grid={'n_neighbors': array([ 3,  4,  5,  6,  7,  8,  9, 10, 11, 12, 13, 14, 15, 16, 17, 18, 19,\n",
              "       20, 21, 22, 23, 24, 25, 26, 27, 28, 29])},\n",
              "             return_train_score=True)"
            ]
          },
          "metadata": {},
          "execution_count": 66
        }
      ]
    },
    {
      "cell_type": "code",
      "source": [
        "calculate_precision_recall_f1(gsknn,Xsm_val,ysm_val)"
      ],
      "metadata": {
        "id": "kC7rTPJYO8Jy",
        "outputId": "6690cf12-5d5b-4ff2-d491-1bb028f86994",
        "colab": {
          "base_uri": "https://localhost:8080/"
        }
      },
      "execution_count": 67,
      "outputs": [
        {
          "output_type": "execute_result",
          "data": {
            "text/plain": [
              "{'f1-score': 0.7763836341145368,\n",
              " 'precision': 0.7728544345837057,\n",
              " 'recall': 0.7919254658385093}"
            ]
          },
          "metadata": {},
          "execution_count": 67
        }
      ]
    },
    {
      "cell_type": "markdown",
      "source": [
        "# Perceptron"
      ],
      "metadata": {
        "id": "I046UPE5x7EZ"
      }
    },
    {
      "cell_type": "markdown",
      "source": [
        "Ora utilizziamo l'algoritmo perceptron che usa al suo interno due parametri **w** e **b**. \n",
        "I due parametri sono inizialmente casuali, poi ogni volta che c'è un istanza mal classificata vengono modificati i parametri proporzionalmente al learning rate."
      ],
      "metadata": {
        "id": "NNTts_KUKoGZ"
      }
    },
    {
      "cell_type": "code",
      "source": [
        "from scipy.sparse.construct import random\n",
        "from sklearn.linear_model import Perceptron\n",
        "perc= Perceptron()\n",
        "gridPerc = {\n",
        "    \"penalty\" : [\"l1\",\"l2\",None],\n",
        "    \"alpha\" : np.logspace(-5,-3,3)\n",
        "}\n",
        "gs_p = GridSearchCV(perc,param_grid=gridPerc,cv=skf)\n",
        "gs_p.fit(Xsm_train,ysm_train)\n"
      ],
      "metadata": {
        "id": "q-rBNxvqx6k_",
        "colab": {
          "base_uri": "https://localhost:8080/"
        },
        "outputId": "253b5c6c-7b9f-4a80-dcfe-cc8e427765b8"
      },
      "execution_count": 68,
      "outputs": [
        {
          "output_type": "execute_result",
          "data": {
            "text/plain": [
              "GridSearchCV(cv=StratifiedKFold(n_splits=3, random_state=42, shuffle=True),\n",
              "             estimator=Perceptron(),\n",
              "             param_grid={'alpha': array([1.e-05, 1.e-04, 1.e-03]),\n",
              "                         'penalty': ['l1', 'l2', None]})"
            ]
          },
          "metadata": {},
          "execution_count": 68
        }
      ]
    },
    {
      "cell_type": "markdown",
      "source": [
        "dopo aver addestrato il modello nell'attributo risiede la matrice degli iperpiani con i valori dei pesi **w**:"
      ],
      "metadata": {
        "id": "IMjY8p72MLvb"
      }
    },
    {
      "cell_type": "code",
      "source": [
        "gs_p.best_estimator_.coef_"
      ],
      "metadata": {
        "colab": {
          "base_uri": "https://localhost:8080/"
        },
        "id": "aIxEDV_2Lnhz",
        "outputId": "8c142d0d-4701-43e9-abd4-d301d5c8e9af"
      },
      "execution_count": 69,
      "outputs": [
        {
          "output_type": "execute_result",
          "data": {
            "text/plain": [
              "array([[-4.88100402, 10.37158159,  3.9953879 , -0.0710947 , -1.25104537,\n",
              "        -1.66372997, -7.31295911,  5.12050178,  3.03543267,  0.5470582 ,\n",
              "        -8.18366873],\n",
              "       [ 0.97204011, -0.37955754, -2.79806882,  0.68922256,  5.29170538,\n",
              "        -0.02881025,  0.14181596, -1.33946463,  1.35670313, -0.424293  ,\n",
              "        -0.3882842 ],\n",
              "       [-1.48192323, -3.20570558, -1.92192568, -0.0526333 ,  1.47690635,\n",
              "         0.5873597 ,  4.565514  ,  0.94264789, -1.92353128, -2.68186027,\n",
              "        -2.40460791],\n",
              "       [ 1.35534885, -4.72096764, -2.70175404, -2.28414476,  1.60358957,\n",
              "         2.17153044, -0.43745648,  2.09284035,  0.42407437, -1.01254391,\n",
              "         0.26971577],\n",
              "       [ 3.42161042, -5.74272347, -1.61269339,  2.05927081, -1.83963323,\n",
              "         1.64215092,  0.88894211, -2.78886157,  0.78061788,  1.65751443,\n",
              "         1.43410939],\n",
              "       [-5.99118398,  0.7460771 ,  3.70610627, -0.27806944, -6.47898627,\n",
              "        -2.92806774, -3.45260983,  0.5535859 , -7.80841015,  3.66178201,\n",
              "         4.71234766]])"
            ]
          },
          "metadata": {},
          "execution_count": 69
        }
      ]
    },
    {
      "cell_type": "markdown",
      "source": [
        "invece nell'attributo intercept risiede il vettore con un valore di **b**  diverso per ogni iperpiano:"
      ],
      "metadata": {
        "id": "nGKFkM18NP5l"
      }
    },
    {
      "cell_type": "code",
      "source": [
        "gs_p.best_estimator_.intercept_"
      ],
      "metadata": {
        "colab": {
          "base_uri": "https://localhost:8080/"
        },
        "id": "ZA1kwJsXMKka",
        "outputId": "cd59297d-2fe9-417a-e1b2-11f74f0fbb80"
      },
      "execution_count": 70,
      "outputs": [
        {
          "output_type": "execute_result",
          "data": {
            "text/plain": [
              "array([-6., -2.,  2.,  0., -3.,  0.])"
            ]
          },
          "metadata": {},
          "execution_count": 70
        }
      ]
    },
    {
      "cell_type": "markdown",
      "source": [
        "verifichiamo anche che le classi riconosciute dal modello siano quelle che ci aspettiamo:"
      ],
      "metadata": {
        "id": "ATj6yoxHORTd"
      }
    },
    {
      "cell_type": "code",
      "source": [
        "gs_p.best_estimator_.classes_"
      ],
      "metadata": {
        "colab": {
          "base_uri": "https://localhost:8080/"
        },
        "id": "O58qNTa1Lnpi",
        "outputId": "588f6751-5978-4438-d01b-4ad7f59b98f2"
      },
      "execution_count": 71,
      "outputs": [
        {
          "output_type": "execute_result",
          "data": {
            "text/plain": [
              "array([3, 4, 5, 6, 7, 8])"
            ]
          },
          "metadata": {},
          "execution_count": 71
        }
      ]
    },
    {
      "cell_type": "markdown",
      "source": [
        "Calcolando l'accuratezza si ottiene uno score basso di poco sotto al 50%."
      ],
      "metadata": {
        "id": "LHQsPCTJTMgl"
      }
    },
    {
      "cell_type": "code",
      "source": [
        "calculate_precision_recall_f1(gs_p,Xsm_val,ysm_val)"
      ],
      "metadata": {
        "id": "b4IgW2RPPQz9",
        "outputId": "693adb26-8d64-4f4f-8130-f07e64ea7e68",
        "colab": {
          "base_uri": "https://localhost:8080/"
        }
      },
      "execution_count": 72,
      "outputs": [
        {
          "output_type": "execute_result",
          "data": {
            "text/plain": [
              "{'f1-score': 0.3622725418627914,\n",
              " 'precision': 0.46912854041643154,\n",
              " 'recall': 0.43478260869565216}"
            ]
          },
          "metadata": {},
          "execution_count": 72
        }
      ]
    },
    {
      "cell_type": "markdown",
      "source": [
        "# Reti Neurali"
      ],
      "metadata": {
        "id": "lfiJuYSjy6j6"
      }
    },
    {
      "cell_type": "code",
      "source": [
        "from tensorflow.keras.wrappers.scikit_learn import KerasClassifier\n",
        "from keras import Sequential\n",
        "from tensorflow.keras.layers import Dense\n",
        "import keras\n"
      ],
      "metadata": {
        "id": "JLAABlpczCVp"
      },
      "execution_count": 73,
      "outputs": []
    },
    {
      "cell_type": "code",
      "source": [
        "def getModel(nodes1,nodes2,nodes3):\n",
        "  model = Sequential([\n",
        "                 Dense(nodes1,activation='relu',input_dim=Xsm_train.shape[1]),\n",
        "                 Dense(nodes2,activation=\"sigmoid\"),\n",
        "                 Dense(nodes3,activation=\"softmax\"),\n",
        "  ])\n",
        "  model.compile(optimizer=\"adam\",loss=\"categorical_crossentropy\",metrics=[\"accuracy\"])\n",
        "  return model"
      ],
      "metadata": {
        "id": "1pK-mz4Q2Coq"
      },
      "execution_count": 74,
      "outputs": []
    },
    {
      "cell_type": "code",
      "source": [
        "model = KerasClassifier(build_fn=getModel)"
      ],
      "metadata": {
        "id": "V8lspeIK1aQF",
        "colab": {
          "base_uri": "https://localhost:8080/"
        },
        "outputId": "6cf77a85-16d4-4a5e-954a-ee08cf847728"
      },
      "execution_count": 75,
      "outputs": [
        {
          "output_type": "stream",
          "name": "stderr",
          "text": [
            "/usr/local/lib/python3.7/dist-packages/ipykernel_launcher.py:1: DeprecationWarning: KerasClassifier is deprecated, use Sci-Keras (https://github.com/adriangb/scikeras) instead. See https://www.adriangb.com/scikeras/stable/migration.html for help migrating.\n",
            "  \"\"\"Entry point for launching an IPython kernel.\n"
          ]
        }
      ]
    },
    {
      "cell_type": "code",
      "source": [
        "grid3 = {\n",
        "    \"nodes1\" : [100,200,300],\n",
        "    \"nodes2\" : [50,100],\n",
        "    \"nodes3\" : [6],\n",
        "    \"batch_size\" : [32],\n",
        "    \"epochs\": [100]\n",
        "}"
      ],
      "metadata": {
        "id": "u7i8Qx-X7Qxh"
      },
      "execution_count": 76,
      "outputs": []
    },
    {
      "cell_type": "code",
      "source": [
        "gsnn = GridSearchCV(model,grid3,return_train_score=True,cv=skf)"
      ],
      "metadata": {
        "id": "wh9ASeDW7Efs"
      },
      "execution_count": 77,
      "outputs": []
    },
    {
      "cell_type": "code",
      "source": [
        "gsnn.fit(Xsm_train,ysm_train)"
      ],
      "metadata": {
        "id": "qLocnADX8QYd"
      },
      "execution_count": null,
      "outputs": []
    },
    {
      "cell_type": "code",
      "source": [
        "calculate_precision_recall_f1(gsnn,Xsm_val,ysm_val)"
      ],
      "metadata": {
        "id": "xSkBRdfVPbo7",
        "outputId": "0bfe41fa-76dd-4967-c56c-b949024d04be",
        "colab": {
          "base_uri": "https://localhost:8080/"
        }
      },
      "execution_count": 80,
      "outputs": [
        {
          "output_type": "execute_result",
          "data": {
            "text/plain": [
              "{'f1-score': 0.7729514312142741,\n",
              " 'precision': 0.7743125685347922,\n",
              " 'recall': 0.777432712215321}"
            ]
          },
          "metadata": {},
          "execution_count": 80
        }
      ]
    },
    {
      "cell_type": "markdown",
      "source": [
        "# XGB"
      ],
      "metadata": {
        "id": "8qGIb68dzmsZ"
      }
    },
    {
      "cell_type": "code",
      "source": [
        "from xgboost import XGBClassifier\n",
        "xgbc = XGBClassifier(objective='multi:softprob')\n",
        "xgbgrid = {\n",
        "    \"reg_alpha\" : [0,0.01,0.1,1,10],\n",
        "    \"reg_lambda\" : [0,0.01,0.1,1,10],\n",
        "    \"max_depth\" : [6,10,15]\n",
        "}\n",
        "gsxgb = GridSearchCV(xgbc,param_grid=xgbgrid,cv=skf)\n",
        "gsxgb.fit(Xsm_train,ysm_train)"
      ],
      "metadata": {
        "id": "qZgTomHjzl8-",
        "outputId": "aca7cb91-548f-46c7-e513-968c57235a70",
        "colab": {
          "base_uri": "https://localhost:8080/"
        }
      },
      "execution_count": 96,
      "outputs": [
        {
          "output_type": "execute_result",
          "data": {
            "text/plain": [
              "GridSearchCV(cv=StratifiedKFold(n_splits=3, random_state=42, shuffle=True),\n",
              "             estimator=XGBClassifier(objective='multi:softprob'),\n",
              "             param_grid={'max_depth': [6, 10, 15],\n",
              "                         'reg_alpha': [0, 0.01, 0.1, 1, 10],\n",
              "                         'reg_lambda': [0, 0.01, 0.1, 1, 10]})"
            ]
          },
          "metadata": {},
          "execution_count": 96
        }
      ]
    },
    {
      "cell_type": "code",
      "source": [
        "calculate_precision_recall_f1(gsxgb,Xsm_val,ysm_val)"
      ],
      "metadata": {
        "id": "Ykq7U8wh2ExX",
        "outputId": "c64e6c36-f692-4212-a948-bfe9f824b34c",
        "colab": {
          "base_uri": "https://localhost:8080/"
        }
      },
      "execution_count": 93,
      "outputs": [
        {
          "output_type": "execute_result",
          "data": {
            "text/plain": [
              "{'f1-score': 0.8302412200493144,\n",
              " 'precision': 0.8277837194911284,\n",
              " 'recall': 0.8354037267080745}"
            ]
          },
          "metadata": {},
          "execution_count": 93
        }
      ]
    },
    {
      "cell_type": "markdown",
      "source": [
        "# Random Forest"
      ],
      "metadata": {
        "id": "qsaZlWrm1yAy"
      }
    },
    {
      "cell_type": "code",
      "source": [
        "from sklearn.ensemble import RandomForestClassifier\n",
        "rfc = RandomForestClassifier()\n",
        "rfc.fit(Xsm_train,ysm_train)\n",
        "calculate_precision_recall_f1(rfc,Xsm_val,ysm_val)"
      ],
      "metadata": {
        "id": "GhuL85Q71w3H",
        "outputId": "bc13ef09-e931-4b76-f2f0-0e0cb6163d33",
        "colab": {
          "base_uri": "https://localhost:8080/"
        }
      },
      "execution_count": 97,
      "outputs": [
        {
          "output_type": "execute_result",
          "data": {
            "text/plain": [
              "{'f1-score': 0.8477895044395766,\n",
              " 'precision': 0.8461386982147311,\n",
              " 'recall': 0.8519668737060041}"
            ]
          },
          "metadata": {},
          "execution_count": 97
        }
      ]
    },
    {
      "cell_type": "markdown",
      "source": [
        "# Modello Casuale di confronto"
      ],
      "metadata": {
        "id": "76CL189f96VQ"
      }
    },
    {
      "cell_type": "code",
      "source": [
        "from sklearn.dummy import DummyClassifier\n",
        "randomModel = DummyClassifier(strategy=\"uniform\",random_state=77)\n",
        "randomModel.fit(Xsm_train,ysm_train)\n",
        "calculate_precision_recall_f1(randomModel,Xsm_val,ysm_val)"
      ],
      "metadata": {
        "colab": {
          "base_uri": "https://localhost:8080/"
        },
        "id": "Bth3gYav9_7q",
        "outputId": "8c51d3dc-ba0f-4586-8f11-357e0df6286e"
      },
      "execution_count": 85,
      "outputs": [
        {
          "output_type": "execute_result",
          "data": {
            "text/plain": [
              "{'f1-score': 0.16798479341794367,\n",
              " 'precision': 0.1679497677085288,\n",
              " 'recall': 0.16873706004140787}"
            ]
          },
          "metadata": {},
          "execution_count": 85
        }
      ]
    },
    {
      "cell_type": "markdown",
      "source": [
        "#Considerazioni finali\n"
      ],
      "metadata": {
        "id": "4wpobSEVlaeI"
      }
    },
    {
      "cell_type": "markdown",
      "source": [
        "Calcoliamo la matrice di confusione dei vari modelli e osserviamo la diagonale di ogniuna per vedere quanti valori sono stati predetti nel modo giusto, mentre fuori dalla diagonale osserviamo gli errori."
      ],
      "metadata": {
        "id": "-Akgsj_0ljxD"
      }
    },
    {
      "cell_type": "code",
      "source": [
        "#PERCEPTRON\n",
        "pred = gs_p.predict(Xsm_val)\n",
        "c_perc=confusion_matrix(ysm_val, pred)\n",
        "c_perc"
      ],
      "metadata": {
        "colab": {
          "base_uri": "https://localhost:8080/"
        },
        "id": "s3T2sO4Oljfj",
        "outputId": "4a5eb5d5-7b1a-4279-8cc1-256360410ea2"
      },
      "execution_count": 116,
      "outputs": [
        {
          "output_type": "execute_result",
          "data": {
            "text/plain": [
              "array([[158,   0,   0,   0,   0,   0],\n",
              "       [ 27,   1,  38,  91,   0,   0],\n",
              "       [  8,   1,  77,  81,   1,   1],\n",
              "       [  4,   0,  16, 146,   0,   2],\n",
              "       [  0,   0,   7, 144,   0,  11],\n",
              "       [  0,   0,   0, 114,   0,  38]])"
            ]
          },
          "metadata": {},
          "execution_count": 116
        }
      ]
    },
    {
      "cell_type": "code",
      "source": [
        "#LOGISTIC REGRESSION\n",
        "pred = gs.predict(Xsm_val)\n",
        "c_log=confusion_matrix(ysm_val, pred)\n",
        "c_log"
      ],
      "metadata": {
        "id": "6RpMZ-wpc_e7",
        "outputId": "c7f41f80-37c5-4c32-c6c7-17415d6b48c8",
        "colab": {
          "base_uri": "https://localhost:8080/"
        }
      },
      "execution_count": 117,
      "outputs": [
        {
          "output_type": "execute_result",
          "data": {
            "text/plain": [
              "array([[152,   6,   0,   0,   0,   0],\n",
              "       [ 19,  84,  41,   7,   5,   1],\n",
              "       [ 14,  21, 101,  20,  10,   3],\n",
              "       [  5,  22,  46,  54,  23,  18],\n",
              "       [  1,  12,   3,  32,  72,  42],\n",
              "       [  0,   0,   0,   0,   9, 143]])"
            ]
          },
          "metadata": {},
          "execution_count": 117
        }
      ]
    },
    {
      "cell_type": "code",
      "source": [
        "#KNN\n",
        "pred = gsknn.predict(Xsm_val)\n",
        "c_knn=confusion_matrix(ysm_val, pred)\n",
        "c_knn"
      ],
      "metadata": {
        "colab": {
          "base_uri": "https://localhost:8080/"
        },
        "id": "PV_VYMoHlaBY",
        "outputId": "ba56e7be-89ef-4be7-b16b-0b0a831210de"
      },
      "execution_count": 118,
      "outputs": [
        {
          "output_type": "execute_result",
          "data": {
            "text/plain": [
              "array([[158,   0,   0,   0,   0,   0],\n",
              "       [  0, 156,   1,   0,   0,   0],\n",
              "       [ 10,  21,  84,  44,   8,   2],\n",
              "       [  7,  14,  36,  74,  28,   9],\n",
              "       [  0,   0,   5,  12, 141,   4],\n",
              "       [  0,   0,   0,   0,   0, 152]])"
            ]
          },
          "metadata": {},
          "execution_count": 118
        }
      ]
    },
    {
      "cell_type": "code",
      "source": [
        "#SVM\n",
        "pred = gs_svm.predict(Xsm_val)\n",
        "c_svm=confusion_matrix(ysm_val, pred)\n",
        "c_svm"
      ],
      "metadata": {
        "outputId": "10b8077a-a579-408c-e477-3d582a964eaa",
        "colab": {
          "base_uri": "https://localhost:8080/"
        },
        "id": "yYcLOV5LsZQf"
      },
      "execution_count": 119,
      "outputs": [
        {
          "output_type": "execute_result",
          "data": {
            "text/plain": [
              "array([[158,   0,   0,   0,   0,   0],\n",
              "       [  0, 152,   5,   0,   0,   0],\n",
              "       [  5,  22, 106,  29,   7,   0],\n",
              "       [  3,  11,  38,  89,  26,   1],\n",
              "       [  0,   1,   1,  23, 129,   8],\n",
              "       [  0,   0,   0,   0,   0, 152]])"
            ]
          },
          "metadata": {},
          "execution_count": 119
        }
      ]
    },
    {
      "cell_type": "code",
      "source": [
        "#DECISION TREE\n",
        "pred = gstree.predict(Xsm_val)\n",
        "c_tree=confusion_matrix(ysm_val, pred)\n",
        "c_tree"
      ],
      "metadata": {
        "id": "GxBkjPozsm8D",
        "outputId": "a06928c7-3f81-4f80-d184-f3f85813ec91",
        "colab": {
          "base_uri": "https://localhost:8080/"
        }
      },
      "execution_count": 120,
      "outputs": [
        {
          "output_type": "execute_result",
          "data": {
            "text/plain": [
              "array([[155,   2,   1,   0,   0,   0],\n",
              "       [  3, 128,  20,   5,   1,   0],\n",
              "       [  4,  14, 101,  45,   5,   0],\n",
              "       [  5,  12,  33,  84,  29,   5],\n",
              "       [  1,   1,   6,  21, 116,  17],\n",
              "       [  0,   0,   0,   3,   5, 144]])"
            ]
          },
          "metadata": {},
          "execution_count": 120
        }
      ]
    },
    {
      "cell_type": "code",
      "source": [
        "#XGB\n",
        "pred = gsxgb.predict(Xsm_val)\n",
        "c_xgb=confusion_matrix(ysm_val, pred)\n",
        "c_xgb"
      ],
      "metadata": {
        "id": "0wEntHMtdOWX",
        "outputId": "bb75b5a3-c6ff-4343-dc4c-0c63ef9f90e5",
        "colab": {
          "base_uri": "https://localhost:8080/"
        }
      },
      "execution_count": 121,
      "outputs": [
        {
          "output_type": "execute_result",
          "data": {
            "text/plain": [
              "array([[157,   0,   0,   1,   0,   0],\n",
              "       [  0, 150,   4,   3,   0,   0],\n",
              "       [  3,  10, 116,  33,   7,   0],\n",
              "       [  3,   4,  39,  89,  30,   3],\n",
              "       [  0,   0,   3,  15, 143,   1],\n",
              "       [  0,   0,   0,   0,   0, 152]])"
            ]
          },
          "metadata": {},
          "execution_count": 121
        }
      ]
    },
    {
      "cell_type": "code",
      "source": [
        "#RANDOM FOREST\n",
        "pred = rfc.predict(Xsm_val)\n",
        "c_rf=confusion_matrix(ysm_val, pred)\n",
        "c_rf"
      ],
      "metadata": {
        "id": "sI_rkk9wdZey",
        "outputId": "51e6964a-9eec-4cd4-e1e3-71bf3f79da7b",
        "colab": {
          "base_uri": "https://localhost:8080/"
        }
      },
      "execution_count": 122,
      "outputs": [
        {
          "output_type": "execute_result",
          "data": {
            "text/plain": [
              "array([[158,   0,   0,   0,   0,   0],\n",
              "       [  0, 147,   5,   4,   1,   0],\n",
              "       [  0,  10, 122,  33,   4,   0],\n",
              "       [  1,  11,  34,  96,  24,   2],\n",
              "       [  0,   0,   0,  11, 149,   2],\n",
              "       [  0,   0,   0,   0,   1, 151]])"
            ]
          },
          "metadata": {},
          "execution_count": 122
        }
      ]
    },
    {
      "cell_type": "code",
      "source": [
        "#NEURAL NETWORK\n",
        "pred = gsnn.predict(Xsm_val)\n",
        "c_nn=confusion_matrix(ysm_val, pred)\n",
        "c_nn"
      ],
      "metadata": {
        "id": "_2D8XNtVdjoY",
        "outputId": "a90545f6-aa45-4bac-ddd7-2bafb72ed07b",
        "colab": {
          "base_uri": "https://localhost:8080/"
        }
      },
      "execution_count": 123,
      "outputs": [
        {
          "output_type": "execute_result",
          "data": {
            "text/plain": [
              "array([[158,   0,   0,   0,   0,   0],\n",
              "       [  0, 122,  35,   0,   0,   0],\n",
              "       [  1,  17, 118,  26,   7,   0],\n",
              "       [  2,   7,  44,  78,  33,   4],\n",
              "       [  0,   2,   3,  24, 123,  10],\n",
              "       [  0,   0,   0,   0,   0, 152]])"
            ]
          },
          "metadata": {},
          "execution_count": 123
        }
      ]
    },
    {
      "cell_type": "code",
      "source": [
        "#RANDOM MODEL\n",
        "pred = randomModel.predict(Xsm_val)\n",
        "c_randomModel=confusion_matrix(ysm_val, pred)\n",
        "c_randomModel"
      ],
      "metadata": {
        "id": "Px8IanyeU0aX",
        "outputId": "72861c14-89f4-4ae0-c8b5-d98f55d1004e",
        "colab": {
          "base_uri": "https://localhost:8080/"
        }
      },
      "execution_count": 124,
      "outputs": [
        {
          "output_type": "execute_result",
          "data": {
            "text/plain": [
              "array([[25, 25, 29, 25, 31, 23],\n",
              "       [19, 28, 31, 23, 34, 22],\n",
              "       [28, 27, 34, 21, 25, 34],\n",
              "       [29, 34, 28, 19, 32, 26],\n",
              "       [27, 29, 32, 22, 28, 24],\n",
              "       [15, 21, 22, 32, 33, 29]])"
            ]
          },
          "metadata": {},
          "execution_count": 124
        }
      ]
    },
    {
      "cell_type": "markdown",
      "source": [
        "Calcoliamo ora gli score per ogni modello trovato:"
      ],
      "metadata": {
        "id": "B000SqU5vH4n"
      }
    },
    {
      "cell_type": "code",
      "source": [
        "pd.DataFrame([calculate_precision_recall_f1(gs_p,Xsm_val,ysm_val),\n",
        "              calculate_precision_recall_f1(gstree,Xsm_val,ysm_val),\n",
        "              calculate_precision_recall_f1(gs_svm,Xsm_val,ysm_val),\n",
        "              calculate_precision_recall_f1(gsknn,Xsm_val,ysm_val),\n",
        "              calculate_precision_recall_f1(randomModel,Xsm_val,ysm_val),\n",
        "              calculate_precision_recall_f1(gsxgb,Xsm_val,ysm_val),\n",
        "              calculate_precision_recall_f1(rfc,Xsm_val,ysm_val),\n",
        "              calculate_precision_recall_f1(gsnn,Xsm_val,ysm_val)],\n",
        "                 index=[\"perceptron\", \"tree\", \"svc\",\"knn\",\"random\",\"xgb\",\"randomForest\",\"nn\"]).sort_values(\"f1-score\",ascending=False)"
      ],
      "metadata": {
        "id": "LQCl_XlatW32",
        "outputId": "673cbd6c-1a59-4227-b591-4489b08b28d5",
        "colab": {
          "base_uri": "https://localhost:8080/",
          "height": 300
        }
      },
      "execution_count": 125,
      "outputs": [
        {
          "output_type": "execute_result",
          "data": {
            "text/plain": [
              "              precision    recall  f1-score\n",
              "randomForest   0.846139  0.851967  0.847790\n",
              "xgb            0.827784  0.835404  0.830241\n",
              "svc            0.803995  0.813665  0.806384\n",
              "knn            0.772854  0.791925  0.776384\n",
              "nn             0.774313  0.777433  0.772951\n",
              "tree           0.746818  0.753623  0.749606\n",
              "perceptron     0.469129  0.434783  0.362273\n",
              "random         0.167950  0.168737  0.167985"
            ],
            "text/html": [
              "\n",
              "  <div id=\"df-1abd6431-bb50-416d-be3c-87896d61ae20\">\n",
              "    <div class=\"colab-df-container\">\n",
              "      <div>\n",
              "<style scoped>\n",
              "    .dataframe tbody tr th:only-of-type {\n",
              "        vertical-align: middle;\n",
              "    }\n",
              "\n",
              "    .dataframe tbody tr th {\n",
              "        vertical-align: top;\n",
              "    }\n",
              "\n",
              "    .dataframe thead th {\n",
              "        text-align: right;\n",
              "    }\n",
              "</style>\n",
              "<table border=\"1\" class=\"dataframe\">\n",
              "  <thead>\n",
              "    <tr style=\"text-align: right;\">\n",
              "      <th></th>\n",
              "      <th>precision</th>\n",
              "      <th>recall</th>\n",
              "      <th>f1-score</th>\n",
              "    </tr>\n",
              "  </thead>\n",
              "  <tbody>\n",
              "    <tr>\n",
              "      <th>randomForest</th>\n",
              "      <td>0.846139</td>\n",
              "      <td>0.851967</td>\n",
              "      <td>0.847790</td>\n",
              "    </tr>\n",
              "    <tr>\n",
              "      <th>xgb</th>\n",
              "      <td>0.827784</td>\n",
              "      <td>0.835404</td>\n",
              "      <td>0.830241</td>\n",
              "    </tr>\n",
              "    <tr>\n",
              "      <th>svc</th>\n",
              "      <td>0.803995</td>\n",
              "      <td>0.813665</td>\n",
              "      <td>0.806384</td>\n",
              "    </tr>\n",
              "    <tr>\n",
              "      <th>knn</th>\n",
              "      <td>0.772854</td>\n",
              "      <td>0.791925</td>\n",
              "      <td>0.776384</td>\n",
              "    </tr>\n",
              "    <tr>\n",
              "      <th>nn</th>\n",
              "      <td>0.774313</td>\n",
              "      <td>0.777433</td>\n",
              "      <td>0.772951</td>\n",
              "    </tr>\n",
              "    <tr>\n",
              "      <th>tree</th>\n",
              "      <td>0.746818</td>\n",
              "      <td>0.753623</td>\n",
              "      <td>0.749606</td>\n",
              "    </tr>\n",
              "    <tr>\n",
              "      <th>perceptron</th>\n",
              "      <td>0.469129</td>\n",
              "      <td>0.434783</td>\n",
              "      <td>0.362273</td>\n",
              "    </tr>\n",
              "    <tr>\n",
              "      <th>random</th>\n",
              "      <td>0.167950</td>\n",
              "      <td>0.168737</td>\n",
              "      <td>0.167985</td>\n",
              "    </tr>\n",
              "  </tbody>\n",
              "</table>\n",
              "</div>\n",
              "      <button class=\"colab-df-convert\" onclick=\"convertToInteractive('df-1abd6431-bb50-416d-be3c-87896d61ae20')\"\n",
              "              title=\"Convert this dataframe to an interactive table.\"\n",
              "              style=\"display:none;\">\n",
              "        \n",
              "  <svg xmlns=\"http://www.w3.org/2000/svg\" height=\"24px\"viewBox=\"0 0 24 24\"\n",
              "       width=\"24px\">\n",
              "    <path d=\"M0 0h24v24H0V0z\" fill=\"none\"/>\n",
              "    <path d=\"M18.56 5.44l.94 2.06.94-2.06 2.06-.94-2.06-.94-.94-2.06-.94 2.06-2.06.94zm-11 1L8.5 8.5l.94-2.06 2.06-.94-2.06-.94L8.5 2.5l-.94 2.06-2.06.94zm10 10l.94 2.06.94-2.06 2.06-.94-2.06-.94-.94-2.06-.94 2.06-2.06.94z\"/><path d=\"M17.41 7.96l-1.37-1.37c-.4-.4-.92-.59-1.43-.59-.52 0-1.04.2-1.43.59L10.3 9.45l-7.72 7.72c-.78.78-.78 2.05 0 2.83L4 21.41c.39.39.9.59 1.41.59.51 0 1.02-.2 1.41-.59l7.78-7.78 2.81-2.81c.8-.78.8-2.07 0-2.86zM5.41 20L4 18.59l7.72-7.72 1.47 1.35L5.41 20z\"/>\n",
              "  </svg>\n",
              "      </button>\n",
              "      \n",
              "  <style>\n",
              "    .colab-df-container {\n",
              "      display:flex;\n",
              "      flex-wrap:wrap;\n",
              "      gap: 12px;\n",
              "    }\n",
              "\n",
              "    .colab-df-convert {\n",
              "      background-color: #E8F0FE;\n",
              "      border: none;\n",
              "      border-radius: 50%;\n",
              "      cursor: pointer;\n",
              "      display: none;\n",
              "      fill: #1967D2;\n",
              "      height: 32px;\n",
              "      padding: 0 0 0 0;\n",
              "      width: 32px;\n",
              "    }\n",
              "\n",
              "    .colab-df-convert:hover {\n",
              "      background-color: #E2EBFA;\n",
              "      box-shadow: 0px 1px 2px rgba(60, 64, 67, 0.3), 0px 1px 3px 1px rgba(60, 64, 67, 0.15);\n",
              "      fill: #174EA6;\n",
              "    }\n",
              "\n",
              "    [theme=dark] .colab-df-convert {\n",
              "      background-color: #3B4455;\n",
              "      fill: #D2E3FC;\n",
              "    }\n",
              "\n",
              "    [theme=dark] .colab-df-convert:hover {\n",
              "      background-color: #434B5C;\n",
              "      box-shadow: 0px 1px 3px 1px rgba(0, 0, 0, 0.15);\n",
              "      filter: drop-shadow(0px 1px 2px rgba(0, 0, 0, 0.3));\n",
              "      fill: #FFFFFF;\n",
              "    }\n",
              "  </style>\n",
              "\n",
              "      <script>\n",
              "        const buttonEl =\n",
              "          document.querySelector('#df-1abd6431-bb50-416d-be3c-87896d61ae20 button.colab-df-convert');\n",
              "        buttonEl.style.display =\n",
              "          google.colab.kernel.accessAllowed ? 'block' : 'none';\n",
              "\n",
              "        async function convertToInteractive(key) {\n",
              "          const element = document.querySelector('#df-1abd6431-bb50-416d-be3c-87896d61ae20');\n",
              "          const dataTable =\n",
              "            await google.colab.kernel.invokeFunction('convertToInteractive',\n",
              "                                                     [key], {});\n",
              "          if (!dataTable) return;\n",
              "\n",
              "          const docLinkHtml = 'Like what you see? Visit the ' +\n",
              "            '<a target=\"_blank\" href=https://colab.research.google.com/notebooks/data_table.ipynb>data table notebook</a>'\n",
              "            + ' to learn more about interactive tables.';\n",
              "          element.innerHTML = '';\n",
              "          dataTable['output_type'] = 'display_data';\n",
              "          await google.colab.output.renderOutput(dataTable, element);\n",
              "          const docLink = document.createElement('div');\n",
              "          docLink.innerHTML = docLinkHtml;\n",
              "          element.appendChild(docLink);\n",
              "        }\n",
              "      </script>\n",
              "    </div>\n",
              "  </div>\n",
              "  "
            ]
          },
          "metadata": {},
          "execution_count": 125
        }
      ]
    },
    {
      "cell_type": "markdown",
      "source": [
        "Possiamo notare che i migliori modelli trovati, basandoci su f1 score, sono Random Forest, XGB classifier e Support Vector Machine."
      ],
      "metadata": {
        "id": "_VGhzR6HfhBe"
      }
    },
    {
      "cell_type": "markdown",
      "source": [
        "Calcoliamo gli intervalli di confidenza, cioè l'intervallo dei valori entro i quali si  stima che cada il risulatto con probabilità prescelta (in questo caso del 95%):"
      ],
      "metadata": {
        "id": "ZG1HmHhDvQlE"
      }
    },
    {
      "cell_type": "code",
      "source": [
        "def confidence(acc, N, Z):\n",
        "    den = (2*(N+Z**2))\n",
        "    var = (Z*np.sqrt(Z**2+4*N*acc-4*N*acc**2)) / den\n",
        "    a = (2*N*acc+Z**2) / den\n",
        "    inf = a - var\n",
        "    sup = a + var\n",
        "    return (inf, sup)\n",
        "def calculate_accuracy(conf_matrix):\n",
        "    return np.diag(conf_matrix).sum() / conf_matrix.sum().sum()"
      ],
      "metadata": {
        "id": "zTyP3yn72pyP"
      },
      "execution_count": 126,
      "outputs": []
    },
    {
      "cell_type": "code",
      "source": [
        "pd.DataFrame([confidence(calculate_accuracy(c_perc), len(Xsm_val), 1.96),\n",
        "              confidence(calculate_accuracy(c_knn), len(Xsm_val), 1.96),\n",
        "              confidence(calculate_accuracy(c_svm), len(Xsm_val), 1.96),\n",
        "              confidence(calculate_accuracy(c_tree), len(Xsm_val), 1.96),\n",
        "              confidence(calculate_accuracy(c_randomModel),len(Xsm_val), 1.96),\n",
        "              confidence(calculate_accuracy(c_xgb),len(Xsm_val), 1.96),\n",
        "              confidence(calculate_accuracy(c_rf),len(Xsm_val), 1.96),\n",
        "              confidence(calculate_accuracy(c_nn),len(Xsm_val), 1.96)],\n",
        "              index=[\"perceptron\", \"knn\", \"svm\",\"tree\",\"random\",\"xgb\",\"randomForest\",\"nn\"], columns=[\"inf\", \"sup\"])"
      ],
      "metadata": {
        "id": "6SQ7hUgXvQXs",
        "outputId": "07b1d7cf-87c9-4283-a066-43ec428cb7ee",
        "colab": {
          "base_uri": "https://localhost:8080/",
          "height": 300
        }
      },
      "execution_count": 127,
      "outputs": [
        {
          "output_type": "execute_result",
          "data": {
            "text/plain": [
              "                   inf       sup\n",
              "perceptron    0.403840  0.466242\n",
              "knn           0.765195  0.816343\n",
              "svm           0.787884  0.836960\n",
              "tree          0.725480  0.779757\n",
              "random        0.146442  0.193657\n",
              "xgb           0.810699  0.857451\n",
              "randomForest  0.828178  0.872967\n",
              "nn            0.750131  0.802537"
            ],
            "text/html": [
              "\n",
              "  <div id=\"df-b5e50753-6351-4084-8968-ada262d2a8e3\">\n",
              "    <div class=\"colab-df-container\">\n",
              "      <div>\n",
              "<style scoped>\n",
              "    .dataframe tbody tr th:only-of-type {\n",
              "        vertical-align: middle;\n",
              "    }\n",
              "\n",
              "    .dataframe tbody tr th {\n",
              "        vertical-align: top;\n",
              "    }\n",
              "\n",
              "    .dataframe thead th {\n",
              "        text-align: right;\n",
              "    }\n",
              "</style>\n",
              "<table border=\"1\" class=\"dataframe\">\n",
              "  <thead>\n",
              "    <tr style=\"text-align: right;\">\n",
              "      <th></th>\n",
              "      <th>inf</th>\n",
              "      <th>sup</th>\n",
              "    </tr>\n",
              "  </thead>\n",
              "  <tbody>\n",
              "    <tr>\n",
              "      <th>perceptron</th>\n",
              "      <td>0.403840</td>\n",
              "      <td>0.466242</td>\n",
              "    </tr>\n",
              "    <tr>\n",
              "      <th>knn</th>\n",
              "      <td>0.765195</td>\n",
              "      <td>0.816343</td>\n",
              "    </tr>\n",
              "    <tr>\n",
              "      <th>svm</th>\n",
              "      <td>0.787884</td>\n",
              "      <td>0.836960</td>\n",
              "    </tr>\n",
              "    <tr>\n",
              "      <th>tree</th>\n",
              "      <td>0.725480</td>\n",
              "      <td>0.779757</td>\n",
              "    </tr>\n",
              "    <tr>\n",
              "      <th>random</th>\n",
              "      <td>0.146442</td>\n",
              "      <td>0.193657</td>\n",
              "    </tr>\n",
              "    <tr>\n",
              "      <th>xgb</th>\n",
              "      <td>0.810699</td>\n",
              "      <td>0.857451</td>\n",
              "    </tr>\n",
              "    <tr>\n",
              "      <th>randomForest</th>\n",
              "      <td>0.828178</td>\n",
              "      <td>0.872967</td>\n",
              "    </tr>\n",
              "    <tr>\n",
              "      <th>nn</th>\n",
              "      <td>0.750131</td>\n",
              "      <td>0.802537</td>\n",
              "    </tr>\n",
              "  </tbody>\n",
              "</table>\n",
              "</div>\n",
              "      <button class=\"colab-df-convert\" onclick=\"convertToInteractive('df-b5e50753-6351-4084-8968-ada262d2a8e3')\"\n",
              "              title=\"Convert this dataframe to an interactive table.\"\n",
              "              style=\"display:none;\">\n",
              "        \n",
              "  <svg xmlns=\"http://www.w3.org/2000/svg\" height=\"24px\"viewBox=\"0 0 24 24\"\n",
              "       width=\"24px\">\n",
              "    <path d=\"M0 0h24v24H0V0z\" fill=\"none\"/>\n",
              "    <path d=\"M18.56 5.44l.94 2.06.94-2.06 2.06-.94-2.06-.94-.94-2.06-.94 2.06-2.06.94zm-11 1L8.5 8.5l.94-2.06 2.06-.94-2.06-.94L8.5 2.5l-.94 2.06-2.06.94zm10 10l.94 2.06.94-2.06 2.06-.94-2.06-.94-.94-2.06-.94 2.06-2.06.94z\"/><path d=\"M17.41 7.96l-1.37-1.37c-.4-.4-.92-.59-1.43-.59-.52 0-1.04.2-1.43.59L10.3 9.45l-7.72 7.72c-.78.78-.78 2.05 0 2.83L4 21.41c.39.39.9.59 1.41.59.51 0 1.02-.2 1.41-.59l7.78-7.78 2.81-2.81c.8-.78.8-2.07 0-2.86zM5.41 20L4 18.59l7.72-7.72 1.47 1.35L5.41 20z\"/>\n",
              "  </svg>\n",
              "      </button>\n",
              "      \n",
              "  <style>\n",
              "    .colab-df-container {\n",
              "      display:flex;\n",
              "      flex-wrap:wrap;\n",
              "      gap: 12px;\n",
              "    }\n",
              "\n",
              "    .colab-df-convert {\n",
              "      background-color: #E8F0FE;\n",
              "      border: none;\n",
              "      border-radius: 50%;\n",
              "      cursor: pointer;\n",
              "      display: none;\n",
              "      fill: #1967D2;\n",
              "      height: 32px;\n",
              "      padding: 0 0 0 0;\n",
              "      width: 32px;\n",
              "    }\n",
              "\n",
              "    .colab-df-convert:hover {\n",
              "      background-color: #E2EBFA;\n",
              "      box-shadow: 0px 1px 2px rgba(60, 64, 67, 0.3), 0px 1px 3px 1px rgba(60, 64, 67, 0.15);\n",
              "      fill: #174EA6;\n",
              "    }\n",
              "\n",
              "    [theme=dark] .colab-df-convert {\n",
              "      background-color: #3B4455;\n",
              "      fill: #D2E3FC;\n",
              "    }\n",
              "\n",
              "    [theme=dark] .colab-df-convert:hover {\n",
              "      background-color: #434B5C;\n",
              "      box-shadow: 0px 1px 3px 1px rgba(0, 0, 0, 0.15);\n",
              "      filter: drop-shadow(0px 1px 2px rgba(0, 0, 0, 0.3));\n",
              "      fill: #FFFFFF;\n",
              "    }\n",
              "  </style>\n",
              "\n",
              "      <script>\n",
              "        const buttonEl =\n",
              "          document.querySelector('#df-b5e50753-6351-4084-8968-ada262d2a8e3 button.colab-df-convert');\n",
              "        buttonEl.style.display =\n",
              "          google.colab.kernel.accessAllowed ? 'block' : 'none';\n",
              "\n",
              "        async function convertToInteractive(key) {\n",
              "          const element = document.querySelector('#df-b5e50753-6351-4084-8968-ada262d2a8e3');\n",
              "          const dataTable =\n",
              "            await google.colab.kernel.invokeFunction('convertToInteractive',\n",
              "                                                     [key], {});\n",
              "          if (!dataTable) return;\n",
              "\n",
              "          const docLinkHtml = 'Like what you see? Visit the ' +\n",
              "            '<a target=\"_blank\" href=https://colab.research.google.com/notebooks/data_table.ipynb>data table notebook</a>'\n",
              "            + ' to learn more about interactive tables.';\n",
              "          element.innerHTML = '';\n",
              "          dataTable['output_type'] = 'display_data';\n",
              "          await google.colab.output.renderOutput(dataTable, element);\n",
              "          const docLink = document.createElement('div');\n",
              "          docLink.innerHTML = docLinkHtml;\n",
              "          element.appendChild(docLink);\n",
              "        }\n",
              "      </script>\n",
              "    </div>\n",
              "  </div>\n",
              "  "
            ]
          },
          "metadata": {},
          "execution_count": 127
        }
      ]
    },
    {
      "cell_type": "code",
      "source": [
        ""
      ],
      "metadata": {
        "id": "zT0GfrVtefxi"
      },
      "execution_count": 127,
      "outputs": []
    }
  ]
}