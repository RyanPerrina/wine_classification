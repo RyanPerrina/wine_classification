{
  "nbformat": 4,
  "nbformat_minor": 0,
  "metadata": {
    "colab": {
      "name": "Untitled1.ipynb",
      "provenance": [],
      "collapsed_sections": [],
      "authorship_tag": "ABX9TyNBLfke2qUgqxJe2CVaHus2",
      "include_colab_link": true
    },
    "kernelspec": {
      "name": "python3",
      "display_name": "Python 3"
    },
    "language_info": {
      "name": "python"
    }
  },
  "cells": [
    {
      "cell_type": "markdown",
      "metadata": {
        "id": "view-in-github",
        "colab_type": "text"
      },
      "source": [
        "<a href=\"https://colab.research.google.com/github/RyanPerrina/wine_classification/blob/main/wine_classification.ipynb\" target=\"_parent\"><img src=\"https://colab.research.google.com/assets/colab-badge.svg\" alt=\"Open In Colab\"/></a>"
      ]
    },
    {
      "cell_type": "code",
      "execution_count": 3,
      "metadata": {
        "id": "_qSuq7Pau5Hx"
      },
      "outputs": [],
      "source": [
        "import numpy as np \n",
        "import pandas as pd\n",
        "import matplotlib.pyplot as plt\n"
      ]
    },
    {
      "cell_type": "markdown",
      "source": [
        "# Descrizione del problema\n",
        "Il dataset in questione riguarda le varianti di vino rosso portoghese \"Vinho Verde\". Il dataset descrive la qualità del vino in relazione ai componenti chimici presenti. "
      ],
      "metadata": {
        "id": "b_KGNXqaxbjw"
      }
    },
    {
      "cell_type": "code",
      "source": [
        "import os.path\n",
        "if not os.path.exists(\"dataset-wine.csv\"):\n",
        "\tfrom urllib.request import urlretrieve\n",
        "\turlretrieve(\"https://www.kaggle.com/datasets/yasserh/wine-quality-dataset/download\",\"dataset-wine.csv\")\n",
        "data = pd.read_csv(\"dataset-wine.csv\")"
      ],
      "metadata": {
        "id": "0QQD-wzJyblh"
      },
      "execution_count": null,
      "outputs": []
    }
  ]
}