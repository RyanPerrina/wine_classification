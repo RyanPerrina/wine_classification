{
  "nbformat": 4,
  "nbformat_minor": 0,
  "metadata": {
    "colab": {
      "name": "Untitled1.ipynb",
      "provenance": [],
      "collapsed_sections": [],
      "include_colab_link": true
    },
    "kernelspec": {
      "name": "python3",
      "display_name": "Python 3"
    },
    "language_info": {
      "name": "python"
    },
    "widgets": {
      "application/vnd.jupyter.widget-state+json": {
        "061fa8acedf84ae8b8bdc3052e3c1fcf": {
          "model_module": "@jupyter-widgets/controls",
          "model_name": "VBoxModel",
          "model_module_version": "1.5.0",
          "state": {
            "_dom_classes": [
              "widget-interact"
            ],
            "_model_module": "@jupyter-widgets/controls",
            "_model_module_version": "1.5.0",
            "_model_name": "VBoxModel",
            "_view_count": null,
            "_view_module": "@jupyter-widgets/controls",
            "_view_module_version": "1.5.0",
            "_view_name": "VBoxView",
            "box_style": "",
            "children": [
              "IPY_MODEL_afca55e705a34f07ab5c0445d5e67eb3",
              "IPY_MODEL_b3e9410090d4442d8ba3bf2cf456f1b2"
            ],
            "layout": "IPY_MODEL_34770f80364649b1a811be1a00892e15"
          }
        },
        "afca55e705a34f07ab5c0445d5e67eb3": {
          "model_module": "@jupyter-widgets/controls",
          "model_name": "DropdownModel",
          "model_module_version": "1.5.0",
          "state": {
            "_dom_classes": [],
            "_model_module": "@jupyter-widgets/controls",
            "_model_module_version": "1.5.0",
            "_model_name": "DropdownModel",
            "_options_labels": [
              "fixed acidity",
              "volatile acidity",
              "citric acid",
              "residual sugar",
              "chlorides",
              "free sulfur dioxide",
              "total sulfur dioxide",
              "density",
              "pH",
              "sulphates",
              "alcohol"
            ],
            "_view_count": null,
            "_view_module": "@jupyter-widgets/controls",
            "_view_module_version": "1.5.0",
            "_view_name": "DropdownView",
            "description": "features",
            "description_tooltip": null,
            "disabled": false,
            "index": 10,
            "layout": "IPY_MODEL_8782c02c85444142a3cde6b50f2a838a",
            "style": "IPY_MODEL_94e12d10873e4e1b843956d837041180"
          }
        },
        "b3e9410090d4442d8ba3bf2cf456f1b2": {
          "model_module": "@jupyter-widgets/output",
          "model_name": "OutputModel",
          "model_module_version": "1.0.0",
          "state": {
            "_dom_classes": [],
            "_model_module": "@jupyter-widgets/output",
            "_model_module_version": "1.0.0",
            "_model_name": "OutputModel",
            "_view_count": null,
            "_view_module": "@jupyter-widgets/output",
            "_view_module_version": "1.0.0",
            "_view_name": "OutputView",
            "layout": "IPY_MODEL_5f16f40ba0ca41c792013643ceac97fc",
            "msg_id": "",
            "outputs": [
              {
                "output_type": "display_data",
                "data": {
                  "text/plain": "<Figure size 1440x1440 with 0 Axes>"
                },
                "metadata": {}
              },
              {
                "output_type": "display_data",
                "data": {
                  "text/plain": "<Figure size 432x288 with 1 Axes>",
                  "image/png": "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\n"
                },
                "metadata": {
                  "needs_background": "light"
                }
              }
            ]
          }
        },
        "34770f80364649b1a811be1a00892e15": {
          "model_module": "@jupyter-widgets/base",
          "model_name": "LayoutModel",
          "model_module_version": "1.2.0",
          "state": {
            "_model_module": "@jupyter-widgets/base",
            "_model_module_version": "1.2.0",
            "_model_name": "LayoutModel",
            "_view_count": null,
            "_view_module": "@jupyter-widgets/base",
            "_view_module_version": "1.2.0",
            "_view_name": "LayoutView",
            "align_content": null,
            "align_items": null,
            "align_self": null,
            "border": null,
            "bottom": null,
            "display": null,
            "flex": null,
            "flex_flow": null,
            "grid_area": null,
            "grid_auto_columns": null,
            "grid_auto_flow": null,
            "grid_auto_rows": null,
            "grid_column": null,
            "grid_gap": null,
            "grid_row": null,
            "grid_template_areas": null,
            "grid_template_columns": null,
            "grid_template_rows": null,
            "height": null,
            "justify_content": null,
            "justify_items": null,
            "left": null,
            "margin": null,
            "max_height": null,
            "max_width": null,
            "min_height": null,
            "min_width": null,
            "object_fit": null,
            "object_position": null,
            "order": null,
            "overflow": null,
            "overflow_x": null,
            "overflow_y": null,
            "padding": null,
            "right": null,
            "top": null,
            "visibility": null,
            "width": null
          }
        },
        "8782c02c85444142a3cde6b50f2a838a": {
          "model_module": "@jupyter-widgets/base",
          "model_name": "LayoutModel",
          "model_module_version": "1.2.0",
          "state": {
            "_model_module": "@jupyter-widgets/base",
            "_model_module_version": "1.2.0",
            "_model_name": "LayoutModel",
            "_view_count": null,
            "_view_module": "@jupyter-widgets/base",
            "_view_module_version": "1.2.0",
            "_view_name": "LayoutView",
            "align_content": null,
            "align_items": null,
            "align_self": null,
            "border": null,
            "bottom": null,
            "display": null,
            "flex": null,
            "flex_flow": null,
            "grid_area": null,
            "grid_auto_columns": null,
            "grid_auto_flow": null,
            "grid_auto_rows": null,
            "grid_column": null,
            "grid_gap": null,
            "grid_row": null,
            "grid_template_areas": null,
            "grid_template_columns": null,
            "grid_template_rows": null,
            "height": null,
            "justify_content": null,
            "justify_items": null,
            "left": null,
            "margin": null,
            "max_height": null,
            "max_width": null,
            "min_height": null,
            "min_width": null,
            "object_fit": null,
            "object_position": null,
            "order": null,
            "overflow": null,
            "overflow_x": null,
            "overflow_y": null,
            "padding": null,
            "right": null,
            "top": null,
            "visibility": null,
            "width": null
          }
        },
        "94e12d10873e4e1b843956d837041180": {
          "model_module": "@jupyter-widgets/controls",
          "model_name": "DescriptionStyleModel",
          "model_module_version": "1.5.0",
          "state": {
            "_model_module": "@jupyter-widgets/controls",
            "_model_module_version": "1.5.0",
            "_model_name": "DescriptionStyleModel",
            "_view_count": null,
            "_view_module": "@jupyter-widgets/base",
            "_view_module_version": "1.2.0",
            "_view_name": "StyleView",
            "description_width": ""
          }
        },
        "5f16f40ba0ca41c792013643ceac97fc": {
          "model_module": "@jupyter-widgets/base",
          "model_name": "LayoutModel",
          "model_module_version": "1.2.0",
          "state": {
            "_model_module": "@jupyter-widgets/base",
            "_model_module_version": "1.2.0",
            "_model_name": "LayoutModel",
            "_view_count": null,
            "_view_module": "@jupyter-widgets/base",
            "_view_module_version": "1.2.0",
            "_view_name": "LayoutView",
            "align_content": null,
            "align_items": null,
            "align_self": null,
            "border": null,
            "bottom": null,
            "display": null,
            "flex": null,
            "flex_flow": null,
            "grid_area": null,
            "grid_auto_columns": null,
            "grid_auto_flow": null,
            "grid_auto_rows": null,
            "grid_column": null,
            "grid_gap": null,
            "grid_row": null,
            "grid_template_areas": null,
            "grid_template_columns": null,
            "grid_template_rows": null,
            "height": null,
            "justify_content": null,
            "justify_items": null,
            "left": null,
            "margin": null,
            "max_height": null,
            "max_width": null,
            "min_height": null,
            "min_width": null,
            "object_fit": null,
            "object_position": null,
            "order": null,
            "overflow": null,
            "overflow_x": null,
            "overflow_y": null,
            "padding": null,
            "right": null,
            "top": null,
            "visibility": null,
            "width": null
          }
        },
        "7dce15b3594f401e9fe69516246cc65e": {
          "model_module": "@jupyter-widgets/controls",
          "model_name": "VBoxModel",
          "model_module_version": "1.5.0",
          "state": {
            "_dom_classes": [
              "widget-interact"
            ],
            "_model_module": "@jupyter-widgets/controls",
            "_model_module_version": "1.5.0",
            "_model_name": "VBoxModel",
            "_view_count": null,
            "_view_module": "@jupyter-widgets/controls",
            "_view_module_version": "1.5.0",
            "_view_name": "VBoxView",
            "box_style": "",
            "children": [
              "IPY_MODEL_4023114e774e4e80b9b0283a932f22e3",
              "IPY_MODEL_f5cd1355d8084058b97c486938f5e4f5",
              "IPY_MODEL_5ab30d6fc5d741c69a0423d263db4e76"
            ],
            "layout": "IPY_MODEL_74d03b94879742efaed7bce00beb1ef2"
          }
        },
        "4023114e774e4e80b9b0283a932f22e3": {
          "model_module": "@jupyter-widgets/controls",
          "model_name": "DropdownModel",
          "model_module_version": "1.5.0",
          "state": {
            "_dom_classes": [],
            "_model_module": "@jupyter-widgets/controls",
            "_model_module_version": "1.5.0",
            "_model_name": "DropdownModel",
            "_options_labels": [
              "fixed acidity",
              "volatile acidity",
              "citric acid",
              "residual sugar",
              "chlorides",
              "free sulfur dioxide",
              "total sulfur dioxide",
              "density",
              "pH",
              "sulphates",
              "alcohol"
            ],
            "_view_count": null,
            "_view_module": "@jupyter-widgets/controls",
            "_view_module_version": "1.5.0",
            "_view_name": "DropdownView",
            "description": "features",
            "description_tooltip": null,
            "disabled": false,
            "index": 0,
            "layout": "IPY_MODEL_69b6a507d9d443b4b4af44f625176a5d",
            "style": "IPY_MODEL_badf1f2a3db44521a8f9c6efd985182a"
          }
        },
        "f5cd1355d8084058b97c486938f5e4f5": {
          "model_module": "@jupyter-widgets/controls",
          "model_name": "IntSliderModel",
          "model_module_version": "1.5.0",
          "state": {
            "_dom_classes": [],
            "_model_module": "@jupyter-widgets/controls",
            "_model_module_version": "1.5.0",
            "_model_name": "IntSliderModel",
            "_view_count": null,
            "_view_module": "@jupyter-widgets/controls",
            "_view_module_version": "1.5.0",
            "_view_name": "IntSliderView",
            "continuous_update": true,
            "description": "quality",
            "description_tooltip": null,
            "disabled": false,
            "layout": "IPY_MODEL_5a8110cd85c040df81a97eacf7064537",
            "max": 8,
            "min": 3,
            "orientation": "horizontal",
            "readout": true,
            "readout_format": "d",
            "step": 1,
            "style": "IPY_MODEL_810c046d534749be9e98deb1a555fdf9",
            "value": 8
          }
        },
        "5ab30d6fc5d741c69a0423d263db4e76": {
          "model_module": "@jupyter-widgets/output",
          "model_name": "OutputModel",
          "model_module_version": "1.0.0",
          "state": {
            "_dom_classes": [],
            "_model_module": "@jupyter-widgets/output",
            "_model_module_version": "1.0.0",
            "_model_name": "OutputModel",
            "_view_count": null,
            "_view_module": "@jupyter-widgets/output",
            "_view_module_version": "1.0.0",
            "_view_name": "OutputView",
            "layout": "IPY_MODEL_3d752026ebaf4004b37363efe5b9c50b",
            "msg_id": "",
            "outputs": [
              {
                "output_type": "display_data",
                "data": {
                  "text/plain": "<Figure size 360x288 with 1 Axes>",
                  "image/png": "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\n"
                },
                "metadata": {
                  "needs_background": "light"
                }
              }
            ]
          }
        },
        "74d03b94879742efaed7bce00beb1ef2": {
          "model_module": "@jupyter-widgets/base",
          "model_name": "LayoutModel",
          "model_module_version": "1.2.0",
          "state": {
            "_model_module": "@jupyter-widgets/base",
            "_model_module_version": "1.2.0",
            "_model_name": "LayoutModel",
            "_view_count": null,
            "_view_module": "@jupyter-widgets/base",
            "_view_module_version": "1.2.0",
            "_view_name": "LayoutView",
            "align_content": null,
            "align_items": null,
            "align_self": null,
            "border": null,
            "bottom": null,
            "display": null,
            "flex": null,
            "flex_flow": null,
            "grid_area": null,
            "grid_auto_columns": null,
            "grid_auto_flow": null,
            "grid_auto_rows": null,
            "grid_column": null,
            "grid_gap": null,
            "grid_row": null,
            "grid_template_areas": null,
            "grid_template_columns": null,
            "grid_template_rows": null,
            "height": null,
            "justify_content": null,
            "justify_items": null,
            "left": null,
            "margin": null,
            "max_height": null,
            "max_width": null,
            "min_height": null,
            "min_width": null,
            "object_fit": null,
            "object_position": null,
            "order": null,
            "overflow": null,
            "overflow_x": null,
            "overflow_y": null,
            "padding": null,
            "right": null,
            "top": null,
            "visibility": null,
            "width": null
          }
        },
        "69b6a507d9d443b4b4af44f625176a5d": {
          "model_module": "@jupyter-widgets/base",
          "model_name": "LayoutModel",
          "model_module_version": "1.2.0",
          "state": {
            "_model_module": "@jupyter-widgets/base",
            "_model_module_version": "1.2.0",
            "_model_name": "LayoutModel",
            "_view_count": null,
            "_view_module": "@jupyter-widgets/base",
            "_view_module_version": "1.2.0",
            "_view_name": "LayoutView",
            "align_content": null,
            "align_items": null,
            "align_self": null,
            "border": null,
            "bottom": null,
            "display": null,
            "flex": null,
            "flex_flow": null,
            "grid_area": null,
            "grid_auto_columns": null,
            "grid_auto_flow": null,
            "grid_auto_rows": null,
            "grid_column": null,
            "grid_gap": null,
            "grid_row": null,
            "grid_template_areas": null,
            "grid_template_columns": null,
            "grid_template_rows": null,
            "height": null,
            "justify_content": null,
            "justify_items": null,
            "left": null,
            "margin": null,
            "max_height": null,
            "max_width": null,
            "min_height": null,
            "min_width": null,
            "object_fit": null,
            "object_position": null,
            "order": null,
            "overflow": null,
            "overflow_x": null,
            "overflow_y": null,
            "padding": null,
            "right": null,
            "top": null,
            "visibility": null,
            "width": null
          }
        },
        "badf1f2a3db44521a8f9c6efd985182a": {
          "model_module": "@jupyter-widgets/controls",
          "model_name": "DescriptionStyleModel",
          "model_module_version": "1.5.0",
          "state": {
            "_model_module": "@jupyter-widgets/controls",
            "_model_module_version": "1.5.0",
            "_model_name": "DescriptionStyleModel",
            "_view_count": null,
            "_view_module": "@jupyter-widgets/base",
            "_view_module_version": "1.2.0",
            "_view_name": "StyleView",
            "description_width": ""
          }
        },
        "5a8110cd85c040df81a97eacf7064537": {
          "model_module": "@jupyter-widgets/base",
          "model_name": "LayoutModel",
          "model_module_version": "1.2.0",
          "state": {
            "_model_module": "@jupyter-widgets/base",
            "_model_module_version": "1.2.0",
            "_model_name": "LayoutModel",
            "_view_count": null,
            "_view_module": "@jupyter-widgets/base",
            "_view_module_version": "1.2.0",
            "_view_name": "LayoutView",
            "align_content": null,
            "align_items": null,
            "align_self": null,
            "border": null,
            "bottom": null,
            "display": null,
            "flex": null,
            "flex_flow": null,
            "grid_area": null,
            "grid_auto_columns": null,
            "grid_auto_flow": null,
            "grid_auto_rows": null,
            "grid_column": null,
            "grid_gap": null,
            "grid_row": null,
            "grid_template_areas": null,
            "grid_template_columns": null,
            "grid_template_rows": null,
            "height": null,
            "justify_content": null,
            "justify_items": null,
            "left": null,
            "margin": null,
            "max_height": null,
            "max_width": null,
            "min_height": null,
            "min_width": null,
            "object_fit": null,
            "object_position": null,
            "order": null,
            "overflow": null,
            "overflow_x": null,
            "overflow_y": null,
            "padding": null,
            "right": null,
            "top": null,
            "visibility": null,
            "width": null
          }
        },
        "810c046d534749be9e98deb1a555fdf9": {
          "model_module": "@jupyter-widgets/controls",
          "model_name": "SliderStyleModel",
          "model_module_version": "1.5.0",
          "state": {
            "_model_module": "@jupyter-widgets/controls",
            "_model_module_version": "1.5.0",
            "_model_name": "SliderStyleModel",
            "_view_count": null,
            "_view_module": "@jupyter-widgets/base",
            "_view_module_version": "1.2.0",
            "_view_name": "StyleView",
            "description_width": "",
            "handle_color": null
          }
        },
        "3d752026ebaf4004b37363efe5b9c50b": {
          "model_module": "@jupyter-widgets/base",
          "model_name": "LayoutModel",
          "model_module_version": "1.2.0",
          "state": {
            "_model_module": "@jupyter-widgets/base",
            "_model_module_version": "1.2.0",
            "_model_name": "LayoutModel",
            "_view_count": null,
            "_view_module": "@jupyter-widgets/base",
            "_view_module_version": "1.2.0",
            "_view_name": "LayoutView",
            "align_content": null,
            "align_items": null,
            "align_self": null,
            "border": null,
            "bottom": null,
            "display": null,
            "flex": null,
            "flex_flow": null,
            "grid_area": null,
            "grid_auto_columns": null,
            "grid_auto_flow": null,
            "grid_auto_rows": null,
            "grid_column": null,
            "grid_gap": null,
            "grid_row": null,
            "grid_template_areas": null,
            "grid_template_columns": null,
            "grid_template_rows": null,
            "height": null,
            "justify_content": null,
            "justify_items": null,
            "left": null,
            "margin": null,
            "max_height": null,
            "max_width": null,
            "min_height": null,
            "min_width": null,
            "object_fit": null,
            "object_position": null,
            "order": null,
            "overflow": null,
            "overflow_x": null,
            "overflow_y": null,
            "padding": null,
            "right": null,
            "top": null,
            "visibility": null,
            "width": null
          }
        },
        "ad54f26e4ec241118e27b27413ee8ad9": {
          "model_module": "@jupyter-widgets/controls",
          "model_name": "VBoxModel",
          "model_module_version": "1.5.0",
          "state": {
            "_dom_classes": [
              "widget-interact"
            ],
            "_model_module": "@jupyter-widgets/controls",
            "_model_module_version": "1.5.0",
            "_model_name": "VBoxModel",
            "_view_count": null,
            "_view_module": "@jupyter-widgets/controls",
            "_view_module_version": "1.5.0",
            "_view_name": "VBoxView",
            "box_style": "",
            "children": [
              "IPY_MODEL_3ad03b3b61da4858b7b2e8d7648b99e6",
              "IPY_MODEL_90dce321156a457786467a377a5a3f67",
              "IPY_MODEL_938f4550af6e4edea09c5ba656105554"
            ],
            "layout": "IPY_MODEL_a029263fd2b24391ba748fd8566c2910"
          }
        },
        "3ad03b3b61da4858b7b2e8d7648b99e6": {
          "model_module": "@jupyter-widgets/controls",
          "model_name": "DropdownModel",
          "model_module_version": "1.5.0",
          "state": {
            "_dom_classes": [],
            "_model_module": "@jupyter-widgets/controls",
            "_model_module_version": "1.5.0",
            "_model_name": "DropdownModel",
            "_options_labels": [
              "fixed acidity",
              "volatile acidity",
              "citric acid",
              "residual sugar",
              "chlorides",
              "free sulfur dioxide",
              "total sulfur dioxide",
              "density",
              "pH",
              "sulphates",
              "alcohol"
            ],
            "_view_count": null,
            "_view_module": "@jupyter-widgets/controls",
            "_view_module_version": "1.5.0",
            "_view_name": "DropdownView",
            "description": "features1",
            "description_tooltip": null,
            "disabled": false,
            "index": 0,
            "layout": "IPY_MODEL_e2a2a55f19ea4d65bcbafdd67e29982e",
            "style": "IPY_MODEL_33a35f4352ed47e5bca430616722c60f"
          }
        },
        "90dce321156a457786467a377a5a3f67": {
          "model_module": "@jupyter-widgets/controls",
          "model_name": "DropdownModel",
          "model_module_version": "1.5.0",
          "state": {
            "_dom_classes": [],
            "_model_module": "@jupyter-widgets/controls",
            "_model_module_version": "1.5.0",
            "_model_name": "DropdownModel",
            "_options_labels": [
              "fixed acidity",
              "volatile acidity",
              "citric acid",
              "residual sugar",
              "chlorides",
              "free sulfur dioxide",
              "total sulfur dioxide",
              "density",
              "pH",
              "sulphates",
              "alcohol"
            ],
            "_view_count": null,
            "_view_module": "@jupyter-widgets/controls",
            "_view_module_version": "1.5.0",
            "_view_name": "DropdownView",
            "description": "features2",
            "description_tooltip": null,
            "disabled": false,
            "index": 6,
            "layout": "IPY_MODEL_a5ca911b150742c2b33eb6bc31108d51",
            "style": "IPY_MODEL_a803fbb02ebd4659abadd5d109f3e53a"
          }
        },
        "938f4550af6e4edea09c5ba656105554": {
          "model_module": "@jupyter-widgets/output",
          "model_name": "OutputModel",
          "model_module_version": "1.0.0",
          "state": {
            "_dom_classes": [],
            "_model_module": "@jupyter-widgets/output",
            "_model_module_version": "1.0.0",
            "_model_name": "OutputModel",
            "_view_count": null,
            "_view_module": "@jupyter-widgets/output",
            "_view_module_version": "1.0.0",
            "_view_name": "OutputView",
            "layout": "IPY_MODEL_f82a8bea0a0647918e1142a6e0bffcf5",
            "msg_id": "",
            "outputs": [
              {
                "output_type": "display_data",
                "data": {
                  "text/plain": "<Figure size 720x576 with 2 Axes>",
                  "image/png": "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\n"
                },
                "metadata": {
                  "needs_background": "light"
                }
              }
            ]
          }
        },
        "a029263fd2b24391ba748fd8566c2910": {
          "model_module": "@jupyter-widgets/base",
          "model_name": "LayoutModel",
          "model_module_version": "1.2.0",
          "state": {
            "_model_module": "@jupyter-widgets/base",
            "_model_module_version": "1.2.0",
            "_model_name": "LayoutModel",
            "_view_count": null,
            "_view_module": "@jupyter-widgets/base",
            "_view_module_version": "1.2.0",
            "_view_name": "LayoutView",
            "align_content": null,
            "align_items": null,
            "align_self": null,
            "border": null,
            "bottom": null,
            "display": null,
            "flex": null,
            "flex_flow": null,
            "grid_area": null,
            "grid_auto_columns": null,
            "grid_auto_flow": null,
            "grid_auto_rows": null,
            "grid_column": null,
            "grid_gap": null,
            "grid_row": null,
            "grid_template_areas": null,
            "grid_template_columns": null,
            "grid_template_rows": null,
            "height": null,
            "justify_content": null,
            "justify_items": null,
            "left": null,
            "margin": null,
            "max_height": null,
            "max_width": null,
            "min_height": null,
            "min_width": null,
            "object_fit": null,
            "object_position": null,
            "order": null,
            "overflow": null,
            "overflow_x": null,
            "overflow_y": null,
            "padding": null,
            "right": null,
            "top": null,
            "visibility": null,
            "width": null
          }
        },
        "e2a2a55f19ea4d65bcbafdd67e29982e": {
          "model_module": "@jupyter-widgets/base",
          "model_name": "LayoutModel",
          "model_module_version": "1.2.0",
          "state": {
            "_model_module": "@jupyter-widgets/base",
            "_model_module_version": "1.2.0",
            "_model_name": "LayoutModel",
            "_view_count": null,
            "_view_module": "@jupyter-widgets/base",
            "_view_module_version": "1.2.0",
            "_view_name": "LayoutView",
            "align_content": null,
            "align_items": null,
            "align_self": null,
            "border": null,
            "bottom": null,
            "display": null,
            "flex": null,
            "flex_flow": null,
            "grid_area": null,
            "grid_auto_columns": null,
            "grid_auto_flow": null,
            "grid_auto_rows": null,
            "grid_column": null,
            "grid_gap": null,
            "grid_row": null,
            "grid_template_areas": null,
            "grid_template_columns": null,
            "grid_template_rows": null,
            "height": null,
            "justify_content": null,
            "justify_items": null,
            "left": null,
            "margin": null,
            "max_height": null,
            "max_width": null,
            "min_height": null,
            "min_width": null,
            "object_fit": null,
            "object_position": null,
            "order": null,
            "overflow": null,
            "overflow_x": null,
            "overflow_y": null,
            "padding": null,
            "right": null,
            "top": null,
            "visibility": null,
            "width": null
          }
        },
        "33a35f4352ed47e5bca430616722c60f": {
          "model_module": "@jupyter-widgets/controls",
          "model_name": "DescriptionStyleModel",
          "model_module_version": "1.5.0",
          "state": {
            "_model_module": "@jupyter-widgets/controls",
            "_model_module_version": "1.5.0",
            "_model_name": "DescriptionStyleModel",
            "_view_count": null,
            "_view_module": "@jupyter-widgets/base",
            "_view_module_version": "1.2.0",
            "_view_name": "StyleView",
            "description_width": ""
          }
        },
        "a5ca911b150742c2b33eb6bc31108d51": {
          "model_module": "@jupyter-widgets/base",
          "model_name": "LayoutModel",
          "model_module_version": "1.2.0",
          "state": {
            "_model_module": "@jupyter-widgets/base",
            "_model_module_version": "1.2.0",
            "_model_name": "LayoutModel",
            "_view_count": null,
            "_view_module": "@jupyter-widgets/base",
            "_view_module_version": "1.2.0",
            "_view_name": "LayoutView",
            "align_content": null,
            "align_items": null,
            "align_self": null,
            "border": null,
            "bottom": null,
            "display": null,
            "flex": null,
            "flex_flow": null,
            "grid_area": null,
            "grid_auto_columns": null,
            "grid_auto_flow": null,
            "grid_auto_rows": null,
            "grid_column": null,
            "grid_gap": null,
            "grid_row": null,
            "grid_template_areas": null,
            "grid_template_columns": null,
            "grid_template_rows": null,
            "height": null,
            "justify_content": null,
            "justify_items": null,
            "left": null,
            "margin": null,
            "max_height": null,
            "max_width": null,
            "min_height": null,
            "min_width": null,
            "object_fit": null,
            "object_position": null,
            "order": null,
            "overflow": null,
            "overflow_x": null,
            "overflow_y": null,
            "padding": null,
            "right": null,
            "top": null,
            "visibility": null,
            "width": null
          }
        },
        "a803fbb02ebd4659abadd5d109f3e53a": {
          "model_module": "@jupyter-widgets/controls",
          "model_name": "DescriptionStyleModel",
          "model_module_version": "1.5.0",
          "state": {
            "_model_module": "@jupyter-widgets/controls",
            "_model_module_version": "1.5.0",
            "_model_name": "DescriptionStyleModel",
            "_view_count": null,
            "_view_module": "@jupyter-widgets/base",
            "_view_module_version": "1.2.0",
            "_view_name": "StyleView",
            "description_width": ""
          }
        },
        "f82a8bea0a0647918e1142a6e0bffcf5": {
          "model_module": "@jupyter-widgets/base",
          "model_name": "LayoutModel",
          "model_module_version": "1.2.0",
          "state": {
            "_model_module": "@jupyter-widgets/base",
            "_model_module_version": "1.2.0",
            "_model_name": "LayoutModel",
            "_view_count": null,
            "_view_module": "@jupyter-widgets/base",
            "_view_module_version": "1.2.0",
            "_view_name": "LayoutView",
            "align_content": null,
            "align_items": null,
            "align_self": null,
            "border": null,
            "bottom": null,
            "display": null,
            "flex": null,
            "flex_flow": null,
            "grid_area": null,
            "grid_auto_columns": null,
            "grid_auto_flow": null,
            "grid_auto_rows": null,
            "grid_column": null,
            "grid_gap": null,
            "grid_row": null,
            "grid_template_areas": null,
            "grid_template_columns": null,
            "grid_template_rows": null,
            "height": null,
            "justify_content": null,
            "justify_items": null,
            "left": null,
            "margin": null,
            "max_height": null,
            "max_width": null,
            "min_height": null,
            "min_width": null,
            "object_fit": null,
            "object_position": null,
            "order": null,
            "overflow": null,
            "overflow_x": null,
            "overflow_y": null,
            "padding": null,
            "right": null,
            "top": null,
            "visibility": null,
            "width": null
          }
        }
      }
    },
    "accelerator": "GPU",
    "gpuClass": "standard"
  },
  "cells": [
    {
      "cell_type": "markdown",
      "metadata": {
        "id": "view-in-github",
        "colab_type": "text"
      },
      "source": [
        "<a href=\"https://colab.research.google.com/github/RyanPerrina/wine_classification/blob/main/wine_classification.ipynb\" target=\"_parent\"><img src=\"https://colab.research.google.com/assets/colab-badge.svg\" alt=\"Open In Colab\"/></a>"
      ]
    },
    {
      "cell_type": "markdown",
      "source": [
        "# Progetto Programmazione di Applicazioni Data Intensive\n",
        "# Ryan Perrina e Manuel Luzietti"
      ],
      "metadata": {
        "id": "MKkp6qrGhqVY"
      }
    },
    {
      "cell_type": "code",
      "execution_count": 1,
      "metadata": {
        "id": "_qSuq7Pau5Hx"
      },
      "outputs": [],
      "source": [
        "import numpy as np \n",
        "import pandas as pd\n",
        "import matplotlib.pyplot as plt\n"
      ]
    },
    {
      "cell_type": "markdown",
      "source": [
        "# Descrizione del problema\n",
        "Il dataset in questione riguarda le varianti di vino rosso portoghese \"Vinho Verde\". Il dataset descrive la qualità del vino in relazione ai componenti chimici presenti. L'obiettivo del progetto è predire la qualità del vino dai \n",
        "suoi componenti ovvero predire una variabile discreta non binaria."
      ],
      "metadata": {
        "id": "b_KGNXqaxbjw"
      }
    },
    {
      "cell_type": "code",
      "source": [
        "data = pd.read_csv(\"WineQT.csv\")"
      ],
      "metadata": {
        "id": "0QQD-wzJyblh"
      },
      "execution_count": 2,
      "outputs": []
    },
    {
      "cell_type": "markdown",
      "source": [
        "# Comprensione dati"
      ],
      "metadata": {
        "id": "dmtKuH5C2j4f"
      }
    },
    {
      "cell_type": "code",
      "source": [
        "data.head()"
      ],
      "metadata": {
        "colab": {
          "base_uri": "https://localhost:8080/",
          "height": 206
        },
        "id": "YY_1zhYO2qYy",
        "outputId": "fc2f89bc-c873-479a-af15-b9e62fd970fd"
      },
      "execution_count": 3,
      "outputs": [
        {
          "output_type": "execute_result",
          "data": {
            "text/plain": [
              "   fixed acidity  volatile acidity  citric acid  residual sugar  chlorides  \\\n",
              "0            7.4              0.70         0.00             1.9      0.076   \n",
              "1            7.8              0.88         0.00             2.6      0.098   \n",
              "2            7.8              0.76         0.04             2.3      0.092   \n",
              "3           11.2              0.28         0.56             1.9      0.075   \n",
              "4            7.4              0.70         0.00             1.9      0.076   \n",
              "\n",
              "   free sulfur dioxide  total sulfur dioxide  density    pH  sulphates  \\\n",
              "0                 11.0                  34.0   0.9978  3.51       0.56   \n",
              "1                 25.0                  67.0   0.9968  3.20       0.68   \n",
              "2                 15.0                  54.0   0.9970  3.26       0.65   \n",
              "3                 17.0                  60.0   0.9980  3.16       0.58   \n",
              "4                 11.0                  34.0   0.9978  3.51       0.56   \n",
              "\n",
              "   alcohol  quality  Id  \n",
              "0      9.4        5   0  \n",
              "1      9.8        5   1  \n",
              "2      9.8        5   2  \n",
              "3      9.8        6   3  \n",
              "4      9.4        5   4  "
            ],
            "text/html": [
              "\n",
              "  <div id=\"df-6eeb95fb-4dbf-4f61-a56d-01d2d76d8ae1\">\n",
              "    <div class=\"colab-df-container\">\n",
              "      <div>\n",
              "<style scoped>\n",
              "    .dataframe tbody tr th:only-of-type {\n",
              "        vertical-align: middle;\n",
              "    }\n",
              "\n",
              "    .dataframe tbody tr th {\n",
              "        vertical-align: top;\n",
              "    }\n",
              "\n",
              "    .dataframe thead th {\n",
              "        text-align: right;\n",
              "    }\n",
              "</style>\n",
              "<table border=\"1\" class=\"dataframe\">\n",
              "  <thead>\n",
              "    <tr style=\"text-align: right;\">\n",
              "      <th></th>\n",
              "      <th>fixed acidity</th>\n",
              "      <th>volatile acidity</th>\n",
              "      <th>citric acid</th>\n",
              "      <th>residual sugar</th>\n",
              "      <th>chlorides</th>\n",
              "      <th>free sulfur dioxide</th>\n",
              "      <th>total sulfur dioxide</th>\n",
              "      <th>density</th>\n",
              "      <th>pH</th>\n",
              "      <th>sulphates</th>\n",
              "      <th>alcohol</th>\n",
              "      <th>quality</th>\n",
              "      <th>Id</th>\n",
              "    </tr>\n",
              "  </thead>\n",
              "  <tbody>\n",
              "    <tr>\n",
              "      <th>0</th>\n",
              "      <td>7.4</td>\n",
              "      <td>0.70</td>\n",
              "      <td>0.00</td>\n",
              "      <td>1.9</td>\n",
              "      <td>0.076</td>\n",
              "      <td>11.0</td>\n",
              "      <td>34.0</td>\n",
              "      <td>0.9978</td>\n",
              "      <td>3.51</td>\n",
              "      <td>0.56</td>\n",
              "      <td>9.4</td>\n",
              "      <td>5</td>\n",
              "      <td>0</td>\n",
              "    </tr>\n",
              "    <tr>\n",
              "      <th>1</th>\n",
              "      <td>7.8</td>\n",
              "      <td>0.88</td>\n",
              "      <td>0.00</td>\n",
              "      <td>2.6</td>\n",
              "      <td>0.098</td>\n",
              "      <td>25.0</td>\n",
              "      <td>67.0</td>\n",
              "      <td>0.9968</td>\n",
              "      <td>3.20</td>\n",
              "      <td>0.68</td>\n",
              "      <td>9.8</td>\n",
              "      <td>5</td>\n",
              "      <td>1</td>\n",
              "    </tr>\n",
              "    <tr>\n",
              "      <th>2</th>\n",
              "      <td>7.8</td>\n",
              "      <td>0.76</td>\n",
              "      <td>0.04</td>\n",
              "      <td>2.3</td>\n",
              "      <td>0.092</td>\n",
              "      <td>15.0</td>\n",
              "      <td>54.0</td>\n",
              "      <td>0.9970</td>\n",
              "      <td>3.26</td>\n",
              "      <td>0.65</td>\n",
              "      <td>9.8</td>\n",
              "      <td>5</td>\n",
              "      <td>2</td>\n",
              "    </tr>\n",
              "    <tr>\n",
              "      <th>3</th>\n",
              "      <td>11.2</td>\n",
              "      <td>0.28</td>\n",
              "      <td>0.56</td>\n",
              "      <td>1.9</td>\n",
              "      <td>0.075</td>\n",
              "      <td>17.0</td>\n",
              "      <td>60.0</td>\n",
              "      <td>0.9980</td>\n",
              "      <td>3.16</td>\n",
              "      <td>0.58</td>\n",
              "      <td>9.8</td>\n",
              "      <td>6</td>\n",
              "      <td>3</td>\n",
              "    </tr>\n",
              "    <tr>\n",
              "      <th>4</th>\n",
              "      <td>7.4</td>\n",
              "      <td>0.70</td>\n",
              "      <td>0.00</td>\n",
              "      <td>1.9</td>\n",
              "      <td>0.076</td>\n",
              "      <td>11.0</td>\n",
              "      <td>34.0</td>\n",
              "      <td>0.9978</td>\n",
              "      <td>3.51</td>\n",
              "      <td>0.56</td>\n",
              "      <td>9.4</td>\n",
              "      <td>5</td>\n",
              "      <td>4</td>\n",
              "    </tr>\n",
              "  </tbody>\n",
              "</table>\n",
              "</div>\n",
              "      <button class=\"colab-df-convert\" onclick=\"convertToInteractive('df-6eeb95fb-4dbf-4f61-a56d-01d2d76d8ae1')\"\n",
              "              title=\"Convert this dataframe to an interactive table.\"\n",
              "              style=\"display:none;\">\n",
              "        \n",
              "  <svg xmlns=\"http://www.w3.org/2000/svg\" height=\"24px\"viewBox=\"0 0 24 24\"\n",
              "       width=\"24px\">\n",
              "    <path d=\"M0 0h24v24H0V0z\" fill=\"none\"/>\n",
              "    <path d=\"M18.56 5.44l.94 2.06.94-2.06 2.06-.94-2.06-.94-.94-2.06-.94 2.06-2.06.94zm-11 1L8.5 8.5l.94-2.06 2.06-.94-2.06-.94L8.5 2.5l-.94 2.06-2.06.94zm10 10l.94 2.06.94-2.06 2.06-.94-2.06-.94-.94-2.06-.94 2.06-2.06.94z\"/><path d=\"M17.41 7.96l-1.37-1.37c-.4-.4-.92-.59-1.43-.59-.52 0-1.04.2-1.43.59L10.3 9.45l-7.72 7.72c-.78.78-.78 2.05 0 2.83L4 21.41c.39.39.9.59 1.41.59.51 0 1.02-.2 1.41-.59l7.78-7.78 2.81-2.81c.8-.78.8-2.07 0-2.86zM5.41 20L4 18.59l7.72-7.72 1.47 1.35L5.41 20z\"/>\n",
              "  </svg>\n",
              "      </button>\n",
              "      \n",
              "  <style>\n",
              "    .colab-df-container {\n",
              "      display:flex;\n",
              "      flex-wrap:wrap;\n",
              "      gap: 12px;\n",
              "    }\n",
              "\n",
              "    .colab-df-convert {\n",
              "      background-color: #E8F0FE;\n",
              "      border: none;\n",
              "      border-radius: 50%;\n",
              "      cursor: pointer;\n",
              "      display: none;\n",
              "      fill: #1967D2;\n",
              "      height: 32px;\n",
              "      padding: 0 0 0 0;\n",
              "      width: 32px;\n",
              "    }\n",
              "\n",
              "    .colab-df-convert:hover {\n",
              "      background-color: #E2EBFA;\n",
              "      box-shadow: 0px 1px 2px rgba(60, 64, 67, 0.3), 0px 1px 3px 1px rgba(60, 64, 67, 0.15);\n",
              "      fill: #174EA6;\n",
              "    }\n",
              "\n",
              "    [theme=dark] .colab-df-convert {\n",
              "      background-color: #3B4455;\n",
              "      fill: #D2E3FC;\n",
              "    }\n",
              "\n",
              "    [theme=dark] .colab-df-convert:hover {\n",
              "      background-color: #434B5C;\n",
              "      box-shadow: 0px 1px 3px 1px rgba(0, 0, 0, 0.15);\n",
              "      filter: drop-shadow(0px 1px 2px rgba(0, 0, 0, 0.3));\n",
              "      fill: #FFFFFF;\n",
              "    }\n",
              "  </style>\n",
              "\n",
              "      <script>\n",
              "        const buttonEl =\n",
              "          document.querySelector('#df-6eeb95fb-4dbf-4f61-a56d-01d2d76d8ae1 button.colab-df-convert');\n",
              "        buttonEl.style.display =\n",
              "          google.colab.kernel.accessAllowed ? 'block' : 'none';\n",
              "\n",
              "        async function convertToInteractive(key) {\n",
              "          const element = document.querySelector('#df-6eeb95fb-4dbf-4f61-a56d-01d2d76d8ae1');\n",
              "          const dataTable =\n",
              "            await google.colab.kernel.invokeFunction('convertToInteractive',\n",
              "                                                     [key], {});\n",
              "          if (!dataTable) return;\n",
              "\n",
              "          const docLinkHtml = 'Like what you see? Visit the ' +\n",
              "            '<a target=\"_blank\" href=https://colab.research.google.com/notebooks/data_table.ipynb>data table notebook</a>'\n",
              "            + ' to learn more about interactive tables.';\n",
              "          element.innerHTML = '';\n",
              "          dataTable['output_type'] = 'display_data';\n",
              "          await google.colab.output.renderOutput(dataTable, element);\n",
              "          const docLink = document.createElement('div');\n",
              "          docLink.innerHTML = docLinkHtml;\n",
              "          element.appendChild(docLink);\n",
              "        }\n",
              "      </script>\n",
              "    </div>\n",
              "  </div>\n",
              "  "
            ]
          },
          "metadata": {},
          "execution_count": 3
        }
      ]
    },
    {
      "cell_type": "markdown",
      "source": [
        "Le features rappresentate:\n",
        "\n",
        "\n",
        "*   fixed acidity | float \n",
        "*   volatile acidity | float \n",
        "*   citric acid\t| float\n",
        "*   residual sugar | float\n",
        "*   chlorides | float\n",
        "*   free sulfur dioxide\t| float\n",
        "*   total sulfur dioxide\t| float\n",
        "*   density | float\n",
        "*   pH | float\n",
        "*   sulphates | float\n",
        "*   alcohol | float\n",
        "*   quality | int\n",
        "*   id | int\n"
      ],
      "metadata": {
        "id": "MJSXnXsA3UQJ"
      }
    },
    {
      "cell_type": "markdown",
      "source": [
        "La variabile target è quality che assume valori da 0 a 10 con 0 qualità pessima e 10 eccellente. Id è l'identificatore dei record e verrà usato come indice del dataframe."
      ],
      "metadata": {
        "id": "V2g4mnO26r8R"
      }
    },
    {
      "cell_type": "code",
      "source": [
        "data.set_index(\"Id\",inplace=True)"
      ],
      "metadata": {
        "id": "cBApJW5n2sUU"
      },
      "execution_count": 4,
      "outputs": []
    },
    {
      "cell_type": "code",
      "source": [
        "data.describe()\n"
      ],
      "metadata": {
        "id": "aGdXgcgM6RgI",
        "outputId": "6a2d9d1b-0654-4053-aa7f-1c6bce15a45d",
        "colab": {
          "base_uri": "https://localhost:8080/",
          "height": 300
        }
      },
      "execution_count": 5,
      "outputs": [
        {
          "output_type": "execute_result",
          "data": {
            "text/plain": [
              "       fixed acidity  volatile acidity  citric acid  residual sugar  \\\n",
              "count    1143.000000       1143.000000  1143.000000     1143.000000   \n",
              "mean        8.311111          0.531339     0.268364        2.532152   \n",
              "std         1.747595          0.179633     0.196686        1.355917   \n",
              "min         4.600000          0.120000     0.000000        0.900000   \n",
              "25%         7.100000          0.392500     0.090000        1.900000   \n",
              "50%         7.900000          0.520000     0.250000        2.200000   \n",
              "75%         9.100000          0.640000     0.420000        2.600000   \n",
              "max        15.900000          1.580000     1.000000       15.500000   \n",
              "\n",
              "         chlorides  free sulfur dioxide  total sulfur dioxide      density  \\\n",
              "count  1143.000000          1143.000000           1143.000000  1143.000000   \n",
              "mean      0.086933            15.615486             45.914698     0.996730   \n",
              "std       0.047267            10.250486             32.782130     0.001925   \n",
              "min       0.012000             1.000000              6.000000     0.990070   \n",
              "25%       0.070000             7.000000             21.000000     0.995570   \n",
              "50%       0.079000            13.000000             37.000000     0.996680   \n",
              "75%       0.090000            21.000000             61.000000     0.997845   \n",
              "max       0.611000            68.000000            289.000000     1.003690   \n",
              "\n",
              "                pH    sulphates      alcohol      quality  \n",
              "count  1143.000000  1143.000000  1143.000000  1143.000000  \n",
              "mean      3.311015     0.657708    10.442111     5.657043  \n",
              "std       0.156664     0.170399     1.082196     0.805824  \n",
              "min       2.740000     0.330000     8.400000     3.000000  \n",
              "25%       3.205000     0.550000     9.500000     5.000000  \n",
              "50%       3.310000     0.620000    10.200000     6.000000  \n",
              "75%       3.400000     0.730000    11.100000     6.000000  \n",
              "max       4.010000     2.000000    14.900000     8.000000  "
            ],
            "text/html": [
              "\n",
              "  <div id=\"df-ee7998e3-9340-4041-b01d-22a40f2403ec\">\n",
              "    <div class=\"colab-df-container\">\n",
              "      <div>\n",
              "<style scoped>\n",
              "    .dataframe tbody tr th:only-of-type {\n",
              "        vertical-align: middle;\n",
              "    }\n",
              "\n",
              "    .dataframe tbody tr th {\n",
              "        vertical-align: top;\n",
              "    }\n",
              "\n",
              "    .dataframe thead th {\n",
              "        text-align: right;\n",
              "    }\n",
              "</style>\n",
              "<table border=\"1\" class=\"dataframe\">\n",
              "  <thead>\n",
              "    <tr style=\"text-align: right;\">\n",
              "      <th></th>\n",
              "      <th>fixed acidity</th>\n",
              "      <th>volatile acidity</th>\n",
              "      <th>citric acid</th>\n",
              "      <th>residual sugar</th>\n",
              "      <th>chlorides</th>\n",
              "      <th>free sulfur dioxide</th>\n",
              "      <th>total sulfur dioxide</th>\n",
              "      <th>density</th>\n",
              "      <th>pH</th>\n",
              "      <th>sulphates</th>\n",
              "      <th>alcohol</th>\n",
              "      <th>quality</th>\n",
              "    </tr>\n",
              "  </thead>\n",
              "  <tbody>\n",
              "    <tr>\n",
              "      <th>count</th>\n",
              "      <td>1143.000000</td>\n",
              "      <td>1143.000000</td>\n",
              "      <td>1143.000000</td>\n",
              "      <td>1143.000000</td>\n",
              "      <td>1143.000000</td>\n",
              "      <td>1143.000000</td>\n",
              "      <td>1143.000000</td>\n",
              "      <td>1143.000000</td>\n",
              "      <td>1143.000000</td>\n",
              "      <td>1143.000000</td>\n",
              "      <td>1143.000000</td>\n",
              "      <td>1143.000000</td>\n",
              "    </tr>\n",
              "    <tr>\n",
              "      <th>mean</th>\n",
              "      <td>8.311111</td>\n",
              "      <td>0.531339</td>\n",
              "      <td>0.268364</td>\n",
              "      <td>2.532152</td>\n",
              "      <td>0.086933</td>\n",
              "      <td>15.615486</td>\n",
              "      <td>45.914698</td>\n",
              "      <td>0.996730</td>\n",
              "      <td>3.311015</td>\n",
              "      <td>0.657708</td>\n",
              "      <td>10.442111</td>\n",
              "      <td>5.657043</td>\n",
              "    </tr>\n",
              "    <tr>\n",
              "      <th>std</th>\n",
              "      <td>1.747595</td>\n",
              "      <td>0.179633</td>\n",
              "      <td>0.196686</td>\n",
              "      <td>1.355917</td>\n",
              "      <td>0.047267</td>\n",
              "      <td>10.250486</td>\n",
              "      <td>32.782130</td>\n",
              "      <td>0.001925</td>\n",
              "      <td>0.156664</td>\n",
              "      <td>0.170399</td>\n",
              "      <td>1.082196</td>\n",
              "      <td>0.805824</td>\n",
              "    </tr>\n",
              "    <tr>\n",
              "      <th>min</th>\n",
              "      <td>4.600000</td>\n",
              "      <td>0.120000</td>\n",
              "      <td>0.000000</td>\n",
              "      <td>0.900000</td>\n",
              "      <td>0.012000</td>\n",
              "      <td>1.000000</td>\n",
              "      <td>6.000000</td>\n",
              "      <td>0.990070</td>\n",
              "      <td>2.740000</td>\n",
              "      <td>0.330000</td>\n",
              "      <td>8.400000</td>\n",
              "      <td>3.000000</td>\n",
              "    </tr>\n",
              "    <tr>\n",
              "      <th>25%</th>\n",
              "      <td>7.100000</td>\n",
              "      <td>0.392500</td>\n",
              "      <td>0.090000</td>\n",
              "      <td>1.900000</td>\n",
              "      <td>0.070000</td>\n",
              "      <td>7.000000</td>\n",
              "      <td>21.000000</td>\n",
              "      <td>0.995570</td>\n",
              "      <td>3.205000</td>\n",
              "      <td>0.550000</td>\n",
              "      <td>9.500000</td>\n",
              "      <td>5.000000</td>\n",
              "    </tr>\n",
              "    <tr>\n",
              "      <th>50%</th>\n",
              "      <td>7.900000</td>\n",
              "      <td>0.520000</td>\n",
              "      <td>0.250000</td>\n",
              "      <td>2.200000</td>\n",
              "      <td>0.079000</td>\n",
              "      <td>13.000000</td>\n",
              "      <td>37.000000</td>\n",
              "      <td>0.996680</td>\n",
              "      <td>3.310000</td>\n",
              "      <td>0.620000</td>\n",
              "      <td>10.200000</td>\n",
              "      <td>6.000000</td>\n",
              "    </tr>\n",
              "    <tr>\n",
              "      <th>75%</th>\n",
              "      <td>9.100000</td>\n",
              "      <td>0.640000</td>\n",
              "      <td>0.420000</td>\n",
              "      <td>2.600000</td>\n",
              "      <td>0.090000</td>\n",
              "      <td>21.000000</td>\n",
              "      <td>61.000000</td>\n",
              "      <td>0.997845</td>\n",
              "      <td>3.400000</td>\n",
              "      <td>0.730000</td>\n",
              "      <td>11.100000</td>\n",
              "      <td>6.000000</td>\n",
              "    </tr>\n",
              "    <tr>\n",
              "      <th>max</th>\n",
              "      <td>15.900000</td>\n",
              "      <td>1.580000</td>\n",
              "      <td>1.000000</td>\n",
              "      <td>15.500000</td>\n",
              "      <td>0.611000</td>\n",
              "      <td>68.000000</td>\n",
              "      <td>289.000000</td>\n",
              "      <td>1.003690</td>\n",
              "      <td>4.010000</td>\n",
              "      <td>2.000000</td>\n",
              "      <td>14.900000</td>\n",
              "      <td>8.000000</td>\n",
              "    </tr>\n",
              "  </tbody>\n",
              "</table>\n",
              "</div>\n",
              "      <button class=\"colab-df-convert\" onclick=\"convertToInteractive('df-ee7998e3-9340-4041-b01d-22a40f2403ec')\"\n",
              "              title=\"Convert this dataframe to an interactive table.\"\n",
              "              style=\"display:none;\">\n",
              "        \n",
              "  <svg xmlns=\"http://www.w3.org/2000/svg\" height=\"24px\"viewBox=\"0 0 24 24\"\n",
              "       width=\"24px\">\n",
              "    <path d=\"M0 0h24v24H0V0z\" fill=\"none\"/>\n",
              "    <path d=\"M18.56 5.44l.94 2.06.94-2.06 2.06-.94-2.06-.94-.94-2.06-.94 2.06-2.06.94zm-11 1L8.5 8.5l.94-2.06 2.06-.94-2.06-.94L8.5 2.5l-.94 2.06-2.06.94zm10 10l.94 2.06.94-2.06 2.06-.94-2.06-.94-.94-2.06-.94 2.06-2.06.94z\"/><path d=\"M17.41 7.96l-1.37-1.37c-.4-.4-.92-.59-1.43-.59-.52 0-1.04.2-1.43.59L10.3 9.45l-7.72 7.72c-.78.78-.78 2.05 0 2.83L4 21.41c.39.39.9.59 1.41.59.51 0 1.02-.2 1.41-.59l7.78-7.78 2.81-2.81c.8-.78.8-2.07 0-2.86zM5.41 20L4 18.59l7.72-7.72 1.47 1.35L5.41 20z\"/>\n",
              "  </svg>\n",
              "      </button>\n",
              "      \n",
              "  <style>\n",
              "    .colab-df-container {\n",
              "      display:flex;\n",
              "      flex-wrap:wrap;\n",
              "      gap: 12px;\n",
              "    }\n",
              "\n",
              "    .colab-df-convert {\n",
              "      background-color: #E8F0FE;\n",
              "      border: none;\n",
              "      border-radius: 50%;\n",
              "      cursor: pointer;\n",
              "      display: none;\n",
              "      fill: #1967D2;\n",
              "      height: 32px;\n",
              "      padding: 0 0 0 0;\n",
              "      width: 32px;\n",
              "    }\n",
              "\n",
              "    .colab-df-convert:hover {\n",
              "      background-color: #E2EBFA;\n",
              "      box-shadow: 0px 1px 2px rgba(60, 64, 67, 0.3), 0px 1px 3px 1px rgba(60, 64, 67, 0.15);\n",
              "      fill: #174EA6;\n",
              "    }\n",
              "\n",
              "    [theme=dark] .colab-df-convert {\n",
              "      background-color: #3B4455;\n",
              "      fill: #D2E3FC;\n",
              "    }\n",
              "\n",
              "    [theme=dark] .colab-df-convert:hover {\n",
              "      background-color: #434B5C;\n",
              "      box-shadow: 0px 1px 3px 1px rgba(0, 0, 0, 0.15);\n",
              "      filter: drop-shadow(0px 1px 2px rgba(0, 0, 0, 0.3));\n",
              "      fill: #FFFFFF;\n",
              "    }\n",
              "  </style>\n",
              "\n",
              "      <script>\n",
              "        const buttonEl =\n",
              "          document.querySelector('#df-ee7998e3-9340-4041-b01d-22a40f2403ec button.colab-df-convert');\n",
              "        buttonEl.style.display =\n",
              "          google.colab.kernel.accessAllowed ? 'block' : 'none';\n",
              "\n",
              "        async function convertToInteractive(key) {\n",
              "          const element = document.querySelector('#df-ee7998e3-9340-4041-b01d-22a40f2403ec');\n",
              "          const dataTable =\n",
              "            await google.colab.kernel.invokeFunction('convertToInteractive',\n",
              "                                                     [key], {});\n",
              "          if (!dataTable) return;\n",
              "\n",
              "          const docLinkHtml = 'Like what you see? Visit the ' +\n",
              "            '<a target=\"_blank\" href=https://colab.research.google.com/notebooks/data_table.ipynb>data table notebook</a>'\n",
              "            + ' to learn more about interactive tables.';\n",
              "          element.innerHTML = '';\n",
              "          dataTable['output_type'] = 'display_data';\n",
              "          await google.colab.output.renderOutput(dataTable, element);\n",
              "          const docLink = document.createElement('div');\n",
              "          docLink.innerHTML = docLinkHtml;\n",
              "          element.appendChild(docLink);\n",
              "        }\n",
              "      </script>\n",
              "    </div>\n",
              "  </div>\n",
              "  "
            ]
          },
          "metadata": {},
          "execution_count": 5
        }
      ]
    },
    {
      "cell_type": "markdown",
      "source": [
        "Dal dataset possiamo notare che su alcune colonne abbiamo una variazione significativa tra media e 50 percentile, con alte std come ad esempio \"total sulfur dioxide\"\toppure \"free sulfur dioxide\" questo significa che ci sono valori particolarmente distanti dalla media agli estremi.\n",
        "Si può notare anche che non sono stati rilevati vini con quality minore di 3 o maggiore di 8."
      ],
      "metadata": {
        "id": "_PLuxqSR9C5h"
      }
    },
    {
      "cell_type": "code",
      "source": [
        "data[\"quality\"].value_counts().plot.pie(autopct=\"%1.1f%%\",figsize=(10,8))"
      ],
      "metadata": {
        "id": "ZNfM-WMd9Ck9",
        "outputId": "77e05af8-1d0c-465a-aed0-cbd22b907bad",
        "colab": {
          "base_uri": "https://localhost:8080/",
          "height": 483
        }
      },
      "execution_count": 30,
      "outputs": [
        {
          "output_type": "execute_result",
          "data": {
            "text/plain": [
              "<matplotlib.axes._subplots.AxesSubplot at 0x7f5812109c50>"
            ]
          },
          "metadata": {},
          "execution_count": 30
        },
        {
          "output_type": "display_data",
          "data": {
            "text/plain": [
              "<Figure size 720x576 with 1 Axes>"
            ],
            "image/png": "[encoded data removed]"
          },
          "metadata": {}
        }
      ]
    },
    {
      "cell_type": "markdown",
      "source": [
        "Dal grafico possiamo vedere che le classi sono sbilancite e potrebbero essere necessarie tecniche di bilanciamento. "
      ],
      "metadata": {
        "id": "8m-UCZYfCz0G"
      }
    },
    {
      "cell_type": "code",
      "source": [
        "data.isna().sum()"
      ],
      "metadata": {
        "id": "VDURnVYLCzkm",
        "outputId": "8a02d553-3a25-4f23-bd50-2755b4831551",
        "colab": {
          "base_uri": "https://localhost:8080/"
        }
      },
      "execution_count": 7,
      "outputs": [
        {
          "output_type": "execute_result",
          "data": {
            "text/plain": [
              "fixed acidity           0\n",
              "volatile acidity        0\n",
              "citric acid             0\n",
              "residual sugar          0\n",
              "chlorides               0\n",
              "free sulfur dioxide     0\n",
              "total sulfur dioxide    0\n",
              "density                 0\n",
              "pH                      0\n",
              "sulphates               0\n",
              "alcohol                 0\n",
              "quality                 0\n",
              "dtype: int64"
            ]
          },
          "metadata": {},
          "execution_count": 7
        }
      ]
    },
    {
      "cell_type": "markdown",
      "source": [
        "Come possiamo vedere non sono presenti valori nulli su nessuna colonna. Il numero di dati presenti nel data set è:"
      ],
      "metadata": {
        "id": "mZpCRWc8DbcT"
      }
    },
    {
      "cell_type": "code",
      "source": [
        "data.shape"
      ],
      "metadata": {
        "id": "l5vjoJw6DbE0",
        "outputId": "3da6f7e2-25f3-47c9-b35d-723895d5b916",
        "colab": {
          "base_uri": "https://localhost:8080/"
        }
      },
      "execution_count": 8,
      "outputs": [
        {
          "output_type": "execute_result",
          "data": {
            "text/plain": [
              "(1143, 12)"
            ]
          },
          "metadata": {},
          "execution_count": 8
        }
      ]
    },
    {
      "cell_type": "markdown",
      "source": [
        "abbiamo 1143 record e 12 features."
      ],
      "metadata": {
        "id": "wesbGe50D8qv"
      }
    },
    {
      "cell_type": "markdown",
      "source": [
        "# Data exploration\n"
      ],
      "metadata": {
        "id": "FVtOBhh6Dp2Z"
      }
    },
    {
      "cell_type": "code",
      "source": [
        "data.columns"
      ],
      "metadata": {
        "id": "0Wl_h4CyIa0g",
        "outputId": "405e5d84-fb3b-4a8e-853a-3c011806eb88",
        "colab": {
          "base_uri": "https://localhost:8080/"
        }
      },
      "execution_count": 9,
      "outputs": [
        {
          "output_type": "execute_result",
          "data": {
            "text/plain": [
              "Index(['fixed acidity', 'volatile acidity', 'citric acid', 'residual sugar',\n",
              "       'chlorides', 'free sulfur dioxide', 'total sulfur dioxide', 'density',\n",
              "       'pH', 'sulphates', 'alcohol', 'quality'],\n",
              "      dtype='object')"
            ]
          },
          "metadata": {},
          "execution_count": 9
        }
      ]
    },
    {
      "cell_type": "code",
      "source": [
        "from ipywidgets import interact\n",
        "@interact(features=data.columns.drop(\"quality\"))\n",
        "def prepare_plot(features):\n",
        "    plt.figure(figsize=(20,20))\n",
        "    data.plot.scatter(x=\"quality\",y=features,title=features)    "
      ],
      "metadata": {
        "collapsed": true,
        "colab": {
          "base_uri": "https://localhost:8080/",
          "height": 344,
          "referenced_widgets": [
            "061fa8acedf84ae8b8bdc3052e3c1fcf",
            "afca55e705a34f07ab5c0445d5e67eb3",
            "b3e9410090d4442d8ba3bf2cf456f1b2",
            "34770f80364649b1a811be1a00892e15",
            "8782c02c85444142a3cde6b50f2a838a",
            "94e12d10873e4e1b843956d837041180",
            "5f16f40ba0ca41c792013643ceac97fc"
          ]
        },
        "id": "SE7KYXHK26uX",
        "outputId": "e7933837-8e2d-422e-c968-ddd4223560a9"
      },
      "execution_count": 10,
      "outputs": [
        {
          "output_type": "display_data",
          "data": {
            "text/plain": [
              "interactive(children=(Dropdown(description='features', options=('fixed acidity', 'volatile acidity', 'citric a…"
            ],
            "application/vnd.jupyter.widget-view+json": {
              "version_major": 2,
              "version_minor": 0,
              "model_id": "061fa8acedf84ae8b8bdc3052e3c1fcf"
            }
          },
          "metadata": {}
        }
      ]
    },
    {
      "cell_type": "code",
      "source": [
        "@interact(features=data.columns.drop(\"quality\"), quality=(data[\"quality\"].min(),data[\"quality\"].max(),1))\n",
        "def prepare_plot(features,quality):\n",
        "    plt.figure(figsize=(5,4))\n",
        "    data[features].where(data[\"quality\"]==quality).plot.hist(title=features)"
      ],
      "metadata": {
        "outputId": "70ee9854-0327-4b66-b831-e0a83d5e9982",
        "colab": {
          "base_uri": "https://localhost:8080/",
          "height": 345,
          "referenced_widgets": [
            "7dce15b3594f401e9fe69516246cc65e",
            "4023114e774e4e80b9b0283a932f22e3",
            "f5cd1355d8084058b97c486938f5e4f5",
            "5ab30d6fc5d741c69a0423d263db4e76",
            "74d03b94879742efaed7bce00beb1ef2",
            "69b6a507d9d443b4b4af44f625176a5d",
            "badf1f2a3db44521a8f9c6efd985182a",
            "5a8110cd85c040df81a97eacf7064537",
            "810c046d534749be9e98deb1a555fdf9",
            "3d752026ebaf4004b37363efe5b9c50b"
          ]
        },
        "id": "yGh_urrHC1B5"
      },
      "execution_count": 11,
      "outputs": [
        {
          "output_type": "display_data",
          "data": {
            "text/plain": [
              "interactive(children=(Dropdown(description='features', options=('fixed acidity', 'volatile acidity', 'citric a…"
            ],
            "application/vnd.jupyter.widget-view+json": {
              "version_major": 2,
              "version_minor": 0,
              "model_id": "7dce15b3594f401e9fe69516246cc65e"
            }
          },
          "metadata": {}
        }
      ]
    },
    {
      "cell_type": "markdown",
      "source": [
        "Costruiamo ora la matrice degli indici di correlazione tra le varie features."
      ],
      "metadata": {
        "id": "k6QubUKypLGB"
      }
    },
    {
      "cell_type": "code",
      "source": [
        "corr = data.corr()\n",
        "corr.style.background_gradient(cmap='coolwarm')"
      ],
      "metadata": {
        "id": "ip9MV8cELQJK",
        "outputId": "ed1ae8d9-1028-4c98-c4fe-6e8805246b33",
        "colab": {
          "base_uri": "https://localhost:8080/",
          "height": 426
        }
      },
      "execution_count": 12,
      "outputs": [
        {
          "output_type": "execute_result",
          "data": {
            "text/plain": [
              "<pandas.io.formats.style.Styler at 0x7f5822cf7b10>"
            ],
            "text/html": [
              "<style type=\"text/css\">\n",
              "#T_ae990_row0_col0, #T_ae990_row1_col1, #T_ae990_row2_col2, #T_ae990_row3_col3, #T_ae990_row4_col4, #T_ae990_row5_col5, #T_ae990_row6_col6, #T_ae990_row7_col7, #T_ae990_row8_col8, #T_ae990_row9_col9, #T_ae990_row10_col10, #T_ae990_row11_col11 {\n",
              "  background-color: #b40426;\n",
              "  color: #f1f1f1;\n",
              "}\n",
              "#T_ae990_row0_col1, #T_ae990_row2_col6 {\n",
              "  background-color: #779af7;\n",
              "  color: #f1f1f1;\n",
              "}\n",
              "#T_ae990_row0_col2, #T_ae990_row0_col7 {\n",
              "  background-color: #f08a6c;\n",
              "  color: #f1f1f1;\n",
              "}\n",
              "#T_ae990_row0_col3, #T_ae990_row1_col4 {\n",
              "  background-color: #90b2fe;\n",
              "  color: #000000;\n",
              "}\n",
              "#T_ae990_row0_col4 {\n",
              "  background-color: #9fbfff;\n",
              "  color: #000000;\n",
              "}\n",
              "#T_ae990_row0_col5, #T_ae990_row0_col8, #T_ae990_row1_col2, #T_ae990_row1_col9, #T_ae990_row1_col11, #T_ae990_row2_col1, #T_ae990_row7_col10, #T_ae990_row8_col0, #T_ae990_row8_col2, #T_ae990_row8_col3, #T_ae990_row8_col4, #T_ae990_row10_col6, #T_ae990_row10_col7 {\n",
              "  background-color: #3b4cc0;\n",
              "  color: #f1f1f1;\n",
              "}\n",
              "#T_ae990_row0_col6 {\n",
              "  background-color: #4e68d8;\n",
              "  color: #f1f1f1;\n",
              "}\n",
              "#T_ae990_row0_col9 {\n",
              "  background-color: #b1cbfc;\n",
              "  color: #000000;\n",
              "}\n",
              "#T_ae990_row0_col10 {\n",
              "  background-color: #97b8ff;\n",
              "  color: #000000;\n",
              "}\n",
              "#T_ae990_row0_col11, #T_ae990_row6_col2, #T_ae990_row11_col8 {\n",
              "  background-color: #b9d0f9;\n",
              "  color: #000000;\n",
              "}\n",
              "#T_ae990_row1_col0, #T_ae990_row6_col4 {\n",
              "  background-color: #8fb1fe;\n",
              "  color: #000000;\n",
              "}\n",
              "#T_ae990_row1_col3, #T_ae990_row10_col5 {\n",
              "  background-color: #5977e3;\n",
              "  color: #f1f1f1;\n",
              "}\n",
              "#T_ae990_row1_col5 {\n",
              "  background-color: #6687ed;\n",
              "  color: #f1f1f1;\n",
              "}\n",
              "#T_ae990_row1_col6 {\n",
              "  background-color: #84a7fc;\n",
              "  color: #f1f1f1;\n",
              "}\n",
              "#T_ae990_row1_col7, #T_ae990_row6_col0 {\n",
              "  background-color: #adc9fd;\n",
              "  color: #000000;\n",
              "}\n",
              "#T_ae990_row1_col8 {\n",
              "  background-color: #e6d7cf;\n",
              "  color: #000000;\n",
              "}\n",
              "#T_ae990_row1_col10 {\n",
              "  background-color: #799cf8;\n",
              "  color: #f1f1f1;\n",
              "}\n",
              "#T_ae990_row2_col0 {\n",
              "  background-color: #ec8165;\n",
              "  color: #f1f1f1;\n",
              "}\n",
              "#T_ae990_row2_col3 {\n",
              "  background-color: #92b4fe;\n",
              "  color: #000000;\n",
              "}\n",
              "#T_ae990_row2_col4 {\n",
              "  background-color: #c3d5f4;\n",
              "  color: #000000;\n",
              "}\n",
              "#T_ae990_row2_col5 {\n",
              "  background-color: #5673e0;\n",
              "  color: #f1f1f1;\n",
              "}\n",
              "#T_ae990_row2_col7 {\n",
              "  background-color: #efcfbf;\n",
              "  color: #000000;\n",
              "}\n",
              "#T_ae990_row2_col8 {\n",
              "  background-color: #5470de;\n",
              "  color: #f1f1f1;\n",
              "}\n",
              "#T_ae990_row2_col9 {\n",
              "  background-color: #d6dce4;\n",
              "  color: #000000;\n",
              "}\n",
              "#T_ae990_row2_col10 {\n",
              "  background-color: #c0d4f5;\n",
              "  color: #000000;\n",
              "}\n",
              "#T_ae990_row2_col11 {\n",
              "  background-color: #d2dbe8;\n",
              "  color: #000000;\n",
              "}\n",
              "#T_ae990_row3_col0, #T_ae990_row4_col9, #T_ae990_row9_col0, #T_ae990_row9_col4, #T_ae990_row11_col2 {\n",
              "  background-color: #dfdbd9;\n",
              "  color: #000000;\n",
              "}\n",
              "#T_ae990_row3_col1, #T_ae990_row5_col1 {\n",
              "  background-color: #afcafc;\n",
              "  color: #000000;\n",
              "}\n",
              "#T_ae990_row3_col2 {\n",
              "  background-color: #d4dbe6;\n",
              "  color: #000000;\n",
              "}\n",
              "#T_ae990_row3_col4 {\n",
              "  background-color: #94b6ff;\n",
              "  color: #000000;\n",
              "}\n",
              "#T_ae990_row3_col5 {\n",
              "  background-color: #98b9ff;\n",
              "  color: #000000;\n",
              "}\n",
              "#T_ae990_row3_col6 {\n",
              "  background-color: #a5c3fe;\n",
              "  color: #000000;\n",
              "}\n",
              "#T_ae990_row3_col7 {\n",
              "  background-color: #efcebd;\n",
              "  color: #000000;\n",
              "}\n",
              "#T_ae990_row3_col8 {\n",
              "  background-color: #abc8fd;\n",
              "  color: #000000;\n",
              "}\n",
              "#T_ae990_row3_col9, #T_ae990_row5_col4 {\n",
              "  background-color: #85a8fc;\n",
              "  color: #f1f1f1;\n",
              "}\n",
              "#T_ae990_row3_col10 {\n",
              "  background-color: #b6cefa;\n",
              "  color: #000000;\n",
              "}\n",
              "#T_ae990_row3_col11 {\n",
              "  background-color: #a1c0ff;\n",
              "  color: #000000;\n",
              "}\n",
              "#T_ae990_row4_col0, #T_ae990_row4_col7, #T_ae990_row9_col11 {\n",
              "  background-color: #d5dbe5;\n",
              "  color: #000000;\n",
              "}\n",
              "#T_ae990_row4_col1 {\n",
              "  background-color: #bcd2f7;\n",
              "  color: #000000;\n",
              "}\n",
              "#T_ae990_row4_col2 {\n",
              "  background-color: #e0dbd8;\n",
              "  color: #000000;\n",
              "}\n",
              "#T_ae990_row4_col3, #T_ae990_row9_col5 {\n",
              "  background-color: #7093f3;\n",
              "  color: #f1f1f1;\n",
              "}\n",
              "#T_ae990_row4_col5 {\n",
              "  background-color: #6b8df0;\n",
              "  color: #f1f1f1;\n",
              "}\n",
              "#T_ae990_row4_col6, #T_ae990_row7_col8 {\n",
              "  background-color: #7a9df8;\n",
              "  color: #f1f1f1;\n",
              "}\n",
              "#T_ae990_row4_col8 {\n",
              "  background-color: #89acfd;\n",
              "  color: #000000;\n",
              "}\n",
              "#T_ae990_row4_col10 {\n",
              "  background-color: #7396f5;\n",
              "  color: #f1f1f1;\n",
              "}\n",
              "#T_ae990_row4_col11, #T_ae990_row7_col6 {\n",
              "  background-color: #7b9ff9;\n",
              "  color: #f1f1f1;\n",
              "}\n",
              "#T_ae990_row5_col0 {\n",
              "  background-color: #a2c1ff;\n",
              "  color: #000000;\n",
              "}\n",
              "#T_ae990_row5_col2 {\n",
              "  background-color: #a3c2fe;\n",
              "  color: #000000;\n",
              "}\n",
              "#T_ae990_row5_col3, #T_ae990_row8_col11 {\n",
              "  background-color: #8db0fe;\n",
              "  color: #000000;\n",
              "}\n",
              "#T_ae990_row5_col6 {\n",
              "  background-color: #f7a889;\n",
              "  color: #000000;\n",
              "}\n",
              "#T_ae990_row5_col7, #T_ae990_row9_col8 {\n",
              "  background-color: #9dbdff;\n",
              "  color: #000000;\n",
              "}\n",
              "#T_ae990_row5_col8 {\n",
              "  background-color: #cfdaea;\n",
              "  color: #000000;\n",
              "}\n",
              "#T_ae990_row5_col9, #T_ae990_row5_col11 {\n",
              "  background-color: #8badfd;\n",
              "  color: #000000;\n",
              "}\n",
              "#T_ae990_row5_col10 {\n",
              "  background-color: #9ebeff;\n",
              "  color: #000000;\n",
              "}\n",
              "#T_ae990_row6_col1 {\n",
              "  background-color: #c1d4f4;\n",
              "  color: #000000;\n",
              "}\n",
              "#T_ae990_row6_col3 {\n",
              "  background-color: #96b7ff;\n",
              "  color: #000000;\n",
              "}\n",
              "#T_ae990_row6_col5 {\n",
              "  background-color: #f7a98b;\n",
              "  color: #000000;\n",
              "}\n",
              "#T_ae990_row6_col7 {\n",
              "  background-color: #b5cdfa;\n",
              "  color: #000000;\n",
              "}\n",
              "#T_ae990_row6_col8 {\n",
              "  background-color: #b7cff9;\n",
              "  color: #000000;\n",
              "}\n",
              "#T_ae990_row6_col9 {\n",
              "  background-color: #88abfd;\n",
              "  color: #000000;\n",
              "}\n",
              "#T_ae990_row6_col10, #T_ae990_row8_col5 {\n",
              "  background-color: #7da0f9;\n",
              "  color: #f1f1f1;\n",
              "}\n",
              "#T_ae990_row6_col11, #T_ae990_row10_col3 {\n",
              "  background-color: #6c8ff1;\n",
              "  color: #f1f1f1;\n",
              "}\n",
              "#T_ae990_row7_col0 {\n",
              "  background-color: #ec7f63;\n",
              "  color: #f1f1f1;\n",
              "}\n",
              "#T_ae990_row7_col1, #T_ae990_row10_col0 {\n",
              "  background-color: #b3cdfb;\n",
              "  color: #000000;\n",
              "}\n",
              "#T_ae990_row7_col2 {\n",
              "  background-color: #f1ccb8;\n",
              "  color: #000000;\n",
              "}\n",
              "#T_ae990_row7_col3 {\n",
              "  background-color: #cdd9ec;\n",
              "  color: #000000;\n",
              "}\n",
              "#T_ae990_row7_col4 {\n",
              "  background-color: #bad0f8;\n",
              "  color: #000000;\n",
              "}\n",
              "#T_ae990_row7_col5, #T_ae990_row8_col7 {\n",
              "  background-color: #5875e1;\n",
              "  color: #f1f1f1;\n",
              "}\n",
              "#T_ae990_row7_col9 {\n",
              "  background-color: #a9c6fd;\n",
              "  color: #000000;\n",
              "}\n",
              "#T_ae990_row7_col11 {\n",
              "  background-color: #6f92f3;\n",
              "  color: #f1f1f1;\n",
              "}\n",
              "#T_ae990_row8_col1 {\n",
              "  background-color: #dbdcde;\n",
              "  color: #000000;\n",
              "}\n",
              "#T_ae990_row8_col6 {\n",
              "  background-color: #5b7ae5;\n",
              "  color: #f1f1f1;\n",
              "}\n",
              "#T_ae990_row8_col9 {\n",
              "  background-color: #506bda;\n",
              "  color: #f1f1f1;\n",
              "}\n",
              "#T_ae990_row8_col10 {\n",
              "  background-color: #d8dce2;\n",
              "  color: #000000;\n",
              "}\n",
              "#T_ae990_row9_col1 {\n",
              "  background-color: #7295f4;\n",
              "  color: #f1f1f1;\n",
              "}\n",
              "#T_ae990_row9_col2 {\n",
              "  background-color: #edd2c3;\n",
              "  color: #000000;\n",
              "}\n",
              "#T_ae990_row9_col3, #T_ae990_row11_col4 {\n",
              "  background-color: #5f7fe8;\n",
              "  color: #f1f1f1;\n",
              "}\n",
              "#T_ae990_row9_col6 {\n",
              "  background-color: #7597f6;\n",
              "  color: #f1f1f1;\n",
              "}\n",
              "#T_ae990_row9_col7 {\n",
              "  background-color: #c9d7f0;\n",
              "  color: #000000;\n",
              "}\n",
              "#T_ae990_row9_col10 {\n",
              "  background-color: #bed2f6;\n",
              "  color: #000000;\n",
              "}\n",
              "#T_ae990_row10_col1 {\n",
              "  background-color: #82a6fb;\n",
              "  color: #f1f1f1;\n",
              "}\n",
              "#T_ae990_row10_col2 {\n",
              "  background-color: #c7d7f0;\n",
              "  color: #000000;\n",
              "}\n",
              "#T_ae990_row10_col4 {\n",
              "  background-color: #455cce;\n",
              "  color: #f1f1f1;\n",
              "}\n",
              "#T_ae990_row10_col8 {\n",
              "  background-color: #e7d7ce;\n",
              "  color: #000000;\n",
              "}\n",
              "#T_ae990_row10_col9 {\n",
              "  background-color: #9bbcff;\n",
              "  color: #000000;\n",
              "}\n",
              "#T_ae990_row10_col11 {\n",
              "  background-color: #f5c1a9;\n",
              "  color: #000000;\n",
              "}\n",
              "#T_ae990_row11_col0 {\n",
              "  background-color: #d7dce3;\n",
              "  color: #000000;\n",
              "}\n",
              "#T_ae990_row11_col1, #T_ae990_row11_col5 {\n",
              "  background-color: #5572df;\n",
              "  color: #f1f1f1;\n",
              "}\n",
              "#T_ae990_row11_col3 {\n",
              "  background-color: #6180e9;\n",
              "  color: #f1f1f1;\n",
              "}\n",
              "#T_ae990_row11_col6 {\n",
              "  background-color: #3c4ec2;\n",
              "  color: #f1f1f1;\n",
              "}\n",
              "#T_ae990_row11_col7 {\n",
              "  background-color: #80a3fa;\n",
              "  color: #f1f1f1;\n",
              "}\n",
              "#T_ae990_row11_col9 {\n",
              "  background-color: #c6d6f1;\n",
              "  color: #000000;\n",
              "}\n",
              "#T_ae990_row11_col10 {\n",
              "  background-color: #f7bca1;\n",
              "  color: #000000;\n",
              "}\n",
              "</style>\n",
              "<table id=\"T_ae990_\" class=\"dataframe\">\n",
              "  <thead>\n",
              "    <tr>\n",
              "      <th class=\"blank level0\" >&nbsp;</th>\n",
              "      <th class=\"col_heading level0 col0\" >fixed acidity</th>\n",
              "      <th class=\"col_heading level0 col1\" >volatile acidity</th>\n",
              "      <th class=\"col_heading level0 col2\" >citric acid</th>\n",
              "      <th class=\"col_heading level0 col3\" >residual sugar</th>\n",
              "      <th class=\"col_heading level0 col4\" >chlorides</th>\n",
              "      <th class=\"col_heading level0 col5\" >free sulfur dioxide</th>\n",
              "      <th class=\"col_heading level0 col6\" >total sulfur dioxide</th>\n",
              "      <th class=\"col_heading level0 col7\" >density</th>\n",
              "      <th class=\"col_heading level0 col8\" >pH</th>\n",
              "      <th class=\"col_heading level0 col9\" >sulphates</th>\n",
              "      <th class=\"col_heading level0 col10\" >alcohol</th>\n",
              "      <th class=\"col_heading level0 col11\" >quality</th>\n",
              "    </tr>\n",
              "  </thead>\n",
              "  <tbody>\n",
              "    <tr>\n",
              "      <th id=\"T_ae990_level0_row0\" class=\"row_heading level0 row0\" >fixed acidity</th>\n",
              "      <td id=\"T_ae990_row0_col0\" class=\"data row0 col0\" >1.000000</td>\n",
              "      <td id=\"T_ae990_row0_col1\" class=\"data row0 col1\" >-0.250728</td>\n",
              "      <td id=\"T_ae990_row0_col2\" class=\"data row0 col2\" >0.673157</td>\n",
              "      <td id=\"T_ae990_row0_col3\" class=\"data row0 col3\" >0.171831</td>\n",
              "      <td id=\"T_ae990_row0_col4\" class=\"data row0 col4\" >0.107889</td>\n",
              "      <td id=\"T_ae990_row0_col5\" class=\"data row0 col5\" >-0.164831</td>\n",
              "      <td id=\"T_ae990_row0_col6\" class=\"data row0 col6\" >-0.110628</td>\n",
              "      <td id=\"T_ae990_row0_col7\" class=\"data row0 col7\" >0.681501</td>\n",
              "      <td id=\"T_ae990_row0_col8\" class=\"data row0 col8\" >-0.685163</td>\n",
              "      <td id=\"T_ae990_row0_col9\" class=\"data row0 col9\" >0.174592</td>\n",
              "      <td id=\"T_ae990_row0_col10\" class=\"data row0 col10\" >-0.075055</td>\n",
              "      <td id=\"T_ae990_row0_col11\" class=\"data row0 col11\" >0.121970</td>\n",
              "    </tr>\n",
              "    <tr>\n",
              "      <th id=\"T_ae990_level0_row1\" class=\"row_heading level0 row1\" >volatile acidity</th>\n",
              "      <td id=\"T_ae990_row1_col0\" class=\"data row1 col0\" >-0.250728</td>\n",
              "      <td id=\"T_ae990_row1_col1\" class=\"data row1 col1\" >1.000000</td>\n",
              "      <td id=\"T_ae990_row1_col2\" class=\"data row1 col2\" >-0.544187</td>\n",
              "      <td id=\"T_ae990_row1_col3\" class=\"data row1 col3\" >-0.005751</td>\n",
              "      <td id=\"T_ae990_row1_col4\" class=\"data row1 col4\" >0.056336</td>\n",
              "      <td id=\"T_ae990_row1_col5\" class=\"data row1 col5\" >-0.001962</td>\n",
              "      <td id=\"T_ae990_row1_col6\" class=\"data row1 col6\" >0.077748</td>\n",
              "      <td id=\"T_ae990_row1_col7\" class=\"data row1 col7\" >0.016512</td>\n",
              "      <td id=\"T_ae990_row1_col8\" class=\"data row1 col8\" >0.221492</td>\n",
              "      <td id=\"T_ae990_row1_col9\" class=\"data row1 col9\" >-0.276079</td>\n",
              "      <td id=\"T_ae990_row1_col10\" class=\"data row1 col10\" >-0.203909</td>\n",
              "      <td id=\"T_ae990_row1_col11\" class=\"data row1 col11\" >-0.407394</td>\n",
              "    </tr>\n",
              "    <tr>\n",
              "      <th id=\"T_ae990_level0_row2\" class=\"row_heading level0 row2\" >citric acid</th>\n",
              "      <td id=\"T_ae990_row2_col0\" class=\"data row2 col0\" >0.673157</td>\n",
              "      <td id=\"T_ae990_row2_col1\" class=\"data row2 col1\" >-0.544187</td>\n",
              "      <td id=\"T_ae990_row2_col2\" class=\"data row2 col2\" >1.000000</td>\n",
              "      <td id=\"T_ae990_row2_col3\" class=\"data row2 col3\" >0.175815</td>\n",
              "      <td id=\"T_ae990_row2_col4\" class=\"data row2 col4\" >0.245312</td>\n",
              "      <td id=\"T_ae990_row2_col5\" class=\"data row2 col5\" >-0.057589</td>\n",
              "      <td id=\"T_ae990_row2_col6\" class=\"data row2 col6\" >0.036871</td>\n",
              "      <td id=\"T_ae990_row2_col7\" class=\"data row2 col7\" >0.375243</td>\n",
              "      <td id=\"T_ae990_row2_col8\" class=\"data row2 col8\" >-0.546339</td>\n",
              "      <td id=\"T_ae990_row2_col9\" class=\"data row2 col9\" >0.331232</td>\n",
              "      <td id=\"T_ae990_row2_col10\" class=\"data row2 col10\" >0.106250</td>\n",
              "      <td id=\"T_ae990_row2_col11\" class=\"data row2 col11\" >0.240821</td>\n",
              "    </tr>\n",
              "    <tr>\n",
              "      <th id=\"T_ae990_level0_row3\" class=\"row_heading level0 row3\" >residual sugar</th>\n",
              "      <td id=\"T_ae990_row3_col0\" class=\"data row3 col0\" >0.171831</td>\n",
              "      <td id=\"T_ae990_row3_col1\" class=\"data row3 col1\" >-0.005751</td>\n",
              "      <td id=\"T_ae990_row3_col2\" class=\"data row3 col2\" >0.175815</td>\n",
              "      <td id=\"T_ae990_row3_col3\" class=\"data row3 col3\" >1.000000</td>\n",
              "      <td id=\"T_ae990_row3_col4\" class=\"data row3 col4\" >0.070863</td>\n",
              "      <td id=\"T_ae990_row3_col5\" class=\"data row3 col5\" >0.165339</td>\n",
              "      <td id=\"T_ae990_row3_col6\" class=\"data row3 col6\" >0.190790</td>\n",
              "      <td id=\"T_ae990_row3_col7\" class=\"data row3 col7\" >0.380147</td>\n",
              "      <td id=\"T_ae990_row3_col8\" class=\"data row3 col8\" >-0.116959</td>\n",
              "      <td id=\"T_ae990_row3_col9\" class=\"data row3 col9\" >0.017475</td>\n",
              "      <td id=\"T_ae990_row3_col10\" class=\"data row3 col10\" >0.058421</td>\n",
              "      <td id=\"T_ae990_row3_col11\" class=\"data row3 col11\" >0.022002</td>\n",
              "    </tr>\n",
              "    <tr>\n",
              "      <th id=\"T_ae990_level0_row4\" class=\"row_heading level0 row4\" >chlorides</th>\n",
              "      <td id=\"T_ae990_row4_col0\" class=\"data row4 col0\" >0.107889</td>\n",
              "      <td id=\"T_ae990_row4_col1\" class=\"data row4 col1\" >0.056336</td>\n",
              "      <td id=\"T_ae990_row4_col2\" class=\"data row4 col2\" >0.245312</td>\n",
              "      <td id=\"T_ae990_row4_col3\" class=\"data row4 col3\" >0.070863</td>\n",
              "      <td id=\"T_ae990_row4_col4\" class=\"data row4 col4\" >1.000000</td>\n",
              "      <td id=\"T_ae990_row4_col5\" class=\"data row4 col5\" >0.015280</td>\n",
              "      <td id=\"T_ae990_row4_col6\" class=\"data row4 col6\" >0.048163</td>\n",
              "      <td id=\"T_ae990_row4_col7\" class=\"data row4 col7\" >0.208901</td>\n",
              "      <td id=\"T_ae990_row4_col8\" class=\"data row4 col8\" >-0.277759</td>\n",
              "      <td id=\"T_ae990_row4_col9\" class=\"data row4 col9\" >0.374784</td>\n",
              "      <td id=\"T_ae990_row4_col10\" class=\"data row4 col10\" >-0.229917</td>\n",
              "      <td id=\"T_ae990_row4_col11\" class=\"data row4 col11\" >-0.124085</td>\n",
              "    </tr>\n",
              "    <tr>\n",
              "      <th id=\"T_ae990_level0_row5\" class=\"row_heading level0 row5\" >free sulfur dioxide</th>\n",
              "      <td id=\"T_ae990_row5_col0\" class=\"data row5 col0\" >-0.164831</td>\n",
              "      <td id=\"T_ae990_row5_col1\" class=\"data row5 col1\" >-0.001962</td>\n",
              "      <td id=\"T_ae990_row5_col2\" class=\"data row5 col2\" >-0.057589</td>\n",
              "      <td id=\"T_ae990_row5_col3\" class=\"data row5 col3\" >0.165339</td>\n",
              "      <td id=\"T_ae990_row5_col4\" class=\"data row5 col4\" >0.015280</td>\n",
              "      <td id=\"T_ae990_row5_col5\" class=\"data row5 col5\" >1.000000</td>\n",
              "      <td id=\"T_ae990_row5_col6\" class=\"data row5 col6\" >0.661093</td>\n",
              "      <td id=\"T_ae990_row5_col7\" class=\"data row5 col7\" >-0.054150</td>\n",
              "      <td id=\"T_ae990_row5_col8\" class=\"data row5 col8\" >0.072804</td>\n",
              "      <td id=\"T_ae990_row5_col9\" class=\"data row5 col9\" >0.034445</td>\n",
              "      <td id=\"T_ae990_row5_col10\" class=\"data row5 col10\" >-0.047095</td>\n",
              "      <td id=\"T_ae990_row5_col11\" class=\"data row5 col11\" >-0.063260</td>\n",
              "    </tr>\n",
              "    <tr>\n",
              "      <th id=\"T_ae990_level0_row6\" class=\"row_heading level0 row6\" >total sulfur dioxide</th>\n",
              "      <td id=\"T_ae990_row6_col0\" class=\"data row6 col0\" >-0.110628</td>\n",
              "      <td id=\"T_ae990_row6_col1\" class=\"data row6 col1\" >0.077748</td>\n",
              "      <td id=\"T_ae990_row6_col2\" class=\"data row6 col2\" >0.036871</td>\n",
              "      <td id=\"T_ae990_row6_col3\" class=\"data row6 col3\" >0.190790</td>\n",
              "      <td id=\"T_ae990_row6_col4\" class=\"data row6 col4\" >0.048163</td>\n",
              "      <td id=\"T_ae990_row6_col5\" class=\"data row6 col5\" >0.661093</td>\n",
              "      <td id=\"T_ae990_row6_col6\" class=\"data row6 col6\" >1.000000</td>\n",
              "      <td id=\"T_ae990_row6_col7\" class=\"data row6 col7\" >0.050175</td>\n",
              "      <td id=\"T_ae990_row6_col8\" class=\"data row6 col8\" >-0.059126</td>\n",
              "      <td id=\"T_ae990_row6_col9\" class=\"data row6 col9\" >0.026894</td>\n",
              "      <td id=\"T_ae990_row6_col10\" class=\"data row6 col10\" >-0.188165</td>\n",
              "      <td id=\"T_ae990_row6_col11\" class=\"data row6 col11\" >-0.183339</td>\n",
              "    </tr>\n",
              "    <tr>\n",
              "      <th id=\"T_ae990_level0_row7\" class=\"row_heading level0 row7\" >density</th>\n",
              "      <td id=\"T_ae990_row7_col0\" class=\"data row7 col0\" >0.681501</td>\n",
              "      <td id=\"T_ae990_row7_col1\" class=\"data row7 col1\" >0.016512</td>\n",
              "      <td id=\"T_ae990_row7_col2\" class=\"data row7 col2\" >0.375243</td>\n",
              "      <td id=\"T_ae990_row7_col3\" class=\"data row7 col3\" >0.380147</td>\n",
              "      <td id=\"T_ae990_row7_col4\" class=\"data row7 col4\" >0.208901</td>\n",
              "      <td id=\"T_ae990_row7_col5\" class=\"data row7 col5\" >-0.054150</td>\n",
              "      <td id=\"T_ae990_row7_col6\" class=\"data row7 col6\" >0.050175</td>\n",
              "      <td id=\"T_ae990_row7_col7\" class=\"data row7 col7\" >1.000000</td>\n",
              "      <td id=\"T_ae990_row7_col8\" class=\"data row7 col8\" >-0.352775</td>\n",
              "      <td id=\"T_ae990_row7_col9\" class=\"data row7 col9\" >0.143139</td>\n",
              "      <td id=\"T_ae990_row7_col10\" class=\"data row7 col10\" >-0.494727</td>\n",
              "      <td id=\"T_ae990_row7_col11\" class=\"data row7 col11\" >-0.175208</td>\n",
              "    </tr>\n",
              "    <tr>\n",
              "      <th id=\"T_ae990_level0_row8\" class=\"row_heading level0 row8\" >pH</th>\n",
              "      <td id=\"T_ae990_row8_col0\" class=\"data row8 col0\" >-0.685163</td>\n",
              "      <td id=\"T_ae990_row8_col1\" class=\"data row8 col1\" >0.221492</td>\n",
              "      <td id=\"T_ae990_row8_col2\" class=\"data row8 col2\" >-0.546339</td>\n",
              "      <td id=\"T_ae990_row8_col3\" class=\"data row8 col3\" >-0.116959</td>\n",
              "      <td id=\"T_ae990_row8_col4\" class=\"data row8 col4\" >-0.277759</td>\n",
              "      <td id=\"T_ae990_row8_col5\" class=\"data row8 col5\" >0.072804</td>\n",
              "      <td id=\"T_ae990_row8_col6\" class=\"data row8 col6\" >-0.059126</td>\n",
              "      <td id=\"T_ae990_row8_col7\" class=\"data row8 col7\" >-0.352775</td>\n",
              "      <td id=\"T_ae990_row8_col8\" class=\"data row8 col8\" >1.000000</td>\n",
              "      <td id=\"T_ae990_row8_col9\" class=\"data row8 col9\" >-0.185499</td>\n",
              "      <td id=\"T_ae990_row8_col10\" class=\"data row8 col10\" >0.225322</td>\n",
              "      <td id=\"T_ae990_row8_col11\" class=\"data row8 col11\" >-0.052453</td>\n",
              "    </tr>\n",
              "    <tr>\n",
              "      <th id=\"T_ae990_level0_row9\" class=\"row_heading level0 row9\" >sulphates</th>\n",
              "      <td id=\"T_ae990_row9_col0\" class=\"data row9 col0\" >0.174592</td>\n",
              "      <td id=\"T_ae990_row9_col1\" class=\"data row9 col1\" >-0.276079</td>\n",
              "      <td id=\"T_ae990_row9_col2\" class=\"data row9 col2\" >0.331232</td>\n",
              "      <td id=\"T_ae990_row9_col3\" class=\"data row9 col3\" >0.017475</td>\n",
              "      <td id=\"T_ae990_row9_col4\" class=\"data row9 col4\" >0.374784</td>\n",
              "      <td id=\"T_ae990_row9_col5\" class=\"data row9 col5\" >0.034445</td>\n",
              "      <td id=\"T_ae990_row9_col6\" class=\"data row9 col6\" >0.026894</td>\n",
              "      <td id=\"T_ae990_row9_col7\" class=\"data row9 col7\" >0.143139</td>\n",
              "      <td id=\"T_ae990_row9_col8\" class=\"data row9 col8\" >-0.185499</td>\n",
              "      <td id=\"T_ae990_row9_col9\" class=\"data row9 col9\" >1.000000</td>\n",
              "      <td id=\"T_ae990_row9_col10\" class=\"data row9 col10\" >0.094421</td>\n",
              "      <td id=\"T_ae990_row9_col11\" class=\"data row9 col11\" >0.257710</td>\n",
              "    </tr>\n",
              "    <tr>\n",
              "      <th id=\"T_ae990_level0_row10\" class=\"row_heading level0 row10\" >alcohol</th>\n",
              "      <td id=\"T_ae990_row10_col0\" class=\"data row10 col0\" >-0.075055</td>\n",
              "      <td id=\"T_ae990_row10_col1\" class=\"data row10 col1\" >-0.203909</td>\n",
              "      <td id=\"T_ae990_row10_col2\" class=\"data row10 col2\" >0.106250</td>\n",
              "      <td id=\"T_ae990_row10_col3\" class=\"data row10 col3\" >0.058421</td>\n",
              "      <td id=\"T_ae990_row10_col4\" class=\"data row10 col4\" >-0.229917</td>\n",
              "      <td id=\"T_ae990_row10_col5\" class=\"data row10 col5\" >-0.047095</td>\n",
              "      <td id=\"T_ae990_row10_col6\" class=\"data row10 col6\" >-0.188165</td>\n",
              "      <td id=\"T_ae990_row10_col7\" class=\"data row10 col7\" >-0.494727</td>\n",
              "      <td id=\"T_ae990_row10_col8\" class=\"data row10 col8\" >0.225322</td>\n",
              "      <td id=\"T_ae990_row10_col9\" class=\"data row10 col9\" >0.094421</td>\n",
              "      <td id=\"T_ae990_row10_col10\" class=\"data row10 col10\" >1.000000</td>\n",
              "      <td id=\"T_ae990_row10_col11\" class=\"data row10 col11\" >0.484866</td>\n",
              "    </tr>\n",
              "    <tr>\n",
              "      <th id=\"T_ae990_level0_row11\" class=\"row_heading level0 row11\" >quality</th>\n",
              "      <td id=\"T_ae990_row11_col0\" class=\"data row11 col0\" >0.121970</td>\n",
              "      <td id=\"T_ae990_row11_col1\" class=\"data row11 col1\" >-0.407394</td>\n",
              "      <td id=\"T_ae990_row11_col2\" class=\"data row11 col2\" >0.240821</td>\n",
              "      <td id=\"T_ae990_row11_col3\" class=\"data row11 col3\" >0.022002</td>\n",
              "      <td id=\"T_ae990_row11_col4\" class=\"data row11 col4\" >-0.124085</td>\n",
              "      <td id=\"T_ae990_row11_col5\" class=\"data row11 col5\" >-0.063260</td>\n",
              "      <td id=\"T_ae990_row11_col6\" class=\"data row11 col6\" >-0.183339</td>\n",
              "      <td id=\"T_ae990_row11_col7\" class=\"data row11 col7\" >-0.175208</td>\n",
              "      <td id=\"T_ae990_row11_col8\" class=\"data row11 col8\" >-0.052453</td>\n",
              "      <td id=\"T_ae990_row11_col9\" class=\"data row11 col9\" >0.257710</td>\n",
              "      <td id=\"T_ae990_row11_col10\" class=\"data row11 col10\" >0.484866</td>\n",
              "      <td id=\"T_ae990_row11_col11\" class=\"data row11 col11\" >1.000000</td>\n",
              "    </tr>\n",
              "  </tbody>\n",
              "</table>\n"
            ]
          },
          "metadata": {},
          "execution_count": 12
        }
      ]
    },
    {
      "cell_type": "markdown",
      "source": [
        "Dalla tabella si possono notare alcune dipendenze tra le variabili di input, che verranno gestite in seguito attraverso regolarizzazione.\n"
      ],
      "metadata": {
        "id": "7uj9Myd2shoH"
      }
    },
    {
      "cell_type": "markdown",
      "source": [
        "Possiamo notare che con l'aggiunta di features polinomiali che in generale ad alte concentrazioni di alcohol e densità corrisponde un valore maggiore di qualità."
      ],
      "metadata": {
        "id": "Uu6Fl6SyWJvd"
      }
    },
    {
      "cell_type": "code",
      "source": [
        "from pandas.core.frame import DataFrame\n",
        "from sklearn.preprocessing import PolynomialFeatures\n",
        "p = PolynomialFeatures(degree=2,include_bias=False)\n",
        "d2data = p.fit_transform(data)\n",
        "d2frame = DataFrame(d2data,index=data.index,columns=p.get_feature_names_out(data.columns))\n",
        "d2frame.corr()[\"quality\"].sort_values(ascending=False)[7:15]\n"
      ],
      "metadata": {
        "colab": {
          "base_uri": "https://localhost:8080/"
        },
        "id": "5r7oGcx8otZN",
        "outputId": "1d00724a-2235-4cbf-d509-9517fb14ac13"
      },
      "execution_count": 13,
      "outputs": [
        {
          "output_type": "execute_result",
          "data": {
            "text/plain": [
              "density alcohol          0.486064\n",
              "alcohol                  0.484866\n",
              "alcohol^2                0.479769\n",
              "citric acid quality      0.422371\n",
              "sulphates alcohol        0.421844\n",
              "pH alcohol               0.382603\n",
              "fixed acidity alcohol    0.320437\n",
              "citric acid alcohol      0.309092\n",
              "Name: quality, dtype: float64"
            ]
          },
          "metadata": {},
          "execution_count": 13
        }
      ]
    },
    {
      "cell_type": "markdown",
      "source": [
        "Vediamo con un grafico scatter possibili correlazioni tra più features e quality:"
      ],
      "metadata": {
        "id": "m8Znj-E4Yy96"
      }
    },
    {
      "cell_type": "code",
      "source": [
        "@interact(features1=data.columns.drop(\"quality\"), features2=data.columns.drop(\"quality\"))\n",
        "def prepare_plot(features1,features2):\n",
        "    plt.figure(figsize=(10,8))\n",
        "    a=plt.scatter(data[features1],data[features2],c=data[\"quality\"])\n",
        "    plt.colorbar(a)"
      ],
      "metadata": {
        "id": "zysghAbtWhse",
        "outputId": "99584eae-a070-4153-b77c-b67aa3442d37",
        "colab": {
          "base_uri": "https://localhost:8080/",
          "height": 551,
          "referenced_widgets": [
            "ad54f26e4ec241118e27b27413ee8ad9",
            "3ad03b3b61da4858b7b2e8d7648b99e6",
            "90dce321156a457786467a377a5a3f67",
            "938f4550af6e4edea09c5ba656105554",
            "a029263fd2b24391ba748fd8566c2910",
            "e2a2a55f19ea4d65bcbafdd67e29982e",
            "33a35f4352ed47e5bca430616722c60f",
            "a5ca911b150742c2b33eb6bc31108d51",
            "a803fbb02ebd4659abadd5d109f3e53a",
            "f82a8bea0a0647918e1142a6e0bffcf5"
          ]
        }
      },
      "execution_count": 38,
      "outputs": [
        {
          "output_type": "display_data",
          "data": {
            "text/plain": [
              "interactive(children=(Dropdown(description='features1', options=('fixed acidity', 'volatile acidity', 'citric …"
            ],
            "application/vnd.jupyter.widget-view+json": {
              "version_major": 2,
              "version_minor": 0,
              "model_id": "ad54f26e4ec241118e27b27413ee8ad9"
            }
          },
          "metadata": {}
        }
      ]
    },
    {
      "cell_type": "markdown",
      "source": [
        "Puliamo la tabella dai valori non interessanti e ordianiamo i valori linearmente correlati con la features quality:"
      ],
      "metadata": {
        "id": "E_QhcZtnpcpD"
      }
    },
    {
      "cell_type": "code",
      "source": [
        "data.corr()[\"quality\"].drop(labels=\"quality\").abs().sort_values(ascending=False)"
      ],
      "metadata": {
        "id": "ntnTPeE_oi3M",
        "outputId": "eb48acd8-949e-4f7b-ae9c-98ec68f19a19",
        "colab": {
          "base_uri": "https://localhost:8080/"
        }
      },
      "execution_count": 15,
      "outputs": [
        {
          "output_type": "execute_result",
          "data": {
            "text/plain": [
              "alcohol                 0.484866\n",
              "volatile acidity        0.407394\n",
              "sulphates               0.257710\n",
              "citric acid             0.240821\n",
              "total sulfur dioxide    0.183339\n",
              "density                 0.175208\n",
              "chlorides               0.124085\n",
              "fixed acidity           0.121970\n",
              "free sulfur dioxide     0.063260\n",
              "pH                      0.052453\n",
              "residual sugar          0.022002\n",
              "Name: quality, dtype: float64"
            ]
          },
          "metadata": {},
          "execution_count": 15
        }
      ]
    },
    {
      "cell_type": "markdown",
      "source": [
        "Possiamo notare che le prime quattro features che compaiono sono alcohol, volatile acidity, sulphates, citric acid. Questo significa che queste features sono quelle con un riscontro più rilavanti sulla qualità del vino (con contributo positivo o negativo).                     "
      ],
      "metadata": {
        "id": "4wO5WAaCqQ4F"
      }
    },
    {
      "cell_type": "code",
      "source": [
        "figure, axes = plt.subplots(1, 2,figsize=(10,7))\n",
        "axes[0].plot(data.groupby(\"quality\")[\"alcohol\"].mean().index,data.groupby(\"quality\")[\"alcohol\"].mean())\n",
        "data.boxplot(column=\"alcohol\", by =\"quality\",showmeans=True,ax=axes[1])"
      ],
      "metadata": {
        "id": "CZnYjWeQxEgh",
        "outputId": "4b042c89-bcda-4efa-d213-ceef65772a16",
        "colab": {
          "base_uri": "https://localhost:8080/",
          "height": 552
        }
      },
      "execution_count": 63,
      "outputs": [
        {
          "output_type": "stream",
          "name": "stderr",
          "text": [
            "/usr/local/lib/python3.7/dist-packages/matplotlib/cbook/__init__.py:1376: VisibleDeprecationWarning: Creating an ndarray from ragged nested sequences (which is a list-or-tuple of lists-or-tuples-or ndarrays with different lengths or shapes) is deprecated. If you meant to do this, you must specify 'dtype=object' when creating the ndarray.\n",
            "  X = np.atleast_1d(X.T if isinstance(X, np.ndarray) else np.asarray(X))\n"
          ]
        },
        {
          "output_type": "execute_result",
          "data": {
            "text/plain": [
              "<matplotlib.axes._subplots.AxesSubplot at 0x7f580b758750>"
            ]
          },
          "metadata": {},
          "execution_count": 63
        },
        {
          "output_type": "display_data",
          "data": {
            "text/plain": [
              "<Figure size 720x504 with 2 Axes>"
            ],
            "image/png": "[encoded data removed]"
          },
          "metadata": {
            "needs_background": "light"
          }
        }
      ]
    },
    {
      "cell_type": "markdown",
      "source": [
        "La correlazine tra alcohol e qualità è direttamnete proporzionale.L'indice di correllazione infatti è:\n"
      ],
      "metadata": {
        "id": "3cR-f20Y3fJz"
      }
    },
    {
      "cell_type": "code",
      "source": [
        "data.corr().loc[\"quality\",\"alcohol\"]"
      ],
      "metadata": {
        "colab": {
          "base_uri": "https://localhost:8080/"
        },
        "id": "STx9o6W-3t1y",
        "outputId": "950c7e37-d7b6-4f80-af38-9cfa292303fe"
      },
      "execution_count": 17,
      "outputs": [
        {
          "output_type": "execute_result",
          "data": {
            "text/plain": [
              "0.48486621180851264"
            ]
          },
          "metadata": {},
          "execution_count": 17
        }
      ]
    },
    {
      "cell_type": "code",
      "source": [
        "figure, axes = plt.subplots(1, 2,figsize=(10,7))\n",
        "axes[0].plot(data.groupby(\"quality\")[\"volatile acidity\"].mean().index,data.groupby(\"quality\")[\"volatile acidity\"].mean())\n",
        "data.boxplot(column=\"volatile acidity\", by =\"quality\",showmeans=True,ax=axes[1])"
      ],
      "metadata": {
        "id": "aeKJkiaYvdJE",
        "outputId": "e848190d-7c57-4fc5-fb2d-1a168a221f27",
        "colab": {
          "base_uri": "https://localhost:8080/",
          "height": 552
        }
      },
      "execution_count": 64,
      "outputs": [
        {
          "output_type": "stream",
          "name": "stderr",
          "text": [
            "/usr/local/lib/python3.7/dist-packages/matplotlib/cbook/__init__.py:1376: VisibleDeprecationWarning: Creating an ndarray from ragged nested sequences (which is a list-or-tuple of lists-or-tuples-or ndarrays with different lengths or shapes) is deprecated. If you meant to do this, you must specify 'dtype=object' when creating the ndarray.\n",
            "  X = np.atleast_1d(X.T if isinstance(X, np.ndarray) else np.asarray(X))\n"
          ]
        },
        {
          "output_type": "execute_result",
          "data": {
            "text/plain": [
              "<matplotlib.axes._subplots.AxesSubplot at 0x7f580b608ad0>"
            ]
          },
          "metadata": {},
          "execution_count": 64
        },
        {
          "output_type": "display_data",
          "data": {
            "text/plain": [
              "<Figure size 720x504 with 2 Axes>"
            ],
            "image/png": "[encoded data removed]"
          },
          "metadata": {
            "needs_background": "light"
          }
        }
      ]
    },
    {
      "cell_type": "markdown",
      "source": [
        "La correlazine tra volatile acidity e qualità è inversamente proporzionale.L'indice di correllazione infatti è:"
      ],
      "metadata": {
        "id": "5pEo4U9L4WAS"
      }
    },
    {
      "cell_type": "code",
      "source": [
        "data.corr().loc[\"quality\",\"volatile acidity\"]"
      ],
      "metadata": {
        "id": "gsAP-B9E4gP_",
        "colab": {
          "base_uri": "https://localhost:8080/"
        },
        "outputId": "51848bc1-e7a7-4dee-c529-8b16e9d7a873"
      },
      "execution_count": 19,
      "outputs": [
        {
          "output_type": "execute_result",
          "data": {
            "text/plain": [
              "-0.40739351292438425"
            ]
          },
          "metadata": {},
          "execution_count": 19
        }
      ]
    },
    {
      "cell_type": "code",
      "source": [
        "figure, axes = plt.subplots(1, 2,figsize=(10,7))\n",
        "axes[0].plot(data.groupby(\"quality\")[\"sulphates\"].mean().index,data.groupby(\"quality\")[\"sulphates\"].mean())\n",
        "data.boxplot(column=\"sulphates\", by =\"quality\",showmeans=True,ax=axes[1])"
      ],
      "metadata": {
        "id": "A2_Zx91VwHql",
        "outputId": "997b3760-8340-41c4-c1c5-2c0d69918b7f",
        "colab": {
          "base_uri": "https://localhost:8080/",
          "height": 552
        }
      },
      "execution_count": 65,
      "outputs": [
        {
          "output_type": "stream",
          "name": "stderr",
          "text": [
            "/usr/local/lib/python3.7/dist-packages/matplotlib/cbook/__init__.py:1376: VisibleDeprecationWarning: Creating an ndarray from ragged nested sequences (which is a list-or-tuple of lists-or-tuples-or ndarrays with different lengths or shapes) is deprecated. If you meant to do this, you must specify 'dtype=object' when creating the ndarray.\n",
            "  X = np.atleast_1d(X.T if isinstance(X, np.ndarray) else np.asarray(X))\n"
          ]
        },
        {
          "output_type": "execute_result",
          "data": {
            "text/plain": [
              "<matplotlib.axes._subplots.AxesSubplot at 0x7f580b588ed0>"
            ]
          },
          "metadata": {},
          "execution_count": 65
        },
        {
          "output_type": "display_data",
          "data": {
            "text/plain": [
              "<Figure size 720x504 with 2 Axes>"
            ],
            "image/png": "[encoded data removed]"
          },
          "metadata": {
            "needs_background": "light"
          }
        }
      ]
    },
    {
      "cell_type": "markdown",
      "source": [
        "La correlazine tra sulphates e qualità è direttamente proporzionale.L'indice di correllazione infatti è:\n",
        "\n"
      ],
      "metadata": {
        "id": "Jz0jCV5O4lKp"
      }
    },
    {
      "cell_type": "code",
      "source": [
        "data.corr().loc[\"quality\",\"sulphates\"]"
      ],
      "metadata": {
        "id": "gZZK1iv34woc",
        "outputId": "36d4452f-836f-4adf-d8e2-f8a05102cb0d",
        "colab": {
          "base_uri": "https://localhost:8080/"
        }
      },
      "execution_count": 21,
      "outputs": [
        {
          "output_type": "execute_result",
          "data": {
            "text/plain": [
              "0.2577102599306222"
            ]
          },
          "metadata": {},
          "execution_count": 21
        }
      ]
    },
    {
      "cell_type": "code",
      "source": [
        "figure, axes = plt.subplots(1, 2,figsize=(10,7))\n",
        "axes[0].plot(data.groupby(\"quality\")[\"citric acid\"].mean().index,data.groupby(\"quality\")[\"citric acid\"].mean())\n",
        "data.boxplot(column=\"citric acid\", by =\"quality\",showmeans=True,ax=axes[1])"
      ],
      "metadata": {
        "id": "jEaMwaPOowp0",
        "outputId": "be9b78e3-a74c-4f8f-c072-a9215b7cbe01",
        "colab": {
          "base_uri": "https://localhost:8080/",
          "height": 552
        }
      },
      "execution_count": 67,
      "outputs": [
        {
          "output_type": "stream",
          "name": "stderr",
          "text": [
            "/usr/local/lib/python3.7/dist-packages/matplotlib/cbook/__init__.py:1376: VisibleDeprecationWarning: Creating an ndarray from ragged nested sequences (which is a list-or-tuple of lists-or-tuples-or ndarrays with different lengths or shapes) is deprecated. If you meant to do this, you must specify 'dtype=object' when creating the ndarray.\n",
            "  X = np.atleast_1d(X.T if isinstance(X, np.ndarray) else np.asarray(X))\n"
          ]
        },
        {
          "output_type": "execute_result",
          "data": {
            "text/plain": [
              "<matplotlib.axes._subplots.AxesSubplot at 0x7f580c705690>"
            ]
          },
          "metadata": {},
          "execution_count": 67
        },
        {
          "output_type": "display_data",
          "data": {
            "text/plain": [
              "<Figure size 720x504 with 2 Axes>"
            ],
            "image/png": "[encoded data removed]"
          },
          "metadata": {
            "needs_background": "light"
          }
        }
      ]
    },
    {
      "cell_type": "markdown",
      "source": [
        "La correlazine tra citric acid e qualità è direttamente proporzionale.L'indice di correllazione infatti è:"
      ],
      "metadata": {
        "id": "N6ErJF4d4-PH"
      }
    },
    {
      "cell_type": "code",
      "source": [
        "data.corr().loc[\"quality\",\"citric acid\"]"
      ],
      "metadata": {
        "id": "ZYoYWsL-uEXI",
        "outputId": "a914d5d1-e03a-4566-8a60-a31a3c58ffa7",
        "colab": {
          "base_uri": "https://localhost:8080/"
        }
      },
      "execution_count": 23,
      "outputs": [
        {
          "output_type": "execute_result",
          "data": {
            "text/plain": [
              "0.24082083714719305"
            ]
          },
          "metadata": {},
          "execution_count": 23
        }
      ]
    },
    {
      "cell_type": "markdown",
      "source": [
        "# Normalizzazione\n",
        "Come possiamo vedere le features hanno scale diverse, quindi si prosegue con normalizzazione dei dati."
      ],
      "metadata": {
        "id": "jET52u14xmOc"
      }
    },
    {
      "cell_type": "code",
      "source": [
        "data.drop(columns=\"quality\").aggregate([\"min\",\"max\"]).T"
      ],
      "metadata": {
        "colab": {
          "base_uri": "https://localhost:8080/",
          "height": 394
        },
        "id": "WDlamdzMyoiv",
        "outputId": "2259afbe-737d-4770-c0ce-11a8174ee78b"
      },
      "execution_count": 24,
      "outputs": [
        {
          "output_type": "execute_result",
          "data": {
            "text/plain": [
              "                          min        max\n",
              "fixed acidity         4.60000   15.90000\n",
              "volatile acidity      0.12000    1.58000\n",
              "citric acid           0.00000    1.00000\n",
              "residual sugar        0.90000   15.50000\n",
              "chlorides             0.01200    0.61100\n",
              "free sulfur dioxide   1.00000   68.00000\n",
              "total sulfur dioxide  6.00000  289.00000\n",
              "density               0.99007    1.00369\n",
              "pH                    2.74000    4.01000\n",
              "sulphates             0.33000    2.00000\n",
              "alcohol               8.40000   14.90000"
            ],
            "text/html": [
              "\n",
              "  <div id=\"df-aa35b73d-76a7-4397-8b1f-125a21e4a61f\">\n",
              "    <div class=\"colab-df-container\">\n",
              "      <div>\n",
              "<style scoped>\n",
              "    .dataframe tbody tr th:only-of-type {\n",
              "        vertical-align: middle;\n",
              "    }\n",
              "\n",
              "    .dataframe tbody tr th {\n",
              "        vertical-align: top;\n",
              "    }\n",
              "\n",
              "    .dataframe thead th {\n",
              "        text-align: right;\n",
              "    }\n",
              "</style>\n",
              "<table border=\"1\" class=\"dataframe\">\n",
              "  <thead>\n",
              "    <tr style=\"text-align: right;\">\n",
              "      <th></th>\n",
              "      <th>min</th>\n",
              "      <th>max</th>\n",
              "    </tr>\n",
              "  </thead>\n",
              "  <tbody>\n",
              "    <tr>\n",
              "      <th>fixed acidity</th>\n",
              "      <td>4.60000</td>\n",
              "      <td>15.90000</td>\n",
              "    </tr>\n",
              "    <tr>\n",
              "      <th>volatile acidity</th>\n",
              "      <td>0.12000</td>\n",
              "      <td>1.58000</td>\n",
              "    </tr>\n",
              "    <tr>\n",
              "      <th>citric acid</th>\n",
              "      <td>0.00000</td>\n",
              "      <td>1.00000</td>\n",
              "    </tr>\n",
              "    <tr>\n",
              "      <th>residual sugar</th>\n",
              "      <td>0.90000</td>\n",
              "      <td>15.50000</td>\n",
              "    </tr>\n",
              "    <tr>\n",
              "      <th>chlorides</th>\n",
              "      <td>0.01200</td>\n",
              "      <td>0.61100</td>\n",
              "    </tr>\n",
              "    <tr>\n",
              "      <th>free sulfur dioxide</th>\n",
              "      <td>1.00000</td>\n",
              "      <td>68.00000</td>\n",
              "    </tr>\n",
              "    <tr>\n",
              "      <th>total sulfur dioxide</th>\n",
              "      <td>6.00000</td>\n",
              "      <td>289.00000</td>\n",
              "    </tr>\n",
              "    <tr>\n",
              "      <th>density</th>\n",
              "      <td>0.99007</td>\n",
              "      <td>1.00369</td>\n",
              "    </tr>\n",
              "    <tr>\n",
              "      <th>pH</th>\n",
              "      <td>2.74000</td>\n",
              "      <td>4.01000</td>\n",
              "    </tr>\n",
              "    <tr>\n",
              "      <th>sulphates</th>\n",
              "      <td>0.33000</td>\n",
              "      <td>2.00000</td>\n",
              "    </tr>\n",
              "    <tr>\n",
              "      <th>alcohol</th>\n",
              "      <td>8.40000</td>\n",
              "      <td>14.90000</td>\n",
              "    </tr>\n",
              "  </tbody>\n",
              "</table>\n",
              "</div>\n",
              "      <button class=\"colab-df-convert\" onclick=\"convertToInteractive('df-aa35b73d-76a7-4397-8b1f-125a21e4a61f')\"\n",
              "              title=\"Convert this dataframe to an interactive table.\"\n",
              "              style=\"display:none;\">\n",
              "        \n",
              "  <svg xmlns=\"http://www.w3.org/2000/svg\" height=\"24px\"viewBox=\"0 0 24 24\"\n",
              "       width=\"24px\">\n",
              "    <path d=\"M0 0h24v24H0V0z\" fill=\"none\"/>\n",
              "    <path d=\"M18.56 5.44l.94 2.06.94-2.06 2.06-.94-2.06-.94-.94-2.06-.94 2.06-2.06.94zm-11 1L8.5 8.5l.94-2.06 2.06-.94-2.06-.94L8.5 2.5l-.94 2.06-2.06.94zm10 10l.94 2.06.94-2.06 2.06-.94-2.06-.94-.94-2.06-.94 2.06-2.06.94z\"/><path d=\"M17.41 7.96l-1.37-1.37c-.4-.4-.92-.59-1.43-.59-.52 0-1.04.2-1.43.59L10.3 9.45l-7.72 7.72c-.78.78-.78 2.05 0 2.83L4 21.41c.39.39.9.59 1.41.59.51 0 1.02-.2 1.41-.59l7.78-7.78 2.81-2.81c.8-.78.8-2.07 0-2.86zM5.41 20L4 18.59l7.72-7.72 1.47 1.35L5.41 20z\"/>\n",
              "  </svg>\n",
              "      </button>\n",
              "      \n",
              "  <style>\n",
              "    .colab-df-container {\n",
              "      display:flex;\n",
              "      flex-wrap:wrap;\n",
              "      gap: 12px;\n",
              "    }\n",
              "\n",
              "    .colab-df-convert {\n",
              "      background-color: #E8F0FE;\n",
              "      border: none;\n",
              "      border-radius: 50%;\n",
              "      cursor: pointer;\n",
              "      display: none;\n",
              "      fill: #1967D2;\n",
              "      height: 32px;\n",
              "      padding: 0 0 0 0;\n",
              "      width: 32px;\n",
              "    }\n",
              "\n",
              "    .colab-df-convert:hover {\n",
              "      background-color: #E2EBFA;\n",
              "      box-shadow: 0px 1px 2px rgba(60, 64, 67, 0.3), 0px 1px 3px 1px rgba(60, 64, 67, 0.15);\n",
              "      fill: #174EA6;\n",
              "    }\n",
              "\n",
              "    [theme=dark] .colab-df-convert {\n",
              "      background-color: #3B4455;\n",
              "      fill: #D2E3FC;\n",
              "    }\n",
              "\n",
              "    [theme=dark] .colab-df-convert:hover {\n",
              "      background-color: #434B5C;\n",
              "      box-shadow: 0px 1px 3px 1px rgba(0, 0, 0, 0.15);\n",
              "      filter: drop-shadow(0px 1px 2px rgba(0, 0, 0, 0.3));\n",
              "      fill: #FFFFFF;\n",
              "    }\n",
              "  </style>\n",
              "\n",
              "      <script>\n",
              "        const buttonEl =\n",
              "          document.querySelector('#df-aa35b73d-76a7-4397-8b1f-125a21e4a61f button.colab-df-convert');\n",
              "        buttonEl.style.display =\n",
              "          google.colab.kernel.accessAllowed ? 'block' : 'none';\n",
              "\n",
              "        async function convertToInteractive(key) {\n",
              "          const element = document.querySelector('#df-aa35b73d-76a7-4397-8b1f-125a21e4a61f');\n",
              "          const dataTable =\n",
              "            await google.colab.kernel.invokeFunction('convertToInteractive',\n",
              "                                                     [key], {});\n",
              "          if (!dataTable) return;\n",
              "\n",
              "          const docLinkHtml = 'Like what you see? Visit the ' +\n",
              "            '<a target=\"_blank\" href=https://colab.research.google.com/notebooks/data_table.ipynb>data table notebook</a>'\n",
              "            + ' to learn more about interactive tables.';\n",
              "          element.innerHTML = '';\n",
              "          dataTable['output_type'] = 'display_data';\n",
              "          await google.colab.output.renderOutput(dataTable, element);\n",
              "          const docLink = document.createElement('div');\n",
              "          docLink.innerHTML = docLinkHtml;\n",
              "          element.appendChild(docLink);\n",
              "        }\n",
              "      </script>\n",
              "    </div>\n",
              "  </div>\n",
              "  "
            ]
          },
          "metadata": {},
          "execution_count": 24
        }
      ]
    },
    {
      "cell_type": "code",
      "source": [
        "from sklearn.preprocessing import MinMaxScaler \n",
        "X = MinMaxScaler().fit_transform(data.drop(columns=\"quality\"))\n",
        "X = DataFrame(X,columns=data.drop(columns=\"quality\").columns,index=data.index)\n",
        "X.head()"
      ],
      "metadata": {
        "colab": {
          "base_uri": "https://localhost:8080/",
          "height": 238
        },
        "id": "3gi_yZKtyqWi",
        "outputId": "201b95f4-0b75-4b56-e0c8-f6b7fbc49048"
      },
      "execution_count": 25,
      "outputs": [
        {
          "output_type": "execute_result",
          "data": {
            "text/plain": [
              "    fixed acidity  volatile acidity  citric acid  residual sugar  chlorides  \\\n",
              "Id                                                                            \n",
              "0        0.247788          0.397260         0.00        0.068493   0.106845   \n",
              "1        0.283186          0.520548         0.00        0.116438   0.143573   \n",
              "2        0.283186          0.438356         0.04        0.095890   0.133556   \n",
              "3        0.584071          0.109589         0.56        0.068493   0.105175   \n",
              "4        0.247788          0.397260         0.00        0.068493   0.106845   \n",
              "\n",
              "    free sulfur dioxide  total sulfur dioxide   density        pH  sulphates  \\\n",
              "Id                                                                             \n",
              "0              0.149254              0.098940  0.567548  0.606299   0.137725   \n",
              "1              0.358209              0.215548  0.494126  0.362205   0.209581   \n",
              "2              0.208955              0.169611  0.508811  0.409449   0.191617   \n",
              "3              0.238806              0.190813  0.582232  0.330709   0.149701   \n",
              "4              0.149254              0.098940  0.567548  0.606299   0.137725   \n",
              "\n",
              "     alcohol  \n",
              "Id            \n",
              "0   0.153846  \n",
              "1   0.215385  \n",
              "2   0.215385  \n",
              "3   0.215385  \n",
              "4   0.153846  "
            ],
            "text/html": [
              "\n",
              "  <div id=\"df-e58e03da-4c0b-439a-9c99-dd37b3c197a9\">\n",
              "    <div class=\"colab-df-container\">\n",
              "      <div>\n",
              "<style scoped>\n",
              "    .dataframe tbody tr th:only-of-type {\n",
              "        vertical-align: middle;\n",
              "    }\n",
              "\n",
              "    .dataframe tbody tr th {\n",
              "        vertical-align: top;\n",
              "    }\n",
              "\n",
              "    .dataframe thead th {\n",
              "        text-align: right;\n",
              "    }\n",
              "</style>\n",
              "<table border=\"1\" class=\"dataframe\">\n",
              "  <thead>\n",
              "    <tr style=\"text-align: right;\">\n",
              "      <th></th>\n",
              "      <th>fixed acidity</th>\n",
              "      <th>volatile acidity</th>\n",
              "      <th>citric acid</th>\n",
              "      <th>residual sugar</th>\n",
              "      <th>chlorides</th>\n",
              "      <th>free sulfur dioxide</th>\n",
              "      <th>total sulfur dioxide</th>\n",
              "      <th>density</th>\n",
              "      <th>pH</th>\n",
              "      <th>sulphates</th>\n",
              "      <th>alcohol</th>\n",
              "    </tr>\n",
              "    <tr>\n",
              "      <th>Id</th>\n",
              "      <th></th>\n",
              "      <th></th>\n",
              "      <th></th>\n",
              "      <th></th>\n",
              "      <th></th>\n",
              "      <th></th>\n",
              "      <th></th>\n",
              "      <th></th>\n",
              "      <th></th>\n",
              "      <th></th>\n",
              "      <th></th>\n",
              "    </tr>\n",
              "  </thead>\n",
              "  <tbody>\n",
              "    <tr>\n",
              "      <th>0</th>\n",
              "      <td>0.247788</td>\n",
              "      <td>0.397260</td>\n",
              "      <td>0.00</td>\n",
              "      <td>0.068493</td>\n",
              "      <td>0.106845</td>\n",
              "      <td>0.149254</td>\n",
              "      <td>0.098940</td>\n",
              "      <td>0.567548</td>\n",
              "      <td>0.606299</td>\n",
              "      <td>0.137725</td>\n",
              "      <td>0.153846</td>\n",
              "    </tr>\n",
              "    <tr>\n",
              "      <th>1</th>\n",
              "      <td>0.283186</td>\n",
              "      <td>0.520548</td>\n",
              "      <td>0.00</td>\n",
              "      <td>0.116438</td>\n",
              "      <td>0.143573</td>\n",
              "      <td>0.358209</td>\n",
              "      <td>0.215548</td>\n",
              "      <td>0.494126</td>\n",
              "      <td>0.362205</td>\n",
              "      <td>0.209581</td>\n",
              "      <td>0.215385</td>\n",
              "    </tr>\n",
              "    <tr>\n",
              "      <th>2</th>\n",
              "      <td>0.283186</td>\n",
              "      <td>0.438356</td>\n",
              "      <td>0.04</td>\n",
              "      <td>0.095890</td>\n",
              "      <td>0.133556</td>\n",
              "      <td>0.208955</td>\n",
              "      <td>0.169611</td>\n",
              "      <td>0.508811</td>\n",
              "      <td>0.409449</td>\n",
              "      <td>0.191617</td>\n",
              "      <td>0.215385</td>\n",
              "    </tr>\n",
              "    <tr>\n",
              "      <th>3</th>\n",
              "      <td>0.584071</td>\n",
              "      <td>0.109589</td>\n",
              "      <td>0.56</td>\n",
              "      <td>0.068493</td>\n",
              "      <td>0.105175</td>\n",
              "      <td>0.238806</td>\n",
              "      <td>0.190813</td>\n",
              "      <td>0.582232</td>\n",
              "      <td>0.330709</td>\n",
              "      <td>0.149701</td>\n",
              "      <td>0.215385</td>\n",
              "    </tr>\n",
              "    <tr>\n",
              "      <th>4</th>\n",
              "      <td>0.247788</td>\n",
              "      <td>0.397260</td>\n",
              "      <td>0.00</td>\n",
              "      <td>0.068493</td>\n",
              "      <td>0.106845</td>\n",
              "      <td>0.149254</td>\n",
              "      <td>0.098940</td>\n",
              "      <td>0.567548</td>\n",
              "      <td>0.606299</td>\n",
              "      <td>0.137725</td>\n",
              "      <td>0.153846</td>\n",
              "    </tr>\n",
              "  </tbody>\n",
              "</table>\n",
              "</div>\n",
              "      <button class=\"colab-df-convert\" onclick=\"convertToInteractive('df-e58e03da-4c0b-439a-9c99-dd37b3c197a9')\"\n",
              "              title=\"Convert this dataframe to an interactive table.\"\n",
              "              style=\"display:none;\">\n",
              "        \n",
              "  <svg xmlns=\"http://www.w3.org/2000/svg\" height=\"24px\"viewBox=\"0 0 24 24\"\n",
              "       width=\"24px\">\n",
              "    <path d=\"M0 0h24v24H0V0z\" fill=\"none\"/>\n",
              "    <path d=\"M18.56 5.44l.94 2.06.94-2.06 2.06-.94-2.06-.94-.94-2.06-.94 2.06-2.06.94zm-11 1L8.5 8.5l.94-2.06 2.06-.94-2.06-.94L8.5 2.5l-.94 2.06-2.06.94zm10 10l.94 2.06.94-2.06 2.06-.94-2.06-.94-.94-2.06-.94 2.06-2.06.94z\"/><path d=\"M17.41 7.96l-1.37-1.37c-.4-.4-.92-.59-1.43-.59-.52 0-1.04.2-1.43.59L10.3 9.45l-7.72 7.72c-.78.78-.78 2.05 0 2.83L4 21.41c.39.39.9.59 1.41.59.51 0 1.02-.2 1.41-.59l7.78-7.78 2.81-2.81c.8-.78.8-2.07 0-2.86zM5.41 20L4 18.59l7.72-7.72 1.47 1.35L5.41 20z\"/>\n",
              "  </svg>\n",
              "      </button>\n",
              "      \n",
              "  <style>\n",
              "    .colab-df-container {\n",
              "      display:flex;\n",
              "      flex-wrap:wrap;\n",
              "      gap: 12px;\n",
              "    }\n",
              "\n",
              "    .colab-df-convert {\n",
              "      background-color: #E8F0FE;\n",
              "      border: none;\n",
              "      border-radius: 50%;\n",
              "      cursor: pointer;\n",
              "      display: none;\n",
              "      fill: #1967D2;\n",
              "      height: 32px;\n",
              "      padding: 0 0 0 0;\n",
              "      width: 32px;\n",
              "    }\n",
              "\n",
              "    .colab-df-convert:hover {\n",
              "      background-color: #E2EBFA;\n",
              "      box-shadow: 0px 1px 2px rgba(60, 64, 67, 0.3), 0px 1px 3px 1px rgba(60, 64, 67, 0.15);\n",
              "      fill: #174EA6;\n",
              "    }\n",
              "\n",
              "    [theme=dark] .colab-df-convert {\n",
              "      background-color: #3B4455;\n",
              "      fill: #D2E3FC;\n",
              "    }\n",
              "\n",
              "    [theme=dark] .colab-df-convert:hover {\n",
              "      background-color: #434B5C;\n",
              "      box-shadow: 0px 1px 3px 1px rgba(0, 0, 0, 0.15);\n",
              "      filter: drop-shadow(0px 1px 2px rgba(0, 0, 0, 0.3));\n",
              "      fill: #FFFFFF;\n",
              "    }\n",
              "  </style>\n",
              "\n",
              "      <script>\n",
              "        const buttonEl =\n",
              "          document.querySelector('#df-e58e03da-4c0b-439a-9c99-dd37b3c197a9 button.colab-df-convert');\n",
              "        buttonEl.style.display =\n",
              "          google.colab.kernel.accessAllowed ? 'block' : 'none';\n",
              "\n",
              "        async function convertToInteractive(key) {\n",
              "          const element = document.querySelector('#df-e58e03da-4c0b-439a-9c99-dd37b3c197a9');\n",
              "          const dataTable =\n",
              "            await google.colab.kernel.invokeFunction('convertToInteractive',\n",
              "                                                     [key], {});\n",
              "          if (!dataTable) return;\n",
              "\n",
              "          const docLinkHtml = 'Like what you see? Visit the ' +\n",
              "            '<a target=\"_blank\" href=https://colab.research.google.com/notebooks/data_table.ipynb>data table notebook</a>'\n",
              "            + ' to learn more about interactive tables.';\n",
              "          element.innerHTML = '';\n",
              "          dataTable['output_type'] = 'display_data';\n",
              "          await google.colab.output.renderOutput(dataTable, element);\n",
              "          const docLink = document.createElement('div');\n",
              "          docLink.innerHTML = docLinkHtml;\n",
              "          element.appendChild(docLink);\n",
              "        }\n",
              "      </script>\n",
              "    </div>\n",
              "  </div>\n",
              "  "
            ]
          },
          "metadata": {},
          "execution_count": 25
        }
      ]
    },
    {
      "cell_type": "code",
      "source": [
        "Y = data[\"quality\"]"
      ],
      "metadata": {
        "id": "sYRFeBwJALzF"
      },
      "execution_count": 26,
      "outputs": []
    },
    {
      "cell_type": "markdown",
      "source": [
        "# Rilevanza features"
      ],
      "metadata": {
        "id": "VTWkqszL8T17"
      }
    },
    {
      "cell_type": "markdown",
      "source": [
        "Dividiamo i dati in train e validation set. Creiamo un primo modello di classificazione con regolarizzazione Lasso per andare ad identificare le features più o meno rilevanti. Incorporiamo il modello in una pipeline in modo da valutare anche inserimenti di features non lineari, pesi di regolazzione e bilanciamento automatico delle classi attraverso una Grid Search.\n"
      ],
      "metadata": {
        "id": "QFfUuWiwfxdo"
      }
    },
    {
      "cell_type": "code",
      "source": [
        "from sklearn.model_selection import train_test_split\n",
        "from sklearn.model_selection import StratifiedKFold\n",
        "from sklearn.linear_model import LogisticRegression\n",
        "from sklearn.pipeline import Pipeline\n",
        "\n",
        "X_train, X_val, y_train, y_val = train_test_split(X,Y,test_size=1/3,random_state=42)\n",
        "model = Pipeline([\n",
        "                  (\"poly\",PolynomialFeatures()),\n",
        "                  (\"classifier\",LogisticRegression(solver=\"saga\", random_state=42, penalty=\"l1\", C=10,multi_class=\"ovr\"))\n",
        "])\n"
      ],
      "metadata": {
        "id": "tpK2ayCM8Yhs"
      },
      "execution_count": 27,
      "outputs": []
    },
    {
      "cell_type": "code",
      "source": [
        "from sklearn.model_selection import GridSearchCV\n",
        "grid = {\n",
        "        \"poly__degree\": [1,3,5],\n",
        "    \"classifier__C\": [0.01,0.1,1,10],#peso regolarizzazione\n",
        "    \"classifier__class_weight\" : [\"balanced\",None]\n",
        "}\n",
        "skf = StratifiedKFold(3,shuffle=True, random_state=42)\n",
        "gs = GridSearchCV(model,cv=skf,param_grid=grid,return_train_score=True)\n"
      ],
      "metadata": {
        "id": "KYfhWeE-As8m"
      },
      "execution_count": 71,
      "outputs": []
    },
    {
      "cell_type": "code",
      "source": [
        "gs.fit(X_train,y_train)\n"
      ],
      "metadata": {
        "id": "t4J-98h4lMjL",
        "outputId": "c74b0121-7a22-417d-baa8-bb6ed099856a",
        "colab": {
          "base_uri": "https://localhost:8080/"
        }
      },
      "execution_count": 73,
      "outputs": [
        {
          "output_type": "stream",
          "name": "stderr",
          "text": [
            "/usr/local/lib/python3.7/dist-packages/sklearn/linear_model/_sag.py:354: ConvergenceWarning: The max_iter was reached which means the coef_ did not converge\n",
            "  ConvergenceWarning,\n",
            "/usr/local/lib/python3.7/dist-packages/sklearn/linear_model/_sag.py:354: ConvergenceWarning: The max_iter was reached which means the coef_ did not converge\n",
            "  ConvergenceWarning,\n",
            "/usr/local/lib/python3.7/dist-packages/sklearn/linear_model/_sag.py:354: ConvergenceWarning: The max_iter was reached which means the coef_ did not converge\n",
            "  ConvergenceWarning,\n",
            "/usr/local/lib/python3.7/dist-packages/sklearn/linear_model/_sag.py:354: ConvergenceWarning: The max_iter was reached which means the coef_ did not converge\n",
            "  ConvergenceWarning,\n",
            "/usr/local/lib/python3.7/dist-packages/sklearn/linear_model/_sag.py:354: ConvergenceWarning: The max_iter was reached which means the coef_ did not converge\n",
            "  ConvergenceWarning,\n",
            "/usr/local/lib/python3.7/dist-packages/sklearn/linear_model/_sag.py:354: ConvergenceWarning: The max_iter was reached which means the coef_ did not converge\n",
            "  ConvergenceWarning,\n",
            "/usr/local/lib/python3.7/dist-packages/sklearn/linear_model/_sag.py:354: ConvergenceWarning: The max_iter was reached which means the coef_ did not converge\n",
            "  ConvergenceWarning,\n",
            "/usr/local/lib/python3.7/dist-packages/sklearn/linear_model/_sag.py:354: ConvergenceWarning: The max_iter was reached which means the coef_ did not converge\n",
            "  ConvergenceWarning,\n",
            "/usr/local/lib/python3.7/dist-packages/sklearn/linear_model/_sag.py:354: ConvergenceWarning: The max_iter was reached which means the coef_ did not converge\n",
            "  ConvergenceWarning,\n",
            "/usr/local/lib/python3.7/dist-packages/sklearn/linear_model/_sag.py:354: ConvergenceWarning: The max_iter was reached which means the coef_ did not converge\n",
            "  ConvergenceWarning,\n",
            "/usr/local/lib/python3.7/dist-packages/sklearn/linear_model/_sag.py:354: ConvergenceWarning: The max_iter was reached which means the coef_ did not converge\n",
            "  ConvergenceWarning,\n",
            "/usr/local/lib/python3.7/dist-packages/sklearn/linear_model/_sag.py:354: ConvergenceWarning: The max_iter was reached which means the coef_ did not converge\n",
            "  ConvergenceWarning,\n",
            "/usr/local/lib/python3.7/dist-packages/sklearn/linear_model/_sag.py:354: ConvergenceWarning: The max_iter was reached which means the coef_ did not converge\n",
            "  ConvergenceWarning,\n",
            "/usr/local/lib/python3.7/dist-packages/sklearn/linear_model/_sag.py:354: ConvergenceWarning: The max_iter was reached which means the coef_ did not converge\n",
            "  ConvergenceWarning,\n",
            "/usr/local/lib/python3.7/dist-packages/sklearn/linear_model/_sag.py:354: ConvergenceWarning: The max_iter was reached which means the coef_ did not converge\n",
            "  ConvergenceWarning,\n",
            "/usr/local/lib/python3.7/dist-packages/sklearn/linear_model/_sag.py:354: ConvergenceWarning: The max_iter was reached which means the coef_ did not converge\n",
            "  ConvergenceWarning,\n",
            "/usr/local/lib/python3.7/dist-packages/sklearn/linear_model/_sag.py:354: ConvergenceWarning: The max_iter was reached which means the coef_ did not converge\n",
            "  ConvergenceWarning,\n",
            "/usr/local/lib/python3.7/dist-packages/sklearn/linear_model/_sag.py:354: ConvergenceWarning: The max_iter was reached which means the coef_ did not converge\n",
            "  ConvergenceWarning,\n",
            "/usr/local/lib/python3.7/dist-packages/sklearn/linear_model/_sag.py:354: ConvergenceWarning: The max_iter was reached which means the coef_ did not converge\n",
            "  ConvergenceWarning,\n",
            "/usr/local/lib/python3.7/dist-packages/sklearn/linear_model/_sag.py:354: ConvergenceWarning: The max_iter was reached which means the coef_ did not converge\n",
            "  ConvergenceWarning,\n",
            "/usr/local/lib/python3.7/dist-packages/sklearn/linear_model/_sag.py:354: ConvergenceWarning: The max_iter was reached which means the coef_ did not converge\n",
            "  ConvergenceWarning,\n",
            "/usr/local/lib/python3.7/dist-packages/sklearn/linear_model/_sag.py:354: ConvergenceWarning: The max_iter was reached which means the coef_ did not converge\n",
            "  ConvergenceWarning,\n",
            "/usr/local/lib/python3.7/dist-packages/sklearn/linear_model/_sag.py:354: ConvergenceWarning: The max_iter was reached which means the coef_ did not converge\n",
            "  ConvergenceWarning,\n",
            "/usr/local/lib/python3.7/dist-packages/sklearn/linear_model/_sag.py:354: ConvergenceWarning: The max_iter was reached which means the coef_ did not converge\n",
            "  ConvergenceWarning,\n",
            "/usr/local/lib/python3.7/dist-packages/sklearn/linear_model/_sag.py:354: ConvergenceWarning: The max_iter was reached which means the coef_ did not converge\n",
            "  ConvergenceWarning,\n",
            "/usr/local/lib/python3.7/dist-packages/sklearn/linear_model/_sag.py:354: ConvergenceWarning: The max_iter was reached which means the coef_ did not converge\n",
            "  ConvergenceWarning,\n",
            "/usr/local/lib/python3.7/dist-packages/sklearn/linear_model/_sag.py:354: ConvergenceWarning: The max_iter was reached which means the coef_ did not converge\n",
            "  ConvergenceWarning,\n",
            "/usr/local/lib/python3.7/dist-packages/sklearn/linear_model/_sag.py:354: ConvergenceWarning: The max_iter was reached which means the coef_ did not converge\n",
            "  ConvergenceWarning,\n",
            "/usr/local/lib/python3.7/dist-packages/sklearn/linear_model/_sag.py:354: ConvergenceWarning: The max_iter was reached which means the coef_ did not converge\n",
            "  ConvergenceWarning,\n",
            "/usr/local/lib/python3.7/dist-packages/sklearn/linear_model/_sag.py:354: ConvergenceWarning: The max_iter was reached which means the coef_ did not converge\n",
            "  ConvergenceWarning,\n",
            "/usr/local/lib/python3.7/dist-packages/sklearn/linear_model/_sag.py:354: ConvergenceWarning: The max_iter was reached which means the coef_ did not converge\n",
            "  ConvergenceWarning,\n",
            "/usr/local/lib/python3.7/dist-packages/sklearn/linear_model/_sag.py:354: ConvergenceWarning: The max_iter was reached which means the coef_ did not converge\n",
            "  ConvergenceWarning,\n",
            "/usr/local/lib/python3.7/dist-packages/sklearn/linear_model/_sag.py:354: ConvergenceWarning: The max_iter was reached which means the coef_ did not converge\n",
            "  ConvergenceWarning,\n",
            "/usr/local/lib/python3.7/dist-packages/sklearn/linear_model/_sag.py:354: ConvergenceWarning: The max_iter was reached which means the coef_ did not converge\n",
            "  ConvergenceWarning,\n",
            "/usr/local/lib/python3.7/dist-packages/sklearn/linear_model/_sag.py:354: ConvergenceWarning: The max_iter was reached which means the coef_ did not converge\n",
            "  ConvergenceWarning,\n",
            "/usr/local/lib/python3.7/dist-packages/sklearn/linear_model/_sag.py:354: ConvergenceWarning: The max_iter was reached which means the coef_ did not converge\n",
            "  ConvergenceWarning,\n",
            "/usr/local/lib/python3.7/dist-packages/sklearn/linear_model/_sag.py:354: ConvergenceWarning: The max_iter was reached which means the coef_ did not converge\n",
            "  ConvergenceWarning,\n",
            "/usr/local/lib/python3.7/dist-packages/sklearn/linear_model/_sag.py:354: ConvergenceWarning: The max_iter was reached which means the coef_ did not converge\n",
            "  ConvergenceWarning,\n",
            "/usr/local/lib/python3.7/dist-packages/sklearn/linear_model/_sag.py:354: ConvergenceWarning: The max_iter was reached which means the coef_ did not converge\n",
            "  ConvergenceWarning,\n",
            "/usr/local/lib/python3.7/dist-packages/sklearn/linear_model/_sag.py:354: ConvergenceWarning: The max_iter was reached which means the coef_ did not converge\n",
            "  ConvergenceWarning,\n",
            "/usr/local/lib/python3.7/dist-packages/sklearn/linear_model/_sag.py:354: ConvergenceWarning: The max_iter was reached which means the coef_ did not converge\n",
            "  ConvergenceWarning,\n",
            "/usr/local/lib/python3.7/dist-packages/sklearn/linear_model/_sag.py:354: ConvergenceWarning: The max_iter was reached which means the coef_ did not converge\n",
            "  ConvergenceWarning,\n",
            "/usr/local/lib/python3.7/dist-packages/sklearn/linear_model/_sag.py:354: ConvergenceWarning: The max_iter was reached which means the coef_ did not converge\n",
            "  ConvergenceWarning,\n",
            "/usr/local/lib/python3.7/dist-packages/sklearn/linear_model/_sag.py:354: ConvergenceWarning: The max_iter was reached which means the coef_ did not converge\n",
            "  ConvergenceWarning,\n",
            "/usr/local/lib/python3.7/dist-packages/sklearn/linear_model/_sag.py:354: ConvergenceWarning: The max_iter was reached which means the coef_ did not converge\n",
            "  ConvergenceWarning,\n",
            "/usr/local/lib/python3.7/dist-packages/sklearn/linear_model/_sag.py:354: ConvergenceWarning: The max_iter was reached which means the coef_ did not converge\n",
            "  ConvergenceWarning,\n",
            "/usr/local/lib/python3.7/dist-packages/sklearn/linear_model/_sag.py:354: ConvergenceWarning: The max_iter was reached which means the coef_ did not converge\n",
            "  ConvergenceWarning,\n",
            "/usr/local/lib/python3.7/dist-packages/sklearn/linear_model/_sag.py:354: ConvergenceWarning: The max_iter was reached which means the coef_ did not converge\n",
            "  ConvergenceWarning,\n",
            "/usr/local/lib/python3.7/dist-packages/sklearn/linear_model/_sag.py:354: ConvergenceWarning: The max_iter was reached which means the coef_ did not converge\n",
            "  ConvergenceWarning,\n",
            "/usr/local/lib/python3.7/dist-packages/sklearn/linear_model/_sag.py:354: ConvergenceWarning: The max_iter was reached which means the coef_ did not converge\n",
            "  ConvergenceWarning,\n",
            "/usr/local/lib/python3.7/dist-packages/sklearn/linear_model/_sag.py:354: ConvergenceWarning: The max_iter was reached which means the coef_ did not converge\n",
            "  ConvergenceWarning,\n",
            "/usr/local/lib/python3.7/dist-packages/sklearn/linear_model/_sag.py:354: ConvergenceWarning: The max_iter was reached which means the coef_ did not converge\n",
            "  ConvergenceWarning,\n",
            "/usr/local/lib/python3.7/dist-packages/sklearn/linear_model/_sag.py:354: ConvergenceWarning: The max_iter was reached which means the coef_ did not converge\n",
            "  ConvergenceWarning,\n",
            "/usr/local/lib/python3.7/dist-packages/sklearn/linear_model/_sag.py:354: ConvergenceWarning: The max_iter was reached which means the coef_ did not converge\n",
            "  ConvergenceWarning,\n",
            "/usr/local/lib/python3.7/dist-packages/sklearn/linear_model/_sag.py:354: ConvergenceWarning: The max_iter was reached which means the coef_ did not converge\n",
            "  ConvergenceWarning,\n",
            "/usr/local/lib/python3.7/dist-packages/sklearn/linear_model/_sag.py:354: ConvergenceWarning: The max_iter was reached which means the coef_ did not converge\n",
            "  ConvergenceWarning,\n",
            "/usr/local/lib/python3.7/dist-packages/sklearn/linear_model/_sag.py:354: ConvergenceWarning: The max_iter was reached which means the coef_ did not converge\n",
            "  ConvergenceWarning,\n",
            "/usr/local/lib/python3.7/dist-packages/sklearn/linear_model/_sag.py:354: ConvergenceWarning: The max_iter was reached which means the coef_ did not converge\n",
            "  ConvergenceWarning,\n",
            "/usr/local/lib/python3.7/dist-packages/sklearn/linear_model/_sag.py:354: ConvergenceWarning: The max_iter was reached which means the coef_ did not converge\n",
            "  ConvergenceWarning,\n",
            "/usr/local/lib/python3.7/dist-packages/sklearn/linear_model/_sag.py:354: ConvergenceWarning: The max_iter was reached which means the coef_ did not converge\n",
            "  ConvergenceWarning,\n",
            "/usr/local/lib/python3.7/dist-packages/sklearn/linear_model/_sag.py:354: ConvergenceWarning: The max_iter was reached which means the coef_ did not converge\n",
            "  ConvergenceWarning,\n",
            "/usr/local/lib/python3.7/dist-packages/sklearn/linear_model/_sag.py:354: ConvergenceWarning: The max_iter was reached which means the coef_ did not converge\n",
            "  ConvergenceWarning,\n",
            "/usr/local/lib/python3.7/dist-packages/sklearn/linear_model/_sag.py:354: ConvergenceWarning: The max_iter was reached which means the coef_ did not converge\n",
            "  ConvergenceWarning,\n",
            "/usr/local/lib/python3.7/dist-packages/sklearn/linear_model/_sag.py:354: ConvergenceWarning: The max_iter was reached which means the coef_ did not converge\n",
            "  ConvergenceWarning,\n",
            "/usr/local/lib/python3.7/dist-packages/sklearn/linear_model/_sag.py:354: ConvergenceWarning: The max_iter was reached which means the coef_ did not converge\n",
            "  ConvergenceWarning,\n",
            "/usr/local/lib/python3.7/dist-packages/sklearn/linear_model/_sag.py:354: ConvergenceWarning: The max_iter was reached which means the coef_ did not converge\n",
            "  ConvergenceWarning,\n",
            "/usr/local/lib/python3.7/dist-packages/sklearn/linear_model/_sag.py:354: ConvergenceWarning: The max_iter was reached which means the coef_ did not converge\n",
            "  ConvergenceWarning,\n",
            "/usr/local/lib/python3.7/dist-packages/sklearn/linear_model/_sag.py:354: ConvergenceWarning: The max_iter was reached which means the coef_ did not converge\n",
            "  ConvergenceWarning,\n",
            "/usr/local/lib/python3.7/dist-packages/sklearn/linear_model/_sag.py:354: ConvergenceWarning: The max_iter was reached which means the coef_ did not converge\n",
            "  ConvergenceWarning,\n",
            "/usr/local/lib/python3.7/dist-packages/sklearn/linear_model/_sag.py:354: ConvergenceWarning: The max_iter was reached which means the coef_ did not converge\n",
            "  ConvergenceWarning,\n",
            "/usr/local/lib/python3.7/dist-packages/sklearn/linear_model/_sag.py:354: ConvergenceWarning: The max_iter was reached which means the coef_ did not converge\n",
            "  ConvergenceWarning,\n",
            "/usr/local/lib/python3.7/dist-packages/sklearn/linear_model/_sag.py:354: ConvergenceWarning: The max_iter was reached which means the coef_ did not converge\n",
            "  ConvergenceWarning,\n",
            "/usr/local/lib/python3.7/dist-packages/sklearn/linear_model/_sag.py:354: ConvergenceWarning: The max_iter was reached which means the coef_ did not converge\n",
            "  ConvergenceWarning,\n",
            "/usr/local/lib/python3.7/dist-packages/sklearn/linear_model/_sag.py:354: ConvergenceWarning: The max_iter was reached which means the coef_ did not converge\n",
            "  ConvergenceWarning,\n",
            "/usr/local/lib/python3.7/dist-packages/sklearn/linear_model/_sag.py:354: ConvergenceWarning: The max_iter was reached which means the coef_ did not converge\n",
            "  ConvergenceWarning,\n",
            "/usr/local/lib/python3.7/dist-packages/sklearn/linear_model/_sag.py:354: ConvergenceWarning: The max_iter was reached which means the coef_ did not converge\n",
            "  ConvergenceWarning,\n",
            "/usr/local/lib/python3.7/dist-packages/sklearn/linear_model/_sag.py:354: ConvergenceWarning: The max_iter was reached which means the coef_ did not converge\n",
            "  ConvergenceWarning,\n",
            "/usr/local/lib/python3.7/dist-packages/sklearn/linear_model/_sag.py:354: ConvergenceWarning: The max_iter was reached which means the coef_ did not converge\n",
            "  ConvergenceWarning,\n",
            "/usr/local/lib/python3.7/dist-packages/sklearn/linear_model/_sag.py:354: ConvergenceWarning: The max_iter was reached which means the coef_ did not converge\n",
            "  ConvergenceWarning,\n",
            "/usr/local/lib/python3.7/dist-packages/sklearn/linear_model/_sag.py:354: ConvergenceWarning: The max_iter was reached which means the coef_ did not converge\n",
            "  ConvergenceWarning,\n",
            "/usr/local/lib/python3.7/dist-packages/sklearn/linear_model/_sag.py:354: ConvergenceWarning: The max_iter was reached which means the coef_ did not converge\n",
            "  ConvergenceWarning,\n",
            "/usr/local/lib/python3.7/dist-packages/sklearn/linear_model/_sag.py:354: ConvergenceWarning: The max_iter was reached which means the coef_ did not converge\n",
            "  ConvergenceWarning,\n",
            "/usr/local/lib/python3.7/dist-packages/sklearn/linear_model/_sag.py:354: ConvergenceWarning: The max_iter was reached which means the coef_ did not converge\n",
            "  ConvergenceWarning,\n",
            "/usr/local/lib/python3.7/dist-packages/sklearn/linear_model/_sag.py:354: ConvergenceWarning: The max_iter was reached which means the coef_ did not converge\n",
            "  ConvergenceWarning,\n",
            "/usr/local/lib/python3.7/dist-packages/sklearn/linear_model/_sag.py:354: ConvergenceWarning: The max_iter was reached which means the coef_ did not converge\n",
            "  ConvergenceWarning,\n",
            "/usr/local/lib/python3.7/dist-packages/sklearn/linear_model/_sag.py:354: ConvergenceWarning: The max_iter was reached which means the coef_ did not converge\n",
            "  ConvergenceWarning,\n",
            "/usr/local/lib/python3.7/dist-packages/sklearn/linear_model/_sag.py:354: ConvergenceWarning: The max_iter was reached which means the coef_ did not converge\n",
            "  ConvergenceWarning,\n",
            "/usr/local/lib/python3.7/dist-packages/sklearn/linear_model/_sag.py:354: ConvergenceWarning: The max_iter was reached which means the coef_ did not converge\n",
            "  ConvergenceWarning,\n",
            "/usr/local/lib/python3.7/dist-packages/sklearn/linear_model/_sag.py:354: ConvergenceWarning: The max_iter was reached which means the coef_ did not converge\n",
            "  ConvergenceWarning,\n",
            "/usr/local/lib/python3.7/dist-packages/sklearn/linear_model/_sag.py:354: ConvergenceWarning: The max_iter was reached which means the coef_ did not converge\n",
            "  ConvergenceWarning,\n",
            "/usr/local/lib/python3.7/dist-packages/sklearn/linear_model/_sag.py:354: ConvergenceWarning: The max_iter was reached which means the coef_ did not converge\n",
            "  ConvergenceWarning,\n",
            "/usr/local/lib/python3.7/dist-packages/sklearn/linear_model/_sag.py:354: ConvergenceWarning: The max_iter was reached which means the coef_ did not converge\n",
            "  ConvergenceWarning,\n",
            "/usr/local/lib/python3.7/dist-packages/sklearn/linear_model/_sag.py:354: ConvergenceWarning: The max_iter was reached which means the coef_ did not converge\n",
            "  ConvergenceWarning,\n",
            "/usr/local/lib/python3.7/dist-packages/sklearn/linear_model/_sag.py:354: ConvergenceWarning: The max_iter was reached which means the coef_ did not converge\n",
            "  ConvergenceWarning,\n",
            "/usr/local/lib/python3.7/dist-packages/sklearn/linear_model/_sag.py:354: ConvergenceWarning: The max_iter was reached which means the coef_ did not converge\n",
            "  ConvergenceWarning,\n",
            "/usr/local/lib/python3.7/dist-packages/sklearn/linear_model/_sag.py:354: ConvergenceWarning: The max_iter was reached which means the coef_ did not converge\n",
            "  ConvergenceWarning,\n",
            "/usr/local/lib/python3.7/dist-packages/sklearn/linear_model/_sag.py:354: ConvergenceWarning: The max_iter was reached which means the coef_ did not converge\n",
            "  ConvergenceWarning,\n",
            "/usr/local/lib/python3.7/dist-packages/sklearn/linear_model/_sag.py:354: ConvergenceWarning: The max_iter was reached which means the coef_ did not converge\n",
            "  ConvergenceWarning,\n",
            "/usr/local/lib/python3.7/dist-packages/sklearn/linear_model/_sag.py:354: ConvergenceWarning: The max_iter was reached which means the coef_ did not converge\n",
            "  ConvergenceWarning,\n",
            "/usr/local/lib/python3.7/dist-packages/sklearn/linear_model/_sag.py:354: ConvergenceWarning: The max_iter was reached which means the coef_ did not converge\n",
            "  ConvergenceWarning,\n",
            "/usr/local/lib/python3.7/dist-packages/sklearn/linear_model/_sag.py:354: ConvergenceWarning: The max_iter was reached which means the coef_ did not converge\n",
            "  ConvergenceWarning,\n",
            "/usr/local/lib/python3.7/dist-packages/sklearn/linear_model/_sag.py:354: ConvergenceWarning: The max_iter was reached which means the coef_ did not converge\n",
            "  ConvergenceWarning,\n",
            "/usr/local/lib/python3.7/dist-packages/sklearn/linear_model/_sag.py:354: ConvergenceWarning: The max_iter was reached which means the coef_ did not converge\n",
            "  ConvergenceWarning,\n",
            "/usr/local/lib/python3.7/dist-packages/sklearn/linear_model/_sag.py:354: ConvergenceWarning: The max_iter was reached which means the coef_ did not converge\n",
            "  ConvergenceWarning,\n",
            "/usr/local/lib/python3.7/dist-packages/sklearn/linear_model/_sag.py:354: ConvergenceWarning: The max_iter was reached which means the coef_ did not converge\n",
            "  ConvergenceWarning,\n",
            "/usr/local/lib/python3.7/dist-packages/sklearn/linear_model/_sag.py:354: ConvergenceWarning: The max_iter was reached which means the coef_ did not converge\n",
            "  ConvergenceWarning,\n",
            "/usr/local/lib/python3.7/dist-packages/sklearn/linear_model/_sag.py:354: ConvergenceWarning: The max_iter was reached which means the coef_ did not converge\n",
            "  ConvergenceWarning,\n",
            "/usr/local/lib/python3.7/dist-packages/sklearn/linear_model/_sag.py:354: ConvergenceWarning: The max_iter was reached which means the coef_ did not converge\n",
            "  ConvergenceWarning,\n",
            "/usr/local/lib/python3.7/dist-packages/sklearn/linear_model/_sag.py:354: ConvergenceWarning: The max_iter was reached which means the coef_ did not converge\n",
            "  ConvergenceWarning,\n",
            "/usr/local/lib/python3.7/dist-packages/sklearn/linear_model/_sag.py:354: ConvergenceWarning: The max_iter was reached which means the coef_ did not converge\n",
            "  ConvergenceWarning,\n",
            "/usr/local/lib/python3.7/dist-packages/sklearn/linear_model/_sag.py:354: ConvergenceWarning: The max_iter was reached which means the coef_ did not converge\n",
            "  ConvergenceWarning,\n",
            "/usr/local/lib/python3.7/dist-packages/sklearn/linear_model/_sag.py:354: ConvergenceWarning: The max_iter was reached which means the coef_ did not converge\n",
            "  ConvergenceWarning,\n",
            "/usr/local/lib/python3.7/dist-packages/sklearn/linear_model/_sag.py:354: ConvergenceWarning: The max_iter was reached which means the coef_ did not converge\n",
            "  ConvergenceWarning,\n",
            "/usr/local/lib/python3.7/dist-packages/sklearn/linear_model/_sag.py:354: ConvergenceWarning: The max_iter was reached which means the coef_ did not converge\n",
            "  ConvergenceWarning,\n",
            "/usr/local/lib/python3.7/dist-packages/sklearn/linear_model/_sag.py:354: ConvergenceWarning: The max_iter was reached which means the coef_ did not converge\n",
            "  ConvergenceWarning,\n",
            "/usr/local/lib/python3.7/dist-packages/sklearn/linear_model/_sag.py:354: ConvergenceWarning: The max_iter was reached which means the coef_ did not converge\n",
            "  ConvergenceWarning,\n",
            "/usr/local/lib/python3.7/dist-packages/sklearn/linear_model/_sag.py:354: ConvergenceWarning: The max_iter was reached which means the coef_ did not converge\n",
            "  ConvergenceWarning,\n",
            "/usr/local/lib/python3.7/dist-packages/sklearn/linear_model/_sag.py:354: ConvergenceWarning: The max_iter was reached which means the coef_ did not converge\n",
            "  ConvergenceWarning,\n",
            "/usr/local/lib/python3.7/dist-packages/sklearn/linear_model/_sag.py:354: ConvergenceWarning: The max_iter was reached which means the coef_ did not converge\n",
            "  ConvergenceWarning,\n",
            "/usr/local/lib/python3.7/dist-packages/sklearn/linear_model/_sag.py:354: ConvergenceWarning: The max_iter was reached which means the coef_ did not converge\n",
            "  ConvergenceWarning,\n",
            "/usr/local/lib/python3.7/dist-packages/sklearn/linear_model/_sag.py:354: ConvergenceWarning: The max_iter was reached which means the coef_ did not converge\n",
            "  ConvergenceWarning,\n",
            "/usr/local/lib/python3.7/dist-packages/sklearn/linear_model/_sag.py:354: ConvergenceWarning: The max_iter was reached which means the coef_ did not converge\n",
            "  ConvergenceWarning,\n",
            "/usr/local/lib/python3.7/dist-packages/sklearn/linear_model/_sag.py:354: ConvergenceWarning: The max_iter was reached which means the coef_ did not converge\n",
            "  ConvergenceWarning,\n",
            "/usr/local/lib/python3.7/dist-packages/sklearn/linear_model/_sag.py:354: ConvergenceWarning: The max_iter was reached which means the coef_ did not converge\n",
            "  ConvergenceWarning,\n",
            "/usr/local/lib/python3.7/dist-packages/sklearn/linear_model/_sag.py:354: ConvergenceWarning: The max_iter was reached which means the coef_ did not converge\n",
            "  ConvergenceWarning,\n",
            "/usr/local/lib/python3.7/dist-packages/sklearn/linear_model/_sag.py:354: ConvergenceWarning: The max_iter was reached which means the coef_ did not converge\n",
            "  ConvergenceWarning,\n",
            "/usr/local/lib/python3.7/dist-packages/sklearn/linear_model/_sag.py:354: ConvergenceWarning: The max_iter was reached which means the coef_ did not converge\n",
            "  ConvergenceWarning,\n",
            "/usr/local/lib/python3.7/dist-packages/sklearn/linear_model/_sag.py:354: ConvergenceWarning: The max_iter was reached which means the coef_ did not converge\n",
            "  ConvergenceWarning,\n",
            "/usr/local/lib/python3.7/dist-packages/sklearn/linear_model/_sag.py:354: ConvergenceWarning: The max_iter was reached which means the coef_ did not converge\n",
            "  ConvergenceWarning,\n",
            "/usr/local/lib/python3.7/dist-packages/sklearn/linear_model/_sag.py:354: ConvergenceWarning: The max_iter was reached which means the coef_ did not converge\n",
            "  ConvergenceWarning,\n",
            "/usr/local/lib/python3.7/dist-packages/sklearn/linear_model/_sag.py:354: ConvergenceWarning: The max_iter was reached which means the coef_ did not converge\n",
            "  ConvergenceWarning,\n",
            "/usr/local/lib/python3.7/dist-packages/sklearn/linear_model/_sag.py:354: ConvergenceWarning: The max_iter was reached which means the coef_ did not converge\n",
            "  ConvergenceWarning,\n",
            "/usr/local/lib/python3.7/dist-packages/sklearn/linear_model/_sag.py:354: ConvergenceWarning: The max_iter was reached which means the coef_ did not converge\n",
            "  ConvergenceWarning,\n",
            "/usr/local/lib/python3.7/dist-packages/sklearn/linear_model/_sag.py:354: ConvergenceWarning: The max_iter was reached which means the coef_ did not converge\n",
            "  ConvergenceWarning,\n",
            "/usr/local/lib/python3.7/dist-packages/sklearn/linear_model/_sag.py:354: ConvergenceWarning: The max_iter was reached which means the coef_ did not converge\n",
            "  ConvergenceWarning,\n",
            "/usr/local/lib/python3.7/dist-packages/sklearn/linear_model/_sag.py:354: ConvergenceWarning: The max_iter was reached which means the coef_ did not converge\n",
            "  ConvergenceWarning,\n",
            "/usr/local/lib/python3.7/dist-packages/sklearn/linear_model/_sag.py:354: ConvergenceWarning: The max_iter was reached which means the coef_ did not converge\n",
            "  ConvergenceWarning,\n",
            "/usr/local/lib/python3.7/dist-packages/sklearn/linear_model/_sag.py:354: ConvergenceWarning: The max_iter was reached which means the coef_ did not converge\n",
            "  ConvergenceWarning,\n",
            "/usr/local/lib/python3.7/dist-packages/sklearn/linear_model/_sag.py:354: ConvergenceWarning: The max_iter was reached which means the coef_ did not converge\n",
            "  ConvergenceWarning,\n",
            "/usr/local/lib/python3.7/dist-packages/sklearn/linear_model/_sag.py:354: ConvergenceWarning: The max_iter was reached which means the coef_ did not converge\n",
            "  ConvergenceWarning,\n",
            "/usr/local/lib/python3.7/dist-packages/sklearn/linear_model/_sag.py:354: ConvergenceWarning: The max_iter was reached which means the coef_ did not converge\n",
            "  ConvergenceWarning,\n",
            "/usr/local/lib/python3.7/dist-packages/sklearn/linear_model/_sag.py:354: ConvergenceWarning: The max_iter was reached which means the coef_ did not converge\n",
            "  ConvergenceWarning,\n",
            "/usr/local/lib/python3.7/dist-packages/sklearn/linear_model/_sag.py:354: ConvergenceWarning: The max_iter was reached which means the coef_ did not converge\n",
            "  ConvergenceWarning,\n",
            "/usr/local/lib/python3.7/dist-packages/sklearn/linear_model/_sag.py:354: ConvergenceWarning: The max_iter was reached which means the coef_ did not converge\n",
            "  ConvergenceWarning,\n",
            "/usr/local/lib/python3.7/dist-packages/sklearn/linear_model/_sag.py:354: ConvergenceWarning: The max_iter was reached which means the coef_ did not converge\n",
            "  ConvergenceWarning,\n",
            "/usr/local/lib/python3.7/dist-packages/sklearn/linear_model/_sag.py:354: ConvergenceWarning: The max_iter was reached which means the coef_ did not converge\n",
            "  ConvergenceWarning,\n",
            "/usr/local/lib/python3.7/dist-packages/sklearn/linear_model/_sag.py:354: ConvergenceWarning: The max_iter was reached which means the coef_ did not converge\n",
            "  ConvergenceWarning,\n",
            "/usr/local/lib/python3.7/dist-packages/sklearn/linear_model/_sag.py:354: ConvergenceWarning: The max_iter was reached which means the coef_ did not converge\n",
            "  ConvergenceWarning,\n",
            "/usr/local/lib/python3.7/dist-packages/sklearn/linear_model/_sag.py:354: ConvergenceWarning: The max_iter was reached which means the coef_ did not converge\n",
            "  ConvergenceWarning,\n",
            "/usr/local/lib/python3.7/dist-packages/sklearn/linear_model/_sag.py:354: ConvergenceWarning: The max_iter was reached which means the coef_ did not converge\n",
            "  ConvergenceWarning,\n",
            "/usr/local/lib/python3.7/dist-packages/sklearn/linear_model/_sag.py:354: ConvergenceWarning: The max_iter was reached which means the coef_ did not converge\n",
            "  ConvergenceWarning,\n",
            "/usr/local/lib/python3.7/dist-packages/sklearn/linear_model/_sag.py:354: ConvergenceWarning: The max_iter was reached which means the coef_ did not converge\n",
            "  ConvergenceWarning,\n",
            "/usr/local/lib/python3.7/dist-packages/sklearn/linear_model/_sag.py:354: ConvergenceWarning: The max_iter was reached which means the coef_ did not converge\n",
            "  ConvergenceWarning,\n",
            "/usr/local/lib/python3.7/dist-packages/sklearn/linear_model/_sag.py:354: ConvergenceWarning: The max_iter was reached which means the coef_ did not converge\n",
            "  ConvergenceWarning,\n",
            "/usr/local/lib/python3.7/dist-packages/sklearn/linear_model/_sag.py:354: ConvergenceWarning: The max_iter was reached which means the coef_ did not converge\n",
            "  ConvergenceWarning,\n",
            "/usr/local/lib/python3.7/dist-packages/sklearn/linear_model/_sag.py:354: ConvergenceWarning: The max_iter was reached which means the coef_ did not converge\n",
            "  ConvergenceWarning,\n",
            "/usr/local/lib/python3.7/dist-packages/sklearn/linear_model/_sag.py:354: ConvergenceWarning: The max_iter was reached which means the coef_ did not converge\n",
            "  ConvergenceWarning,\n",
            "/usr/local/lib/python3.7/dist-packages/sklearn/linear_model/_sag.py:354: ConvergenceWarning: The max_iter was reached which means the coef_ did not converge\n",
            "  ConvergenceWarning,\n",
            "/usr/local/lib/python3.7/dist-packages/sklearn/linear_model/_sag.py:354: ConvergenceWarning: The max_iter was reached which means the coef_ did not converge\n",
            "  ConvergenceWarning,\n",
            "/usr/local/lib/python3.7/dist-packages/sklearn/linear_model/_sag.py:354: ConvergenceWarning: The max_iter was reached which means the coef_ did not converge\n",
            "  ConvergenceWarning,\n",
            "/usr/local/lib/python3.7/dist-packages/sklearn/linear_model/_sag.py:354: ConvergenceWarning: The max_iter was reached which means the coef_ did not converge\n",
            "  ConvergenceWarning,\n",
            "/usr/local/lib/python3.7/dist-packages/sklearn/linear_model/_sag.py:354: ConvergenceWarning: The max_iter was reached which means the coef_ did not converge\n",
            "  ConvergenceWarning,\n",
            "/usr/local/lib/python3.7/dist-packages/sklearn/linear_model/_sag.py:354: ConvergenceWarning: The max_iter was reached which means the coef_ did not converge\n",
            "  ConvergenceWarning,\n",
            "/usr/local/lib/python3.7/dist-packages/sklearn/linear_model/_sag.py:354: ConvergenceWarning: The max_iter was reached which means the coef_ did not converge\n",
            "  ConvergenceWarning,\n",
            "/usr/local/lib/python3.7/dist-packages/sklearn/linear_model/_sag.py:354: ConvergenceWarning: The max_iter was reached which means the coef_ did not converge\n",
            "  ConvergenceWarning,\n",
            "/usr/local/lib/python3.7/dist-packages/sklearn/linear_model/_sag.py:354: ConvergenceWarning: The max_iter was reached which means the coef_ did not converge\n",
            "  ConvergenceWarning,\n",
            "/usr/local/lib/python3.7/dist-packages/sklearn/linear_model/_sag.py:354: ConvergenceWarning: The max_iter was reached which means the coef_ did not converge\n",
            "  ConvergenceWarning,\n",
            "/usr/local/lib/python3.7/dist-packages/sklearn/linear_model/_sag.py:354: ConvergenceWarning: The max_iter was reached which means the coef_ did not converge\n",
            "  ConvergenceWarning,\n",
            "/usr/local/lib/python3.7/dist-packages/sklearn/linear_model/_sag.py:354: ConvergenceWarning: The max_iter was reached which means the coef_ did not converge\n",
            "  ConvergenceWarning,\n",
            "/usr/local/lib/python3.7/dist-packages/sklearn/linear_model/_sag.py:354: ConvergenceWarning: The max_iter was reached which means the coef_ did not converge\n",
            "  ConvergenceWarning,\n",
            "/usr/local/lib/python3.7/dist-packages/sklearn/linear_model/_sag.py:354: ConvergenceWarning: The max_iter was reached which means the coef_ did not converge\n",
            "  ConvergenceWarning,\n",
            "/usr/local/lib/python3.7/dist-packages/sklearn/linear_model/_sag.py:354: ConvergenceWarning: The max_iter was reached which means the coef_ did not converge\n",
            "  ConvergenceWarning,\n",
            "/usr/local/lib/python3.7/dist-packages/sklearn/linear_model/_sag.py:354: ConvergenceWarning: The max_iter was reached which means the coef_ did not converge\n",
            "  ConvergenceWarning,\n",
            "/usr/local/lib/python3.7/dist-packages/sklearn/linear_model/_sag.py:354: ConvergenceWarning: The max_iter was reached which means the coef_ did not converge\n",
            "  ConvergenceWarning,\n",
            "/usr/local/lib/python3.7/dist-packages/sklearn/linear_model/_sag.py:354: ConvergenceWarning: The max_iter was reached which means the coef_ did not converge\n",
            "  ConvergenceWarning,\n",
            "/usr/local/lib/python3.7/dist-packages/sklearn/linear_model/_sag.py:354: ConvergenceWarning: The max_iter was reached which means the coef_ did not converge\n",
            "  ConvergenceWarning,\n",
            "/usr/local/lib/python3.7/dist-packages/sklearn/linear_model/_sag.py:354: ConvergenceWarning: The max_iter was reached which means the coef_ did not converge\n",
            "  ConvergenceWarning,\n",
            "/usr/local/lib/python3.7/dist-packages/sklearn/linear_model/_sag.py:354: ConvergenceWarning: The max_iter was reached which means the coef_ did not converge\n",
            "  ConvergenceWarning,\n",
            "/usr/local/lib/python3.7/dist-packages/sklearn/linear_model/_sag.py:354: ConvergenceWarning: The max_iter was reached which means the coef_ did not converge\n",
            "  ConvergenceWarning,\n",
            "/usr/local/lib/python3.7/dist-packages/sklearn/linear_model/_sag.py:354: ConvergenceWarning: The max_iter was reached which means the coef_ did not converge\n",
            "  ConvergenceWarning,\n",
            "/usr/local/lib/python3.7/dist-packages/sklearn/linear_model/_sag.py:354: ConvergenceWarning: The max_iter was reached which means the coef_ did not converge\n",
            "  ConvergenceWarning,\n",
            "/usr/local/lib/python3.7/dist-packages/sklearn/linear_model/_sag.py:354: ConvergenceWarning: The max_iter was reached which means the coef_ did not converge\n",
            "  ConvergenceWarning,\n",
            "/usr/local/lib/python3.7/dist-packages/sklearn/linear_model/_sag.py:354: ConvergenceWarning: The max_iter was reached which means the coef_ did not converge\n",
            "  ConvergenceWarning,\n",
            "/usr/local/lib/python3.7/dist-packages/sklearn/linear_model/_sag.py:354: ConvergenceWarning: The max_iter was reached which means the coef_ did not converge\n",
            "  ConvergenceWarning,\n",
            "/usr/local/lib/python3.7/dist-packages/sklearn/linear_model/_sag.py:354: ConvergenceWarning: The max_iter was reached which means the coef_ did not converge\n",
            "  ConvergenceWarning,\n",
            "/usr/local/lib/python3.7/dist-packages/sklearn/linear_model/_sag.py:354: ConvergenceWarning: The max_iter was reached which means the coef_ did not converge\n",
            "  ConvergenceWarning,\n",
            "/usr/local/lib/python3.7/dist-packages/sklearn/linear_model/_sag.py:354: ConvergenceWarning: The max_iter was reached which means the coef_ did not converge\n",
            "  ConvergenceWarning,\n",
            "/usr/local/lib/python3.7/dist-packages/sklearn/linear_model/_sag.py:354: ConvergenceWarning: The max_iter was reached which means the coef_ did not converge\n",
            "  ConvergenceWarning,\n",
            "/usr/local/lib/python3.7/dist-packages/sklearn/linear_model/_sag.py:354: ConvergenceWarning: The max_iter was reached which means the coef_ did not converge\n",
            "  ConvergenceWarning,\n",
            "/usr/local/lib/python3.7/dist-packages/sklearn/linear_model/_sag.py:354: ConvergenceWarning: The max_iter was reached which means the coef_ did not converge\n",
            "  ConvergenceWarning,\n",
            "/usr/local/lib/python3.7/dist-packages/sklearn/linear_model/_sag.py:354: ConvergenceWarning: The max_iter was reached which means the coef_ did not converge\n",
            "  ConvergenceWarning,\n",
            "/usr/local/lib/python3.7/dist-packages/sklearn/linear_model/_sag.py:354: ConvergenceWarning: The max_iter was reached which means the coef_ did not converge\n",
            "  ConvergenceWarning,\n",
            "/usr/local/lib/python3.7/dist-packages/sklearn/linear_model/_sag.py:354: ConvergenceWarning: The max_iter was reached which means the coef_ did not converge\n",
            "  ConvergenceWarning,\n",
            "/usr/local/lib/python3.7/dist-packages/sklearn/linear_model/_sag.py:354: ConvergenceWarning: The max_iter was reached which means the coef_ did not converge\n",
            "  ConvergenceWarning,\n",
            "/usr/local/lib/python3.7/dist-packages/sklearn/linear_model/_sag.py:354: ConvergenceWarning: The max_iter was reached which means the coef_ did not converge\n",
            "  ConvergenceWarning,\n",
            "/usr/local/lib/python3.7/dist-packages/sklearn/linear_model/_sag.py:354: ConvergenceWarning: The max_iter was reached which means the coef_ did not converge\n",
            "  ConvergenceWarning,\n",
            "/usr/local/lib/python3.7/dist-packages/sklearn/linear_model/_sag.py:354: ConvergenceWarning: The max_iter was reached which means the coef_ did not converge\n",
            "  ConvergenceWarning,\n",
            "/usr/local/lib/python3.7/dist-packages/sklearn/linear_model/_sag.py:354: ConvergenceWarning: The max_iter was reached which means the coef_ did not converge\n",
            "  ConvergenceWarning,\n",
            "/usr/local/lib/python3.7/dist-packages/sklearn/linear_model/_sag.py:354: ConvergenceWarning: The max_iter was reached which means the coef_ did not converge\n",
            "  ConvergenceWarning,\n",
            "/usr/local/lib/python3.7/dist-packages/sklearn/linear_model/_sag.py:354: ConvergenceWarning: The max_iter was reached which means the coef_ did not converge\n",
            "  ConvergenceWarning,\n",
            "/usr/local/lib/python3.7/dist-packages/sklearn/linear_model/_sag.py:354: ConvergenceWarning: The max_iter was reached which means the coef_ did not converge\n",
            "  ConvergenceWarning,\n",
            "/usr/local/lib/python3.7/dist-packages/sklearn/linear_model/_sag.py:354: ConvergenceWarning: The max_iter was reached which means the coef_ did not converge\n",
            "  ConvergenceWarning,\n",
            "/usr/local/lib/python3.7/dist-packages/sklearn/linear_model/_sag.py:354: ConvergenceWarning: The max_iter was reached which means the coef_ did not converge\n",
            "  ConvergenceWarning,\n",
            "/usr/local/lib/python3.7/dist-packages/sklearn/linear_model/_sag.py:354: ConvergenceWarning: The max_iter was reached which means the coef_ did not converge\n",
            "  ConvergenceWarning,\n",
            "/usr/local/lib/python3.7/dist-packages/sklearn/linear_model/_sag.py:354: ConvergenceWarning: The max_iter was reached which means the coef_ did not converge\n",
            "  ConvergenceWarning,\n",
            "/usr/local/lib/python3.7/dist-packages/sklearn/linear_model/_sag.py:354: ConvergenceWarning: The max_iter was reached which means the coef_ did not converge\n",
            "  ConvergenceWarning,\n",
            "/usr/local/lib/python3.7/dist-packages/sklearn/linear_model/_sag.py:354: ConvergenceWarning: The max_iter was reached which means the coef_ did not converge\n",
            "  ConvergenceWarning,\n",
            "/usr/local/lib/python3.7/dist-packages/sklearn/linear_model/_sag.py:354: ConvergenceWarning: The max_iter was reached which means the coef_ did not converge\n",
            "  ConvergenceWarning,\n",
            "/usr/local/lib/python3.7/dist-packages/sklearn/linear_model/_sag.py:354: ConvergenceWarning: The max_iter was reached which means the coef_ did not converge\n",
            "  ConvergenceWarning,\n",
            "/usr/local/lib/python3.7/dist-packages/sklearn/linear_model/_sag.py:354: ConvergenceWarning: The max_iter was reached which means the coef_ did not converge\n",
            "  ConvergenceWarning,\n",
            "/usr/local/lib/python3.7/dist-packages/sklearn/linear_model/_sag.py:354: ConvergenceWarning: The max_iter was reached which means the coef_ did not converge\n",
            "  ConvergenceWarning,\n",
            "/usr/local/lib/python3.7/dist-packages/sklearn/linear_model/_sag.py:354: ConvergenceWarning: The max_iter was reached which means the coef_ did not converge\n",
            "  ConvergenceWarning,\n",
            "/usr/local/lib/python3.7/dist-packages/sklearn/linear_model/_sag.py:354: ConvergenceWarning: The max_iter was reached which means the coef_ did not converge\n",
            "  ConvergenceWarning,\n",
            "/usr/local/lib/python3.7/dist-packages/sklearn/linear_model/_sag.py:354: ConvergenceWarning: The max_iter was reached which means the coef_ did not converge\n",
            "  ConvergenceWarning,\n",
            "/usr/local/lib/python3.7/dist-packages/sklearn/linear_model/_sag.py:354: ConvergenceWarning: The max_iter was reached which means the coef_ did not converge\n",
            "  ConvergenceWarning,\n",
            "/usr/local/lib/python3.7/dist-packages/sklearn/linear_model/_sag.py:354: ConvergenceWarning: The max_iter was reached which means the coef_ did not converge\n",
            "  ConvergenceWarning,\n",
            "/usr/local/lib/python3.7/dist-packages/sklearn/linear_model/_sag.py:354: ConvergenceWarning: The max_iter was reached which means the coef_ did not converge\n",
            "  ConvergenceWarning,\n",
            "/usr/local/lib/python3.7/dist-packages/sklearn/linear_model/_sag.py:354: ConvergenceWarning: The max_iter was reached which means the coef_ did not converge\n",
            "  ConvergenceWarning,\n",
            "/usr/local/lib/python3.7/dist-packages/sklearn/linear_model/_sag.py:354: ConvergenceWarning: The max_iter was reached which means the coef_ did not converge\n",
            "  ConvergenceWarning,\n",
            "/usr/local/lib/python3.7/dist-packages/sklearn/linear_model/_sag.py:354: ConvergenceWarning: The max_iter was reached which means the coef_ did not converge\n",
            "  ConvergenceWarning,\n"
          ]
        },
        {
          "output_type": "execute_result",
          "data": {
            "text/plain": [
              "GridSearchCV(cv=StratifiedKFold(n_splits=3, random_state=42, shuffle=True),\n",
              "             estimator=Pipeline(steps=[('poly', PolynomialFeatures()),\n",
              "                                       ('classifier',\n",
              "                                        LogisticRegression(C=10,\n",
              "                                                           multi_class='ovr',\n",
              "                                                           penalty='l1',\n",
              "                                                           random_state=42,\n",
              "                                                           solver='saga'))]),\n",
              "             param_grid={'classifier__C': [0.01, 0.1, 1, 10],\n",
              "                         'classifier__class_weight': ['balanced', None],\n",
              "                         'poly__degree': [1, 3, 5]},\n",
              "             return_train_score=True)"
            ]
          },
          "metadata": {},
          "execution_count": 73
        }
      ]
    },
    {
      "cell_type": "markdown",
      "source": [
        "Prendiamo i risultati della grid search e li ordiniamo per score."
      ],
      "metadata": {
        "id": "pZsyO6nHhwUw"
      }
    },
    {
      "cell_type": "code",
      "source": [
        "DataFrame(gs.cv_results_).sort_values(\"rank_test_score\").head(10)"
      ],
      "metadata": {
        "id": "AAAVWQkaIeNR",
        "outputId": "fb7618cf-271d-421b-91cf-30a10d26a472",
        "colab": {
          "base_uri": "https://localhost:8080/",
          "height": 601
        }
      },
      "execution_count": 70,
      "outputs": [
        {
          "output_type": "execute_result",
          "data": {
            "text/plain": [
              "    mean_fit_time  std_fit_time  mean_score_time  std_score_time  \\\n",
              "23      18.464327      0.493762         0.007478        0.000288   \n",
              "22       1.666212      0.008048         0.003488        0.000495   \n",
              "21       0.091163      0.022388         0.001653        0.000224   \n",
              "17      18.172176      0.783921         0.007185        0.000195   \n",
              "16       1.482820      0.052818         0.002971        0.000024   \n",
              "15       0.059062      0.009037         0.001822        0.000092   \n",
              "10       0.312115      0.126899         0.002806        0.000135   \n",
              "11       4.606972      1.142813         0.007483        0.000268   \n",
              "9        0.017979      0.001670         0.001877        0.000021   \n",
              "20      19.803302      0.260531         0.007354        0.000293   \n",
              "\n",
              "   param_classifier__C param_classifier__class_weight param_poly__degree  \\\n",
              "23                  10                           None                  5   \n",
              "22                  10                           None                  3   \n",
              "21                  10                           None                  1   \n",
              "17                   1                           None                  5   \n",
              "16                   1                           None                  3   \n",
              "15                   1                           None                  1   \n",
              "10                 0.1                           None                  3   \n",
              "11                 0.1                           None                  5   \n",
              "9                  0.1                           None                  1   \n",
              "20                  10                       balanced                  5   \n",
              "\n",
              "                                               params  split0_test_score  \\\n",
              "23  {'classifier__C': 10, 'classifier__class_weigh...           0.555118   \n",
              "22  {'classifier__C': 10, 'classifier__class_weigh...           0.539370   \n",
              "21  {'classifier__C': 10, 'classifier__class_weigh...           0.519685   \n",
              "17  {'classifier__C': 1, 'classifier__class_weight...           0.539370   \n",
              "16  {'classifier__C': 1, 'classifier__class_weight...           0.535433   \n",
              "15  {'classifier__C': 1, 'classifier__class_weight...           0.531496   \n",
              "10  {'classifier__C': 0.1, 'classifier__class_weig...           0.531496   \n",
              "11  {'classifier__C': 0.1, 'classifier__class_weig...           0.531496   \n",
              "9   {'classifier__C': 0.1, 'classifier__class_weig...           0.531496   \n",
              "20  {'classifier__C': 10, 'classifier__class_weigh...           0.444882   \n",
              "\n",
              "    split1_test_score  split2_test_score  mean_test_score  std_test_score  \\\n",
              "23           0.618110           0.590551         0.587927        0.025783   \n",
              "22           0.618110           0.602362         0.586614        0.034020   \n",
              "21           0.625984           0.602362         0.582677        0.045574   \n",
              "17           0.594488           0.578740         0.570866        0.023180   \n",
              "16           0.586614           0.582677         0.568241        0.023255   \n",
              "15           0.586614           0.582677         0.566929        0.025106   \n",
              "10           0.539370           0.562992         0.544619        0.013383   \n",
              "11           0.539370           0.562992         0.544619        0.013383   \n",
              "9            0.535433           0.562992         0.543307        0.014012   \n",
              "20           0.460630           0.566929         0.490814        0.054204   \n",
              "\n",
              "    rank_test_score  split0_train_score  split1_train_score  \\\n",
              "23                1            0.647638            0.594488   \n",
              "22                2            0.649606            0.612205   \n",
              "21                3            0.616142            0.590551   \n",
              "17                4            0.598425            0.570866   \n",
              "16                5            0.608268            0.574803   \n",
              "15                6            0.608268            0.576772   \n",
              "10                7            0.564961            0.541339   \n",
              "11                7            0.564961            0.541339   \n",
              "9                 9            0.564961            0.521654   \n",
              "20               10            0.570866            0.537402   \n",
              "\n",
              "    split2_train_score  mean_train_score  std_train_score  \n",
              "23            0.620079          0.620735         0.021703  \n",
              "22            0.629921          0.630577         0.015276  \n",
              "21            0.616142          0.607612         0.012064  \n",
              "17            0.574803          0.581365         0.012170  \n",
              "16            0.576772          0.586614         0.015332  \n",
              "15            0.568898          0.584646         0.017010  \n",
              "10            0.529528          0.545276         0.014731  \n",
              "11            0.529528          0.545276         0.014731  \n",
              "9             0.529528          0.538714         0.018836  \n",
              "20            0.586614          0.564961         0.020520  "
            ],
            "text/html": [
              "\n",
              "  <div id=\"df-dc010e25-ecc8-4fd1-be0c-2ffed065645d\">\n",
              "    <div class=\"colab-df-container\">\n",
              "      <div>\n",
              "<style scoped>\n",
              "    .dataframe tbody tr th:only-of-type {\n",
              "        vertical-align: middle;\n",
              "    }\n",
              "\n",
              "    .dataframe tbody tr th {\n",
              "        vertical-align: top;\n",
              "    }\n",
              "\n",
              "    .dataframe thead th {\n",
              "        text-align: right;\n",
              "    }\n",
              "</style>\n",
              "<table border=\"1\" class=\"dataframe\">\n",
              "  <thead>\n",
              "    <tr style=\"text-align: right;\">\n",
              "      <th></th>\n",
              "      <th>mean_fit_time</th>\n",
              "      <th>std_fit_time</th>\n",
              "      <th>mean_score_time</th>\n",
              "      <th>std_score_time</th>\n",
              "      <th>param_classifier__C</th>\n",
              "      <th>param_classifier__class_weight</th>\n",
              "      <th>param_poly__degree</th>\n",
              "      <th>params</th>\n",
              "      <th>split0_test_score</th>\n",
              "      <th>split1_test_score</th>\n",
              "      <th>split2_test_score</th>\n",
              "      <th>mean_test_score</th>\n",
              "      <th>std_test_score</th>\n",
              "      <th>rank_test_score</th>\n",
              "      <th>split0_train_score</th>\n",
              "      <th>split1_train_score</th>\n",
              "      <th>split2_train_score</th>\n",
              "      <th>mean_train_score</th>\n",
              "      <th>std_train_score</th>\n",
              "    </tr>\n",
              "  </thead>\n",
              "  <tbody>\n",
              "    <tr>\n",
              "      <th>23</th>\n",
              "      <td>18.464327</td>\n",
              "      <td>0.493762</td>\n",
              "      <td>0.007478</td>\n",
              "      <td>0.000288</td>\n",
              "      <td>10</td>\n",
              "      <td>None</td>\n",
              "      <td>5</td>\n",
              "      <td>{'classifier__C': 10, 'classifier__class_weigh...</td>\n",
              "      <td>0.555118</td>\n",
              "      <td>0.618110</td>\n",
              "      <td>0.590551</td>\n",
              "      <td>0.587927</td>\n",
              "      <td>0.025783</td>\n",
              "      <td>1</td>\n",
              "      <td>0.647638</td>\n",
              "      <td>0.594488</td>\n",
              "      <td>0.620079</td>\n",
              "      <td>0.620735</td>\n",
              "      <td>0.021703</td>\n",
              "    </tr>\n",
              "    <tr>\n",
              "      <th>22</th>\n",
              "      <td>1.666212</td>\n",
              "      <td>0.008048</td>\n",
              "      <td>0.003488</td>\n",
              "      <td>0.000495</td>\n",
              "      <td>10</td>\n",
              "      <td>None</td>\n",
              "      <td>3</td>\n",
              "      <td>{'classifier__C': 10, 'classifier__class_weigh...</td>\n",
              "      <td>0.539370</td>\n",
              "      <td>0.618110</td>\n",
              "      <td>0.602362</td>\n",
              "      <td>0.586614</td>\n",
              "      <td>0.034020</td>\n",
              "      <td>2</td>\n",
              "      <td>0.649606</td>\n",
              "      <td>0.612205</td>\n",
              "      <td>0.629921</td>\n",
              "      <td>0.630577</td>\n",
              "      <td>0.015276</td>\n",
              "    </tr>\n",
              "    <tr>\n",
              "      <th>21</th>\n",
              "      <td>0.091163</td>\n",
              "      <td>0.022388</td>\n",
              "      <td>0.001653</td>\n",
              "      <td>0.000224</td>\n",
              "      <td>10</td>\n",
              "      <td>None</td>\n",
              "      <td>1</td>\n",
              "      <td>{'classifier__C': 10, 'classifier__class_weigh...</td>\n",
              "      <td>0.519685</td>\n",
              "      <td>0.625984</td>\n",
              "      <td>0.602362</td>\n",
              "      <td>0.582677</td>\n",
              "      <td>0.045574</td>\n",
              "      <td>3</td>\n",
              "      <td>0.616142</td>\n",
              "      <td>0.590551</td>\n",
              "      <td>0.616142</td>\n",
              "      <td>0.607612</td>\n",
              "      <td>0.012064</td>\n",
              "    </tr>\n",
              "    <tr>\n",
              "      <th>17</th>\n",
              "      <td>18.172176</td>\n",
              "      <td>0.783921</td>\n",
              "      <td>0.007185</td>\n",
              "      <td>0.000195</td>\n",
              "      <td>1</td>\n",
              "      <td>None</td>\n",
              "      <td>5</td>\n",
              "      <td>{'classifier__C': 1, 'classifier__class_weight...</td>\n",
              "      <td>0.539370</td>\n",
              "      <td>0.594488</td>\n",
              "      <td>0.578740</td>\n",
              "      <td>0.570866</td>\n",
              "      <td>0.023180</td>\n",
              "      <td>4</td>\n",
              "      <td>0.598425</td>\n",
              "      <td>0.570866</td>\n",
              "      <td>0.574803</td>\n",
              "      <td>0.581365</td>\n",
              "      <td>0.012170</td>\n",
              "    </tr>\n",
              "    <tr>\n",
              "      <th>16</th>\n",
              "      <td>1.482820</td>\n",
              "      <td>0.052818</td>\n",
              "      <td>0.002971</td>\n",
              "      <td>0.000024</td>\n",
              "      <td>1</td>\n",
              "      <td>None</td>\n",
              "      <td>3</td>\n",
              "      <td>{'classifier__C': 1, 'classifier__class_weight...</td>\n",
              "      <td>0.535433</td>\n",
              "      <td>0.586614</td>\n",
              "      <td>0.582677</td>\n",
              "      <td>0.568241</td>\n",
              "      <td>0.023255</td>\n",
              "      <td>5</td>\n",
              "      <td>0.608268</td>\n",
              "      <td>0.574803</td>\n",
              "      <td>0.576772</td>\n",
              "      <td>0.586614</td>\n",
              "      <td>0.015332</td>\n",
              "    </tr>\n",
              "    <tr>\n",
              "      <th>15</th>\n",
              "      <td>0.059062</td>\n",
              "      <td>0.009037</td>\n",
              "      <td>0.001822</td>\n",
              "      <td>0.000092</td>\n",
              "      <td>1</td>\n",
              "      <td>None</td>\n",
              "      <td>1</td>\n",
              "      <td>{'classifier__C': 1, 'classifier__class_weight...</td>\n",
              "      <td>0.531496</td>\n",
              "      <td>0.586614</td>\n",
              "      <td>0.582677</td>\n",
              "      <td>0.566929</td>\n",
              "      <td>0.025106</td>\n",
              "      <td>6</td>\n",
              "      <td>0.608268</td>\n",
              "      <td>0.576772</td>\n",
              "      <td>0.568898</td>\n",
              "      <td>0.584646</td>\n",
              "      <td>0.017010</td>\n",
              "    </tr>\n",
              "    <tr>\n",
              "      <th>10</th>\n",
              "      <td>0.312115</td>\n",
              "      <td>0.126899</td>\n",
              "      <td>0.002806</td>\n",
              "      <td>0.000135</td>\n",
              "      <td>0.1</td>\n",
              "      <td>None</td>\n",
              "      <td>3</td>\n",
              "      <td>{'classifier__C': 0.1, 'classifier__class_weig...</td>\n",
              "      <td>0.531496</td>\n",
              "      <td>0.539370</td>\n",
              "      <td>0.562992</td>\n",
              "      <td>0.544619</td>\n",
              "      <td>0.013383</td>\n",
              "      <td>7</td>\n",
              "      <td>0.564961</td>\n",
              "      <td>0.541339</td>\n",
              "      <td>0.529528</td>\n",
              "      <td>0.545276</td>\n",
              "      <td>0.014731</td>\n",
              "    </tr>\n",
              "    <tr>\n",
              "      <th>11</th>\n",
              "      <td>4.606972</td>\n",
              "      <td>1.142813</td>\n",
              "      <td>0.007483</td>\n",
              "      <td>0.000268</td>\n",
              "      <td>0.1</td>\n",
              "      <td>None</td>\n",
              "      <td>5</td>\n",
              "      <td>{'classifier__C': 0.1, 'classifier__class_weig...</td>\n",
              "      <td>0.531496</td>\n",
              "      <td>0.539370</td>\n",
              "      <td>0.562992</td>\n",
              "      <td>0.544619</td>\n",
              "      <td>0.013383</td>\n",
              "      <td>7</td>\n",
              "      <td>0.564961</td>\n",
              "      <td>0.541339</td>\n",
              "      <td>0.529528</td>\n",
              "      <td>0.545276</td>\n",
              "      <td>0.014731</td>\n",
              "    </tr>\n",
              "    <tr>\n",
              "      <th>9</th>\n",
              "      <td>0.017979</td>\n",
              "      <td>0.001670</td>\n",
              "      <td>0.001877</td>\n",
              "      <td>0.000021</td>\n",
              "      <td>0.1</td>\n",
              "      <td>None</td>\n",
              "      <td>1</td>\n",
              "      <td>{'classifier__C': 0.1, 'classifier__class_weig...</td>\n",
              "      <td>0.531496</td>\n",
              "      <td>0.535433</td>\n",
              "      <td>0.562992</td>\n",
              "      <td>0.543307</td>\n",
              "      <td>0.014012</td>\n",
              "      <td>9</td>\n",
              "      <td>0.564961</td>\n",
              "      <td>0.521654</td>\n",
              "      <td>0.529528</td>\n",
              "      <td>0.538714</td>\n",
              "      <td>0.018836</td>\n",
              "    </tr>\n",
              "    <tr>\n",
              "      <th>20</th>\n",
              "      <td>19.803302</td>\n",
              "      <td>0.260531</td>\n",
              "      <td>0.007354</td>\n",
              "      <td>0.000293</td>\n",
              "      <td>10</td>\n",
              "      <td>balanced</td>\n",
              "      <td>5</td>\n",
              "      <td>{'classifier__C': 10, 'classifier__class_weigh...</td>\n",
              "      <td>0.444882</td>\n",
              "      <td>0.460630</td>\n",
              "      <td>0.566929</td>\n",
              "      <td>0.490814</td>\n",
              "      <td>0.054204</td>\n",
              "      <td>10</td>\n",
              "      <td>0.570866</td>\n",
              "      <td>0.537402</td>\n",
              "      <td>0.586614</td>\n",
              "      <td>0.564961</td>\n",
              "      <td>0.020520</td>\n",
              "    </tr>\n",
              "  </tbody>\n",
              "</table>\n",
              "</div>\n",
              "      <button class=\"colab-df-convert\" onclick=\"convertToInteractive('df-dc010e25-ecc8-4fd1-be0c-2ffed065645d')\"\n",
              "              title=\"Convert this dataframe to an interactive table.\"\n",
              "              style=\"display:none;\">\n",
              "        \n",
              "  <svg xmlns=\"http://www.w3.org/2000/svg\" height=\"24px\"viewBox=\"0 0 24 24\"\n",
              "       width=\"24px\">\n",
              "    <path d=\"M0 0h24v24H0V0z\" fill=\"none\"/>\n",
              "    <path d=\"M18.56 5.44l.94 2.06.94-2.06 2.06-.94-2.06-.94-.94-2.06-.94 2.06-2.06.94zm-11 1L8.5 8.5l.94-2.06 2.06-.94-2.06-.94L8.5 2.5l-.94 2.06-2.06.94zm10 10l.94 2.06.94-2.06 2.06-.94-2.06-.94-.94-2.06-.94 2.06-2.06.94z\"/><path d=\"M17.41 7.96l-1.37-1.37c-.4-.4-.92-.59-1.43-.59-.52 0-1.04.2-1.43.59L10.3 9.45l-7.72 7.72c-.78.78-.78 2.05 0 2.83L4 21.41c.39.39.9.59 1.41.59.51 0 1.02-.2 1.41-.59l7.78-7.78 2.81-2.81c.8-.78.8-2.07 0-2.86zM5.41 20L4 18.59l7.72-7.72 1.47 1.35L5.41 20z\"/>\n",
              "  </svg>\n",
              "      </button>\n",
              "      \n",
              "  <style>\n",
              "    .colab-df-container {\n",
              "      display:flex;\n",
              "      flex-wrap:wrap;\n",
              "      gap: 12px;\n",
              "    }\n",
              "\n",
              "    .colab-df-convert {\n",
              "      background-color: #E8F0FE;\n",
              "      border: none;\n",
              "      border-radius: 50%;\n",
              "      cursor: pointer;\n",
              "      display: none;\n",
              "      fill: #1967D2;\n",
              "      height: 32px;\n",
              "      padding: 0 0 0 0;\n",
              "      width: 32px;\n",
              "    }\n",
              "\n",
              "    .colab-df-convert:hover {\n",
              "      background-color: #E2EBFA;\n",
              "      box-shadow: 0px 1px 2px rgba(60, 64, 67, 0.3), 0px 1px 3px 1px rgba(60, 64, 67, 0.15);\n",
              "      fill: #174EA6;\n",
              "    }\n",
              "\n",
              "    [theme=dark] .colab-df-convert {\n",
              "      background-color: #3B4455;\n",
              "      fill: #D2E3FC;\n",
              "    }\n",
              "\n",
              "    [theme=dark] .colab-df-convert:hover {\n",
              "      background-color: #434B5C;\n",
              "      box-shadow: 0px 1px 3px 1px rgba(0, 0, 0, 0.15);\n",
              "      filter: drop-shadow(0px 1px 2px rgba(0, 0, 0, 0.3));\n",
              "      fill: #FFFFFF;\n",
              "    }\n",
              "  </style>\n",
              "\n",
              "      <script>\n",
              "        const buttonEl =\n",
              "          document.querySelector('#df-dc010e25-ecc8-4fd1-be0c-2ffed065645d button.colab-df-convert');\n",
              "        buttonEl.style.display =\n",
              "          google.colab.kernel.accessAllowed ? 'block' : 'none';\n",
              "\n",
              "        async function convertToInteractive(key) {\n",
              "          const element = document.querySelector('#df-dc010e25-ecc8-4fd1-be0c-2ffed065645d');\n",
              "          const dataTable =\n",
              "            await google.colab.kernel.invokeFunction('convertToInteractive',\n",
              "                                                     [key], {});\n",
              "          if (!dataTable) return;\n",
              "\n",
              "          const docLinkHtml = 'Like what you see? Visit the ' +\n",
              "            '<a target=\"_blank\" href=https://colab.research.google.com/notebooks/data_table.ipynb>data table notebook</a>'\n",
              "            + ' to learn more about interactive tables.';\n",
              "          element.innerHTML = '';\n",
              "          dataTable['output_type'] = 'display_data';\n",
              "          await google.colab.output.renderOutput(dataTable, element);\n",
              "          const docLink = document.createElement('div');\n",
              "          docLink.innerHTML = docLinkHtml;\n",
              "          element.appendChild(docLink);\n",
              "        }\n",
              "      </script>\n",
              "    </div>\n",
              "  </div>\n",
              "  "
            ]
          },
          "metadata": {},
          "execution_count": 70
        }
      ]
    },
    {
      "cell_type": "markdown",
      "source": [
        "Il miglior modello trovato è qullo con peso di regolazzazione 10 e grado 5 e nessun bilanciamento sui pesi delle classi. Possiamo osservare uno score di:"
      ],
      "metadata": {
        "id": "lEO7zl5rh-je"
      }
    },
    {
      "cell_type": "code",
      "source": [
        "gs.score(X_val,y_val)"
      ],
      "metadata": {
        "id": "s5MHdFYRLE0H",
        "outputId": "3577d1ce-429a-49a4-9877-0507e4293cc0",
        "colab": {
          "base_uri": "https://localhost:8080/",
          "height": 311
        }
      },
      "execution_count": 72,
      "outputs": [
        {
          "output_type": "error",
          "ename": "NotFittedError",
          "evalue": "ignored",
          "traceback": [
            "\u001b[0;31m---------------------------------------------------------------------------\u001b[0m",
            "\u001b[0;31mNotFittedError\u001b[0m                            Traceback (most recent call last)",
            "\u001b[0;32m<ipython-input-72-265108936df0>\u001b[0m in \u001b[0;36m<module>\u001b[0;34m()\u001b[0m\n\u001b[0;32m----> 1\u001b[0;31m \u001b[0mgs\u001b[0m\u001b[0;34m.\u001b[0m\u001b[0mscore\u001b[0m\u001b[0;34m(\u001b[0m\u001b[0mX_val\u001b[0m\u001b[0;34m,\u001b[0m\u001b[0my_val\u001b[0m\u001b[0;34m)\u001b[0m\u001b[0;34m\u001b[0m\u001b[0;34m\u001b[0m\u001b[0m\n\u001b[0m",
            "\u001b[0;32m/usr/local/lib/python3.7/dist-packages/sklearn/model_selection/_search.py\u001b[0m in \u001b[0;36mscore\u001b[0;34m(self, X, y)\u001b[0m\n\u001b[1;32m    456\u001b[0m         \"\"\"\n\u001b[1;32m    457\u001b[0m         \u001b[0m_check_refit\u001b[0m\u001b[0;34m(\u001b[0m\u001b[0mself\u001b[0m\u001b[0;34m,\u001b[0m \u001b[0;34m\"score\"\u001b[0m\u001b[0;34m)\u001b[0m\u001b[0;34m\u001b[0m\u001b[0;34m\u001b[0m\u001b[0m\n\u001b[0;32m--> 458\u001b[0;31m         \u001b[0mcheck_is_fitted\u001b[0m\u001b[0;34m(\u001b[0m\u001b[0mself\u001b[0m\u001b[0;34m)\u001b[0m\u001b[0;34m\u001b[0m\u001b[0;34m\u001b[0m\u001b[0m\n\u001b[0m\u001b[1;32m    459\u001b[0m         \u001b[0;32mif\u001b[0m \u001b[0mself\u001b[0m\u001b[0;34m.\u001b[0m\u001b[0mscorer_\u001b[0m \u001b[0;32mis\u001b[0m \u001b[0;32mNone\u001b[0m\u001b[0;34m:\u001b[0m\u001b[0;34m\u001b[0m\u001b[0;34m\u001b[0m\u001b[0m\n\u001b[1;32m    460\u001b[0m             raise ValueError(\n",
            "\u001b[0;32m/usr/local/lib/python3.7/dist-packages/sklearn/utils/validation.py\u001b[0m in \u001b[0;36mcheck_is_fitted\u001b[0;34m(estimator, attributes, msg, all_or_any)\u001b[0m\n\u001b[1;32m   1220\u001b[0m \u001b[0;34m\u001b[0m\u001b[0m\n\u001b[1;32m   1221\u001b[0m     \u001b[0;32mif\u001b[0m \u001b[0;32mnot\u001b[0m \u001b[0mfitted\u001b[0m\u001b[0;34m:\u001b[0m\u001b[0;34m\u001b[0m\u001b[0;34m\u001b[0m\u001b[0m\n\u001b[0;32m-> 1222\u001b[0;31m         \u001b[0;32mraise\u001b[0m \u001b[0mNotFittedError\u001b[0m\u001b[0;34m(\u001b[0m\u001b[0mmsg\u001b[0m \u001b[0;34m%\u001b[0m \u001b[0;34m{\u001b[0m\u001b[0;34m\"name\"\u001b[0m\u001b[0;34m:\u001b[0m \u001b[0mtype\u001b[0m\u001b[0;34m(\u001b[0m\u001b[0mestimator\u001b[0m\u001b[0;34m)\u001b[0m\u001b[0;34m.\u001b[0m\u001b[0m__name__\u001b[0m\u001b[0;34m}\u001b[0m\u001b[0;34m)\u001b[0m\u001b[0;34m\u001b[0m\u001b[0;34m\u001b[0m\u001b[0m\n\u001b[0m\u001b[1;32m   1223\u001b[0m \u001b[0;34m\u001b[0m\u001b[0m\n\u001b[1;32m   1224\u001b[0m \u001b[0;34m\u001b[0m\u001b[0m\n",
            "\u001b[0;31mNotFittedError\u001b[0m: This GridSearchCV instance is not fitted yet. Call 'fit' with appropriate arguments before using this estimator."
          ]
        }
      ]
    },
    {
      "cell_type": "markdown",
      "source": [
        "Essendo in un contesto multiclasse in cui abbiamo adottato il metodo \"one vs all\" per la classificazione, sono stati individuati sei iperpiani con rispettivi coefficenti:"
      ],
      "metadata": {
        "id": "qbEsH_Ujn9mF"
      }
    },
    {
      "cell_type": "code",
      "source": [
        "gs.best_estimator_.named_steps[\"classifier\"].coef_"
      ],
      "metadata": {
        "id": "ZUni9frioFds"
      },
      "execution_count": null,
      "outputs": []
    },
    {
      "cell_type": "markdown",
      "source": [
        "Effettuando la media di questi coefficenti possiamo verdere che ci sono 2478 features azzerate in seguito alla regolazzazione."
      ],
      "metadata": {
        "id": "Esi_whrRoP3a"
      }
    },
    {
      "cell_type": "code",
      "source": [
        "(DataFrame(gs.best_estimator_.named_steps[\"classifier\"].coef_,columns=gs.best_estimator_.named_steps[\"poly\"].get_feature_names_out()).mean() == 0 ).value_counts()"
      ],
      "metadata": {
        "id": "8z3rX4EgE8io"
      },
      "execution_count": null,
      "outputs": []
    },
    {
      "cell_type": "markdown",
      "source": [
        "Osservando le prime 10 features ordinate per importanza dopo la regolarizzazione possiamo vedere che i primi valori sono di features non lineari."
      ],
      "metadata": {
        "id": "hYRDTCBfqFhT"
      }
    },
    {
      "cell_type": "code",
      "source": [
        "DataFrame(gs.best_estimator_.named_steps[\"classifier\"].coef_,columns=gs.best_estimator_.named_steps[\"poly\"].get_feature_names_out()).mean().sort_values(ascending=False).head(10)"
      ],
      "metadata": {
        "id": "xgUxgzAUorUh"
      },
      "execution_count": null,
      "outputs": []
    },
    {
      "cell_type": "code",
      "source": [
        "from sklearn.metrics import confusion_matrix\n",
        "y_pred = gs.predict(X_val)\n",
        "cm = confusion_matrix(y_val,y_pred)\n",
        "DataFrame(cm,index=gs.classes_,columns=gs.classes_)"
      ],
      "metadata": {
        "id": "-YUHMSXlVbU1"
      },
      "execution_count": null,
      "outputs": []
    },
    {
      "cell_type": "code",
      "source": [
        "from sklearn.metrics import f1_score\n",
        "f1_score(y_val,y_pred,average=\"weighted\")"
      ],
      "metadata": {
        "id": "SB2GaJE6Z0oS"
      },
      "execution_count": null,
      "outputs": []
    },
    {
      "cell_type": "markdown",
      "source": [
        "# Oversampling"
      ],
      "metadata": {
        "id": "amlmLnDENL-C"
      }
    },
    {
      "cell_type": "markdown",
      "source": [
        "Come possiamo vedere le classi sono molto sbilanciate."
      ],
      "metadata": {
        "id": "Ax7gdgytwkFP"
      }
    },
    {
      "cell_type": "code",
      "source": [
        "Y.value_counts()"
      ],
      "metadata": {
        "id": "Hqo9Eu-2wcoD"
      },
      "execution_count": null,
      "outputs": []
    },
    {
      "cell_type": "markdown",
      "source": [
        "procediamo con oversampling dei dati"
      ],
      "metadata": {
        "id": "lmzhF3xYwu5l"
      }
    },
    {
      "cell_type": "code",
      "source": [
        "from imblearn.over_sampling import SMOTE\n",
        "\n",
        "sm = SMOTE(random_state=42,sampling_strategy=\"not majority\")\n",
        "Xsm,Ysm = sm.fit_resample(X,Y)\n"
      ],
      "metadata": {
        "id": "2plhqvnANOZE"
      },
      "execution_count": null,
      "outputs": []
    },
    {
      "cell_type": "code",
      "source": [
        "Ysm.value_counts()"
      ],
      "metadata": {
        "id": "cxBgT2S5PO8Z"
      },
      "execution_count": null,
      "outputs": []
    },
    {
      "cell_type": "code",
      "source": [
        "Xsm_train, Xsm_val, ysm_train, ysm_val = train_test_split(Xsm,Ysm,test_size=1/3,random_state=42)\n"
      ],
      "metadata": {
        "id": "i0r1Um0CeTGd"
      },
      "execution_count": null,
      "outputs": []
    },
    {
      "cell_type": "code",
      "source": [
        "bestModel = gs.best_estimator_\n",
        "bestModel.fit(Xsm_train,ysm_train)"
      ],
      "metadata": {
        "id": "Z_6LZhDtTxIH"
      },
      "execution_count": null,
      "outputs": []
    },
    {
      "cell_type": "code",
      "source": [
        "bestModel.score(Xsm_val,ysm_val)"
      ],
      "metadata": {
        "id": "_yCaizlje0K3"
      },
      "execution_count": null,
      "outputs": []
    },
    {
      "cell_type": "code",
      "source": [
        "f1_score(ysm_val,bestModel.predict(Xsm_val),average=\"weighted\")"
      ],
      "metadata": {
        "id": "uE94Fd80ffYr"
      },
      "execution_count": null,
      "outputs": []
    },
    {
      "cell_type": "markdown",
      "source": [
        "Possiamo vedere che il modello è leggermente migliorato."
      ],
      "metadata": {
        "id": "1ZeB_9ATxAHq"
      }
    },
    {
      "cell_type": "code",
      "source": [
        "from sklearn.metrics import accuracy_score\n",
        "accuracy_score(ysm_val,bestModel.predict(Xsm_val))"
      ],
      "metadata": {
        "id": "PUCrVHJceqiv"
      },
      "execution_count": null,
      "outputs": []
    },
    {
      "cell_type": "markdown",
      "source": [
        "# alberi decisionali"
      ],
      "metadata": {
        "id": "C5ymWAG1gJQm"
      }
    },
    {
      "cell_type": "code",
      "source": [
        "from sklearn.tree import DecisionTreeClassifier\n",
        "model = DecisionTreeClassifier()\n",
        "model.fit(Xsm_train,ysm_train)\n",
        "model.score(Xsm_val,ysm_val)"
      ],
      "metadata": {
        "id": "xxemVbXgjHqd"
      },
      "execution_count": null,
      "outputs": []
    },
    {
      "cell_type": "code",
      "source": [
        "accuracy_score(ysm_val,model.predict(Xsm_val))"
      ],
      "metadata": {
        "id": "Zqyw3a0sj4-d"
      },
      "execution_count": null,
      "outputs": []
    },
    {
      "cell_type": "code",
      "source": [
        "f1_score(ysm_val,model.predict(Xsm_val),average=\"weighted\")"
      ],
      "metadata": {
        "id": "s5A8eRgIkFhV"
      },
      "execution_count": null,
      "outputs": []
    },
    {
      "cell_type": "markdown",
      "source": [
        "# Support Vector Machine"
      ],
      "metadata": {
        "id": "Wd6tDk0QxPQH"
      }
    },
    {
      "cell_type": "code",
      "source": [
        "from sklearn.svm import SVC\n",
        "StratifiedKFold(3,shuffle=True, random_state=42)\n",
        "model = SVC(kernel=\"poly\")\n",
        "grid2 = {\n",
        "    \"C\": [ 0.01,0.1,1,10],\n",
        "    \"degree\" : [1,3,5,10]\n",
        "}\n",
        "gs2 = GridSearchCV(model,grid2,cv=skf,return_train_score=True)"
      ],
      "metadata": {
        "id": "6QpXf3N0kLVF"
      },
      "execution_count": null,
      "outputs": []
    },
    {
      "cell_type": "code",
      "source": [
        "gs2.fit(Xsm_train,ysm_train)"
      ],
      "metadata": {
        "id": "k11A_Kkgl7sO"
      },
      "execution_count": null,
      "outputs": []
    },
    {
      "cell_type": "code",
      "source": [
        "DataFrame(gs2.cv_results_).sort_values(\"rank_test_score\").head(3)"
      ],
      "metadata": {
        "id": "zvyGv189mAGa"
      },
      "execution_count": null,
      "outputs": []
    },
    {
      "cell_type": "code",
      "source": [
        "gs2.score(Xsm_val,ysm_val)"
      ],
      "metadata": {
        "id": "zsJ2XRUImQqa"
      },
      "execution_count": null,
      "outputs": []
    },
    {
      "cell_type": "markdown",
      "source": [
        "# KNN"
      ],
      "metadata": {
        "id": "bzBn7_UznM9w"
      }
    },
    {
      "cell_type": "code",
      "source": [
        "from sklearn.neighbors import KNeighborsClassifier\n",
        "knn = KNeighborsClassifier(n_neighbors = 5)\n",
        "knn.fit(Xsm_train,ysm_train)"
      ],
      "metadata": {
        "id": "gacbZKHwnQm2"
      },
      "execution_count": null,
      "outputs": []
    },
    {
      "cell_type": "code",
      "source": [
        "knn.score(Xsm_val,ysm_val)"
      ],
      "metadata": {
        "id": "_WCa0KKAnVd9"
      },
      "execution_count": null,
      "outputs": []
    },
    {
      "cell_type": "markdown",
      "source": [
        "# Perceptron"
      ],
      "metadata": {
        "id": "I046UPE5x7EZ"
      }
    },
    {
      "cell_type": "code",
      "source": [
        "from scipy.sparse.construct import random\n",
        "from sklearn.linear_model import Perceptron\n",
        "model= Perceptron(random_state=42)\n",
        "model.fit(Xsm_train,ysm_train)\n"
      ],
      "metadata": {
        "id": "q-rBNxvqx6k_"
      },
      "execution_count": null,
      "outputs": []
    },
    {
      "cell_type": "code",
      "source": [
        "model.score(Xsm_val,ysm_val)"
      ],
      "metadata": {
        "id": "fVpcxhEZyn8z"
      },
      "execution_count": null,
      "outputs": []
    },
    {
      "cell_type": "markdown",
      "source": [
        "# Reti Neurali"
      ],
      "metadata": {
        "id": "lfiJuYSjy6j6"
      }
    },
    {
      "cell_type": "code",
      "source": [
        "from tensorflow.keras.wrappers.scikit_learn import KerasClassifier\n",
        "from keras import Sequential\n",
        "from tensorflow.keras.layers import Dense\n",
        "import keras\n"
      ],
      "metadata": {
        "id": "JLAABlpczCVp"
      },
      "execution_count": null,
      "outputs": []
    },
    {
      "cell_type": "code",
      "source": [
        "def getModel(nodes1,nodes2,nodes3):\n",
        "  model = Sequential([\n",
        "                 Dense(nodes1,activation='relu',input_dim=Xsm_train.shape[1]),\n",
        "                 Dense(nodes2,activation=\"softmax\"),\n",
        "                 Dense(nodes3,activation=\"softmax\"),\n",
        "                 Dense(1)     \n",
        "  ])\n",
        "  model.compile(optimizer=\"adam\",loss=\"categorical_crossentropy\",metrics=[\"accuracy\"])\n",
        "  return model"
      ],
      "metadata": {
        "id": "1pK-mz4Q2Coq"
      },
      "execution_count": null,
      "outputs": []
    },
    {
      "cell_type": "code",
      "source": [
        "model = KerasClassifier(build_fn=getModel)"
      ],
      "metadata": {
        "id": "V8lspeIK1aQF"
      },
      "execution_count": null,
      "outputs": []
    },
    {
      "cell_type": "code",
      "source": [
        "grid3 = {\n",
        "    \"nodes1\" : [8],\n",
        "    \"nodes2\" : [3],\n",
        "    \"nodes3\" : [3],\n",
        "    \"batch_size\" : [5],\n",
        "    \"epochs\": [200]\n",
        "}"
      ],
      "metadata": {
        "id": "u7i8Qx-X7Qxh"
      },
      "execution_count": null,
      "outputs": []
    },
    {
      "cell_type": "code",
      "source": [
        "gsnn = GridSearchCV(model,grid3,return_train_score=True,cv=skf)"
      ],
      "metadata": {
        "id": "wh9ASeDW7Efs"
      },
      "execution_count": null,
      "outputs": []
    },
    {
      "cell_type": "code",
      "source": [
        "gsnn.fit(Xsm_train,ysm_train[:,None])"
      ],
      "metadata": {
        "id": "qLocnADX8QYd"
      },
      "execution_count": null,
      "outputs": []
    },
    {
      "cell_type": "code",
      "source": [
        "gsnn.score(Xsm_val,ysm_val[:,None])"
      ],
      "metadata": {
        "id": "wvd14eXmBLgI"
      },
      "execution_count": null,
      "outputs": []
    },
    {
      "cell_type": "code",
      "source": [
        ""
      ],
      "metadata": {
        "id": "b9UdBmvj8f1F"
      },
      "execution_count": null,
      "outputs": []
    }
  ]
}