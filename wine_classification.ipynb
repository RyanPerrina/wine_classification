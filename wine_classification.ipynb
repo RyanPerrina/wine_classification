{
  "nbformat": 4,
  "nbformat_minor": 0,
  "metadata": {
    "colab": {
      "name": "Untitled1.ipynb",
      "provenance": [],
      "collapsed_sections": [],
      "include_colab_link": true
    },
    "kernelspec": {
      "name": "python3",
      "display_name": "Python 3"
    },
    "language_info": {
      "name": "python"
    },
    "widgets": {
      "application/vnd.jupyter.widget-state+json": {
        "42acdfd8e9d640e3b2e27353c8e4097c": {
          "model_module": "@jupyter-widgets/controls",
          "model_name": "VBoxModel",
          "model_module_version": "1.5.0",
          "state": {
            "_dom_classes": [
              "widget-interact"
            ],
            "_model_module": "@jupyter-widgets/controls",
            "_model_module_version": "1.5.0",
            "_model_name": "VBoxModel",
            "_view_count": null,
            "_view_module": "@jupyter-widgets/controls",
            "_view_module_version": "1.5.0",
            "_view_name": "VBoxView",
            "box_style": "",
            "children": [
              "IPY_MODEL_d82e24bf868248848d559ebcab0c37f0",
              "IPY_MODEL_b2d76afdee214b50b0f0a5c7b0d290e3"
            ],
            "layout": "IPY_MODEL_89a36c9947534ccd81ae3e694f2345df"
          }
        },
        "d82e24bf868248848d559ebcab0c37f0": {
          "model_module": "@jupyter-widgets/controls",
          "model_name": "DropdownModel",
          "model_module_version": "1.5.0",
          "state": {
            "_dom_classes": [],
            "_model_module": "@jupyter-widgets/controls",
            "_model_module_version": "1.5.0",
            "_model_name": "DropdownModel",
            "_options_labels": [
              "fixed acidity",
              "volatile acidity",
              "citric acid",
              "residual sugar",
              "chlorides",
              "free sulfur dioxide",
              "total sulfur dioxide",
              "density",
              "pH",
              "sulphates",
              "alcohol"
            ],
            "_view_count": null,
            "_view_module": "@jupyter-widgets/controls",
            "_view_module_version": "1.5.0",
            "_view_name": "DropdownView",
            "description": "features",
            "description_tooltip": null,
            "disabled": false,
            "index": 4,
            "layout": "IPY_MODEL_605385693e72465d8270190e2224dc17",
            "style": "IPY_MODEL_90e03f06acc14b27a6f0dd867b694b79"
          }
        },
        "b2d76afdee214b50b0f0a5c7b0d290e3": {
          "model_module": "@jupyter-widgets/output",
          "model_name": "OutputModel",
          "model_module_version": "1.0.0",
          "state": {
            "_dom_classes": [],
            "_model_module": "@jupyter-widgets/output",
            "_model_module_version": "1.0.0",
            "_model_name": "OutputModel",
            "_view_count": null,
            "_view_module": "@jupyter-widgets/output",
            "_view_module_version": "1.0.0",
            "_view_name": "OutputView",
            "layout": "IPY_MODEL_421ff689172542d1b7c27d67e6e1bfdc",
            "msg_id": "",
            "outputs": [
              {
                "output_type": "display_data",
                "data": {
                  "text/plain": "<Figure size 1440x1440 with 0 Axes>"
                },
                "metadata": {}
              },
              {
                "output_type": "display_data",
                "data": {
                  "text/plain": "<Figure size 432x288 with 1 Axes>",
                  "image/png": "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\n"
                },
                "metadata": {
                  "needs_background": "light"
                }
              }
            ]
          }
        },
        "89a36c9947534ccd81ae3e694f2345df": {
          "model_module": "@jupyter-widgets/base",
          "model_name": "LayoutModel",
          "model_module_version": "1.2.0",
          "state": {
            "_model_module": "@jupyter-widgets/base",
            "_model_module_version": "1.2.0",
            "_model_name": "LayoutModel",
            "_view_count": null,
            "_view_module": "@jupyter-widgets/base",
            "_view_module_version": "1.2.0",
            "_view_name": "LayoutView",
            "align_content": null,
            "align_items": null,
            "align_self": null,
            "border": null,
            "bottom": null,
            "display": null,
            "flex": null,
            "flex_flow": null,
            "grid_area": null,
            "grid_auto_columns": null,
            "grid_auto_flow": null,
            "grid_auto_rows": null,
            "grid_column": null,
            "grid_gap": null,
            "grid_row": null,
            "grid_template_areas": null,
            "grid_template_columns": null,
            "grid_template_rows": null,
            "height": null,
            "justify_content": null,
            "justify_items": null,
            "left": null,
            "margin": null,
            "max_height": null,
            "max_width": null,
            "min_height": null,
            "min_width": null,
            "object_fit": null,
            "object_position": null,
            "order": null,
            "overflow": null,
            "overflow_x": null,
            "overflow_y": null,
            "padding": null,
            "right": null,
            "top": null,
            "visibility": null,
            "width": null
          }
        },
        "605385693e72465d8270190e2224dc17": {
          "model_module": "@jupyter-widgets/base",
          "model_name": "LayoutModel",
          "model_module_version": "1.2.0",
          "state": {
            "_model_module": "@jupyter-widgets/base",
            "_model_module_version": "1.2.0",
            "_model_name": "LayoutModel",
            "_view_count": null,
            "_view_module": "@jupyter-widgets/base",
            "_view_module_version": "1.2.0",
            "_view_name": "LayoutView",
            "align_content": null,
            "align_items": null,
            "align_self": null,
            "border": null,
            "bottom": null,
            "display": null,
            "flex": null,
            "flex_flow": null,
            "grid_area": null,
            "grid_auto_columns": null,
            "grid_auto_flow": null,
            "grid_auto_rows": null,
            "grid_column": null,
            "grid_gap": null,
            "grid_row": null,
            "grid_template_areas": null,
            "grid_template_columns": null,
            "grid_template_rows": null,
            "height": null,
            "justify_content": null,
            "justify_items": null,
            "left": null,
            "margin": null,
            "max_height": null,
            "max_width": null,
            "min_height": null,
            "min_width": null,
            "object_fit": null,
            "object_position": null,
            "order": null,
            "overflow": null,
            "overflow_x": null,
            "overflow_y": null,
            "padding": null,
            "right": null,
            "top": null,
            "visibility": null,
            "width": null
          }
        },
        "90e03f06acc14b27a6f0dd867b694b79": {
          "model_module": "@jupyter-widgets/controls",
          "model_name": "DescriptionStyleModel",
          "model_module_version": "1.5.0",
          "state": {
            "_model_module": "@jupyter-widgets/controls",
            "_model_module_version": "1.5.0",
            "_model_name": "DescriptionStyleModel",
            "_view_count": null,
            "_view_module": "@jupyter-widgets/base",
            "_view_module_version": "1.2.0",
            "_view_name": "StyleView",
            "description_width": ""
          }
        },
        "421ff689172542d1b7c27d67e6e1bfdc": {
          "model_module": "@jupyter-widgets/base",
          "model_name": "LayoutModel",
          "model_module_version": "1.2.0",
          "state": {
            "_model_module": "@jupyter-widgets/base",
            "_model_module_version": "1.2.0",
            "_model_name": "LayoutModel",
            "_view_count": null,
            "_view_module": "@jupyter-widgets/base",
            "_view_module_version": "1.2.0",
            "_view_name": "LayoutView",
            "align_content": null,
            "align_items": null,
            "align_self": null,
            "border": null,
            "bottom": null,
            "display": null,
            "flex": null,
            "flex_flow": null,
            "grid_area": null,
            "grid_auto_columns": null,
            "grid_auto_flow": null,
            "grid_auto_rows": null,
            "grid_column": null,
            "grid_gap": null,
            "grid_row": null,
            "grid_template_areas": null,
            "grid_template_columns": null,
            "grid_template_rows": null,
            "height": null,
            "justify_content": null,
            "justify_items": null,
            "left": null,
            "margin": null,
            "max_height": null,
            "max_width": null,
            "min_height": null,
            "min_width": null,
            "object_fit": null,
            "object_position": null,
            "order": null,
            "overflow": null,
            "overflow_x": null,
            "overflow_y": null,
            "padding": null,
            "right": null,
            "top": null,
            "visibility": null,
            "width": null
          }
        },
        "024b2e467d964276abc0b0fff5eb5e87": {
          "model_module": "@jupyter-widgets/controls",
          "model_name": "VBoxModel",
          "model_module_version": "1.5.0",
          "state": {
            "_dom_classes": [
              "widget-interact"
            ],
            "_model_module": "@jupyter-widgets/controls",
            "_model_module_version": "1.5.0",
            "_model_name": "VBoxModel",
            "_view_count": null,
            "_view_module": "@jupyter-widgets/controls",
            "_view_module_version": "1.5.0",
            "_view_name": "VBoxView",
            "box_style": "",
            "children": [
              "IPY_MODEL_d6f6260098d9448091ff1a83bfc3d93e",
              "IPY_MODEL_bb4ace283f4d44d881069003ea3bdfbc",
              "IPY_MODEL_55039d3c0dfe4fb582e4376b9592a862"
            ],
            "layout": "IPY_MODEL_eb31faaeac2843c9859d3915c666bf00"
          }
        },
        "d6f6260098d9448091ff1a83bfc3d93e": {
          "model_module": "@jupyter-widgets/controls",
          "model_name": "DropdownModel",
          "model_module_version": "1.5.0",
          "state": {
            "_dom_classes": [],
            "_model_module": "@jupyter-widgets/controls",
            "_model_module_version": "1.5.0",
            "_model_name": "DropdownModel",
            "_options_labels": [
              "fixed acidity",
              "volatile acidity",
              "citric acid",
              "residual sugar",
              "chlorides",
              "free sulfur dioxide",
              "total sulfur dioxide",
              "density",
              "pH",
              "sulphates",
              "alcohol"
            ],
            "_view_count": null,
            "_view_module": "@jupyter-widgets/controls",
            "_view_module_version": "1.5.0",
            "_view_name": "DropdownView",
            "description": "features",
            "description_tooltip": null,
            "disabled": false,
            "index": 0,
            "layout": "IPY_MODEL_51d8087edd1c4c9d8b9e7a3c49535d61",
            "style": "IPY_MODEL_13d3fcbe02b84fdcb7165ed31542f2a0"
          }
        },
        "bb4ace283f4d44d881069003ea3bdfbc": {
          "model_module": "@jupyter-widgets/controls",
          "model_name": "IntSliderModel",
          "model_module_version": "1.5.0",
          "state": {
            "_dom_classes": [],
            "_model_module": "@jupyter-widgets/controls",
            "_model_module_version": "1.5.0",
            "_model_name": "IntSliderModel",
            "_view_count": null,
            "_view_module": "@jupyter-widgets/controls",
            "_view_module_version": "1.5.0",
            "_view_name": "IntSliderView",
            "continuous_update": true,
            "description": "quality",
            "description_tooltip": null,
            "disabled": false,
            "layout": "IPY_MODEL_c7b712c0da62461797733dc2cd714f7e",
            "max": 8,
            "min": 3,
            "orientation": "horizontal",
            "readout": true,
            "readout_format": "d",
            "step": 1,
            "style": "IPY_MODEL_943c9a57f3ce4a719aee129ba1c60240",
            "value": 8
          }
        },
        "55039d3c0dfe4fb582e4376b9592a862": {
          "model_module": "@jupyter-widgets/output",
          "model_name": "OutputModel",
          "model_module_version": "1.0.0",
          "state": {
            "_dom_classes": [],
            "_model_module": "@jupyter-widgets/output",
            "_model_module_version": "1.0.0",
            "_model_name": "OutputModel",
            "_view_count": null,
            "_view_module": "@jupyter-widgets/output",
            "_view_module_version": "1.0.0",
            "_view_name": "OutputView",
            "layout": "IPY_MODEL_5371068892894c189d72d264e00d36e2",
            "msg_id": "",
            "outputs": [
              {
                "output_type": "display_data",
                "data": {
                  "text/plain": "<Figure size 1440x1440 with 1 Axes>",
                  "image/png": "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\n"
                },
                "metadata": {
                  "needs_background": "light"
                }
              }
            ]
          }
        },
        "eb31faaeac2843c9859d3915c666bf00": {
          "model_module": "@jupyter-widgets/base",
          "model_name": "LayoutModel",
          "model_module_version": "1.2.0",
          "state": {
            "_model_module": "@jupyter-widgets/base",
            "_model_module_version": "1.2.0",
            "_model_name": "LayoutModel",
            "_view_count": null,
            "_view_module": "@jupyter-widgets/base",
            "_view_module_version": "1.2.0",
            "_view_name": "LayoutView",
            "align_content": null,
            "align_items": null,
            "align_self": null,
            "border": null,
            "bottom": null,
            "display": null,
            "flex": null,
            "flex_flow": null,
            "grid_area": null,
            "grid_auto_columns": null,
            "grid_auto_flow": null,
            "grid_auto_rows": null,
            "grid_column": null,
            "grid_gap": null,
            "grid_row": null,
            "grid_template_areas": null,
            "grid_template_columns": null,
            "grid_template_rows": null,
            "height": null,
            "justify_content": null,
            "justify_items": null,
            "left": null,
            "margin": null,
            "max_height": null,
            "max_width": null,
            "min_height": null,
            "min_width": null,
            "object_fit": null,
            "object_position": null,
            "order": null,
            "overflow": null,
            "overflow_x": null,
            "overflow_y": null,
            "padding": null,
            "right": null,
            "top": null,
            "visibility": null,
            "width": null
          }
        },
        "51d8087edd1c4c9d8b9e7a3c49535d61": {
          "model_module": "@jupyter-widgets/base",
          "model_name": "LayoutModel",
          "model_module_version": "1.2.0",
          "state": {
            "_model_module": "@jupyter-widgets/base",
            "_model_module_version": "1.2.0",
            "_model_name": "LayoutModel",
            "_view_count": null,
            "_view_module": "@jupyter-widgets/base",
            "_view_module_version": "1.2.0",
            "_view_name": "LayoutView",
            "align_content": null,
            "align_items": null,
            "align_self": null,
            "border": null,
            "bottom": null,
            "display": null,
            "flex": null,
            "flex_flow": null,
            "grid_area": null,
            "grid_auto_columns": null,
            "grid_auto_flow": null,
            "grid_auto_rows": null,
            "grid_column": null,
            "grid_gap": null,
            "grid_row": null,
            "grid_template_areas": null,
            "grid_template_columns": null,
            "grid_template_rows": null,
            "height": null,
            "justify_content": null,
            "justify_items": null,
            "left": null,
            "margin": null,
            "max_height": null,
            "max_width": null,
            "min_height": null,
            "min_width": null,
            "object_fit": null,
            "object_position": null,
            "order": null,
            "overflow": null,
            "overflow_x": null,
            "overflow_y": null,
            "padding": null,
            "right": null,
            "top": null,
            "visibility": null,
            "width": null
          }
        },
        "13d3fcbe02b84fdcb7165ed31542f2a0": {
          "model_module": "@jupyter-widgets/controls",
          "model_name": "DescriptionStyleModel",
          "model_module_version": "1.5.0",
          "state": {
            "_model_module": "@jupyter-widgets/controls",
            "_model_module_version": "1.5.0",
            "_model_name": "DescriptionStyleModel",
            "_view_count": null,
            "_view_module": "@jupyter-widgets/base",
            "_view_module_version": "1.2.0",
            "_view_name": "StyleView",
            "description_width": ""
          }
        },
        "c7b712c0da62461797733dc2cd714f7e": {
          "model_module": "@jupyter-widgets/base",
          "model_name": "LayoutModel",
          "model_module_version": "1.2.0",
          "state": {
            "_model_module": "@jupyter-widgets/base",
            "_model_module_version": "1.2.0",
            "_model_name": "LayoutModel",
            "_view_count": null,
            "_view_module": "@jupyter-widgets/base",
            "_view_module_version": "1.2.0",
            "_view_name": "LayoutView",
            "align_content": null,
            "align_items": null,
            "align_self": null,
            "border": null,
            "bottom": null,
            "display": null,
            "flex": null,
            "flex_flow": null,
            "grid_area": null,
            "grid_auto_columns": null,
            "grid_auto_flow": null,
            "grid_auto_rows": null,
            "grid_column": null,
            "grid_gap": null,
            "grid_row": null,
            "grid_template_areas": null,
            "grid_template_columns": null,
            "grid_template_rows": null,
            "height": null,
            "justify_content": null,
            "justify_items": null,
            "left": null,
            "margin": null,
            "max_height": null,
            "max_width": null,
            "min_height": null,
            "min_width": null,
            "object_fit": null,
            "object_position": null,
            "order": null,
            "overflow": null,
            "overflow_x": null,
            "overflow_y": null,
            "padding": null,
            "right": null,
            "top": null,
            "visibility": null,
            "width": null
          }
        },
        "943c9a57f3ce4a719aee129ba1c60240": {
          "model_module": "@jupyter-widgets/controls",
          "model_name": "SliderStyleModel",
          "model_module_version": "1.5.0",
          "state": {
            "_model_module": "@jupyter-widgets/controls",
            "_model_module_version": "1.5.0",
            "_model_name": "SliderStyleModel",
            "_view_count": null,
            "_view_module": "@jupyter-widgets/base",
            "_view_module_version": "1.2.0",
            "_view_name": "StyleView",
            "description_width": "",
            "handle_color": null
          }
        },
        "5371068892894c189d72d264e00d36e2": {
          "model_module": "@jupyter-widgets/base",
          "model_name": "LayoutModel",
          "model_module_version": "1.2.0",
          "state": {
            "_model_module": "@jupyter-widgets/base",
            "_model_module_version": "1.2.0",
            "_model_name": "LayoutModel",
            "_view_count": null,
            "_view_module": "@jupyter-widgets/base",
            "_view_module_version": "1.2.0",
            "_view_name": "LayoutView",
            "align_content": null,
            "align_items": null,
            "align_self": null,
            "border": null,
            "bottom": null,
            "display": null,
            "flex": null,
            "flex_flow": null,
            "grid_area": null,
            "grid_auto_columns": null,
            "grid_auto_flow": null,
            "grid_auto_rows": null,
            "grid_column": null,
            "grid_gap": null,
            "grid_row": null,
            "grid_template_areas": null,
            "grid_template_columns": null,
            "grid_template_rows": null,
            "height": null,
            "justify_content": null,
            "justify_items": null,
            "left": null,
            "margin": null,
            "max_height": null,
            "max_width": null,
            "min_height": null,
            "min_width": null,
            "object_fit": null,
            "object_position": null,
            "order": null,
            "overflow": null,
            "overflow_x": null,
            "overflow_y": null,
            "padding": null,
            "right": null,
            "top": null,
            "visibility": null,
            "width": null
          }
        }
      }
    }
  },
  "cells": [
    {
      "cell_type": "markdown",
      "metadata": {
        "id": "view-in-github",
        "colab_type": "text"
      },
      "source": [
        "<a href=\"https://colab.research.google.com/github/RyanPerrina/wine_classification/blob/main/wine_classification.ipynb\" target=\"_parent\"><img src=\"https://colab.research.google.com/assets/colab-badge.svg\" alt=\"Open In Colab\"/></a>"
      ]
    },
    {
      "cell_type": "markdown",
      "source": [
        "# Progetto Programmazione di Applicazioni Data Intensive\n",
        "# Ryan Perrina e Manuel Luzietti"
      ],
      "metadata": {
        "id": "MKkp6qrGhqVY"
      }
    },
    {
      "cell_type": "code",
      "execution_count": 36,
      "metadata": {
        "id": "_qSuq7Pau5Hx"
      },
      "outputs": [],
      "source": [
        "import numpy as np \n",
        "import pandas as pd\n",
        "import matplotlib.pyplot as plt\n"
      ]
    },
    {
      "cell_type": "markdown",
      "source": [
        "# Descrizione del problema\n",
        "Il dataset in questione riguarda le varianti di vino rosso portoghese \"Vinho Verde\". Il dataset descrive la qualità del vino in relazione ai componenti chimici presenti. L'obiettivo del progetto è predire la qualità del vino dai \n",
        "suoi componenti ovvero predire una variabile discreta non binaria."
      ],
      "metadata": {
        "id": "b_KGNXqaxbjw"
      }
    },
    {
      "cell_type": "code",
      "source": [
        "data = pd.read_csv(\"WineQT.csv\")"
      ],
      "metadata": {
        "id": "0QQD-wzJyblh"
      },
      "execution_count": 37,
      "outputs": []
    },
    {
      "cell_type": "markdown",
      "source": [
        "# Comprensione dati"
      ],
      "metadata": {
        "id": "dmtKuH5C2j4f"
      }
    },
    {
      "cell_type": "code",
      "source": [
        "data.head()"
      ],
      "metadata": {
        "colab": {
          "base_uri": "https://localhost:8080/",
          "height": 206
        },
        "id": "YY_1zhYO2qYy",
        "outputId": "9737c7a6-eea7-4187-b68e-413aaea3db73"
      },
      "execution_count": 38,
      "outputs": [
        {
          "output_type": "execute_result",
          "data": {
            "text/plain": [
              "   fixed acidity  volatile acidity  citric acid  residual sugar  chlorides  \\\n",
              "0            7.4              0.70         0.00             1.9      0.076   \n",
              "1            7.8              0.88         0.00             2.6      0.098   \n",
              "2            7.8              0.76         0.04             2.3      0.092   \n",
              "3           11.2              0.28         0.56             1.9      0.075   \n",
              "4            7.4              0.70         0.00             1.9      0.076   \n",
              "\n",
              "   free sulfur dioxide  total sulfur dioxide  density    pH  sulphates  \\\n",
              "0                 11.0                  34.0   0.9978  3.51       0.56   \n",
              "1                 25.0                  67.0   0.9968  3.20       0.68   \n",
              "2                 15.0                  54.0   0.9970  3.26       0.65   \n",
              "3                 17.0                  60.0   0.9980  3.16       0.58   \n",
              "4                 11.0                  34.0   0.9978  3.51       0.56   \n",
              "\n",
              "   alcohol  quality  Id  \n",
              "0      9.4        5   0  \n",
              "1      9.8        5   1  \n",
              "2      9.8        5   2  \n",
              "3      9.8        6   3  \n",
              "4      9.4        5   4  "
            ],
            "text/html": [
              "\n",
              "  <div id=\"df-759d39a8-69db-4996-982d-a2a4086c987b\">\n",
              "    <div class=\"colab-df-container\">\n",
              "      <div>\n",
              "<style scoped>\n",
              "    .dataframe tbody tr th:only-of-type {\n",
              "        vertical-align: middle;\n",
              "    }\n",
              "\n",
              "    .dataframe tbody tr th {\n",
              "        vertical-align: top;\n",
              "    }\n",
              "\n",
              "    .dataframe thead th {\n",
              "        text-align: right;\n",
              "    }\n",
              "</style>\n",
              "<table border=\"1\" class=\"dataframe\">\n",
              "  <thead>\n",
              "    <tr style=\"text-align: right;\">\n",
              "      <th></th>\n",
              "      <th>fixed acidity</th>\n",
              "      <th>volatile acidity</th>\n",
              "      <th>citric acid</th>\n",
              "      <th>residual sugar</th>\n",
              "      <th>chlorides</th>\n",
              "      <th>free sulfur dioxide</th>\n",
              "      <th>total sulfur dioxide</th>\n",
              "      <th>density</th>\n",
              "      <th>pH</th>\n",
              "      <th>sulphates</th>\n",
              "      <th>alcohol</th>\n",
              "      <th>quality</th>\n",
              "      <th>Id</th>\n",
              "    </tr>\n",
              "  </thead>\n",
              "  <tbody>\n",
              "    <tr>\n",
              "      <th>0</th>\n",
              "      <td>7.4</td>\n",
              "      <td>0.70</td>\n",
              "      <td>0.00</td>\n",
              "      <td>1.9</td>\n",
              "      <td>0.076</td>\n",
              "      <td>11.0</td>\n",
              "      <td>34.0</td>\n",
              "      <td>0.9978</td>\n",
              "      <td>3.51</td>\n",
              "      <td>0.56</td>\n",
              "      <td>9.4</td>\n",
              "      <td>5</td>\n",
              "      <td>0</td>\n",
              "    </tr>\n",
              "    <tr>\n",
              "      <th>1</th>\n",
              "      <td>7.8</td>\n",
              "      <td>0.88</td>\n",
              "      <td>0.00</td>\n",
              "      <td>2.6</td>\n",
              "      <td>0.098</td>\n",
              "      <td>25.0</td>\n",
              "      <td>67.0</td>\n",
              "      <td>0.9968</td>\n",
              "      <td>3.20</td>\n",
              "      <td>0.68</td>\n",
              "      <td>9.8</td>\n",
              "      <td>5</td>\n",
              "      <td>1</td>\n",
              "    </tr>\n",
              "    <tr>\n",
              "      <th>2</th>\n",
              "      <td>7.8</td>\n",
              "      <td>0.76</td>\n",
              "      <td>0.04</td>\n",
              "      <td>2.3</td>\n",
              "      <td>0.092</td>\n",
              "      <td>15.0</td>\n",
              "      <td>54.0</td>\n",
              "      <td>0.9970</td>\n",
              "      <td>3.26</td>\n",
              "      <td>0.65</td>\n",
              "      <td>9.8</td>\n",
              "      <td>5</td>\n",
              "      <td>2</td>\n",
              "    </tr>\n",
              "    <tr>\n",
              "      <th>3</th>\n",
              "      <td>11.2</td>\n",
              "      <td>0.28</td>\n",
              "      <td>0.56</td>\n",
              "      <td>1.9</td>\n",
              "      <td>0.075</td>\n",
              "      <td>17.0</td>\n",
              "      <td>60.0</td>\n",
              "      <td>0.9980</td>\n",
              "      <td>3.16</td>\n",
              "      <td>0.58</td>\n",
              "      <td>9.8</td>\n",
              "      <td>6</td>\n",
              "      <td>3</td>\n",
              "    </tr>\n",
              "    <tr>\n",
              "      <th>4</th>\n",
              "      <td>7.4</td>\n",
              "      <td>0.70</td>\n",
              "      <td>0.00</td>\n",
              "      <td>1.9</td>\n",
              "      <td>0.076</td>\n",
              "      <td>11.0</td>\n",
              "      <td>34.0</td>\n",
              "      <td>0.9978</td>\n",
              "      <td>3.51</td>\n",
              "      <td>0.56</td>\n",
              "      <td>9.4</td>\n",
              "      <td>5</td>\n",
              "      <td>4</td>\n",
              "    </tr>\n",
              "  </tbody>\n",
              "</table>\n",
              "</div>\n",
              "      <button class=\"colab-df-convert\" onclick=\"convertToInteractive('df-759d39a8-69db-4996-982d-a2a4086c987b')\"\n",
              "              title=\"Convert this dataframe to an interactive table.\"\n",
              "              style=\"display:none;\">\n",
              "        \n",
              "  <svg xmlns=\"http://www.w3.org/2000/svg\" height=\"24px\"viewBox=\"0 0 24 24\"\n",
              "       width=\"24px\">\n",
              "    <path d=\"M0 0h24v24H0V0z\" fill=\"none\"/>\n",
              "    <path d=\"M18.56 5.44l.94 2.06.94-2.06 2.06-.94-2.06-.94-.94-2.06-.94 2.06-2.06.94zm-11 1L8.5 8.5l.94-2.06 2.06-.94-2.06-.94L8.5 2.5l-.94 2.06-2.06.94zm10 10l.94 2.06.94-2.06 2.06-.94-2.06-.94-.94-2.06-.94 2.06-2.06.94z\"/><path d=\"M17.41 7.96l-1.37-1.37c-.4-.4-.92-.59-1.43-.59-.52 0-1.04.2-1.43.59L10.3 9.45l-7.72 7.72c-.78.78-.78 2.05 0 2.83L4 21.41c.39.39.9.59 1.41.59.51 0 1.02-.2 1.41-.59l7.78-7.78 2.81-2.81c.8-.78.8-2.07 0-2.86zM5.41 20L4 18.59l7.72-7.72 1.47 1.35L5.41 20z\"/>\n",
              "  </svg>\n",
              "      </button>\n",
              "      \n",
              "  <style>\n",
              "    .colab-df-container {\n",
              "      display:flex;\n",
              "      flex-wrap:wrap;\n",
              "      gap: 12px;\n",
              "    }\n",
              "\n",
              "    .colab-df-convert {\n",
              "      background-color: #E8F0FE;\n",
              "      border: none;\n",
              "      border-radius: 50%;\n",
              "      cursor: pointer;\n",
              "      display: none;\n",
              "      fill: #1967D2;\n",
              "      height: 32px;\n",
              "      padding: 0 0 0 0;\n",
              "      width: 32px;\n",
              "    }\n",
              "\n",
              "    .colab-df-convert:hover {\n",
              "      background-color: #E2EBFA;\n",
              "      box-shadow: 0px 1px 2px rgba(60, 64, 67, 0.3), 0px 1px 3px 1px rgba(60, 64, 67, 0.15);\n",
              "      fill: #174EA6;\n",
              "    }\n",
              "\n",
              "    [theme=dark] .colab-df-convert {\n",
              "      background-color: #3B4455;\n",
              "      fill: #D2E3FC;\n",
              "    }\n",
              "\n",
              "    [theme=dark] .colab-df-convert:hover {\n",
              "      background-color: #434B5C;\n",
              "      box-shadow: 0px 1px 3px 1px rgba(0, 0, 0, 0.15);\n",
              "      filter: drop-shadow(0px 1px 2px rgba(0, 0, 0, 0.3));\n",
              "      fill: #FFFFFF;\n",
              "    }\n",
              "  </style>\n",
              "\n",
              "      <script>\n",
              "        const buttonEl =\n",
              "          document.querySelector('#df-759d39a8-69db-4996-982d-a2a4086c987b button.colab-df-convert');\n",
              "        buttonEl.style.display =\n",
              "          google.colab.kernel.accessAllowed ? 'block' : 'none';\n",
              "\n",
              "        async function convertToInteractive(key) {\n",
              "          const element = document.querySelector('#df-759d39a8-69db-4996-982d-a2a4086c987b');\n",
              "          const dataTable =\n",
              "            await google.colab.kernel.invokeFunction('convertToInteractive',\n",
              "                                                     [key], {});\n",
              "          if (!dataTable) return;\n",
              "\n",
              "          const docLinkHtml = 'Like what you see? Visit the ' +\n",
              "            '<a target=\"_blank\" href=https://colab.research.google.com/notebooks/data_table.ipynb>data table notebook</a>'\n",
              "            + ' to learn more about interactive tables.';\n",
              "          element.innerHTML = '';\n",
              "          dataTable['output_type'] = 'display_data';\n",
              "          await google.colab.output.renderOutput(dataTable, element);\n",
              "          const docLink = document.createElement('div');\n",
              "          docLink.innerHTML = docLinkHtml;\n",
              "          element.appendChild(docLink);\n",
              "        }\n",
              "      </script>\n",
              "    </div>\n",
              "  </div>\n",
              "  "
            ]
          },
          "metadata": {},
          "execution_count": 38
        }
      ]
    },
    {
      "cell_type": "markdown",
      "source": [
        "Le features rappresentate:\n",
        "\n",
        "\n",
        "*   fixed acidity | float \n",
        "*   volatile acidity | float \n",
        "*   citric acid\t| float\n",
        "*   residual sugar | float\n",
        "*   chlorides | float\n",
        "*   free sulfur dioxide\t| float\n",
        "*   total sulfur dioxide\t| float\n",
        "*   density | float\n",
        "*   pH | float\n",
        "*   sulphates | float\n",
        "*   alcohol | float\n",
        "*   quality | int\n",
        "*   id | int\n"
      ],
      "metadata": {
        "id": "MJSXnXsA3UQJ"
      }
    },
    {
      "cell_type": "markdown",
      "source": [
        "La variabile target è quality che assume valori da 0 a 10 con 0 qualità pessima e 10 eccellente. Id è l'identificatore dei record e verrà usato come indice del dataframe."
      ],
      "metadata": {
        "id": "V2g4mnO26r8R"
      }
    },
    {
      "cell_type": "code",
      "source": [
        "data.set_index(\"Id\",inplace=True)"
      ],
      "metadata": {
        "id": "cBApJW5n2sUU"
      },
      "execution_count": 39,
      "outputs": []
    },
    {
      "cell_type": "code",
      "source": [
        "data.describe()\n"
      ],
      "metadata": {
        "id": "aGdXgcgM6RgI",
        "outputId": "879e7655-8ec2-472b-fbf2-c8ad31396b67",
        "colab": {
          "base_uri": "https://localhost:8080/",
          "height": 300
        }
      },
      "execution_count": 40,
      "outputs": [
        {
          "output_type": "execute_result",
          "data": {
            "text/plain": [
              "       fixed acidity  volatile acidity  citric acid  residual sugar  \\\n",
              "count    1143.000000       1143.000000  1143.000000     1143.000000   \n",
              "mean        8.311111          0.531339     0.268364        2.532152   \n",
              "std         1.747595          0.179633     0.196686        1.355917   \n",
              "min         4.600000          0.120000     0.000000        0.900000   \n",
              "25%         7.100000          0.392500     0.090000        1.900000   \n",
              "50%         7.900000          0.520000     0.250000        2.200000   \n",
              "75%         9.100000          0.640000     0.420000        2.600000   \n",
              "max        15.900000          1.580000     1.000000       15.500000   \n",
              "\n",
              "         chlorides  free sulfur dioxide  total sulfur dioxide      density  \\\n",
              "count  1143.000000          1143.000000           1143.000000  1143.000000   \n",
              "mean      0.086933            15.615486             45.914698     0.996730   \n",
              "std       0.047267            10.250486             32.782130     0.001925   \n",
              "min       0.012000             1.000000              6.000000     0.990070   \n",
              "25%       0.070000             7.000000             21.000000     0.995570   \n",
              "50%       0.079000            13.000000             37.000000     0.996680   \n",
              "75%       0.090000            21.000000             61.000000     0.997845   \n",
              "max       0.611000            68.000000            289.000000     1.003690   \n",
              "\n",
              "                pH    sulphates      alcohol      quality  \n",
              "count  1143.000000  1143.000000  1143.000000  1143.000000  \n",
              "mean      3.311015     0.657708    10.442111     5.657043  \n",
              "std       0.156664     0.170399     1.082196     0.805824  \n",
              "min       2.740000     0.330000     8.400000     3.000000  \n",
              "25%       3.205000     0.550000     9.500000     5.000000  \n",
              "50%       3.310000     0.620000    10.200000     6.000000  \n",
              "75%       3.400000     0.730000    11.100000     6.000000  \n",
              "max       4.010000     2.000000    14.900000     8.000000  "
            ],
            "text/html": [
              "\n",
              "  <div id=\"df-b5f1451c-1f76-41ee-b447-4a7afd61b88c\">\n",
              "    <div class=\"colab-df-container\">\n",
              "      <div>\n",
              "<style scoped>\n",
              "    .dataframe tbody tr th:only-of-type {\n",
              "        vertical-align: middle;\n",
              "    }\n",
              "\n",
              "    .dataframe tbody tr th {\n",
              "        vertical-align: top;\n",
              "    }\n",
              "\n",
              "    .dataframe thead th {\n",
              "        text-align: right;\n",
              "    }\n",
              "</style>\n",
              "<table border=\"1\" class=\"dataframe\">\n",
              "  <thead>\n",
              "    <tr style=\"text-align: right;\">\n",
              "      <th></th>\n",
              "      <th>fixed acidity</th>\n",
              "      <th>volatile acidity</th>\n",
              "      <th>citric acid</th>\n",
              "      <th>residual sugar</th>\n",
              "      <th>chlorides</th>\n",
              "      <th>free sulfur dioxide</th>\n",
              "      <th>total sulfur dioxide</th>\n",
              "      <th>density</th>\n",
              "      <th>pH</th>\n",
              "      <th>sulphates</th>\n",
              "      <th>alcohol</th>\n",
              "      <th>quality</th>\n",
              "    </tr>\n",
              "  </thead>\n",
              "  <tbody>\n",
              "    <tr>\n",
              "      <th>count</th>\n",
              "      <td>1143.000000</td>\n",
              "      <td>1143.000000</td>\n",
              "      <td>1143.000000</td>\n",
              "      <td>1143.000000</td>\n",
              "      <td>1143.000000</td>\n",
              "      <td>1143.000000</td>\n",
              "      <td>1143.000000</td>\n",
              "      <td>1143.000000</td>\n",
              "      <td>1143.000000</td>\n",
              "      <td>1143.000000</td>\n",
              "      <td>1143.000000</td>\n",
              "      <td>1143.000000</td>\n",
              "    </tr>\n",
              "    <tr>\n",
              "      <th>mean</th>\n",
              "      <td>8.311111</td>\n",
              "      <td>0.531339</td>\n",
              "      <td>0.268364</td>\n",
              "      <td>2.532152</td>\n",
              "      <td>0.086933</td>\n",
              "      <td>15.615486</td>\n",
              "      <td>45.914698</td>\n",
              "      <td>0.996730</td>\n",
              "      <td>3.311015</td>\n",
              "      <td>0.657708</td>\n",
              "      <td>10.442111</td>\n",
              "      <td>5.657043</td>\n",
              "    </tr>\n",
              "    <tr>\n",
              "      <th>std</th>\n",
              "      <td>1.747595</td>\n",
              "      <td>0.179633</td>\n",
              "      <td>0.196686</td>\n",
              "      <td>1.355917</td>\n",
              "      <td>0.047267</td>\n",
              "      <td>10.250486</td>\n",
              "      <td>32.782130</td>\n",
              "      <td>0.001925</td>\n",
              "      <td>0.156664</td>\n",
              "      <td>0.170399</td>\n",
              "      <td>1.082196</td>\n",
              "      <td>0.805824</td>\n",
              "    </tr>\n",
              "    <tr>\n",
              "      <th>min</th>\n",
              "      <td>4.600000</td>\n",
              "      <td>0.120000</td>\n",
              "      <td>0.000000</td>\n",
              "      <td>0.900000</td>\n",
              "      <td>0.012000</td>\n",
              "      <td>1.000000</td>\n",
              "      <td>6.000000</td>\n",
              "      <td>0.990070</td>\n",
              "      <td>2.740000</td>\n",
              "      <td>0.330000</td>\n",
              "      <td>8.400000</td>\n",
              "      <td>3.000000</td>\n",
              "    </tr>\n",
              "    <tr>\n",
              "      <th>25%</th>\n",
              "      <td>7.100000</td>\n",
              "      <td>0.392500</td>\n",
              "      <td>0.090000</td>\n",
              "      <td>1.900000</td>\n",
              "      <td>0.070000</td>\n",
              "      <td>7.000000</td>\n",
              "      <td>21.000000</td>\n",
              "      <td>0.995570</td>\n",
              "      <td>3.205000</td>\n",
              "      <td>0.550000</td>\n",
              "      <td>9.500000</td>\n",
              "      <td>5.000000</td>\n",
              "    </tr>\n",
              "    <tr>\n",
              "      <th>50%</th>\n",
              "      <td>7.900000</td>\n",
              "      <td>0.520000</td>\n",
              "      <td>0.250000</td>\n",
              "      <td>2.200000</td>\n",
              "      <td>0.079000</td>\n",
              "      <td>13.000000</td>\n",
              "      <td>37.000000</td>\n",
              "      <td>0.996680</td>\n",
              "      <td>3.310000</td>\n",
              "      <td>0.620000</td>\n",
              "      <td>10.200000</td>\n",
              "      <td>6.000000</td>\n",
              "    </tr>\n",
              "    <tr>\n",
              "      <th>75%</th>\n",
              "      <td>9.100000</td>\n",
              "      <td>0.640000</td>\n",
              "      <td>0.420000</td>\n",
              "      <td>2.600000</td>\n",
              "      <td>0.090000</td>\n",
              "      <td>21.000000</td>\n",
              "      <td>61.000000</td>\n",
              "      <td>0.997845</td>\n",
              "      <td>3.400000</td>\n",
              "      <td>0.730000</td>\n",
              "      <td>11.100000</td>\n",
              "      <td>6.000000</td>\n",
              "    </tr>\n",
              "    <tr>\n",
              "      <th>max</th>\n",
              "      <td>15.900000</td>\n",
              "      <td>1.580000</td>\n",
              "      <td>1.000000</td>\n",
              "      <td>15.500000</td>\n",
              "      <td>0.611000</td>\n",
              "      <td>68.000000</td>\n",
              "      <td>289.000000</td>\n",
              "      <td>1.003690</td>\n",
              "      <td>4.010000</td>\n",
              "      <td>2.000000</td>\n",
              "      <td>14.900000</td>\n",
              "      <td>8.000000</td>\n",
              "    </tr>\n",
              "  </tbody>\n",
              "</table>\n",
              "</div>\n",
              "      <button class=\"colab-df-convert\" onclick=\"convertToInteractive('df-b5f1451c-1f76-41ee-b447-4a7afd61b88c')\"\n",
              "              title=\"Convert this dataframe to an interactive table.\"\n",
              "              style=\"display:none;\">\n",
              "        \n",
              "  <svg xmlns=\"http://www.w3.org/2000/svg\" height=\"24px\"viewBox=\"0 0 24 24\"\n",
              "       width=\"24px\">\n",
              "    <path d=\"M0 0h24v24H0V0z\" fill=\"none\"/>\n",
              "    <path d=\"M18.56 5.44l.94 2.06.94-2.06 2.06-.94-2.06-.94-.94-2.06-.94 2.06-2.06.94zm-11 1L8.5 8.5l.94-2.06 2.06-.94-2.06-.94L8.5 2.5l-.94 2.06-2.06.94zm10 10l.94 2.06.94-2.06 2.06-.94-2.06-.94-.94-2.06-.94 2.06-2.06.94z\"/><path d=\"M17.41 7.96l-1.37-1.37c-.4-.4-.92-.59-1.43-.59-.52 0-1.04.2-1.43.59L10.3 9.45l-7.72 7.72c-.78.78-.78 2.05 0 2.83L4 21.41c.39.39.9.59 1.41.59.51 0 1.02-.2 1.41-.59l7.78-7.78 2.81-2.81c.8-.78.8-2.07 0-2.86zM5.41 20L4 18.59l7.72-7.72 1.47 1.35L5.41 20z\"/>\n",
              "  </svg>\n",
              "      </button>\n",
              "      \n",
              "  <style>\n",
              "    .colab-df-container {\n",
              "      display:flex;\n",
              "      flex-wrap:wrap;\n",
              "      gap: 12px;\n",
              "    }\n",
              "\n",
              "    .colab-df-convert {\n",
              "      background-color: #E8F0FE;\n",
              "      border: none;\n",
              "      border-radius: 50%;\n",
              "      cursor: pointer;\n",
              "      display: none;\n",
              "      fill: #1967D2;\n",
              "      height: 32px;\n",
              "      padding: 0 0 0 0;\n",
              "      width: 32px;\n",
              "    }\n",
              "\n",
              "    .colab-df-convert:hover {\n",
              "      background-color: #E2EBFA;\n",
              "      box-shadow: 0px 1px 2px rgba(60, 64, 67, 0.3), 0px 1px 3px 1px rgba(60, 64, 67, 0.15);\n",
              "      fill: #174EA6;\n",
              "    }\n",
              "\n",
              "    [theme=dark] .colab-df-convert {\n",
              "      background-color: #3B4455;\n",
              "      fill: #D2E3FC;\n",
              "    }\n",
              "\n",
              "    [theme=dark] .colab-df-convert:hover {\n",
              "      background-color: #434B5C;\n",
              "      box-shadow: 0px 1px 3px 1px rgba(0, 0, 0, 0.15);\n",
              "      filter: drop-shadow(0px 1px 2px rgba(0, 0, 0, 0.3));\n",
              "      fill: #FFFFFF;\n",
              "    }\n",
              "  </style>\n",
              "\n",
              "      <script>\n",
              "        const buttonEl =\n",
              "          document.querySelector('#df-b5f1451c-1f76-41ee-b447-4a7afd61b88c button.colab-df-convert');\n",
              "        buttonEl.style.display =\n",
              "          google.colab.kernel.accessAllowed ? 'block' : 'none';\n",
              "\n",
              "        async function convertToInteractive(key) {\n",
              "          const element = document.querySelector('#df-b5f1451c-1f76-41ee-b447-4a7afd61b88c');\n",
              "          const dataTable =\n",
              "            await google.colab.kernel.invokeFunction('convertToInteractive',\n",
              "                                                     [key], {});\n",
              "          if (!dataTable) return;\n",
              "\n",
              "          const docLinkHtml = 'Like what you see? Visit the ' +\n",
              "            '<a target=\"_blank\" href=https://colab.research.google.com/notebooks/data_table.ipynb>data table notebook</a>'\n",
              "            + ' to learn more about interactive tables.';\n",
              "          element.innerHTML = '';\n",
              "          dataTable['output_type'] = 'display_data';\n",
              "          await google.colab.output.renderOutput(dataTable, element);\n",
              "          const docLink = document.createElement('div');\n",
              "          docLink.innerHTML = docLinkHtml;\n",
              "          element.appendChild(docLink);\n",
              "        }\n",
              "      </script>\n",
              "    </div>\n",
              "  </div>\n",
              "  "
            ]
          },
          "metadata": {},
          "execution_count": 40
        }
      ]
    },
    {
      "cell_type": "markdown",
      "source": [
        "Dal dataset possiamo notare che su alcune colonne abbiamo una variazione significativa tra media e 50 percentile, con alte std conme ad esempio \"total sulfur dioxide\"\toppure \"free sulfur dioxide\" questo significa che indica che ci sono valori particolarmente elevati agli estremi.\n",
        "Si può notare anche che non sono stati rilevati vini con quality minore di 3 o maggiore di 8."
      ],
      "metadata": {
        "id": "_PLuxqSR9C5h"
      }
    },
    {
      "cell_type": "code",
      "source": [
        "data[\"quality\"].value_counts().plot.pie(autopct=\"%1.1f%%\")"
      ],
      "metadata": {
        "id": "ZNfM-WMd9Ck9",
        "outputId": "29bcec61-1413-44dd-8ae1-686791b503c5",
        "colab": {
          "base_uri": "https://localhost:8080/",
          "height": 265
        }
      },
      "execution_count": 41,
      "outputs": [
        {
          "output_type": "execute_result",
          "data": {
            "text/plain": [
              "<matplotlib.axes._subplots.AxesSubplot at 0x7f26e53bf4d0>"
            ]
          },
          "metadata": {},
          "execution_count": 41
        },
        {
          "output_type": "display_data",
          "data": {
            "text/plain": [
              "<Figure size 432x288 with 1 Axes>"
            ],
            "image/png": "[encoded data removed]"
          },
          "metadata": {}
        }
      ]
    },
    {
      "cell_type": "markdown",
      "source": [
        "Dal grafico possiamo vedere che le classi sono sbilancite e potrebbero essere necessarie tecniche di bilanciamento. "
      ],
      "metadata": {
        "id": "8m-UCZYfCz0G"
      }
    },
    {
      "cell_type": "code",
      "source": [
        "data.isna().sum()"
      ],
      "metadata": {
        "id": "VDURnVYLCzkm",
        "outputId": "8307d9b3-087e-4782-8388-dde1e502b705",
        "colab": {
          "base_uri": "https://localhost:8080/"
        }
      },
      "execution_count": 42,
      "outputs": [
        {
          "output_type": "execute_result",
          "data": {
            "text/plain": [
              "fixed acidity           0\n",
              "volatile acidity        0\n",
              "citric acid             0\n",
              "residual sugar          0\n",
              "chlorides               0\n",
              "free sulfur dioxide     0\n",
              "total sulfur dioxide    0\n",
              "density                 0\n",
              "pH                      0\n",
              "sulphates               0\n",
              "alcohol                 0\n",
              "quality                 0\n",
              "dtype: int64"
            ]
          },
          "metadata": {},
          "execution_count": 42
        }
      ]
    },
    {
      "cell_type": "markdown",
      "source": [
        "Come possiamo vedere non sono presenti valori nulli su nessuna colonna. Il numero di dati presenti nel data set è:"
      ],
      "metadata": {
        "id": "mZpCRWc8DbcT"
      }
    },
    {
      "cell_type": "code",
      "source": [
        "data.shape"
      ],
      "metadata": {
        "id": "l5vjoJw6DbE0",
        "outputId": "fbb2e718-b069-43c0-d9f1-a8e1bbefee28",
        "colab": {
          "base_uri": "https://localhost:8080/"
        }
      },
      "execution_count": 43,
      "outputs": [
        {
          "output_type": "execute_result",
          "data": {
            "text/plain": [
              "(1143, 12)"
            ]
          },
          "metadata": {},
          "execution_count": 43
        }
      ]
    },
    {
      "cell_type": "markdown",
      "source": [
        "abbiamo 1143 record e 12 features."
      ],
      "metadata": {
        "id": "wesbGe50D8qv"
      }
    },
    {
      "cell_type": "markdown",
      "source": [
        "# Data exploration\n"
      ],
      "metadata": {
        "id": "FVtOBhh6Dp2Z"
      }
    },
    {
      "cell_type": "code",
      "source": [
        "data.columns"
      ],
      "metadata": {
        "id": "0Wl_h4CyIa0g",
        "outputId": "12cb2e4a-ed65-4220-ee19-5c0447cf7799",
        "colab": {
          "base_uri": "https://localhost:8080/"
        }
      },
      "execution_count": 44,
      "outputs": [
        {
          "output_type": "execute_result",
          "data": {
            "text/plain": [
              "Index(['fixed acidity', 'volatile acidity', 'citric acid', 'residual sugar',\n",
              "       'chlorides', 'free sulfur dioxide', 'total sulfur dioxide', 'density',\n",
              "       'pH', 'sulphates', 'alcohol', 'quality'],\n",
              "      dtype='object')"
            ]
          },
          "metadata": {},
          "execution_count": 44
        }
      ]
    },
    {
      "cell_type": "code",
      "source": [
        "@interact(features=data.columns.drop(\"quality\"))\n",
        "def prepare_plot(features):\n",
        "    plt.figure(figsize=(20,20))\n",
        "    data.plot.scatter(x=\"quality\",y=features,title=features)    "
      ],
      "metadata": {
        "collapsed": true,
        "colab": {
          "base_uri": "https://localhost:8080/",
          "height": 344,
          "referenced_widgets": [
            "42acdfd8e9d640e3b2e27353c8e4097c",
            "d82e24bf868248848d559ebcab0c37f0",
            "b2d76afdee214b50b0f0a5c7b0d290e3",
            "89a36c9947534ccd81ae3e694f2345df",
            "605385693e72465d8270190e2224dc17",
            "90e03f06acc14b27a6f0dd867b694b79",
            "421ff689172542d1b7c27d67e6e1bfdc"
          ]
        },
        "id": "SE7KYXHK26uX",
        "outputId": "2f8df905-c87b-4e11-fa89-28893d01dcac"
      },
      "execution_count": 84,
      "outputs": [
        {
          "output_type": "display_data",
          "data": {
            "text/plain": [
              "interactive(children=(Dropdown(description='features', options=('fixed acidity', 'volatile acidity', 'citric a…"
            ],
            "application/vnd.jupyter.widget-view+json": {
              "version_major": 2,
              "version_minor": 0,
              "model_id": "42acdfd8e9d640e3b2e27353c8e4097c"
            }
          },
          "metadata": {}
        }
      ]
    },
    {
      "cell_type": "code",
      "source": [
        "@interact(features=data.columns.drop(\"quality\"), quality=(data[\"quality\"].min(),data[\"quality\"].max(),1))\n",
        "def prepare_plot(features,quality):\n",
        "    plt.figure(figsize=(20,20))\n",
        "    data[features].where(data[\"quality\"]==quality).plot.hist(ax=plt.subplot(3,5,i),title=features)"
      ],
      "metadata": {
        "outputId": "c63a13e5-32fe-4e65-8d5b-8eff4ed99c9d",
        "colab": {
          "base_uri": "https://localhost:8080/",
          "height": 448,
          "referenced_widgets": [
            "024b2e467d964276abc0b0fff5eb5e87",
            "d6f6260098d9448091ff1a83bfc3d93e",
            "bb4ace283f4d44d881069003ea3bdfbc",
            "55039d3c0dfe4fb582e4376b9592a862",
            "eb31faaeac2843c9859d3915c666bf00",
            "51d8087edd1c4c9d8b9e7a3c49535d61",
            "13d3fcbe02b84fdcb7165ed31542f2a0",
            "c7b712c0da62461797733dc2cd714f7e",
            "943c9a57f3ce4a719aee129ba1c60240",
            "5371068892894c189d72d264e00d36e2"
          ]
        },
        "id": "yGh_urrHC1B5"
      },
      "execution_count": 92,
      "outputs": [
        {
          "output_type": "display_data",
          "data": {
            "text/plain": [
              "interactive(children=(Dropdown(description='features', options=('fixed acidity', 'volatile acidity', 'citric a…"
            ],
            "application/vnd.jupyter.widget-view+json": {
              "version_major": 2,
              "version_minor": 0,
              "model_id": "024b2e467d964276abc0b0fff5eb5e87"
            }
          },
          "metadata": {}
        }
      ]
    },
    {
      "cell_type": "markdown",
      "source": [
        "Costruiamo ora la matrice degli indici di correlazione tra le varie features."
      ],
      "metadata": {
        "id": "k6QubUKypLGB"
      }
    },
    {
      "cell_type": "code",
      "source": [
        "corr = data.corr()\n",
        "corr.style.background_gradient(cmap='coolwarm')"
      ],
      "metadata": {
        "id": "ip9MV8cELQJK",
        "outputId": "0802c0ea-a02c-4ec2-99a9-2a8186d455ab",
        "colab": {
          "base_uri": "https://localhost:8080/",
          "height": 426
        }
      },
      "execution_count": 48,
      "outputs": [
        {
          "output_type": "execute_result",
          "data": {
            "text/plain": [
              "<pandas.io.formats.style.Styler at 0x7f26e4ea6f10>"
            ],
            "text/html": [
              "<style type=\"text/css\">\n",
              "#T_49897_row0_col0, #T_49897_row1_col1, #T_49897_row2_col2, #T_49897_row3_col3, #T_49897_row4_col4, #T_49897_row5_col5, #T_49897_row6_col6, #T_49897_row7_col7, #T_49897_row8_col8, #T_49897_row9_col9, #T_49897_row10_col10, #T_49897_row11_col11 {\n",
              "  background-color: #b40426;\n",
              "  color: #f1f1f1;\n",
              "}\n",
              "#T_49897_row0_col1, #T_49897_row2_col6 {\n",
              "  background-color: #779af7;\n",
              "  color: #f1f1f1;\n",
              "}\n",
              "#T_49897_row0_col2, #T_49897_row0_col7 {\n",
              "  background-color: #f08a6c;\n",
              "  color: #f1f1f1;\n",
              "}\n",
              "#T_49897_row0_col3, #T_49897_row1_col4 {\n",
              "  background-color: #90b2fe;\n",
              "  color: #000000;\n",
              "}\n",
              "#T_49897_row0_col4 {\n",
              "  background-color: #9fbfff;\n",
              "  color: #000000;\n",
              "}\n",
              "#T_49897_row0_col5, #T_49897_row0_col8, #T_49897_row1_col2, #T_49897_row1_col9, #T_49897_row1_col11, #T_49897_row2_col1, #T_49897_row7_col10, #T_49897_row8_col0, #T_49897_row8_col2, #T_49897_row8_col3, #T_49897_row8_col4, #T_49897_row10_col6, #T_49897_row10_col7 {\n",
              "  background-color: #3b4cc0;\n",
              "  color: #f1f1f1;\n",
              "}\n",
              "#T_49897_row0_col6 {\n",
              "  background-color: #4e68d8;\n",
              "  color: #f1f1f1;\n",
              "}\n",
              "#T_49897_row0_col9 {\n",
              "  background-color: #b1cbfc;\n",
              "  color: #000000;\n",
              "}\n",
              "#T_49897_row0_col10 {\n",
              "  background-color: #97b8ff;\n",
              "  color: #000000;\n",
              "}\n",
              "#T_49897_row0_col11, #T_49897_row6_col2, #T_49897_row11_col8 {\n",
              "  background-color: #b9d0f9;\n",
              "  color: #000000;\n",
              "}\n",
              "#T_49897_row1_col0, #T_49897_row6_col4 {\n",
              "  background-color: #8fb1fe;\n",
              "  color: #000000;\n",
              "}\n",
              "#T_49897_row1_col3, #T_49897_row10_col5 {\n",
              "  background-color: #5977e3;\n",
              "  color: #f1f1f1;\n",
              "}\n",
              "#T_49897_row1_col5 {\n",
              "  background-color: #6687ed;\n",
              "  color: #f1f1f1;\n",
              "}\n",
              "#T_49897_row1_col6 {\n",
              "  background-color: #84a7fc;\n",
              "  color: #f1f1f1;\n",
              "}\n",
              "#T_49897_row1_col7, #T_49897_row6_col0 {\n",
              "  background-color: #adc9fd;\n",
              "  color: #000000;\n",
              "}\n",
              "#T_49897_row1_col8 {\n",
              "  background-color: #e6d7cf;\n",
              "  color: #000000;\n",
              "}\n",
              "#T_49897_row1_col10 {\n",
              "  background-color: #799cf8;\n",
              "  color: #f1f1f1;\n",
              "}\n",
              "#T_49897_row2_col0 {\n",
              "  background-color: #ec8165;\n",
              "  color: #f1f1f1;\n",
              "}\n",
              "#T_49897_row2_col3 {\n",
              "  background-color: #92b4fe;\n",
              "  color: #000000;\n",
              "}\n",
              "#T_49897_row2_col4 {\n",
              "  background-color: #c3d5f4;\n",
              "  color: #000000;\n",
              "}\n",
              "#T_49897_row2_col5 {\n",
              "  background-color: #5673e0;\n",
              "  color: #f1f1f1;\n",
              "}\n",
              "#T_49897_row2_col7 {\n",
              "  background-color: #efcfbf;\n",
              "  color: #000000;\n",
              "}\n",
              "#T_49897_row2_col8 {\n",
              "  background-color: #5470de;\n",
              "  color: #f1f1f1;\n",
              "}\n",
              "#T_49897_row2_col9 {\n",
              "  background-color: #d6dce4;\n",
              "  color: #000000;\n",
              "}\n",
              "#T_49897_row2_col10 {\n",
              "  background-color: #c0d4f5;\n",
              "  color: #000000;\n",
              "}\n",
              "#T_49897_row2_col11 {\n",
              "  background-color: #d2dbe8;\n",
              "  color: #000000;\n",
              "}\n",
              "#T_49897_row3_col0, #T_49897_row4_col9, #T_49897_row9_col0, #T_49897_row9_col4, #T_49897_row11_col2 {\n",
              "  background-color: #dfdbd9;\n",
              "  color: #000000;\n",
              "}\n",
              "#T_49897_row3_col1, #T_49897_row5_col1 {\n",
              "  background-color: #afcafc;\n",
              "  color: #000000;\n",
              "}\n",
              "#T_49897_row3_col2 {\n",
              "  background-color: #d4dbe6;\n",
              "  color: #000000;\n",
              "}\n",
              "#T_49897_row3_col4 {\n",
              "  background-color: #94b6ff;\n",
              "  color: #000000;\n",
              "}\n",
              "#T_49897_row3_col5 {\n",
              "  background-color: #98b9ff;\n",
              "  color: #000000;\n",
              "}\n",
              "#T_49897_row3_col6 {\n",
              "  background-color: #a5c3fe;\n",
              "  color: #000000;\n",
              "}\n",
              "#T_49897_row3_col7 {\n",
              "  background-color: #efcebd;\n",
              "  color: #000000;\n",
              "}\n",
              "#T_49897_row3_col8 {\n",
              "  background-color: #abc8fd;\n",
              "  color: #000000;\n",
              "}\n",
              "#T_49897_row3_col9, #T_49897_row5_col4 {\n",
              "  background-color: #85a8fc;\n",
              "  color: #f1f1f1;\n",
              "}\n",
              "#T_49897_row3_col10 {\n",
              "  background-color: #b6cefa;\n",
              "  color: #000000;\n",
              "}\n",
              "#T_49897_row3_col11 {\n",
              "  background-color: #a1c0ff;\n",
              "  color: #000000;\n",
              "}\n",
              "#T_49897_row4_col0, #T_49897_row4_col7, #T_49897_row9_col11 {\n",
              "  background-color: #d5dbe5;\n",
              "  color: #000000;\n",
              "}\n",
              "#T_49897_row4_col1 {\n",
              "  background-color: #bcd2f7;\n",
              "  color: #000000;\n",
              "}\n",
              "#T_49897_row4_col2 {\n",
              "  background-color: #e0dbd8;\n",
              "  color: #000000;\n",
              "}\n",
              "#T_49897_row4_col3, #T_49897_row9_col5 {\n",
              "  background-color: #7093f3;\n",
              "  color: #f1f1f1;\n",
              "}\n",
              "#T_49897_row4_col5 {\n",
              "  background-color: #6b8df0;\n",
              "  color: #f1f1f1;\n",
              "}\n",
              "#T_49897_row4_col6, #T_49897_row7_col8 {\n",
              "  background-color: #7a9df8;\n",
              "  color: #f1f1f1;\n",
              "}\n",
              "#T_49897_row4_col8 {\n",
              "  background-color: #89acfd;\n",
              "  color: #000000;\n",
              "}\n",
              "#T_49897_row4_col10 {\n",
              "  background-color: #7396f5;\n",
              "  color: #f1f1f1;\n",
              "}\n",
              "#T_49897_row4_col11, #T_49897_row7_col6 {\n",
              "  background-color: #7b9ff9;\n",
              "  color: #f1f1f1;\n",
              "}\n",
              "#T_49897_row5_col0 {\n",
              "  background-color: #a2c1ff;\n",
              "  color: #000000;\n",
              "}\n",
              "#T_49897_row5_col2 {\n",
              "  background-color: #a3c2fe;\n",
              "  color: #000000;\n",
              "}\n",
              "#T_49897_row5_col3, #T_49897_row8_col11 {\n",
              "  background-color: #8db0fe;\n",
              "  color: #000000;\n",
              "}\n",
              "#T_49897_row5_col6 {\n",
              "  background-color: #f7a889;\n",
              "  color: #000000;\n",
              "}\n",
              "#T_49897_row5_col7, #T_49897_row9_col8 {\n",
              "  background-color: #9dbdff;\n",
              "  color: #000000;\n",
              "}\n",
              "#T_49897_row5_col8 {\n",
              "  background-color: #cfdaea;\n",
              "  color: #000000;\n",
              "}\n",
              "#T_49897_row5_col9, #T_49897_row5_col11 {\n",
              "  background-color: #8badfd;\n",
              "  color: #000000;\n",
              "}\n",
              "#T_49897_row5_col10 {\n",
              "  background-color: #9ebeff;\n",
              "  color: #000000;\n",
              "}\n",
              "#T_49897_row6_col1 {\n",
              "  background-color: #c1d4f4;\n",
              "  color: #000000;\n",
              "}\n",
              "#T_49897_row6_col3 {\n",
              "  background-color: #96b7ff;\n",
              "  color: #000000;\n",
              "}\n",
              "#T_49897_row6_col5 {\n",
              "  background-color: #f7a98b;\n",
              "  color: #000000;\n",
              "}\n",
              "#T_49897_row6_col7 {\n",
              "  background-color: #b5cdfa;\n",
              "  color: #000000;\n",
              "}\n",
              "#T_49897_row6_col8 {\n",
              "  background-color: #b7cff9;\n",
              "  color: #000000;\n",
              "}\n",
              "#T_49897_row6_col9 {\n",
              "  background-color: #88abfd;\n",
              "  color: #000000;\n",
              "}\n",
              "#T_49897_row6_col10, #T_49897_row8_col5 {\n",
              "  background-color: #7da0f9;\n",
              "  color: #f1f1f1;\n",
              "}\n",
              "#T_49897_row6_col11, #T_49897_row10_col3 {\n",
              "  background-color: #6c8ff1;\n",
              "  color: #f1f1f1;\n",
              "}\n",
              "#T_49897_row7_col0 {\n",
              "  background-color: #ec7f63;\n",
              "  color: #f1f1f1;\n",
              "}\n",
              "#T_49897_row7_col1, #T_49897_row10_col0 {\n",
              "  background-color: #b3cdfb;\n",
              "  color: #000000;\n",
              "}\n",
              "#T_49897_row7_col2 {\n",
              "  background-color: #f1ccb8;\n",
              "  color: #000000;\n",
              "}\n",
              "#T_49897_row7_col3 {\n",
              "  background-color: #cdd9ec;\n",
              "  color: #000000;\n",
              "}\n",
              "#T_49897_row7_col4 {\n",
              "  background-color: #bad0f8;\n",
              "  color: #000000;\n",
              "}\n",
              "#T_49897_row7_col5, #T_49897_row8_col7 {\n",
              "  background-color: #5875e1;\n",
              "  color: #f1f1f1;\n",
              "}\n",
              "#T_49897_row7_col9 {\n",
              "  background-color: #a9c6fd;\n",
              "  color: #000000;\n",
              "}\n",
              "#T_49897_row7_col11 {\n",
              "  background-color: #6f92f3;\n",
              "  color: #f1f1f1;\n",
              "}\n",
              "#T_49897_row8_col1 {\n",
              "  background-color: #dbdcde;\n",
              "  color: #000000;\n",
              "}\n",
              "#T_49897_row8_col6 {\n",
              "  background-color: #5b7ae5;\n",
              "  color: #f1f1f1;\n",
              "}\n",
              "#T_49897_row8_col9 {\n",
              "  background-color: #506bda;\n",
              "  color: #f1f1f1;\n",
              "}\n",
              "#T_49897_row8_col10 {\n",
              "  background-color: #d8dce2;\n",
              "  color: #000000;\n",
              "}\n",
              "#T_49897_row9_col1 {\n",
              "  background-color: #7295f4;\n",
              "  color: #f1f1f1;\n",
              "}\n",
              "#T_49897_row9_col2 {\n",
              "  background-color: #edd2c3;\n",
              "  color: #000000;\n",
              "}\n",
              "#T_49897_row9_col3, #T_49897_row11_col4 {\n",
              "  background-color: #5f7fe8;\n",
              "  color: #f1f1f1;\n",
              "}\n",
              "#T_49897_row9_col6 {\n",
              "  background-color: #7597f6;\n",
              "  color: #f1f1f1;\n",
              "}\n",
              "#T_49897_row9_col7 {\n",
              "  background-color: #c9d7f0;\n",
              "  color: #000000;\n",
              "}\n",
              "#T_49897_row9_col10 {\n",
              "  background-color: #bed2f6;\n",
              "  color: #000000;\n",
              "}\n",
              "#T_49897_row10_col1 {\n",
              "  background-color: #82a6fb;\n",
              "  color: #f1f1f1;\n",
              "}\n",
              "#T_49897_row10_col2 {\n",
              "  background-color: #c7d7f0;\n",
              "  color: #000000;\n",
              "}\n",
              "#T_49897_row10_col4 {\n",
              "  background-color: #455cce;\n",
              "  color: #f1f1f1;\n",
              "}\n",
              "#T_49897_row10_col8 {\n",
              "  background-color: #e7d7ce;\n",
              "  color: #000000;\n",
              "}\n",
              "#T_49897_row10_col9 {\n",
              "  background-color: #9bbcff;\n",
              "  color: #000000;\n",
              "}\n",
              "#T_49897_row10_col11 {\n",
              "  background-color: #f5c1a9;\n",
              "  color: #000000;\n",
              "}\n",
              "#T_49897_row11_col0 {\n",
              "  background-color: #d7dce3;\n",
              "  color: #000000;\n",
              "}\n",
              "#T_49897_row11_col1, #T_49897_row11_col5 {\n",
              "  background-color: #5572df;\n",
              "  color: #f1f1f1;\n",
              "}\n",
              "#T_49897_row11_col3 {\n",
              "  background-color: #6180e9;\n",
              "  color: #f1f1f1;\n",
              "}\n",
              "#T_49897_row11_col6 {\n",
              "  background-color: #3c4ec2;\n",
              "  color: #f1f1f1;\n",
              "}\n",
              "#T_49897_row11_col7 {\n",
              "  background-color: #80a3fa;\n",
              "  color: #f1f1f1;\n",
              "}\n",
              "#T_49897_row11_col9 {\n",
              "  background-color: #c6d6f1;\n",
              "  color: #000000;\n",
              "}\n",
              "#T_49897_row11_col10 {\n",
              "  background-color: #f7bca1;\n",
              "  color: #000000;\n",
              "}\n",
              "</style>\n",
              "<table id=\"T_49897_\" class=\"dataframe\">\n",
              "  <thead>\n",
              "    <tr>\n",
              "      <th class=\"blank level0\" >&nbsp;</th>\n",
              "      <th class=\"col_heading level0 col0\" >fixed acidity</th>\n",
              "      <th class=\"col_heading level0 col1\" >volatile acidity</th>\n",
              "      <th class=\"col_heading level0 col2\" >citric acid</th>\n",
              "      <th class=\"col_heading level0 col3\" >residual sugar</th>\n",
              "      <th class=\"col_heading level0 col4\" >chlorides</th>\n",
              "      <th class=\"col_heading level0 col5\" >free sulfur dioxide</th>\n",
              "      <th class=\"col_heading level0 col6\" >total sulfur dioxide</th>\n",
              "      <th class=\"col_heading level0 col7\" >density</th>\n",
              "      <th class=\"col_heading level0 col8\" >pH</th>\n",
              "      <th class=\"col_heading level0 col9\" >sulphates</th>\n",
              "      <th class=\"col_heading level0 col10\" >alcohol</th>\n",
              "      <th class=\"col_heading level0 col11\" >quality</th>\n",
              "    </tr>\n",
              "  </thead>\n",
              "  <tbody>\n",
              "    <tr>\n",
              "      <th id=\"T_49897_level0_row0\" class=\"row_heading level0 row0\" >fixed acidity</th>\n",
              "      <td id=\"T_49897_row0_col0\" class=\"data row0 col0\" >1.000000</td>\n",
              "      <td id=\"T_49897_row0_col1\" class=\"data row0 col1\" >-0.250728</td>\n",
              "      <td id=\"T_49897_row0_col2\" class=\"data row0 col2\" >0.673157</td>\n",
              "      <td id=\"T_49897_row0_col3\" class=\"data row0 col3\" >0.171831</td>\n",
              "      <td id=\"T_49897_row0_col4\" class=\"data row0 col4\" >0.107889</td>\n",
              "      <td id=\"T_49897_row0_col5\" class=\"data row0 col5\" >-0.164831</td>\n",
              "      <td id=\"T_49897_row0_col6\" class=\"data row0 col6\" >-0.110628</td>\n",
              "      <td id=\"T_49897_row0_col7\" class=\"data row0 col7\" >0.681501</td>\n",
              "      <td id=\"T_49897_row0_col8\" class=\"data row0 col8\" >-0.685163</td>\n",
              "      <td id=\"T_49897_row0_col9\" class=\"data row0 col9\" >0.174592</td>\n",
              "      <td id=\"T_49897_row0_col10\" class=\"data row0 col10\" >-0.075055</td>\n",
              "      <td id=\"T_49897_row0_col11\" class=\"data row0 col11\" >0.121970</td>\n",
              "    </tr>\n",
              "    <tr>\n",
              "      <th id=\"T_49897_level0_row1\" class=\"row_heading level0 row1\" >volatile acidity</th>\n",
              "      <td id=\"T_49897_row1_col0\" class=\"data row1 col0\" >-0.250728</td>\n",
              "      <td id=\"T_49897_row1_col1\" class=\"data row1 col1\" >1.000000</td>\n",
              "      <td id=\"T_49897_row1_col2\" class=\"data row1 col2\" >-0.544187</td>\n",
              "      <td id=\"T_49897_row1_col3\" class=\"data row1 col3\" >-0.005751</td>\n",
              "      <td id=\"T_49897_row1_col4\" class=\"data row1 col4\" >0.056336</td>\n",
              "      <td id=\"T_49897_row1_col5\" class=\"data row1 col5\" >-0.001962</td>\n",
              "      <td id=\"T_49897_row1_col6\" class=\"data row1 col6\" >0.077748</td>\n",
              "      <td id=\"T_49897_row1_col7\" class=\"data row1 col7\" >0.016512</td>\n",
              "      <td id=\"T_49897_row1_col8\" class=\"data row1 col8\" >0.221492</td>\n",
              "      <td id=\"T_49897_row1_col9\" class=\"data row1 col9\" >-0.276079</td>\n",
              "      <td id=\"T_49897_row1_col10\" class=\"data row1 col10\" >-0.203909</td>\n",
              "      <td id=\"T_49897_row1_col11\" class=\"data row1 col11\" >-0.407394</td>\n",
              "    </tr>\n",
              "    <tr>\n",
              "      <th id=\"T_49897_level0_row2\" class=\"row_heading level0 row2\" >citric acid</th>\n",
              "      <td id=\"T_49897_row2_col0\" class=\"data row2 col0\" >0.673157</td>\n",
              "      <td id=\"T_49897_row2_col1\" class=\"data row2 col1\" >-0.544187</td>\n",
              "      <td id=\"T_49897_row2_col2\" class=\"data row2 col2\" >1.000000</td>\n",
              "      <td id=\"T_49897_row2_col3\" class=\"data row2 col3\" >0.175815</td>\n",
              "      <td id=\"T_49897_row2_col4\" class=\"data row2 col4\" >0.245312</td>\n",
              "      <td id=\"T_49897_row2_col5\" class=\"data row2 col5\" >-0.057589</td>\n",
              "      <td id=\"T_49897_row2_col6\" class=\"data row2 col6\" >0.036871</td>\n",
              "      <td id=\"T_49897_row2_col7\" class=\"data row2 col7\" >0.375243</td>\n",
              "      <td id=\"T_49897_row2_col8\" class=\"data row2 col8\" >-0.546339</td>\n",
              "      <td id=\"T_49897_row2_col9\" class=\"data row2 col9\" >0.331232</td>\n",
              "      <td id=\"T_49897_row2_col10\" class=\"data row2 col10\" >0.106250</td>\n",
              "      <td id=\"T_49897_row2_col11\" class=\"data row2 col11\" >0.240821</td>\n",
              "    </tr>\n",
              "    <tr>\n",
              "      <th id=\"T_49897_level0_row3\" class=\"row_heading level0 row3\" >residual sugar</th>\n",
              "      <td id=\"T_49897_row3_col0\" class=\"data row3 col0\" >0.171831</td>\n",
              "      <td id=\"T_49897_row3_col1\" class=\"data row3 col1\" >-0.005751</td>\n",
              "      <td id=\"T_49897_row3_col2\" class=\"data row3 col2\" >0.175815</td>\n",
              "      <td id=\"T_49897_row3_col3\" class=\"data row3 col3\" >1.000000</td>\n",
              "      <td id=\"T_49897_row3_col4\" class=\"data row3 col4\" >0.070863</td>\n",
              "      <td id=\"T_49897_row3_col5\" class=\"data row3 col5\" >0.165339</td>\n",
              "      <td id=\"T_49897_row3_col6\" class=\"data row3 col6\" >0.190790</td>\n",
              "      <td id=\"T_49897_row3_col7\" class=\"data row3 col7\" >0.380147</td>\n",
              "      <td id=\"T_49897_row3_col8\" class=\"data row3 col8\" >-0.116959</td>\n",
              "      <td id=\"T_49897_row3_col9\" class=\"data row3 col9\" >0.017475</td>\n",
              "      <td id=\"T_49897_row3_col10\" class=\"data row3 col10\" >0.058421</td>\n",
              "      <td id=\"T_49897_row3_col11\" class=\"data row3 col11\" >0.022002</td>\n",
              "    </tr>\n",
              "    <tr>\n",
              "      <th id=\"T_49897_level0_row4\" class=\"row_heading level0 row4\" >chlorides</th>\n",
              "      <td id=\"T_49897_row4_col0\" class=\"data row4 col0\" >0.107889</td>\n",
              "      <td id=\"T_49897_row4_col1\" class=\"data row4 col1\" >0.056336</td>\n",
              "      <td id=\"T_49897_row4_col2\" class=\"data row4 col2\" >0.245312</td>\n",
              "      <td id=\"T_49897_row4_col3\" class=\"data row4 col3\" >0.070863</td>\n",
              "      <td id=\"T_49897_row4_col4\" class=\"data row4 col4\" >1.000000</td>\n",
              "      <td id=\"T_49897_row4_col5\" class=\"data row4 col5\" >0.015280</td>\n",
              "      <td id=\"T_49897_row4_col6\" class=\"data row4 col6\" >0.048163</td>\n",
              "      <td id=\"T_49897_row4_col7\" class=\"data row4 col7\" >0.208901</td>\n",
              "      <td id=\"T_49897_row4_col8\" class=\"data row4 col8\" >-0.277759</td>\n",
              "      <td id=\"T_49897_row4_col9\" class=\"data row4 col9\" >0.374784</td>\n",
              "      <td id=\"T_49897_row4_col10\" class=\"data row4 col10\" >-0.229917</td>\n",
              "      <td id=\"T_49897_row4_col11\" class=\"data row4 col11\" >-0.124085</td>\n",
              "    </tr>\n",
              "    <tr>\n",
              "      <th id=\"T_49897_level0_row5\" class=\"row_heading level0 row5\" >free sulfur dioxide</th>\n",
              "      <td id=\"T_49897_row5_col0\" class=\"data row5 col0\" >-0.164831</td>\n",
              "      <td id=\"T_49897_row5_col1\" class=\"data row5 col1\" >-0.001962</td>\n",
              "      <td id=\"T_49897_row5_col2\" class=\"data row5 col2\" >-0.057589</td>\n",
              "      <td id=\"T_49897_row5_col3\" class=\"data row5 col3\" >0.165339</td>\n",
              "      <td id=\"T_49897_row5_col4\" class=\"data row5 col4\" >0.015280</td>\n",
              "      <td id=\"T_49897_row5_col5\" class=\"data row5 col5\" >1.000000</td>\n",
              "      <td id=\"T_49897_row5_col6\" class=\"data row5 col6\" >0.661093</td>\n",
              "      <td id=\"T_49897_row5_col7\" class=\"data row5 col7\" >-0.054150</td>\n",
              "      <td id=\"T_49897_row5_col8\" class=\"data row5 col8\" >0.072804</td>\n",
              "      <td id=\"T_49897_row5_col9\" class=\"data row5 col9\" >0.034445</td>\n",
              "      <td id=\"T_49897_row5_col10\" class=\"data row5 col10\" >-0.047095</td>\n",
              "      <td id=\"T_49897_row5_col11\" class=\"data row5 col11\" >-0.063260</td>\n",
              "    </tr>\n",
              "    <tr>\n",
              "      <th id=\"T_49897_level0_row6\" class=\"row_heading level0 row6\" >total sulfur dioxide</th>\n",
              "      <td id=\"T_49897_row6_col0\" class=\"data row6 col0\" >-0.110628</td>\n",
              "      <td id=\"T_49897_row6_col1\" class=\"data row6 col1\" >0.077748</td>\n",
              "      <td id=\"T_49897_row6_col2\" class=\"data row6 col2\" >0.036871</td>\n",
              "      <td id=\"T_49897_row6_col3\" class=\"data row6 col3\" >0.190790</td>\n",
              "      <td id=\"T_49897_row6_col4\" class=\"data row6 col4\" >0.048163</td>\n",
              "      <td id=\"T_49897_row6_col5\" class=\"data row6 col5\" >0.661093</td>\n",
              "      <td id=\"T_49897_row6_col6\" class=\"data row6 col6\" >1.000000</td>\n",
              "      <td id=\"T_49897_row6_col7\" class=\"data row6 col7\" >0.050175</td>\n",
              "      <td id=\"T_49897_row6_col8\" class=\"data row6 col8\" >-0.059126</td>\n",
              "      <td id=\"T_49897_row6_col9\" class=\"data row6 col9\" >0.026894</td>\n",
              "      <td id=\"T_49897_row6_col10\" class=\"data row6 col10\" >-0.188165</td>\n",
              "      <td id=\"T_49897_row6_col11\" class=\"data row6 col11\" >-0.183339</td>\n",
              "    </tr>\n",
              "    <tr>\n",
              "      <th id=\"T_49897_level0_row7\" class=\"row_heading level0 row7\" >density</th>\n",
              "      <td id=\"T_49897_row7_col0\" class=\"data row7 col0\" >0.681501</td>\n",
              "      <td id=\"T_49897_row7_col1\" class=\"data row7 col1\" >0.016512</td>\n",
              "      <td id=\"T_49897_row7_col2\" class=\"data row7 col2\" >0.375243</td>\n",
              "      <td id=\"T_49897_row7_col3\" class=\"data row7 col3\" >0.380147</td>\n",
              "      <td id=\"T_49897_row7_col4\" class=\"data row7 col4\" >0.208901</td>\n",
              "      <td id=\"T_49897_row7_col5\" class=\"data row7 col5\" >-0.054150</td>\n",
              "      <td id=\"T_49897_row7_col6\" class=\"data row7 col6\" >0.050175</td>\n",
              "      <td id=\"T_49897_row7_col7\" class=\"data row7 col7\" >1.000000</td>\n",
              "      <td id=\"T_49897_row7_col8\" class=\"data row7 col8\" >-0.352775</td>\n",
              "      <td id=\"T_49897_row7_col9\" class=\"data row7 col9\" >0.143139</td>\n",
              "      <td id=\"T_49897_row7_col10\" class=\"data row7 col10\" >-0.494727</td>\n",
              "      <td id=\"T_49897_row7_col11\" class=\"data row7 col11\" >-0.175208</td>\n",
              "    </tr>\n",
              "    <tr>\n",
              "      <th id=\"T_49897_level0_row8\" class=\"row_heading level0 row8\" >pH</th>\n",
              "      <td id=\"T_49897_row8_col0\" class=\"data row8 col0\" >-0.685163</td>\n",
              "      <td id=\"T_49897_row8_col1\" class=\"data row8 col1\" >0.221492</td>\n",
              "      <td id=\"T_49897_row8_col2\" class=\"data row8 col2\" >-0.546339</td>\n",
              "      <td id=\"T_49897_row8_col3\" class=\"data row8 col3\" >-0.116959</td>\n",
              "      <td id=\"T_49897_row8_col4\" class=\"data row8 col4\" >-0.277759</td>\n",
              "      <td id=\"T_49897_row8_col5\" class=\"data row8 col5\" >0.072804</td>\n",
              "      <td id=\"T_49897_row8_col6\" class=\"data row8 col6\" >-0.059126</td>\n",
              "      <td id=\"T_49897_row8_col7\" class=\"data row8 col7\" >-0.352775</td>\n",
              "      <td id=\"T_49897_row8_col8\" class=\"data row8 col8\" >1.000000</td>\n",
              "      <td id=\"T_49897_row8_col9\" class=\"data row8 col9\" >-0.185499</td>\n",
              "      <td id=\"T_49897_row8_col10\" class=\"data row8 col10\" >0.225322</td>\n",
              "      <td id=\"T_49897_row8_col11\" class=\"data row8 col11\" >-0.052453</td>\n",
              "    </tr>\n",
              "    <tr>\n",
              "      <th id=\"T_49897_level0_row9\" class=\"row_heading level0 row9\" >sulphates</th>\n",
              "      <td id=\"T_49897_row9_col0\" class=\"data row9 col0\" >0.174592</td>\n",
              "      <td id=\"T_49897_row9_col1\" class=\"data row9 col1\" >-0.276079</td>\n",
              "      <td id=\"T_49897_row9_col2\" class=\"data row9 col2\" >0.331232</td>\n",
              "      <td id=\"T_49897_row9_col3\" class=\"data row9 col3\" >0.017475</td>\n",
              "      <td id=\"T_49897_row9_col4\" class=\"data row9 col4\" >0.374784</td>\n",
              "      <td id=\"T_49897_row9_col5\" class=\"data row9 col5\" >0.034445</td>\n",
              "      <td id=\"T_49897_row9_col6\" class=\"data row9 col6\" >0.026894</td>\n",
              "      <td id=\"T_49897_row9_col7\" class=\"data row9 col7\" >0.143139</td>\n",
              "      <td id=\"T_49897_row9_col8\" class=\"data row9 col8\" >-0.185499</td>\n",
              "      <td id=\"T_49897_row9_col9\" class=\"data row9 col9\" >1.000000</td>\n",
              "      <td id=\"T_49897_row9_col10\" class=\"data row9 col10\" >0.094421</td>\n",
              "      <td id=\"T_49897_row9_col11\" class=\"data row9 col11\" >0.257710</td>\n",
              "    </tr>\n",
              "    <tr>\n",
              "      <th id=\"T_49897_level0_row10\" class=\"row_heading level0 row10\" >alcohol</th>\n",
              "      <td id=\"T_49897_row10_col0\" class=\"data row10 col0\" >-0.075055</td>\n",
              "      <td id=\"T_49897_row10_col1\" class=\"data row10 col1\" >-0.203909</td>\n",
              "      <td id=\"T_49897_row10_col2\" class=\"data row10 col2\" >0.106250</td>\n",
              "      <td id=\"T_49897_row10_col3\" class=\"data row10 col3\" >0.058421</td>\n",
              "      <td id=\"T_49897_row10_col4\" class=\"data row10 col4\" >-0.229917</td>\n",
              "      <td id=\"T_49897_row10_col5\" class=\"data row10 col5\" >-0.047095</td>\n",
              "      <td id=\"T_49897_row10_col6\" class=\"data row10 col6\" >-0.188165</td>\n",
              "      <td id=\"T_49897_row10_col7\" class=\"data row10 col7\" >-0.494727</td>\n",
              "      <td id=\"T_49897_row10_col8\" class=\"data row10 col8\" >0.225322</td>\n",
              "      <td id=\"T_49897_row10_col9\" class=\"data row10 col9\" >0.094421</td>\n",
              "      <td id=\"T_49897_row10_col10\" class=\"data row10 col10\" >1.000000</td>\n",
              "      <td id=\"T_49897_row10_col11\" class=\"data row10 col11\" >0.484866</td>\n",
              "    </tr>\n",
              "    <tr>\n",
              "      <th id=\"T_49897_level0_row11\" class=\"row_heading level0 row11\" >quality</th>\n",
              "      <td id=\"T_49897_row11_col0\" class=\"data row11 col0\" >0.121970</td>\n",
              "      <td id=\"T_49897_row11_col1\" class=\"data row11 col1\" >-0.407394</td>\n",
              "      <td id=\"T_49897_row11_col2\" class=\"data row11 col2\" >0.240821</td>\n",
              "      <td id=\"T_49897_row11_col3\" class=\"data row11 col3\" >0.022002</td>\n",
              "      <td id=\"T_49897_row11_col4\" class=\"data row11 col4\" >-0.124085</td>\n",
              "      <td id=\"T_49897_row11_col5\" class=\"data row11 col5\" >-0.063260</td>\n",
              "      <td id=\"T_49897_row11_col6\" class=\"data row11 col6\" >-0.183339</td>\n",
              "      <td id=\"T_49897_row11_col7\" class=\"data row11 col7\" >-0.175208</td>\n",
              "      <td id=\"T_49897_row11_col8\" class=\"data row11 col8\" >-0.052453</td>\n",
              "      <td id=\"T_49897_row11_col9\" class=\"data row11 col9\" >0.257710</td>\n",
              "      <td id=\"T_49897_row11_col10\" class=\"data row11 col10\" >0.484866</td>\n",
              "      <td id=\"T_49897_row11_col11\" class=\"data row11 col11\" >1.000000</td>\n",
              "    </tr>\n",
              "  </tbody>\n",
              "</table>\n"
            ]
          },
          "metadata": {},
          "execution_count": 48
        }
      ]
    },
    {
      "cell_type": "markdown",
      "source": [
        "Dalla tabella si possono notare alcune dipenze tra la variabili di input, che verranno gestite in seguito attraverso regolarizzazione.\n",
        "Possiamo notare anche con l'aggiunta di features polinomiali che in generale ad alte concentrazioni di alcohol e densità corrisponde un valore maggiore di qualità."
      ],
      "metadata": {
        "id": "7uj9Myd2shoH"
      }
    },
    {
      "cell_type": "code",
      "source": [
        "from pandas.core.frame import DataFrame\n",
        "from sklearn.preprocessing import PolynomialFeatures\n",
        "p = PolynomialFeatures(degree=2,include_bias=False)\n",
        "d2data = p.fit_transform(data)\n",
        "d2frame = DataFrame(d2data,index=data.index,columns=p.get_feature_names_out(data.columns))\n",
        "d2frame.corr()[\"quality\"].sort_values(ascending=False)[7:15]\n"
      ],
      "metadata": {
        "colab": {
          "base_uri": "https://localhost:8080/"
        },
        "id": "5r7oGcx8otZN",
        "outputId": "73db852b-b42e-468a-c57e-2ba8072b6cc9"
      },
      "execution_count": 49,
      "outputs": [
        {
          "output_type": "execute_result",
          "data": {
            "text/plain": [
              "density alcohol          0.486064\n",
              "alcohol                  0.484866\n",
              "alcohol^2                0.479769\n",
              "citric acid quality      0.422371\n",
              "sulphates alcohol        0.421844\n",
              "pH alcohol               0.382603\n",
              "fixed acidity alcohol    0.320437\n",
              "citric acid alcohol      0.309092\n",
              "Name: quality, dtype: float64"
            ]
          },
          "metadata": {},
          "execution_count": 49
        }
      ]
    },
    {
      "cell_type": "code",
      "source": [
        "plt.figure(figsize=(8,6))\n",
        "a=plt.scatter(data[\"volatile acidity\"],data[\"alcohol\"],c=data[\"quality\"])\n",
        "plt.colorbar(a)"
      ],
      "metadata": {
        "colab": {
          "base_uri": "https://localhost:8080/",
          "height": 395
        },
        "id": "nEroj0gY5r8O",
        "outputId": "3068a498-cc26-410e-cae6-b5123a822c5a"
      },
      "execution_count": 50,
      "outputs": [
        {
          "output_type": "execute_result",
          "data": {
            "text/plain": [
              "<matplotlib.colorbar.Colorbar at 0x7f26d4dbb3d0>"
            ]
          },
          "metadata": {},
          "execution_count": 50
        },
        {
          "output_type": "display_data",
          "data": {
            "text/plain": [
              "<Figure size 576x432 with 2 Axes>"
            ],
            "image/png": "[encoded data removed]"
          },
          "metadata": {
            "needs_background": "light"
          }
        }
      ]
    },
    {
      "cell_type": "markdown",
      "source": [
        "Puliamo la tabella dai valori non interessanti e ordianiamo i valori linearmente correlati con la features quality:"
      ],
      "metadata": {
        "id": "E_QhcZtnpcpD"
      }
    },
    {
      "cell_type": "code",
      "source": [
        "data.corr()[\"quality\"].drop(labels=\"quality\").abs().sort_values(ascending=False)"
      ],
      "metadata": {
        "id": "ntnTPeE_oi3M",
        "outputId": "e76c6df9-8941-4885-9d96-29fe58c72d43",
        "colab": {
          "base_uri": "https://localhost:8080/"
        }
      },
      "execution_count": 51,
      "outputs": [
        {
          "output_type": "execute_result",
          "data": {
            "text/plain": [
              "alcohol                 0.484866\n",
              "volatile acidity        0.407394\n",
              "sulphates               0.257710\n",
              "citric acid             0.240821\n",
              "total sulfur dioxide    0.183339\n",
              "density                 0.175208\n",
              "chlorides               0.124085\n",
              "fixed acidity           0.121970\n",
              "free sulfur dioxide     0.063260\n",
              "pH                      0.052453\n",
              "residual sugar          0.022002\n",
              "Name: quality, dtype: float64"
            ]
          },
          "metadata": {},
          "execution_count": 51
        }
      ]
    },
    {
      "cell_type": "markdown",
      "source": [
        "Possiamo notare che le prime quattro features che compaiono sono alcohol, volatile acidity, sulphates, citric acid. Questo significa che queste features sono quelle con un riscontro più rilavanti sulla qualità del vino.                     "
      ],
      "metadata": {
        "id": "4wO5WAaCqQ4F"
      }
    },
    {
      "cell_type": "code",
      "source": [
        "figure, axes = plt.subplots(1, 2)\n",
        "axes[0].plot(data.groupby(\"quality\")[\"alcohol\"].mean().index,data.groupby(\"quality\")[\"alcohol\"].mean())\n",
        "data.boxplot(column=\"alcohol\", by =\"quality\",showmeans=True,ax=axes[1])\n"
      ],
      "metadata": {
        "id": "CZnYjWeQxEgh",
        "outputId": "f9465f69-b059-4570-c788-a051e412d24e",
        "colab": {
          "base_uri": "https://localhost:8080/",
          "height": 373
        }
      },
      "execution_count": 52,
      "outputs": [
        {
          "output_type": "stream",
          "name": "stderr",
          "text": [
            "/usr/local/lib/python3.7/dist-packages/matplotlib/cbook/__init__.py:1376: VisibleDeprecationWarning: Creating an ndarray from ragged nested sequences (which is a list-or-tuple of lists-or-tuples-or ndarrays with different lengths or shapes) is deprecated. If you meant to do this, you must specify 'dtype=object' when creating the ndarray.\n",
            "  X = np.atleast_1d(X.T if isinstance(X, np.ndarray) else np.asarray(X))\n"
          ]
        },
        {
          "output_type": "execute_result",
          "data": {
            "text/plain": [
              "<matplotlib.axes._subplots.AxesSubplot at 0x7f26d4cd4a90>"
            ]
          },
          "metadata": {},
          "execution_count": 52
        },
        {
          "output_type": "display_data",
          "data": {
            "text/plain": [
              "<Figure size 432x288 with 2 Axes>"
            ],
            "image/png": "[encoded data removed]"
          },
          "metadata": {
            "needs_background": "light"
          }
        }
      ]
    },
    {
      "cell_type": "markdown",
      "source": [
        "La correlazine tra alcohol e qualità è direttamnete proporzionale.L'indice di correllazione infatti è:\n"
      ],
      "metadata": {
        "id": "3cR-f20Y3fJz"
      }
    },
    {
      "cell_type": "code",
      "source": [
        "data.corr().loc[\"quality\",\"alcohol\"]"
      ],
      "metadata": {
        "colab": {
          "base_uri": "https://localhost:8080/"
        },
        "id": "STx9o6W-3t1y",
        "outputId": "ad75b0a7-5c9e-4fc9-f8c5-b80627ec3de9"
      },
      "execution_count": 53,
      "outputs": [
        {
          "output_type": "execute_result",
          "data": {
            "text/plain": [
              "0.48486621180851264"
            ]
          },
          "metadata": {},
          "execution_count": 53
        }
      ]
    },
    {
      "cell_type": "code",
      "source": [
        "plt.plot(data.groupby(\"quality\")[\"volatile acidity\"].mean().index,data.groupby(\"quality\")[\"volatile acidity\"].mean())\n",
        "data.boxplot(column=\"volatile acidity\", by =\"quality\",showmeans=True,figsize=(10,7))"
      ],
      "metadata": {
        "id": "aeKJkiaYvdJE",
        "outputId": "f57f425b-8a46-4811-ea92-f89d55883d97",
        "colab": {
          "base_uri": "https://localhost:8080/",
          "height": 800
        }
      },
      "execution_count": 54,
      "outputs": [
        {
          "output_type": "stream",
          "name": "stderr",
          "text": [
            "/usr/local/lib/python3.7/dist-packages/matplotlib/cbook/__init__.py:1376: VisibleDeprecationWarning: Creating an ndarray from ragged nested sequences (which is a list-or-tuple of lists-or-tuples-or ndarrays with different lengths or shapes) is deprecated. If you meant to do this, you must specify 'dtype=object' when creating the ndarray.\n",
            "  X = np.atleast_1d(X.T if isinstance(X, np.ndarray) else np.asarray(X))\n"
          ]
        },
        {
          "output_type": "execute_result",
          "data": {
            "text/plain": [
              "<matplotlib.axes._subplots.AxesSubplot at 0x7f26e4dd5990>"
            ]
          },
          "metadata": {},
          "execution_count": 54
        },
        {
          "output_type": "display_data",
          "data": {
            "text/plain": [
              "<Figure size 432x288 with 1 Axes>"
            ],
            "image/png": "[encoded data removed]"
          },
          "metadata": {
            "needs_background": "light"
          }
        },
        {
          "output_type": "display_data",
          "data": {
            "text/plain": [
              "<Figure size 720x504 with 1 Axes>"
            ],
            "image/png": "[encoded data removed]"
          },
          "metadata": {
            "needs_background": "light"
          }
        }
      ]
    },
    {
      "cell_type": "markdown",
      "source": [
        "La correlazine tra volatile acidity e qualità è inversamente proporzionale.L'indice di correllazione infatti è:"
      ],
      "metadata": {
        "id": "5pEo4U9L4WAS"
      }
    },
    {
      "cell_type": "code",
      "source": [
        "data.corr().loc[\"quality\",\"volatile acidity\"]"
      ],
      "metadata": {
        "id": "gsAP-B9E4gP_",
        "colab": {
          "base_uri": "https://localhost:8080/"
        },
        "outputId": "ae21c9a9-2e8a-46d7-cecb-a6d2a97a69e5"
      },
      "execution_count": 55,
      "outputs": [
        {
          "output_type": "execute_result",
          "data": {
            "text/plain": [
              "-0.40739351292438425"
            ]
          },
          "metadata": {},
          "execution_count": 55
        }
      ]
    },
    {
      "cell_type": "code",
      "source": [
        "plt.plot(data.groupby(\"quality\")[\"sulphates\"].mean().index,data.groupby(\"quality\")[\"sulphates\"].mean())\n",
        "data.boxplot(column=\"sulphates\", by =\"quality\",showmeans=True,figsize=(10,7))"
      ],
      "metadata": {
        "id": "A2_Zx91VwHql",
        "outputId": "f4bb58f2-45dc-475a-eb91-e97f7e780961",
        "colab": {
          "base_uri": "https://localhost:8080/",
          "height": 800
        }
      },
      "execution_count": 56,
      "outputs": [
        {
          "output_type": "stream",
          "name": "stderr",
          "text": [
            "/usr/local/lib/python3.7/dist-packages/matplotlib/cbook/__init__.py:1376: VisibleDeprecationWarning: Creating an ndarray from ragged nested sequences (which is a list-or-tuple of lists-or-tuples-or ndarrays with different lengths or shapes) is deprecated. If you meant to do this, you must specify 'dtype=object' when creating the ndarray.\n",
            "  X = np.atleast_1d(X.T if isinstance(X, np.ndarray) else np.asarray(X))\n"
          ]
        },
        {
          "output_type": "execute_result",
          "data": {
            "text/plain": [
              "<matplotlib.axes._subplots.AxesSubplot at 0x7f26e50a1310>"
            ]
          },
          "metadata": {},
          "execution_count": 56
        },
        {
          "output_type": "display_data",
          "data": {
            "text/plain": [
              "<Figure size 432x288 with 1 Axes>"
            ],
            "image/png": "[encoded data removed]"
          },
          "metadata": {
            "needs_background": "light"
          }
        },
        {
          "output_type": "display_data",
          "data": {
            "text/plain": [
              "<Figure size 720x504 with 1 Axes>"
            ],
            "image/png": "[encoded data removed]"
          },
          "metadata": {
            "needs_background": "light"
          }
        }
      ]
    },
    {
      "cell_type": "markdown",
      "source": [
        "La correlazine tra sulphates e qualità è direttamente proporzionale.L'indice di correllazione infatti è:\n",
        "\n"
      ],
      "metadata": {
        "id": "Jz0jCV5O4lKp"
      }
    },
    {
      "cell_type": "code",
      "source": [
        "data.corr().loc[\"quality\",\"sulphates\"]"
      ],
      "metadata": {
        "id": "gZZK1iv34woc",
        "outputId": "c2f190f3-2ba1-4e5b-efb7-c8233667480b",
        "colab": {
          "base_uri": "https://localhost:8080/"
        }
      },
      "execution_count": 57,
      "outputs": [
        {
          "output_type": "execute_result",
          "data": {
            "text/plain": [
              "0.2577102599306222"
            ]
          },
          "metadata": {},
          "execution_count": 57
        }
      ]
    },
    {
      "cell_type": "code",
      "source": [
        "plt.plot(data.groupby(\"quality\")[\"citric acid\"].mean().index,data.groupby(\"quality\")[\"citric acid\"].mean())\n",
        "data.boxplot(column=\"citric acid\", by =\"quality\",patch_artist =True,showmeans=True,figsize=(10,7))"
      ],
      "metadata": {
        "id": "jEaMwaPOowp0",
        "outputId": "ccb228cb-e8f0-4d99-f185-dfd9a3c3bb6f",
        "colab": {
          "base_uri": "https://localhost:8080/",
          "height": 800
        }
      },
      "execution_count": 95,
      "outputs": [
        {
          "output_type": "stream",
          "name": "stderr",
          "text": [
            "/usr/local/lib/python3.7/dist-packages/matplotlib/cbook/__init__.py:1376: VisibleDeprecationWarning: Creating an ndarray from ragged nested sequences (which is a list-or-tuple of lists-or-tuples-or ndarrays with different lengths or shapes) is deprecated. If you meant to do this, you must specify 'dtype=object' when creating the ndarray.\n",
            "  X = np.atleast_1d(X.T if isinstance(X, np.ndarray) else np.asarray(X))\n"
          ]
        },
        {
          "output_type": "execute_result",
          "data": {
            "text/plain": [
              "<matplotlib.axes._subplots.AxesSubplot at 0x7f26c4b2ba10>"
            ]
          },
          "metadata": {},
          "execution_count": 95
        },
        {
          "output_type": "display_data",
          "data": {
            "text/plain": [
              "<Figure size 432x288 with 1 Axes>"
            ],
            "image/png": "[encoded data removed]"
          },
          "metadata": {
            "needs_background": "light"
          }
        },
        {
          "output_type": "display_data",
          "data": {
            "text/plain": [
              "<Figure size 720x504 with 1 Axes>"
            ],
            "image/png": "[encoded data removed]"
          },
          "metadata": {
            "needs_background": "light"
          }
        }
      ]
    },
    {
      "cell_type": "markdown",
      "source": [
        "La correlazine tra citric acid e qualità è direttamente proporzionale.L'indice di correllazione infatti è:"
      ],
      "metadata": {
        "id": "N6ErJF4d4-PH"
      }
    },
    {
      "cell_type": "code",
      "source": [
        "data.corr().loc[\"quality\",\"citric acid\"]"
      ],
      "metadata": {
        "id": "ZYoYWsL-uEXI",
        "outputId": "e873f71c-4f8e-4746-f5a8-162ff269073e",
        "colab": {
          "base_uri": "https://localhost:8080/"
        }
      },
      "execution_count": 59,
      "outputs": [
        {
          "output_type": "execute_result",
          "data": {
            "text/plain": [
              "0.24082083714719305"
            ]
          },
          "metadata": {},
          "execution_count": 59
        }
      ]
    },
    {
      "cell_type": "markdown",
      "source": [
        "# Normalizzazione\n",
        "Come possiamo vedere le features hanno scale diverse, quindi si prosegue con normalizzazione dei dati."
      ],
      "metadata": {
        "id": "jET52u14xmOc"
      }
    },
    {
      "cell_type": "code",
      "source": [
        "data.drop(columns=\"quality\").aggregate([\"min\",\"max\"]).T"
      ],
      "metadata": {
        "colab": {
          "base_uri": "https://localhost:8080/",
          "height": 394
        },
        "id": "WDlamdzMyoiv",
        "outputId": "795e8497-0046-4f4e-edf2-aae2223e2e4f"
      },
      "execution_count": 60,
      "outputs": [
        {
          "output_type": "execute_result",
          "data": {
            "text/plain": [
              "                          min        max\n",
              "fixed acidity         4.60000   15.90000\n",
              "volatile acidity      0.12000    1.58000\n",
              "citric acid           0.00000    1.00000\n",
              "residual sugar        0.90000   15.50000\n",
              "chlorides             0.01200    0.61100\n",
              "free sulfur dioxide   1.00000   68.00000\n",
              "total sulfur dioxide  6.00000  289.00000\n",
              "density               0.99007    1.00369\n",
              "pH                    2.74000    4.01000\n",
              "sulphates             0.33000    2.00000\n",
              "alcohol               8.40000   14.90000"
            ],
            "text/html": [
              "\n",
              "  <div id=\"df-2e4d00c1-b02e-446c-9b66-094ae33d8323\">\n",
              "    <div class=\"colab-df-container\">\n",
              "      <div>\n",
              "<style scoped>\n",
              "    .dataframe tbody tr th:only-of-type {\n",
              "        vertical-align: middle;\n",
              "    }\n",
              "\n",
              "    .dataframe tbody tr th {\n",
              "        vertical-align: top;\n",
              "    }\n",
              "\n",
              "    .dataframe thead th {\n",
              "        text-align: right;\n",
              "    }\n",
              "</style>\n",
              "<table border=\"1\" class=\"dataframe\">\n",
              "  <thead>\n",
              "    <tr style=\"text-align: right;\">\n",
              "      <th></th>\n",
              "      <th>min</th>\n",
              "      <th>max</th>\n",
              "    </tr>\n",
              "  </thead>\n",
              "  <tbody>\n",
              "    <tr>\n",
              "      <th>fixed acidity</th>\n",
              "      <td>4.60000</td>\n",
              "      <td>15.90000</td>\n",
              "    </tr>\n",
              "    <tr>\n",
              "      <th>volatile acidity</th>\n",
              "      <td>0.12000</td>\n",
              "      <td>1.58000</td>\n",
              "    </tr>\n",
              "    <tr>\n",
              "      <th>citric acid</th>\n",
              "      <td>0.00000</td>\n",
              "      <td>1.00000</td>\n",
              "    </tr>\n",
              "    <tr>\n",
              "      <th>residual sugar</th>\n",
              "      <td>0.90000</td>\n",
              "      <td>15.50000</td>\n",
              "    </tr>\n",
              "    <tr>\n",
              "      <th>chlorides</th>\n",
              "      <td>0.01200</td>\n",
              "      <td>0.61100</td>\n",
              "    </tr>\n",
              "    <tr>\n",
              "      <th>free sulfur dioxide</th>\n",
              "      <td>1.00000</td>\n",
              "      <td>68.00000</td>\n",
              "    </tr>\n",
              "    <tr>\n",
              "      <th>total sulfur dioxide</th>\n",
              "      <td>6.00000</td>\n",
              "      <td>289.00000</td>\n",
              "    </tr>\n",
              "    <tr>\n",
              "      <th>density</th>\n",
              "      <td>0.99007</td>\n",
              "      <td>1.00369</td>\n",
              "    </tr>\n",
              "    <tr>\n",
              "      <th>pH</th>\n",
              "      <td>2.74000</td>\n",
              "      <td>4.01000</td>\n",
              "    </tr>\n",
              "    <tr>\n",
              "      <th>sulphates</th>\n",
              "      <td>0.33000</td>\n",
              "      <td>2.00000</td>\n",
              "    </tr>\n",
              "    <tr>\n",
              "      <th>alcohol</th>\n",
              "      <td>8.40000</td>\n",
              "      <td>14.90000</td>\n",
              "    </tr>\n",
              "  </tbody>\n",
              "</table>\n",
              "</div>\n",
              "      <button class=\"colab-df-convert\" onclick=\"convertToInteractive('df-2e4d00c1-b02e-446c-9b66-094ae33d8323')\"\n",
              "              title=\"Convert this dataframe to an interactive table.\"\n",
              "              style=\"display:none;\">\n",
              "        \n",
              "  <svg xmlns=\"http://www.w3.org/2000/svg\" height=\"24px\"viewBox=\"0 0 24 24\"\n",
              "       width=\"24px\">\n",
              "    <path d=\"M0 0h24v24H0V0z\" fill=\"none\"/>\n",
              "    <path d=\"M18.56 5.44l.94 2.06.94-2.06 2.06-.94-2.06-.94-.94-2.06-.94 2.06-2.06.94zm-11 1L8.5 8.5l.94-2.06 2.06-.94-2.06-.94L8.5 2.5l-.94 2.06-2.06.94zm10 10l.94 2.06.94-2.06 2.06-.94-2.06-.94-.94-2.06-.94 2.06-2.06.94z\"/><path d=\"M17.41 7.96l-1.37-1.37c-.4-.4-.92-.59-1.43-.59-.52 0-1.04.2-1.43.59L10.3 9.45l-7.72 7.72c-.78.78-.78 2.05 0 2.83L4 21.41c.39.39.9.59 1.41.59.51 0 1.02-.2 1.41-.59l7.78-7.78 2.81-2.81c.8-.78.8-2.07 0-2.86zM5.41 20L4 18.59l7.72-7.72 1.47 1.35L5.41 20z\"/>\n",
              "  </svg>\n",
              "      </button>\n",
              "      \n",
              "  <style>\n",
              "    .colab-df-container {\n",
              "      display:flex;\n",
              "      flex-wrap:wrap;\n",
              "      gap: 12px;\n",
              "    }\n",
              "\n",
              "    .colab-df-convert {\n",
              "      background-color: #E8F0FE;\n",
              "      border: none;\n",
              "      border-radius: 50%;\n",
              "      cursor: pointer;\n",
              "      display: none;\n",
              "      fill: #1967D2;\n",
              "      height: 32px;\n",
              "      padding: 0 0 0 0;\n",
              "      width: 32px;\n",
              "    }\n",
              "\n",
              "    .colab-df-convert:hover {\n",
              "      background-color: #E2EBFA;\n",
              "      box-shadow: 0px 1px 2px rgba(60, 64, 67, 0.3), 0px 1px 3px 1px rgba(60, 64, 67, 0.15);\n",
              "      fill: #174EA6;\n",
              "    }\n",
              "\n",
              "    [theme=dark] .colab-df-convert {\n",
              "      background-color: #3B4455;\n",
              "      fill: #D2E3FC;\n",
              "    }\n",
              "\n",
              "    [theme=dark] .colab-df-convert:hover {\n",
              "      background-color: #434B5C;\n",
              "      box-shadow: 0px 1px 3px 1px rgba(0, 0, 0, 0.15);\n",
              "      filter: drop-shadow(0px 1px 2px rgba(0, 0, 0, 0.3));\n",
              "      fill: #FFFFFF;\n",
              "    }\n",
              "  </style>\n",
              "\n",
              "      <script>\n",
              "        const buttonEl =\n",
              "          document.querySelector('#df-2e4d00c1-b02e-446c-9b66-094ae33d8323 button.colab-df-convert');\n",
              "        buttonEl.style.display =\n",
              "          google.colab.kernel.accessAllowed ? 'block' : 'none';\n",
              "\n",
              "        async function convertToInteractive(key) {\n",
              "          const element = document.querySelector('#df-2e4d00c1-b02e-446c-9b66-094ae33d8323');\n",
              "          const dataTable =\n",
              "            await google.colab.kernel.invokeFunction('convertToInteractive',\n",
              "                                                     [key], {});\n",
              "          if (!dataTable) return;\n",
              "\n",
              "          const docLinkHtml = 'Like what you see? Visit the ' +\n",
              "            '<a target=\"_blank\" href=https://colab.research.google.com/notebooks/data_table.ipynb>data table notebook</a>'\n",
              "            + ' to learn more about interactive tables.';\n",
              "          element.innerHTML = '';\n",
              "          dataTable['output_type'] = 'display_data';\n",
              "          await google.colab.output.renderOutput(dataTable, element);\n",
              "          const docLink = document.createElement('div');\n",
              "          docLink.innerHTML = docLinkHtml;\n",
              "          element.appendChild(docLink);\n",
              "        }\n",
              "      </script>\n",
              "    </div>\n",
              "  </div>\n",
              "  "
            ]
          },
          "metadata": {},
          "execution_count": 60
        }
      ]
    },
    {
      "cell_type": "code",
      "source": [
        "from sklearn.preprocessing import MinMaxScaler \n",
        "X = MinMaxScaler().fit_transform(data.drop(columns=\"quality\"))\n",
        "X = DataFrame(X,columns=data.drop(columns=\"quality\").columns,index=data.index)\n",
        "X.head()"
      ],
      "metadata": {
        "colab": {
          "base_uri": "https://localhost:8080/",
          "height": 238
        },
        "id": "3gi_yZKtyqWi",
        "outputId": "039066fa-cfe2-43e6-8a08-5ee6df1421af"
      },
      "execution_count": 61,
      "outputs": [
        {
          "output_type": "execute_result",
          "data": {
            "text/plain": [
              "    fixed acidity  volatile acidity  citric acid  residual sugar  chlorides  \\\n",
              "Id                                                                            \n",
              "0        0.247788          0.397260         0.00        0.068493   0.106845   \n",
              "1        0.283186          0.520548         0.00        0.116438   0.143573   \n",
              "2        0.283186          0.438356         0.04        0.095890   0.133556   \n",
              "3        0.584071          0.109589         0.56        0.068493   0.105175   \n",
              "4        0.247788          0.397260         0.00        0.068493   0.106845   \n",
              "\n",
              "    free sulfur dioxide  total sulfur dioxide   density        pH  sulphates  \\\n",
              "Id                                                                             \n",
              "0              0.149254              0.098940  0.567548  0.606299   0.137725   \n",
              "1              0.358209              0.215548  0.494126  0.362205   0.209581   \n",
              "2              0.208955              0.169611  0.508811  0.409449   0.191617   \n",
              "3              0.238806              0.190813  0.582232  0.330709   0.149701   \n",
              "4              0.149254              0.098940  0.567548  0.606299   0.137725   \n",
              "\n",
              "     alcohol  \n",
              "Id            \n",
              "0   0.153846  \n",
              "1   0.215385  \n",
              "2   0.215385  \n",
              "3   0.215385  \n",
              "4   0.153846  "
            ],
            "text/html": [
              "\n",
              "  <div id=\"df-06621533-911e-4ce6-a701-13c6cffdc3df\">\n",
              "    <div class=\"colab-df-container\">\n",
              "      <div>\n",
              "<style scoped>\n",
              "    .dataframe tbody tr th:only-of-type {\n",
              "        vertical-align: middle;\n",
              "    }\n",
              "\n",
              "    .dataframe tbody tr th {\n",
              "        vertical-align: top;\n",
              "    }\n",
              "\n",
              "    .dataframe thead th {\n",
              "        text-align: right;\n",
              "    }\n",
              "</style>\n",
              "<table border=\"1\" class=\"dataframe\">\n",
              "  <thead>\n",
              "    <tr style=\"text-align: right;\">\n",
              "      <th></th>\n",
              "      <th>fixed acidity</th>\n",
              "      <th>volatile acidity</th>\n",
              "      <th>citric acid</th>\n",
              "      <th>residual sugar</th>\n",
              "      <th>chlorides</th>\n",
              "      <th>free sulfur dioxide</th>\n",
              "      <th>total sulfur dioxide</th>\n",
              "      <th>density</th>\n",
              "      <th>pH</th>\n",
              "      <th>sulphates</th>\n",
              "      <th>alcohol</th>\n",
              "    </tr>\n",
              "    <tr>\n",
              "      <th>Id</th>\n",
              "      <th></th>\n",
              "      <th></th>\n",
              "      <th></th>\n",
              "      <th></th>\n",
              "      <th></th>\n",
              "      <th></th>\n",
              "      <th></th>\n",
              "      <th></th>\n",
              "      <th></th>\n",
              "      <th></th>\n",
              "      <th></th>\n",
              "    </tr>\n",
              "  </thead>\n",
              "  <tbody>\n",
              "    <tr>\n",
              "      <th>0</th>\n",
              "      <td>0.247788</td>\n",
              "      <td>0.397260</td>\n",
              "      <td>0.00</td>\n",
              "      <td>0.068493</td>\n",
              "      <td>0.106845</td>\n",
              "      <td>0.149254</td>\n",
              "      <td>0.098940</td>\n",
              "      <td>0.567548</td>\n",
              "      <td>0.606299</td>\n",
              "      <td>0.137725</td>\n",
              "      <td>0.153846</td>\n",
              "    </tr>\n",
              "    <tr>\n",
              "      <th>1</th>\n",
              "      <td>0.283186</td>\n",
              "      <td>0.520548</td>\n",
              "      <td>0.00</td>\n",
              "      <td>0.116438</td>\n",
              "      <td>0.143573</td>\n",
              "      <td>0.358209</td>\n",
              "      <td>0.215548</td>\n",
              "      <td>0.494126</td>\n",
              "      <td>0.362205</td>\n",
              "      <td>0.209581</td>\n",
              "      <td>0.215385</td>\n",
              "    </tr>\n",
              "    <tr>\n",
              "      <th>2</th>\n",
              "      <td>0.283186</td>\n",
              "      <td>0.438356</td>\n",
              "      <td>0.04</td>\n",
              "      <td>0.095890</td>\n",
              "      <td>0.133556</td>\n",
              "      <td>0.208955</td>\n",
              "      <td>0.169611</td>\n",
              "      <td>0.508811</td>\n",
              "      <td>0.409449</td>\n",
              "      <td>0.191617</td>\n",
              "      <td>0.215385</td>\n",
              "    </tr>\n",
              "    <tr>\n",
              "      <th>3</th>\n",
              "      <td>0.584071</td>\n",
              "      <td>0.109589</td>\n",
              "      <td>0.56</td>\n",
              "      <td>0.068493</td>\n",
              "      <td>0.105175</td>\n",
              "      <td>0.238806</td>\n",
              "      <td>0.190813</td>\n",
              "      <td>0.582232</td>\n",
              "      <td>0.330709</td>\n",
              "      <td>0.149701</td>\n",
              "      <td>0.215385</td>\n",
              "    </tr>\n",
              "    <tr>\n",
              "      <th>4</th>\n",
              "      <td>0.247788</td>\n",
              "      <td>0.397260</td>\n",
              "      <td>0.00</td>\n",
              "      <td>0.068493</td>\n",
              "      <td>0.106845</td>\n",
              "      <td>0.149254</td>\n",
              "      <td>0.098940</td>\n",
              "      <td>0.567548</td>\n",
              "      <td>0.606299</td>\n",
              "      <td>0.137725</td>\n",
              "      <td>0.153846</td>\n",
              "    </tr>\n",
              "  </tbody>\n",
              "</table>\n",
              "</div>\n",
              "      <button class=\"colab-df-convert\" onclick=\"convertToInteractive('df-06621533-911e-4ce6-a701-13c6cffdc3df')\"\n",
              "              title=\"Convert this dataframe to an interactive table.\"\n",
              "              style=\"display:none;\">\n",
              "        \n",
              "  <svg xmlns=\"http://www.w3.org/2000/svg\" height=\"24px\"viewBox=\"0 0 24 24\"\n",
              "       width=\"24px\">\n",
              "    <path d=\"M0 0h24v24H0V0z\" fill=\"none\"/>\n",
              "    <path d=\"M18.56 5.44l.94 2.06.94-2.06 2.06-.94-2.06-.94-.94-2.06-.94 2.06-2.06.94zm-11 1L8.5 8.5l.94-2.06 2.06-.94-2.06-.94L8.5 2.5l-.94 2.06-2.06.94zm10 10l.94 2.06.94-2.06 2.06-.94-2.06-.94-.94-2.06-.94 2.06-2.06.94z\"/><path d=\"M17.41 7.96l-1.37-1.37c-.4-.4-.92-.59-1.43-.59-.52 0-1.04.2-1.43.59L10.3 9.45l-7.72 7.72c-.78.78-.78 2.05 0 2.83L4 21.41c.39.39.9.59 1.41.59.51 0 1.02-.2 1.41-.59l7.78-7.78 2.81-2.81c.8-.78.8-2.07 0-2.86zM5.41 20L4 18.59l7.72-7.72 1.47 1.35L5.41 20z\"/>\n",
              "  </svg>\n",
              "      </button>\n",
              "      \n",
              "  <style>\n",
              "    .colab-df-container {\n",
              "      display:flex;\n",
              "      flex-wrap:wrap;\n",
              "      gap: 12px;\n",
              "    }\n",
              "\n",
              "    .colab-df-convert {\n",
              "      background-color: #E8F0FE;\n",
              "      border: none;\n",
              "      border-radius: 50%;\n",
              "      cursor: pointer;\n",
              "      display: none;\n",
              "      fill: #1967D2;\n",
              "      height: 32px;\n",
              "      padding: 0 0 0 0;\n",
              "      width: 32px;\n",
              "    }\n",
              "\n",
              "    .colab-df-convert:hover {\n",
              "      background-color: #E2EBFA;\n",
              "      box-shadow: 0px 1px 2px rgba(60, 64, 67, 0.3), 0px 1px 3px 1px rgba(60, 64, 67, 0.15);\n",
              "      fill: #174EA6;\n",
              "    }\n",
              "\n",
              "    [theme=dark] .colab-df-convert {\n",
              "      background-color: #3B4455;\n",
              "      fill: #D2E3FC;\n",
              "    }\n",
              "\n",
              "    [theme=dark] .colab-df-convert:hover {\n",
              "      background-color: #434B5C;\n",
              "      box-shadow: 0px 1px 3px 1px rgba(0, 0, 0, 0.15);\n",
              "      filter: drop-shadow(0px 1px 2px rgba(0, 0, 0, 0.3));\n",
              "      fill: #FFFFFF;\n",
              "    }\n",
              "  </style>\n",
              "\n",
              "      <script>\n",
              "        const buttonEl =\n",
              "          document.querySelector('#df-06621533-911e-4ce6-a701-13c6cffdc3df button.colab-df-convert');\n",
              "        buttonEl.style.display =\n",
              "          google.colab.kernel.accessAllowed ? 'block' : 'none';\n",
              "\n",
              "        async function convertToInteractive(key) {\n",
              "          const element = document.querySelector('#df-06621533-911e-4ce6-a701-13c6cffdc3df');\n",
              "          const dataTable =\n",
              "            await google.colab.kernel.invokeFunction('convertToInteractive',\n",
              "                                                     [key], {});\n",
              "          if (!dataTable) return;\n",
              "\n",
              "          const docLinkHtml = 'Like what you see? Visit the ' +\n",
              "            '<a target=\"_blank\" href=https://colab.research.google.com/notebooks/data_table.ipynb>data table notebook</a>'\n",
              "            + ' to learn more about interactive tables.';\n",
              "          element.innerHTML = '';\n",
              "          dataTable['output_type'] = 'display_data';\n",
              "          await google.colab.output.renderOutput(dataTable, element);\n",
              "          const docLink = document.createElement('div');\n",
              "          docLink.innerHTML = docLinkHtml;\n",
              "          element.appendChild(docLink);\n",
              "        }\n",
              "      </script>\n",
              "    </div>\n",
              "  </div>\n",
              "  "
            ]
          },
          "metadata": {},
          "execution_count": 61
        }
      ]
    },
    {
      "cell_type": "code",
      "source": [
        "Y = data[\"quality\"]"
      ],
      "metadata": {
        "id": "sYRFeBwJALzF"
      },
      "execution_count": 62,
      "outputs": []
    },
    {
      "cell_type": "markdown",
      "source": [
        "# Rilevanza features"
      ],
      "metadata": {
        "id": "VTWkqszL8T17"
      }
    },
    {
      "cell_type": "markdown",
      "source": [
        "Dividiamo i dati in train e validation set. Creiamo un primo modello di classificazione con regolarizzazione Lasso per andare ad identificare le features più o meno rilevanti. Incorporiamo il modello in una pipeline in modo da valutare anche inserimenti di features non lineari attraverso una Grid Search.\n"
      ],
      "metadata": {
        "id": "QFfUuWiwfxdo"
      }
    },
    {
      "cell_type": "code",
      "source": [
        "from sklearn.model_selection import train_test_split\n",
        "from sklearn.model_selection import StratifiedKFold\n",
        "from sklearn.linear_model import LogisticRegression\n",
        "from sklearn.pipeline import Pipeline\n",
        "\n",
        "X_train, X_val, y_train, y_val = train_test_split(X,Y,test_size=1/3,random_state=42)\n",
        "model = Pipeline([\n",
        "                  (\"poly\",PolynomialFeatures()),\n",
        "                  (\"classifier\",LogisticRegression(solver=\"saga\", random_state=42, penalty=\"l1\", C=10,multi_class=\"ovr\"))\n",
        "])\n"
      ],
      "metadata": {
        "id": "tpK2ayCM8Yhs"
      },
      "execution_count": 63,
      "outputs": []
    },
    {
      "cell_type": "code",
      "source": [
        "from sklearn.model_selection import GridSearchCV\n",
        "grid = {\n",
        "        \"poly__degree\": [1,3,5],\n",
        "    \"classifier__C\": [0.01,0.1,1,10],\n",
        "    \"classifier__class_weight\" : [\"balanced\",None]\n",
        "}\n",
        "skf = StratifiedKFold(3,shuffle=True, random_state=42)\n",
        "gs = GridSearchCV(model,cv=skf,param_grid=grid,return_train_score=True)\n"
      ],
      "metadata": {
        "id": "KYfhWeE-As8m"
      },
      "execution_count": 64,
      "outputs": []
    },
    {
      "cell_type": "code",
      "source": [
        "gs.fit(X_train,y_train)\n"
      ],
      "metadata": {
        "id": "t4J-98h4lMjL",
        "outputId": "968c6b31-da0f-444e-934e-8e8e1b7694e5",
        "colab": {
          "base_uri": "https://localhost:8080/",
          "height": 1000
        }
      },
      "execution_count": 65,
      "outputs": [
        {
          "output_type": "stream",
          "name": "stderr",
          "text": [
            "/usr/local/lib/python3.7/dist-packages/sklearn/linear_model/_sag.py:354: ConvergenceWarning: The max_iter was reached which means the coef_ did not converge\n",
            "  ConvergenceWarning,\n",
            "/usr/local/lib/python3.7/dist-packages/sklearn/linear_model/_sag.py:354: ConvergenceWarning: The max_iter was reached which means the coef_ did not converge\n",
            "  ConvergenceWarning,\n",
            "/usr/local/lib/python3.7/dist-packages/sklearn/linear_model/_sag.py:354: ConvergenceWarning: The max_iter was reached which means the coef_ did not converge\n",
            "  ConvergenceWarning,\n",
            "/usr/local/lib/python3.7/dist-packages/sklearn/linear_model/_sag.py:354: ConvergenceWarning: The max_iter was reached which means the coef_ did not converge\n",
            "  ConvergenceWarning,\n",
            "/usr/local/lib/python3.7/dist-packages/sklearn/linear_model/_sag.py:354: ConvergenceWarning: The max_iter was reached which means the coef_ did not converge\n",
            "  ConvergenceWarning,\n",
            "/usr/local/lib/python3.7/dist-packages/sklearn/linear_model/_sag.py:354: ConvergenceWarning: The max_iter was reached which means the coef_ did not converge\n",
            "  ConvergenceWarning,\n",
            "/usr/local/lib/python3.7/dist-packages/sklearn/linear_model/_sag.py:354: ConvergenceWarning: The max_iter was reached which means the coef_ did not converge\n",
            "  ConvergenceWarning,\n",
            "/usr/local/lib/python3.7/dist-packages/sklearn/linear_model/_sag.py:354: ConvergenceWarning: The max_iter was reached which means the coef_ did not converge\n",
            "  ConvergenceWarning,\n",
            "/usr/local/lib/python3.7/dist-packages/sklearn/linear_model/_sag.py:354: ConvergenceWarning: The max_iter was reached which means the coef_ did not converge\n",
            "  ConvergenceWarning,\n",
            "/usr/local/lib/python3.7/dist-packages/sklearn/linear_model/_sag.py:354: ConvergenceWarning: The max_iter was reached which means the coef_ did not converge\n",
            "  ConvergenceWarning,\n",
            "/usr/local/lib/python3.7/dist-packages/sklearn/linear_model/_sag.py:354: ConvergenceWarning: The max_iter was reached which means the coef_ did not converge\n",
            "  ConvergenceWarning,\n",
            "/usr/local/lib/python3.7/dist-packages/sklearn/linear_model/_sag.py:354: ConvergenceWarning: The max_iter was reached which means the coef_ did not converge\n",
            "  ConvergenceWarning,\n",
            "/usr/local/lib/python3.7/dist-packages/sklearn/linear_model/_sag.py:354: ConvergenceWarning: The max_iter was reached which means the coef_ did not converge\n",
            "  ConvergenceWarning,\n",
            "/usr/local/lib/python3.7/dist-packages/sklearn/linear_model/_sag.py:354: ConvergenceWarning: The max_iter was reached which means the coef_ did not converge\n",
            "  ConvergenceWarning,\n",
            "/usr/local/lib/python3.7/dist-packages/sklearn/linear_model/_sag.py:354: ConvergenceWarning: The max_iter was reached which means the coef_ did not converge\n",
            "  ConvergenceWarning,\n",
            "/usr/local/lib/python3.7/dist-packages/sklearn/linear_model/_sag.py:354: ConvergenceWarning: The max_iter was reached which means the coef_ did not converge\n",
            "  ConvergenceWarning,\n",
            "/usr/local/lib/python3.7/dist-packages/sklearn/linear_model/_sag.py:354: ConvergenceWarning: The max_iter was reached which means the coef_ did not converge\n",
            "  ConvergenceWarning,\n",
            "/usr/local/lib/python3.7/dist-packages/sklearn/linear_model/_sag.py:354: ConvergenceWarning: The max_iter was reached which means the coef_ did not converge\n",
            "  ConvergenceWarning,\n",
            "/usr/local/lib/python3.7/dist-packages/sklearn/linear_model/_sag.py:354: ConvergenceWarning: The max_iter was reached which means the coef_ did not converge\n",
            "  ConvergenceWarning,\n",
            "/usr/local/lib/python3.7/dist-packages/sklearn/linear_model/_sag.py:354: ConvergenceWarning: The max_iter was reached which means the coef_ did not converge\n",
            "  ConvergenceWarning,\n",
            "/usr/local/lib/python3.7/dist-packages/sklearn/linear_model/_sag.py:354: ConvergenceWarning: The max_iter was reached which means the coef_ did not converge\n",
            "  ConvergenceWarning,\n",
            "/usr/local/lib/python3.7/dist-packages/sklearn/linear_model/_sag.py:354: ConvergenceWarning: The max_iter was reached which means the coef_ did not converge\n",
            "  ConvergenceWarning,\n",
            "/usr/local/lib/python3.7/dist-packages/sklearn/linear_model/_sag.py:354: ConvergenceWarning: The max_iter was reached which means the coef_ did not converge\n",
            "  ConvergenceWarning,\n",
            "/usr/local/lib/python3.7/dist-packages/sklearn/linear_model/_sag.py:354: ConvergenceWarning: The max_iter was reached which means the coef_ did not converge\n",
            "  ConvergenceWarning,\n",
            "/usr/local/lib/python3.7/dist-packages/sklearn/linear_model/_sag.py:354: ConvergenceWarning: The max_iter was reached which means the coef_ did not converge\n",
            "  ConvergenceWarning,\n",
            "/usr/local/lib/python3.7/dist-packages/sklearn/linear_model/_sag.py:354: ConvergenceWarning: The max_iter was reached which means the coef_ did not converge\n",
            "  ConvergenceWarning,\n",
            "/usr/local/lib/python3.7/dist-packages/sklearn/linear_model/_sag.py:354: ConvergenceWarning: The max_iter was reached which means the coef_ did not converge\n",
            "  ConvergenceWarning,\n",
            "/usr/local/lib/python3.7/dist-packages/sklearn/linear_model/_sag.py:354: ConvergenceWarning: The max_iter was reached which means the coef_ did not converge\n",
            "  ConvergenceWarning,\n",
            "/usr/local/lib/python3.7/dist-packages/sklearn/linear_model/_sag.py:354: ConvergenceWarning: The max_iter was reached which means the coef_ did not converge\n",
            "  ConvergenceWarning,\n",
            "/usr/local/lib/python3.7/dist-packages/sklearn/linear_model/_sag.py:354: ConvergenceWarning: The max_iter was reached which means the coef_ did not converge\n",
            "  ConvergenceWarning,\n",
            "/usr/local/lib/python3.7/dist-packages/sklearn/linear_model/_sag.py:354: ConvergenceWarning: The max_iter was reached which means the coef_ did not converge\n",
            "  ConvergenceWarning,\n"
          ]
        },
        {
          "output_type": "error",
          "ename": "KeyboardInterrupt",
          "evalue": "ignored",
          "traceback": [
            "\u001b[0;31m---------------------------------------------------------------------------\u001b[0m",
            "\u001b[0;31mKeyboardInterrupt\u001b[0m                         Traceback (most recent call last)",
            "\u001b[0;32m<ipython-input-65-84bf55be5253>\u001b[0m in \u001b[0;36m<module>\u001b[0;34m()\u001b[0m\n\u001b[0;32m----> 1\u001b[0;31m \u001b[0mgs\u001b[0m\u001b[0;34m.\u001b[0m\u001b[0mfit\u001b[0m\u001b[0;34m(\u001b[0m\u001b[0mX_train\u001b[0m\u001b[0;34m,\u001b[0m\u001b[0my_train\u001b[0m\u001b[0;34m)\u001b[0m\u001b[0;34m\u001b[0m\u001b[0;34m\u001b[0m\u001b[0m\n\u001b[0m",
            "\u001b[0;32m/usr/local/lib/python3.7/dist-packages/sklearn/model_selection/_search.py\u001b[0m in \u001b[0;36mfit\u001b[0;34m(self, X, y, groups, **fit_params)\u001b[0m\n\u001b[1;32m    889\u001b[0m                 \u001b[0;32mreturn\u001b[0m \u001b[0mresults\u001b[0m\u001b[0;34m\u001b[0m\u001b[0;34m\u001b[0m\u001b[0m\n\u001b[1;32m    890\u001b[0m \u001b[0;34m\u001b[0m\u001b[0m\n\u001b[0;32m--> 891\u001b[0;31m             \u001b[0mself\u001b[0m\u001b[0;34m.\u001b[0m\u001b[0m_run_search\u001b[0m\u001b[0;34m(\u001b[0m\u001b[0mevaluate_candidates\u001b[0m\u001b[0;34m)\u001b[0m\u001b[0;34m\u001b[0m\u001b[0;34m\u001b[0m\u001b[0m\n\u001b[0m\u001b[1;32m    892\u001b[0m \u001b[0;34m\u001b[0m\u001b[0m\n\u001b[1;32m    893\u001b[0m             \u001b[0;31m# multimetric is determined here because in the case of a callable\u001b[0m\u001b[0;34m\u001b[0m\u001b[0;34m\u001b[0m\u001b[0;34m\u001b[0m\u001b[0m\n",
            "\u001b[0;32m/usr/local/lib/python3.7/dist-packages/sklearn/model_selection/_search.py\u001b[0m in \u001b[0;36m_run_search\u001b[0;34m(self, evaluate_candidates)\u001b[0m\n\u001b[1;32m   1390\u001b[0m     \u001b[0;32mdef\u001b[0m \u001b[0m_run_search\u001b[0m\u001b[0;34m(\u001b[0m\u001b[0mself\u001b[0m\u001b[0;34m,\u001b[0m \u001b[0mevaluate_candidates\u001b[0m\u001b[0;34m)\u001b[0m\u001b[0;34m:\u001b[0m\u001b[0;34m\u001b[0m\u001b[0;34m\u001b[0m\u001b[0m\n\u001b[1;32m   1391\u001b[0m         \u001b[0;34m\"\"\"Search all candidates in param_grid\"\"\"\u001b[0m\u001b[0;34m\u001b[0m\u001b[0;34m\u001b[0m\u001b[0m\n\u001b[0;32m-> 1392\u001b[0;31m         \u001b[0mevaluate_candidates\u001b[0m\u001b[0;34m(\u001b[0m\u001b[0mParameterGrid\u001b[0m\u001b[0;34m(\u001b[0m\u001b[0mself\u001b[0m\u001b[0;34m.\u001b[0m\u001b[0mparam_grid\u001b[0m\u001b[0;34m)\u001b[0m\u001b[0;34m)\u001b[0m\u001b[0;34m\u001b[0m\u001b[0;34m\u001b[0m\u001b[0m\n\u001b[0m\u001b[1;32m   1393\u001b[0m \u001b[0;34m\u001b[0m\u001b[0m\n\u001b[1;32m   1394\u001b[0m \u001b[0;34m\u001b[0m\u001b[0m\n",
            "\u001b[0;32m/usr/local/lib/python3.7/dist-packages/sklearn/model_selection/_search.py\u001b[0m in \u001b[0;36mevaluate_candidates\u001b[0;34m(candidate_params, cv, more_results)\u001b[0m\n\u001b[1;32m    849\u001b[0m                     )\n\u001b[1;32m    850\u001b[0m                     for (cand_idx, parameters), (split_idx, (train, test)) in product(\n\u001b[0;32m--> 851\u001b[0;31m                         \u001b[0menumerate\u001b[0m\u001b[0;34m(\u001b[0m\u001b[0mcandidate_params\u001b[0m\u001b[0;34m)\u001b[0m\u001b[0;34m,\u001b[0m \u001b[0menumerate\u001b[0m\u001b[0;34m(\u001b[0m\u001b[0mcv\u001b[0m\u001b[0;34m.\u001b[0m\u001b[0msplit\u001b[0m\u001b[0;34m(\u001b[0m\u001b[0mX\u001b[0m\u001b[0;34m,\u001b[0m \u001b[0my\u001b[0m\u001b[0;34m,\u001b[0m \u001b[0mgroups\u001b[0m\u001b[0;34m)\u001b[0m\u001b[0;34m)\u001b[0m\u001b[0;34m\u001b[0m\u001b[0;34m\u001b[0m\u001b[0m\n\u001b[0m\u001b[1;32m    852\u001b[0m                     )\n\u001b[1;32m    853\u001b[0m                 )\n",
            "\u001b[0;32m/usr/local/lib/python3.7/dist-packages/joblib/parallel.py\u001b[0m in \u001b[0;36m__call__\u001b[0;34m(self, iterable)\u001b[0m\n\u001b[1;32m   1044\u001b[0m                 \u001b[0mself\u001b[0m\u001b[0;34m.\u001b[0m\u001b[0m_iterating\u001b[0m \u001b[0;34m=\u001b[0m \u001b[0mself\u001b[0m\u001b[0;34m.\u001b[0m\u001b[0m_original_iterator\u001b[0m \u001b[0;32mis\u001b[0m \u001b[0;32mnot\u001b[0m \u001b[0;32mNone\u001b[0m\u001b[0;34m\u001b[0m\u001b[0;34m\u001b[0m\u001b[0m\n\u001b[1;32m   1045\u001b[0m \u001b[0;34m\u001b[0m\u001b[0m\n\u001b[0;32m-> 1046\u001b[0;31m             \u001b[0;32mwhile\u001b[0m \u001b[0mself\u001b[0m\u001b[0;34m.\u001b[0m\u001b[0mdispatch_one_batch\u001b[0m\u001b[0;34m(\u001b[0m\u001b[0miterator\u001b[0m\u001b[0;34m)\u001b[0m\u001b[0;34m:\u001b[0m\u001b[0;34m\u001b[0m\u001b[0;34m\u001b[0m\u001b[0m\n\u001b[0m\u001b[1;32m   1047\u001b[0m                 \u001b[0;32mpass\u001b[0m\u001b[0;34m\u001b[0m\u001b[0;34m\u001b[0m\u001b[0m\n\u001b[1;32m   1048\u001b[0m \u001b[0;34m\u001b[0m\u001b[0m\n",
            "\u001b[0;32m/usr/local/lib/python3.7/dist-packages/joblib/parallel.py\u001b[0m in \u001b[0;36mdispatch_one_batch\u001b[0;34m(self, iterator)\u001b[0m\n\u001b[1;32m    859\u001b[0m                 \u001b[0;32mreturn\u001b[0m \u001b[0;32mFalse\u001b[0m\u001b[0;34m\u001b[0m\u001b[0;34m\u001b[0m\u001b[0m\n\u001b[1;32m    860\u001b[0m             \u001b[0;32melse\u001b[0m\u001b[0;34m:\u001b[0m\u001b[0;34m\u001b[0m\u001b[0;34m\u001b[0m\u001b[0m\n\u001b[0;32m--> 861\u001b[0;31m                 \u001b[0mself\u001b[0m\u001b[0;34m.\u001b[0m\u001b[0m_dispatch\u001b[0m\u001b[0;34m(\u001b[0m\u001b[0mtasks\u001b[0m\u001b[0;34m)\u001b[0m\u001b[0;34m\u001b[0m\u001b[0;34m\u001b[0m\u001b[0m\n\u001b[0m\u001b[1;32m    862\u001b[0m                 \u001b[0;32mreturn\u001b[0m \u001b[0;32mTrue\u001b[0m\u001b[0;34m\u001b[0m\u001b[0;34m\u001b[0m\u001b[0m\n\u001b[1;32m    863\u001b[0m \u001b[0;34m\u001b[0m\u001b[0m\n",
            "\u001b[0;32m/usr/local/lib/python3.7/dist-packages/joblib/parallel.py\u001b[0m in \u001b[0;36m_dispatch\u001b[0;34m(self, batch)\u001b[0m\n\u001b[1;32m    777\u001b[0m         \u001b[0;32mwith\u001b[0m \u001b[0mself\u001b[0m\u001b[0;34m.\u001b[0m\u001b[0m_lock\u001b[0m\u001b[0;34m:\u001b[0m\u001b[0;34m\u001b[0m\u001b[0;34m\u001b[0m\u001b[0m\n\u001b[1;32m    778\u001b[0m             \u001b[0mjob_idx\u001b[0m \u001b[0;34m=\u001b[0m \u001b[0mlen\u001b[0m\u001b[0;34m(\u001b[0m\u001b[0mself\u001b[0m\u001b[0;34m.\u001b[0m\u001b[0m_jobs\u001b[0m\u001b[0;34m)\u001b[0m\u001b[0;34m\u001b[0m\u001b[0;34m\u001b[0m\u001b[0m\n\u001b[0;32m--> 779\u001b[0;31m             \u001b[0mjob\u001b[0m \u001b[0;34m=\u001b[0m \u001b[0mself\u001b[0m\u001b[0;34m.\u001b[0m\u001b[0m_backend\u001b[0m\u001b[0;34m.\u001b[0m\u001b[0mapply_async\u001b[0m\u001b[0;34m(\u001b[0m\u001b[0mbatch\u001b[0m\u001b[0;34m,\u001b[0m \u001b[0mcallback\u001b[0m\u001b[0;34m=\u001b[0m\u001b[0mcb\u001b[0m\u001b[0;34m)\u001b[0m\u001b[0;34m\u001b[0m\u001b[0;34m\u001b[0m\u001b[0m\n\u001b[0m\u001b[1;32m    780\u001b[0m             \u001b[0;31m# A job can complete so quickly than its callback is\u001b[0m\u001b[0;34m\u001b[0m\u001b[0;34m\u001b[0m\u001b[0;34m\u001b[0m\u001b[0m\n\u001b[1;32m    781\u001b[0m             \u001b[0;31m# called before we get here, causing self._jobs to\u001b[0m\u001b[0;34m\u001b[0m\u001b[0;34m\u001b[0m\u001b[0;34m\u001b[0m\u001b[0m\n",
            "\u001b[0;32m/usr/local/lib/python3.7/dist-packages/joblib/_parallel_backends.py\u001b[0m in \u001b[0;36mapply_async\u001b[0;34m(self, func, callback)\u001b[0m\n\u001b[1;32m    206\u001b[0m     \u001b[0;32mdef\u001b[0m \u001b[0mapply_async\u001b[0m\u001b[0;34m(\u001b[0m\u001b[0mself\u001b[0m\u001b[0;34m,\u001b[0m \u001b[0mfunc\u001b[0m\u001b[0;34m,\u001b[0m \u001b[0mcallback\u001b[0m\u001b[0;34m=\u001b[0m\u001b[0;32mNone\u001b[0m\u001b[0;34m)\u001b[0m\u001b[0;34m:\u001b[0m\u001b[0;34m\u001b[0m\u001b[0;34m\u001b[0m\u001b[0m\n\u001b[1;32m    207\u001b[0m         \u001b[0;34m\"\"\"Schedule a func to be run\"\"\"\u001b[0m\u001b[0;34m\u001b[0m\u001b[0;34m\u001b[0m\u001b[0m\n\u001b[0;32m--> 208\u001b[0;31m         \u001b[0mresult\u001b[0m \u001b[0;34m=\u001b[0m \u001b[0mImmediateResult\u001b[0m\u001b[0;34m(\u001b[0m\u001b[0mfunc\u001b[0m\u001b[0;34m)\u001b[0m\u001b[0;34m\u001b[0m\u001b[0;34m\u001b[0m\u001b[0m\n\u001b[0m\u001b[1;32m    209\u001b[0m         \u001b[0;32mif\u001b[0m \u001b[0mcallback\u001b[0m\u001b[0;34m:\u001b[0m\u001b[0;34m\u001b[0m\u001b[0;34m\u001b[0m\u001b[0m\n\u001b[1;32m    210\u001b[0m             \u001b[0mcallback\u001b[0m\u001b[0;34m(\u001b[0m\u001b[0mresult\u001b[0m\u001b[0;34m)\u001b[0m\u001b[0;34m\u001b[0m\u001b[0;34m\u001b[0m\u001b[0m\n",
            "\u001b[0;32m/usr/local/lib/python3.7/dist-packages/joblib/_parallel_backends.py\u001b[0m in \u001b[0;36m__init__\u001b[0;34m(self, batch)\u001b[0m\n\u001b[1;32m    570\u001b[0m         \u001b[0;31m# Don't delay the application, to avoid keeping the input\u001b[0m\u001b[0;34m\u001b[0m\u001b[0;34m\u001b[0m\u001b[0;34m\u001b[0m\u001b[0m\n\u001b[1;32m    571\u001b[0m         \u001b[0;31m# arguments in memory\u001b[0m\u001b[0;34m\u001b[0m\u001b[0;34m\u001b[0m\u001b[0;34m\u001b[0m\u001b[0m\n\u001b[0;32m--> 572\u001b[0;31m         \u001b[0mself\u001b[0m\u001b[0;34m.\u001b[0m\u001b[0mresults\u001b[0m \u001b[0;34m=\u001b[0m \u001b[0mbatch\u001b[0m\u001b[0;34m(\u001b[0m\u001b[0;34m)\u001b[0m\u001b[0;34m\u001b[0m\u001b[0;34m\u001b[0m\u001b[0m\n\u001b[0m\u001b[1;32m    573\u001b[0m \u001b[0;34m\u001b[0m\u001b[0m\n\u001b[1;32m    574\u001b[0m     \u001b[0;32mdef\u001b[0m \u001b[0mget\u001b[0m\u001b[0;34m(\u001b[0m\u001b[0mself\u001b[0m\u001b[0;34m)\u001b[0m\u001b[0;34m:\u001b[0m\u001b[0;34m\u001b[0m\u001b[0;34m\u001b[0m\u001b[0m\n",
            "\u001b[0;32m/usr/local/lib/python3.7/dist-packages/joblib/parallel.py\u001b[0m in \u001b[0;36m__call__\u001b[0;34m(self)\u001b[0m\n\u001b[1;32m    261\u001b[0m         \u001b[0;32mwith\u001b[0m \u001b[0mparallel_backend\u001b[0m\u001b[0;34m(\u001b[0m\u001b[0mself\u001b[0m\u001b[0;34m.\u001b[0m\u001b[0m_backend\u001b[0m\u001b[0;34m,\u001b[0m \u001b[0mn_jobs\u001b[0m\u001b[0;34m=\u001b[0m\u001b[0mself\u001b[0m\u001b[0;34m.\u001b[0m\u001b[0m_n_jobs\u001b[0m\u001b[0;34m)\u001b[0m\u001b[0;34m:\u001b[0m\u001b[0;34m\u001b[0m\u001b[0;34m\u001b[0m\u001b[0m\n\u001b[1;32m    262\u001b[0m             return [func(*args, **kwargs)\n\u001b[0;32m--> 263\u001b[0;31m                     for func, args, kwargs in self.items]\n\u001b[0m\u001b[1;32m    264\u001b[0m \u001b[0;34m\u001b[0m\u001b[0m\n\u001b[1;32m    265\u001b[0m     \u001b[0;32mdef\u001b[0m \u001b[0m__reduce__\u001b[0m\u001b[0;34m(\u001b[0m\u001b[0mself\u001b[0m\u001b[0;34m)\u001b[0m\u001b[0;34m:\u001b[0m\u001b[0;34m\u001b[0m\u001b[0;34m\u001b[0m\u001b[0m\n",
            "\u001b[0;32m/usr/local/lib/python3.7/dist-packages/joblib/parallel.py\u001b[0m in \u001b[0;36m<listcomp>\u001b[0;34m(.0)\u001b[0m\n\u001b[1;32m    261\u001b[0m         \u001b[0;32mwith\u001b[0m \u001b[0mparallel_backend\u001b[0m\u001b[0;34m(\u001b[0m\u001b[0mself\u001b[0m\u001b[0;34m.\u001b[0m\u001b[0m_backend\u001b[0m\u001b[0;34m,\u001b[0m \u001b[0mn_jobs\u001b[0m\u001b[0;34m=\u001b[0m\u001b[0mself\u001b[0m\u001b[0;34m.\u001b[0m\u001b[0m_n_jobs\u001b[0m\u001b[0;34m)\u001b[0m\u001b[0;34m:\u001b[0m\u001b[0;34m\u001b[0m\u001b[0;34m\u001b[0m\u001b[0m\n\u001b[1;32m    262\u001b[0m             return [func(*args, **kwargs)\n\u001b[0;32m--> 263\u001b[0;31m                     for func, args, kwargs in self.items]\n\u001b[0m\u001b[1;32m    264\u001b[0m \u001b[0;34m\u001b[0m\u001b[0m\n\u001b[1;32m    265\u001b[0m     \u001b[0;32mdef\u001b[0m \u001b[0m__reduce__\u001b[0m\u001b[0;34m(\u001b[0m\u001b[0mself\u001b[0m\u001b[0;34m)\u001b[0m\u001b[0;34m:\u001b[0m\u001b[0;34m\u001b[0m\u001b[0;34m\u001b[0m\u001b[0m\n",
            "\u001b[0;32m/usr/local/lib/python3.7/dist-packages/sklearn/utils/fixes.py\u001b[0m in \u001b[0;36m__call__\u001b[0;34m(self, *args, **kwargs)\u001b[0m\n\u001b[1;32m    214\u001b[0m     \u001b[0;32mdef\u001b[0m \u001b[0m__call__\u001b[0m\u001b[0;34m(\u001b[0m\u001b[0mself\u001b[0m\u001b[0;34m,\u001b[0m \u001b[0;34m*\u001b[0m\u001b[0margs\u001b[0m\u001b[0;34m,\u001b[0m \u001b[0;34m**\u001b[0m\u001b[0mkwargs\u001b[0m\u001b[0;34m)\u001b[0m\u001b[0;34m:\u001b[0m\u001b[0;34m\u001b[0m\u001b[0;34m\u001b[0m\u001b[0m\n\u001b[1;32m    215\u001b[0m         \u001b[0;32mwith\u001b[0m \u001b[0mconfig_context\u001b[0m\u001b[0;34m(\u001b[0m\u001b[0;34m**\u001b[0m\u001b[0mself\u001b[0m\u001b[0;34m.\u001b[0m\u001b[0mconfig\u001b[0m\u001b[0;34m)\u001b[0m\u001b[0;34m:\u001b[0m\u001b[0;34m\u001b[0m\u001b[0;34m\u001b[0m\u001b[0m\n\u001b[0;32m--> 216\u001b[0;31m             \u001b[0;32mreturn\u001b[0m \u001b[0mself\u001b[0m\u001b[0;34m.\u001b[0m\u001b[0mfunction\u001b[0m\u001b[0;34m(\u001b[0m\u001b[0;34m*\u001b[0m\u001b[0margs\u001b[0m\u001b[0;34m,\u001b[0m \u001b[0;34m**\u001b[0m\u001b[0mkwargs\u001b[0m\u001b[0;34m)\u001b[0m\u001b[0;34m\u001b[0m\u001b[0;34m\u001b[0m\u001b[0m\n\u001b[0m\u001b[1;32m    217\u001b[0m \u001b[0;34m\u001b[0m\u001b[0m\n\u001b[1;32m    218\u001b[0m \u001b[0;34m\u001b[0m\u001b[0m\n",
            "\u001b[0;32m/usr/local/lib/python3.7/dist-packages/sklearn/model_selection/_validation.py\u001b[0m in \u001b[0;36m_fit_and_score\u001b[0;34m(estimator, X, y, scorer, train, test, verbose, parameters, fit_params, return_train_score, return_parameters, return_n_test_samples, return_times, return_estimator, split_progress, candidate_progress, error_score)\u001b[0m\n\u001b[1;32m    678\u001b[0m             \u001b[0mestimator\u001b[0m\u001b[0;34m.\u001b[0m\u001b[0mfit\u001b[0m\u001b[0;34m(\u001b[0m\u001b[0mX_train\u001b[0m\u001b[0;34m,\u001b[0m \u001b[0;34m**\u001b[0m\u001b[0mfit_params\u001b[0m\u001b[0;34m)\u001b[0m\u001b[0;34m\u001b[0m\u001b[0;34m\u001b[0m\u001b[0m\n\u001b[1;32m    679\u001b[0m         \u001b[0;32melse\u001b[0m\u001b[0;34m:\u001b[0m\u001b[0;34m\u001b[0m\u001b[0;34m\u001b[0m\u001b[0m\n\u001b[0;32m--> 680\u001b[0;31m             \u001b[0mestimator\u001b[0m\u001b[0;34m.\u001b[0m\u001b[0mfit\u001b[0m\u001b[0;34m(\u001b[0m\u001b[0mX_train\u001b[0m\u001b[0;34m,\u001b[0m \u001b[0my_train\u001b[0m\u001b[0;34m,\u001b[0m \u001b[0;34m**\u001b[0m\u001b[0mfit_params\u001b[0m\u001b[0;34m)\u001b[0m\u001b[0;34m\u001b[0m\u001b[0;34m\u001b[0m\u001b[0m\n\u001b[0m\u001b[1;32m    681\u001b[0m \u001b[0;34m\u001b[0m\u001b[0m\n\u001b[1;32m    682\u001b[0m     \u001b[0;32mexcept\u001b[0m \u001b[0mException\u001b[0m\u001b[0;34m:\u001b[0m\u001b[0;34m\u001b[0m\u001b[0;34m\u001b[0m\u001b[0m\n",
            "\u001b[0;32m/usr/local/lib/python3.7/dist-packages/sklearn/pipeline.py\u001b[0m in \u001b[0;36mfit\u001b[0;34m(self, X, y, **fit_params)\u001b[0m\n\u001b[1;32m    392\u001b[0m             \u001b[0;32mif\u001b[0m \u001b[0mself\u001b[0m\u001b[0;34m.\u001b[0m\u001b[0m_final_estimator\u001b[0m \u001b[0;34m!=\u001b[0m \u001b[0;34m\"passthrough\"\u001b[0m\u001b[0;34m:\u001b[0m\u001b[0;34m\u001b[0m\u001b[0;34m\u001b[0m\u001b[0m\n\u001b[1;32m    393\u001b[0m                 \u001b[0mfit_params_last_step\u001b[0m \u001b[0;34m=\u001b[0m \u001b[0mfit_params_steps\u001b[0m\u001b[0;34m[\u001b[0m\u001b[0mself\u001b[0m\u001b[0;34m.\u001b[0m\u001b[0msteps\u001b[0m\u001b[0;34m[\u001b[0m\u001b[0;34m-\u001b[0m\u001b[0;36m1\u001b[0m\u001b[0;34m]\u001b[0m\u001b[0;34m[\u001b[0m\u001b[0;36m0\u001b[0m\u001b[0;34m]\u001b[0m\u001b[0;34m]\u001b[0m\u001b[0;34m\u001b[0m\u001b[0;34m\u001b[0m\u001b[0m\n\u001b[0;32m--> 394\u001b[0;31m                 \u001b[0mself\u001b[0m\u001b[0;34m.\u001b[0m\u001b[0m_final_estimator\u001b[0m\u001b[0;34m.\u001b[0m\u001b[0mfit\u001b[0m\u001b[0;34m(\u001b[0m\u001b[0mXt\u001b[0m\u001b[0;34m,\u001b[0m \u001b[0my\u001b[0m\u001b[0;34m,\u001b[0m \u001b[0;34m**\u001b[0m\u001b[0mfit_params_last_step\u001b[0m\u001b[0;34m)\u001b[0m\u001b[0;34m\u001b[0m\u001b[0;34m\u001b[0m\u001b[0m\n\u001b[0m\u001b[1;32m    395\u001b[0m \u001b[0;34m\u001b[0m\u001b[0m\n\u001b[1;32m    396\u001b[0m         \u001b[0;32mreturn\u001b[0m \u001b[0mself\u001b[0m\u001b[0;34m\u001b[0m\u001b[0;34m\u001b[0m\u001b[0m\n",
            "\u001b[0;32m/usr/local/lib/python3.7/dist-packages/sklearn/linear_model/_logistic.py\u001b[0m in \u001b[0;36mfit\u001b[0;34m(self, X, y, sample_weight)\u001b[0m\n\u001b[1;32m   1612\u001b[0m                 \u001b[0msample_weight\u001b[0m\u001b[0;34m=\u001b[0m\u001b[0msample_weight\u001b[0m\u001b[0;34m,\u001b[0m\u001b[0;34m\u001b[0m\u001b[0;34m\u001b[0m\u001b[0m\n\u001b[1;32m   1613\u001b[0m             )\n\u001b[0;32m-> 1614\u001b[0;31m             \u001b[0;32mfor\u001b[0m \u001b[0mclass_\u001b[0m\u001b[0;34m,\u001b[0m \u001b[0mwarm_start_coef_\u001b[0m \u001b[0;32min\u001b[0m \u001b[0mzip\u001b[0m\u001b[0;34m(\u001b[0m\u001b[0mclasses_\u001b[0m\u001b[0;34m,\u001b[0m \u001b[0mwarm_start_coef\u001b[0m\u001b[0;34m)\u001b[0m\u001b[0;34m\u001b[0m\u001b[0;34m\u001b[0m\u001b[0m\n\u001b[0m\u001b[1;32m   1615\u001b[0m         )\n\u001b[1;32m   1616\u001b[0m \u001b[0;34m\u001b[0m\u001b[0m\n",
            "\u001b[0;32m/usr/local/lib/python3.7/dist-packages/joblib/parallel.py\u001b[0m in \u001b[0;36m__call__\u001b[0;34m(self, iterable)\u001b[0m\n\u001b[1;32m   1041\u001b[0m             \u001b[0;31m# remaining jobs.\u001b[0m\u001b[0;34m\u001b[0m\u001b[0;34m\u001b[0m\u001b[0;34m\u001b[0m\u001b[0m\n\u001b[1;32m   1042\u001b[0m             \u001b[0mself\u001b[0m\u001b[0;34m.\u001b[0m\u001b[0m_iterating\u001b[0m \u001b[0;34m=\u001b[0m \u001b[0;32mFalse\u001b[0m\u001b[0;34m\u001b[0m\u001b[0;34m\u001b[0m\u001b[0m\n\u001b[0;32m-> 1043\u001b[0;31m             \u001b[0;32mif\u001b[0m \u001b[0mself\u001b[0m\u001b[0;34m.\u001b[0m\u001b[0mdispatch_one_batch\u001b[0m\u001b[0;34m(\u001b[0m\u001b[0miterator\u001b[0m\u001b[0;34m)\u001b[0m\u001b[0;34m:\u001b[0m\u001b[0;34m\u001b[0m\u001b[0;34m\u001b[0m\u001b[0m\n\u001b[0m\u001b[1;32m   1044\u001b[0m                 \u001b[0mself\u001b[0m\u001b[0;34m.\u001b[0m\u001b[0m_iterating\u001b[0m \u001b[0;34m=\u001b[0m \u001b[0mself\u001b[0m\u001b[0;34m.\u001b[0m\u001b[0m_original_iterator\u001b[0m \u001b[0;32mis\u001b[0m \u001b[0;32mnot\u001b[0m \u001b[0;32mNone\u001b[0m\u001b[0;34m\u001b[0m\u001b[0;34m\u001b[0m\u001b[0m\n\u001b[1;32m   1045\u001b[0m \u001b[0;34m\u001b[0m\u001b[0m\n",
            "\u001b[0;32m/usr/local/lib/python3.7/dist-packages/joblib/parallel.py\u001b[0m in \u001b[0;36mdispatch_one_batch\u001b[0;34m(self, iterator)\u001b[0m\n\u001b[1;32m    859\u001b[0m                 \u001b[0;32mreturn\u001b[0m \u001b[0;32mFalse\u001b[0m\u001b[0;34m\u001b[0m\u001b[0;34m\u001b[0m\u001b[0m\n\u001b[1;32m    860\u001b[0m             \u001b[0;32melse\u001b[0m\u001b[0;34m:\u001b[0m\u001b[0;34m\u001b[0m\u001b[0;34m\u001b[0m\u001b[0m\n\u001b[0;32m--> 861\u001b[0;31m                 \u001b[0mself\u001b[0m\u001b[0;34m.\u001b[0m\u001b[0m_dispatch\u001b[0m\u001b[0;34m(\u001b[0m\u001b[0mtasks\u001b[0m\u001b[0;34m)\u001b[0m\u001b[0;34m\u001b[0m\u001b[0;34m\u001b[0m\u001b[0m\n\u001b[0m\u001b[1;32m    862\u001b[0m                 \u001b[0;32mreturn\u001b[0m \u001b[0;32mTrue\u001b[0m\u001b[0;34m\u001b[0m\u001b[0;34m\u001b[0m\u001b[0m\n\u001b[1;32m    863\u001b[0m \u001b[0;34m\u001b[0m\u001b[0m\n",
            "\u001b[0;32m/usr/local/lib/python3.7/dist-packages/joblib/parallel.py\u001b[0m in \u001b[0;36m_dispatch\u001b[0;34m(self, batch)\u001b[0m\n\u001b[1;32m    777\u001b[0m         \u001b[0;32mwith\u001b[0m \u001b[0mself\u001b[0m\u001b[0;34m.\u001b[0m\u001b[0m_lock\u001b[0m\u001b[0;34m:\u001b[0m\u001b[0;34m\u001b[0m\u001b[0;34m\u001b[0m\u001b[0m\n\u001b[1;32m    778\u001b[0m             \u001b[0mjob_idx\u001b[0m \u001b[0;34m=\u001b[0m \u001b[0mlen\u001b[0m\u001b[0;34m(\u001b[0m\u001b[0mself\u001b[0m\u001b[0;34m.\u001b[0m\u001b[0m_jobs\u001b[0m\u001b[0;34m)\u001b[0m\u001b[0;34m\u001b[0m\u001b[0;34m\u001b[0m\u001b[0m\n\u001b[0;32m--> 779\u001b[0;31m             \u001b[0mjob\u001b[0m \u001b[0;34m=\u001b[0m \u001b[0mself\u001b[0m\u001b[0;34m.\u001b[0m\u001b[0m_backend\u001b[0m\u001b[0;34m.\u001b[0m\u001b[0mapply_async\u001b[0m\u001b[0;34m(\u001b[0m\u001b[0mbatch\u001b[0m\u001b[0;34m,\u001b[0m \u001b[0mcallback\u001b[0m\u001b[0;34m=\u001b[0m\u001b[0mcb\u001b[0m\u001b[0;34m)\u001b[0m\u001b[0;34m\u001b[0m\u001b[0;34m\u001b[0m\u001b[0m\n\u001b[0m\u001b[1;32m    780\u001b[0m             \u001b[0;31m# A job can complete so quickly than its callback is\u001b[0m\u001b[0;34m\u001b[0m\u001b[0;34m\u001b[0m\u001b[0;34m\u001b[0m\u001b[0m\n\u001b[1;32m    781\u001b[0m             \u001b[0;31m# called before we get here, causing self._jobs to\u001b[0m\u001b[0;34m\u001b[0m\u001b[0;34m\u001b[0m\u001b[0;34m\u001b[0m\u001b[0m\n",
            "\u001b[0;32m/usr/local/lib/python3.7/dist-packages/joblib/_parallel_backends.py\u001b[0m in \u001b[0;36mapply_async\u001b[0;34m(self, func, callback)\u001b[0m\n\u001b[1;32m    206\u001b[0m     \u001b[0;32mdef\u001b[0m \u001b[0mapply_async\u001b[0m\u001b[0;34m(\u001b[0m\u001b[0mself\u001b[0m\u001b[0;34m,\u001b[0m \u001b[0mfunc\u001b[0m\u001b[0;34m,\u001b[0m \u001b[0mcallback\u001b[0m\u001b[0;34m=\u001b[0m\u001b[0;32mNone\u001b[0m\u001b[0;34m)\u001b[0m\u001b[0;34m:\u001b[0m\u001b[0;34m\u001b[0m\u001b[0;34m\u001b[0m\u001b[0m\n\u001b[1;32m    207\u001b[0m         \u001b[0;34m\"\"\"Schedule a func to be run\"\"\"\u001b[0m\u001b[0;34m\u001b[0m\u001b[0;34m\u001b[0m\u001b[0m\n\u001b[0;32m--> 208\u001b[0;31m         \u001b[0mresult\u001b[0m \u001b[0;34m=\u001b[0m \u001b[0mImmediateResult\u001b[0m\u001b[0;34m(\u001b[0m\u001b[0mfunc\u001b[0m\u001b[0;34m)\u001b[0m\u001b[0;34m\u001b[0m\u001b[0;34m\u001b[0m\u001b[0m\n\u001b[0m\u001b[1;32m    209\u001b[0m         \u001b[0;32mif\u001b[0m \u001b[0mcallback\u001b[0m\u001b[0;34m:\u001b[0m\u001b[0;34m\u001b[0m\u001b[0;34m\u001b[0m\u001b[0m\n\u001b[1;32m    210\u001b[0m             \u001b[0mcallback\u001b[0m\u001b[0;34m(\u001b[0m\u001b[0mresult\u001b[0m\u001b[0;34m)\u001b[0m\u001b[0;34m\u001b[0m\u001b[0;34m\u001b[0m\u001b[0m\n",
            "\u001b[0;32m/usr/local/lib/python3.7/dist-packages/joblib/_parallel_backends.py\u001b[0m in \u001b[0;36m__init__\u001b[0;34m(self, batch)\u001b[0m\n\u001b[1;32m    570\u001b[0m         \u001b[0;31m# Don't delay the application, to avoid keeping the input\u001b[0m\u001b[0;34m\u001b[0m\u001b[0;34m\u001b[0m\u001b[0;34m\u001b[0m\u001b[0m\n\u001b[1;32m    571\u001b[0m         \u001b[0;31m# arguments in memory\u001b[0m\u001b[0;34m\u001b[0m\u001b[0;34m\u001b[0m\u001b[0;34m\u001b[0m\u001b[0m\n\u001b[0;32m--> 572\u001b[0;31m         \u001b[0mself\u001b[0m\u001b[0;34m.\u001b[0m\u001b[0mresults\u001b[0m \u001b[0;34m=\u001b[0m \u001b[0mbatch\u001b[0m\u001b[0;34m(\u001b[0m\u001b[0;34m)\u001b[0m\u001b[0;34m\u001b[0m\u001b[0;34m\u001b[0m\u001b[0m\n\u001b[0m\u001b[1;32m    573\u001b[0m \u001b[0;34m\u001b[0m\u001b[0m\n\u001b[1;32m    574\u001b[0m     \u001b[0;32mdef\u001b[0m \u001b[0mget\u001b[0m\u001b[0;34m(\u001b[0m\u001b[0mself\u001b[0m\u001b[0;34m)\u001b[0m\u001b[0;34m:\u001b[0m\u001b[0;34m\u001b[0m\u001b[0;34m\u001b[0m\u001b[0m\n",
            "\u001b[0;32m/usr/local/lib/python3.7/dist-packages/joblib/parallel.py\u001b[0m in \u001b[0;36m__call__\u001b[0;34m(self)\u001b[0m\n\u001b[1;32m    261\u001b[0m         \u001b[0;32mwith\u001b[0m \u001b[0mparallel_backend\u001b[0m\u001b[0;34m(\u001b[0m\u001b[0mself\u001b[0m\u001b[0;34m.\u001b[0m\u001b[0m_backend\u001b[0m\u001b[0;34m,\u001b[0m \u001b[0mn_jobs\u001b[0m\u001b[0;34m=\u001b[0m\u001b[0mself\u001b[0m\u001b[0;34m.\u001b[0m\u001b[0m_n_jobs\u001b[0m\u001b[0;34m)\u001b[0m\u001b[0;34m:\u001b[0m\u001b[0;34m\u001b[0m\u001b[0;34m\u001b[0m\u001b[0m\n\u001b[1;32m    262\u001b[0m             return [func(*args, **kwargs)\n\u001b[0;32m--> 263\u001b[0;31m                     for func, args, kwargs in self.items]\n\u001b[0m\u001b[1;32m    264\u001b[0m \u001b[0;34m\u001b[0m\u001b[0m\n\u001b[1;32m    265\u001b[0m     \u001b[0;32mdef\u001b[0m \u001b[0m__reduce__\u001b[0m\u001b[0;34m(\u001b[0m\u001b[0mself\u001b[0m\u001b[0;34m)\u001b[0m\u001b[0;34m:\u001b[0m\u001b[0;34m\u001b[0m\u001b[0;34m\u001b[0m\u001b[0m\n",
            "\u001b[0;32m/usr/local/lib/python3.7/dist-packages/joblib/parallel.py\u001b[0m in \u001b[0;36m<listcomp>\u001b[0;34m(.0)\u001b[0m\n\u001b[1;32m    261\u001b[0m         \u001b[0;32mwith\u001b[0m \u001b[0mparallel_backend\u001b[0m\u001b[0;34m(\u001b[0m\u001b[0mself\u001b[0m\u001b[0;34m.\u001b[0m\u001b[0m_backend\u001b[0m\u001b[0;34m,\u001b[0m \u001b[0mn_jobs\u001b[0m\u001b[0;34m=\u001b[0m\u001b[0mself\u001b[0m\u001b[0;34m.\u001b[0m\u001b[0m_n_jobs\u001b[0m\u001b[0;34m)\u001b[0m\u001b[0;34m:\u001b[0m\u001b[0;34m\u001b[0m\u001b[0;34m\u001b[0m\u001b[0m\n\u001b[1;32m    262\u001b[0m             return [func(*args, **kwargs)\n\u001b[0;32m--> 263\u001b[0;31m                     for func, args, kwargs in self.items]\n\u001b[0m\u001b[1;32m    264\u001b[0m \u001b[0;34m\u001b[0m\u001b[0m\n\u001b[1;32m    265\u001b[0m     \u001b[0;32mdef\u001b[0m \u001b[0m__reduce__\u001b[0m\u001b[0;34m(\u001b[0m\u001b[0mself\u001b[0m\u001b[0;34m)\u001b[0m\u001b[0;34m:\u001b[0m\u001b[0;34m\u001b[0m\u001b[0;34m\u001b[0m\u001b[0m\n",
            "\u001b[0;32m/usr/local/lib/python3.7/dist-packages/sklearn/utils/fixes.py\u001b[0m in \u001b[0;36m__call__\u001b[0;34m(self, *args, **kwargs)\u001b[0m\n\u001b[1;32m    214\u001b[0m     \u001b[0;32mdef\u001b[0m \u001b[0m__call__\u001b[0m\u001b[0;34m(\u001b[0m\u001b[0mself\u001b[0m\u001b[0;34m,\u001b[0m \u001b[0;34m*\u001b[0m\u001b[0margs\u001b[0m\u001b[0;34m,\u001b[0m \u001b[0;34m**\u001b[0m\u001b[0mkwargs\u001b[0m\u001b[0;34m)\u001b[0m\u001b[0;34m:\u001b[0m\u001b[0;34m\u001b[0m\u001b[0;34m\u001b[0m\u001b[0m\n\u001b[1;32m    215\u001b[0m         \u001b[0;32mwith\u001b[0m \u001b[0mconfig_context\u001b[0m\u001b[0;34m(\u001b[0m\u001b[0;34m**\u001b[0m\u001b[0mself\u001b[0m\u001b[0;34m.\u001b[0m\u001b[0mconfig\u001b[0m\u001b[0;34m)\u001b[0m\u001b[0;34m:\u001b[0m\u001b[0;34m\u001b[0m\u001b[0;34m\u001b[0m\u001b[0m\n\u001b[0;32m--> 216\u001b[0;31m             \u001b[0;32mreturn\u001b[0m \u001b[0mself\u001b[0m\u001b[0;34m.\u001b[0m\u001b[0mfunction\u001b[0m\u001b[0;34m(\u001b[0m\u001b[0;34m*\u001b[0m\u001b[0margs\u001b[0m\u001b[0;34m,\u001b[0m \u001b[0;34m**\u001b[0m\u001b[0mkwargs\u001b[0m\u001b[0;34m)\u001b[0m\u001b[0;34m\u001b[0m\u001b[0;34m\u001b[0m\u001b[0m\n\u001b[0m\u001b[1;32m    217\u001b[0m \u001b[0;34m\u001b[0m\u001b[0m\n\u001b[1;32m    218\u001b[0m \u001b[0;34m\u001b[0m\u001b[0m\n",
            "\u001b[0;32m/usr/local/lib/python3.7/dist-packages/sklearn/linear_model/_logistic.py\u001b[0m in \u001b[0;36m_logistic_regression_path\u001b[0;34m(X, y, pos_class, Cs, fit_intercept, max_iter, tol, verbose, solver, coef, class_weight, dual, penalty, intercept_scaling, multi_class, random_state, check_input, max_squared_sum, sample_weight, l1_ratio)\u001b[0m\n\u001b[1;32m    876\u001b[0m                 \u001b[0mmax_squared_sum\u001b[0m\u001b[0;34m,\u001b[0m\u001b[0;34m\u001b[0m\u001b[0;34m\u001b[0m\u001b[0m\n\u001b[1;32m    877\u001b[0m                 \u001b[0mwarm_start_sag\u001b[0m\u001b[0;34m,\u001b[0m\u001b[0;34m\u001b[0m\u001b[0;34m\u001b[0m\u001b[0m\n\u001b[0;32m--> 878\u001b[0;31m                 \u001b[0mis_saga\u001b[0m\u001b[0;34m=\u001b[0m\u001b[0;34m(\u001b[0m\u001b[0msolver\u001b[0m \u001b[0;34m==\u001b[0m \u001b[0;34m\"saga\"\u001b[0m\u001b[0;34m)\u001b[0m\u001b[0;34m,\u001b[0m\u001b[0;34m\u001b[0m\u001b[0;34m\u001b[0m\u001b[0m\n\u001b[0m\u001b[1;32m    879\u001b[0m             )\n\u001b[1;32m    880\u001b[0m \u001b[0;34m\u001b[0m\u001b[0m\n",
            "\u001b[0;32m/usr/local/lib/python3.7/dist-packages/sklearn/linear_model/_sag.py\u001b[0m in \u001b[0;36msag_solver\u001b[0;34m(X, y, sample_weight, loss, alpha, beta, max_iter, tol, verbose, random_state, check_input, max_squared_sum, warm_start_mem, is_saga)\u001b[0m\n\u001b[1;32m    346\u001b[0m         \u001b[0mintercept_decay\u001b[0m\u001b[0;34m,\u001b[0m\u001b[0;34m\u001b[0m\u001b[0;34m\u001b[0m\u001b[0m\n\u001b[1;32m    347\u001b[0m         \u001b[0mis_saga\u001b[0m\u001b[0;34m,\u001b[0m\u001b[0;34m\u001b[0m\u001b[0;34m\u001b[0m\u001b[0m\n\u001b[0;32m--> 348\u001b[0;31m         \u001b[0mverbose\u001b[0m\u001b[0;34m,\u001b[0m\u001b[0;34m\u001b[0m\u001b[0;34m\u001b[0m\u001b[0m\n\u001b[0m\u001b[1;32m    349\u001b[0m     )\n\u001b[1;32m    350\u001b[0m \u001b[0;34m\u001b[0m\u001b[0m\n",
            "\u001b[0;31mKeyboardInterrupt\u001b[0m: "
          ]
        }
      ]
    },
    {
      "cell_type": "markdown",
      "source": [
        "Prendiamo i risultati della grid search e li ordiniamo per score."
      ],
      "metadata": {
        "id": "pZsyO6nHhwUw"
      }
    },
    {
      "cell_type": "code",
      "source": [
        "DataFrame(gs.cv_results_).sort_values(\"rank_test_score\").head(10)"
      ],
      "metadata": {
        "id": "AAAVWQkaIeNR"
      },
      "execution_count": null,
      "outputs": []
    },
    {
      "cell_type": "markdown",
      "source": [
        "Il miglior modello trovato è qullo con peso di regolazzazione 10 e grado 5 e nessun bilanciamento sui pesi delle classi. Possiamo osservare uno score di:"
      ],
      "metadata": {
        "id": "lEO7zl5rh-je"
      }
    },
    {
      "cell_type": "code",
      "source": [
        "gs.score(X_val,y_val)"
      ],
      "metadata": {
        "id": "s5MHdFYRLE0H"
      },
      "execution_count": null,
      "outputs": []
    },
    {
      "cell_type": "markdown",
      "source": [
        "Essendo in una situazione multiclasse in cui abbiamo adottato il metodo one vs all per la classificazione, sono stati individuati sei iperpiani con rispettivi coefficenti:"
      ],
      "metadata": {
        "id": "qbEsH_Ujn9mF"
      }
    },
    {
      "cell_type": "code",
      "source": [
        "gs.best_estimator_.named_steps[\"classifier\"].coef_"
      ],
      "metadata": {
        "id": "ZUni9frioFds"
      },
      "execution_count": null,
      "outputs": []
    },
    {
      "cell_type": "markdown",
      "source": [
        "Effettuando la media di questi coefficenti possiamo verdere che ci sono 2478 features azzerate in seguito alla regolazzazione."
      ],
      "metadata": {
        "id": "Esi_whrRoP3a"
      }
    },
    {
      "cell_type": "code",
      "source": [
        "(DataFrame(gs.best_estimator_.named_steps[\"classifier\"].coef_,columns=gs.best_estimator_.named_steps[\"poly\"].get_feature_names_out()).mean() == 0 ).value_counts()"
      ],
      "metadata": {
        "id": "8z3rX4EgE8io"
      },
      "execution_count": null,
      "outputs": []
    },
    {
      "cell_type": "markdown",
      "source": [
        "Osservando le prime 10 features ordinate per importanza dopo la regolarizzazione possiamo vedere che i primi valori sono di features non lineari."
      ],
      "metadata": {
        "id": "hYRDTCBfqFhT"
      }
    },
    {
      "cell_type": "code",
      "source": [
        "DataFrame(gs.best_estimator_.named_steps[\"classifier\"].coef_,columns=gs.best_estimator_.named_steps[\"poly\"].get_feature_names_out()).mean().sort_values(ascending=False).head(10)"
      ],
      "metadata": {
        "id": "xgUxgzAUorUh"
      },
      "execution_count": null,
      "outputs": []
    },
    {
      "cell_type": "code",
      "source": [
        "from sklearn.metrics import confusion_matrix\n",
        "y_pred = gs.predict(X_val)\n",
        "cm = confusion_matrix(y_val,y_pred)\n",
        "DataFrame(cm,index=gs.classes_,columns=gs.classes_)"
      ],
      "metadata": {
        "id": "-YUHMSXlVbU1"
      },
      "execution_count": null,
      "outputs": []
    },
    {
      "cell_type": "code",
      "source": [
        "from sklearn.metrics import f1_score\n",
        "f1_score(y_val,y_pred,average=\"weighted\")"
      ],
      "metadata": {
        "id": "SB2GaJE6Z0oS"
      },
      "execution_count": null,
      "outputs": []
    },
    {
      "cell_type": "markdown",
      "source": [
        "altri modelli\n",
        "mancano anche tutte le varie accuratezze e i discorsi e i grafici scatter per vedere le classi."
      ],
      "metadata": {
        "id": "AJhSsCxkNIWi"
      }
    },
    {
      "cell_type": "markdown",
      "source": [
        "# Oversampling"
      ],
      "metadata": {
        "id": "amlmLnDENL-C"
      }
    },
    {
      "cell_type": "markdown",
      "source": [
        "Come possiamo vedere le classi sono molto sbilanciate."
      ],
      "metadata": {
        "id": "Ax7gdgytwkFP"
      }
    },
    {
      "cell_type": "code",
      "source": [
        "Y.value_counts()"
      ],
      "metadata": {
        "id": "Hqo9Eu-2wcoD"
      },
      "execution_count": null,
      "outputs": []
    },
    {
      "cell_type": "markdown",
      "source": [
        "procediamo con oversampling dei dati"
      ],
      "metadata": {
        "id": "lmzhF3xYwu5l"
      }
    },
    {
      "cell_type": "code",
      "source": [
        "from imblearn.over_sampling import SMOTE\n",
        "\n",
        "sm = SMOTE(random_state=42,sampling_strategy=\"not majority\")\n",
        "Xsm,Ysm = sm.fit_resample(X,Y)\n"
      ],
      "metadata": {
        "id": "2plhqvnANOZE"
      },
      "execution_count": null,
      "outputs": []
    },
    {
      "cell_type": "code",
      "source": [
        "Ysm.value_counts()"
      ],
      "metadata": {
        "id": "cxBgT2S5PO8Z"
      },
      "execution_count": null,
      "outputs": []
    },
    {
      "cell_type": "code",
      "source": [
        "Xsm_train, Xsm_val, ysm_train, ysm_val = train_test_split(Xsm,Ysm,test_size=1/3,random_state=42)\n"
      ],
      "metadata": {
        "id": "i0r1Um0CeTGd"
      },
      "execution_count": null,
      "outputs": []
    },
    {
      "cell_type": "code",
      "source": [
        "bestModel = gs.best_estimator_\n",
        "bestModel.fit(Xsm_train,ysm_train)"
      ],
      "metadata": {
        "id": "Z_6LZhDtTxIH"
      },
      "execution_count": null,
      "outputs": []
    },
    {
      "cell_type": "code",
      "source": [
        "bestModel.score(Xsm_val,ysm_val)"
      ],
      "metadata": {
        "id": "_yCaizlje0K3"
      },
      "execution_count": null,
      "outputs": []
    },
    {
      "cell_type": "code",
      "source": [
        "f1_score(ysm_val,bestModel.predict(Xsm_val),average=\"weighted\")"
      ],
      "metadata": {
        "id": "uE94Fd80ffYr"
      },
      "execution_count": null,
      "outputs": []
    },
    {
      "cell_type": "markdown",
      "source": [
        "Possiamo vedere che il modello è leggermente migliorato."
      ],
      "metadata": {
        "id": "1ZeB_9ATxAHq"
      }
    },
    {
      "cell_type": "code",
      "source": [
        "from sklearn.metrics import accuracy_score\n",
        "accuracy_score(ysm_val,bestModel.predict(Xsm_val))"
      ],
      "metadata": {
        "id": "PUCrVHJceqiv"
      },
      "execution_count": null,
      "outputs": []
    },
    {
      "cell_type": "markdown",
      "source": [
        "# alberi decisionali"
      ],
      "metadata": {
        "id": "C5ymWAG1gJQm"
      }
    },
    {
      "cell_type": "code",
      "source": [
        "from sklearn.tree import DecisionTreeClassifier\n",
        "model = DecisionTreeClassifier()\n",
        "model.fit(Xsm_train,ysm_train)\n",
        "model.score(Xsm_val,ysm_val)"
      ],
      "metadata": {
        "id": "xxemVbXgjHqd"
      },
      "execution_count": null,
      "outputs": []
    },
    {
      "cell_type": "code",
      "source": [
        "accuracy_score(ysm_val,model.predict(Xsm_val))"
      ],
      "metadata": {
        "id": "Zqyw3a0sj4-d"
      },
      "execution_count": null,
      "outputs": []
    },
    {
      "cell_type": "code",
      "source": [
        "f1_score(ysm_val,model.predict(Xsm_val),average=\"weighted\")"
      ],
      "metadata": {
        "id": "s5A8eRgIkFhV"
      },
      "execution_count": null,
      "outputs": []
    },
    {
      "cell_type": "markdown",
      "source": [
        "# Support Vector Machine"
      ],
      "metadata": {
        "id": "Wd6tDk0QxPQH"
      }
    },
    {
      "cell_type": "code",
      "source": [
        "from sklearn.svm import SVC\n",
        "StratifiedKFold(3,shuffle=True, random_state=42)\n",
        "model = SVC(kernel=\"poly\")\n",
        "grid2 = {\n",
        "    \"C\": [ 0.01,0.1,1,10],\n",
        "    \"degree\" : [1,3,5,10]\n",
        "}\n",
        "gs2 = GridSearchCV(model,grid2,cv=skf,return_train_score=True)"
      ],
      "metadata": {
        "id": "6QpXf3N0kLVF"
      },
      "execution_count": null,
      "outputs": []
    },
    {
      "cell_type": "code",
      "source": [
        "gs2.fit(Xsm_train,ysm_train)"
      ],
      "metadata": {
        "id": "k11A_Kkgl7sO"
      },
      "execution_count": null,
      "outputs": []
    },
    {
      "cell_type": "code",
      "source": [
        "DataFrame(gs2.cv_results_).sort_values(\"rank_test_score\").head(3)"
      ],
      "metadata": {
        "id": "zvyGv189mAGa"
      },
      "execution_count": null,
      "outputs": []
    },
    {
      "cell_type": "code",
      "source": [
        "gs2.score(Xsm_val,ysm_val)"
      ],
      "metadata": {
        "id": "zsJ2XRUImQqa"
      },
      "execution_count": null,
      "outputs": []
    },
    {
      "cell_type": "markdown",
      "source": [
        "# KNN"
      ],
      "metadata": {
        "id": "bzBn7_UznM9w"
      }
    },
    {
      "cell_type": "code",
      "source": [
        "from sklearn.neighbors import KNeighborsClassifier\n",
        "knn = KNeighborsClassifier(n_neighbors = 5)\n",
        "knn.fit(Xsm_train,ysm_train)"
      ],
      "metadata": {
        "id": "gacbZKHwnQm2"
      },
      "execution_count": null,
      "outputs": []
    },
    {
      "cell_type": "code",
      "source": [
        "knn.score(Xsm_val,ysm_val)"
      ],
      "metadata": {
        "id": "_WCa0KKAnVd9"
      },
      "execution_count": null,
      "outputs": []
    },
    {
      "cell_type": "markdown",
      "source": [
        "# Perceptron"
      ],
      "metadata": {
        "id": "I046UPE5x7EZ"
      }
    },
    {
      "cell_type": "code",
      "source": [
        "from scipy.sparse.construct import random\n",
        "from sklearn.linear_model import Perceptron\n",
        "model= Perceptron(random_state=42)\n",
        "model.fit(Xsm_train,ysm_train)\n"
      ],
      "metadata": {
        "id": "q-rBNxvqx6k_"
      },
      "execution_count": null,
      "outputs": []
    },
    {
      "cell_type": "code",
      "source": [
        "model.score(Xsm_val,ysm_val)"
      ],
      "metadata": {
        "id": "fVpcxhEZyn8z"
      },
      "execution_count": null,
      "outputs": []
    },
    {
      "cell_type": "markdown",
      "source": [
        "# Reti Neurali"
      ],
      "metadata": {
        "id": "lfiJuYSjy6j6"
      }
    },
    {
      "cell_type": "code",
      "source": [
        "from tensorflow.keras.wrappers.scikit_learn import KerasClassifier\n",
        "from keras import Sequential\n",
        "from tensorflow.keras.layers import Dense\n",
        "import keras\n"
      ],
      "metadata": {
        "id": "JLAABlpczCVp"
      },
      "execution_count": null,
      "outputs": []
    },
    {
      "cell_type": "code",
      "source": [
        "def getModel(nodes1,nodes2,nodes3):\n",
        "  model = Sequential([\n",
        "                 Dense(nodes1,activation='relu',input_dim=Xsm_train.shape[1]),\n",
        "                 Dense(nodes2,activation=\"softmax\"),\n",
        "                 Dense(nodes3,activation=\"softmax\"),\n",
        "                 Dense(1)     \n",
        "  ])\n",
        "  model.compile(optimizer=\"adam\",loss=\"categorical_crossentropy\",metrics=[\"accuracy\"])\n",
        "  return model"
      ],
      "metadata": {
        "id": "1pK-mz4Q2Coq"
      },
      "execution_count": null,
      "outputs": []
    },
    {
      "cell_type": "code",
      "source": [
        "model = KerasClassifier(build_fn=getModel)"
      ],
      "metadata": {
        "id": "V8lspeIK1aQF"
      },
      "execution_count": null,
      "outputs": []
    },
    {
      "cell_type": "code",
      "source": [
        "grid3 = {\n",
        "    \"nodes1\" : [8],\n",
        "    \"nodes2\" : [3],\n",
        "    \"nodes3\" : [3],\n",
        "    \"batch_size\" : [5],\n",
        "    \"epochs\": [200]\n",
        "}"
      ],
      "metadata": {
        "id": "u7i8Qx-X7Qxh"
      },
      "execution_count": null,
      "outputs": []
    },
    {
      "cell_type": "code",
      "source": [
        "gsnn = GridSearchCV(model,grid3,return_train_score=True,cv=skf)"
      ],
      "metadata": {
        "id": "wh9ASeDW7Efs"
      },
      "execution_count": null,
      "outputs": []
    },
    {
      "cell_type": "code",
      "source": [
        "gsnn.fit(Xsm_train,ysm_train[:,None])"
      ],
      "metadata": {
        "id": "qLocnADX8QYd"
      },
      "execution_count": null,
      "outputs": []
    },
    {
      "cell_type": "code",
      "source": [
        "gsnn.score(Xsm_val,ysm_val[:,None])"
      ],
      "metadata": {
        "id": "wvd14eXmBLgI"
      },
      "execution_count": null,
      "outputs": []
    },
    {
      "cell_type": "code",
      "source": [
        ""
      ],
      "metadata": {
        "id": "b9UdBmvj8f1F"
      },
      "execution_count": null,
      "outputs": []
    }
  ]
}