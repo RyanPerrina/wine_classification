{
  "nbformat": 4,
  "nbformat_minor": 0,
  "metadata": {
    "colab": {
      "name": "Untitled1.ipynb",
      "provenance": [],
      "collapsed_sections": [],
      "include_colab_link": true
    },
    "kernelspec": {
      "name": "python3",
      "display_name": "Python 3"
    },
    "language_info": {
      "name": "python"
    }
  },
  "cells": [
    {
      "cell_type": "markdown",
      "metadata": {
        "id": "view-in-github",
        "colab_type": "text"
      },
      "source": [
        "<a href=\"https://colab.research.google.com/github/RyanPerrina/wine_classification/blob/main/wine_classification.ipynb\" target=\"_parent\"><img src=\"https://colab.research.google.com/assets/colab-badge.svg\" alt=\"Open In Colab\"/></a>"
      ]
    },
    {
      "cell_type": "markdown",
      "source": [
        "# Progetto Programmazione di Applicazioni Data Intensive\n",
        "# Ryan Perrina e Manuel Luzietti"
      ],
      "metadata": {
        "id": "MKkp6qrGhqVY"
      }
    },
    {
      "cell_type": "code",
      "execution_count": 3,
      "metadata": {
        "id": "_qSuq7Pau5Hx"
      },
      "outputs": [],
      "source": [
        "import numpy as np \n",
        "import pandas as pd\n",
        "import matplotlib.pyplot as plt\n"
      ]
    },
    {
      "cell_type": "markdown",
      "source": [
        "# Descrizione del problema\n",
        "Il dataset in questione riguarda le varianti di vino rosso portoghese \"Vinho Verde\". Il dataset descrive la qualità del vino in relazione ai componenti chimici presenti. L'obiettivo del progetto è predire la qualità del vino dai \n",
        "suoi componenti ovvero predire una variabile discreta non binaria."
      ],
      "metadata": {
        "id": "b_KGNXqaxbjw"
      }
    },
    {
      "cell_type": "code",
      "source": [
        "data = pd.read_csv(\"WineQT.csv\")"
      ],
      "metadata": {
        "id": "0QQD-wzJyblh"
      },
      "execution_count": 4,
      "outputs": []
    },
    {
      "cell_type": "markdown",
      "source": [
        "# Comprensione dati"
      ],
      "metadata": {
        "id": "dmtKuH5C2j4f"
      }
    },
    {
      "cell_type": "code",
      "source": [
        "data.head()"
      ],
      "metadata": {
        "colab": {
          "base_uri": "https://localhost:8080/",
          "height": 206
        },
        "id": "YY_1zhYO2qYy",
        "outputId": "75fe89b7-6bfc-4870-e5c3-c65f7d0e8280"
      },
      "execution_count": 5,
      "outputs": [
        {
          "output_type": "execute_result",
          "data": {
            "text/plain": [
              "   fixed acidity  volatile acidity  citric acid  residual sugar  chlorides  \\\n",
              "0            7.4              0.70         0.00             1.9      0.076   \n",
              "1            7.8              0.88         0.00             2.6      0.098   \n",
              "2            7.8              0.76         0.04             2.3      0.092   \n",
              "3           11.2              0.28         0.56             1.9      0.075   \n",
              "4            7.4              0.70         0.00             1.9      0.076   \n",
              "\n",
              "   free sulfur dioxide  total sulfur dioxide  density    pH  sulphates  \\\n",
              "0                 11.0                  34.0   0.9978  3.51       0.56   \n",
              "1                 25.0                  67.0   0.9968  3.20       0.68   \n",
              "2                 15.0                  54.0   0.9970  3.26       0.65   \n",
              "3                 17.0                  60.0   0.9980  3.16       0.58   \n",
              "4                 11.0                  34.0   0.9978  3.51       0.56   \n",
              "\n",
              "   alcohol  quality  Id  \n",
              "0      9.4        5   0  \n",
              "1      9.8        5   1  \n",
              "2      9.8        5   2  \n",
              "3      9.8        6   3  \n",
              "4      9.4        5   4  "
            ],
            "text/html": [
              "\n",
              "  <div id=\"df-6700aab8-820a-4adb-8b1e-8c388e47f2da\">\n",
              "    <div class=\"colab-df-container\">\n",
              "      <div>\n",
              "<style scoped>\n",
              "    .dataframe tbody tr th:only-of-type {\n",
              "        vertical-align: middle;\n",
              "    }\n",
              "\n",
              "    .dataframe tbody tr th {\n",
              "        vertical-align: top;\n",
              "    }\n",
              "\n",
              "    .dataframe thead th {\n",
              "        text-align: right;\n",
              "    }\n",
              "</style>\n",
              "<table border=\"1\" class=\"dataframe\">\n",
              "  <thead>\n",
              "    <tr style=\"text-align: right;\">\n",
              "      <th></th>\n",
              "      <th>fixed acidity</th>\n",
              "      <th>volatile acidity</th>\n",
              "      <th>citric acid</th>\n",
              "      <th>residual sugar</th>\n",
              "      <th>chlorides</th>\n",
              "      <th>free sulfur dioxide</th>\n",
              "      <th>total sulfur dioxide</th>\n",
              "      <th>density</th>\n",
              "      <th>pH</th>\n",
              "      <th>sulphates</th>\n",
              "      <th>alcohol</th>\n",
              "      <th>quality</th>\n",
              "      <th>Id</th>\n",
              "    </tr>\n",
              "  </thead>\n",
              "  <tbody>\n",
              "    <tr>\n",
              "      <th>0</th>\n",
              "      <td>7.4</td>\n",
              "      <td>0.70</td>\n",
              "      <td>0.00</td>\n",
              "      <td>1.9</td>\n",
              "      <td>0.076</td>\n",
              "      <td>11.0</td>\n",
              "      <td>34.0</td>\n",
              "      <td>0.9978</td>\n",
              "      <td>3.51</td>\n",
              "      <td>0.56</td>\n",
              "      <td>9.4</td>\n",
              "      <td>5</td>\n",
              "      <td>0</td>\n",
              "    </tr>\n",
              "    <tr>\n",
              "      <th>1</th>\n",
              "      <td>7.8</td>\n",
              "      <td>0.88</td>\n",
              "      <td>0.00</td>\n",
              "      <td>2.6</td>\n",
              "      <td>0.098</td>\n",
              "      <td>25.0</td>\n",
              "      <td>67.0</td>\n",
              "      <td>0.9968</td>\n",
              "      <td>3.20</td>\n",
              "      <td>0.68</td>\n",
              "      <td>9.8</td>\n",
              "      <td>5</td>\n",
              "      <td>1</td>\n",
              "    </tr>\n",
              "    <tr>\n",
              "      <th>2</th>\n",
              "      <td>7.8</td>\n",
              "      <td>0.76</td>\n",
              "      <td>0.04</td>\n",
              "      <td>2.3</td>\n",
              "      <td>0.092</td>\n",
              "      <td>15.0</td>\n",
              "      <td>54.0</td>\n",
              "      <td>0.9970</td>\n",
              "      <td>3.26</td>\n",
              "      <td>0.65</td>\n",
              "      <td>9.8</td>\n",
              "      <td>5</td>\n",
              "      <td>2</td>\n",
              "    </tr>\n",
              "    <tr>\n",
              "      <th>3</th>\n",
              "      <td>11.2</td>\n",
              "      <td>0.28</td>\n",
              "      <td>0.56</td>\n",
              "      <td>1.9</td>\n",
              "      <td>0.075</td>\n",
              "      <td>17.0</td>\n",
              "      <td>60.0</td>\n",
              "      <td>0.9980</td>\n",
              "      <td>3.16</td>\n",
              "      <td>0.58</td>\n",
              "      <td>9.8</td>\n",
              "      <td>6</td>\n",
              "      <td>3</td>\n",
              "    </tr>\n",
              "    <tr>\n",
              "      <th>4</th>\n",
              "      <td>7.4</td>\n",
              "      <td>0.70</td>\n",
              "      <td>0.00</td>\n",
              "      <td>1.9</td>\n",
              "      <td>0.076</td>\n",
              "      <td>11.0</td>\n",
              "      <td>34.0</td>\n",
              "      <td>0.9978</td>\n",
              "      <td>3.51</td>\n",
              "      <td>0.56</td>\n",
              "      <td>9.4</td>\n",
              "      <td>5</td>\n",
              "      <td>4</td>\n",
              "    </tr>\n",
              "  </tbody>\n",
              "</table>\n",
              "</div>\n",
              "      <button class=\"colab-df-convert\" onclick=\"convertToInteractive('df-6700aab8-820a-4adb-8b1e-8c388e47f2da')\"\n",
              "              title=\"Convert this dataframe to an interactive table.\"\n",
              "              style=\"display:none;\">\n",
              "        \n",
              "  <svg xmlns=\"http://www.w3.org/2000/svg\" height=\"24px\"viewBox=\"0 0 24 24\"\n",
              "       width=\"24px\">\n",
              "    <path d=\"M0 0h24v24H0V0z\" fill=\"none\"/>\n",
              "    <path d=\"M18.56 5.44l.94 2.06.94-2.06 2.06-.94-2.06-.94-.94-2.06-.94 2.06-2.06.94zm-11 1L8.5 8.5l.94-2.06 2.06-.94-2.06-.94L8.5 2.5l-.94 2.06-2.06.94zm10 10l.94 2.06.94-2.06 2.06-.94-2.06-.94-.94-2.06-.94 2.06-2.06.94z\"/><path d=\"M17.41 7.96l-1.37-1.37c-.4-.4-.92-.59-1.43-.59-.52 0-1.04.2-1.43.59L10.3 9.45l-7.72 7.72c-.78.78-.78 2.05 0 2.83L4 21.41c.39.39.9.59 1.41.59.51 0 1.02-.2 1.41-.59l7.78-7.78 2.81-2.81c.8-.78.8-2.07 0-2.86zM5.41 20L4 18.59l7.72-7.72 1.47 1.35L5.41 20z\"/>\n",
              "  </svg>\n",
              "      </button>\n",
              "      \n",
              "  <style>\n",
              "    .colab-df-container {\n",
              "      display:flex;\n",
              "      flex-wrap:wrap;\n",
              "      gap: 12px;\n",
              "    }\n",
              "\n",
              "    .colab-df-convert {\n",
              "      background-color: #E8F0FE;\n",
              "      border: none;\n",
              "      border-radius: 50%;\n",
              "      cursor: pointer;\n",
              "      display: none;\n",
              "      fill: #1967D2;\n",
              "      height: 32px;\n",
              "      padding: 0 0 0 0;\n",
              "      width: 32px;\n",
              "    }\n",
              "\n",
              "    .colab-df-convert:hover {\n",
              "      background-color: #E2EBFA;\n",
              "      box-shadow: 0px 1px 2px rgba(60, 64, 67, 0.3), 0px 1px 3px 1px rgba(60, 64, 67, 0.15);\n",
              "      fill: #174EA6;\n",
              "    }\n",
              "\n",
              "    [theme=dark] .colab-df-convert {\n",
              "      background-color: #3B4455;\n",
              "      fill: #D2E3FC;\n",
              "    }\n",
              "\n",
              "    [theme=dark] .colab-df-convert:hover {\n",
              "      background-color: #434B5C;\n",
              "      box-shadow: 0px 1px 3px 1px rgba(0, 0, 0, 0.15);\n",
              "      filter: drop-shadow(0px 1px 2px rgba(0, 0, 0, 0.3));\n",
              "      fill: #FFFFFF;\n",
              "    }\n",
              "  </style>\n",
              "\n",
              "      <script>\n",
              "        const buttonEl =\n",
              "          document.querySelector('#df-6700aab8-820a-4adb-8b1e-8c388e47f2da button.colab-df-convert');\n",
              "        buttonEl.style.display =\n",
              "          google.colab.kernel.accessAllowed ? 'block' : 'none';\n",
              "\n",
              "        async function convertToInteractive(key) {\n",
              "          const element = document.querySelector('#df-6700aab8-820a-4adb-8b1e-8c388e47f2da');\n",
              "          const dataTable =\n",
              "            await google.colab.kernel.invokeFunction('convertToInteractive',\n",
              "                                                     [key], {});\n",
              "          if (!dataTable) return;\n",
              "\n",
              "          const docLinkHtml = 'Like what you see? Visit the ' +\n",
              "            '<a target=\"_blank\" href=https://colab.research.google.com/notebooks/data_table.ipynb>data table notebook</a>'\n",
              "            + ' to learn more about interactive tables.';\n",
              "          element.innerHTML = '';\n",
              "          dataTable['output_type'] = 'display_data';\n",
              "          await google.colab.output.renderOutput(dataTable, element);\n",
              "          const docLink = document.createElement('div');\n",
              "          docLink.innerHTML = docLinkHtml;\n",
              "          element.appendChild(docLink);\n",
              "        }\n",
              "      </script>\n",
              "    </div>\n",
              "  </div>\n",
              "  "
            ]
          },
          "metadata": {},
          "execution_count": 5
        }
      ]
    },
    {
      "cell_type": "markdown",
      "source": [
        "Le features rappresentate:\n",
        "\n",
        "\n",
        "*   fixed acidity | float \n",
        "*   volatile acidity | float \n",
        "*   citric acid\t| float\n",
        "*   residual sugar | float\n",
        "*   chlorides | float\n",
        "*   free sulfur dioxide\t| float\n",
        "*   total sulfur dioxide\t| float\n",
        "*   density | float\n",
        "*   pH | float\n",
        "*   sulphates | float\n",
        "*   alcohol | float\n",
        "*   quality | int\n",
        "*   id | int\n"
      ],
      "metadata": {
        "id": "MJSXnXsA3UQJ"
      }
    },
    {
      "cell_type": "markdown",
      "source": [
        "La variabile target è quality che assume valori da 0 a 10 con 0 qualità pessima e 10 eccellente. Id è l'identificatore dei record e verrà usato come indice del dataframe."
      ],
      "metadata": {
        "id": "V2g4mnO26r8R"
      }
    },
    {
      "cell_type": "code",
      "source": [
        "data.set_index(\"Id\",inplace=True)"
      ],
      "metadata": {
        "id": "cBApJW5n2sUU"
      },
      "execution_count": 6,
      "outputs": []
    },
    {
      "cell_type": "code",
      "source": [
        "data.describe()\n"
      ],
      "metadata": {
        "id": "aGdXgcgM6RgI",
        "outputId": "cb5b0f04-61f3-4f3a-fd37-f3fa6e7f8494",
        "colab": {
          "base_uri": "https://localhost:8080/",
          "height": 300
        }
      },
      "execution_count": 7,
      "outputs": [
        {
          "output_type": "execute_result",
          "data": {
            "text/plain": [
              "       fixed acidity  volatile acidity  citric acid  residual sugar  \\\n",
              "count    1143.000000       1143.000000  1143.000000     1143.000000   \n",
              "mean        8.311111          0.531339     0.268364        2.532152   \n",
              "std         1.747595          0.179633     0.196686        1.355917   \n",
              "min         4.600000          0.120000     0.000000        0.900000   \n",
              "25%         7.100000          0.392500     0.090000        1.900000   \n",
              "50%         7.900000          0.520000     0.250000        2.200000   \n",
              "75%         9.100000          0.640000     0.420000        2.600000   \n",
              "max        15.900000          1.580000     1.000000       15.500000   \n",
              "\n",
              "         chlorides  free sulfur dioxide  total sulfur dioxide      density  \\\n",
              "count  1143.000000          1143.000000           1143.000000  1143.000000   \n",
              "mean      0.086933            15.615486             45.914698     0.996730   \n",
              "std       0.047267            10.250486             32.782130     0.001925   \n",
              "min       0.012000             1.000000              6.000000     0.990070   \n",
              "25%       0.070000             7.000000             21.000000     0.995570   \n",
              "50%       0.079000            13.000000             37.000000     0.996680   \n",
              "75%       0.090000            21.000000             61.000000     0.997845   \n",
              "max       0.611000            68.000000            289.000000     1.003690   \n",
              "\n",
              "                pH    sulphates      alcohol      quality  \n",
              "count  1143.000000  1143.000000  1143.000000  1143.000000  \n",
              "mean      3.311015     0.657708    10.442111     5.657043  \n",
              "std       0.156664     0.170399     1.082196     0.805824  \n",
              "min       2.740000     0.330000     8.400000     3.000000  \n",
              "25%       3.205000     0.550000     9.500000     5.000000  \n",
              "50%       3.310000     0.620000    10.200000     6.000000  \n",
              "75%       3.400000     0.730000    11.100000     6.000000  \n",
              "max       4.010000     2.000000    14.900000     8.000000  "
            ],
            "text/html": [
              "\n",
              "  <div id=\"df-fd26c381-7a0a-415e-a839-6b59e08372ac\">\n",
              "    <div class=\"colab-df-container\">\n",
              "      <div>\n",
              "<style scoped>\n",
              "    .dataframe tbody tr th:only-of-type {\n",
              "        vertical-align: middle;\n",
              "    }\n",
              "\n",
              "    .dataframe tbody tr th {\n",
              "        vertical-align: top;\n",
              "    }\n",
              "\n",
              "    .dataframe thead th {\n",
              "        text-align: right;\n",
              "    }\n",
              "</style>\n",
              "<table border=\"1\" class=\"dataframe\">\n",
              "  <thead>\n",
              "    <tr style=\"text-align: right;\">\n",
              "      <th></th>\n",
              "      <th>fixed acidity</th>\n",
              "      <th>volatile acidity</th>\n",
              "      <th>citric acid</th>\n",
              "      <th>residual sugar</th>\n",
              "      <th>chlorides</th>\n",
              "      <th>free sulfur dioxide</th>\n",
              "      <th>total sulfur dioxide</th>\n",
              "      <th>density</th>\n",
              "      <th>pH</th>\n",
              "      <th>sulphates</th>\n",
              "      <th>alcohol</th>\n",
              "      <th>quality</th>\n",
              "    </tr>\n",
              "  </thead>\n",
              "  <tbody>\n",
              "    <tr>\n",
              "      <th>count</th>\n",
              "      <td>1143.000000</td>\n",
              "      <td>1143.000000</td>\n",
              "      <td>1143.000000</td>\n",
              "      <td>1143.000000</td>\n",
              "      <td>1143.000000</td>\n",
              "      <td>1143.000000</td>\n",
              "      <td>1143.000000</td>\n",
              "      <td>1143.000000</td>\n",
              "      <td>1143.000000</td>\n",
              "      <td>1143.000000</td>\n",
              "      <td>1143.000000</td>\n",
              "      <td>1143.000000</td>\n",
              "    </tr>\n",
              "    <tr>\n",
              "      <th>mean</th>\n",
              "      <td>8.311111</td>\n",
              "      <td>0.531339</td>\n",
              "      <td>0.268364</td>\n",
              "      <td>2.532152</td>\n",
              "      <td>0.086933</td>\n",
              "      <td>15.615486</td>\n",
              "      <td>45.914698</td>\n",
              "      <td>0.996730</td>\n",
              "      <td>3.311015</td>\n",
              "      <td>0.657708</td>\n",
              "      <td>10.442111</td>\n",
              "      <td>5.657043</td>\n",
              "    </tr>\n",
              "    <tr>\n",
              "      <th>std</th>\n",
              "      <td>1.747595</td>\n",
              "      <td>0.179633</td>\n",
              "      <td>0.196686</td>\n",
              "      <td>1.355917</td>\n",
              "      <td>0.047267</td>\n",
              "      <td>10.250486</td>\n",
              "      <td>32.782130</td>\n",
              "      <td>0.001925</td>\n",
              "      <td>0.156664</td>\n",
              "      <td>0.170399</td>\n",
              "      <td>1.082196</td>\n",
              "      <td>0.805824</td>\n",
              "    </tr>\n",
              "    <tr>\n",
              "      <th>min</th>\n",
              "      <td>4.600000</td>\n",
              "      <td>0.120000</td>\n",
              "      <td>0.000000</td>\n",
              "      <td>0.900000</td>\n",
              "      <td>0.012000</td>\n",
              "      <td>1.000000</td>\n",
              "      <td>6.000000</td>\n",
              "      <td>0.990070</td>\n",
              "      <td>2.740000</td>\n",
              "      <td>0.330000</td>\n",
              "      <td>8.400000</td>\n",
              "      <td>3.000000</td>\n",
              "    </tr>\n",
              "    <tr>\n",
              "      <th>25%</th>\n",
              "      <td>7.100000</td>\n",
              "      <td>0.392500</td>\n",
              "      <td>0.090000</td>\n",
              "      <td>1.900000</td>\n",
              "      <td>0.070000</td>\n",
              "      <td>7.000000</td>\n",
              "      <td>21.000000</td>\n",
              "      <td>0.995570</td>\n",
              "      <td>3.205000</td>\n",
              "      <td>0.550000</td>\n",
              "      <td>9.500000</td>\n",
              "      <td>5.000000</td>\n",
              "    </tr>\n",
              "    <tr>\n",
              "      <th>50%</th>\n",
              "      <td>7.900000</td>\n",
              "      <td>0.520000</td>\n",
              "      <td>0.250000</td>\n",
              "      <td>2.200000</td>\n",
              "      <td>0.079000</td>\n",
              "      <td>13.000000</td>\n",
              "      <td>37.000000</td>\n",
              "      <td>0.996680</td>\n",
              "      <td>3.310000</td>\n",
              "      <td>0.620000</td>\n",
              "      <td>10.200000</td>\n",
              "      <td>6.000000</td>\n",
              "    </tr>\n",
              "    <tr>\n",
              "      <th>75%</th>\n",
              "      <td>9.100000</td>\n",
              "      <td>0.640000</td>\n",
              "      <td>0.420000</td>\n",
              "      <td>2.600000</td>\n",
              "      <td>0.090000</td>\n",
              "      <td>21.000000</td>\n",
              "      <td>61.000000</td>\n",
              "      <td>0.997845</td>\n",
              "      <td>3.400000</td>\n",
              "      <td>0.730000</td>\n",
              "      <td>11.100000</td>\n",
              "      <td>6.000000</td>\n",
              "    </tr>\n",
              "    <tr>\n",
              "      <th>max</th>\n",
              "      <td>15.900000</td>\n",
              "      <td>1.580000</td>\n",
              "      <td>1.000000</td>\n",
              "      <td>15.500000</td>\n",
              "      <td>0.611000</td>\n",
              "      <td>68.000000</td>\n",
              "      <td>289.000000</td>\n",
              "      <td>1.003690</td>\n",
              "      <td>4.010000</td>\n",
              "      <td>2.000000</td>\n",
              "      <td>14.900000</td>\n",
              "      <td>8.000000</td>\n",
              "    </tr>\n",
              "  </tbody>\n",
              "</table>\n",
              "</div>\n",
              "      <button class=\"colab-df-convert\" onclick=\"convertToInteractive('df-fd26c381-7a0a-415e-a839-6b59e08372ac')\"\n",
              "              title=\"Convert this dataframe to an interactive table.\"\n",
              "              style=\"display:none;\">\n",
              "        \n",
              "  <svg xmlns=\"http://www.w3.org/2000/svg\" height=\"24px\"viewBox=\"0 0 24 24\"\n",
              "       width=\"24px\">\n",
              "    <path d=\"M0 0h24v24H0V0z\" fill=\"none\"/>\n",
              "    <path d=\"M18.56 5.44l.94 2.06.94-2.06 2.06-.94-2.06-.94-.94-2.06-.94 2.06-2.06.94zm-11 1L8.5 8.5l.94-2.06 2.06-.94-2.06-.94L8.5 2.5l-.94 2.06-2.06.94zm10 10l.94 2.06.94-2.06 2.06-.94-2.06-.94-.94-2.06-.94 2.06-2.06.94z\"/><path d=\"M17.41 7.96l-1.37-1.37c-.4-.4-.92-.59-1.43-.59-.52 0-1.04.2-1.43.59L10.3 9.45l-7.72 7.72c-.78.78-.78 2.05 0 2.83L4 21.41c.39.39.9.59 1.41.59.51 0 1.02-.2 1.41-.59l7.78-7.78 2.81-2.81c.8-.78.8-2.07 0-2.86zM5.41 20L4 18.59l7.72-7.72 1.47 1.35L5.41 20z\"/>\n",
              "  </svg>\n",
              "      </button>\n",
              "      \n",
              "  <style>\n",
              "    .colab-df-container {\n",
              "      display:flex;\n",
              "      flex-wrap:wrap;\n",
              "      gap: 12px;\n",
              "    }\n",
              "\n",
              "    .colab-df-convert {\n",
              "      background-color: #E8F0FE;\n",
              "      border: none;\n",
              "      border-radius: 50%;\n",
              "      cursor: pointer;\n",
              "      display: none;\n",
              "      fill: #1967D2;\n",
              "      height: 32px;\n",
              "      padding: 0 0 0 0;\n",
              "      width: 32px;\n",
              "    }\n",
              "\n",
              "    .colab-df-convert:hover {\n",
              "      background-color: #E2EBFA;\n",
              "      box-shadow: 0px 1px 2px rgba(60, 64, 67, 0.3), 0px 1px 3px 1px rgba(60, 64, 67, 0.15);\n",
              "      fill: #174EA6;\n",
              "    }\n",
              "\n",
              "    [theme=dark] .colab-df-convert {\n",
              "      background-color: #3B4455;\n",
              "      fill: #D2E3FC;\n",
              "    }\n",
              "\n",
              "    [theme=dark] .colab-df-convert:hover {\n",
              "      background-color: #434B5C;\n",
              "      box-shadow: 0px 1px 3px 1px rgba(0, 0, 0, 0.15);\n",
              "      filter: drop-shadow(0px 1px 2px rgba(0, 0, 0, 0.3));\n",
              "      fill: #FFFFFF;\n",
              "    }\n",
              "  </style>\n",
              "\n",
              "      <script>\n",
              "        const buttonEl =\n",
              "          document.querySelector('#df-fd26c381-7a0a-415e-a839-6b59e08372ac button.colab-df-convert');\n",
              "        buttonEl.style.display =\n",
              "          google.colab.kernel.accessAllowed ? 'block' : 'none';\n",
              "\n",
              "        async function convertToInteractive(key) {\n",
              "          const element = document.querySelector('#df-fd26c381-7a0a-415e-a839-6b59e08372ac');\n",
              "          const dataTable =\n",
              "            await google.colab.kernel.invokeFunction('convertToInteractive',\n",
              "                                                     [key], {});\n",
              "          if (!dataTable) return;\n",
              "\n",
              "          const docLinkHtml = 'Like what you see? Visit the ' +\n",
              "            '<a target=\"_blank\" href=https://colab.research.google.com/notebooks/data_table.ipynb>data table notebook</a>'\n",
              "            + ' to learn more about interactive tables.';\n",
              "          element.innerHTML = '';\n",
              "          dataTable['output_type'] = 'display_data';\n",
              "          await google.colab.output.renderOutput(dataTable, element);\n",
              "          const docLink = document.createElement('div');\n",
              "          docLink.innerHTML = docLinkHtml;\n",
              "          element.appendChild(docLink);\n",
              "        }\n",
              "      </script>\n",
              "    </div>\n",
              "  </div>\n",
              "  "
            ]
          },
          "metadata": {},
          "execution_count": 7
        }
      ]
    },
    {
      "cell_type": "markdown",
      "source": [
        "Dal dataset possiamo notare che su alcune colonne abbiamo una variazione significativa tra media e 50 percentile, con alte std conme ad esempio \"total sulfur dioxide\"\toppure \"free sulfur dioxide\" questo significa che indica che ci sono valori particolarmente elevati agli estremi.\n",
        "Si può notare anche che non sono stati rilevati vini con quality minore di 3 o maggiore di 8."
      ],
      "metadata": {
        "id": "_PLuxqSR9C5h"
      }
    },
    {
      "cell_type": "code",
      "source": [
        "data[\"quality\"].value_counts().plot.pie(autopct=\"%1.1f%%\")"
      ],
      "metadata": {
        "id": "ZNfM-WMd9Ck9",
        "outputId": "cafe20cf-404b-4591-cc25-992e1c6bcb7a",
        "colab": {
          "base_uri": "https://localhost:8080/",
          "height": 266
        }
      },
      "execution_count": 8,
      "outputs": [
        {
          "output_type": "execute_result",
          "data": {
            "text/plain": [
              "<matplotlib.axes._subplots.AxesSubplot at 0x7fa27d220950>"
            ]
          },
          "metadata": {},
          "execution_count": 8
        },
        {
          "output_type": "display_data",
          "data": {
            "text/plain": [
              "<Figure size 432x288 with 1 Axes>"
            ],
            "image/png": "[encoded data removed]"
          },
          "metadata": {}
        }
      ]
    },
    {
      "cell_type": "markdown",
      "source": [
        "Dal grafico possiamo vedere che le classi sono sbilancite e potrebbero essere necessarie tecniche di bilanciamento. "
      ],
      "metadata": {
        "id": "8m-UCZYfCz0G"
      }
    },
    {
      "cell_type": "code",
      "source": [
        "data.isna().sum()"
      ],
      "metadata": {
        "id": "VDURnVYLCzkm",
        "outputId": "acb9bba6-b666-4101-c907-9097f0ba163c",
        "colab": {
          "base_uri": "https://localhost:8080/"
        }
      },
      "execution_count": 9,
      "outputs": [
        {
          "output_type": "execute_result",
          "data": {
            "text/plain": [
              "fixed acidity           0\n",
              "volatile acidity        0\n",
              "citric acid             0\n",
              "residual sugar          0\n",
              "chlorides               0\n",
              "free sulfur dioxide     0\n",
              "total sulfur dioxide    0\n",
              "density                 0\n",
              "pH                      0\n",
              "sulphates               0\n",
              "alcohol                 0\n",
              "quality                 0\n",
              "dtype: int64"
            ]
          },
          "metadata": {},
          "execution_count": 9
        }
      ]
    },
    {
      "cell_type": "markdown",
      "source": [
        "Come possiamo vedere non sono presenti valori nulli su nessuna colonna. Il numero di dati presenti nel data set è:"
      ],
      "metadata": {
        "id": "mZpCRWc8DbcT"
      }
    },
    {
      "cell_type": "code",
      "source": [
        "data.shape"
      ],
      "metadata": {
        "id": "l5vjoJw6DbE0",
        "outputId": "4a533b4a-f77d-4239-c53f-a040d7b2d1bf",
        "colab": {
          "base_uri": "https://localhost:8080/"
        }
      },
      "execution_count": 10,
      "outputs": [
        {
          "output_type": "execute_result",
          "data": {
            "text/plain": [
              "(1143, 12)"
            ]
          },
          "metadata": {},
          "execution_count": 10
        }
      ]
    },
    {
      "cell_type": "markdown",
      "source": [
        "abbiamo 1143 record e 12 features."
      ],
      "metadata": {
        "id": "wesbGe50D8qv"
      }
    },
    {
      "cell_type": "markdown",
      "source": [
        "# Data exploration\n"
      ],
      "metadata": {
        "id": "FVtOBhh6Dp2Z"
      }
    },
    {
      "cell_type": "code",
      "source": [
        "data.columns"
      ],
      "metadata": {
        "id": "0Wl_h4CyIa0g",
        "outputId": "d805b3fa-d573-459d-ea48-6dfa3c4273ba",
        "colab": {
          "base_uri": "https://localhost:8080/"
        }
      },
      "execution_count": 11,
      "outputs": [
        {
          "output_type": "execute_result",
          "data": {
            "text/plain": [
              "Index(['fixed acidity', 'volatile acidity', 'citric acid', 'residual sugar',\n",
              "       'chlorides', 'free sulfur dioxide', 'total sulfur dioxide', 'density',\n",
              "       'pH', 'sulphates', 'alcohol', 'quality'],\n",
              "      dtype='object')"
            ]
          },
          "metadata": {},
          "execution_count": 11
        }
      ]
    },
    {
      "cell_type": "code",
      "source": [
        "plt.figure(figsize=(20,10))\n",
        "for i,col in enumerate(data.columns[:-1],start=1):\n",
        "  data[col].plot.hist(ax=plt.subplot(3,5,i),title=col)\n",
        "  "
      ],
      "metadata": {
        "id": "zjxxjujoH7ov",
        "outputId": "e6dd77a5-489c-4779-930d-819b9ba6124c",
        "colab": {
          "base_uri": "https://localhost:8080/",
          "height": 607
        }
      },
      "execution_count": 12,
      "outputs": [
        {
          "output_type": "display_data",
          "data": {
            "text/plain": [
              "<Figure size 1440x720 with 11 Axes>"
            ],
            "image/png": "[encoded data removed]"
          },
          "metadata": {
            "needs_background": "light"
          }
        }
      ]
    },
    {
      "cell_type": "code",
      "source": [
        "plt.figure(figsize=(20,20))\n",
        "for i,col in enumerate(data.drop(columns=\"quality\").columns,start=1):\n",
        "  data.plot.scatter(x=\"quality\",y=col,ax=plt.subplot(4,3,i),title=col)"
      ],
      "metadata": {
        "id": "tN_ICshh6r0H",
        "outputId": "475778e2-6b77-4f25-a579-cf1725ad481a",
        "colab": {
          "base_uri": "https://localhost:8080/",
          "height": 1000
        }
      },
      "execution_count": 13,
      "outputs": [
        {
          "output_type": "display_data",
          "data": {
            "text/plain": [
              "<Figure size 1440x1440 with 11 Axes>"
            ],
            "image/png": "[encoded data removed]"
          },
          "metadata": {
            "needs_background": "light"
          }
        }
      ]
    },
    {
      "cell_type": "markdown",
      "source": [
        "Costruiamo ora la matrice degli indici di correlazione tra le varie features."
      ],
      "metadata": {
        "id": "k6QubUKypLGB"
      }
    },
    {
      "cell_type": "code",
      "source": [
        "corr = data.corr()\n",
        "corr.style.background_gradient(cmap='coolwarm')"
      ],
      "metadata": {
        "id": "ip9MV8cELQJK",
        "outputId": "215b3956-9575-4c75-e961-8708338e79c0",
        "colab": {
          "base_uri": "https://localhost:8080/",
          "height": 425
        }
      },
      "execution_count": 14,
      "outputs": [
        {
          "output_type": "execute_result",
          "data": {
            "text/plain": [
              "<pandas.io.formats.style.Styler at 0x7fa27c45c590>"
            ],
            "text/html": [
              "<style type=\"text/css\">\n",
              "#T_dace8_row0_col0, #T_dace8_row1_col1, #T_dace8_row2_col2, #T_dace8_row3_col3, #T_dace8_row4_col4, #T_dace8_row5_col5, #T_dace8_row6_col6, #T_dace8_row7_col7, #T_dace8_row8_col8, #T_dace8_row9_col9, #T_dace8_row10_col10, #T_dace8_row11_col11 {\n",
              "  background-color: #b40426;\n",
              "  color: #f1f1f1;\n",
              "}\n",
              "#T_dace8_row0_col1, #T_dace8_row2_col6 {\n",
              "  background-color: #779af7;\n",
              "  color: #f1f1f1;\n",
              "}\n",
              "#T_dace8_row0_col2, #T_dace8_row0_col7 {\n",
              "  background-color: #f08a6c;\n",
              "  color: #f1f1f1;\n",
              "}\n",
              "#T_dace8_row0_col3, #T_dace8_row1_col4 {\n",
              "  background-color: #90b2fe;\n",
              "  color: #000000;\n",
              "}\n",
              "#T_dace8_row0_col4 {\n",
              "  background-color: #9fbfff;\n",
              "  color: #000000;\n",
              "}\n",
              "#T_dace8_row0_col5, #T_dace8_row0_col8, #T_dace8_row1_col2, #T_dace8_row1_col9, #T_dace8_row1_col11, #T_dace8_row2_col1, #T_dace8_row7_col10, #T_dace8_row8_col0, #T_dace8_row8_col2, #T_dace8_row8_col3, #T_dace8_row8_col4, #T_dace8_row10_col6, #T_dace8_row10_col7 {\n",
              "  background-color: #3b4cc0;\n",
              "  color: #f1f1f1;\n",
              "}\n",
              "#T_dace8_row0_col6 {\n",
              "  background-color: #4e68d8;\n",
              "  color: #f1f1f1;\n",
              "}\n",
              "#T_dace8_row0_col9 {\n",
              "  background-color: #b1cbfc;\n",
              "  color: #000000;\n",
              "}\n",
              "#T_dace8_row0_col10 {\n",
              "  background-color: #97b8ff;\n",
              "  color: #000000;\n",
              "}\n",
              "#T_dace8_row0_col11, #T_dace8_row6_col2, #T_dace8_row11_col8 {\n",
              "  background-color: #b9d0f9;\n",
              "  color: #000000;\n",
              "}\n",
              "#T_dace8_row1_col0, #T_dace8_row6_col4 {\n",
              "  background-color: #8fb1fe;\n",
              "  color: #000000;\n",
              "}\n",
              "#T_dace8_row1_col3, #T_dace8_row10_col5 {\n",
              "  background-color: #5977e3;\n",
              "  color: #f1f1f1;\n",
              "}\n",
              "#T_dace8_row1_col5 {\n",
              "  background-color: #6687ed;\n",
              "  color: #f1f1f1;\n",
              "}\n",
              "#T_dace8_row1_col6 {\n",
              "  background-color: #84a7fc;\n",
              "  color: #f1f1f1;\n",
              "}\n",
              "#T_dace8_row1_col7, #T_dace8_row6_col0 {\n",
              "  background-color: #adc9fd;\n",
              "  color: #000000;\n",
              "}\n",
              "#T_dace8_row1_col8 {\n",
              "  background-color: #e6d7cf;\n",
              "  color: #000000;\n",
              "}\n",
              "#T_dace8_row1_col10 {\n",
              "  background-color: #799cf8;\n",
              "  color: #f1f1f1;\n",
              "}\n",
              "#T_dace8_row2_col0 {\n",
              "  background-color: #ec8165;\n",
              "  color: #f1f1f1;\n",
              "}\n",
              "#T_dace8_row2_col3 {\n",
              "  background-color: #92b4fe;\n",
              "  color: #000000;\n",
              "}\n",
              "#T_dace8_row2_col4 {\n",
              "  background-color: #c3d5f4;\n",
              "  color: #000000;\n",
              "}\n",
              "#T_dace8_row2_col5 {\n",
              "  background-color: #5673e0;\n",
              "  color: #f1f1f1;\n",
              "}\n",
              "#T_dace8_row2_col7 {\n",
              "  background-color: #efcfbf;\n",
              "  color: #000000;\n",
              "}\n",
              "#T_dace8_row2_col8 {\n",
              "  background-color: #5470de;\n",
              "  color: #f1f1f1;\n",
              "}\n",
              "#T_dace8_row2_col9 {\n",
              "  background-color: #d6dce4;\n",
              "  color: #000000;\n",
              "}\n",
              "#T_dace8_row2_col10 {\n",
              "  background-color: #c0d4f5;\n",
              "  color: #000000;\n",
              "}\n",
              "#T_dace8_row2_col11 {\n",
              "  background-color: #d2dbe8;\n",
              "  color: #000000;\n",
              "}\n",
              "#T_dace8_row3_col0, #T_dace8_row4_col9, #T_dace8_row9_col0, #T_dace8_row9_col4, #T_dace8_row11_col2 {\n",
              "  background-color: #dfdbd9;\n",
              "  color: #000000;\n",
              "}\n",
              "#T_dace8_row3_col1, #T_dace8_row5_col1 {\n",
              "  background-color: #afcafc;\n",
              "  color: #000000;\n",
              "}\n",
              "#T_dace8_row3_col2 {\n",
              "  background-color: #d4dbe6;\n",
              "  color: #000000;\n",
              "}\n",
              "#T_dace8_row3_col4 {\n",
              "  background-color: #94b6ff;\n",
              "  color: #000000;\n",
              "}\n",
              "#T_dace8_row3_col5 {\n",
              "  background-color: #98b9ff;\n",
              "  color: #000000;\n",
              "}\n",
              "#T_dace8_row3_col6 {\n",
              "  background-color: #a5c3fe;\n",
              "  color: #000000;\n",
              "}\n",
              "#T_dace8_row3_col7 {\n",
              "  background-color: #efcebd;\n",
              "  color: #000000;\n",
              "}\n",
              "#T_dace8_row3_col8 {\n",
              "  background-color: #abc8fd;\n",
              "  color: #000000;\n",
              "}\n",
              "#T_dace8_row3_col9, #T_dace8_row5_col4 {\n",
              "  background-color: #85a8fc;\n",
              "  color: #f1f1f1;\n",
              "}\n",
              "#T_dace8_row3_col10 {\n",
              "  background-color: #b6cefa;\n",
              "  color: #000000;\n",
              "}\n",
              "#T_dace8_row3_col11 {\n",
              "  background-color: #a1c0ff;\n",
              "  color: #000000;\n",
              "}\n",
              "#T_dace8_row4_col0, #T_dace8_row4_col7, #T_dace8_row9_col11 {\n",
              "  background-color: #d5dbe5;\n",
              "  color: #000000;\n",
              "}\n",
              "#T_dace8_row4_col1 {\n",
              "  background-color: #bcd2f7;\n",
              "  color: #000000;\n",
              "}\n",
              "#T_dace8_row4_col2 {\n",
              "  background-color: #e0dbd8;\n",
              "  color: #000000;\n",
              "}\n",
              "#T_dace8_row4_col3, #T_dace8_row9_col5 {\n",
              "  background-color: #7093f3;\n",
              "  color: #f1f1f1;\n",
              "}\n",
              "#T_dace8_row4_col5 {\n",
              "  background-color: #6b8df0;\n",
              "  color: #f1f1f1;\n",
              "}\n",
              "#T_dace8_row4_col6, #T_dace8_row7_col8 {\n",
              "  background-color: #7a9df8;\n",
              "  color: #f1f1f1;\n",
              "}\n",
              "#T_dace8_row4_col8 {\n",
              "  background-color: #89acfd;\n",
              "  color: #000000;\n",
              "}\n",
              "#T_dace8_row4_col10 {\n",
              "  background-color: #7396f5;\n",
              "  color: #f1f1f1;\n",
              "}\n",
              "#T_dace8_row4_col11, #T_dace8_row7_col6 {\n",
              "  background-color: #7b9ff9;\n",
              "  color: #f1f1f1;\n",
              "}\n",
              "#T_dace8_row5_col0 {\n",
              "  background-color: #a2c1ff;\n",
              "  color: #000000;\n",
              "}\n",
              "#T_dace8_row5_col2 {\n",
              "  background-color: #a3c2fe;\n",
              "  color: #000000;\n",
              "}\n",
              "#T_dace8_row5_col3, #T_dace8_row8_col11 {\n",
              "  background-color: #8db0fe;\n",
              "  color: #000000;\n",
              "}\n",
              "#T_dace8_row5_col6 {\n",
              "  background-color: #f7a889;\n",
              "  color: #000000;\n",
              "}\n",
              "#T_dace8_row5_col7, #T_dace8_row9_col8 {\n",
              "  background-color: #9dbdff;\n",
              "  color: #000000;\n",
              "}\n",
              "#T_dace8_row5_col8 {\n",
              "  background-color: #cfdaea;\n",
              "  color: #000000;\n",
              "}\n",
              "#T_dace8_row5_col9, #T_dace8_row5_col11 {\n",
              "  background-color: #8badfd;\n",
              "  color: #000000;\n",
              "}\n",
              "#T_dace8_row5_col10 {\n",
              "  background-color: #9ebeff;\n",
              "  color: #000000;\n",
              "}\n",
              "#T_dace8_row6_col1 {\n",
              "  background-color: #c1d4f4;\n",
              "  color: #000000;\n",
              "}\n",
              "#T_dace8_row6_col3 {\n",
              "  background-color: #96b7ff;\n",
              "  color: #000000;\n",
              "}\n",
              "#T_dace8_row6_col5 {\n",
              "  background-color: #f7a98b;\n",
              "  color: #000000;\n",
              "}\n",
              "#T_dace8_row6_col7 {\n",
              "  background-color: #b5cdfa;\n",
              "  color: #000000;\n",
              "}\n",
              "#T_dace8_row6_col8 {\n",
              "  background-color: #b7cff9;\n",
              "  color: #000000;\n",
              "}\n",
              "#T_dace8_row6_col9 {\n",
              "  background-color: #88abfd;\n",
              "  color: #000000;\n",
              "}\n",
              "#T_dace8_row6_col10, #T_dace8_row8_col5 {\n",
              "  background-color: #7da0f9;\n",
              "  color: #f1f1f1;\n",
              "}\n",
              "#T_dace8_row6_col11, #T_dace8_row10_col3 {\n",
              "  background-color: #6c8ff1;\n",
              "  color: #f1f1f1;\n",
              "}\n",
              "#T_dace8_row7_col0 {\n",
              "  background-color: #ec7f63;\n",
              "  color: #f1f1f1;\n",
              "}\n",
              "#T_dace8_row7_col1, #T_dace8_row10_col0 {\n",
              "  background-color: #b3cdfb;\n",
              "  color: #000000;\n",
              "}\n",
              "#T_dace8_row7_col2 {\n",
              "  background-color: #f1ccb8;\n",
              "  color: #000000;\n",
              "}\n",
              "#T_dace8_row7_col3 {\n",
              "  background-color: #cdd9ec;\n",
              "  color: #000000;\n",
              "}\n",
              "#T_dace8_row7_col4 {\n",
              "  background-color: #bad0f8;\n",
              "  color: #000000;\n",
              "}\n",
              "#T_dace8_row7_col5, #T_dace8_row8_col7 {\n",
              "  background-color: #5875e1;\n",
              "  color: #f1f1f1;\n",
              "}\n",
              "#T_dace8_row7_col9 {\n",
              "  background-color: #a9c6fd;\n",
              "  color: #000000;\n",
              "}\n",
              "#T_dace8_row7_col11 {\n",
              "  background-color: #6f92f3;\n",
              "  color: #f1f1f1;\n",
              "}\n",
              "#T_dace8_row8_col1 {\n",
              "  background-color: #dbdcde;\n",
              "  color: #000000;\n",
              "}\n",
              "#T_dace8_row8_col6 {\n",
              "  background-color: #5b7ae5;\n",
              "  color: #f1f1f1;\n",
              "}\n",
              "#T_dace8_row8_col9 {\n",
              "  background-color: #506bda;\n",
              "  color: #f1f1f1;\n",
              "}\n",
              "#T_dace8_row8_col10 {\n",
              "  background-color: #d8dce2;\n",
              "  color: #000000;\n",
              "}\n",
              "#T_dace8_row9_col1 {\n",
              "  background-color: #7295f4;\n",
              "  color: #f1f1f1;\n",
              "}\n",
              "#T_dace8_row9_col2 {\n",
              "  background-color: #edd2c3;\n",
              "  color: #000000;\n",
              "}\n",
              "#T_dace8_row9_col3, #T_dace8_row11_col4 {\n",
              "  background-color: #5f7fe8;\n",
              "  color: #f1f1f1;\n",
              "}\n",
              "#T_dace8_row9_col6 {\n",
              "  background-color: #7597f6;\n",
              "  color: #f1f1f1;\n",
              "}\n",
              "#T_dace8_row9_col7 {\n",
              "  background-color: #c9d7f0;\n",
              "  color: #000000;\n",
              "}\n",
              "#T_dace8_row9_col10 {\n",
              "  background-color: #bed2f6;\n",
              "  color: #000000;\n",
              "}\n",
              "#T_dace8_row10_col1 {\n",
              "  background-color: #82a6fb;\n",
              "  color: #f1f1f1;\n",
              "}\n",
              "#T_dace8_row10_col2 {\n",
              "  background-color: #c7d7f0;\n",
              "  color: #000000;\n",
              "}\n",
              "#T_dace8_row10_col4 {\n",
              "  background-color: #455cce;\n",
              "  color: #f1f1f1;\n",
              "}\n",
              "#T_dace8_row10_col8 {\n",
              "  background-color: #e7d7ce;\n",
              "  color: #000000;\n",
              "}\n",
              "#T_dace8_row10_col9 {\n",
              "  background-color: #9bbcff;\n",
              "  color: #000000;\n",
              "}\n",
              "#T_dace8_row10_col11 {\n",
              "  background-color: #f5c1a9;\n",
              "  color: #000000;\n",
              "}\n",
              "#T_dace8_row11_col0 {\n",
              "  background-color: #d7dce3;\n",
              "  color: #000000;\n",
              "}\n",
              "#T_dace8_row11_col1, #T_dace8_row11_col5 {\n",
              "  background-color: #5572df;\n",
              "  color: #f1f1f1;\n",
              "}\n",
              "#T_dace8_row11_col3 {\n",
              "  background-color: #6180e9;\n",
              "  color: #f1f1f1;\n",
              "}\n",
              "#T_dace8_row11_col6 {\n",
              "  background-color: #3c4ec2;\n",
              "  color: #f1f1f1;\n",
              "}\n",
              "#T_dace8_row11_col7 {\n",
              "  background-color: #80a3fa;\n",
              "  color: #f1f1f1;\n",
              "}\n",
              "#T_dace8_row11_col9 {\n",
              "  background-color: #c6d6f1;\n",
              "  color: #000000;\n",
              "}\n",
              "#T_dace8_row11_col10 {\n",
              "  background-color: #f7bca1;\n",
              "  color: #000000;\n",
              "}\n",
              "</style>\n",
              "<table id=\"T_dace8_\" class=\"dataframe\">\n",
              "  <thead>\n",
              "    <tr>\n",
              "      <th class=\"blank level0\" >&nbsp;</th>\n",
              "      <th class=\"col_heading level0 col0\" >fixed acidity</th>\n",
              "      <th class=\"col_heading level0 col1\" >volatile acidity</th>\n",
              "      <th class=\"col_heading level0 col2\" >citric acid</th>\n",
              "      <th class=\"col_heading level0 col3\" >residual sugar</th>\n",
              "      <th class=\"col_heading level0 col4\" >chlorides</th>\n",
              "      <th class=\"col_heading level0 col5\" >free sulfur dioxide</th>\n",
              "      <th class=\"col_heading level0 col6\" >total sulfur dioxide</th>\n",
              "      <th class=\"col_heading level0 col7\" >density</th>\n",
              "      <th class=\"col_heading level0 col8\" >pH</th>\n",
              "      <th class=\"col_heading level0 col9\" >sulphates</th>\n",
              "      <th class=\"col_heading level0 col10\" >alcohol</th>\n",
              "      <th class=\"col_heading level0 col11\" >quality</th>\n",
              "    </tr>\n",
              "  </thead>\n",
              "  <tbody>\n",
              "    <tr>\n",
              "      <th id=\"T_dace8_level0_row0\" class=\"row_heading level0 row0\" >fixed acidity</th>\n",
              "      <td id=\"T_dace8_row0_col0\" class=\"data row0 col0\" >1.000000</td>\n",
              "      <td id=\"T_dace8_row0_col1\" class=\"data row0 col1\" >-0.250728</td>\n",
              "      <td id=\"T_dace8_row0_col2\" class=\"data row0 col2\" >0.673157</td>\n",
              "      <td id=\"T_dace8_row0_col3\" class=\"data row0 col3\" >0.171831</td>\n",
              "      <td id=\"T_dace8_row0_col4\" class=\"data row0 col4\" >0.107889</td>\n",
              "      <td id=\"T_dace8_row0_col5\" class=\"data row0 col5\" >-0.164831</td>\n",
              "      <td id=\"T_dace8_row0_col6\" class=\"data row0 col6\" >-0.110628</td>\n",
              "      <td id=\"T_dace8_row0_col7\" class=\"data row0 col7\" >0.681501</td>\n",
              "      <td id=\"T_dace8_row0_col8\" class=\"data row0 col8\" >-0.685163</td>\n",
              "      <td id=\"T_dace8_row0_col9\" class=\"data row0 col9\" >0.174592</td>\n",
              "      <td id=\"T_dace8_row0_col10\" class=\"data row0 col10\" >-0.075055</td>\n",
              "      <td id=\"T_dace8_row0_col11\" class=\"data row0 col11\" >0.121970</td>\n",
              "    </tr>\n",
              "    <tr>\n",
              "      <th id=\"T_dace8_level0_row1\" class=\"row_heading level0 row1\" >volatile acidity</th>\n",
              "      <td id=\"T_dace8_row1_col0\" class=\"data row1 col0\" >-0.250728</td>\n",
              "      <td id=\"T_dace8_row1_col1\" class=\"data row1 col1\" >1.000000</td>\n",
              "      <td id=\"T_dace8_row1_col2\" class=\"data row1 col2\" >-0.544187</td>\n",
              "      <td id=\"T_dace8_row1_col3\" class=\"data row1 col3\" >-0.005751</td>\n",
              "      <td id=\"T_dace8_row1_col4\" class=\"data row1 col4\" >0.056336</td>\n",
              "      <td id=\"T_dace8_row1_col5\" class=\"data row1 col5\" >-0.001962</td>\n",
              "      <td id=\"T_dace8_row1_col6\" class=\"data row1 col6\" >0.077748</td>\n",
              "      <td id=\"T_dace8_row1_col7\" class=\"data row1 col7\" >0.016512</td>\n",
              "      <td id=\"T_dace8_row1_col8\" class=\"data row1 col8\" >0.221492</td>\n",
              "      <td id=\"T_dace8_row1_col9\" class=\"data row1 col9\" >-0.276079</td>\n",
              "      <td id=\"T_dace8_row1_col10\" class=\"data row1 col10\" >-0.203909</td>\n",
              "      <td id=\"T_dace8_row1_col11\" class=\"data row1 col11\" >-0.407394</td>\n",
              "    </tr>\n",
              "    <tr>\n",
              "      <th id=\"T_dace8_level0_row2\" class=\"row_heading level0 row2\" >citric acid</th>\n",
              "      <td id=\"T_dace8_row2_col0\" class=\"data row2 col0\" >0.673157</td>\n",
              "      <td id=\"T_dace8_row2_col1\" class=\"data row2 col1\" >-0.544187</td>\n",
              "      <td id=\"T_dace8_row2_col2\" class=\"data row2 col2\" >1.000000</td>\n",
              "      <td id=\"T_dace8_row2_col3\" class=\"data row2 col3\" >0.175815</td>\n",
              "      <td id=\"T_dace8_row2_col4\" class=\"data row2 col4\" >0.245312</td>\n",
              "      <td id=\"T_dace8_row2_col5\" class=\"data row2 col5\" >-0.057589</td>\n",
              "      <td id=\"T_dace8_row2_col6\" class=\"data row2 col6\" >0.036871</td>\n",
              "      <td id=\"T_dace8_row2_col7\" class=\"data row2 col7\" >0.375243</td>\n",
              "      <td id=\"T_dace8_row2_col8\" class=\"data row2 col8\" >-0.546339</td>\n",
              "      <td id=\"T_dace8_row2_col9\" class=\"data row2 col9\" >0.331232</td>\n",
              "      <td id=\"T_dace8_row2_col10\" class=\"data row2 col10\" >0.106250</td>\n",
              "      <td id=\"T_dace8_row2_col11\" class=\"data row2 col11\" >0.240821</td>\n",
              "    </tr>\n",
              "    <tr>\n",
              "      <th id=\"T_dace8_level0_row3\" class=\"row_heading level0 row3\" >residual sugar</th>\n",
              "      <td id=\"T_dace8_row3_col0\" class=\"data row3 col0\" >0.171831</td>\n",
              "      <td id=\"T_dace8_row3_col1\" class=\"data row3 col1\" >-0.005751</td>\n",
              "      <td id=\"T_dace8_row3_col2\" class=\"data row3 col2\" >0.175815</td>\n",
              "      <td id=\"T_dace8_row3_col3\" class=\"data row3 col3\" >1.000000</td>\n",
              "      <td id=\"T_dace8_row3_col4\" class=\"data row3 col4\" >0.070863</td>\n",
              "      <td id=\"T_dace8_row3_col5\" class=\"data row3 col5\" >0.165339</td>\n",
              "      <td id=\"T_dace8_row3_col6\" class=\"data row3 col6\" >0.190790</td>\n",
              "      <td id=\"T_dace8_row3_col7\" class=\"data row3 col7\" >0.380147</td>\n",
              "      <td id=\"T_dace8_row3_col8\" class=\"data row3 col8\" >-0.116959</td>\n",
              "      <td id=\"T_dace8_row3_col9\" class=\"data row3 col9\" >0.017475</td>\n",
              "      <td id=\"T_dace8_row3_col10\" class=\"data row3 col10\" >0.058421</td>\n",
              "      <td id=\"T_dace8_row3_col11\" class=\"data row3 col11\" >0.022002</td>\n",
              "    </tr>\n",
              "    <tr>\n",
              "      <th id=\"T_dace8_level0_row4\" class=\"row_heading level0 row4\" >chlorides</th>\n",
              "      <td id=\"T_dace8_row4_col0\" class=\"data row4 col0\" >0.107889</td>\n",
              "      <td id=\"T_dace8_row4_col1\" class=\"data row4 col1\" >0.056336</td>\n",
              "      <td id=\"T_dace8_row4_col2\" class=\"data row4 col2\" >0.245312</td>\n",
              "      <td id=\"T_dace8_row4_col3\" class=\"data row4 col3\" >0.070863</td>\n",
              "      <td id=\"T_dace8_row4_col4\" class=\"data row4 col4\" >1.000000</td>\n",
              "      <td id=\"T_dace8_row4_col5\" class=\"data row4 col5\" >0.015280</td>\n",
              "      <td id=\"T_dace8_row4_col6\" class=\"data row4 col6\" >0.048163</td>\n",
              "      <td id=\"T_dace8_row4_col7\" class=\"data row4 col7\" >0.208901</td>\n",
              "      <td id=\"T_dace8_row4_col8\" class=\"data row4 col8\" >-0.277759</td>\n",
              "      <td id=\"T_dace8_row4_col9\" class=\"data row4 col9\" >0.374784</td>\n",
              "      <td id=\"T_dace8_row4_col10\" class=\"data row4 col10\" >-0.229917</td>\n",
              "      <td id=\"T_dace8_row4_col11\" class=\"data row4 col11\" >-0.124085</td>\n",
              "    </tr>\n",
              "    <tr>\n",
              "      <th id=\"T_dace8_level0_row5\" class=\"row_heading level0 row5\" >free sulfur dioxide</th>\n",
              "      <td id=\"T_dace8_row5_col0\" class=\"data row5 col0\" >-0.164831</td>\n",
              "      <td id=\"T_dace8_row5_col1\" class=\"data row5 col1\" >-0.001962</td>\n",
              "      <td id=\"T_dace8_row5_col2\" class=\"data row5 col2\" >-0.057589</td>\n",
              "      <td id=\"T_dace8_row5_col3\" class=\"data row5 col3\" >0.165339</td>\n",
              "      <td id=\"T_dace8_row5_col4\" class=\"data row5 col4\" >0.015280</td>\n",
              "      <td id=\"T_dace8_row5_col5\" class=\"data row5 col5\" >1.000000</td>\n",
              "      <td id=\"T_dace8_row5_col6\" class=\"data row5 col6\" >0.661093</td>\n",
              "      <td id=\"T_dace8_row5_col7\" class=\"data row5 col7\" >-0.054150</td>\n",
              "      <td id=\"T_dace8_row5_col8\" class=\"data row5 col8\" >0.072804</td>\n",
              "      <td id=\"T_dace8_row5_col9\" class=\"data row5 col9\" >0.034445</td>\n",
              "      <td id=\"T_dace8_row5_col10\" class=\"data row5 col10\" >-0.047095</td>\n",
              "      <td id=\"T_dace8_row5_col11\" class=\"data row5 col11\" >-0.063260</td>\n",
              "    </tr>\n",
              "    <tr>\n",
              "      <th id=\"T_dace8_level0_row6\" class=\"row_heading level0 row6\" >total sulfur dioxide</th>\n",
              "      <td id=\"T_dace8_row6_col0\" class=\"data row6 col0\" >-0.110628</td>\n",
              "      <td id=\"T_dace8_row6_col1\" class=\"data row6 col1\" >0.077748</td>\n",
              "      <td id=\"T_dace8_row6_col2\" class=\"data row6 col2\" >0.036871</td>\n",
              "      <td id=\"T_dace8_row6_col3\" class=\"data row6 col3\" >0.190790</td>\n",
              "      <td id=\"T_dace8_row6_col4\" class=\"data row6 col4\" >0.048163</td>\n",
              "      <td id=\"T_dace8_row6_col5\" class=\"data row6 col5\" >0.661093</td>\n",
              "      <td id=\"T_dace8_row6_col6\" class=\"data row6 col6\" >1.000000</td>\n",
              "      <td id=\"T_dace8_row6_col7\" class=\"data row6 col7\" >0.050175</td>\n",
              "      <td id=\"T_dace8_row6_col8\" class=\"data row6 col8\" >-0.059126</td>\n",
              "      <td id=\"T_dace8_row6_col9\" class=\"data row6 col9\" >0.026894</td>\n",
              "      <td id=\"T_dace8_row6_col10\" class=\"data row6 col10\" >-0.188165</td>\n",
              "      <td id=\"T_dace8_row6_col11\" class=\"data row6 col11\" >-0.183339</td>\n",
              "    </tr>\n",
              "    <tr>\n",
              "      <th id=\"T_dace8_level0_row7\" class=\"row_heading level0 row7\" >density</th>\n",
              "      <td id=\"T_dace8_row7_col0\" class=\"data row7 col0\" >0.681501</td>\n",
              "      <td id=\"T_dace8_row7_col1\" class=\"data row7 col1\" >0.016512</td>\n",
              "      <td id=\"T_dace8_row7_col2\" class=\"data row7 col2\" >0.375243</td>\n",
              "      <td id=\"T_dace8_row7_col3\" class=\"data row7 col3\" >0.380147</td>\n",
              "      <td id=\"T_dace8_row7_col4\" class=\"data row7 col4\" >0.208901</td>\n",
              "      <td id=\"T_dace8_row7_col5\" class=\"data row7 col5\" >-0.054150</td>\n",
              "      <td id=\"T_dace8_row7_col6\" class=\"data row7 col6\" >0.050175</td>\n",
              "      <td id=\"T_dace8_row7_col7\" class=\"data row7 col7\" >1.000000</td>\n",
              "      <td id=\"T_dace8_row7_col8\" class=\"data row7 col8\" >-0.352775</td>\n",
              "      <td id=\"T_dace8_row7_col9\" class=\"data row7 col9\" >0.143139</td>\n",
              "      <td id=\"T_dace8_row7_col10\" class=\"data row7 col10\" >-0.494727</td>\n",
              "      <td id=\"T_dace8_row7_col11\" class=\"data row7 col11\" >-0.175208</td>\n",
              "    </tr>\n",
              "    <tr>\n",
              "      <th id=\"T_dace8_level0_row8\" class=\"row_heading level0 row8\" >pH</th>\n",
              "      <td id=\"T_dace8_row8_col0\" class=\"data row8 col0\" >-0.685163</td>\n",
              "      <td id=\"T_dace8_row8_col1\" class=\"data row8 col1\" >0.221492</td>\n",
              "      <td id=\"T_dace8_row8_col2\" class=\"data row8 col2\" >-0.546339</td>\n",
              "      <td id=\"T_dace8_row8_col3\" class=\"data row8 col3\" >-0.116959</td>\n",
              "      <td id=\"T_dace8_row8_col4\" class=\"data row8 col4\" >-0.277759</td>\n",
              "      <td id=\"T_dace8_row8_col5\" class=\"data row8 col5\" >0.072804</td>\n",
              "      <td id=\"T_dace8_row8_col6\" class=\"data row8 col6\" >-0.059126</td>\n",
              "      <td id=\"T_dace8_row8_col7\" class=\"data row8 col7\" >-0.352775</td>\n",
              "      <td id=\"T_dace8_row8_col8\" class=\"data row8 col8\" >1.000000</td>\n",
              "      <td id=\"T_dace8_row8_col9\" class=\"data row8 col9\" >-0.185499</td>\n",
              "      <td id=\"T_dace8_row8_col10\" class=\"data row8 col10\" >0.225322</td>\n",
              "      <td id=\"T_dace8_row8_col11\" class=\"data row8 col11\" >-0.052453</td>\n",
              "    </tr>\n",
              "    <tr>\n",
              "      <th id=\"T_dace8_level0_row9\" class=\"row_heading level0 row9\" >sulphates</th>\n",
              "      <td id=\"T_dace8_row9_col0\" class=\"data row9 col0\" >0.174592</td>\n",
              "      <td id=\"T_dace8_row9_col1\" class=\"data row9 col1\" >-0.276079</td>\n",
              "      <td id=\"T_dace8_row9_col2\" class=\"data row9 col2\" >0.331232</td>\n",
              "      <td id=\"T_dace8_row9_col3\" class=\"data row9 col3\" >0.017475</td>\n",
              "      <td id=\"T_dace8_row9_col4\" class=\"data row9 col4\" >0.374784</td>\n",
              "      <td id=\"T_dace8_row9_col5\" class=\"data row9 col5\" >0.034445</td>\n",
              "      <td id=\"T_dace8_row9_col6\" class=\"data row9 col6\" >0.026894</td>\n",
              "      <td id=\"T_dace8_row9_col7\" class=\"data row9 col7\" >0.143139</td>\n",
              "      <td id=\"T_dace8_row9_col8\" class=\"data row9 col8\" >-0.185499</td>\n",
              "      <td id=\"T_dace8_row9_col9\" class=\"data row9 col9\" >1.000000</td>\n",
              "      <td id=\"T_dace8_row9_col10\" class=\"data row9 col10\" >0.094421</td>\n",
              "      <td id=\"T_dace8_row9_col11\" class=\"data row9 col11\" >0.257710</td>\n",
              "    </tr>\n",
              "    <tr>\n",
              "      <th id=\"T_dace8_level0_row10\" class=\"row_heading level0 row10\" >alcohol</th>\n",
              "      <td id=\"T_dace8_row10_col0\" class=\"data row10 col0\" >-0.075055</td>\n",
              "      <td id=\"T_dace8_row10_col1\" class=\"data row10 col1\" >-0.203909</td>\n",
              "      <td id=\"T_dace8_row10_col2\" class=\"data row10 col2\" >0.106250</td>\n",
              "      <td id=\"T_dace8_row10_col3\" class=\"data row10 col3\" >0.058421</td>\n",
              "      <td id=\"T_dace8_row10_col4\" class=\"data row10 col4\" >-0.229917</td>\n",
              "      <td id=\"T_dace8_row10_col5\" class=\"data row10 col5\" >-0.047095</td>\n",
              "      <td id=\"T_dace8_row10_col6\" class=\"data row10 col6\" >-0.188165</td>\n",
              "      <td id=\"T_dace8_row10_col7\" class=\"data row10 col7\" >-0.494727</td>\n",
              "      <td id=\"T_dace8_row10_col8\" class=\"data row10 col8\" >0.225322</td>\n",
              "      <td id=\"T_dace8_row10_col9\" class=\"data row10 col9\" >0.094421</td>\n",
              "      <td id=\"T_dace8_row10_col10\" class=\"data row10 col10\" >1.000000</td>\n",
              "      <td id=\"T_dace8_row10_col11\" class=\"data row10 col11\" >0.484866</td>\n",
              "    </tr>\n",
              "    <tr>\n",
              "      <th id=\"T_dace8_level0_row11\" class=\"row_heading level0 row11\" >quality</th>\n",
              "      <td id=\"T_dace8_row11_col0\" class=\"data row11 col0\" >0.121970</td>\n",
              "      <td id=\"T_dace8_row11_col1\" class=\"data row11 col1\" >-0.407394</td>\n",
              "      <td id=\"T_dace8_row11_col2\" class=\"data row11 col2\" >0.240821</td>\n",
              "      <td id=\"T_dace8_row11_col3\" class=\"data row11 col3\" >0.022002</td>\n",
              "      <td id=\"T_dace8_row11_col4\" class=\"data row11 col4\" >-0.124085</td>\n",
              "      <td id=\"T_dace8_row11_col5\" class=\"data row11 col5\" >-0.063260</td>\n",
              "      <td id=\"T_dace8_row11_col6\" class=\"data row11 col6\" >-0.183339</td>\n",
              "      <td id=\"T_dace8_row11_col7\" class=\"data row11 col7\" >-0.175208</td>\n",
              "      <td id=\"T_dace8_row11_col8\" class=\"data row11 col8\" >-0.052453</td>\n",
              "      <td id=\"T_dace8_row11_col9\" class=\"data row11 col9\" >0.257710</td>\n",
              "      <td id=\"T_dace8_row11_col10\" class=\"data row11 col10\" >0.484866</td>\n",
              "      <td id=\"T_dace8_row11_col11\" class=\"data row11 col11\" >1.000000</td>\n",
              "    </tr>\n",
              "  </tbody>\n",
              "</table>\n"
            ]
          },
          "metadata": {},
          "execution_count": 14
        }
      ]
    },
    {
      "cell_type": "markdown",
      "source": [
        "Dalla tabella si possono notare alcune dipenze tra la variabili di input, che verranno gestite in seguito attraverso regolarizzazione.\n",
        "Possiamo notare anche con l'aggiunta di features polinomiali che in generale ad alte concentrazioni di alcohol e densità corrisponde un valore maggiore di qualità."
      ],
      "metadata": {
        "id": "7uj9Myd2shoH"
      }
    },
    {
      "cell_type": "code",
      "source": [
        "from pandas.core.frame import DataFrame\n",
        "from sklearn.preprocessing import PolynomialFeatures\n",
        "p = PolynomialFeatures(degree=2,include_bias=False)\n",
        "d2data = p.fit_transform(data)\n",
        "d2frame = DataFrame(d2data,index=data.index,columns=p.get_feature_names_out(data.columns))\n",
        "d2frame.corr()[\"quality\"].sort_values(ascending=False)[7:15]\n"
      ],
      "metadata": {
        "colab": {
          "base_uri": "https://localhost:8080/"
        },
        "id": "5r7oGcx8otZN",
        "outputId": "30ed906f-841a-47df-9434-e18cb0db3fad"
      },
      "execution_count": 15,
      "outputs": [
        {
          "output_type": "execute_result",
          "data": {
            "text/plain": [
              "density alcohol          0.486064\n",
              "alcohol                  0.484866\n",
              "alcohol^2                0.479769\n",
              "citric acid quality      0.422371\n",
              "sulphates alcohol        0.421844\n",
              "pH alcohol               0.382603\n",
              "fixed acidity alcohol    0.320437\n",
              "citric acid alcohol      0.309092\n",
              "Name: quality, dtype: float64"
            ]
          },
          "metadata": {},
          "execution_count": 15
        }
      ]
    },
    {
      "cell_type": "code",
      "source": [
        "plt.figure(figsize=(8,6))\n",
        "a=plt.scatter(data[\"volatile acidity\"],data[\"alcohol\"],c=data[\"quality\"])\n",
        "plt.colorbar(a)\n"
      ],
      "metadata": {
        "colab": {
          "base_uri": "https://localhost:8080/",
          "height": 396
        },
        "id": "nEroj0gY5r8O",
        "outputId": "68621e74-6d6b-4746-94eb-3069ba30f3f6"
      },
      "execution_count": 16,
      "outputs": [
        {
          "output_type": "execute_result",
          "data": {
            "text/plain": [
              "<matplotlib.colorbar.Colorbar at 0x7fa27c23a750>"
            ]
          },
          "metadata": {},
          "execution_count": 16
        },
        {
          "output_type": "display_data",
          "data": {
            "text/plain": [
              "<Figure size 576x432 with 2 Axes>"
            ],
            "image/png": "[encoded data removed]"
          },
          "metadata": {
            "needs_background": "light"
          }
        }
      ]
    },
    {
      "cell_type": "markdown",
      "source": [
        "Puliamo la tabella dai valori non interessanti e ordianiamo i valori linearmente correlati con la features quality:"
      ],
      "metadata": {
        "id": "E_QhcZtnpcpD"
      }
    },
    {
      "cell_type": "code",
      "source": [
        "data.corr()[\"quality\"].drop(labels=\"quality\").abs().sort_values(ascending=False)"
      ],
      "metadata": {
        "id": "ntnTPeE_oi3M",
        "outputId": "216f2e3e-ef94-4a7d-c881-e072f1aff1e2",
        "colab": {
          "base_uri": "https://localhost:8080/"
        }
      },
      "execution_count": 17,
      "outputs": [
        {
          "output_type": "execute_result",
          "data": {
            "text/plain": [
              "alcohol                 0.484866\n",
              "volatile acidity        0.407394\n",
              "sulphates               0.257710\n",
              "citric acid             0.240821\n",
              "total sulfur dioxide    0.183339\n",
              "density                 0.175208\n",
              "chlorides               0.124085\n",
              "fixed acidity           0.121970\n",
              "free sulfur dioxide     0.063260\n",
              "pH                      0.052453\n",
              "residual sugar          0.022002\n",
              "Name: quality, dtype: float64"
            ]
          },
          "metadata": {},
          "execution_count": 17
        }
      ]
    },
    {
      "cell_type": "markdown",
      "source": [
        "Possiamo notare che le prime quattro features che compaiono sono alcohol, volatile acidity, sulphates, citric acid. Questo significa che queste features sono quelle con un riscontro più rilavanti sulla qualità del vino.                     "
      ],
      "metadata": {
        "id": "4wO5WAaCqQ4F"
      }
    },
    {
      "cell_type": "code",
      "source": [
        "figure, axes = plt.subplots(1, 2)\n",
        "axes[0].plot(data.groupby(\"quality\")[\"alcohol\"].mean().index,data.groupby(\"quality\")[\"alcohol\"].mean())\n",
        "data.boxplot(column=\"alcohol\", by =\"quality\",showmeans=True,ax=axes[1])\n"
      ],
      "metadata": {
        "id": "CZnYjWeQxEgh",
        "outputId": "14b8cd7d-5348-4f96-f403-e8eb8f5b1599",
        "colab": {
          "base_uri": "https://localhost:8080/",
          "height": 376
        }
      },
      "execution_count": 18,
      "outputs": [
        {
          "output_type": "stream",
          "name": "stderr",
          "text": [
            "/usr/local/lib/python3.7/dist-packages/matplotlib/cbook/__init__.py:1376: VisibleDeprecationWarning: Creating an ndarray from ragged nested sequences (which is a list-or-tuple of lists-or-tuples-or ndarrays with different lengths or shapes) is deprecated. If you meant to do this, you must specify 'dtype=object' when creating the ndarray.\n",
            "  X = np.atleast_1d(X.T if isinstance(X, np.ndarray) else np.asarray(X))\n"
          ]
        },
        {
          "output_type": "execute_result",
          "data": {
            "text/plain": [
              "<matplotlib.axes._subplots.AxesSubplot at 0x7fa27c69eed0>"
            ]
          },
          "metadata": {},
          "execution_count": 18
        },
        {
          "output_type": "display_data",
          "data": {
            "text/plain": [
              "<Figure size 432x288 with 2 Axes>"
            ],
            "image/png": "[encoded data removed]"
          },
          "metadata": {
            "needs_background": "light"
          }
        }
      ]
    },
    {
      "cell_type": "markdown",
      "source": [
        "La correlazine tra alcohol e qualità è direttamnete proporzionale.L'indice di correllazione infatti è:\n"
      ],
      "metadata": {
        "id": "3cR-f20Y3fJz"
      }
    },
    {
      "cell_type": "code",
      "source": [
        "data.corr().loc[\"quality\",\"alcohol\"]"
      ],
      "metadata": {
        "colab": {
          "base_uri": "https://localhost:8080/"
        },
        "id": "STx9o6W-3t1y",
        "outputId": "c9894485-cca3-41f7-ee82-333617f0410a"
      },
      "execution_count": 19,
      "outputs": [
        {
          "output_type": "execute_result",
          "data": {
            "text/plain": [
              "0.48486621180851264"
            ]
          },
          "metadata": {},
          "execution_count": 19
        }
      ]
    },
    {
      "cell_type": "code",
      "source": [
        "plt.plot(data.groupby(\"quality\")[\"volatile acidity\"].mean().index,data.groupby(\"quality\")[\"volatile acidity\"].mean())\n",
        "data.boxplot(column=\"volatile acidity\", by =\"quality\",showmeans=True,figsize=(10,7))"
      ],
      "metadata": {
        "id": "aeKJkiaYvdJE",
        "outputId": "ac09f2ec-5fe5-41f9-edfd-72abc8bd40ef",
        "colab": {
          "base_uri": "https://localhost:8080/",
          "height": 803
        }
      },
      "execution_count": 20,
      "outputs": [
        {
          "output_type": "stream",
          "name": "stderr",
          "text": [
            "/usr/local/lib/python3.7/dist-packages/matplotlib/cbook/__init__.py:1376: VisibleDeprecationWarning: Creating an ndarray from ragged nested sequences (which is a list-or-tuple of lists-or-tuples-or ndarrays with different lengths or shapes) is deprecated. If you meant to do this, you must specify 'dtype=object' when creating the ndarray.\n",
            "  X = np.atleast_1d(X.T if isinstance(X, np.ndarray) else np.asarray(X))\n"
          ]
        },
        {
          "output_type": "execute_result",
          "data": {
            "text/plain": [
              "<matplotlib.axes._subplots.AxesSubplot at 0x7fa26c03cd90>"
            ]
          },
          "metadata": {},
          "execution_count": 20
        },
        {
          "output_type": "display_data",
          "data": {
            "text/plain": [
              "<Figure size 432x288 with 1 Axes>"
            ],
            "image/png": "[encoded data removed]"
          },
          "metadata": {
            "needs_background": "light"
          }
        },
        {
          "output_type": "display_data",
          "data": {
            "text/plain": [
              "<Figure size 720x504 with 1 Axes>"
            ],
            "image/png": "[encoded data removed]"
          },
          "metadata": {
            "needs_background": "light"
          }
        }
      ]
    },
    {
      "cell_type": "markdown",
      "source": [
        "La correlazine tra volatile acidity e qualità è inversamente proporzionale.L'indice di correllazione infatti è:"
      ],
      "metadata": {
        "id": "5pEo4U9L4WAS"
      }
    },
    {
      "cell_type": "code",
      "source": [
        "data.corr().loc[\"quality\",\"volatile acidity\"]"
      ],
      "metadata": {
        "id": "gsAP-B9E4gP_",
        "colab": {
          "base_uri": "https://localhost:8080/"
        },
        "outputId": "12345f21-3f65-428c-981e-8458a307d3d4"
      },
      "execution_count": 21,
      "outputs": [
        {
          "output_type": "execute_result",
          "data": {
            "text/plain": [
              "-0.40739351292438425"
            ]
          },
          "metadata": {},
          "execution_count": 21
        }
      ]
    },
    {
      "cell_type": "code",
      "source": [
        "plt.plot(data.groupby(\"quality\")[\"sulphates\"].mean().index,data.groupby(\"quality\")[\"sulphates\"].mean())\n",
        "data.boxplot(column=\"sulphates\", by =\"quality\",showmeans=True,figsize=(10,7))"
      ],
      "metadata": {
        "id": "A2_Zx91VwHql",
        "outputId": "8443a837-f6e0-4aa8-eb68-67919631536a",
        "colab": {
          "base_uri": "https://localhost:8080/",
          "height": 803
        }
      },
      "execution_count": 22,
      "outputs": [
        {
          "output_type": "stream",
          "name": "stderr",
          "text": [
            "/usr/local/lib/python3.7/dist-packages/matplotlib/cbook/__init__.py:1376: VisibleDeprecationWarning: Creating an ndarray from ragged nested sequences (which is a list-or-tuple of lists-or-tuples-or ndarrays with different lengths or shapes) is deprecated. If you meant to do this, you must specify 'dtype=object' when creating the ndarray.\n",
            "  X = np.atleast_1d(X.T if isinstance(X, np.ndarray) else np.asarray(X))\n"
          ]
        },
        {
          "output_type": "execute_result",
          "data": {
            "text/plain": [
              "<matplotlib.axes._subplots.AxesSubplot at 0x7fa26beb4e90>"
            ]
          },
          "metadata": {},
          "execution_count": 22
        },
        {
          "output_type": "display_data",
          "data": {
            "text/plain": [
              "<Figure size 432x288 with 1 Axes>"
            ],
            "image/png": "[encoded data removed]"
          },
          "metadata": {
            "needs_background": "light"
          }
        },
        {
          "output_type": "display_data",
          "data": {
            "text/plain": [
              "<Figure size 720x504 with 1 Axes>"
            ],
            "image/png": "[encoded data removed]"
          },
          "metadata": {
            "needs_background": "light"
          }
        }
      ]
    },
    {
      "cell_type": "markdown",
      "source": [
        "La correlazine tra sulphates e qualità è direttamente proporzionale.L'indice di correllazione infatti è:\n",
        "\n"
      ],
      "metadata": {
        "id": "Jz0jCV5O4lKp"
      }
    },
    {
      "cell_type": "code",
      "source": [
        "data.corr().loc[\"quality\",\"sulphates\"]"
      ],
      "metadata": {
        "id": "gZZK1iv34woc",
        "outputId": "47308d7a-a508-4669-a5ed-a97dd77e688c",
        "colab": {
          "base_uri": "https://localhost:8080/"
        }
      },
      "execution_count": 23,
      "outputs": [
        {
          "output_type": "execute_result",
          "data": {
            "text/plain": [
              "0.2577102599306222"
            ]
          },
          "metadata": {},
          "execution_count": 23
        }
      ]
    },
    {
      "cell_type": "code",
      "source": [
        "plt.plot(data.groupby(\"quality\")[\"citric acid\"].mean().index,data.groupby(\"quality\")[\"citric acid\"].mean())\n",
        "data.boxplot(column=\"citric acid\", by =\"quality\",showmeans=True,figsize=(10,7))"
      ],
      "metadata": {
        "id": "jEaMwaPOowp0",
        "outputId": "07f6f1c6-e04c-4fd8-9c39-3b4bda7dd4cf",
        "colab": {
          "base_uri": "https://localhost:8080/",
          "height": 803
        }
      },
      "execution_count": 24,
      "outputs": [
        {
          "output_type": "stream",
          "name": "stderr",
          "text": [
            "/usr/local/lib/python3.7/dist-packages/matplotlib/cbook/__init__.py:1376: VisibleDeprecationWarning: Creating an ndarray from ragged nested sequences (which is a list-or-tuple of lists-or-tuples-or ndarrays with different lengths or shapes) is deprecated. If you meant to do this, you must specify 'dtype=object' when creating the ndarray.\n",
            "  X = np.atleast_1d(X.T if isinstance(X, np.ndarray) else np.asarray(X))\n"
          ]
        },
        {
          "output_type": "execute_result",
          "data": {
            "text/plain": [
              "<matplotlib.axes._subplots.AxesSubplot at 0x7fa26bd2f590>"
            ]
          },
          "metadata": {},
          "execution_count": 24
        },
        {
          "output_type": "display_data",
          "data": {
            "text/plain": [
              "<Figure size 432x288 with 1 Axes>"
            ],
            "image/png": "[encoded data removed]"
          },
          "metadata": {
            "needs_background": "light"
          }
        },
        {
          "output_type": "display_data",
          "data": {
            "text/plain": [
              "<Figure size 720x504 with 1 Axes>"
            ],
            "image/png": "[encoded data removed]"
          },
          "metadata": {
            "needs_background": "light"
          }
        }
      ]
    },
    {
      "cell_type": "markdown",
      "source": [
        "La correlazine tra citric acid e qualità è direttamente proporzionale.L'indice di correllazione infatti è:"
      ],
      "metadata": {
        "id": "N6ErJF4d4-PH"
      }
    },
    {
      "cell_type": "code",
      "source": [
        "data.corr().loc[\"quality\",\"citric acid\"]"
      ],
      "metadata": {
        "id": "ZYoYWsL-uEXI",
        "outputId": "842a844e-07d4-4733-8217-32ed99f6ba6e",
        "colab": {
          "base_uri": "https://localhost:8080/"
        }
      },
      "execution_count": 25,
      "outputs": [
        {
          "output_type": "execute_result",
          "data": {
            "text/plain": [
              "0.24082083714719305"
            ]
          },
          "metadata": {},
          "execution_count": 25
        }
      ]
    },
    {
      "cell_type": "markdown",
      "source": [
        "# Normalizzazione\n",
        "Come possiamo vedere le features hanno scale diverse, quindi si prosegue con normalizzazione dei dati."
      ],
      "metadata": {
        "id": "jET52u14xmOc"
      }
    },
    {
      "cell_type": "code",
      "source": [
        "data.drop(columns=\"quality\").aggregate([\"min\",\"max\"]).T"
      ],
      "metadata": {
        "colab": {
          "base_uri": "https://localhost:8080/",
          "height": 394
        },
        "id": "WDlamdzMyoiv",
        "outputId": "2e408477-a034-4bd9-ccee-6309e23a44bd"
      },
      "execution_count": 26,
      "outputs": [
        {
          "output_type": "execute_result",
          "data": {
            "text/plain": [
              "                          min        max\n",
              "fixed acidity         4.60000   15.90000\n",
              "volatile acidity      0.12000    1.58000\n",
              "citric acid           0.00000    1.00000\n",
              "residual sugar        0.90000   15.50000\n",
              "chlorides             0.01200    0.61100\n",
              "free sulfur dioxide   1.00000   68.00000\n",
              "total sulfur dioxide  6.00000  289.00000\n",
              "density               0.99007    1.00369\n",
              "pH                    2.74000    4.01000\n",
              "sulphates             0.33000    2.00000\n",
              "alcohol               8.40000   14.90000"
            ],
            "text/html": [
              "\n",
              "  <div id=\"df-128aa848-e5de-42a1-82e3-d42099c1b992\">\n",
              "    <div class=\"colab-df-container\">\n",
              "      <div>\n",
              "<style scoped>\n",
              "    .dataframe tbody tr th:only-of-type {\n",
              "        vertical-align: middle;\n",
              "    }\n",
              "\n",
              "    .dataframe tbody tr th {\n",
              "        vertical-align: top;\n",
              "    }\n",
              "\n",
              "    .dataframe thead th {\n",
              "        text-align: right;\n",
              "    }\n",
              "</style>\n",
              "<table border=\"1\" class=\"dataframe\">\n",
              "  <thead>\n",
              "    <tr style=\"text-align: right;\">\n",
              "      <th></th>\n",
              "      <th>min</th>\n",
              "      <th>max</th>\n",
              "    </tr>\n",
              "  </thead>\n",
              "  <tbody>\n",
              "    <tr>\n",
              "      <th>fixed acidity</th>\n",
              "      <td>4.60000</td>\n",
              "      <td>15.90000</td>\n",
              "    </tr>\n",
              "    <tr>\n",
              "      <th>volatile acidity</th>\n",
              "      <td>0.12000</td>\n",
              "      <td>1.58000</td>\n",
              "    </tr>\n",
              "    <tr>\n",
              "      <th>citric acid</th>\n",
              "      <td>0.00000</td>\n",
              "      <td>1.00000</td>\n",
              "    </tr>\n",
              "    <tr>\n",
              "      <th>residual sugar</th>\n",
              "      <td>0.90000</td>\n",
              "      <td>15.50000</td>\n",
              "    </tr>\n",
              "    <tr>\n",
              "      <th>chlorides</th>\n",
              "      <td>0.01200</td>\n",
              "      <td>0.61100</td>\n",
              "    </tr>\n",
              "    <tr>\n",
              "      <th>free sulfur dioxide</th>\n",
              "      <td>1.00000</td>\n",
              "      <td>68.00000</td>\n",
              "    </tr>\n",
              "    <tr>\n",
              "      <th>total sulfur dioxide</th>\n",
              "      <td>6.00000</td>\n",
              "      <td>289.00000</td>\n",
              "    </tr>\n",
              "    <tr>\n",
              "      <th>density</th>\n",
              "      <td>0.99007</td>\n",
              "      <td>1.00369</td>\n",
              "    </tr>\n",
              "    <tr>\n",
              "      <th>pH</th>\n",
              "      <td>2.74000</td>\n",
              "      <td>4.01000</td>\n",
              "    </tr>\n",
              "    <tr>\n",
              "      <th>sulphates</th>\n",
              "      <td>0.33000</td>\n",
              "      <td>2.00000</td>\n",
              "    </tr>\n",
              "    <tr>\n",
              "      <th>alcohol</th>\n",
              "      <td>8.40000</td>\n",
              "      <td>14.90000</td>\n",
              "    </tr>\n",
              "  </tbody>\n",
              "</table>\n",
              "</div>\n",
              "      <button class=\"colab-df-convert\" onclick=\"convertToInteractive('df-128aa848-e5de-42a1-82e3-d42099c1b992')\"\n",
              "              title=\"Convert this dataframe to an interactive table.\"\n",
              "              style=\"display:none;\">\n",
              "        \n",
              "  <svg xmlns=\"http://www.w3.org/2000/svg\" height=\"24px\"viewBox=\"0 0 24 24\"\n",
              "       width=\"24px\">\n",
              "    <path d=\"M0 0h24v24H0V0z\" fill=\"none\"/>\n",
              "    <path d=\"M18.56 5.44l.94 2.06.94-2.06 2.06-.94-2.06-.94-.94-2.06-.94 2.06-2.06.94zm-11 1L8.5 8.5l.94-2.06 2.06-.94-2.06-.94L8.5 2.5l-.94 2.06-2.06.94zm10 10l.94 2.06.94-2.06 2.06-.94-2.06-.94-.94-2.06-.94 2.06-2.06.94z\"/><path d=\"M17.41 7.96l-1.37-1.37c-.4-.4-.92-.59-1.43-.59-.52 0-1.04.2-1.43.59L10.3 9.45l-7.72 7.72c-.78.78-.78 2.05 0 2.83L4 21.41c.39.39.9.59 1.41.59.51 0 1.02-.2 1.41-.59l7.78-7.78 2.81-2.81c.8-.78.8-2.07 0-2.86zM5.41 20L4 18.59l7.72-7.72 1.47 1.35L5.41 20z\"/>\n",
              "  </svg>\n",
              "      </button>\n",
              "      \n",
              "  <style>\n",
              "    .colab-df-container {\n",
              "      display:flex;\n",
              "      flex-wrap:wrap;\n",
              "      gap: 12px;\n",
              "    }\n",
              "\n",
              "    .colab-df-convert {\n",
              "      background-color: #E8F0FE;\n",
              "      border: none;\n",
              "      border-radius: 50%;\n",
              "      cursor: pointer;\n",
              "      display: none;\n",
              "      fill: #1967D2;\n",
              "      height: 32px;\n",
              "      padding: 0 0 0 0;\n",
              "      width: 32px;\n",
              "    }\n",
              "\n",
              "    .colab-df-convert:hover {\n",
              "      background-color: #E2EBFA;\n",
              "      box-shadow: 0px 1px 2px rgba(60, 64, 67, 0.3), 0px 1px 3px 1px rgba(60, 64, 67, 0.15);\n",
              "      fill: #174EA6;\n",
              "    }\n",
              "\n",
              "    [theme=dark] .colab-df-convert {\n",
              "      background-color: #3B4455;\n",
              "      fill: #D2E3FC;\n",
              "    }\n",
              "\n",
              "    [theme=dark] .colab-df-convert:hover {\n",
              "      background-color: #434B5C;\n",
              "      box-shadow: 0px 1px 3px 1px rgba(0, 0, 0, 0.15);\n",
              "      filter: drop-shadow(0px 1px 2px rgba(0, 0, 0, 0.3));\n",
              "      fill: #FFFFFF;\n",
              "    }\n",
              "  </style>\n",
              "\n",
              "      <script>\n",
              "        const buttonEl =\n",
              "          document.querySelector('#df-128aa848-e5de-42a1-82e3-d42099c1b992 button.colab-df-convert');\n",
              "        buttonEl.style.display =\n",
              "          google.colab.kernel.accessAllowed ? 'block' : 'none';\n",
              "\n",
              "        async function convertToInteractive(key) {\n",
              "          const element = document.querySelector('#df-128aa848-e5de-42a1-82e3-d42099c1b992');\n",
              "          const dataTable =\n",
              "            await google.colab.kernel.invokeFunction('convertToInteractive',\n",
              "                                                     [key], {});\n",
              "          if (!dataTable) return;\n",
              "\n",
              "          const docLinkHtml = 'Like what you see? Visit the ' +\n",
              "            '<a target=\"_blank\" href=https://colab.research.google.com/notebooks/data_table.ipynb>data table notebook</a>'\n",
              "            + ' to learn more about interactive tables.';\n",
              "          element.innerHTML = '';\n",
              "          dataTable['output_type'] = 'display_data';\n",
              "          await google.colab.output.renderOutput(dataTable, element);\n",
              "          const docLink = document.createElement('div');\n",
              "          docLink.innerHTML = docLinkHtml;\n",
              "          element.appendChild(docLink);\n",
              "        }\n",
              "      </script>\n",
              "    </div>\n",
              "  </div>\n",
              "  "
            ]
          },
          "metadata": {},
          "execution_count": 26
        }
      ]
    },
    {
      "cell_type": "code",
      "source": [
        "from sklearn.preprocessing import MinMaxScaler \n",
        "X = MinMaxScaler().fit_transform(data.drop(columns=\"quality\"))\n",
        "X = DataFrame(X,columns=data.drop(columns=\"quality\").columns,index=data.index)\n",
        "X.head()"
      ],
      "metadata": {
        "colab": {
          "base_uri": "https://localhost:8080/",
          "height": 237
        },
        "id": "3gi_yZKtyqWi",
        "outputId": "405301e8-25ac-429f-bc14-4b66a0d8d9f8"
      },
      "execution_count": 27,
      "outputs": [
        {
          "output_type": "execute_result",
          "data": {
            "text/plain": [
              "    fixed acidity  volatile acidity  citric acid  residual sugar  chlorides  \\\n",
              "Id                                                                            \n",
              "0        0.247788          0.397260         0.00        0.068493   0.106845   \n",
              "1        0.283186          0.520548         0.00        0.116438   0.143573   \n",
              "2        0.283186          0.438356         0.04        0.095890   0.133556   \n",
              "3        0.584071          0.109589         0.56        0.068493   0.105175   \n",
              "4        0.247788          0.397260         0.00        0.068493   0.106845   \n",
              "\n",
              "    free sulfur dioxide  total sulfur dioxide   density        pH  sulphates  \\\n",
              "Id                                                                             \n",
              "0              0.149254              0.098940  0.567548  0.606299   0.137725   \n",
              "1              0.358209              0.215548  0.494126  0.362205   0.209581   \n",
              "2              0.208955              0.169611  0.508811  0.409449   0.191617   \n",
              "3              0.238806              0.190813  0.582232  0.330709   0.149701   \n",
              "4              0.149254              0.098940  0.567548  0.606299   0.137725   \n",
              "\n",
              "     alcohol  \n",
              "Id            \n",
              "0   0.153846  \n",
              "1   0.215385  \n",
              "2   0.215385  \n",
              "3   0.215385  \n",
              "4   0.153846  "
            ],
            "text/html": [
              "\n",
              "  <div id=\"df-82f50949-13e4-4966-8822-926de0b6b15b\">\n",
              "    <div class=\"colab-df-container\">\n",
              "      <div>\n",
              "<style scoped>\n",
              "    .dataframe tbody tr th:only-of-type {\n",
              "        vertical-align: middle;\n",
              "    }\n",
              "\n",
              "    .dataframe tbody tr th {\n",
              "        vertical-align: top;\n",
              "    }\n",
              "\n",
              "    .dataframe thead th {\n",
              "        text-align: right;\n",
              "    }\n",
              "</style>\n",
              "<table border=\"1\" class=\"dataframe\">\n",
              "  <thead>\n",
              "    <tr style=\"text-align: right;\">\n",
              "      <th></th>\n",
              "      <th>fixed acidity</th>\n",
              "      <th>volatile acidity</th>\n",
              "      <th>citric acid</th>\n",
              "      <th>residual sugar</th>\n",
              "      <th>chlorides</th>\n",
              "      <th>free sulfur dioxide</th>\n",
              "      <th>total sulfur dioxide</th>\n",
              "      <th>density</th>\n",
              "      <th>pH</th>\n",
              "      <th>sulphates</th>\n",
              "      <th>alcohol</th>\n",
              "    </tr>\n",
              "    <tr>\n",
              "      <th>Id</th>\n",
              "      <th></th>\n",
              "      <th></th>\n",
              "      <th></th>\n",
              "      <th></th>\n",
              "      <th></th>\n",
              "      <th></th>\n",
              "      <th></th>\n",
              "      <th></th>\n",
              "      <th></th>\n",
              "      <th></th>\n",
              "      <th></th>\n",
              "    </tr>\n",
              "  </thead>\n",
              "  <tbody>\n",
              "    <tr>\n",
              "      <th>0</th>\n",
              "      <td>0.247788</td>\n",
              "      <td>0.397260</td>\n",
              "      <td>0.00</td>\n",
              "      <td>0.068493</td>\n",
              "      <td>0.106845</td>\n",
              "      <td>0.149254</td>\n",
              "      <td>0.098940</td>\n",
              "      <td>0.567548</td>\n",
              "      <td>0.606299</td>\n",
              "      <td>0.137725</td>\n",
              "      <td>0.153846</td>\n",
              "    </tr>\n",
              "    <tr>\n",
              "      <th>1</th>\n",
              "      <td>0.283186</td>\n",
              "      <td>0.520548</td>\n",
              "      <td>0.00</td>\n",
              "      <td>0.116438</td>\n",
              "      <td>0.143573</td>\n",
              "      <td>0.358209</td>\n",
              "      <td>0.215548</td>\n",
              "      <td>0.494126</td>\n",
              "      <td>0.362205</td>\n",
              "      <td>0.209581</td>\n",
              "      <td>0.215385</td>\n",
              "    </tr>\n",
              "    <tr>\n",
              "      <th>2</th>\n",
              "      <td>0.283186</td>\n",
              "      <td>0.438356</td>\n",
              "      <td>0.04</td>\n",
              "      <td>0.095890</td>\n",
              "      <td>0.133556</td>\n",
              "      <td>0.208955</td>\n",
              "      <td>0.169611</td>\n",
              "      <td>0.508811</td>\n",
              "      <td>0.409449</td>\n",
              "      <td>0.191617</td>\n",
              "      <td>0.215385</td>\n",
              "    </tr>\n",
              "    <tr>\n",
              "      <th>3</th>\n",
              "      <td>0.584071</td>\n",
              "      <td>0.109589</td>\n",
              "      <td>0.56</td>\n",
              "      <td>0.068493</td>\n",
              "      <td>0.105175</td>\n",
              "      <td>0.238806</td>\n",
              "      <td>0.190813</td>\n",
              "      <td>0.582232</td>\n",
              "      <td>0.330709</td>\n",
              "      <td>0.149701</td>\n",
              "      <td>0.215385</td>\n",
              "    </tr>\n",
              "    <tr>\n",
              "      <th>4</th>\n",
              "      <td>0.247788</td>\n",
              "      <td>0.397260</td>\n",
              "      <td>0.00</td>\n",
              "      <td>0.068493</td>\n",
              "      <td>0.106845</td>\n",
              "      <td>0.149254</td>\n",
              "      <td>0.098940</td>\n",
              "      <td>0.567548</td>\n",
              "      <td>0.606299</td>\n",
              "      <td>0.137725</td>\n",
              "      <td>0.153846</td>\n",
              "    </tr>\n",
              "  </tbody>\n",
              "</table>\n",
              "</div>\n",
              "      <button class=\"colab-df-convert\" onclick=\"convertToInteractive('df-82f50949-13e4-4966-8822-926de0b6b15b')\"\n",
              "              title=\"Convert this dataframe to an interactive table.\"\n",
              "              style=\"display:none;\">\n",
              "        \n",
              "  <svg xmlns=\"http://www.w3.org/2000/svg\" height=\"24px\"viewBox=\"0 0 24 24\"\n",
              "       width=\"24px\">\n",
              "    <path d=\"M0 0h24v24H0V0z\" fill=\"none\"/>\n",
              "    <path d=\"M18.56 5.44l.94 2.06.94-2.06 2.06-.94-2.06-.94-.94-2.06-.94 2.06-2.06.94zm-11 1L8.5 8.5l.94-2.06 2.06-.94-2.06-.94L8.5 2.5l-.94 2.06-2.06.94zm10 10l.94 2.06.94-2.06 2.06-.94-2.06-.94-.94-2.06-.94 2.06-2.06.94z\"/><path d=\"M17.41 7.96l-1.37-1.37c-.4-.4-.92-.59-1.43-.59-.52 0-1.04.2-1.43.59L10.3 9.45l-7.72 7.72c-.78.78-.78 2.05 0 2.83L4 21.41c.39.39.9.59 1.41.59.51 0 1.02-.2 1.41-.59l7.78-7.78 2.81-2.81c.8-.78.8-2.07 0-2.86zM5.41 20L4 18.59l7.72-7.72 1.47 1.35L5.41 20z\"/>\n",
              "  </svg>\n",
              "      </button>\n",
              "      \n",
              "  <style>\n",
              "    .colab-df-container {\n",
              "      display:flex;\n",
              "      flex-wrap:wrap;\n",
              "      gap: 12px;\n",
              "    }\n",
              "\n",
              "    .colab-df-convert {\n",
              "      background-color: #E8F0FE;\n",
              "      border: none;\n",
              "      border-radius: 50%;\n",
              "      cursor: pointer;\n",
              "      display: none;\n",
              "      fill: #1967D2;\n",
              "      height: 32px;\n",
              "      padding: 0 0 0 0;\n",
              "      width: 32px;\n",
              "    }\n",
              "\n",
              "    .colab-df-convert:hover {\n",
              "      background-color: #E2EBFA;\n",
              "      box-shadow: 0px 1px 2px rgba(60, 64, 67, 0.3), 0px 1px 3px 1px rgba(60, 64, 67, 0.15);\n",
              "      fill: #174EA6;\n",
              "    }\n",
              "\n",
              "    [theme=dark] .colab-df-convert {\n",
              "      background-color: #3B4455;\n",
              "      fill: #D2E3FC;\n",
              "    }\n",
              "\n",
              "    [theme=dark] .colab-df-convert:hover {\n",
              "      background-color: #434B5C;\n",
              "      box-shadow: 0px 1px 3px 1px rgba(0, 0, 0, 0.15);\n",
              "      filter: drop-shadow(0px 1px 2px rgba(0, 0, 0, 0.3));\n",
              "      fill: #FFFFFF;\n",
              "    }\n",
              "  </style>\n",
              "\n",
              "      <script>\n",
              "        const buttonEl =\n",
              "          document.querySelector('#df-82f50949-13e4-4966-8822-926de0b6b15b button.colab-df-convert');\n",
              "        buttonEl.style.display =\n",
              "          google.colab.kernel.accessAllowed ? 'block' : 'none';\n",
              "\n",
              "        async function convertToInteractive(key) {\n",
              "          const element = document.querySelector('#df-82f50949-13e4-4966-8822-926de0b6b15b');\n",
              "          const dataTable =\n",
              "            await google.colab.kernel.invokeFunction('convertToInteractive',\n",
              "                                                     [key], {});\n",
              "          if (!dataTable) return;\n",
              "\n",
              "          const docLinkHtml = 'Like what you see? Visit the ' +\n",
              "            '<a target=\"_blank\" href=https://colab.research.google.com/notebooks/data_table.ipynb>data table notebook</a>'\n",
              "            + ' to learn more about interactive tables.';\n",
              "          element.innerHTML = '';\n",
              "          dataTable['output_type'] = 'display_data';\n",
              "          await google.colab.output.renderOutput(dataTable, element);\n",
              "          const docLink = document.createElement('div');\n",
              "          docLink.innerHTML = docLinkHtml;\n",
              "          element.appendChild(docLink);\n",
              "        }\n",
              "      </script>\n",
              "    </div>\n",
              "  </div>\n",
              "  "
            ]
          },
          "metadata": {},
          "execution_count": 27
        }
      ]
    },
    {
      "cell_type": "code",
      "source": [
        "Y = data[\"quality\"]"
      ],
      "metadata": {
        "id": "sYRFeBwJALzF"
      },
      "execution_count": 28,
      "outputs": []
    },
    {
      "cell_type": "markdown",
      "source": [
        "# Rilevanza features"
      ],
      "metadata": {
        "id": "VTWkqszL8T17"
      }
    },
    {
      "cell_type": "markdown",
      "source": [
        "Dividiamo i dati in train e validation set. Creiamo un primo modello di classificazione con regolarizzazione Lasso per andare ad identificare le features più o meno rilevanti. Incorporiamo il modello in una pipeline in modo da valutare anche inserimenti di features non lineari attraverso una Grid Search.\n"
      ],
      "metadata": {
        "id": "QFfUuWiwfxdo"
      }
    },
    {
      "cell_type": "code",
      "source": [
        "from sklearn.model_selection import train_test_split\n",
        "from sklearn.model_selection import StratifiedKFold\n",
        "from sklearn.linear_model import LogisticRegression\n",
        "from sklearn.pipeline import Pipeline\n",
        "\n",
        "X_train, X_val, y_train, y_val = train_test_split(X,Y,test_size=1/3,random_state=42)\n",
        "model = Pipeline([\n",
        "                  (\"poly\",PolynomialFeatures()),\n",
        "                  (\"classifier\",LogisticRegression(solver=\"saga\", random_state=42, penalty=\"l1\", C=10,multi_class=\"ovr\"))\n",
        "])\n"
      ],
      "metadata": {
        "id": "tpK2ayCM8Yhs"
      },
      "execution_count": 29,
      "outputs": []
    },
    {
      "cell_type": "code",
      "source": [
        "from sklearn.model_selection import GridSearchCV\n",
        "grid = {\n",
        "        \"poly__degree\": [1,3,5],\n",
        "    \"classifier__C\": [0.01,0.1,1,10],\n",
        "    \"classifier__class_weight\" : [\"balanced\",None]\n",
        "}\n",
        "skf = StratifiedKFold(3,shuffle=True, random_state=42)\n",
        "gs = GridSearchCV(model,cv=skf,param_grid=grid,return_train_score=True)\n"
      ],
      "metadata": {
        "id": "KYfhWeE-As8m"
      },
      "execution_count": 30,
      "outputs": []
    },
    {
      "cell_type": "code",
      "source": [
        "gs.fit(X_train,y_train)\n"
      ],
      "metadata": {
        "id": "t4J-98h4lMjL"
      },
      "execution_count": null,
      "outputs": []
    },
    {
      "cell_type": "markdown",
      "source": [
        "Prendiamo i risultati della grid search e li ordiniamo per score."
      ],
      "metadata": {
        "id": "pZsyO6nHhwUw"
      }
    },
    {
      "cell_type": "code",
      "source": [
        "DataFrame(gs.cv_results_).sort_values(\"rank_test_score\").head(10)"
      ],
      "metadata": {
        "colab": {
          "base_uri": "https://localhost:8080/",
          "height": 600
        },
        "id": "AAAVWQkaIeNR",
        "outputId": "6cfa55c1-d172-4de2-f6b3-3b8ceda141d1"
      },
      "execution_count": 32,
      "outputs": [
        {
          "output_type": "execute_result",
          "data": {
            "text/plain": [
              "    mean_fit_time  std_fit_time  mean_score_time  std_score_time  \\\n",
              "23      21.665722      0.335846         0.010267        0.000678   \n",
              "22       1.943376      0.038523         0.004515        0.000517   \n",
              "21       0.110356      0.020348         0.002519        0.000220   \n",
              "17      21.492399      0.640203         0.011283        0.000092   \n",
              "16       1.730835      0.086170         0.004526        0.000577   \n",
              "15       0.069081      0.011232         0.002587        0.000490   \n",
              "10       0.362800      0.156296         0.004449        0.000519   \n",
              "11       5.402211      1.320620         0.012135        0.000996   \n",
              "9        0.022415      0.002349         0.002884        0.000024   \n",
              "20      23.476229      0.309585         0.010634        0.000572   \n",
              "\n",
              "   param_classifier__C param_classifier__class_weight param_poly__degree  \\\n",
              "23                  10                           None                  5   \n",
              "22                  10                           None                  3   \n",
              "21                  10                           None                  1   \n",
              "17                   1                           None                  5   \n",
              "16                   1                           None                  3   \n",
              "15                   1                           None                  1   \n",
              "10                 0.1                           None                  3   \n",
              "11                 0.1                           None                  5   \n",
              "9                  0.1                           None                  1   \n",
              "20                  10                       balanced                  5   \n",
              "\n",
              "                                               params  split0_test_score  \\\n",
              "23  {'classifier__C': 10, 'classifier__class_weigh...           0.555118   \n",
              "22  {'classifier__C': 10, 'classifier__class_weigh...           0.539370   \n",
              "21  {'classifier__C': 10, 'classifier__class_weigh...           0.519685   \n",
              "17  {'classifier__C': 1, 'classifier__class_weight...           0.539370   \n",
              "16  {'classifier__C': 1, 'classifier__class_weight...           0.535433   \n",
              "15  {'classifier__C': 1, 'classifier__class_weight...           0.531496   \n",
              "10  {'classifier__C': 0.1, 'classifier__class_weig...           0.531496   \n",
              "11  {'classifier__C': 0.1, 'classifier__class_weig...           0.531496   \n",
              "9   {'classifier__C': 0.1, 'classifier__class_weig...           0.531496   \n",
              "20  {'classifier__C': 10, 'classifier__class_weigh...           0.444882   \n",
              "\n",
              "    split1_test_score  split2_test_score  mean_test_score  std_test_score  \\\n",
              "23           0.618110           0.590551         0.587927        0.025783   \n",
              "22           0.618110           0.602362         0.586614        0.034020   \n",
              "21           0.625984           0.602362         0.582677        0.045574   \n",
              "17           0.594488           0.578740         0.570866        0.023180   \n",
              "16           0.586614           0.582677         0.568241        0.023255   \n",
              "15           0.586614           0.582677         0.566929        0.025106   \n",
              "10           0.539370           0.562992         0.544619        0.013383   \n",
              "11           0.539370           0.562992         0.544619        0.013383   \n",
              "9            0.535433           0.562992         0.543307        0.014012   \n",
              "20           0.460630           0.566929         0.490814        0.054204   \n",
              "\n",
              "    rank_test_score  split0_train_score  split1_train_score  \\\n",
              "23                1            0.647638            0.594488   \n",
              "22                2            0.649606            0.612205   \n",
              "21                3            0.616142            0.590551   \n",
              "17                4            0.598425            0.570866   \n",
              "16                5            0.608268            0.574803   \n",
              "15                6            0.608268            0.576772   \n",
              "10                7            0.564961            0.541339   \n",
              "11                7            0.564961            0.541339   \n",
              "9                 9            0.564961            0.521654   \n",
              "20               10            0.570866            0.537402   \n",
              "\n",
              "    split2_train_score  mean_train_score  std_train_score  \n",
              "23            0.620079          0.620735         0.021703  \n",
              "22            0.629921          0.630577         0.015276  \n",
              "21            0.616142          0.607612         0.012064  \n",
              "17            0.574803          0.581365         0.012170  \n",
              "16            0.576772          0.586614         0.015332  \n",
              "15            0.568898          0.584646         0.017010  \n",
              "10            0.529528          0.545276         0.014731  \n",
              "11            0.529528          0.545276         0.014731  \n",
              "9             0.529528          0.538714         0.018836  \n",
              "20            0.586614          0.564961         0.020520  "
            ],
            "text/html": [
              "\n",
              "  <div id=\"df-8055588a-bf47-466c-abeb-e56f40aaf106\">\n",
              "    <div class=\"colab-df-container\">\n",
              "      <div>\n",
              "<style scoped>\n",
              "    .dataframe tbody tr th:only-of-type {\n",
              "        vertical-align: middle;\n",
              "    }\n",
              "\n",
              "    .dataframe tbody tr th {\n",
              "        vertical-align: top;\n",
              "    }\n",
              "\n",
              "    .dataframe thead th {\n",
              "        text-align: right;\n",
              "    }\n",
              "</style>\n",
              "<table border=\"1\" class=\"dataframe\">\n",
              "  <thead>\n",
              "    <tr style=\"text-align: right;\">\n",
              "      <th></th>\n",
              "      <th>mean_fit_time</th>\n",
              "      <th>std_fit_time</th>\n",
              "      <th>mean_score_time</th>\n",
              "      <th>std_score_time</th>\n",
              "      <th>param_classifier__C</th>\n",
              "      <th>param_classifier__class_weight</th>\n",
              "      <th>param_poly__degree</th>\n",
              "      <th>params</th>\n",
              "      <th>split0_test_score</th>\n",
              "      <th>split1_test_score</th>\n",
              "      <th>split2_test_score</th>\n",
              "      <th>mean_test_score</th>\n",
              "      <th>std_test_score</th>\n",
              "      <th>rank_test_score</th>\n",
              "      <th>split0_train_score</th>\n",
              "      <th>split1_train_score</th>\n",
              "      <th>split2_train_score</th>\n",
              "      <th>mean_train_score</th>\n",
              "      <th>std_train_score</th>\n",
              "    </tr>\n",
              "  </thead>\n",
              "  <tbody>\n",
              "    <tr>\n",
              "      <th>23</th>\n",
              "      <td>21.665722</td>\n",
              "      <td>0.335846</td>\n",
              "      <td>0.010267</td>\n",
              "      <td>0.000678</td>\n",
              "      <td>10</td>\n",
              "      <td>None</td>\n",
              "      <td>5</td>\n",
              "      <td>{'classifier__C': 10, 'classifier__class_weigh...</td>\n",
              "      <td>0.555118</td>\n",
              "      <td>0.618110</td>\n",
              "      <td>0.590551</td>\n",
              "      <td>0.587927</td>\n",
              "      <td>0.025783</td>\n",
              "      <td>1</td>\n",
              "      <td>0.647638</td>\n",
              "      <td>0.594488</td>\n",
              "      <td>0.620079</td>\n",
              "      <td>0.620735</td>\n",
              "      <td>0.021703</td>\n",
              "    </tr>\n",
              "    <tr>\n",
              "      <th>22</th>\n",
              "      <td>1.943376</td>\n",
              "      <td>0.038523</td>\n",
              "      <td>0.004515</td>\n",
              "      <td>0.000517</td>\n",
              "      <td>10</td>\n",
              "      <td>None</td>\n",
              "      <td>3</td>\n",
              "      <td>{'classifier__C': 10, 'classifier__class_weigh...</td>\n",
              "      <td>0.539370</td>\n",
              "      <td>0.618110</td>\n",
              "      <td>0.602362</td>\n",
              "      <td>0.586614</td>\n",
              "      <td>0.034020</td>\n",
              "      <td>2</td>\n",
              "      <td>0.649606</td>\n",
              "      <td>0.612205</td>\n",
              "      <td>0.629921</td>\n",
              "      <td>0.630577</td>\n",
              "      <td>0.015276</td>\n",
              "    </tr>\n",
              "    <tr>\n",
              "      <th>21</th>\n",
              "      <td>0.110356</td>\n",
              "      <td>0.020348</td>\n",
              "      <td>0.002519</td>\n",
              "      <td>0.000220</td>\n",
              "      <td>10</td>\n",
              "      <td>None</td>\n",
              "      <td>1</td>\n",
              "      <td>{'classifier__C': 10, 'classifier__class_weigh...</td>\n",
              "      <td>0.519685</td>\n",
              "      <td>0.625984</td>\n",
              "      <td>0.602362</td>\n",
              "      <td>0.582677</td>\n",
              "      <td>0.045574</td>\n",
              "      <td>3</td>\n",
              "      <td>0.616142</td>\n",
              "      <td>0.590551</td>\n",
              "      <td>0.616142</td>\n",
              "      <td>0.607612</td>\n",
              "      <td>0.012064</td>\n",
              "    </tr>\n",
              "    <tr>\n",
              "      <th>17</th>\n",
              "      <td>21.492399</td>\n",
              "      <td>0.640203</td>\n",
              "      <td>0.011283</td>\n",
              "      <td>0.000092</td>\n",
              "      <td>1</td>\n",
              "      <td>None</td>\n",
              "      <td>5</td>\n",
              "      <td>{'classifier__C': 1, 'classifier__class_weight...</td>\n",
              "      <td>0.539370</td>\n",
              "      <td>0.594488</td>\n",
              "      <td>0.578740</td>\n",
              "      <td>0.570866</td>\n",
              "      <td>0.023180</td>\n",
              "      <td>4</td>\n",
              "      <td>0.598425</td>\n",
              "      <td>0.570866</td>\n",
              "      <td>0.574803</td>\n",
              "      <td>0.581365</td>\n",
              "      <td>0.012170</td>\n",
              "    </tr>\n",
              "    <tr>\n",
              "      <th>16</th>\n",
              "      <td>1.730835</td>\n",
              "      <td>0.086170</td>\n",
              "      <td>0.004526</td>\n",
              "      <td>0.000577</td>\n",
              "      <td>1</td>\n",
              "      <td>None</td>\n",
              "      <td>3</td>\n",
              "      <td>{'classifier__C': 1, 'classifier__class_weight...</td>\n",
              "      <td>0.535433</td>\n",
              "      <td>0.586614</td>\n",
              "      <td>0.582677</td>\n",
              "      <td>0.568241</td>\n",
              "      <td>0.023255</td>\n",
              "      <td>5</td>\n",
              "      <td>0.608268</td>\n",
              "      <td>0.574803</td>\n",
              "      <td>0.576772</td>\n",
              "      <td>0.586614</td>\n",
              "      <td>0.015332</td>\n",
              "    </tr>\n",
              "    <tr>\n",
              "      <th>15</th>\n",
              "      <td>0.069081</td>\n",
              "      <td>0.011232</td>\n",
              "      <td>0.002587</td>\n",
              "      <td>0.000490</td>\n",
              "      <td>1</td>\n",
              "      <td>None</td>\n",
              "      <td>1</td>\n",
              "      <td>{'classifier__C': 1, 'classifier__class_weight...</td>\n",
              "      <td>0.531496</td>\n",
              "      <td>0.586614</td>\n",
              "      <td>0.582677</td>\n",
              "      <td>0.566929</td>\n",
              "      <td>0.025106</td>\n",
              "      <td>6</td>\n",
              "      <td>0.608268</td>\n",
              "      <td>0.576772</td>\n",
              "      <td>0.568898</td>\n",
              "      <td>0.584646</td>\n",
              "      <td>0.017010</td>\n",
              "    </tr>\n",
              "    <tr>\n",
              "      <th>10</th>\n",
              "      <td>0.362800</td>\n",
              "      <td>0.156296</td>\n",
              "      <td>0.004449</td>\n",
              "      <td>0.000519</td>\n",
              "      <td>0.1</td>\n",
              "      <td>None</td>\n",
              "      <td>3</td>\n",
              "      <td>{'classifier__C': 0.1, 'classifier__class_weig...</td>\n",
              "      <td>0.531496</td>\n",
              "      <td>0.539370</td>\n",
              "      <td>0.562992</td>\n",
              "      <td>0.544619</td>\n",
              "      <td>0.013383</td>\n",
              "      <td>7</td>\n",
              "      <td>0.564961</td>\n",
              "      <td>0.541339</td>\n",
              "      <td>0.529528</td>\n",
              "      <td>0.545276</td>\n",
              "      <td>0.014731</td>\n",
              "    </tr>\n",
              "    <tr>\n",
              "      <th>11</th>\n",
              "      <td>5.402211</td>\n",
              "      <td>1.320620</td>\n",
              "      <td>0.012135</td>\n",
              "      <td>0.000996</td>\n",
              "      <td>0.1</td>\n",
              "      <td>None</td>\n",
              "      <td>5</td>\n",
              "      <td>{'classifier__C': 0.1, 'classifier__class_weig...</td>\n",
              "      <td>0.531496</td>\n",
              "      <td>0.539370</td>\n",
              "      <td>0.562992</td>\n",
              "      <td>0.544619</td>\n",
              "      <td>0.013383</td>\n",
              "      <td>7</td>\n",
              "      <td>0.564961</td>\n",
              "      <td>0.541339</td>\n",
              "      <td>0.529528</td>\n",
              "      <td>0.545276</td>\n",
              "      <td>0.014731</td>\n",
              "    </tr>\n",
              "    <tr>\n",
              "      <th>9</th>\n",
              "      <td>0.022415</td>\n",
              "      <td>0.002349</td>\n",
              "      <td>0.002884</td>\n",
              "      <td>0.000024</td>\n",
              "      <td>0.1</td>\n",
              "      <td>None</td>\n",
              "      <td>1</td>\n",
              "      <td>{'classifier__C': 0.1, 'classifier__class_weig...</td>\n",
              "      <td>0.531496</td>\n",
              "      <td>0.535433</td>\n",
              "      <td>0.562992</td>\n",
              "      <td>0.543307</td>\n",
              "      <td>0.014012</td>\n",
              "      <td>9</td>\n",
              "      <td>0.564961</td>\n",
              "      <td>0.521654</td>\n",
              "      <td>0.529528</td>\n",
              "      <td>0.538714</td>\n",
              "      <td>0.018836</td>\n",
              "    </tr>\n",
              "    <tr>\n",
              "      <th>20</th>\n",
              "      <td>23.476229</td>\n",
              "      <td>0.309585</td>\n",
              "      <td>0.010634</td>\n",
              "      <td>0.000572</td>\n",
              "      <td>10</td>\n",
              "      <td>balanced</td>\n",
              "      <td>5</td>\n",
              "      <td>{'classifier__C': 10, 'classifier__class_weigh...</td>\n",
              "      <td>0.444882</td>\n",
              "      <td>0.460630</td>\n",
              "      <td>0.566929</td>\n",
              "      <td>0.490814</td>\n",
              "      <td>0.054204</td>\n",
              "      <td>10</td>\n",
              "      <td>0.570866</td>\n",
              "      <td>0.537402</td>\n",
              "      <td>0.586614</td>\n",
              "      <td>0.564961</td>\n",
              "      <td>0.020520</td>\n",
              "    </tr>\n",
              "  </tbody>\n",
              "</table>\n",
              "</div>\n",
              "      <button class=\"colab-df-convert\" onclick=\"convertToInteractive('df-8055588a-bf47-466c-abeb-e56f40aaf106')\"\n",
              "              title=\"Convert this dataframe to an interactive table.\"\n",
              "              style=\"display:none;\">\n",
              "        \n",
              "  <svg xmlns=\"http://www.w3.org/2000/svg\" height=\"24px\"viewBox=\"0 0 24 24\"\n",
              "       width=\"24px\">\n",
              "    <path d=\"M0 0h24v24H0V0z\" fill=\"none\"/>\n",
              "    <path d=\"M18.56 5.44l.94 2.06.94-2.06 2.06-.94-2.06-.94-.94-2.06-.94 2.06-2.06.94zm-11 1L8.5 8.5l.94-2.06 2.06-.94-2.06-.94L8.5 2.5l-.94 2.06-2.06.94zm10 10l.94 2.06.94-2.06 2.06-.94-2.06-.94-.94-2.06-.94 2.06-2.06.94z\"/><path d=\"M17.41 7.96l-1.37-1.37c-.4-.4-.92-.59-1.43-.59-.52 0-1.04.2-1.43.59L10.3 9.45l-7.72 7.72c-.78.78-.78 2.05 0 2.83L4 21.41c.39.39.9.59 1.41.59.51 0 1.02-.2 1.41-.59l7.78-7.78 2.81-2.81c.8-.78.8-2.07 0-2.86zM5.41 20L4 18.59l7.72-7.72 1.47 1.35L5.41 20z\"/>\n",
              "  </svg>\n",
              "      </button>\n",
              "      \n",
              "  <style>\n",
              "    .colab-df-container {\n",
              "      display:flex;\n",
              "      flex-wrap:wrap;\n",
              "      gap: 12px;\n",
              "    }\n",
              "\n",
              "    .colab-df-convert {\n",
              "      background-color: #E8F0FE;\n",
              "      border: none;\n",
              "      border-radius: 50%;\n",
              "      cursor: pointer;\n",
              "      display: none;\n",
              "      fill: #1967D2;\n",
              "      height: 32px;\n",
              "      padding: 0 0 0 0;\n",
              "      width: 32px;\n",
              "    }\n",
              "\n",
              "    .colab-df-convert:hover {\n",
              "      background-color: #E2EBFA;\n",
              "      box-shadow: 0px 1px 2px rgba(60, 64, 67, 0.3), 0px 1px 3px 1px rgba(60, 64, 67, 0.15);\n",
              "      fill: #174EA6;\n",
              "    }\n",
              "\n",
              "    [theme=dark] .colab-df-convert {\n",
              "      background-color: #3B4455;\n",
              "      fill: #D2E3FC;\n",
              "    }\n",
              "\n",
              "    [theme=dark] .colab-df-convert:hover {\n",
              "      background-color: #434B5C;\n",
              "      box-shadow: 0px 1px 3px 1px rgba(0, 0, 0, 0.15);\n",
              "      filter: drop-shadow(0px 1px 2px rgba(0, 0, 0, 0.3));\n",
              "      fill: #FFFFFF;\n",
              "    }\n",
              "  </style>\n",
              "\n",
              "      <script>\n",
              "        const buttonEl =\n",
              "          document.querySelector('#df-8055588a-bf47-466c-abeb-e56f40aaf106 button.colab-df-convert');\n",
              "        buttonEl.style.display =\n",
              "          google.colab.kernel.accessAllowed ? 'block' : 'none';\n",
              "\n",
              "        async function convertToInteractive(key) {\n",
              "          const element = document.querySelector('#df-8055588a-bf47-466c-abeb-e56f40aaf106');\n",
              "          const dataTable =\n",
              "            await google.colab.kernel.invokeFunction('convertToInteractive',\n",
              "                                                     [key], {});\n",
              "          if (!dataTable) return;\n",
              "\n",
              "          const docLinkHtml = 'Like what you see? Visit the ' +\n",
              "            '<a target=\"_blank\" href=https://colab.research.google.com/notebooks/data_table.ipynb>data table notebook</a>'\n",
              "            + ' to learn more about interactive tables.';\n",
              "          element.innerHTML = '';\n",
              "          dataTable['output_type'] = 'display_data';\n",
              "          await google.colab.output.renderOutput(dataTable, element);\n",
              "          const docLink = document.createElement('div');\n",
              "          docLink.innerHTML = docLinkHtml;\n",
              "          element.appendChild(docLink);\n",
              "        }\n",
              "      </script>\n",
              "    </div>\n",
              "  </div>\n",
              "  "
            ]
          },
          "metadata": {},
          "execution_count": 32
        }
      ]
    },
    {
      "cell_type": "markdown",
      "source": [
        "Il miglior modello trovato è qullo con peso di regolazzazione 10 e grado 5 e nessun bilanciamento sui pesi delle classi. Possiamo osservare uno score di:"
      ],
      "metadata": {
        "id": "lEO7zl5rh-je"
      }
    },
    {
      "cell_type": "code",
      "source": [
        "gs.score(X_val,y_val)"
      ],
      "metadata": {
        "colab": {
          "base_uri": "https://localhost:8080/"
        },
        "id": "s5MHdFYRLE0H",
        "outputId": "10552bf4-0235-47a9-bf40-c18d091b66c4"
      },
      "execution_count": 33,
      "outputs": [
        {
          "output_type": "execute_result",
          "data": {
            "text/plain": [
              "0.5905511811023622"
            ]
          },
          "metadata": {},
          "execution_count": 33
        }
      ]
    },
    {
      "cell_type": "markdown",
      "source": [
        "Essendo in una situazione multiclasse in cui abbiamo adottato il metodo one vs all per la classificazione, sono stati individuati sei iperpiani con rispettivi coefficenti:"
      ],
      "metadata": {
        "id": "qbEsH_Ujn9mF"
      }
    },
    {
      "cell_type": "code",
      "source": [
        "gs.best_estimator_.named_steps[\"classifier\"].coef_"
      ],
      "metadata": {
        "id": "ZUni9frioFds",
        "outputId": "34f2e182-3511-4d52-e9b3-b2187397f545",
        "colab": {
          "base_uri": "https://localhost:8080/"
        }
      },
      "execution_count": 34,
      "outputs": [
        {
          "output_type": "execute_result",
          "data": {
            "text/plain": [
              "array([[-1.97534133e+00, -2.91396220e-01,  5.51678210e-01, ...,\n",
              "         0.00000000e+00,  0.00000000e+00,  0.00000000e+00],\n",
              "       [-1.87595318e+00, -2.14168071e-01,  1.28903536e+00, ...,\n",
              "         0.00000000e+00,  0.00000000e+00,  0.00000000e+00],\n",
              "       [ 3.28410024e-01, -1.19075223e+00,  1.81283170e+00, ...,\n",
              "         0.00000000e+00,  0.00000000e+00,  0.00000000e+00],\n",
              "       [-4.02299501e-01,  4.79178051e-01, -9.58800017e-01, ...,\n",
              "        -1.24301529e-01, -3.71600263e-01, -5.66693163e-01],\n",
              "       [-8.64652430e-01, -6.19605152e-06, -2.41971273e+00, ...,\n",
              "         0.00000000e+00,  0.00000000e+00, -6.47783981e-01],\n",
              "       [-1.75584437e+00,  1.20159232e-02, -1.03132545e+00, ...,\n",
              "         0.00000000e+00,  5.14625107e-02,  3.24016653e-01]])"
            ]
          },
          "metadata": {},
          "execution_count": 34
        }
      ]
    },
    {
      "cell_type": "markdown",
      "source": [
        "Effettuando la media di questi coefficenti possiamo verdere che ci sono 2478 features azzerate in seguito alla regolazzazione."
      ],
      "metadata": {
        "id": "Esi_whrRoP3a"
      }
    },
    {
      "cell_type": "code",
      "source": [
        "(DataFrame(gs.best_estimator_.named_steps[\"classifier\"].coef_,columns=gs.best_estimator_.named_steps[\"poly\"].get_feature_names_out()).mean() == 0 ).value_counts()"
      ],
      "metadata": {
        "colab": {
          "base_uri": "https://localhost:8080/"
        },
        "id": "8z3rX4EgE8io",
        "outputId": "0e812526-4c84-432c-cdc3-04e653b9c1f4"
      },
      "execution_count": 35,
      "outputs": [
        {
          "output_type": "execute_result",
          "data": {
            "text/plain": [
              "True     3579\n",
              "False     789\n",
              "dtype: int64"
            ]
          },
          "metadata": {},
          "execution_count": 35
        }
      ]
    },
    {
      "cell_type": "markdown",
      "source": [
        "Osservando le prime 10 features ordinate per importanza dopo la regolarizzazione possiamo vedere che i primi valori sono di features non lineari."
      ],
      "metadata": {
        "id": "hYRDTCBfqFhT"
      }
    },
    {
      "cell_type": "code",
      "source": [
        "DataFrame(gs.best_estimator_.named_steps[\"classifier\"].coef_,columns=gs.best_estimator_.named_steps[\"poly\"].get_feature_names_out()).mean().sort_values(ascending=False).head(10)"
      ],
      "metadata": {
        "id": "xgUxgzAUorUh",
        "outputId": "a93b1aee-4a59-46cb-f1eb-ad2f26416ae3",
        "colab": {
          "base_uri": "https://localhost:8080/"
        }
      },
      "execution_count": 36,
      "outputs": [
        {
          "output_type": "execute_result",
          "data": {
            "text/plain": [
              "volatile acidity alcohol            0.203543\n",
              "density alcohol                     0.112052\n",
              "citric acid density^2               0.096360\n",
              "fixed acidity^3                     0.088855\n",
              "chlorides alcohol                   0.087150\n",
              "volatile acidity alcohol^2          0.086223\n",
              "volatile acidity density alcohol    0.082835\n",
              "volatile acidity pH alcohol         0.082689\n",
              "density^2 alcohol                   0.082174\n",
              "volatile acidity citric acid        0.080712\n",
              "dtype: float64"
            ]
          },
          "metadata": {},
          "execution_count": 36
        }
      ]
    },
    {
      "cell_type": "code",
      "source": [
        "from sklearn.metrics import confusion_matrix\n",
        "y_pred = gs.predict(X_val)\n",
        "cm = confusion_matrix(y_val,y_pred)\n",
        "DataFrame(cm,index=gs.classes_,columns=gs.classes_)"
      ],
      "metadata": {
        "colab": {
          "base_uri": "https://localhost:8080/",
          "height": 237
        },
        "id": "-YUHMSXlVbU1",
        "outputId": "2354d790-530e-4447-a802-d5a416ac5c0b"
      },
      "execution_count": 37,
      "outputs": [
        {
          "output_type": "execute_result",
          "data": {
            "text/plain": [
              "   3  4    5   6  7  8\n",
              "3  0  1    0   0  0  0\n",
              "4  0  0    6   4  0  0\n",
              "5  0  1  121  35  2  0\n",
              "6  0  1   57  96  5  0\n",
              "7  0  0    6  33  8  0\n",
              "8  0  0    0   5  0  0"
            ],
            "text/html": [
              "\n",
              "  <div id=\"df-2abf32b2-a524-4f56-9df7-b8f1c2b45665\">\n",
              "    <div class=\"colab-df-container\">\n",
              "      <div>\n",
              "<style scoped>\n",
              "    .dataframe tbody tr th:only-of-type {\n",
              "        vertical-align: middle;\n",
              "    }\n",
              "\n",
              "    .dataframe tbody tr th {\n",
              "        vertical-align: top;\n",
              "    }\n",
              "\n",
              "    .dataframe thead th {\n",
              "        text-align: right;\n",
              "    }\n",
              "</style>\n",
              "<table border=\"1\" class=\"dataframe\">\n",
              "  <thead>\n",
              "    <tr style=\"text-align: right;\">\n",
              "      <th></th>\n",
              "      <th>3</th>\n",
              "      <th>4</th>\n",
              "      <th>5</th>\n",
              "      <th>6</th>\n",
              "      <th>7</th>\n",
              "      <th>8</th>\n",
              "    </tr>\n",
              "  </thead>\n",
              "  <tbody>\n",
              "    <tr>\n",
              "      <th>3</th>\n",
              "      <td>0</td>\n",
              "      <td>1</td>\n",
              "      <td>0</td>\n",
              "      <td>0</td>\n",
              "      <td>0</td>\n",
              "      <td>0</td>\n",
              "    </tr>\n",
              "    <tr>\n",
              "      <th>4</th>\n",
              "      <td>0</td>\n",
              "      <td>0</td>\n",
              "      <td>6</td>\n",
              "      <td>4</td>\n",
              "      <td>0</td>\n",
              "      <td>0</td>\n",
              "    </tr>\n",
              "    <tr>\n",
              "      <th>5</th>\n",
              "      <td>0</td>\n",
              "      <td>1</td>\n",
              "      <td>121</td>\n",
              "      <td>35</td>\n",
              "      <td>2</td>\n",
              "      <td>0</td>\n",
              "    </tr>\n",
              "    <tr>\n",
              "      <th>6</th>\n",
              "      <td>0</td>\n",
              "      <td>1</td>\n",
              "      <td>57</td>\n",
              "      <td>96</td>\n",
              "      <td>5</td>\n",
              "      <td>0</td>\n",
              "    </tr>\n",
              "    <tr>\n",
              "      <th>7</th>\n",
              "      <td>0</td>\n",
              "      <td>0</td>\n",
              "      <td>6</td>\n",
              "      <td>33</td>\n",
              "      <td>8</td>\n",
              "      <td>0</td>\n",
              "    </tr>\n",
              "    <tr>\n",
              "      <th>8</th>\n",
              "      <td>0</td>\n",
              "      <td>0</td>\n",
              "      <td>0</td>\n",
              "      <td>5</td>\n",
              "      <td>0</td>\n",
              "      <td>0</td>\n",
              "    </tr>\n",
              "  </tbody>\n",
              "</table>\n",
              "</div>\n",
              "      <button class=\"colab-df-convert\" onclick=\"convertToInteractive('df-2abf32b2-a524-4f56-9df7-b8f1c2b45665')\"\n",
              "              title=\"Convert this dataframe to an interactive table.\"\n",
              "              style=\"display:none;\">\n",
              "        \n",
              "  <svg xmlns=\"http://www.w3.org/2000/svg\" height=\"24px\"viewBox=\"0 0 24 24\"\n",
              "       width=\"24px\">\n",
              "    <path d=\"M0 0h24v24H0V0z\" fill=\"none\"/>\n",
              "    <path d=\"M18.56 5.44l.94 2.06.94-2.06 2.06-.94-2.06-.94-.94-2.06-.94 2.06-2.06.94zm-11 1L8.5 8.5l.94-2.06 2.06-.94-2.06-.94L8.5 2.5l-.94 2.06-2.06.94zm10 10l.94 2.06.94-2.06 2.06-.94-2.06-.94-.94-2.06-.94 2.06-2.06.94z\"/><path d=\"M17.41 7.96l-1.37-1.37c-.4-.4-.92-.59-1.43-.59-.52 0-1.04.2-1.43.59L10.3 9.45l-7.72 7.72c-.78.78-.78 2.05 0 2.83L4 21.41c.39.39.9.59 1.41.59.51 0 1.02-.2 1.41-.59l7.78-7.78 2.81-2.81c.8-.78.8-2.07 0-2.86zM5.41 20L4 18.59l7.72-7.72 1.47 1.35L5.41 20z\"/>\n",
              "  </svg>\n",
              "      </button>\n",
              "      \n",
              "  <style>\n",
              "    .colab-df-container {\n",
              "      display:flex;\n",
              "      flex-wrap:wrap;\n",
              "      gap: 12px;\n",
              "    }\n",
              "\n",
              "    .colab-df-convert {\n",
              "      background-color: #E8F0FE;\n",
              "      border: none;\n",
              "      border-radius: 50%;\n",
              "      cursor: pointer;\n",
              "      display: none;\n",
              "      fill: #1967D2;\n",
              "      height: 32px;\n",
              "      padding: 0 0 0 0;\n",
              "      width: 32px;\n",
              "    }\n",
              "\n",
              "    .colab-df-convert:hover {\n",
              "      background-color: #E2EBFA;\n",
              "      box-shadow: 0px 1px 2px rgba(60, 64, 67, 0.3), 0px 1px 3px 1px rgba(60, 64, 67, 0.15);\n",
              "      fill: #174EA6;\n",
              "    }\n",
              "\n",
              "    [theme=dark] .colab-df-convert {\n",
              "      background-color: #3B4455;\n",
              "      fill: #D2E3FC;\n",
              "    }\n",
              "\n",
              "    [theme=dark] .colab-df-convert:hover {\n",
              "      background-color: #434B5C;\n",
              "      box-shadow: 0px 1px 3px 1px rgba(0, 0, 0, 0.15);\n",
              "      filter: drop-shadow(0px 1px 2px rgba(0, 0, 0, 0.3));\n",
              "      fill: #FFFFFF;\n",
              "    }\n",
              "  </style>\n",
              "\n",
              "      <script>\n",
              "        const buttonEl =\n",
              "          document.querySelector('#df-2abf32b2-a524-4f56-9df7-b8f1c2b45665 button.colab-df-convert');\n",
              "        buttonEl.style.display =\n",
              "          google.colab.kernel.accessAllowed ? 'block' : 'none';\n",
              "\n",
              "        async function convertToInteractive(key) {\n",
              "          const element = document.querySelector('#df-2abf32b2-a524-4f56-9df7-b8f1c2b45665');\n",
              "          const dataTable =\n",
              "            await google.colab.kernel.invokeFunction('convertToInteractive',\n",
              "                                                     [key], {});\n",
              "          if (!dataTable) return;\n",
              "\n",
              "          const docLinkHtml = 'Like what you see? Visit the ' +\n",
              "            '<a target=\"_blank\" href=https://colab.research.google.com/notebooks/data_table.ipynb>data table notebook</a>'\n",
              "            + ' to learn more about interactive tables.';\n",
              "          element.innerHTML = '';\n",
              "          dataTable['output_type'] = 'display_data';\n",
              "          await google.colab.output.renderOutput(dataTable, element);\n",
              "          const docLink = document.createElement('div');\n",
              "          docLink.innerHTML = docLinkHtml;\n",
              "          element.appendChild(docLink);\n",
              "        }\n",
              "      </script>\n",
              "    </div>\n",
              "  </div>\n",
              "  "
            ]
          },
          "metadata": {},
          "execution_count": 37
        }
      ]
    },
    {
      "cell_type": "code",
      "source": [
        "from sklearn.metrics import f1_score\n",
        "f1_score(y_val,y_pred,average=\"weighted\")"
      ],
      "metadata": {
        "colab": {
          "base_uri": "https://localhost:8080/"
        },
        "id": "SB2GaJE6Z0oS",
        "outputId": "fda3d8a3-e832-4d0c-fc19-2e638d83035b"
      },
      "execution_count": 38,
      "outputs": [
        {
          "output_type": "execute_result",
          "data": {
            "text/plain": [
              "0.5625537755488579"
            ]
          },
          "metadata": {},
          "execution_count": 38
        }
      ]
    },
    {
      "cell_type": "markdown",
      "source": [
        "altri modelli\n",
        "mancano anche tutte le varie accuratezze e i discorsi e i grafici scatter per vedere le classi."
      ],
      "metadata": {
        "id": "AJhSsCxkNIWi"
      }
    },
    {
      "cell_type": "markdown",
      "source": [
        "# Oversampling"
      ],
      "metadata": {
        "id": "amlmLnDENL-C"
      }
    },
    {
      "cell_type": "markdown",
      "source": [
        "Come possiamo vedere le classi sono molto sbilanciate."
      ],
      "metadata": {
        "id": "Ax7gdgytwkFP"
      }
    },
    {
      "cell_type": "code",
      "source": [
        "Y.value_counts()"
      ],
      "metadata": {
        "id": "Hqo9Eu-2wcoD",
        "outputId": "35cf2e65-f3a9-449f-9dae-9f0bd11f64cc",
        "colab": {
          "base_uri": "https://localhost:8080/"
        }
      },
      "execution_count": 39,
      "outputs": [
        {
          "output_type": "execute_result",
          "data": {
            "text/plain": [
              "5    483\n",
              "6    462\n",
              "7    143\n",
              "4     33\n",
              "8     16\n",
              "3      6\n",
              "Name: quality, dtype: int64"
            ]
          },
          "metadata": {},
          "execution_count": 39
        }
      ]
    },
    {
      "cell_type": "markdown",
      "source": [
        "procediamo con oversampling dei dati"
      ],
      "metadata": {
        "id": "lmzhF3xYwu5l"
      }
    },
    {
      "cell_type": "code",
      "source": [
        "from imblearn.over_sampling import SMOTE\n",
        "\n",
        "sm = SMOTE(random_state=42,sampling_strategy=\"not majority\")\n",
        "Xsm,Ysm = sm.fit_resample(X,Y)\n"
      ],
      "metadata": {
        "id": "2plhqvnANOZE"
      },
      "execution_count": 40,
      "outputs": []
    },
    {
      "cell_type": "code",
      "source": [
        "Ysm.value_counts()"
      ],
      "metadata": {
        "id": "cxBgT2S5PO8Z",
        "outputId": "17eae762-c65b-45dc-8911-e9441c711533",
        "colab": {
          "base_uri": "https://localhost:8080/"
        }
      },
      "execution_count": 41,
      "outputs": [
        {
          "output_type": "execute_result",
          "data": {
            "text/plain": [
              "5    483\n",
              "6    483\n",
              "7    483\n",
              "4    483\n",
              "8    483\n",
              "3    483\n",
              "Name: quality, dtype: int64"
            ]
          },
          "metadata": {},
          "execution_count": 41
        }
      ]
    },
    {
      "cell_type": "code",
      "source": [
        "Xsm_train, Xsm_val, ysm_train, ysm_val = train_test_split(Xsm,Ysm,test_size=1/3,random_state=42)\n"
      ],
      "metadata": {
        "id": "i0r1Um0CeTGd"
      },
      "execution_count": 42,
      "outputs": []
    },
    {
      "cell_type": "code",
      "source": [
        "bestModel = gs.best_estimator_\n",
        "bestModel.fit(Xsm_train,ysm_train)"
      ],
      "metadata": {
        "id": "Z_6LZhDtTxIH",
        "outputId": "2ea35857-3fb4-49c4-9b6e-5ffe2a9e11a0",
        "colab": {
          "base_uri": "https://localhost:8080/"
        }
      },
      "execution_count": 43,
      "outputs": [
        {
          "output_type": "stream",
          "name": "stderr",
          "text": [
            "/usr/local/lib/python3.7/dist-packages/sklearn/linear_model/_sag.py:354: ConvergenceWarning: The max_iter was reached which means the coef_ did not converge\n",
            "  ConvergenceWarning,\n",
            "/usr/local/lib/python3.7/dist-packages/sklearn/linear_model/_sag.py:354: ConvergenceWarning: The max_iter was reached which means the coef_ did not converge\n",
            "  ConvergenceWarning,\n",
            "/usr/local/lib/python3.7/dist-packages/sklearn/linear_model/_sag.py:354: ConvergenceWarning: The max_iter was reached which means the coef_ did not converge\n",
            "  ConvergenceWarning,\n",
            "/usr/local/lib/python3.7/dist-packages/sklearn/linear_model/_sag.py:354: ConvergenceWarning: The max_iter was reached which means the coef_ did not converge\n",
            "  ConvergenceWarning,\n",
            "/usr/local/lib/python3.7/dist-packages/sklearn/linear_model/_sag.py:354: ConvergenceWarning: The max_iter was reached which means the coef_ did not converge\n",
            "  ConvergenceWarning,\n",
            "/usr/local/lib/python3.7/dist-packages/sklearn/linear_model/_sag.py:354: ConvergenceWarning: The max_iter was reached which means the coef_ did not converge\n",
            "  ConvergenceWarning,\n"
          ]
        },
        {
          "output_type": "execute_result",
          "data": {
            "text/plain": [
              "Pipeline(steps=[('poly', PolynomialFeatures(degree=5)),\n",
              "                ('classifier',\n",
              "                 LogisticRegression(C=10, multi_class='ovr', penalty='l1',\n",
              "                                    random_state=42, solver='saga'))])"
            ]
          },
          "metadata": {},
          "execution_count": 43
        }
      ]
    },
    {
      "cell_type": "code",
      "source": [
        "bestModel.score(Xsm_val,ysm_val)"
      ],
      "metadata": {
        "id": "_yCaizlje0K3",
        "outputId": "8572c901-3c91-4ae4-f543-30b5afc15179",
        "colab": {
          "base_uri": "https://localhost:8080/"
        }
      },
      "execution_count": 44,
      "outputs": [
        {
          "output_type": "execute_result",
          "data": {
            "text/plain": [
              "0.6273291925465838"
            ]
          },
          "metadata": {},
          "execution_count": 44
        }
      ]
    },
    {
      "cell_type": "code",
      "source": [
        "f1_score(ysm_val,bestModel.predict(Xsm_val),average=\"weighted\")"
      ],
      "metadata": {
        "id": "uE94Fd80ffYr",
        "outputId": "3c63f477-d05e-4064-fe64-34203d308b78",
        "colab": {
          "base_uri": "https://localhost:8080/"
        }
      },
      "execution_count": 45,
      "outputs": [
        {
          "output_type": "execute_result",
          "data": {
            "text/plain": [
              "0.609184413978409"
            ]
          },
          "metadata": {},
          "execution_count": 45
        }
      ]
    },
    {
      "cell_type": "markdown",
      "source": [
        "Possiamo vedere che il modello è leggermente migliorato."
      ],
      "metadata": {
        "id": "1ZeB_9ATxAHq"
      }
    },
    {
      "cell_type": "code",
      "source": [
        "from sklearn.metrics import accuracy_score\n",
        "accuracy_score(ysm_val,bestModel.predict(Xsm_val))"
      ],
      "metadata": {
        "id": "PUCrVHJceqiv",
        "outputId": "286f72ef-b505-4f34-8d57-3f66d0678eec",
        "colab": {
          "base_uri": "https://localhost:8080/"
        }
      },
      "execution_count": 46,
      "outputs": [
        {
          "output_type": "execute_result",
          "data": {
            "text/plain": [
              "0.6273291925465838"
            ]
          },
          "metadata": {},
          "execution_count": 46
        }
      ]
    },
    {
      "cell_type": "markdown",
      "source": [
        "# alberi decisionali"
      ],
      "metadata": {
        "id": "C5ymWAG1gJQm"
      }
    },
    {
      "cell_type": "code",
      "source": [
        "from sklearn.tree import DecisionTreeClassifier\n",
        "model = DecisionTreeClassifier()\n",
        "model.fit(Xsm_train,ysm_train)\n",
        "model.score(Xsm_val,ysm_val)"
      ],
      "metadata": {
        "id": "xxemVbXgjHqd",
        "outputId": "20e76c27-a8ab-4323-884b-209c95e7443c",
        "colab": {
          "base_uri": "https://localhost:8080/"
        }
      },
      "execution_count": 47,
      "outputs": [
        {
          "output_type": "execute_result",
          "data": {
            "text/plain": [
              "0.7712215320910973"
            ]
          },
          "metadata": {},
          "execution_count": 47
        }
      ]
    },
    {
      "cell_type": "code",
      "source": [
        "accuracy_score(ysm_val,model.predict(Xsm_val))"
      ],
      "metadata": {
        "id": "Zqyw3a0sj4-d",
        "outputId": "55898e16-46bd-40f5-9cfd-319f8a8075f7",
        "colab": {
          "base_uri": "https://localhost:8080/"
        }
      },
      "execution_count": 48,
      "outputs": [
        {
          "output_type": "execute_result",
          "data": {
            "text/plain": [
              "0.7712215320910973"
            ]
          },
          "metadata": {},
          "execution_count": 48
        }
      ]
    },
    {
      "cell_type": "code",
      "source": [
        "f1_score(ysm_val,model.predict(Xsm_val),average=\"weighted\")"
      ],
      "metadata": {
        "id": "s5A8eRgIkFhV",
        "outputId": "62250fbf-94dc-46f1-8ec6-0da2068a8b06",
        "colab": {
          "base_uri": "https://localhost:8080/"
        }
      },
      "execution_count": 49,
      "outputs": [
        {
          "output_type": "execute_result",
          "data": {
            "text/plain": [
              "0.7667452228398719"
            ]
          },
          "metadata": {},
          "execution_count": 49
        }
      ]
    },
    {
      "cell_type": "markdown",
      "source": [
        "# Support Vector Machine"
      ],
      "metadata": {
        "id": "Wd6tDk0QxPQH"
      }
    },
    {
      "cell_type": "code",
      "source": [
        "from sklearn.svm import SVC\n",
        "StratifiedKFold(3,shuffle=True, random_state=42)\n",
        "model = SVC(kernel=\"poly\")\n",
        "grid2 = {\n",
        "    \"C\": [ 0.01,0.1,1,10],\n",
        "    \"degree\" : [1,3,5,10]\n",
        "}\n",
        "gs2 = GridSearchCV(model,grid2,cv=skf,return_train_score=True)"
      ],
      "metadata": {
        "id": "6QpXf3N0kLVF"
      },
      "execution_count": 50,
      "outputs": []
    },
    {
      "cell_type": "code",
      "source": [
        "gs2.fit(Xsm_train,ysm_train)"
      ],
      "metadata": {
        "id": "k11A_Kkgl7sO",
        "outputId": "41c8029e-33aa-4e6f-f500-bccdf00dfcba",
        "colab": {
          "base_uri": "https://localhost:8080/"
        }
      },
      "execution_count": 51,
      "outputs": [
        {
          "output_type": "execute_result",
          "data": {
            "text/plain": [
              "GridSearchCV(cv=StratifiedKFold(n_splits=3, random_state=42, shuffle=True),\n",
              "             estimator=SVC(kernel='poly'),\n",
              "             param_grid={'C': [0.01, 0.1, 1, 10], 'degree': [1, 3, 5, 10]},\n",
              "             return_train_score=True)"
            ]
          },
          "metadata": {},
          "execution_count": 51
        }
      ]
    },
    {
      "cell_type": "code",
      "source": [
        "DataFrame(gs2.cv_results_).sort_values(\"rank_test_score\").head(3)"
      ],
      "metadata": {
        "id": "zvyGv189mAGa",
        "outputId": "2281ae6c-d007-4e69-de17-925519c782e8",
        "colab": {
          "base_uri": "https://localhost:8080/",
          "height": 329
        }
      },
      "execution_count": 52,
      "outputs": [
        {
          "output_type": "execute_result",
          "data": {
            "text/plain": [
              "    mean_fit_time  std_fit_time  mean_score_time  std_score_time param_C  \\\n",
              "14       0.736256      0.024061         0.017097        0.000744      10   \n",
              "11       0.777627      0.056338         0.016251        0.000854       1   \n",
              "3        0.202653      0.016233         0.017687        0.000505    0.01   \n",
              "\n",
              "   param_degree                     params  split0_test_score  \\\n",
              "14            5     {'C': 10, 'degree': 5}           0.816770   \n",
              "11           10     {'C': 1, 'degree': 10}           0.790373   \n",
              "3            10  {'C': 0.01, 'degree': 10}           0.793478   \n",
              "\n",
              "    split1_test_score  split2_test_score  mean_test_score  std_test_score  \\\n",
              "14           0.790373           0.830745         0.812629        0.016740   \n",
              "11           0.773292           0.836957         0.800207        0.026905   \n",
              "3            0.785714           0.810559         0.796584        0.010378   \n",
              "\n",
              "    rank_test_score  split0_train_score  split1_train_score  \\\n",
              "14                1            0.962733            0.968944   \n",
              "11                2            0.996894            1.000000   \n",
              "3                 3            0.944876            0.964286   \n",
              "\n",
              "    split2_train_score  mean_train_score  std_train_score  \n",
              "14            0.967391          0.966356         0.002639  \n",
              "11            0.996894          0.997930         0.001464  \n",
              "3             0.954193          0.954451         0.007926  "
            ],
            "text/html": [
              "\n",
              "  <div id=\"df-a4c0a2d3-dfae-42a2-951f-3942a8f91847\">\n",
              "    <div class=\"colab-df-container\">\n",
              "      <div>\n",
              "<style scoped>\n",
              "    .dataframe tbody tr th:only-of-type {\n",
              "        vertical-align: middle;\n",
              "    }\n",
              "\n",
              "    .dataframe tbody tr th {\n",
              "        vertical-align: top;\n",
              "    }\n",
              "\n",
              "    .dataframe thead th {\n",
              "        text-align: right;\n",
              "    }\n",
              "</style>\n",
              "<table border=\"1\" class=\"dataframe\">\n",
              "  <thead>\n",
              "    <tr style=\"text-align: right;\">\n",
              "      <th></th>\n",
              "      <th>mean_fit_time</th>\n",
              "      <th>std_fit_time</th>\n",
              "      <th>mean_score_time</th>\n",
              "      <th>std_score_time</th>\n",
              "      <th>param_C</th>\n",
              "      <th>param_degree</th>\n",
              "      <th>params</th>\n",
              "      <th>split0_test_score</th>\n",
              "      <th>split1_test_score</th>\n",
              "      <th>split2_test_score</th>\n",
              "      <th>mean_test_score</th>\n",
              "      <th>std_test_score</th>\n",
              "      <th>rank_test_score</th>\n",
              "      <th>split0_train_score</th>\n",
              "      <th>split1_train_score</th>\n",
              "      <th>split2_train_score</th>\n",
              "      <th>mean_train_score</th>\n",
              "      <th>std_train_score</th>\n",
              "    </tr>\n",
              "  </thead>\n",
              "  <tbody>\n",
              "    <tr>\n",
              "      <th>14</th>\n",
              "      <td>0.736256</td>\n",
              "      <td>0.024061</td>\n",
              "      <td>0.017097</td>\n",
              "      <td>0.000744</td>\n",
              "      <td>10</td>\n",
              "      <td>5</td>\n",
              "      <td>{'C': 10, 'degree': 5}</td>\n",
              "      <td>0.816770</td>\n",
              "      <td>0.790373</td>\n",
              "      <td>0.830745</td>\n",
              "      <td>0.812629</td>\n",
              "      <td>0.016740</td>\n",
              "      <td>1</td>\n",
              "      <td>0.962733</td>\n",
              "      <td>0.968944</td>\n",
              "      <td>0.967391</td>\n",
              "      <td>0.966356</td>\n",
              "      <td>0.002639</td>\n",
              "    </tr>\n",
              "    <tr>\n",
              "      <th>11</th>\n",
              "      <td>0.777627</td>\n",
              "      <td>0.056338</td>\n",
              "      <td>0.016251</td>\n",
              "      <td>0.000854</td>\n",
              "      <td>1</td>\n",
              "      <td>10</td>\n",
              "      <td>{'C': 1, 'degree': 10}</td>\n",
              "      <td>0.790373</td>\n",
              "      <td>0.773292</td>\n",
              "      <td>0.836957</td>\n",
              "      <td>0.800207</td>\n",
              "      <td>0.026905</td>\n",
              "      <td>2</td>\n",
              "      <td>0.996894</td>\n",
              "      <td>1.000000</td>\n",
              "      <td>0.996894</td>\n",
              "      <td>0.997930</td>\n",
              "      <td>0.001464</td>\n",
              "    </tr>\n",
              "    <tr>\n",
              "      <th>3</th>\n",
              "      <td>0.202653</td>\n",
              "      <td>0.016233</td>\n",
              "      <td>0.017687</td>\n",
              "      <td>0.000505</td>\n",
              "      <td>0.01</td>\n",
              "      <td>10</td>\n",
              "      <td>{'C': 0.01, 'degree': 10}</td>\n",
              "      <td>0.793478</td>\n",
              "      <td>0.785714</td>\n",
              "      <td>0.810559</td>\n",
              "      <td>0.796584</td>\n",
              "      <td>0.010378</td>\n",
              "      <td>3</td>\n",
              "      <td>0.944876</td>\n",
              "      <td>0.964286</td>\n",
              "      <td>0.954193</td>\n",
              "      <td>0.954451</td>\n",
              "      <td>0.007926</td>\n",
              "    </tr>\n",
              "  </tbody>\n",
              "</table>\n",
              "</div>\n",
              "      <button class=\"colab-df-convert\" onclick=\"convertToInteractive('df-a4c0a2d3-dfae-42a2-951f-3942a8f91847')\"\n",
              "              title=\"Convert this dataframe to an interactive table.\"\n",
              "              style=\"display:none;\">\n",
              "        \n",
              "  <svg xmlns=\"http://www.w3.org/2000/svg\" height=\"24px\"viewBox=\"0 0 24 24\"\n",
              "       width=\"24px\">\n",
              "    <path d=\"M0 0h24v24H0V0z\" fill=\"none\"/>\n",
              "    <path d=\"M18.56 5.44l.94 2.06.94-2.06 2.06-.94-2.06-.94-.94-2.06-.94 2.06-2.06.94zm-11 1L8.5 8.5l.94-2.06 2.06-.94-2.06-.94L8.5 2.5l-.94 2.06-2.06.94zm10 10l.94 2.06.94-2.06 2.06-.94-2.06-.94-.94-2.06-.94 2.06-2.06.94z\"/><path d=\"M17.41 7.96l-1.37-1.37c-.4-.4-.92-.59-1.43-.59-.52 0-1.04.2-1.43.59L10.3 9.45l-7.72 7.72c-.78.78-.78 2.05 0 2.83L4 21.41c.39.39.9.59 1.41.59.51 0 1.02-.2 1.41-.59l7.78-7.78 2.81-2.81c.8-.78.8-2.07 0-2.86zM5.41 20L4 18.59l7.72-7.72 1.47 1.35L5.41 20z\"/>\n",
              "  </svg>\n",
              "      </button>\n",
              "      \n",
              "  <style>\n",
              "    .colab-df-container {\n",
              "      display:flex;\n",
              "      flex-wrap:wrap;\n",
              "      gap: 12px;\n",
              "    }\n",
              "\n",
              "    .colab-df-convert {\n",
              "      background-color: #E8F0FE;\n",
              "      border: none;\n",
              "      border-radius: 50%;\n",
              "      cursor: pointer;\n",
              "      display: none;\n",
              "      fill: #1967D2;\n",
              "      height: 32px;\n",
              "      padding: 0 0 0 0;\n",
              "      width: 32px;\n",
              "    }\n",
              "\n",
              "    .colab-df-convert:hover {\n",
              "      background-color: #E2EBFA;\n",
              "      box-shadow: 0px 1px 2px rgba(60, 64, 67, 0.3), 0px 1px 3px 1px rgba(60, 64, 67, 0.15);\n",
              "      fill: #174EA6;\n",
              "    }\n",
              "\n",
              "    [theme=dark] .colab-df-convert {\n",
              "      background-color: #3B4455;\n",
              "      fill: #D2E3FC;\n",
              "    }\n",
              "\n",
              "    [theme=dark] .colab-df-convert:hover {\n",
              "      background-color: #434B5C;\n",
              "      box-shadow: 0px 1px 3px 1px rgba(0, 0, 0, 0.15);\n",
              "      filter: drop-shadow(0px 1px 2px rgba(0, 0, 0, 0.3));\n",
              "      fill: #FFFFFF;\n",
              "    }\n",
              "  </style>\n",
              "\n",
              "      <script>\n",
              "        const buttonEl =\n",
              "          document.querySelector('#df-a4c0a2d3-dfae-42a2-951f-3942a8f91847 button.colab-df-convert');\n",
              "        buttonEl.style.display =\n",
              "          google.colab.kernel.accessAllowed ? 'block' : 'none';\n",
              "\n",
              "        async function convertToInteractive(key) {\n",
              "          const element = document.querySelector('#df-a4c0a2d3-dfae-42a2-951f-3942a8f91847');\n",
              "          const dataTable =\n",
              "            await google.colab.kernel.invokeFunction('convertToInteractive',\n",
              "                                                     [key], {});\n",
              "          if (!dataTable) return;\n",
              "\n",
              "          const docLinkHtml = 'Like what you see? Visit the ' +\n",
              "            '<a target=\"_blank\" href=https://colab.research.google.com/notebooks/data_table.ipynb>data table notebook</a>'\n",
              "            + ' to learn more about interactive tables.';\n",
              "          element.innerHTML = '';\n",
              "          dataTable['output_type'] = 'display_data';\n",
              "          await google.colab.output.renderOutput(dataTable, element);\n",
              "          const docLink = document.createElement('div');\n",
              "          docLink.innerHTML = docLinkHtml;\n",
              "          element.appendChild(docLink);\n",
              "        }\n",
              "      </script>\n",
              "    </div>\n",
              "  </div>\n",
              "  "
            ]
          },
          "metadata": {},
          "execution_count": 52
        }
      ]
    },
    {
      "cell_type": "code",
      "source": [
        "gs2.score(Xsm_val,ysm_val)"
      ],
      "metadata": {
        "id": "zsJ2XRUImQqa",
        "outputId": "7ac73f0a-c359-4e94-b524-ad4b7c136225",
        "colab": {
          "base_uri": "https://localhost:8080/"
        }
      },
      "execution_count": 53,
      "outputs": [
        {
          "output_type": "execute_result",
          "data": {
            "text/plain": [
              "0.8157349896480331"
            ]
          },
          "metadata": {},
          "execution_count": 53
        }
      ]
    },
    {
      "cell_type": "markdown",
      "source": [
        "# KNN"
      ],
      "metadata": {
        "id": "bzBn7_UznM9w"
      }
    },
    {
      "cell_type": "code",
      "source": [
        "from sklearn.neighbors import KNeighborsClassifier\n",
        "knn = KNeighborsClassifier(n_neighbors = 5)\n",
        "knn.fit(Xsm_train,ysm_train)"
      ],
      "metadata": {
        "id": "gacbZKHwnQm2",
        "outputId": "9b30109f-c321-4f9c-ccfa-28931abe1fae",
        "colab": {
          "base_uri": "https://localhost:8080/"
        }
      },
      "execution_count": 54,
      "outputs": [
        {
          "output_type": "execute_result",
          "data": {
            "text/plain": [
              "KNeighborsClassifier()"
            ]
          },
          "metadata": {},
          "execution_count": 54
        }
      ]
    },
    {
      "cell_type": "code",
      "source": [
        "knn.score(Xsm_val,ysm_val)"
      ],
      "metadata": {
        "id": "_WCa0KKAnVd9",
        "outputId": "e7efd31b-3630-490b-869d-324b9fa76b0e",
        "colab": {
          "base_uri": "https://localhost:8080/"
        }
      },
      "execution_count": 55,
      "outputs": [
        {
          "output_type": "execute_result",
          "data": {
            "text/plain": [
              "0.7650103519668737"
            ]
          },
          "metadata": {},
          "execution_count": 55
        }
      ]
    },
    {
      "cell_type": "markdown",
      "source": [
        "# Perceptron"
      ],
      "metadata": {
        "id": "I046UPE5x7EZ"
      }
    },
    {
      "cell_type": "code",
      "source": [
        "from scipy.sparse.construct import random\n",
        "from sklearn.linear_model import Perceptron\n",
        "model= Perceptron(random_state=42)\n",
        "model.fit(Xsm_train,ysm_train)\n"
      ],
      "metadata": {
        "id": "q-rBNxvqx6k_",
        "outputId": "18528427-9a77-4426-fef0-d22b360ec634",
        "colab": {
          "base_uri": "https://localhost:8080/"
        }
      },
      "execution_count": 56,
      "outputs": [
        {
          "output_type": "execute_result",
          "data": {
            "text/plain": [
              "Perceptron(random_state=42)"
            ]
          },
          "metadata": {},
          "execution_count": 56
        }
      ]
    },
    {
      "cell_type": "code",
      "source": [
        "model.score(Xsm_val,ysm_val)"
      ],
      "metadata": {
        "id": "fVpcxhEZyn8z",
        "outputId": "c59c8bec-1dd6-4ee3-d588-8fa4618ba9a7",
        "colab": {
          "base_uri": "https://localhost:8080/"
        }
      },
      "execution_count": 57,
      "outputs": [
        {
          "output_type": "execute_result",
          "data": {
            "text/plain": [
              "0.453416149068323"
            ]
          },
          "metadata": {},
          "execution_count": 57
        }
      ]
    },
    {
      "cell_type": "markdown",
      "source": [
        "# Reti Neurali"
      ],
      "metadata": {
        "id": "lfiJuYSjy6j6"
      }
    },
    {
      "cell_type": "code",
      "source": [
        "from tensorflow.keras.wrappers.scikit_learn import KerasClassifier\n",
        "from keras import Sequential\n",
        "from tensorflow.keras.layers import Dense\n",
        "import keras\n"
      ],
      "metadata": {
        "id": "JLAABlpczCVp"
      },
      "execution_count": 92,
      "outputs": []
    },
    {
      "cell_type": "code",
      "source": [
        "def getModel(nodes1,nodes2,nodes3):\n",
        "  model = Sequential([\n",
        "                 Dense(nodes1,activation='relu',input_dim=Xsm_train.shape[1]),\n",
        "                 Dense(nodes2,activation=\"softmax\"),\n",
        "                 Dense(nodes3,activation=\"softmax\"),\n",
        "                 Dense(1)     \n",
        "  ])\n",
        "  model.compile(optimizer=\"adam\",loss=\"categorical_crossentropy\",metrics=[\"accuracy\"])\n",
        "  return model"
      ],
      "metadata": {
        "id": "1pK-mz4Q2Coq"
      },
      "execution_count": 115,
      "outputs": []
    },
    {
      "cell_type": "code",
      "source": [
        "model = KerasClassifier(build_fn=getModel)"
      ],
      "metadata": {
        "id": "V8lspeIK1aQF",
        "outputId": "48ad5410-8bcf-4956-a0ae-4128b304b4e3",
        "colab": {
          "base_uri": "https://localhost:8080/"
        }
      },
      "execution_count": 116,
      "outputs": [
        {
          "output_type": "stream",
          "name": "stderr",
          "text": [
            "/usr/local/lib/python3.7/dist-packages/ipykernel_launcher.py:1: DeprecationWarning: KerasClassifier is deprecated, use Sci-Keras (https://github.com/adriangb/scikeras) instead. See https://www.adriangb.com/scikeras/stable/migration.html for help migrating.\n",
            "  \"\"\"Entry point for launching an IPython kernel.\n"
          ]
        }
      ]
    },
    {
      "cell_type": "code",
      "source": [
        "grid3 = {\n",
        "    \"nodes1\" : [8],\n",
        "    \"nodes2\" : [3],\n",
        "    \"nodes3\" : [3],\n",
        "    \"batch_size\" : [5],\n",
        "    \"epochs\": [200]\n",
        "}"
      ],
      "metadata": {
        "id": "u7i8Qx-X7Qxh"
      },
      "execution_count": 117,
      "outputs": []
    },
    {
      "cell_type": "code",
      "source": [
        "gsnn = GridSearchCV(model,grid3,return_train_score=True,cv=skf)"
      ],
      "metadata": {
        "id": "wh9ASeDW7Efs"
      },
      "execution_count": 118,
      "outputs": []
    },
    {
      "cell_type": "code",
      "source": [
        "gsnn.fit(Xsm_train,ysm_train[:,None])"
      ],
      "metadata": {
        "id": "qLocnADX8QYd",
        "outputId": "2c49645f-edd2-4250-885e-5390c203a2da",
        "colab": {
          "base_uri": "https://localhost:8080/"
        }
      },
      "execution_count": null,
      "outputs": [
        {
          "output_type": "stream",
          "name": "stdout",
          "text": [
            "Epoch 1/200\n"
          ]
        },
        {
          "output_type": "stream",
          "name": "stderr",
          "text": [
            "/usr/local/lib/python3.7/dist-packages/ipykernel_launcher.py:1: FutureWarning: Support for multi-dimensional indexing (e.g. `obj[:, None]`) is deprecated and will be removed in a future version.  Convert to a numpy array before indexing instead.\n",
            "  \"\"\"Entry point for launching an IPython kernel.\n"
          ]
        },
        {
          "output_type": "stream",
          "name": "stdout",
          "text": [
            "258/258 [==============================] - 1s 2ms/step - loss: 2.9821e-07 - accuracy: 0.1685\n",
            "Epoch 2/200\n",
            "258/258 [==============================] - 0s 2ms/step - loss: 2.9821e-07 - accuracy: 0.1685\n",
            "Epoch 3/200\n",
            "258/258 [==============================] - 0s 2ms/step - loss: 2.9821e-07 - accuracy: 0.1685\n",
            "Epoch 4/200\n",
            "258/258 [==============================] - 0s 2ms/step - loss: 2.9821e-07 - accuracy: 0.1685\n",
            "Epoch 5/200\n",
            "258/258 [==============================] - 0s 2ms/step - loss: 2.9821e-07 - accuracy: 0.1685\n",
            "Epoch 6/200\n",
            "258/258 [==============================] - 0s 2ms/step - loss: 2.9821e-07 - accuracy: 0.1685\n",
            "Epoch 7/200\n",
            "258/258 [==============================] - 0s 1ms/step - loss: 2.9821e-07 - accuracy: 0.1685\n",
            "Epoch 8/200\n",
            "258/258 [==============================] - 0s 2ms/step - loss: 2.9821e-07 - accuracy: 0.1685\n",
            "Epoch 9/200\n",
            "258/258 [==============================] - 0s 1ms/step - loss: 2.9821e-07 - accuracy: 0.1685\n",
            "Epoch 10/200\n",
            "258/258 [==============================] - 0s 2ms/step - loss: 2.9821e-07 - accuracy: 0.1685\n",
            "Epoch 11/200\n",
            "258/258 [==============================] - 0s 2ms/step - loss: 2.9821e-07 - accuracy: 0.1685\n",
            "Epoch 12/200\n",
            "258/258 [==============================] - 0s 2ms/step - loss: 2.9821e-07 - accuracy: 0.1685\n",
            "Epoch 13/200\n",
            "258/258 [==============================] - 0s 2ms/step - loss: 2.9821e-07 - accuracy: 0.1685\n",
            "Epoch 14/200\n",
            "258/258 [==============================] - 0s 2ms/step - loss: 2.9821e-07 - accuracy: 0.1685\n",
            "Epoch 15/200\n",
            "258/258 [==============================] - 0s 2ms/step - loss: 2.9821e-07 - accuracy: 0.1685\n",
            "Epoch 16/200\n",
            "258/258 [==============================] - 0s 2ms/step - loss: 2.9821e-07 - accuracy: 0.1685\n",
            "Epoch 17/200\n",
            "258/258 [==============================] - 0s 1ms/step - loss: 2.9821e-07 - accuracy: 0.1685\n",
            "Epoch 18/200\n",
            "258/258 [==============================] - 0s 2ms/step - loss: 2.9821e-07 - accuracy: 0.1685\n",
            "Epoch 19/200\n",
            "258/258 [==============================] - 0s 2ms/step - loss: 2.9821e-07 - accuracy: 0.1685\n",
            "Epoch 20/200\n",
            "258/258 [==============================] - 0s 2ms/step - loss: 2.9821e-07 - accuracy: 0.1685\n",
            "Epoch 21/200\n",
            "258/258 [==============================] - 0s 2ms/step - loss: 2.9821e-07 - accuracy: 0.1685\n",
            "Epoch 22/200\n",
            "258/258 [==============================] - 0s 2ms/step - loss: 2.9821e-07 - accuracy: 0.1685\n",
            "Epoch 23/200\n",
            "258/258 [==============================] - 0s 2ms/step - loss: 2.9821e-07 - accuracy: 0.1685\n",
            "Epoch 24/200\n",
            "258/258 [==============================] - 0s 2ms/step - loss: 2.9821e-07 - accuracy: 0.1685\n",
            "Epoch 25/200\n",
            "258/258 [==============================] - 0s 2ms/step - loss: 2.9821e-07 - accuracy: 0.1685\n",
            "Epoch 26/200\n",
            "258/258 [==============================] - 0s 2ms/step - loss: 2.9821e-07 - accuracy: 0.1685\n",
            "Epoch 27/200\n",
            "258/258 [==============================] - 0s 2ms/step - loss: 2.9821e-07 - accuracy: 0.1685\n",
            "Epoch 28/200\n",
            "258/258 [==============================] - 0s 2ms/step - loss: 2.9821e-07 - accuracy: 0.1685\n",
            "Epoch 29/200\n",
            "258/258 [==============================] - 0s 2ms/step - loss: 2.9821e-07 - accuracy: 0.1685\n",
            "Epoch 30/200\n",
            "258/258 [==============================] - 0s 2ms/step - loss: 2.9821e-07 - accuracy: 0.1685\n",
            "Epoch 31/200\n",
            "258/258 [==============================] - 0s 2ms/step - loss: 2.9821e-07 - accuracy: 0.1685\n",
            "Epoch 32/200\n",
            "258/258 [==============================] - 0s 2ms/step - loss: 2.9821e-07 - accuracy: 0.1685\n",
            "Epoch 33/200\n",
            "258/258 [==============================] - 0s 2ms/step - loss: 2.9821e-07 - accuracy: 0.1685\n",
            "Epoch 34/200\n",
            "258/258 [==============================] - 0s 2ms/step - loss: 2.9821e-07 - accuracy: 0.1685\n",
            "Epoch 35/200\n",
            "258/258 [==============================] - 0s 2ms/step - loss: 2.9821e-07 - accuracy: 0.1685\n",
            "Epoch 36/200\n",
            "258/258 [==============================] - 0s 2ms/step - loss: 2.9821e-07 - accuracy: 0.1685\n",
            "Epoch 37/200\n",
            "258/258 [==============================] - 0s 2ms/step - loss: 2.9821e-07 - accuracy: 0.1685\n",
            "Epoch 38/200\n",
            "258/258 [==============================] - 0s 2ms/step - loss: 2.9821e-07 - accuracy: 0.1685\n",
            "Epoch 39/200\n",
            "258/258 [==============================] - 0s 2ms/step - loss: 2.9821e-07 - accuracy: 0.1685\n",
            "Epoch 40/200\n",
            "258/258 [==============================] - 0s 2ms/step - loss: 2.9821e-07 - accuracy: 0.1685\n",
            "Epoch 41/200\n",
            "258/258 [==============================] - 0s 2ms/step - loss: 2.9821e-07 - accuracy: 0.1685\n",
            "Epoch 42/200\n",
            "258/258 [==============================] - 0s 2ms/step - loss: 2.9821e-07 - accuracy: 0.1685\n",
            "Epoch 43/200\n",
            "258/258 [==============================] - 0s 1ms/step - loss: 2.9821e-07 - accuracy: 0.1685\n",
            "Epoch 44/200\n",
            "258/258 [==============================] - 0s 1ms/step - loss: 2.9821e-07 - accuracy: 0.1685\n",
            "Epoch 45/200\n",
            "258/258 [==============================] - 0s 2ms/step - loss: 2.9821e-07 - accuracy: 0.1685\n",
            "Epoch 46/200\n",
            "258/258 [==============================] - 0s 2ms/step - loss: 2.9821e-07 - accuracy: 0.1685\n",
            "Epoch 47/200\n",
            "258/258 [==============================] - 0s 2ms/step - loss: 2.9821e-07 - accuracy: 0.1685\n",
            "Epoch 48/200\n",
            "258/258 [==============================] - 0s 2ms/step - loss: 2.9821e-07 - accuracy: 0.1685\n",
            "Epoch 49/200\n",
            "258/258 [==============================] - 0s 2ms/step - loss: 2.9821e-07 - accuracy: 0.1685\n",
            "Epoch 50/200\n",
            "258/258 [==============================] - 0s 2ms/step - loss: 2.9821e-07 - accuracy: 0.1685\n",
            "Epoch 51/200\n",
            "258/258 [==============================] - 0s 2ms/step - loss: 2.9821e-07 - accuracy: 0.1685\n",
            "Epoch 52/200\n",
            "258/258 [==============================] - 0s 2ms/step - loss: 2.9821e-07 - accuracy: 0.1685\n",
            "Epoch 53/200\n",
            "258/258 [==============================] - 0s 1ms/step - loss: 2.9821e-07 - accuracy: 0.1685\n",
            "Epoch 54/200\n",
            "258/258 [==============================] - 0s 2ms/step - loss: 2.9821e-07 - accuracy: 0.1685\n",
            "Epoch 55/200\n",
            "258/258 [==============================] - 0s 2ms/step - loss: 2.9821e-07 - accuracy: 0.1685\n",
            "Epoch 56/200\n",
            "258/258 [==============================] - 0s 2ms/step - loss: 2.9821e-07 - accuracy: 0.1685\n",
            "Epoch 57/200\n",
            "258/258 [==============================] - 0s 1ms/step - loss: 2.9821e-07 - accuracy: 0.1685\n",
            "Epoch 58/200\n",
            "258/258 [==============================] - 0s 2ms/step - loss: 2.9821e-07 - accuracy: 0.1685\n",
            "Epoch 59/200\n",
            "258/258 [==============================] - 0s 2ms/step - loss: 2.9821e-07 - accuracy: 0.1685\n",
            "Epoch 60/200\n",
            "258/258 [==============================] - 0s 2ms/step - loss: 2.9821e-07 - accuracy: 0.1685\n",
            "Epoch 61/200\n",
            "258/258 [==============================] - 0s 2ms/step - loss: 2.9821e-07 - accuracy: 0.1685\n",
            "Epoch 62/200\n",
            "258/258 [==============================] - 0s 2ms/step - loss: 2.9821e-07 - accuracy: 0.1685\n",
            "Epoch 63/200\n",
            "258/258 [==============================] - 0s 2ms/step - loss: 2.9821e-07 - accuracy: 0.1685\n",
            "Epoch 64/200\n",
            "258/258 [==============================] - 0s 2ms/step - loss: 2.9821e-07 - accuracy: 0.1685\n",
            "Epoch 65/200\n",
            "258/258 [==============================] - 0s 2ms/step - loss: 2.9821e-07 - accuracy: 0.1685\n",
            "Epoch 66/200\n",
            "258/258 [==============================] - 0s 2ms/step - loss: 2.9821e-07 - accuracy: 0.1685\n",
            "Epoch 67/200\n",
            "258/258 [==============================] - 0s 2ms/step - loss: 2.9821e-07 - accuracy: 0.1685\n",
            "Epoch 68/200\n",
            "258/258 [==============================] - 0s 2ms/step - loss: 2.9821e-07 - accuracy: 0.1685\n",
            "Epoch 69/200\n",
            "258/258 [==============================] - 0s 2ms/step - loss: 2.9821e-07 - accuracy: 0.1685\n",
            "Epoch 70/200\n",
            "258/258 [==============================] - 0s 2ms/step - loss: 2.9821e-07 - accuracy: 0.1685\n",
            "Epoch 71/200\n",
            "258/258 [==============================] - 0s 2ms/step - loss: 2.9821e-07 - accuracy: 0.1685\n",
            "Epoch 72/200\n",
            "258/258 [==============================] - 0s 2ms/step - loss: 2.9821e-07 - accuracy: 0.1685\n",
            "Epoch 73/200\n",
            "258/258 [==============================] - 0s 1ms/step - loss: 2.9821e-07 - accuracy: 0.1685\n",
            "Epoch 74/200\n",
            "258/258 [==============================] - 0s 2ms/step - loss: 2.9821e-07 - accuracy: 0.1685\n",
            "Epoch 75/200\n",
            "258/258 [==============================] - 0s 2ms/step - loss: 2.9821e-07 - accuracy: 0.1685\n",
            "Epoch 76/200\n",
            "258/258 [==============================] - 0s 2ms/step - loss: 2.9821e-07 - accuracy: 0.1685\n",
            "Epoch 77/200\n",
            "258/258 [==============================] - 0s 2ms/step - loss: 2.9821e-07 - accuracy: 0.1685\n",
            "Epoch 78/200\n",
            "258/258 [==============================] - 0s 2ms/step - loss: 2.9821e-07 - accuracy: 0.1685\n",
            "Epoch 79/200\n",
            "258/258 [==============================] - 0s 2ms/step - loss: 2.9821e-07 - accuracy: 0.1685\n",
            "Epoch 80/200\n",
            "258/258 [==============================] - 0s 2ms/step - loss: 2.9821e-07 - accuracy: 0.1685\n",
            "Epoch 81/200\n",
            "258/258 [==============================] - 0s 2ms/step - loss: 2.9821e-07 - accuracy: 0.1685\n",
            "Epoch 82/200\n",
            "258/258 [==============================] - 0s 2ms/step - loss: 2.9821e-07 - accuracy: 0.1685\n",
            "Epoch 83/200\n",
            "258/258 [==============================] - 0s 1ms/step - loss: 2.9821e-07 - accuracy: 0.1685\n",
            "Epoch 84/200\n",
            "258/258 [==============================] - 0s 2ms/step - loss: 2.9821e-07 - accuracy: 0.1685\n",
            "Epoch 85/200\n",
            "258/258 [==============================] - 0s 2ms/step - loss: 2.9821e-07 - accuracy: 0.1685\n",
            "Epoch 86/200\n",
            "258/258 [==============================] - 0s 2ms/step - loss: 2.9821e-07 - accuracy: 0.1685\n",
            "Epoch 87/200\n",
            "258/258 [==============================] - 0s 2ms/step - loss: 2.9821e-07 - accuracy: 0.1685\n",
            "Epoch 88/200\n",
            "258/258 [==============================] - 0s 2ms/step - loss: 2.9821e-07 - accuracy: 0.1685\n",
            "Epoch 89/200\n",
            "258/258 [==============================] - 0s 2ms/step - loss: 2.9821e-07 - accuracy: 0.1685\n",
            "Epoch 90/200\n",
            "258/258 [==============================] - 0s 2ms/step - loss: 2.9821e-07 - accuracy: 0.1685\n",
            "Epoch 91/200\n",
            "258/258 [==============================] - 0s 2ms/step - loss: 2.9821e-07 - accuracy: 0.1685\n",
            "Epoch 92/200\n",
            "258/258 [==============================] - 0s 2ms/step - loss: 2.9821e-07 - accuracy: 0.1685\n",
            "Epoch 93/200\n",
            "258/258 [==============================] - 0s 2ms/step - loss: 2.9821e-07 - accuracy: 0.1685\n",
            "Epoch 94/200\n",
            "258/258 [==============================] - 0s 2ms/step - loss: 2.9821e-07 - accuracy: 0.1685\n",
            "Epoch 95/200\n",
            "258/258 [==============================] - 0s 1ms/step - loss: 2.9821e-07 - accuracy: 0.1685\n",
            "Epoch 96/200\n",
            "258/258 [==============================] - 0s 2ms/step - loss: 2.9821e-07 - accuracy: 0.1685\n",
            "Epoch 97/200\n",
            "258/258 [==============================] - 0s 2ms/step - loss: 2.9821e-07 - accuracy: 0.1685\n",
            "Epoch 98/200\n",
            "258/258 [==============================] - 0s 2ms/step - loss: 2.9821e-07 - accuracy: 0.1685\n",
            "Epoch 99/200\n",
            "258/258 [==============================] - 0s 2ms/step - loss: 2.9821e-07 - accuracy: 0.1685\n",
            "Epoch 100/200\n",
            "258/258 [==============================] - 0s 2ms/step - loss: 2.9821e-07 - accuracy: 0.1685\n",
            "Epoch 101/200\n",
            "258/258 [==============================] - 0s 2ms/step - loss: 2.9821e-07 - accuracy: 0.1685\n",
            "Epoch 102/200\n",
            "258/258 [==============================] - 0s 2ms/step - loss: 2.9821e-07 - accuracy: 0.1685\n",
            "Epoch 103/200\n",
            "258/258 [==============================] - 0s 2ms/step - loss: 2.9821e-07 - accuracy: 0.1685\n",
            "Epoch 104/200\n",
            "258/258 [==============================] - 0s 2ms/step - loss: 2.9821e-07 - accuracy: 0.1685\n",
            "Epoch 105/200\n",
            "258/258 [==============================] - 0s 2ms/step - loss: 2.9821e-07 - accuracy: 0.1685\n",
            "Epoch 106/200\n",
            "258/258 [==============================] - 0s 2ms/step - loss: 2.9821e-07 - accuracy: 0.1685\n",
            "Epoch 107/200\n",
            "258/258 [==============================] - 0s 2ms/step - loss: 2.9821e-07 - accuracy: 0.1685\n",
            "Epoch 108/200\n",
            "258/258 [==============================] - 0s 2ms/step - loss: 2.9821e-07 - accuracy: 0.1685\n",
            "Epoch 109/200\n",
            "258/258 [==============================] - 0s 2ms/step - loss: 2.9821e-07 - accuracy: 0.1685\n",
            "Epoch 110/200\n",
            "258/258 [==============================] - 0s 2ms/step - loss: 2.9821e-07 - accuracy: 0.1685\n",
            "Epoch 111/200\n",
            "258/258 [==============================] - 0s 2ms/step - loss: 2.9821e-07 - accuracy: 0.1685\n",
            "Epoch 112/200\n",
            "258/258 [==============================] - 0s 2ms/step - loss: 2.9821e-07 - accuracy: 0.1685\n",
            "Epoch 113/200\n",
            "258/258 [==============================] - 0s 2ms/step - loss: 2.9821e-07 - accuracy: 0.1685\n",
            "Epoch 114/200\n",
            "258/258 [==============================] - 0s 2ms/step - loss: 2.9821e-07 - accuracy: 0.1685\n",
            "Epoch 115/200\n",
            "258/258 [==============================] - 0s 2ms/step - loss: 2.9821e-07 - accuracy: 0.1685\n",
            "Epoch 116/200\n",
            "258/258 [==============================] - 0s 2ms/step - loss: 2.9821e-07 - accuracy: 0.1685\n",
            "Epoch 117/200\n",
            "258/258 [==============================] - 0s 2ms/step - loss: 2.9821e-07 - accuracy: 0.1685\n",
            "Epoch 118/200\n",
            "258/258 [==============================] - 0s 2ms/step - loss: 2.9821e-07 - accuracy: 0.1685\n",
            "Epoch 119/200\n",
            "258/258 [==============================] - 0s 2ms/step - loss: 2.9821e-07 - accuracy: 0.1685\n",
            "Epoch 120/200\n",
            "258/258 [==============================] - 0s 2ms/step - loss: 2.9821e-07 - accuracy: 0.1685\n",
            "Epoch 121/200\n",
            "258/258 [==============================] - 0s 2ms/step - loss: 2.9821e-07 - accuracy: 0.1685\n",
            "Epoch 122/200\n",
            "258/258 [==============================] - 0s 2ms/step - loss: 2.9821e-07 - accuracy: 0.1685\n",
            "Epoch 123/200\n",
            "258/258 [==============================] - 0s 2ms/step - loss: 2.9821e-07 - accuracy: 0.1685\n",
            "Epoch 124/200\n",
            "258/258 [==============================] - 0s 2ms/step - loss: 2.9821e-07 - accuracy: 0.1685\n",
            "Epoch 125/200\n",
            "258/258 [==============================] - 0s 2ms/step - loss: 2.9821e-07 - accuracy: 0.1685\n",
            "Epoch 126/200\n",
            "258/258 [==============================] - 0s 2ms/step - loss: 2.9821e-07 - accuracy: 0.1685\n",
            "Epoch 127/200\n",
            "258/258 [==============================] - 0s 2ms/step - loss: 2.9821e-07 - accuracy: 0.1685\n",
            "Epoch 128/200\n",
            "258/258 [==============================] - 0s 2ms/step - loss: 2.9821e-07 - accuracy: 0.1685\n",
            "Epoch 129/200\n",
            "258/258 [==============================] - 0s 2ms/step - loss: 2.9821e-07 - accuracy: 0.1685\n",
            "Epoch 130/200\n",
            "258/258 [==============================] - 0s 2ms/step - loss: 2.9821e-07 - accuracy: 0.1685\n",
            "Epoch 131/200\n",
            "258/258 [==============================] - 0s 2ms/step - loss: 2.9821e-07 - accuracy: 0.1685\n",
            "Epoch 132/200\n",
            "258/258 [==============================] - 0s 2ms/step - loss: 2.9821e-07 - accuracy: 0.1685\n",
            "Epoch 133/200\n",
            "258/258 [==============================] - 0s 2ms/step - loss: 2.9821e-07 - accuracy: 0.1685\n",
            "Epoch 134/200\n",
            "258/258 [==============================] - 0s 2ms/step - loss: 2.9821e-07 - accuracy: 0.1685\n",
            "Epoch 135/200\n",
            "258/258 [==============================] - 0s 2ms/step - loss: 2.9821e-07 - accuracy: 0.1685\n",
            "Epoch 136/200\n",
            "258/258 [==============================] - 0s 2ms/step - loss: 2.9821e-07 - accuracy: 0.1685\n",
            "Epoch 137/200\n",
            "258/258 [==============================] - 0s 2ms/step - loss: 2.9821e-07 - accuracy: 0.1685\n",
            "Epoch 138/200\n",
            "258/258 [==============================] - 0s 2ms/step - loss: 2.9821e-07 - accuracy: 0.1685\n",
            "Epoch 139/200\n",
            "258/258 [==============================] - 0s 2ms/step - loss: 2.9821e-07 - accuracy: 0.1685\n",
            "Epoch 140/200\n",
            "258/258 [==============================] - 0s 2ms/step - loss: 2.9821e-07 - accuracy: 0.1685\n",
            "Epoch 141/200\n",
            "258/258 [==============================] - 0s 2ms/step - loss: 2.9821e-07 - accuracy: 0.1685\n",
            "Epoch 142/200\n",
            "258/258 [==============================] - 0s 2ms/step - loss: 2.9821e-07 - accuracy: 0.1685\n",
            "Epoch 143/200\n",
            "258/258 [==============================] - 0s 2ms/step - loss: 2.9821e-07 - accuracy: 0.1685\n",
            "Epoch 144/200\n",
            "258/258 [==============================] - 0s 2ms/step - loss: 2.9821e-07 - accuracy: 0.1685\n",
            "Epoch 145/200\n",
            "258/258 [==============================] - 0s 2ms/step - loss: 2.9821e-07 - accuracy: 0.1685\n",
            "Epoch 146/200\n",
            "258/258 [==============================] - 0s 2ms/step - loss: 2.9821e-07 - accuracy: 0.1685\n",
            "Epoch 147/200\n",
            "258/258 [==============================] - 0s 2ms/step - loss: 2.9821e-07 - accuracy: 0.1685\n",
            "Epoch 148/200\n",
            "258/258 [==============================] - 0s 2ms/step - loss: 2.9821e-07 - accuracy: 0.1685\n",
            "Epoch 149/200\n",
            "258/258 [==============================] - 0s 2ms/step - loss: 2.9821e-07 - accuracy: 0.1685\n",
            "Epoch 150/200\n",
            "258/258 [==============================] - 0s 2ms/step - loss: 2.9821e-07 - accuracy: 0.1685\n",
            "Epoch 151/200\n",
            "258/258 [==============================] - 0s 2ms/step - loss: 2.9821e-07 - accuracy: 0.1685\n",
            "Epoch 152/200\n",
            "258/258 [==============================] - 0s 2ms/step - loss: 2.9821e-07 - accuracy: 0.1685\n",
            "Epoch 153/200\n",
            "258/258 [==============================] - 0s 2ms/step - loss: 2.9821e-07 - accuracy: 0.1685\n",
            "Epoch 154/200\n",
            "258/258 [==============================] - 0s 2ms/step - loss: 2.9821e-07 - accuracy: 0.1685\n",
            "Epoch 155/200\n",
            "258/258 [==============================] - 0s 2ms/step - loss: 2.9821e-07 - accuracy: 0.1685\n",
            "Epoch 156/200\n",
            "258/258 [==============================] - 0s 2ms/step - loss: 2.9821e-07 - accuracy: 0.1685\n",
            "Epoch 157/200\n",
            "258/258 [==============================] - 0s 2ms/step - loss: 2.9821e-07 - accuracy: 0.1685\n",
            "Epoch 158/200\n",
            "258/258 [==============================] - 0s 2ms/step - loss: 2.9821e-07 - accuracy: 0.1685\n",
            "Epoch 159/200\n",
            "258/258 [==============================] - 0s 2ms/step - loss: 2.9821e-07 - accuracy: 0.1685\n",
            "Epoch 160/200\n",
            "258/258 [==============================] - 0s 2ms/step - loss: 2.9821e-07 - accuracy: 0.1685\n",
            "Epoch 161/200\n",
            "258/258 [==============================] - 0s 2ms/step - loss: 2.9821e-07 - accuracy: 0.1685\n",
            "Epoch 162/200\n",
            "258/258 [==============================] - 0s 2ms/step - loss: 2.9821e-07 - accuracy: 0.1685\n",
            "Epoch 163/200\n",
            "258/258 [==============================] - 0s 2ms/step - loss: 2.9821e-07 - accuracy: 0.1685\n",
            "Epoch 164/200\n",
            "258/258 [==============================] - 0s 2ms/step - loss: 2.9821e-07 - accuracy: 0.1685\n",
            "Epoch 165/200\n",
            "258/258 [==============================] - 0s 2ms/step - loss: 2.9821e-07 - accuracy: 0.1685\n",
            "Epoch 166/200\n",
            "258/258 [==============================] - 0s 2ms/step - loss: 2.9821e-07 - accuracy: 0.1685\n",
            "Epoch 167/200\n",
            "258/258 [==============================] - 0s 2ms/step - loss: 2.9821e-07 - accuracy: 0.1685\n",
            "Epoch 168/200\n",
            "258/258 [==============================] - 0s 2ms/step - loss: 2.9821e-07 - accuracy: 0.1685\n",
            "Epoch 169/200\n",
            "258/258 [==============================] - 0s 2ms/step - loss: 2.9821e-07 - accuracy: 0.1685\n",
            "Epoch 170/200\n",
            "258/258 [==============================] - 0s 2ms/step - loss: 2.9821e-07 - accuracy: 0.1685\n",
            "Epoch 171/200\n",
            "258/258 [==============================] - 0s 2ms/step - loss: 2.9821e-07 - accuracy: 0.1685\n",
            "Epoch 172/200\n",
            "258/258 [==============================] - 0s 2ms/step - loss: 2.9821e-07 - accuracy: 0.1685\n",
            "Epoch 173/200\n",
            "258/258 [==============================] - 0s 2ms/step - loss: 2.9821e-07 - accuracy: 0.1685\n",
            "Epoch 174/200\n",
            "258/258 [==============================] - 0s 2ms/step - loss: 2.9821e-07 - accuracy: 0.1685\n",
            "Epoch 175/200\n",
            "258/258 [==============================] - 0s 2ms/step - loss: 2.9821e-07 - accuracy: 0.1685\n",
            "Epoch 176/200\n",
            "258/258 [==============================] - 0s 2ms/step - loss: 2.9821e-07 - accuracy: 0.1685\n",
            "Epoch 177/200\n",
            "258/258 [==============================] - 0s 2ms/step - loss: 2.9821e-07 - accuracy: 0.1685\n",
            "Epoch 178/200\n",
            "258/258 [==============================] - 0s 2ms/step - loss: 2.9821e-07 - accuracy: 0.1685\n",
            "Epoch 179/200\n",
            "258/258 [==============================] - 0s 2ms/step - loss: 2.9821e-07 - accuracy: 0.1685\n",
            "Epoch 180/200\n",
            "258/258 [==============================] - 0s 2ms/step - loss: 2.9821e-07 - accuracy: 0.1685\n",
            "Epoch 181/200\n",
            "258/258 [==============================] - 0s 2ms/step - loss: 2.9821e-07 - accuracy: 0.1685\n",
            "Epoch 182/200\n",
            "258/258 [==============================] - 0s 2ms/step - loss: 2.9821e-07 - accuracy: 0.1685\n",
            "Epoch 183/200\n",
            "258/258 [==============================] - 0s 2ms/step - loss: 2.9821e-07 - accuracy: 0.1685\n",
            "Epoch 184/200\n",
            "258/258 [==============================] - 0s 2ms/step - loss: 2.9821e-07 - accuracy: 0.1685\n",
            "Epoch 185/200\n",
            "258/258 [==============================] - 0s 2ms/step - loss: 2.9821e-07 - accuracy: 0.1685\n",
            "Epoch 186/200\n",
            "258/258 [==============================] - 0s 2ms/step - loss: 2.9821e-07 - accuracy: 0.1685\n",
            "Epoch 187/200\n",
            "258/258 [==============================] - 0s 2ms/step - loss: 2.9821e-07 - accuracy: 0.1685\n",
            "Epoch 188/200\n",
            "258/258 [==============================] - 0s 2ms/step - loss: 2.9821e-07 - accuracy: 0.1685\n",
            "Epoch 189/200\n",
            "258/258 [==============================] - 0s 2ms/step - loss: 2.9821e-07 - accuracy: 0.1685\n",
            "Epoch 190/200\n",
            "258/258 [==============================] - 1s 2ms/step - loss: 2.9821e-07 - accuracy: 0.1685\n",
            "Epoch 191/200\n",
            "258/258 [==============================] - 1s 2ms/step - loss: 2.9821e-07 - accuracy: 0.1685\n",
            "Epoch 192/200\n",
            "258/258 [==============================] - 1s 2ms/step - loss: 2.9821e-07 - accuracy: 0.1685\n",
            "Epoch 193/200\n",
            "258/258 [==============================] - 1s 2ms/step - loss: 2.9821e-07 - accuracy: 0.1685\n",
            "Epoch 194/200\n",
            "258/258 [==============================] - 1s 2ms/step - loss: 2.9821e-07 - accuracy: 0.1685\n",
            "Epoch 195/200\n",
            "258/258 [==============================] - 0s 2ms/step - loss: 2.9821e-07 - accuracy: 0.1685\n",
            "Epoch 196/200\n",
            "258/258 [==============================] - 0s 2ms/step - loss: 2.9821e-07 - accuracy: 0.1685\n",
            "Epoch 197/200\n",
            "258/258 [==============================] - 0s 2ms/step - loss: 2.9821e-07 - accuracy: 0.1685\n",
            "Epoch 198/200\n",
            "258/258 [==============================] - 1s 5ms/step - loss: 2.9821e-07 - accuracy: 0.1685\n",
            "Epoch 199/200\n",
            "258/258 [==============================] - 0s 2ms/step - loss: 2.9821e-07 - accuracy: 0.1685\n",
            "Epoch 200/200\n",
            "258/258 [==============================] - 0s 2ms/step - loss: 2.9821e-07 - accuracy: 0.1685\n",
            "129/129 [==============================] - 0s 1ms/step - loss: 2.9913e-07 - accuracy: 0.1677\n",
            "258/258 [==============================] - 0s 1ms/step - loss: 2.9821e-07 - accuracy: 0.1685\n",
            "Epoch 1/200\n",
            "258/258 [==============================] - 1s 2ms/step - loss: 2.9858e-07 - accuracy: 0.1685\n",
            "Epoch 2/200\n",
            "258/258 [==============================] - 0s 2ms/step - loss: 2.9858e-07 - accuracy: 0.1685\n",
            "Epoch 3/200\n",
            "258/258 [==============================] - 0s 2ms/step - loss: 2.9858e-07 - accuracy: 0.1685\n",
            "Epoch 4/200\n",
            "258/258 [==============================] - 0s 2ms/step - loss: 2.9858e-07 - accuracy: 0.1685\n",
            "Epoch 5/200\n",
            "258/258 [==============================] - 0s 2ms/step - loss: 2.9858e-07 - accuracy: 0.1685\n",
            "Epoch 6/200\n",
            "258/258 [==============================] - 0s 2ms/step - loss: 2.9858e-07 - accuracy: 0.1685\n",
            "Epoch 7/200\n",
            "258/258 [==============================] - 0s 2ms/step - loss: 2.9858e-07 - accuracy: 0.1685\n",
            "Epoch 8/200\n",
            "258/258 [==============================] - 0s 2ms/step - loss: 2.9858e-07 - accuracy: 0.1685\n",
            "Epoch 9/200\n",
            "258/258 [==============================] - 0s 2ms/step - loss: 2.9858e-07 - accuracy: 0.1685\n",
            "Epoch 10/200\n",
            "258/258 [==============================] - 0s 2ms/step - loss: 2.9858e-07 - accuracy: 0.1685\n",
            "Epoch 11/200\n",
            "258/258 [==============================] - 0s 2ms/step - loss: 2.9858e-07 - accuracy: 0.1685\n",
            "Epoch 12/200\n",
            "258/258 [==============================] - 0s 2ms/step - loss: 2.9858e-07 - accuracy: 0.1685\n",
            "Epoch 13/200\n",
            "258/258 [==============================] - 0s 2ms/step - loss: 2.9858e-07 - accuracy: 0.1685\n",
            "Epoch 14/200\n",
            "258/258 [==============================] - 0s 2ms/step - loss: 2.9858e-07 - accuracy: 0.1685\n",
            "Epoch 15/200\n",
            "258/258 [==============================] - 0s 2ms/step - loss: 2.9858e-07 - accuracy: 0.1685\n",
            "Epoch 16/200\n",
            "258/258 [==============================] - 0s 2ms/step - loss: 2.9858e-07 - accuracy: 0.1685\n",
            "Epoch 17/200\n",
            "258/258 [==============================] - 0s 2ms/step - loss: 2.9858e-07 - accuracy: 0.1685\n",
            "Epoch 18/200\n",
            "258/258 [==============================] - 0s 2ms/step - loss: 2.9858e-07 - accuracy: 0.1685\n",
            "Epoch 19/200\n",
            "258/258 [==============================] - 0s 2ms/step - loss: 2.9858e-07 - accuracy: 0.1685\n",
            "Epoch 20/200\n",
            "258/258 [==============================] - 0s 2ms/step - loss: 2.9858e-07 - accuracy: 0.1685\n",
            "Epoch 21/200\n",
            "258/258 [==============================] - 0s 2ms/step - loss: 2.9858e-07 - accuracy: 0.1685\n",
            "Epoch 22/200\n",
            "258/258 [==============================] - 0s 2ms/step - loss: 2.9858e-07 - accuracy: 0.1685\n",
            "Epoch 23/200\n",
            "258/258 [==============================] - 0s 2ms/step - loss: 2.9858e-07 - accuracy: 0.1685\n",
            "Epoch 24/200\n",
            "258/258 [==============================] - 0s 2ms/step - loss: 2.9858e-07 - accuracy: 0.1685\n",
            "Epoch 25/200\n",
            "258/258 [==============================] - 0s 2ms/step - loss: 2.9858e-07 - accuracy: 0.1685\n",
            "Epoch 26/200\n",
            "258/258 [==============================] - 0s 2ms/step - loss: 2.9858e-07 - accuracy: 0.1685\n",
            "Epoch 27/200\n",
            "258/258 [==============================] - 0s 2ms/step - loss: 2.9858e-07 - accuracy: 0.1685\n",
            "Epoch 28/200\n",
            "258/258 [==============================] - 0s 2ms/step - loss: 2.9858e-07 - accuracy: 0.1685\n",
            "Epoch 29/200\n",
            "258/258 [==============================] - 0s 2ms/step - loss: 2.9858e-07 - accuracy: 0.1685\n",
            "Epoch 30/200\n",
            "258/258 [==============================] - 0s 2ms/step - loss: 2.9858e-07 - accuracy: 0.1685\n",
            "Epoch 31/200\n",
            "258/258 [==============================] - 0s 2ms/step - loss: 2.9858e-07 - accuracy: 0.1685\n",
            "Epoch 32/200\n",
            "258/258 [==============================] - 0s 2ms/step - loss: 2.9858e-07 - accuracy: 0.1685\n",
            "Epoch 33/200\n",
            "258/258 [==============================] - 0s 2ms/step - loss: 2.9858e-07 - accuracy: 0.1685\n",
            "Epoch 34/200\n",
            "258/258 [==============================] - 0s 2ms/step - loss: 2.9858e-07 - accuracy: 0.1685\n",
            "Epoch 35/200\n",
            "258/258 [==============================] - 0s 2ms/step - loss: 2.9858e-07 - accuracy: 0.1685\n",
            "Epoch 36/200\n",
            "258/258 [==============================] - 0s 2ms/step - loss: 2.9858e-07 - accuracy: 0.1685\n",
            "Epoch 37/200\n",
            "258/258 [==============================] - 0s 2ms/step - loss: 2.9858e-07 - accuracy: 0.1685\n",
            "Epoch 38/200\n",
            "258/258 [==============================] - 0s 2ms/step - loss: 2.9858e-07 - accuracy: 0.1685\n",
            "Epoch 39/200\n",
            "258/258 [==============================] - 0s 2ms/step - loss: 2.9858e-07 - accuracy: 0.1685\n",
            "Epoch 40/200\n",
            "258/258 [==============================] - 0s 2ms/step - loss: 2.9858e-07 - accuracy: 0.1685\n",
            "Epoch 41/200\n",
            "258/258 [==============================] - 0s 2ms/step - loss: 2.9858e-07 - accuracy: 0.1685\n",
            "Epoch 42/200\n",
            "258/258 [==============================] - 0s 2ms/step - loss: 2.9858e-07 - accuracy: 0.1685\n",
            "Epoch 43/200\n",
            "258/258 [==============================] - 0s 2ms/step - loss: 2.9858e-07 - accuracy: 0.1685\n",
            "Epoch 44/200\n",
            "258/258 [==============================] - 0s 2ms/step - loss: 2.9858e-07 - accuracy: 0.1685\n",
            "Epoch 45/200\n",
            "258/258 [==============================] - 0s 2ms/step - loss: 2.9858e-07 - accuracy: 0.1685\n",
            "Epoch 46/200\n",
            "258/258 [==============================] - 0s 2ms/step - loss: 2.9858e-07 - accuracy: 0.1685\n",
            "Epoch 47/200\n",
            "258/258 [==============================] - 0s 2ms/step - loss: 2.9858e-07 - accuracy: 0.1685\n",
            "Epoch 48/200\n",
            "258/258 [==============================] - 0s 2ms/step - loss: 2.9858e-07 - accuracy: 0.1685\n",
            "Epoch 49/200\n",
            "258/258 [==============================] - 0s 2ms/step - loss: 2.9858e-07 - accuracy: 0.1685\n",
            "Epoch 50/200\n",
            "258/258 [==============================] - 0s 2ms/step - loss: 2.9858e-07 - accuracy: 0.1685\n",
            "Epoch 51/200\n",
            "258/258 [==============================] - 0s 2ms/step - loss: 2.9858e-07 - accuracy: 0.1685\n",
            "Epoch 52/200\n",
            "258/258 [==============================] - 0s 2ms/step - loss: 2.9858e-07 - accuracy: 0.1685\n",
            "Epoch 53/200\n",
            "258/258 [==============================] - 0s 2ms/step - loss: 2.9858e-07 - accuracy: 0.1685\n",
            "Epoch 54/200\n",
            "258/258 [==============================] - 0s 2ms/step - loss: 2.9858e-07 - accuracy: 0.1685\n",
            "Epoch 55/200\n",
            "258/258 [==============================] - 0s 2ms/step - loss: 2.9858e-07 - accuracy: 0.1685\n",
            "Epoch 56/200\n",
            "258/258 [==============================] - 0s 2ms/step - loss: 2.9858e-07 - accuracy: 0.1685\n",
            "Epoch 57/200\n",
            "258/258 [==============================] - 0s 2ms/step - loss: 2.9858e-07 - accuracy: 0.1685\n",
            "Epoch 58/200\n",
            "258/258 [==============================] - 0s 2ms/step - loss: 2.9858e-07 - accuracy: 0.1685\n",
            "Epoch 59/200\n",
            "258/258 [==============================] - 0s 2ms/step - loss: 2.9858e-07 - accuracy: 0.1685\n",
            "Epoch 60/200\n",
            "258/258 [==============================] - 0s 2ms/step - loss: 2.9858e-07 - accuracy: 0.1685\n",
            "Epoch 61/200\n",
            "258/258 [==============================] - 0s 2ms/step - loss: 2.9858e-07 - accuracy: 0.1685\n",
            "Epoch 62/200\n",
            "258/258 [==============================] - 0s 2ms/step - loss: 2.9858e-07 - accuracy: 0.1685\n",
            "Epoch 63/200\n",
            "258/258 [==============================] - 0s 2ms/step - loss: 2.9858e-07 - accuracy: 0.1685\n",
            "Epoch 64/200\n",
            "258/258 [==============================] - 0s 2ms/step - loss: 2.9858e-07 - accuracy: 0.1685\n",
            "Epoch 65/200\n",
            "258/258 [==============================] - 0s 2ms/step - loss: 2.9858e-07 - accuracy: 0.1685\n",
            "Epoch 66/200\n",
            "258/258 [==============================] - 0s 2ms/step - loss: 2.9858e-07 - accuracy: 0.1685\n",
            "Epoch 67/200\n",
            "258/258 [==============================] - 0s 2ms/step - loss: 2.9858e-07 - accuracy: 0.1685\n",
            "Epoch 68/200\n",
            "258/258 [==============================] - 0s 2ms/step - loss: 2.9858e-07 - accuracy: 0.1685\n",
            "Epoch 69/200\n",
            "258/258 [==============================] - 0s 2ms/step - loss: 2.9858e-07 - accuracy: 0.1685\n",
            "Epoch 70/200\n",
            "258/258 [==============================] - 0s 2ms/step - loss: 2.9858e-07 - accuracy: 0.1685\n",
            "Epoch 71/200\n",
            "258/258 [==============================] - 1s 2ms/step - loss: 2.9858e-07 - accuracy: 0.1685\n",
            "Epoch 72/200\n",
            "258/258 [==============================] - 1s 5ms/step - loss: 2.9858e-07 - accuracy: 0.1685\n",
            "Epoch 73/200\n",
            "258/258 [==============================] - 1s 4ms/step - loss: 2.9858e-07 - accuracy: 0.1685\n",
            "Epoch 74/200\n",
            "258/258 [==============================] - 1s 3ms/step - loss: 2.9858e-07 - accuracy: 0.1685\n",
            "Epoch 75/200\n",
            "258/258 [==============================] - 0s 2ms/step - loss: 2.9858e-07 - accuracy: 0.1685\n",
            "Epoch 76/200\n",
            "258/258 [==============================] - 0s 2ms/step - loss: 2.9858e-07 - accuracy: 0.1685\n",
            "Epoch 77/200\n",
            "258/258 [==============================] - 0s 2ms/step - loss: 2.9858e-07 - accuracy: 0.1685\n",
            "Epoch 78/200\n",
            "258/258 [==============================] - 0s 2ms/step - loss: 2.9858e-07 - accuracy: 0.1685\n",
            "Epoch 79/200\n",
            "258/258 [==============================] - 0s 2ms/step - loss: 2.9858e-07 - accuracy: 0.1685\n",
            "Epoch 80/200\n",
            "258/258 [==============================] - 0s 2ms/step - loss: 2.9858e-07 - accuracy: 0.1685\n",
            "Epoch 81/200\n",
            "258/258 [==============================] - 0s 2ms/step - loss: 2.9858e-07 - accuracy: 0.1685\n",
            "Epoch 82/200\n",
            "258/258 [==============================] - 0s 2ms/step - loss: 2.9858e-07 - accuracy: 0.1685\n",
            "Epoch 83/200\n",
            "258/258 [==============================] - 0s 2ms/step - loss: 2.9858e-07 - accuracy: 0.1685\n",
            "Epoch 84/200\n",
            "258/258 [==============================] - 0s 2ms/step - loss: 2.9858e-07 - accuracy: 0.1685\n",
            "Epoch 85/200\n",
            "258/258 [==============================] - 0s 2ms/step - loss: 2.9858e-07 - accuracy: 0.1685\n",
            "Epoch 86/200\n",
            "258/258 [==============================] - 0s 2ms/step - loss: 2.9858e-07 - accuracy: 0.1685\n",
            "Epoch 87/200\n",
            "258/258 [==============================] - 0s 2ms/step - loss: 2.9858e-07 - accuracy: 0.1685\n",
            "Epoch 88/200\n",
            "258/258 [==============================] - 0s 2ms/step - loss: 2.9858e-07 - accuracy: 0.1685\n",
            "Epoch 89/200\n",
            "258/258 [==============================] - 0s 2ms/step - loss: 2.9858e-07 - accuracy: 0.1685\n",
            "Epoch 90/200\n",
            "258/258 [==============================] - 0s 2ms/step - loss: 2.9858e-07 - accuracy: 0.1685\n",
            "Epoch 91/200\n",
            "258/258 [==============================] - 0s 2ms/step - loss: 2.9858e-07 - accuracy: 0.1685\n",
            "Epoch 92/200\n",
            "258/258 [==============================] - 0s 2ms/step - loss: 2.9858e-07 - accuracy: 0.1685\n",
            "Epoch 93/200\n",
            "258/258 [==============================] - 0s 2ms/step - loss: 2.9858e-07 - accuracy: 0.1685\n",
            "Epoch 94/200\n",
            "258/258 [==============================] - 0s 2ms/step - loss: 2.9858e-07 - accuracy: 0.1685\n",
            "Epoch 95/200\n",
            "258/258 [==============================] - 0s 2ms/step - loss: 2.9858e-07 - accuracy: 0.1685\n",
            "Epoch 96/200\n",
            "258/258 [==============================] - 0s 2ms/step - loss: 2.9858e-07 - accuracy: 0.1685\n",
            "Epoch 97/200\n",
            "258/258 [==============================] - 0s 2ms/step - loss: 2.9858e-07 - accuracy: 0.1685\n",
            "Epoch 98/200\n",
            "258/258 [==============================] - 0s 2ms/step - loss: 2.9858e-07 - accuracy: 0.1685\n",
            "Epoch 99/200\n",
            "258/258 [==============================] - 0s 2ms/step - loss: 2.9858e-07 - accuracy: 0.1685\n",
            "Epoch 100/200\n",
            "258/258 [==============================] - 0s 2ms/step - loss: 2.9858e-07 - accuracy: 0.1685\n",
            "Epoch 101/200\n",
            "258/258 [==============================] - 0s 2ms/step - loss: 2.9858e-07 - accuracy: 0.1685\n",
            "Epoch 102/200\n",
            "258/258 [==============================] - 0s 2ms/step - loss: 2.9858e-07 - accuracy: 0.1685\n",
            "Epoch 103/200\n",
            "258/258 [==============================] - 0s 2ms/step - loss: 2.9858e-07 - accuracy: 0.1685\n",
            "Epoch 104/200\n",
            "258/258 [==============================] - 0s 2ms/step - loss: 2.9858e-07 - accuracy: 0.1685\n",
            "Epoch 105/200\n",
            "258/258 [==============================] - 0s 2ms/step - loss: 2.9858e-07 - accuracy: 0.1685\n",
            "Epoch 106/200\n",
            "258/258 [==============================] - 0s 2ms/step - loss: 2.9858e-07 - accuracy: 0.1685\n",
            "Epoch 107/200\n",
            "258/258 [==============================] - 0s 2ms/step - loss: 2.9858e-07 - accuracy: 0.1685\n",
            "Epoch 108/200\n",
            "258/258 [==============================] - 0s 2ms/step - loss: 2.9858e-07 - accuracy: 0.1685\n",
            "Epoch 109/200\n",
            "258/258 [==============================] - 0s 2ms/step - loss: 2.9858e-07 - accuracy: 0.1685\n",
            "Epoch 110/200\n",
            "258/258 [==============================] - 0s 2ms/step - loss: 2.9858e-07 - accuracy: 0.1685\n",
            "Epoch 111/200\n",
            "258/258 [==============================] - 0s 2ms/step - loss: 2.9858e-07 - accuracy: 0.1685\n",
            "Epoch 112/200\n",
            "258/258 [==============================] - 0s 2ms/step - loss: 2.9858e-07 - accuracy: 0.1685\n",
            "Epoch 113/200\n",
            "258/258 [==============================] - 0s 2ms/step - loss: 2.9858e-07 - accuracy: 0.1685\n",
            "Epoch 114/200\n",
            "258/258 [==============================] - 0s 2ms/step - loss: 2.9858e-07 - accuracy: 0.1685\n",
            "Epoch 115/200\n",
            "258/258 [==============================] - 0s 2ms/step - loss: 2.9858e-07 - accuracy: 0.1685\n",
            "Epoch 116/200\n",
            "258/258 [==============================] - 0s 2ms/step - loss: 2.9858e-07 - accuracy: 0.1685\n",
            "Epoch 117/200\n",
            "258/258 [==============================] - 0s 2ms/step - loss: 2.9858e-07 - accuracy: 0.1685\n",
            "Epoch 118/200\n",
            "258/258 [==============================] - 0s 2ms/step - loss: 2.9858e-07 - accuracy: 0.1685\n",
            "Epoch 119/200\n",
            "258/258 [==============================] - 0s 2ms/step - loss: 2.9858e-07 - accuracy: 0.1685\n",
            "Epoch 120/200\n",
            "258/258 [==============================] - 0s 2ms/step - loss: 2.9858e-07 - accuracy: 0.1685\n",
            "Epoch 121/200\n",
            "258/258 [==============================] - 0s 2ms/step - loss: 2.9858e-07 - accuracy: 0.1685\n",
            "Epoch 122/200\n",
            "258/258 [==============================] - 0s 2ms/step - loss: 2.9858e-07 - accuracy: 0.1685\n",
            "Epoch 123/200\n",
            "258/258 [==============================] - 0s 2ms/step - loss: 2.9858e-07 - accuracy: 0.1685\n",
            "Epoch 124/200\n",
            "258/258 [==============================] - 0s 2ms/step - loss: 2.9858e-07 - accuracy: 0.1685\n",
            "Epoch 125/200\n",
            "258/258 [==============================] - 0s 2ms/step - loss: 2.9858e-07 - accuracy: 0.1685\n",
            "Epoch 126/200\n",
            "258/258 [==============================] - 0s 2ms/step - loss: 2.9858e-07 - accuracy: 0.1685\n",
            "Epoch 127/200\n",
            "258/258 [==============================] - 0s 2ms/step - loss: 2.9858e-07 - accuracy: 0.1685\n",
            "Epoch 128/200\n",
            "258/258 [==============================] - 0s 2ms/step - loss: 2.9858e-07 - accuracy: 0.1685\n",
            "Epoch 129/200\n",
            "258/258 [==============================] - 0s 2ms/step - loss: 2.9858e-07 - accuracy: 0.1685\n",
            "Epoch 130/200\n",
            "258/258 [==============================] - 0s 2ms/step - loss: 2.9858e-07 - accuracy: 0.1685\n",
            "Epoch 131/200\n",
            "258/258 [==============================] - 0s 2ms/step - loss: 2.9858e-07 - accuracy: 0.1685\n",
            "Epoch 132/200\n",
            "258/258 [==============================] - 0s 2ms/step - loss: 2.9858e-07 - accuracy: 0.1685\n",
            "Epoch 133/200\n",
            "258/258 [==============================] - 0s 2ms/step - loss: 2.9858e-07 - accuracy: 0.1685\n",
            "Epoch 134/200\n",
            "258/258 [==============================] - 0s 2ms/step - loss: 2.9858e-07 - accuracy: 0.1685\n",
            "Epoch 135/200\n",
            "258/258 [==============================] - 0s 2ms/step - loss: 2.9858e-07 - accuracy: 0.1685\n",
            "Epoch 136/200\n",
            "258/258 [==============================] - 0s 2ms/step - loss: 2.9858e-07 - accuracy: 0.1685\n",
            "Epoch 137/200\n",
            "258/258 [==============================] - 0s 2ms/step - loss: 2.9858e-07 - accuracy: 0.1685\n",
            "Epoch 138/200\n",
            "258/258 [==============================] - 0s 2ms/step - loss: 2.9858e-07 - accuracy: 0.1685\n",
            "Epoch 139/200\n",
            "258/258 [==============================] - 0s 2ms/step - loss: 2.9858e-07 - accuracy: 0.1685\n",
            "Epoch 140/200\n",
            "258/258 [==============================] - 0s 2ms/step - loss: 2.9858e-07 - accuracy: 0.1685\n",
            "Epoch 141/200\n",
            "258/258 [==============================] - 0s 2ms/step - loss: 2.9858e-07 - accuracy: 0.1685\n",
            "Epoch 142/200\n",
            "258/258 [==============================] - 0s 2ms/step - loss: 2.9858e-07 - accuracy: 0.1685\n",
            "Epoch 143/200\n",
            "258/258 [==============================] - 0s 2ms/step - loss: 2.9858e-07 - accuracy: 0.1685\n",
            "Epoch 144/200\n",
            "258/258 [==============================] - 0s 2ms/step - loss: 2.9858e-07 - accuracy: 0.1685\n",
            "Epoch 145/200\n",
            "258/258 [==============================] - 0s 2ms/step - loss: 2.9858e-07 - accuracy: 0.1685\n",
            "Epoch 146/200\n",
            "258/258 [==============================] - 0s 2ms/step - loss: 2.9858e-07 - accuracy: 0.1685\n",
            "Epoch 147/200\n",
            "258/258 [==============================] - 0s 2ms/step - loss: 2.9858e-07 - accuracy: 0.1685\n",
            "Epoch 148/200\n",
            "258/258 [==============================] - 0s 2ms/step - loss: 2.9858e-07 - accuracy: 0.1685\n",
            "Epoch 149/200\n",
            "258/258 [==============================] - 0s 2ms/step - loss: 2.9858e-07 - accuracy: 0.1685\n",
            "Epoch 150/200\n",
            "258/258 [==============================] - 0s 2ms/step - loss: 2.9858e-07 - accuracy: 0.1685\n",
            "Epoch 151/200\n",
            "258/258 [==============================] - 0s 2ms/step - loss: 2.9858e-07 - accuracy: 0.1685\n",
            "Epoch 152/200\n",
            "258/258 [==============================] - 0s 2ms/step - loss: 2.9858e-07 - accuracy: 0.1685\n",
            "Epoch 153/200\n",
            "258/258 [==============================] - 0s 2ms/step - loss: 2.9858e-07 - accuracy: 0.1685\n",
            "Epoch 154/200\n",
            "258/258 [==============================] - 0s 2ms/step - loss: 2.9858e-07 - accuracy: 0.1685\n",
            "Epoch 155/200\n",
            "258/258 [==============================] - 0s 2ms/step - loss: 2.9858e-07 - accuracy: 0.1685\n",
            "Epoch 156/200\n",
            "258/258 [==============================] - 0s 2ms/step - loss: 2.9858e-07 - accuracy: 0.1685\n",
            "Epoch 157/200\n",
            "258/258 [==============================] - 0s 2ms/step - loss: 2.9858e-07 - accuracy: 0.1685\n",
            "Epoch 158/200\n",
            "258/258 [==============================] - 0s 2ms/step - loss: 2.9858e-07 - accuracy: 0.1685\n",
            "Epoch 159/200\n",
            "258/258 [==============================] - 0s 2ms/step - loss: 2.9858e-07 - accuracy: 0.1685\n",
            "Epoch 160/200\n",
            "258/258 [==============================] - 0s 2ms/step - loss: 2.9858e-07 - accuracy: 0.1685\n",
            "Epoch 161/200\n",
            "258/258 [==============================] - 0s 2ms/step - loss: 2.9858e-07 - accuracy: 0.1685\n",
            "Epoch 162/200\n",
            "258/258 [==============================] - 0s 2ms/step - loss: 2.9858e-07 - accuracy: 0.1685\n",
            "Epoch 163/200\n",
            "258/258 [==============================] - 0s 2ms/step - loss: 2.9858e-07 - accuracy: 0.1685\n",
            "Epoch 164/200\n",
            "258/258 [==============================] - 0s 2ms/step - loss: 2.9858e-07 - accuracy: 0.1685\n",
            "Epoch 165/200\n",
            "258/258 [==============================] - 0s 2ms/step - loss: 2.9858e-07 - accuracy: 0.1685\n",
            "Epoch 166/200\n",
            "258/258 [==============================] - 0s 2ms/step - loss: 2.9858e-07 - accuracy: 0.1685\n",
            "Epoch 167/200\n",
            "258/258 [==============================] - 0s 2ms/step - loss: 2.9858e-07 - accuracy: 0.1685\n",
            "Epoch 168/200\n",
            "258/258 [==============================] - 0s 2ms/step - loss: 2.9858e-07 - accuracy: 0.1685\n",
            "Epoch 169/200\n",
            "258/258 [==============================] - 0s 2ms/step - loss: 2.9858e-07 - accuracy: 0.1685\n",
            "Epoch 170/200\n",
            "258/258 [==============================] - 0s 2ms/step - loss: 2.9858e-07 - accuracy: 0.1685\n",
            "Epoch 171/200\n",
            "258/258 [==============================] - 0s 2ms/step - loss: 2.9858e-07 - accuracy: 0.1685\n",
            "Epoch 172/200\n",
            "258/258 [==============================] - 0s 2ms/step - loss: 2.9858e-07 - accuracy: 0.1685\n",
            "Epoch 173/200\n",
            "258/258 [==============================] - 0s 2ms/step - loss: 2.9858e-07 - accuracy: 0.1685\n",
            "Epoch 174/200\n",
            "258/258 [==============================] - 0s 2ms/step - loss: 2.9858e-07 - accuracy: 0.1685\n",
            "Epoch 175/200\n",
            "258/258 [==============================] - 0s 2ms/step - loss: 2.9858e-07 - accuracy: 0.1685\n",
            "Epoch 176/200\n",
            "258/258 [==============================] - 0s 2ms/step - loss: 2.9858e-07 - accuracy: 0.1685\n",
            "Epoch 177/200\n",
            "258/258 [==============================] - 0s 2ms/step - loss: 2.9858e-07 - accuracy: 0.1685\n",
            "Epoch 178/200\n",
            "258/258 [==============================] - 0s 2ms/step - loss: 2.9858e-07 - accuracy: 0.1685\n",
            "Epoch 179/200\n",
            "258/258 [==============================] - 0s 2ms/step - loss: 2.9858e-07 - accuracy: 0.1685\n",
            "Epoch 180/200\n",
            "258/258 [==============================] - 0s 2ms/step - loss: 2.9858e-07 - accuracy: 0.1685\n",
            "Epoch 181/200\n",
            "258/258 [==============================] - 0s 2ms/step - loss: 2.9858e-07 - accuracy: 0.1685\n",
            "Epoch 182/200\n",
            "258/258 [==============================] - 0s 2ms/step - loss: 2.9858e-07 - accuracy: 0.1685\n",
            "Epoch 183/200\n",
            "258/258 [==============================] - 0s 2ms/step - loss: 2.9858e-07 - accuracy: 0.1685\n",
            "Epoch 184/200\n",
            "258/258 [==============================] - 0s 2ms/step - loss: 2.9858e-07 - accuracy: 0.1685\n",
            "Epoch 185/200\n",
            "258/258 [==============================] - 0s 2ms/step - loss: 2.9858e-07 - accuracy: 0.1685\n",
            "Epoch 186/200\n",
            "258/258 [==============================] - 0s 2ms/step - loss: 2.9858e-07 - accuracy: 0.1685\n",
            "Epoch 187/200\n",
            "258/258 [==============================] - 0s 2ms/step - loss: 2.9858e-07 - accuracy: 0.1685\n",
            "Epoch 188/200\n",
            "258/258 [==============================] - 0s 2ms/step - loss: 2.9858e-07 - accuracy: 0.1685\n",
            "Epoch 189/200\n",
            "258/258 [==============================] - 0s 2ms/step - loss: 2.9858e-07 - accuracy: 0.1685\n",
            "Epoch 190/200\n",
            "258/258 [==============================] - 0s 2ms/step - loss: 2.9858e-07 - accuracy: 0.1685\n",
            "Epoch 191/200\n",
            "258/258 [==============================] - 0s 2ms/step - loss: 2.9858e-07 - accuracy: 0.1685\n",
            "Epoch 192/200\n",
            "258/258 [==============================] - 0s 2ms/step - loss: 2.9858e-07 - accuracy: 0.1685\n",
            "Epoch 193/200\n",
            "258/258 [==============================] - 0s 2ms/step - loss: 2.9858e-07 - accuracy: 0.1685\n",
            "Epoch 194/200\n",
            "258/258 [==============================] - 0s 2ms/step - loss: 2.9858e-07 - accuracy: 0.1685\n",
            "Epoch 195/200\n",
            "258/258 [==============================] - 0s 2ms/step - loss: 2.9858e-07 - accuracy: 0.1685\n",
            "Epoch 196/200\n",
            "258/258 [==============================] - 0s 2ms/step - loss: 2.9858e-07 - accuracy: 0.1685\n",
            "Epoch 197/200\n",
            "258/258 [==============================] - 0s 2ms/step - loss: 2.9858e-07 - accuracy: 0.1685\n",
            "Epoch 198/200\n",
            "258/258 [==============================] - 0s 2ms/step - loss: 2.9858e-07 - accuracy: 0.1685\n",
            "Epoch 199/200\n",
            "258/258 [==============================] - 0s 2ms/step - loss: 2.9858e-07 - accuracy: 0.1685\n",
            "Epoch 200/200\n",
            "258/258 [==============================] - 0s 2ms/step - loss: 2.9858e-07 - accuracy: 0.1685\n",
            "129/129 [==============================] - 0s 2ms/step - loss: 2.9839e-07 - accuracy: 0.1677\n",
            "258/258 [==============================] - 0s 1ms/step - loss: 2.9858e-07 - accuracy: 0.1685\n",
            "Epoch 1/200\n",
            "258/258 [==============================] - 1s 2ms/step - loss: 2.9876e-07 - accuracy: 0.1677\n",
            "Epoch 2/200\n",
            "258/258 [==============================] - 0s 2ms/step - loss: 2.9876e-07 - accuracy: 0.1677\n",
            "Epoch 3/200\n",
            "258/258 [==============================] - 0s 2ms/step - loss: 2.9876e-07 - accuracy: 0.1677\n",
            "Epoch 4/200\n",
            "258/258 [==============================] - 0s 2ms/step - loss: 2.9876e-07 - accuracy: 0.1677\n",
            "Epoch 5/200\n",
            "258/258 [==============================] - 0s 2ms/step - loss: 2.9876e-07 - accuracy: 0.1677\n",
            "Epoch 6/200\n",
            "258/258 [==============================] - 0s 2ms/step - loss: 2.9876e-07 - accuracy: 0.1677\n",
            "Epoch 7/200\n",
            "258/258 [==============================] - 0s 2ms/step - loss: 2.9876e-07 - accuracy: 0.1677\n",
            "Epoch 8/200\n",
            "258/258 [==============================] - 0s 2ms/step - loss: 2.9876e-07 - accuracy: 0.1677\n",
            "Epoch 9/200\n",
            "258/258 [==============================] - 0s 2ms/step - loss: 2.9876e-07 - accuracy: 0.1677\n",
            "Epoch 10/200\n",
            "258/258 [==============================] - 0s 2ms/step - loss: 2.9876e-07 - accuracy: 0.1677\n",
            "Epoch 11/200\n",
            "258/258 [==============================] - 1s 2ms/step - loss: 2.9876e-07 - accuracy: 0.1677\n",
            "Epoch 12/200\n",
            "258/258 [==============================] - 0s 2ms/step - loss: 2.9876e-07 - accuracy: 0.1677\n",
            "Epoch 13/200\n",
            "258/258 [==============================] - 1s 2ms/step - loss: 2.9876e-07 - accuracy: 0.1677\n",
            "Epoch 14/200\n",
            "258/258 [==============================] - 0s 2ms/step - loss: 2.9876e-07 - accuracy: 0.1677\n",
            "Epoch 15/200\n",
            "258/258 [==============================] - 0s 2ms/step - loss: 2.9876e-07 - accuracy: 0.1677\n",
            "Epoch 16/200\n",
            "258/258 [==============================] - 0s 2ms/step - loss: 2.9876e-07 - accuracy: 0.1677\n",
            "Epoch 17/200\n",
            "258/258 [==============================] - 0s 2ms/step - loss: 2.9876e-07 - accuracy: 0.1677\n",
            "Epoch 18/200\n",
            "258/258 [==============================] - 0s 2ms/step - loss: 2.9876e-07 - accuracy: 0.1677\n",
            "Epoch 19/200\n",
            "258/258 [==============================] - 0s 2ms/step - loss: 2.9876e-07 - accuracy: 0.1677\n",
            "Epoch 20/200\n",
            "258/258 [==============================] - 0s 2ms/step - loss: 2.9876e-07 - accuracy: 0.1677\n",
            "Epoch 21/200\n",
            "258/258 [==============================] - 0s 2ms/step - loss: 2.9876e-07 - accuracy: 0.1677\n",
            "Epoch 22/200\n",
            "258/258 [==============================] - 0s 2ms/step - loss: 2.9876e-07 - accuracy: 0.1677\n",
            "Epoch 23/200\n",
            "258/258 [==============================] - 0s 2ms/step - loss: 2.9876e-07 - accuracy: 0.1677\n",
            "Epoch 24/200\n",
            "258/258 [==============================] - 0s 2ms/step - loss: 2.9876e-07 - accuracy: 0.1677\n",
            "Epoch 25/200\n",
            "258/258 [==============================] - 0s 2ms/step - loss: 2.9876e-07 - accuracy: 0.1677\n",
            "Epoch 26/200\n",
            "258/258 [==============================] - 0s 2ms/step - loss: 2.9876e-07 - accuracy: 0.1677\n",
            "Epoch 27/200\n",
            "258/258 [==============================] - 0s 2ms/step - loss: 2.9876e-07 - accuracy: 0.1677\n",
            "Epoch 28/200\n",
            "258/258 [==============================] - 0s 2ms/step - loss: 2.9876e-07 - accuracy: 0.1677\n",
            "Epoch 29/200\n",
            "258/258 [==============================] - 0s 2ms/step - loss: 2.9876e-07 - accuracy: 0.1677\n",
            "Epoch 30/200\n",
            "258/258 [==============================] - 0s 2ms/step - loss: 2.9876e-07 - accuracy: 0.1677\n",
            "Epoch 31/200\n",
            "258/258 [==============================] - 0s 2ms/step - loss: 2.9876e-07 - accuracy: 0.1677\n",
            "Epoch 32/200\n",
            "258/258 [==============================] - 0s 2ms/step - loss: 2.9876e-07 - accuracy: 0.1677\n",
            "Epoch 33/200\n",
            "258/258 [==============================] - 0s 2ms/step - loss: 2.9876e-07 - accuracy: 0.1677\n",
            "Epoch 34/200\n",
            "258/258 [==============================] - 0s 2ms/step - loss: 2.9876e-07 - accuracy: 0.1677\n",
            "Epoch 35/200\n",
            "258/258 [==============================] - 0s 2ms/step - loss: 2.9876e-07 - accuracy: 0.1677\n",
            "Epoch 36/200\n",
            "258/258 [==============================] - 0s 2ms/step - loss: 2.9876e-07 - accuracy: 0.1677\n",
            "Epoch 37/200\n",
            "258/258 [==============================] - 0s 2ms/step - loss: 2.9876e-07 - accuracy: 0.1677\n",
            "Epoch 38/200\n",
            "258/258 [==============================] - 0s 2ms/step - loss: 2.9876e-07 - accuracy: 0.1677\n",
            "Epoch 39/200\n",
            "258/258 [==============================] - 0s 2ms/step - loss: 2.9876e-07 - accuracy: 0.1677\n",
            "Epoch 40/200\n",
            "258/258 [==============================] - 0s 2ms/step - loss: 2.9876e-07 - accuracy: 0.1677\n",
            "Epoch 41/200\n",
            "258/258 [==============================] - 0s 2ms/step - loss: 2.9876e-07 - accuracy: 0.1677\n",
            "Epoch 42/200\n",
            "258/258 [==============================] - 0s 2ms/step - loss: 2.9876e-07 - accuracy: 0.1677\n",
            "Epoch 43/200\n",
            "258/258 [==============================] - 0s 2ms/step - loss: 2.9876e-07 - accuracy: 0.1677\n",
            "Epoch 44/200\n",
            "258/258 [==============================] - 0s 2ms/step - loss: 2.9876e-07 - accuracy: 0.1677\n",
            "Epoch 45/200\n",
            "258/258 [==============================] - 0s 2ms/step - loss: 2.9876e-07 - accuracy: 0.1677\n",
            "Epoch 46/200\n",
            "258/258 [==============================] - 0s 2ms/step - loss: 2.9876e-07 - accuracy: 0.1677\n",
            "Epoch 47/200\n",
            "258/258 [==============================] - 1s 2ms/step - loss: 2.9876e-07 - accuracy: 0.1677\n",
            "Epoch 48/200\n",
            "258/258 [==============================] - 0s 2ms/step - loss: 2.9876e-07 - accuracy: 0.1677\n",
            "Epoch 49/200\n",
            "258/258 [==============================] - 0s 2ms/step - loss: 2.9876e-07 - accuracy: 0.1677\n",
            "Epoch 50/200\n",
            "258/258 [==============================] - 0s 2ms/step - loss: 2.9876e-07 - accuracy: 0.1677\n",
            "Epoch 51/200\n",
            "258/258 [==============================] - 0s 2ms/step - loss: 2.9876e-07 - accuracy: 0.1677\n",
            "Epoch 52/200\n",
            "258/258 [==============================] - 0s 2ms/step - loss: 2.9876e-07 - accuracy: 0.1677\n",
            "Epoch 53/200\n",
            "258/258 [==============================] - 0s 2ms/step - loss: 2.9876e-07 - accuracy: 0.1677\n",
            "Epoch 54/200\n",
            "258/258 [==============================] - 0s 2ms/step - loss: 2.9876e-07 - accuracy: 0.1677\n",
            "Epoch 55/200\n",
            "258/258 [==============================] - 0s 2ms/step - loss: 2.9876e-07 - accuracy: 0.1677\n",
            "Epoch 56/200\n",
            "258/258 [==============================] - 0s 2ms/step - loss: 2.9876e-07 - accuracy: 0.1677\n",
            "Epoch 57/200\n",
            "258/258 [==============================] - 0s 2ms/step - loss: 2.9876e-07 - accuracy: 0.1677\n",
            "Epoch 58/200\n",
            "258/258 [==============================] - 0s 2ms/step - loss: 2.9876e-07 - accuracy: 0.1677\n",
            "Epoch 59/200\n",
            "258/258 [==============================] - 0s 2ms/step - loss: 2.9876e-07 - accuracy: 0.1677\n",
            "Epoch 60/200\n",
            "258/258 [==============================] - 0s 2ms/step - loss: 2.9876e-07 - accuracy: 0.1677\n",
            "Epoch 61/200\n",
            "258/258 [==============================] - 0s 2ms/step - loss: 2.9876e-07 - accuracy: 0.1677\n",
            "Epoch 62/200\n",
            "258/258 [==============================] - 0s 2ms/step - loss: 2.9876e-07 - accuracy: 0.1677\n",
            "Epoch 63/200\n",
            "258/258 [==============================] - 0s 2ms/step - loss: 2.9876e-07 - accuracy: 0.1677\n",
            "Epoch 64/200\n",
            "258/258 [==============================] - 0s 2ms/step - loss: 2.9876e-07 - accuracy: 0.1677\n",
            "Epoch 65/200\n",
            "258/258 [==============================] - 0s 2ms/step - loss: 2.9876e-07 - accuracy: 0.1677\n",
            "Epoch 66/200\n",
            "258/258 [==============================] - 0s 2ms/step - loss: 2.9876e-07 - accuracy: 0.1677\n",
            "Epoch 67/200\n",
            "258/258 [==============================] - 0s 2ms/step - loss: 2.9876e-07 - accuracy: 0.1677\n",
            "Epoch 68/200\n",
            "258/258 [==============================] - 1s 2ms/step - loss: 2.9876e-07 - accuracy: 0.1677\n",
            "Epoch 69/200\n",
            "258/258 [==============================] - 0s 2ms/step - loss: 2.9876e-07 - accuracy: 0.1677\n",
            "Epoch 70/200\n",
            "258/258 [==============================] - 0s 2ms/step - loss: 2.9876e-07 - accuracy: 0.1677\n",
            "Epoch 71/200\n",
            "258/258 [==============================] - 0s 2ms/step - loss: 2.9876e-07 - accuracy: 0.1677\n",
            "Epoch 72/200\n",
            "258/258 [==============================] - 0s 2ms/step - loss: 2.9876e-07 - accuracy: 0.1677\n",
            "Epoch 73/200\n",
            "258/258 [==============================] - 0s 2ms/step - loss: 2.9876e-07 - accuracy: 0.1677\n",
            "Epoch 74/200\n",
            "258/258 [==============================] - 1s 2ms/step - loss: 2.9876e-07 - accuracy: 0.1677\n",
            "Epoch 75/200\n",
            "258/258 [==============================] - 0s 2ms/step - loss: 2.9876e-07 - accuracy: 0.1677\n",
            "Epoch 76/200\n",
            "258/258 [==============================] - 0s 2ms/step - loss: 2.9876e-07 - accuracy: 0.1677\n",
            "Epoch 77/200\n",
            "258/258 [==============================] - 0s 2ms/step - loss: 2.9876e-07 - accuracy: 0.1677\n",
            "Epoch 78/200\n",
            "258/258 [==============================] - 0s 2ms/step - loss: 2.9876e-07 - accuracy: 0.1677\n",
            "Epoch 79/200\n",
            "258/258 [==============================] - 0s 2ms/step - loss: 2.9876e-07 - accuracy: 0.1677\n",
            "Epoch 80/200\n",
            "258/258 [==============================] - 0s 2ms/step - loss: 2.9876e-07 - accuracy: 0.1677\n",
            "Epoch 81/200\n",
            "258/258 [==============================] - 0s 2ms/step - loss: 2.9876e-07 - accuracy: 0.1677\n",
            "Epoch 82/200\n",
            "258/258 [==============================] - 0s 2ms/step - loss: 2.9876e-07 - accuracy: 0.1677\n",
            "Epoch 83/200\n",
            "258/258 [==============================] - 0s 2ms/step - loss: 2.9876e-07 - accuracy: 0.1677\n",
            "Epoch 84/200\n",
            "258/258 [==============================] - 0s 2ms/step - loss: 2.9876e-07 - accuracy: 0.1677\n",
            "Epoch 85/200\n",
            "258/258 [==============================] - 0s 2ms/step - loss: 2.9876e-07 - accuracy: 0.1677\n",
            "Epoch 86/200\n",
            "258/258 [==============================] - 0s 2ms/step - loss: 2.9876e-07 - accuracy: 0.1677\n",
            "Epoch 87/200\n",
            "258/258 [==============================] - 0s 2ms/step - loss: 2.9876e-07 - accuracy: 0.1677\n",
            "Epoch 88/200\n",
            "258/258 [==============================] - 0s 2ms/step - loss: 2.9876e-07 - accuracy: 0.1677\n",
            "Epoch 89/200\n",
            "258/258 [==============================] - 0s 2ms/step - loss: 2.9876e-07 - accuracy: 0.1677\n",
            "Epoch 90/200\n",
            "258/258 [==============================] - 1s 2ms/step - loss: 2.9876e-07 - accuracy: 0.1677\n",
            "Epoch 91/200\n",
            "258/258 [==============================] - 0s 2ms/step - loss: 2.9876e-07 - accuracy: 0.1677\n",
            "Epoch 92/200\n",
            "258/258 [==============================] - 0s 2ms/step - loss: 2.9876e-07 - accuracy: 0.1677\n",
            "Epoch 93/200\n",
            "258/258 [==============================] - 1s 2ms/step - loss: 2.9876e-07 - accuracy: 0.1677\n",
            "Epoch 94/200\n",
            "258/258 [==============================] - 1s 2ms/step - loss: 2.9876e-07 - accuracy: 0.1677\n",
            "Epoch 95/200\n",
            "258/258 [==============================] - 0s 2ms/step - loss: 2.9876e-07 - accuracy: 0.1677\n",
            "Epoch 96/200\n",
            "258/258 [==============================] - 0s 2ms/step - loss: 2.9876e-07 - accuracy: 0.1677\n",
            "Epoch 97/200\n",
            "258/258 [==============================] - 0s 2ms/step - loss: 2.9876e-07 - accuracy: 0.1677\n",
            "Epoch 98/200\n",
            "258/258 [==============================] - 0s 2ms/step - loss: 2.9876e-07 - accuracy: 0.1677\n",
            "Epoch 99/200\n",
            "258/258 [==============================] - 0s 2ms/step - loss: 2.9876e-07 - accuracy: 0.1677\n",
            "Epoch 100/200\n",
            "258/258 [==============================] - 0s 2ms/step - loss: 2.9876e-07 - accuracy: 0.1677\n",
            "Epoch 101/200\n",
            "258/258 [==============================] - 0s 2ms/step - loss: 2.9876e-07 - accuracy: 0.1677\n",
            "Epoch 102/200\n",
            "258/258 [==============================] - 0s 2ms/step - loss: 2.9876e-07 - accuracy: 0.1677\n",
            "Epoch 103/200\n",
            "258/258 [==============================] - 0s 2ms/step - loss: 2.9876e-07 - accuracy: 0.1677\n",
            "Epoch 104/200\n",
            "258/258 [==============================] - 0s 2ms/step - loss: 2.9876e-07 - accuracy: 0.1677\n",
            "Epoch 105/200\n",
            "258/258 [==============================] - 0s 2ms/step - loss: 2.9876e-07 - accuracy: 0.1677\n",
            "Epoch 106/200\n",
            "258/258 [==============================] - 0s 2ms/step - loss: 2.9876e-07 - accuracy: 0.1677\n",
            "Epoch 107/200\n",
            "258/258 [==============================] - 0s 2ms/step - loss: 2.9876e-07 - accuracy: 0.1677\n",
            "Epoch 108/200\n",
            "258/258 [==============================] - 0s 2ms/step - loss: 2.9876e-07 - accuracy: 0.1677\n",
            "Epoch 109/200\n",
            "258/258 [==============================] - 0s 2ms/step - loss: 2.9876e-07 - accuracy: 0.1677\n",
            "Epoch 110/200\n",
            "258/258 [==============================] - 0s 2ms/step - loss: 2.9876e-07 - accuracy: 0.1677\n",
            "Epoch 111/200\n",
            "258/258 [==============================] - 0s 2ms/step - loss: 2.9876e-07 - accuracy: 0.1677\n",
            "Epoch 112/200\n",
            "258/258 [==============================] - 0s 2ms/step - loss: 2.9876e-07 - accuracy: 0.1677\n",
            "Epoch 113/200\n",
            "258/258 [==============================] - 0s 2ms/step - loss: 2.9876e-07 - accuracy: 0.1677\n",
            "Epoch 114/200\n",
            "258/258 [==============================] - 0s 2ms/step - loss: 2.9876e-07 - accuracy: 0.1677\n",
            "Epoch 115/200\n",
            "258/258 [==============================] - 0s 2ms/step - loss: 2.9876e-07 - accuracy: 0.1677\n",
            "Epoch 116/200\n",
            "258/258 [==============================] - 0s 2ms/step - loss: 2.9876e-07 - accuracy: 0.1677\n",
            "Epoch 117/200\n",
            "258/258 [==============================] - 0s 2ms/step - loss: 2.9876e-07 - accuracy: 0.1677\n",
            "Epoch 118/200\n",
            "258/258 [==============================] - 0s 2ms/step - loss: 2.9876e-07 - accuracy: 0.1677\n",
            "Epoch 119/200\n",
            "258/258 [==============================] - 0s 2ms/step - loss: 2.9876e-07 - accuracy: 0.1677\n",
            "Epoch 120/200\n",
            "258/258 [==============================] - 0s 2ms/step - loss: 2.9876e-07 - accuracy: 0.1677\n",
            "Epoch 121/200\n",
            "258/258 [==============================] - 0s 2ms/step - loss: 2.9876e-07 - accuracy: 0.1677\n",
            "Epoch 122/200\n",
            "258/258 [==============================] - 0s 2ms/step - loss: 2.9876e-07 - accuracy: 0.1677\n",
            "Epoch 123/200\n",
            "258/258 [==============================] - 0s 2ms/step - loss: 2.9876e-07 - accuracy: 0.1677\n",
            "Epoch 124/200\n",
            "258/258 [==============================] - 0s 2ms/step - loss: 2.9876e-07 - accuracy: 0.1677\n",
            "Epoch 125/200\n",
            "258/258 [==============================] - 0s 2ms/step - loss: 2.9876e-07 - accuracy: 0.1677\n",
            "Epoch 126/200\n",
            "258/258 [==============================] - 0s 2ms/step - loss: 2.9876e-07 - accuracy: 0.1677\n",
            "Epoch 127/200\n",
            "258/258 [==============================] - 0s 2ms/step - loss: 2.9876e-07 - accuracy: 0.1677\n",
            "Epoch 128/200\n",
            "258/258 [==============================] - 0s 2ms/step - loss: 2.9876e-07 - accuracy: 0.1677\n",
            "Epoch 129/200\n",
            "258/258 [==============================] - 0s 2ms/step - loss: 2.9876e-07 - accuracy: 0.1677\n",
            "Epoch 130/200\n",
            "258/258 [==============================] - 0s 2ms/step - loss: 2.9876e-07 - accuracy: 0.1677\n",
            "Epoch 131/200\n",
            "258/258 [==============================] - 0s 2ms/step - loss: 2.9876e-07 - accuracy: 0.1677\n",
            "Epoch 132/200\n",
            "258/258 [==============================] - 0s 2ms/step - loss: 2.9876e-07 - accuracy: 0.1677\n",
            "Epoch 133/200\n",
            "107/258 [===========>..................] - ETA: 0s - loss: 2.9925e-07 - accuracy: 0.1607"
          ]
        }
      ]
    },
    {
      "cell_type": "code",
      "source": [
        "gsnn.score(Xsm_val,ysm_val[:,None])"
      ],
      "metadata": {
        "id": "wvd14eXmBLgI",
        "outputId": "5baa4f33-186b-4b40-c86a-69832ed03139",
        "colab": {
          "base_uri": "https://localhost:8080/"
        }
      },
      "execution_count": 110,
      "outputs": [
        {
          "output_type": "stream",
          "name": "stderr",
          "text": [
            "/usr/local/lib/python3.7/dist-packages/ipykernel_launcher.py:1: FutureWarning: Support for multi-dimensional indexing (e.g. `obj[:, None]`) is deprecated and will be removed in a future version.  Convert to a numpy array before indexing instead.\n",
            "  \"\"\"Entry point for launching an IPython kernel.\n"
          ]
        },
        {
          "output_type": "stream",
          "name": "stdout",
          "text": [
            "5/5 [==============================] - 1s 4ms/step - loss: 2.9704e-07 - accuracy: 0.1636\n"
          ]
        },
        {
          "output_type": "execute_result",
          "data": {
            "text/plain": [
              "0.16356107592582703"
            ]
          },
          "metadata": {},
          "execution_count": 110
        }
      ]
    },
    {
      "cell_type": "code",
      "source": [
        ""
      ],
      "metadata": {
        "id": "b9UdBmvj8f1F"
      },
      "execution_count": null,
      "outputs": []
    }
  ]
}